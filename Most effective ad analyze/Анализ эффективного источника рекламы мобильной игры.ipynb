{
 "cells": [
  {
   "cell_type": "markdown",
   "metadata": {},
   "source": [
    "# Анализ рекламных источников"
   ]
  },
  {
   "cell_type": "markdown",
   "metadata": {},
   "source": [
    "## Предобработка данных"
   ]
  },
  {
   "cell_type": "code",
   "execution_count": 1,
   "metadata": {},
   "outputs": [],
   "source": [
    "import pandas as pd\n",
    "import matplotlib.pyplot as plt\n",
    "import scipy.stats as st\n",
    "from datetime import timedelta"
   ]
  },
  {
   "cell_type": "code",
   "execution_count": 2,
   "metadata": {},
   "outputs": [],
   "source": [
    "game_actions = pd.read_csv('game_actions.csv')"
   ]
  },
  {
   "cell_type": "code",
   "execution_count": 3,
   "metadata": {},
   "outputs": [
    {
     "name": "stdout",
     "output_type": "stream",
     "text": [
      "<class 'pandas.core.frame.DataFrame'>\n",
      "RangeIndex: 135640 entries, 0 to 135639\n",
      "Data columns (total 5 columns):\n",
      " #   Column          Non-Null Count   Dtype \n",
      "---  ------          --------------   ----- \n",
      " 0   event_datetime  135640 non-null  object\n",
      " 1   event           135640 non-null  object\n",
      " 2   building_type   127957 non-null  object\n",
      " 3   user_id         135640 non-null  object\n",
      " 4   project_type    1866 non-null    object\n",
      "dtypes: object(5)\n",
      "memory usage: 5.2+ MB\n"
     ]
    }
   ],
   "source": [
    "game_actions.info()"
   ]
  },
  {
   "cell_type": "code",
   "execution_count": 4,
   "metadata": {},
   "outputs": [
    {
     "data": {
      "text/html": [
       "<div>\n",
       "<style scoped>\n",
       "    .dataframe tbody tr th:only-of-type {\n",
       "        vertical-align: middle;\n",
       "    }\n",
       "\n",
       "    .dataframe tbody tr th {\n",
       "        vertical-align: top;\n",
       "    }\n",
       "\n",
       "    .dataframe thead th {\n",
       "        text-align: right;\n",
       "    }\n",
       "</style>\n",
       "<table border=\"1\" class=\"dataframe\">\n",
       "  <thead>\n",
       "    <tr style=\"text-align: right;\">\n",
       "      <th></th>\n",
       "      <th>event_datetime</th>\n",
       "      <th>event</th>\n",
       "      <th>building_type</th>\n",
       "      <th>user_id</th>\n",
       "      <th>project_type</th>\n",
       "    </tr>\n",
       "  </thead>\n",
       "  <tbody>\n",
       "    <tr>\n",
       "      <th>0</th>\n",
       "      <td>2020-05-04 00:00:01</td>\n",
       "      <td>building</td>\n",
       "      <td>assembly_shop</td>\n",
       "      <td>55e92310-cb8e-4754-b622-597e124b03de</td>\n",
       "      <td>NaN</td>\n",
       "    </tr>\n",
       "    <tr>\n",
       "      <th>1</th>\n",
       "      <td>2020-05-04 00:00:03</td>\n",
       "      <td>building</td>\n",
       "      <td>assembly_shop</td>\n",
       "      <td>c07b1c10-f477-44dc-81dc-ec82254b1347</td>\n",
       "      <td>NaN</td>\n",
       "    </tr>\n",
       "    <tr>\n",
       "      <th>2</th>\n",
       "      <td>2020-05-04 00:00:16</td>\n",
       "      <td>building</td>\n",
       "      <td>assembly_shop</td>\n",
       "      <td>6edd42cc-e753-4ff6-a947-2107cd560710</td>\n",
       "      <td>NaN</td>\n",
       "    </tr>\n",
       "    <tr>\n",
       "      <th>3</th>\n",
       "      <td>2020-05-04 00:00:16</td>\n",
       "      <td>building</td>\n",
       "      <td>assembly_shop</td>\n",
       "      <td>92c69003-d60a-444a-827f-8cc51bf6bf4c</td>\n",
       "      <td>NaN</td>\n",
       "    </tr>\n",
       "    <tr>\n",
       "      <th>4</th>\n",
       "      <td>2020-05-04 00:00:35</td>\n",
       "      <td>building</td>\n",
       "      <td>assembly_shop</td>\n",
       "      <td>cdc6bb92-0ccb-4490-9866-ef142f09139d</td>\n",
       "      <td>NaN</td>\n",
       "    </tr>\n",
       "  </tbody>\n",
       "</table>\n",
       "</div>"
      ],
      "text/plain": [
       "        event_datetime     event  building_type  \\\n",
       "0  2020-05-04 00:00:01  building  assembly_shop   \n",
       "1  2020-05-04 00:00:03  building  assembly_shop   \n",
       "2  2020-05-04 00:00:16  building  assembly_shop   \n",
       "3  2020-05-04 00:00:16  building  assembly_shop   \n",
       "4  2020-05-04 00:00:35  building  assembly_shop   \n",
       "\n",
       "                                user_id project_type  \n",
       "0  55e92310-cb8e-4754-b622-597e124b03de          NaN  \n",
       "1  c07b1c10-f477-44dc-81dc-ec82254b1347          NaN  \n",
       "2  6edd42cc-e753-4ff6-a947-2107cd560710          NaN  \n",
       "3  92c69003-d60a-444a-827f-8cc51bf6bf4c          NaN  \n",
       "4  cdc6bb92-0ccb-4490-9866-ef142f09139d          NaN  "
      ]
     },
     "execution_count": 4,
     "metadata": {},
     "output_type": "execute_result"
    }
   ],
   "source": [
    "game_actions.head()"
   ]
  },
  {
   "cell_type": "code",
   "execution_count": 5,
   "metadata": {},
   "outputs": [],
   "source": [
    "game_actions['event_datetime'] = pd.to_datetime(game_actions['event_datetime'])"
   ]
  },
  {
   "cell_type": "code",
   "execution_count": 6,
   "metadata": {},
   "outputs": [
    {
     "data": {
      "text/plain": [
       "1"
      ]
     },
     "execution_count": 6,
     "metadata": {},
     "output_type": "execute_result"
    }
   ],
   "source": [
    "game_actions.duplicated().sum()"
   ]
  },
  {
   "cell_type": "code",
   "execution_count": 7,
   "metadata": {},
   "outputs": [],
   "source": [
    "game_actions = game_actions.drop_duplicates()"
   ]
  },
  {
   "cell_type": "code",
   "execution_count": 8,
   "metadata": {},
   "outputs": [
    {
     "data": {
      "text/plain": [
       "array(['finished_stage_1', 'project'], dtype=object)"
      ]
     },
     "execution_count": 8,
     "metadata": {},
     "output_type": "execute_result"
    }
   ],
   "source": [
    "game_actions[game_actions['building_type'].isna()]['event'].unique()"
   ]
  },
  {
   "cell_type": "code",
   "execution_count": 9,
   "metadata": {},
   "outputs": [
    {
     "data": {
      "text/plain": [
       "array(['building', 'finished_stage_1'], dtype=object)"
      ]
     },
     "execution_count": 9,
     "metadata": {},
     "output_type": "execute_result"
    }
   ],
   "source": [
    "game_actions[game_actions['project_type'].isna()]['event'].unique()"
   ]
  },
  {
   "cell_type": "markdown",
   "metadata": {},
   "source": [
    "Считаем пропуски в building_type и project_type \"полезными\", т.к. значения ивентов, соответствующих пропускам, не предполагают наличия каких-либо значений в данных колонках."
   ]
  },
  {
   "cell_type": "code",
   "execution_count": 10,
   "metadata": {},
   "outputs": [],
   "source": [
    "ad_costs = pd.read_csv('ad_costs.csv')"
   ]
  },
  {
   "cell_type": "code",
   "execution_count": 11,
   "metadata": {},
   "outputs": [
    {
     "name": "stdout",
     "output_type": "stream",
     "text": [
      "<class 'pandas.core.frame.DataFrame'>\n",
      "RangeIndex: 28 entries, 0 to 27\n",
      "Data columns (total 3 columns):\n",
      " #   Column  Non-Null Count  Dtype  \n",
      "---  ------  --------------  -----  \n",
      " 0   source  28 non-null     object \n",
      " 1   day     28 non-null     object \n",
      " 2   cost    28 non-null     float64\n",
      "dtypes: float64(1), object(2)\n",
      "memory usage: 800.0+ bytes\n"
     ]
    }
   ],
   "source": [
    "ad_costs.info()"
   ]
  },
  {
   "cell_type": "code",
   "execution_count": 12,
   "metadata": {},
   "outputs": [
    {
     "data": {
      "text/html": [
       "<div>\n",
       "<style scoped>\n",
       "    .dataframe tbody tr th:only-of-type {\n",
       "        vertical-align: middle;\n",
       "    }\n",
       "\n",
       "    .dataframe tbody tr th {\n",
       "        vertical-align: top;\n",
       "    }\n",
       "\n",
       "    .dataframe thead th {\n",
       "        text-align: right;\n",
       "    }\n",
       "</style>\n",
       "<table border=\"1\" class=\"dataframe\">\n",
       "  <thead>\n",
       "    <tr style=\"text-align: right;\">\n",
       "      <th></th>\n",
       "      <th>source</th>\n",
       "      <th>day</th>\n",
       "      <th>cost</th>\n",
       "    </tr>\n",
       "  </thead>\n",
       "  <tbody>\n",
       "    <tr>\n",
       "      <th>0</th>\n",
       "      <td>facebook_ads</td>\n",
       "      <td>2020-05-03</td>\n",
       "      <td>935.882786</td>\n",
       "    </tr>\n",
       "    <tr>\n",
       "      <th>1</th>\n",
       "      <td>facebook_ads</td>\n",
       "      <td>2020-05-04</td>\n",
       "      <td>548.354480</td>\n",
       "    </tr>\n",
       "    <tr>\n",
       "      <th>2</th>\n",
       "      <td>facebook_ads</td>\n",
       "      <td>2020-05-05</td>\n",
       "      <td>260.185754</td>\n",
       "    </tr>\n",
       "    <tr>\n",
       "      <th>3</th>\n",
       "      <td>facebook_ads</td>\n",
       "      <td>2020-05-06</td>\n",
       "      <td>177.982200</td>\n",
       "    </tr>\n",
       "    <tr>\n",
       "      <th>4</th>\n",
       "      <td>facebook_ads</td>\n",
       "      <td>2020-05-07</td>\n",
       "      <td>111.766796</td>\n",
       "    </tr>\n",
       "    <tr>\n",
       "      <th>5</th>\n",
       "      <td>facebook_ads</td>\n",
       "      <td>2020-05-08</td>\n",
       "      <td>68.009276</td>\n",
       "    </tr>\n",
       "    <tr>\n",
       "      <th>6</th>\n",
       "      <td>facebook_ads</td>\n",
       "      <td>2020-05-09</td>\n",
       "      <td>38.723350</td>\n",
       "    </tr>\n",
       "    <tr>\n",
       "      <th>7</th>\n",
       "      <td>instagram_new_adverts</td>\n",
       "      <td>2020-05-03</td>\n",
       "      <td>943.204717</td>\n",
       "    </tr>\n",
       "    <tr>\n",
       "      <th>8</th>\n",
       "      <td>instagram_new_adverts</td>\n",
       "      <td>2020-05-04</td>\n",
       "      <td>502.925451</td>\n",
       "    </tr>\n",
       "    <tr>\n",
       "      <th>9</th>\n",
       "      <td>instagram_new_adverts</td>\n",
       "      <td>2020-05-05</td>\n",
       "      <td>313.970984</td>\n",
       "    </tr>\n",
       "    <tr>\n",
       "      <th>10</th>\n",
       "      <td>instagram_new_adverts</td>\n",
       "      <td>2020-05-06</td>\n",
       "      <td>173.071145</td>\n",
       "    </tr>\n",
       "    <tr>\n",
       "      <th>11</th>\n",
       "      <td>instagram_new_adverts</td>\n",
       "      <td>2020-05-07</td>\n",
       "      <td>109.915254</td>\n",
       "    </tr>\n",
       "    <tr>\n",
       "      <th>12</th>\n",
       "      <td>instagram_new_adverts</td>\n",
       "      <td>2020-05-08</td>\n",
       "      <td>71.578739</td>\n",
       "    </tr>\n",
       "    <tr>\n",
       "      <th>13</th>\n",
       "      <td>instagram_new_adverts</td>\n",
       "      <td>2020-05-09</td>\n",
       "      <td>46.775400</td>\n",
       "    </tr>\n",
       "    <tr>\n",
       "      <th>14</th>\n",
       "      <td>yandex_direct</td>\n",
       "      <td>2020-05-03</td>\n",
       "      <td>969.139394</td>\n",
       "    </tr>\n",
       "    <tr>\n",
       "      <th>15</th>\n",
       "      <td>yandex_direct</td>\n",
       "      <td>2020-05-04</td>\n",
       "      <td>554.651494</td>\n",
       "    </tr>\n",
       "    <tr>\n",
       "      <th>16</th>\n",
       "      <td>yandex_direct</td>\n",
       "      <td>2020-05-05</td>\n",
       "      <td>308.232990</td>\n",
       "    </tr>\n",
       "    <tr>\n",
       "      <th>17</th>\n",
       "      <td>yandex_direct</td>\n",
       "      <td>2020-05-06</td>\n",
       "      <td>180.917099</td>\n",
       "    </tr>\n",
       "    <tr>\n",
       "      <th>18</th>\n",
       "      <td>yandex_direct</td>\n",
       "      <td>2020-05-07</td>\n",
       "      <td>114.429338</td>\n",
       "    </tr>\n",
       "    <tr>\n",
       "      <th>19</th>\n",
       "      <td>yandex_direct</td>\n",
       "      <td>2020-05-08</td>\n",
       "      <td>62.961630</td>\n",
       "    </tr>\n",
       "    <tr>\n",
       "      <th>20</th>\n",
       "      <td>yandex_direct</td>\n",
       "      <td>2020-05-09</td>\n",
       "      <td>42.779505</td>\n",
       "    </tr>\n",
       "    <tr>\n",
       "      <th>21</th>\n",
       "      <td>youtube_channel_reklama</td>\n",
       "      <td>2020-05-03</td>\n",
       "      <td>454.224943</td>\n",
       "    </tr>\n",
       "    <tr>\n",
       "      <th>22</th>\n",
       "      <td>youtube_channel_reklama</td>\n",
       "      <td>2020-05-04</td>\n",
       "      <td>259.073224</td>\n",
       "    </tr>\n",
       "    <tr>\n",
       "      <th>23</th>\n",
       "      <td>youtube_channel_reklama</td>\n",
       "      <td>2020-05-05</td>\n",
       "      <td>147.041741</td>\n",
       "    </tr>\n",
       "    <tr>\n",
       "      <th>24</th>\n",
       "      <td>youtube_channel_reklama</td>\n",
       "      <td>2020-05-06</td>\n",
       "      <td>88.506074</td>\n",
       "    </tr>\n",
       "    <tr>\n",
       "      <th>25</th>\n",
       "      <td>youtube_channel_reklama</td>\n",
       "      <td>2020-05-07</td>\n",
       "      <td>55.740645</td>\n",
       "    </tr>\n",
       "    <tr>\n",
       "      <th>26</th>\n",
       "      <td>youtube_channel_reklama</td>\n",
       "      <td>2020-05-08</td>\n",
       "      <td>40.217907</td>\n",
       "    </tr>\n",
       "    <tr>\n",
       "      <th>27</th>\n",
       "      <td>youtube_channel_reklama</td>\n",
       "      <td>2020-05-09</td>\n",
       "      <td>23.314669</td>\n",
       "    </tr>\n",
       "  </tbody>\n",
       "</table>\n",
       "</div>"
      ],
      "text/plain": [
       "                     source         day        cost\n",
       "0              facebook_ads  2020-05-03  935.882786\n",
       "1              facebook_ads  2020-05-04  548.354480\n",
       "2              facebook_ads  2020-05-05  260.185754\n",
       "3              facebook_ads  2020-05-06  177.982200\n",
       "4              facebook_ads  2020-05-07  111.766796\n",
       "5              facebook_ads  2020-05-08   68.009276\n",
       "6              facebook_ads  2020-05-09   38.723350\n",
       "7     instagram_new_adverts  2020-05-03  943.204717\n",
       "8     instagram_new_adverts  2020-05-04  502.925451\n",
       "9     instagram_new_adverts  2020-05-05  313.970984\n",
       "10    instagram_new_adverts  2020-05-06  173.071145\n",
       "11    instagram_new_adverts  2020-05-07  109.915254\n",
       "12    instagram_new_adverts  2020-05-08   71.578739\n",
       "13    instagram_new_adverts  2020-05-09   46.775400\n",
       "14            yandex_direct  2020-05-03  969.139394\n",
       "15            yandex_direct  2020-05-04  554.651494\n",
       "16            yandex_direct  2020-05-05  308.232990\n",
       "17            yandex_direct  2020-05-06  180.917099\n",
       "18            yandex_direct  2020-05-07  114.429338\n",
       "19            yandex_direct  2020-05-08   62.961630\n",
       "20            yandex_direct  2020-05-09   42.779505\n",
       "21  youtube_channel_reklama  2020-05-03  454.224943\n",
       "22  youtube_channel_reklama  2020-05-04  259.073224\n",
       "23  youtube_channel_reklama  2020-05-05  147.041741\n",
       "24  youtube_channel_reklama  2020-05-06   88.506074\n",
       "25  youtube_channel_reklama  2020-05-07   55.740645\n",
       "26  youtube_channel_reklama  2020-05-08   40.217907\n",
       "27  youtube_channel_reklama  2020-05-09   23.314669"
      ]
     },
     "execution_count": 12,
     "metadata": {},
     "output_type": "execute_result"
    }
   ],
   "source": [
    "ad_costs"
   ]
  },
  {
   "cell_type": "code",
   "execution_count": 13,
   "metadata": {},
   "outputs": [],
   "source": [
    "ad_costs['day'] = pd.to_datetime(ad_costs['day'])"
   ]
  },
  {
   "cell_type": "code",
   "execution_count": 14,
   "metadata": {},
   "outputs": [
    {
     "name": "stdout",
     "output_type": "stream",
     "text": [
      "<class 'pandas.core.frame.DataFrame'>\n",
      "RangeIndex: 28 entries, 0 to 27\n",
      "Data columns (total 3 columns):\n",
      " #   Column  Non-Null Count  Dtype         \n",
      "---  ------  --------------  -----         \n",
      " 0   source  28 non-null     object        \n",
      " 1   day     28 non-null     datetime64[ns]\n",
      " 2   cost    28 non-null     float64       \n",
      "dtypes: datetime64[ns](1), float64(1), object(1)\n",
      "memory usage: 800.0+ bytes\n"
     ]
    }
   ],
   "source": [
    "ad_costs.info()"
   ]
  },
  {
   "cell_type": "code",
   "execution_count": 15,
   "metadata": {},
   "outputs": [],
   "source": [
    "user_source = pd.read_csv('user_source.csv')"
   ]
  },
  {
   "cell_type": "code",
   "execution_count": 16,
   "metadata": {},
   "outputs": [
    {
     "name": "stdout",
     "output_type": "stream",
     "text": [
      "<class 'pandas.core.frame.DataFrame'>\n",
      "RangeIndex: 13576 entries, 0 to 13575\n",
      "Data columns (total 2 columns):\n",
      " #   Column   Non-Null Count  Dtype \n",
      "---  ------   --------------  ----- \n",
      " 0   user_id  13576 non-null  object\n",
      " 1   source   13576 non-null  object\n",
      "dtypes: object(2)\n",
      "memory usage: 212.2+ KB\n"
     ]
    }
   ],
   "source": [
    "user_source.info()"
   ]
  },
  {
   "cell_type": "code",
   "execution_count": 17,
   "metadata": {},
   "outputs": [
    {
     "data": {
      "text/html": [
       "<div>\n",
       "<style scoped>\n",
       "    .dataframe tbody tr th:only-of-type {\n",
       "        vertical-align: middle;\n",
       "    }\n",
       "\n",
       "    .dataframe tbody tr th {\n",
       "        vertical-align: top;\n",
       "    }\n",
       "\n",
       "    .dataframe thead th {\n",
       "        text-align: right;\n",
       "    }\n",
       "</style>\n",
       "<table border=\"1\" class=\"dataframe\">\n",
       "  <thead>\n",
       "    <tr style=\"text-align: right;\">\n",
       "      <th></th>\n",
       "      <th>user_id</th>\n",
       "      <th>source</th>\n",
       "    </tr>\n",
       "  </thead>\n",
       "  <tbody>\n",
       "    <tr>\n",
       "      <th>0</th>\n",
       "      <td>0001f83c-c6ac-4621-b7f0-8a28b283ac30</td>\n",
       "      <td>facebook_ads</td>\n",
       "    </tr>\n",
       "    <tr>\n",
       "      <th>1</th>\n",
       "      <td>00151b4f-ba38-44a8-a650-d7cf130a0105</td>\n",
       "      <td>yandex_direct</td>\n",
       "    </tr>\n",
       "    <tr>\n",
       "      <th>2</th>\n",
       "      <td>001aaea6-3d14-43f1-8ca8-7f48820f17aa</td>\n",
       "      <td>youtube_channel_reklama</td>\n",
       "    </tr>\n",
       "    <tr>\n",
       "      <th>3</th>\n",
       "      <td>001d39dc-366c-4021-9604-6a3b9ff01e25</td>\n",
       "      <td>instagram_new_adverts</td>\n",
       "    </tr>\n",
       "    <tr>\n",
       "      <th>4</th>\n",
       "      <td>002f508f-67b6-479f-814b-b05f00d4e995</td>\n",
       "      <td>facebook_ads</td>\n",
       "    </tr>\n",
       "  </tbody>\n",
       "</table>\n",
       "</div>"
      ],
      "text/plain": [
       "                                user_id                   source\n",
       "0  0001f83c-c6ac-4621-b7f0-8a28b283ac30             facebook_ads\n",
       "1  00151b4f-ba38-44a8-a650-d7cf130a0105            yandex_direct\n",
       "2  001aaea6-3d14-43f1-8ca8-7f48820f17aa  youtube_channel_reklama\n",
       "3  001d39dc-366c-4021-9604-6a3b9ff01e25    instagram_new_adverts\n",
       "4  002f508f-67b6-479f-814b-b05f00d4e995             facebook_ads"
      ]
     },
     "execution_count": 17,
     "metadata": {},
     "output_type": "execute_result"
    }
   ],
   "source": [
    "user_source.head()"
   ]
  },
  {
   "cell_type": "markdown",
   "metadata": {},
   "source": [
    "### Вывод"
   ]
  },
  {
   "cell_type": "markdown",
   "metadata": {},
   "source": [
    "Загрузили и предобработали данные. Привели стоблцы с датами к нужным типам, определили, что пропуски в game_actions.csv не баг и не ошибка."
   ]
  },
  {
   "cell_type": "markdown",
   "metadata": {},
   "source": [
    "## Исследовательский анализ данных"
   ]
  },
  {
   "cell_type": "code",
   "execution_count": 18,
   "metadata": {},
   "outputs": [],
   "source": [
    "users = game_actions.groupby('user_id').agg({'event':'count'}).reset_index().sort_values(by='event',ascending=False)"
   ]
  },
  {
   "cell_type": "code",
   "execution_count": 19,
   "metadata": {},
   "outputs": [
    {
     "name": "stdout",
     "output_type": "stream",
     "text": [
      "<class 'pandas.core.frame.DataFrame'>\n",
      "Int64Index: 13576 entries, 11329 to 6009\n",
      "Data columns (total 2 columns):\n",
      " #   Column   Non-Null Count  Dtype \n",
      "---  ------   --------------  ----- \n",
      " 0   user_id  13576 non-null  object\n",
      " 1   event    13576 non-null  int64 \n",
      "dtypes: int64(1), object(1)\n",
      "memory usage: 318.2+ KB\n"
     ]
    }
   ],
   "source": [
    "users.info()"
   ]
  },
  {
   "cell_type": "code",
   "execution_count": 20,
   "metadata": {},
   "outputs": [
    {
     "data": {
      "image/png": "[encoded data removed]",
      "text/plain": [
       "<Figure size 1080x648 with 1 Axes>"
      ]
     },
     "metadata": {
      "needs_background": "light"
     },
     "output_type": "display_data"
    }
   ],
   "source": [
    "users['event'].hist(figsize=(15,9))\n",
    "plt.title('Гистограмма событий на пользователя')\n",
    "plt.xlabel('Количество ивентов на пользователя')\n",
    "plt.ylabel('Количество пользователей')\n",
    "None"
   ]
  },
  {
   "cell_type": "code",
   "execution_count": 21,
   "metadata": {},
   "outputs": [
    {
     "data": {
      "text/plain": [
       "10.0"
      ]
     },
     "execution_count": 21,
     "metadata": {},
     "output_type": "execute_result"
    }
   ],
   "source": [
    "users['event'].median()"
   ]
  },
  {
   "cell_type": "code",
   "execution_count": 22,
   "metadata": {},
   "outputs": [
    {
     "data": {
      "text/plain": [
       "Timestamp('2020-05-04 00:00:01')"
      ]
     },
     "execution_count": 22,
     "metadata": {},
     "output_type": "execute_result"
    }
   ],
   "source": [
    "game_actions['event_datetime'].min()"
   ]
  },
  {
   "cell_type": "code",
   "execution_count": 23,
   "metadata": {},
   "outputs": [
    {
     "data": {
      "text/plain": [
       "Timestamp('2020-06-05 12:32:49')"
      ]
     },
     "execution_count": 23,
     "metadata": {},
     "output_type": "execute_result"
    }
   ],
   "source": [
    "game_actions['event_datetime'].max()"
   ]
  },
  {
   "cell_type": "markdown",
   "metadata": {},
   "source": [
    "В среднем на пользователя приходится 10 ивентов, общее количество уникальных пользователей 13576, данные представлены за период  2020-05-04 00:00:01 - 2020-06-05 12:32:49."
   ]
  },
  {
   "cell_type": "markdown",
   "metadata": {},
   "source": [
    "Создадим пользовательские профили"
   ]
  },
  {
   "cell_type": "code",
   "execution_count": 24,
   "metadata": {},
   "outputs": [],
   "source": [
    "game_actions_w_ad = game_actions.merge(user_source , on=['user_id'], how='left')"
   ]
  },
  {
   "cell_type": "code",
   "execution_count": 25,
   "metadata": {},
   "outputs": [
    {
     "data": {
      "text/html": [
       "<div>\n",
       "<style scoped>\n",
       "    .dataframe tbody tr th:only-of-type {\n",
       "        vertical-align: middle;\n",
       "    }\n",
       "\n",
       "    .dataframe tbody tr th {\n",
       "        vertical-align: top;\n",
       "    }\n",
       "\n",
       "    .dataframe thead th {\n",
       "        text-align: right;\n",
       "    }\n",
       "</style>\n",
       "<table border=\"1\" class=\"dataframe\">\n",
       "  <thead>\n",
       "    <tr style=\"text-align: right;\">\n",
       "      <th></th>\n",
       "      <th>event_datetime</th>\n",
       "      <th>event</th>\n",
       "      <th>building_type</th>\n",
       "      <th>user_id</th>\n",
       "      <th>project_type</th>\n",
       "      <th>source</th>\n",
       "    </tr>\n",
       "  </thead>\n",
       "  <tbody>\n",
       "    <tr>\n",
       "      <th>0</th>\n",
       "      <td>2020-05-04 00:00:01</td>\n",
       "      <td>building</td>\n",
       "      <td>assembly_shop</td>\n",
       "      <td>55e92310-cb8e-4754-b622-597e124b03de</td>\n",
       "      <td>NaN</td>\n",
       "      <td>youtube_channel_reklama</td>\n",
       "    </tr>\n",
       "    <tr>\n",
       "      <th>1</th>\n",
       "      <td>2020-05-04 00:00:03</td>\n",
       "      <td>building</td>\n",
       "      <td>assembly_shop</td>\n",
       "      <td>c07b1c10-f477-44dc-81dc-ec82254b1347</td>\n",
       "      <td>NaN</td>\n",
       "      <td>facebook_ads</td>\n",
       "    </tr>\n",
       "    <tr>\n",
       "      <th>2</th>\n",
       "      <td>2020-05-04 00:00:16</td>\n",
       "      <td>building</td>\n",
       "      <td>assembly_shop</td>\n",
       "      <td>6edd42cc-e753-4ff6-a947-2107cd560710</td>\n",
       "      <td>NaN</td>\n",
       "      <td>instagram_new_adverts</td>\n",
       "    </tr>\n",
       "    <tr>\n",
       "      <th>3</th>\n",
       "      <td>2020-05-04 00:00:16</td>\n",
       "      <td>building</td>\n",
       "      <td>assembly_shop</td>\n",
       "      <td>92c69003-d60a-444a-827f-8cc51bf6bf4c</td>\n",
       "      <td>NaN</td>\n",
       "      <td>facebook_ads</td>\n",
       "    </tr>\n",
       "    <tr>\n",
       "      <th>4</th>\n",
       "      <td>2020-05-04 00:00:35</td>\n",
       "      <td>building</td>\n",
       "      <td>assembly_shop</td>\n",
       "      <td>cdc6bb92-0ccb-4490-9866-ef142f09139d</td>\n",
       "      <td>NaN</td>\n",
       "      <td>yandex_direct</td>\n",
       "    </tr>\n",
       "  </tbody>\n",
       "</table>\n",
       "</div>"
      ],
      "text/plain": [
       "       event_datetime     event  building_type  \\\n",
       "0 2020-05-04 00:00:01  building  assembly_shop   \n",
       "1 2020-05-04 00:00:03  building  assembly_shop   \n",
       "2 2020-05-04 00:00:16  building  assembly_shop   \n",
       "3 2020-05-04 00:00:16  building  assembly_shop   \n",
       "4 2020-05-04 00:00:35  building  assembly_shop   \n",
       "\n",
       "                                user_id project_type                   source  \n",
       "0  55e92310-cb8e-4754-b622-597e124b03de          NaN  youtube_channel_reklama  \n",
       "1  c07b1c10-f477-44dc-81dc-ec82254b1347          NaN             facebook_ads  \n",
       "2  6edd42cc-e753-4ff6-a947-2107cd560710          NaN    instagram_new_adverts  \n",
       "3  92c69003-d60a-444a-827f-8cc51bf6bf4c          NaN             facebook_ads  \n",
       "4  cdc6bb92-0ccb-4490-9866-ef142f09139d          NaN            yandex_direct  "
      ]
     },
     "execution_count": 25,
     "metadata": {},
     "output_type": "execute_result"
    }
   ],
   "source": [
    "game_actions_w_ad.head()"
   ]
  },
  {
   "cell_type": "code",
   "execution_count": 26,
   "metadata": {},
   "outputs": [],
   "source": [
    "profiles = game_actions_w_ad.groupby(['user_id','source']).agg({'event':'count','event_datetime':['first','last']}).reset_index()"
   ]
  },
  {
   "cell_type": "code",
   "execution_count": 27,
   "metadata": {},
   "outputs": [],
   "source": [
    "profiles.columns = profiles.columns.droplevel()"
   ]
  },
  {
   "cell_type": "code",
   "execution_count": 28,
   "metadata": {},
   "outputs": [],
   "source": [
    "profiles.columns=['user_id','source','events_count','first_ts','last_ts']"
   ]
  },
  {
   "cell_type": "code",
   "execution_count": 29,
   "metadata": {},
   "outputs": [],
   "source": [
    "profiles['lifetime'] = (profiles['last_ts'] - profiles['first_ts']).dt.days"
   ]
  },
  {
   "cell_type": "code",
   "execution_count": 30,
   "metadata": {},
   "outputs": [],
   "source": [
    "profiles['first_day'] = profiles['first_ts'].dt.date\n",
    "profiles['first_day'] = pd.to_datetime(profiles['first_day'])"
   ]
  },
  {
   "cell_type": "code",
   "execution_count": 31,
   "metadata": {},
   "outputs": [
    {
     "data": {
      "text/html": [
       "<div>\n",
       "<style scoped>\n",
       "    .dataframe tbody tr th:only-of-type {\n",
       "        vertical-align: middle;\n",
       "    }\n",
       "\n",
       "    .dataframe tbody tr th {\n",
       "        vertical-align: top;\n",
       "    }\n",
       "\n",
       "    .dataframe thead th {\n",
       "        text-align: right;\n",
       "    }\n",
       "</style>\n",
       "<table border=\"1\" class=\"dataframe\">\n",
       "  <thead>\n",
       "    <tr style=\"text-align: right;\">\n",
       "      <th></th>\n",
       "      <th>user_id</th>\n",
       "      <th>source</th>\n",
       "      <th>events_count</th>\n",
       "      <th>first_ts</th>\n",
       "      <th>last_ts</th>\n",
       "      <th>lifetime</th>\n",
       "      <th>first_day</th>\n",
       "    </tr>\n",
       "  </thead>\n",
       "  <tbody>\n",
       "    <tr>\n",
       "      <th>0</th>\n",
       "      <td>0001f83c-c6ac-4621-b7f0-8a28b283ac30</td>\n",
       "      <td>facebook_ads</td>\n",
       "      <td>13</td>\n",
       "      <td>2020-05-06 01:07:37</td>\n",
       "      <td>2020-05-20 11:26:06</td>\n",
       "      <td>14</td>\n",
       "      <td>2020-05-06</td>\n",
       "    </tr>\n",
       "    <tr>\n",
       "      <th>1</th>\n",
       "      <td>00151b4f-ba38-44a8-a650-d7cf130a0105</td>\n",
       "      <td>yandex_direct</td>\n",
       "      <td>9</td>\n",
       "      <td>2020-05-06 03:09:12</td>\n",
       "      <td>2020-05-18 10:46:52</td>\n",
       "      <td>12</td>\n",
       "      <td>2020-05-06</td>\n",
       "    </tr>\n",
       "    <tr>\n",
       "      <th>2</th>\n",
       "      <td>001aaea6-3d14-43f1-8ca8-7f48820f17aa</td>\n",
       "      <td>youtube_channel_reklama</td>\n",
       "      <td>4</td>\n",
       "      <td>2020-05-05 18:08:52</td>\n",
       "      <td>2020-05-14 09:21:27</td>\n",
       "      <td>8</td>\n",
       "      <td>2020-05-05</td>\n",
       "    </tr>\n",
       "    <tr>\n",
       "      <th>3</th>\n",
       "      <td>001d39dc-366c-4021-9604-6a3b9ff01e25</td>\n",
       "      <td>instagram_new_adverts</td>\n",
       "      <td>9</td>\n",
       "      <td>2020-05-05 21:02:05</td>\n",
       "      <td>2020-05-12 07:40:47</td>\n",
       "      <td>6</td>\n",
       "      <td>2020-05-05</td>\n",
       "    </tr>\n",
       "    <tr>\n",
       "      <th>4</th>\n",
       "      <td>002f508f-67b6-479f-814b-b05f00d4e995</td>\n",
       "      <td>facebook_ads</td>\n",
       "      <td>12</td>\n",
       "      <td>2020-05-05 13:49:58</td>\n",
       "      <td>2020-05-22 02:46:45</td>\n",
       "      <td>16</td>\n",
       "      <td>2020-05-05</td>\n",
       "    </tr>\n",
       "  </tbody>\n",
       "</table>\n",
       "</div>"
      ],
      "text/plain": [
       "                                user_id                   source  \\\n",
       "0  0001f83c-c6ac-4621-b7f0-8a28b283ac30             facebook_ads   \n",
       "1  00151b4f-ba38-44a8-a650-d7cf130a0105            yandex_direct   \n",
       "2  001aaea6-3d14-43f1-8ca8-7f48820f17aa  youtube_channel_reklama   \n",
       "3  001d39dc-366c-4021-9604-6a3b9ff01e25    instagram_new_adverts   \n",
       "4  002f508f-67b6-479f-814b-b05f00d4e995             facebook_ads   \n",
       "\n",
       "   events_count            first_ts             last_ts  lifetime  first_day  \n",
       "0            13 2020-05-06 01:07:37 2020-05-20 11:26:06        14 2020-05-06  \n",
       "1             9 2020-05-06 03:09:12 2020-05-18 10:46:52        12 2020-05-06  \n",
       "2             4 2020-05-05 18:08:52 2020-05-14 09:21:27         8 2020-05-05  \n",
       "3             9 2020-05-05 21:02:05 2020-05-12 07:40:47         6 2020-05-05  \n",
       "4            12 2020-05-05 13:49:58 2020-05-22 02:46:45        16 2020-05-05  "
      ]
     },
     "execution_count": 31,
     "metadata": {},
     "output_type": "execute_result"
    }
   ],
   "source": [
    "profiles.head()"
   ]
  },
  {
   "cell_type": "markdown",
   "metadata": {},
   "source": [
    "Посчитаем стоимость привлечения каждого пользователя. Пользователи начали приходить с 04.05.2020, а рекламные расходы числятся с 03.05.2020. Создадим новую таблицу на основе таблицы с тратами на рекламу, в которой искусственно сдвинем даты затрат на рекламу на 1 день, чтобы сматчить с данными по пользователским профилям и посчитать CAC."
   ]
  },
  {
   "cell_type": "code",
   "execution_count": 32,
   "metadata": {},
   "outputs": [
    {
     "data": {
      "text/html": [
       "<div>\n",
       "<style scoped>\n",
       "    .dataframe tbody tr th:only-of-type {\n",
       "        vertical-align: middle;\n",
       "    }\n",
       "\n",
       "    .dataframe tbody tr th {\n",
       "        vertical-align: top;\n",
       "    }\n",
       "\n",
       "    .dataframe thead th {\n",
       "        text-align: right;\n",
       "    }\n",
       "</style>\n",
       "<table border=\"1\" class=\"dataframe\">\n",
       "  <thead>\n",
       "    <tr style=\"text-align: right;\">\n",
       "      <th></th>\n",
       "      <th>source</th>\n",
       "      <th>day</th>\n",
       "      <th>cost</th>\n",
       "    </tr>\n",
       "  </thead>\n",
       "  <tbody>\n",
       "    <tr>\n",
       "      <th>0</th>\n",
       "      <td>facebook_ads</td>\n",
       "      <td>2020-05-03</td>\n",
       "      <td>935.882786</td>\n",
       "    </tr>\n",
       "    <tr>\n",
       "      <th>1</th>\n",
       "      <td>facebook_ads</td>\n",
       "      <td>2020-05-04</td>\n",
       "      <td>548.354480</td>\n",
       "    </tr>\n",
       "    <tr>\n",
       "      <th>2</th>\n",
       "      <td>facebook_ads</td>\n",
       "      <td>2020-05-05</td>\n",
       "      <td>260.185754</td>\n",
       "    </tr>\n",
       "    <tr>\n",
       "      <th>3</th>\n",
       "      <td>facebook_ads</td>\n",
       "      <td>2020-05-06</td>\n",
       "      <td>177.982200</td>\n",
       "    </tr>\n",
       "    <tr>\n",
       "      <th>4</th>\n",
       "      <td>facebook_ads</td>\n",
       "      <td>2020-05-07</td>\n",
       "      <td>111.766796</td>\n",
       "    </tr>\n",
       "    <tr>\n",
       "      <th>5</th>\n",
       "      <td>facebook_ads</td>\n",
       "      <td>2020-05-08</td>\n",
       "      <td>68.009276</td>\n",
       "    </tr>\n",
       "    <tr>\n",
       "      <th>6</th>\n",
       "      <td>facebook_ads</td>\n",
       "      <td>2020-05-09</td>\n",
       "      <td>38.723350</td>\n",
       "    </tr>\n",
       "    <tr>\n",
       "      <th>7</th>\n",
       "      <td>instagram_new_adverts</td>\n",
       "      <td>2020-05-03</td>\n",
       "      <td>943.204717</td>\n",
       "    </tr>\n",
       "    <tr>\n",
       "      <th>8</th>\n",
       "      <td>instagram_new_adverts</td>\n",
       "      <td>2020-05-04</td>\n",
       "      <td>502.925451</td>\n",
       "    </tr>\n",
       "    <tr>\n",
       "      <th>9</th>\n",
       "      <td>instagram_new_adverts</td>\n",
       "      <td>2020-05-05</td>\n",
       "      <td>313.970984</td>\n",
       "    </tr>\n",
       "    <tr>\n",
       "      <th>10</th>\n",
       "      <td>instagram_new_adverts</td>\n",
       "      <td>2020-05-06</td>\n",
       "      <td>173.071145</td>\n",
       "    </tr>\n",
       "    <tr>\n",
       "      <th>11</th>\n",
       "      <td>instagram_new_adverts</td>\n",
       "      <td>2020-05-07</td>\n",
       "      <td>109.915254</td>\n",
       "    </tr>\n",
       "    <tr>\n",
       "      <th>12</th>\n",
       "      <td>instagram_new_adverts</td>\n",
       "      <td>2020-05-08</td>\n",
       "      <td>71.578739</td>\n",
       "    </tr>\n",
       "    <tr>\n",
       "      <th>13</th>\n",
       "      <td>instagram_new_adverts</td>\n",
       "      <td>2020-05-09</td>\n",
       "      <td>46.775400</td>\n",
       "    </tr>\n",
       "    <tr>\n",
       "      <th>14</th>\n",
       "      <td>yandex_direct</td>\n",
       "      <td>2020-05-03</td>\n",
       "      <td>969.139394</td>\n",
       "    </tr>\n",
       "    <tr>\n",
       "      <th>15</th>\n",
       "      <td>yandex_direct</td>\n",
       "      <td>2020-05-04</td>\n",
       "      <td>554.651494</td>\n",
       "    </tr>\n",
       "    <tr>\n",
       "      <th>16</th>\n",
       "      <td>yandex_direct</td>\n",
       "      <td>2020-05-05</td>\n",
       "      <td>308.232990</td>\n",
       "    </tr>\n",
       "    <tr>\n",
       "      <th>17</th>\n",
       "      <td>yandex_direct</td>\n",
       "      <td>2020-05-06</td>\n",
       "      <td>180.917099</td>\n",
       "    </tr>\n",
       "    <tr>\n",
       "      <th>18</th>\n",
       "      <td>yandex_direct</td>\n",
       "      <td>2020-05-07</td>\n",
       "      <td>114.429338</td>\n",
       "    </tr>\n",
       "    <tr>\n",
       "      <th>19</th>\n",
       "      <td>yandex_direct</td>\n",
       "      <td>2020-05-08</td>\n",
       "      <td>62.961630</td>\n",
       "    </tr>\n",
       "    <tr>\n",
       "      <th>20</th>\n",
       "      <td>yandex_direct</td>\n",
       "      <td>2020-05-09</td>\n",
       "      <td>42.779505</td>\n",
       "    </tr>\n",
       "    <tr>\n",
       "      <th>21</th>\n",
       "      <td>youtube_channel_reklama</td>\n",
       "      <td>2020-05-03</td>\n",
       "      <td>454.224943</td>\n",
       "    </tr>\n",
       "    <tr>\n",
       "      <th>22</th>\n",
       "      <td>youtube_channel_reklama</td>\n",
       "      <td>2020-05-04</td>\n",
       "      <td>259.073224</td>\n",
       "    </tr>\n",
       "    <tr>\n",
       "      <th>23</th>\n",
       "      <td>youtube_channel_reklama</td>\n",
       "      <td>2020-05-05</td>\n",
       "      <td>147.041741</td>\n",
       "    </tr>\n",
       "    <tr>\n",
       "      <th>24</th>\n",
       "      <td>youtube_channel_reklama</td>\n",
       "      <td>2020-05-06</td>\n",
       "      <td>88.506074</td>\n",
       "    </tr>\n",
       "    <tr>\n",
       "      <th>25</th>\n",
       "      <td>youtube_channel_reklama</td>\n",
       "      <td>2020-05-07</td>\n",
       "      <td>55.740645</td>\n",
       "    </tr>\n",
       "    <tr>\n",
       "      <th>26</th>\n",
       "      <td>youtube_channel_reklama</td>\n",
       "      <td>2020-05-08</td>\n",
       "      <td>40.217907</td>\n",
       "    </tr>\n",
       "    <tr>\n",
       "      <th>27</th>\n",
       "      <td>youtube_channel_reklama</td>\n",
       "      <td>2020-05-09</td>\n",
       "      <td>23.314669</td>\n",
       "    </tr>\n",
       "  </tbody>\n",
       "</table>\n",
       "</div>"
      ],
      "text/plain": [
       "                     source        day        cost\n",
       "0              facebook_ads 2020-05-03  935.882786\n",
       "1              facebook_ads 2020-05-04  548.354480\n",
       "2              facebook_ads 2020-05-05  260.185754\n",
       "3              facebook_ads 2020-05-06  177.982200\n",
       "4              facebook_ads 2020-05-07  111.766796\n",
       "5              facebook_ads 2020-05-08   68.009276\n",
       "6              facebook_ads 2020-05-09   38.723350\n",
       "7     instagram_new_adverts 2020-05-03  943.204717\n",
       "8     instagram_new_adverts 2020-05-04  502.925451\n",
       "9     instagram_new_adverts 2020-05-05  313.970984\n",
       "10    instagram_new_adverts 2020-05-06  173.071145\n",
       "11    instagram_new_adverts 2020-05-07  109.915254\n",
       "12    instagram_new_adverts 2020-05-08   71.578739\n",
       "13    instagram_new_adverts 2020-05-09   46.775400\n",
       "14            yandex_direct 2020-05-03  969.139394\n",
       "15            yandex_direct 2020-05-04  554.651494\n",
       "16            yandex_direct 2020-05-05  308.232990\n",
       "17            yandex_direct 2020-05-06  180.917099\n",
       "18            yandex_direct 2020-05-07  114.429338\n",
       "19            yandex_direct 2020-05-08   62.961630\n",
       "20            yandex_direct 2020-05-09   42.779505\n",
       "21  youtube_channel_reklama 2020-05-03  454.224943\n",
       "22  youtube_channel_reklama 2020-05-04  259.073224\n",
       "23  youtube_channel_reklama 2020-05-05  147.041741\n",
       "24  youtube_channel_reklama 2020-05-06   88.506074\n",
       "25  youtube_channel_reklama 2020-05-07   55.740645\n",
       "26  youtube_channel_reklama 2020-05-08   40.217907\n",
       "27  youtube_channel_reklama 2020-05-09   23.314669"
      ]
     },
     "execution_count": 32,
     "metadata": {},
     "output_type": "execute_result"
    }
   ],
   "source": [
    "ad_costs_w_cac = ad_costs\n",
    "ad_costs_w_cac"
   ]
  },
  {
   "cell_type": "code",
   "execution_count": 33,
   "metadata": {},
   "outputs": [],
   "source": [
    "ad_costs_w_cac['day'] = ad_costs_w_cac['day'] + timedelta(days=1)"
   ]
  },
  {
   "cell_type": "code",
   "execution_count": 34,
   "metadata": {},
   "outputs": [
    {
     "data": {
      "text/html": [
       "<div>\n",
       "<style scoped>\n",
       "    .dataframe tbody tr th:only-of-type {\n",
       "        vertical-align: middle;\n",
       "    }\n",
       "\n",
       "    .dataframe tbody tr th {\n",
       "        vertical-align: top;\n",
       "    }\n",
       "\n",
       "    .dataframe thead th {\n",
       "        text-align: right;\n",
       "    }\n",
       "</style>\n",
       "<table border=\"1\" class=\"dataframe\">\n",
       "  <thead>\n",
       "    <tr style=\"text-align: right;\">\n",
       "      <th></th>\n",
       "      <th>source</th>\n",
       "      <th>day</th>\n",
       "      <th>cost</th>\n",
       "    </tr>\n",
       "  </thead>\n",
       "  <tbody>\n",
       "    <tr>\n",
       "      <th>0</th>\n",
       "      <td>facebook_ads</td>\n",
       "      <td>2020-05-04</td>\n",
       "      <td>935.882786</td>\n",
       "    </tr>\n",
       "    <tr>\n",
       "      <th>1</th>\n",
       "      <td>facebook_ads</td>\n",
       "      <td>2020-05-05</td>\n",
       "      <td>548.354480</td>\n",
       "    </tr>\n",
       "    <tr>\n",
       "      <th>2</th>\n",
       "      <td>facebook_ads</td>\n",
       "      <td>2020-05-06</td>\n",
       "      <td>260.185754</td>\n",
       "    </tr>\n",
       "    <tr>\n",
       "      <th>3</th>\n",
       "      <td>facebook_ads</td>\n",
       "      <td>2020-05-07</td>\n",
       "      <td>177.982200</td>\n",
       "    </tr>\n",
       "    <tr>\n",
       "      <th>4</th>\n",
       "      <td>facebook_ads</td>\n",
       "      <td>2020-05-08</td>\n",
       "      <td>111.766796</td>\n",
       "    </tr>\n",
       "  </tbody>\n",
       "</table>\n",
       "</div>"
      ],
      "text/plain": [
       "         source        day        cost\n",
       "0  facebook_ads 2020-05-04  935.882786\n",
       "1  facebook_ads 2020-05-05  548.354480\n",
       "2  facebook_ads 2020-05-06  260.185754\n",
       "3  facebook_ads 2020-05-07  177.982200\n",
       "4  facebook_ads 2020-05-08  111.766796"
      ]
     },
     "execution_count": 34,
     "metadata": {},
     "output_type": "execute_result"
    }
   ],
   "source": [
    "ad_costs_w_cac.head()"
   ]
  },
  {
   "cell_type": "code",
   "execution_count": 35,
   "metadata": {},
   "outputs": [],
   "source": [
    "cohorts = profiles.groupby(['first_day','source']).agg({'user_id':'count'}).reset_index().rename(columns={'first_day':'day','user_id':'cohort_size'})"
   ]
  },
  {
   "cell_type": "code",
   "execution_count": 36,
   "metadata": {},
   "outputs": [
    {
     "data": {
      "text/html": [
       "<div>\n",
       "<style scoped>\n",
       "    .dataframe tbody tr th:only-of-type {\n",
       "        vertical-align: middle;\n",
       "    }\n",
       "\n",
       "    .dataframe tbody tr th {\n",
       "        vertical-align: top;\n",
       "    }\n",
       "\n",
       "    .dataframe thead th {\n",
       "        text-align: right;\n",
       "    }\n",
       "</style>\n",
       "<table border=\"1\" class=\"dataframe\">\n",
       "  <thead>\n",
       "    <tr style=\"text-align: right;\">\n",
       "      <th></th>\n",
       "      <th>day</th>\n",
       "      <th>source</th>\n",
       "      <th>cohort_size</th>\n",
       "    </tr>\n",
       "  </thead>\n",
       "  <tbody>\n",
       "    <tr>\n",
       "      <th>0</th>\n",
       "      <td>2020-05-04</td>\n",
       "      <td>facebook_ads</td>\n",
       "      <td>1184</td>\n",
       "    </tr>\n",
       "    <tr>\n",
       "      <th>1</th>\n",
       "      <td>2020-05-04</td>\n",
       "      <td>instagram_new_adverts</td>\n",
       "      <td>1452</td>\n",
       "    </tr>\n",
       "    <tr>\n",
       "      <th>2</th>\n",
       "      <td>2020-05-04</td>\n",
       "      <td>yandex_direct</td>\n",
       "      <td>2078</td>\n",
       "    </tr>\n",
       "    <tr>\n",
       "      <th>3</th>\n",
       "      <td>2020-05-04</td>\n",
       "      <td>youtube_channel_reklama</td>\n",
       "      <td>1146</td>\n",
       "    </tr>\n",
       "    <tr>\n",
       "      <th>4</th>\n",
       "      <td>2020-05-05</td>\n",
       "      <td>facebook_ads</td>\n",
       "      <td>694</td>\n",
       "    </tr>\n",
       "  </tbody>\n",
       "</table>\n",
       "</div>"
      ],
      "text/plain": [
       "         day                   source  cohort_size\n",
       "0 2020-05-04             facebook_ads         1184\n",
       "1 2020-05-04    instagram_new_adverts         1452\n",
       "2 2020-05-04            yandex_direct         2078\n",
       "3 2020-05-04  youtube_channel_reklama         1146\n",
       "4 2020-05-05             facebook_ads          694"
      ]
     },
     "execution_count": 36,
     "metadata": {},
     "output_type": "execute_result"
    }
   ],
   "source": [
    "cohorts.head()"
   ]
  },
  {
   "cell_type": "code",
   "execution_count": 37,
   "metadata": {},
   "outputs": [
    {
     "name": "stdout",
     "output_type": "stream",
     "text": [
      "<class 'pandas.core.frame.DataFrame'>\n",
      "RangeIndex: 28 entries, 0 to 27\n",
      "Data columns (total 3 columns):\n",
      " #   Column       Non-Null Count  Dtype         \n",
      "---  ------       --------------  -----         \n",
      " 0   day          28 non-null     datetime64[ns]\n",
      " 1   source       28 non-null     object        \n",
      " 2   cohort_size  28 non-null     int64         \n",
      "dtypes: datetime64[ns](1), int64(1), object(1)\n",
      "memory usage: 800.0+ bytes\n"
     ]
    }
   ],
   "source": [
    "cohorts.info()"
   ]
  },
  {
   "cell_type": "code",
   "execution_count": 38,
   "metadata": {},
   "outputs": [],
   "source": [
    "ad_costs_w_cac = ad_costs_w_cac.merge(cohorts,on=['day','source'])"
   ]
  },
  {
   "cell_type": "code",
   "execution_count": 39,
   "metadata": {},
   "outputs": [],
   "source": [
    "ad_costs_w_cac['CAC'] = ad_costs_w_cac['cost']/ad_costs_w_cac['cohort_size']"
   ]
  },
  {
   "cell_type": "code",
   "execution_count": 40,
   "metadata": {},
   "outputs": [
    {
     "data": {
      "text/html": [
       "<div>\n",
       "<style scoped>\n",
       "    .dataframe tbody tr th:only-of-type {\n",
       "        vertical-align: middle;\n",
       "    }\n",
       "\n",
       "    .dataframe tbody tr th {\n",
       "        vertical-align: top;\n",
       "    }\n",
       "\n",
       "    .dataframe thead th {\n",
       "        text-align: right;\n",
       "    }\n",
       "</style>\n",
       "<table border=\"1\" class=\"dataframe\">\n",
       "  <thead>\n",
       "    <tr style=\"text-align: right;\">\n",
       "      <th></th>\n",
       "      <th>source</th>\n",
       "      <th>day</th>\n",
       "      <th>cost</th>\n",
       "      <th>cohort_size</th>\n",
       "      <th>CAC</th>\n",
       "    </tr>\n",
       "  </thead>\n",
       "  <tbody>\n",
       "    <tr>\n",
       "      <th>0</th>\n",
       "      <td>facebook_ads</td>\n",
       "      <td>2020-05-04</td>\n",
       "      <td>935.882786</td>\n",
       "      <td>1184</td>\n",
       "      <td>0.790442</td>\n",
       "    </tr>\n",
       "    <tr>\n",
       "      <th>1</th>\n",
       "      <td>facebook_ads</td>\n",
       "      <td>2020-05-05</td>\n",
       "      <td>548.354480</td>\n",
       "      <td>694</td>\n",
       "      <td>0.790136</td>\n",
       "    </tr>\n",
       "    <tr>\n",
       "      <th>2</th>\n",
       "      <td>facebook_ads</td>\n",
       "      <td>2020-05-06</td>\n",
       "      <td>260.185754</td>\n",
       "      <td>345</td>\n",
       "      <td>0.754162</td>\n",
       "    </tr>\n",
       "    <tr>\n",
       "      <th>3</th>\n",
       "      <td>facebook_ads</td>\n",
       "      <td>2020-05-07</td>\n",
       "      <td>177.982200</td>\n",
       "      <td>224</td>\n",
       "      <td>0.794563</td>\n",
       "    </tr>\n",
       "    <tr>\n",
       "      <th>4</th>\n",
       "      <td>facebook_ads</td>\n",
       "      <td>2020-05-08</td>\n",
       "      <td>111.766796</td>\n",
       "      <td>139</td>\n",
       "      <td>0.804078</td>\n",
       "    </tr>\n",
       "  </tbody>\n",
       "</table>\n",
       "</div>"
      ],
      "text/plain": [
       "         source        day        cost  cohort_size       CAC\n",
       "0  facebook_ads 2020-05-04  935.882786         1184  0.790442\n",
       "1  facebook_ads 2020-05-05  548.354480          694  0.790136\n",
       "2  facebook_ads 2020-05-06  260.185754          345  0.754162\n",
       "3  facebook_ads 2020-05-07  177.982200          224  0.794563\n",
       "4  facebook_ads 2020-05-08  111.766796          139  0.804078"
      ]
     },
     "execution_count": 40,
     "metadata": {},
     "output_type": "execute_result"
    }
   ],
   "source": [
    "ad_costs_w_cac.head()"
   ]
  },
  {
   "cell_type": "code",
   "execution_count": 41,
   "metadata": {},
   "outputs": [],
   "source": [
    "ad_costs_w_cac = ad_costs_w_cac.rename(columns={'day':'first_day'})"
   ]
  },
  {
   "cell_type": "code",
   "execution_count": 42,
   "metadata": {},
   "outputs": [],
   "source": [
    "profiles = profiles.merge(ad_costs_w_cac[['source','first_day','cohort_size','CAC']],on=['first_day','source'])"
   ]
  },
  {
   "cell_type": "code",
   "execution_count": 43,
   "metadata": {
    "scrolled": true
   },
   "outputs": [
    {
     "data": {
      "text/html": [
       "<div>\n",
       "<style scoped>\n",
       "    .dataframe tbody tr th:only-of-type {\n",
       "        vertical-align: middle;\n",
       "    }\n",
       "\n",
       "    .dataframe tbody tr th {\n",
       "        vertical-align: top;\n",
       "    }\n",
       "\n",
       "    .dataframe thead th {\n",
       "        text-align: right;\n",
       "    }\n",
       "</style>\n",
       "<table border=\"1\" class=\"dataframe\">\n",
       "  <thead>\n",
       "    <tr style=\"text-align: right;\">\n",
       "      <th></th>\n",
       "      <th>user_id</th>\n",
       "      <th>source</th>\n",
       "      <th>events_count</th>\n",
       "      <th>first_ts</th>\n",
       "      <th>last_ts</th>\n",
       "      <th>lifetime</th>\n",
       "      <th>first_day</th>\n",
       "      <th>cohort_size</th>\n",
       "      <th>CAC</th>\n",
       "    </tr>\n",
       "  </thead>\n",
       "  <tbody>\n",
       "    <tr>\n",
       "      <th>0</th>\n",
       "      <td>0001f83c-c6ac-4621-b7f0-8a28b283ac30</td>\n",
       "      <td>facebook_ads</td>\n",
       "      <td>13</td>\n",
       "      <td>2020-05-06 01:07:37</td>\n",
       "      <td>2020-05-20 11:26:06</td>\n",
       "      <td>14</td>\n",
       "      <td>2020-05-06</td>\n",
       "      <td>345</td>\n",
       "      <td>0.754162</td>\n",
       "    </tr>\n",
       "    <tr>\n",
       "      <th>1</th>\n",
       "      <td>01303c2e-7de1-4742-8c3e-daf182b67b9f</td>\n",
       "      <td>facebook_ads</td>\n",
       "      <td>4</td>\n",
       "      <td>2020-05-06 07:05:11</td>\n",
       "      <td>2020-05-08 22:30:49</td>\n",
       "      <td>2</td>\n",
       "      <td>2020-05-06</td>\n",
       "      <td>345</td>\n",
       "      <td>0.754162</td>\n",
       "    </tr>\n",
       "    <tr>\n",
       "      <th>2</th>\n",
       "      <td>0136963c-c45c-4edb-92d8-205bd50a4d36</td>\n",
       "      <td>facebook_ads</td>\n",
       "      <td>12</td>\n",
       "      <td>2020-05-06 14:00:20</td>\n",
       "      <td>2020-05-25 08:56:48</td>\n",
       "      <td>18</td>\n",
       "      <td>2020-05-06</td>\n",
       "      <td>345</td>\n",
       "      <td>0.754162</td>\n",
       "    </tr>\n",
       "    <tr>\n",
       "      <th>3</th>\n",
       "      <td>018793d6-38c8-450a-bd54-8c181d920f1a</td>\n",
       "      <td>facebook_ads</td>\n",
       "      <td>14</td>\n",
       "      <td>2020-05-06 07:05:52</td>\n",
       "      <td>2020-05-24 23:52:53</td>\n",
       "      <td>18</td>\n",
       "      <td>2020-05-06</td>\n",
       "      <td>345</td>\n",
       "      <td>0.754162</td>\n",
       "    </tr>\n",
       "    <tr>\n",
       "      <th>4</th>\n",
       "      <td>01e2b256-4519-493f-b010-4a90a2755245</td>\n",
       "      <td>facebook_ads</td>\n",
       "      <td>9</td>\n",
       "      <td>2020-05-06 22:16:07</td>\n",
       "      <td>2020-05-21 04:52:31</td>\n",
       "      <td>14</td>\n",
       "      <td>2020-05-06</td>\n",
       "      <td>345</td>\n",
       "      <td>0.754162</td>\n",
       "    </tr>\n",
       "  </tbody>\n",
       "</table>\n",
       "</div>"
      ],
      "text/plain": [
       "                                user_id        source  events_count  \\\n",
       "0  0001f83c-c6ac-4621-b7f0-8a28b283ac30  facebook_ads            13   \n",
       "1  01303c2e-7de1-4742-8c3e-daf182b67b9f  facebook_ads             4   \n",
       "2  0136963c-c45c-4edb-92d8-205bd50a4d36  facebook_ads            12   \n",
       "3  018793d6-38c8-450a-bd54-8c181d920f1a  facebook_ads            14   \n",
       "4  01e2b256-4519-493f-b010-4a90a2755245  facebook_ads             9   \n",
       "\n",
       "             first_ts             last_ts  lifetime  first_day  cohort_size  \\\n",
       "0 2020-05-06 01:07:37 2020-05-20 11:26:06        14 2020-05-06          345   \n",
       "1 2020-05-06 07:05:11 2020-05-08 22:30:49         2 2020-05-06          345   \n",
       "2 2020-05-06 14:00:20 2020-05-25 08:56:48        18 2020-05-06          345   \n",
       "3 2020-05-06 07:05:52 2020-05-24 23:52:53        18 2020-05-06          345   \n",
       "4 2020-05-06 22:16:07 2020-05-21 04:52:31        14 2020-05-06          345   \n",
       "\n",
       "        CAC  \n",
       "0  0.754162  \n",
       "1  0.754162  \n",
       "2  0.754162  \n",
       "3  0.754162  \n",
       "4  0.754162  "
      ]
     },
     "execution_count": 43,
     "metadata": {},
     "output_type": "execute_result"
    }
   ],
   "source": [
    "profiles.head()"
   ]
  },
  {
   "cell_type": "markdown",
   "metadata": {},
   "source": [
    "Дополнили пользовательские профили стоимостью привлечения и размером когорты. Теперь нужно добавить данные о прохождении 1 уровня."
   ]
  },
  {
   "cell_type": "code",
   "execution_count": 44,
   "metadata": {},
   "outputs": [],
   "source": [
    "def finished_stage_1(row):\n",
    "    if row['event']=='finished_stage_1':\n",
    "          return True\n",
    "    else:\n",
    "        return False"
   ]
  },
  {
   "cell_type": "code",
   "execution_count": 45,
   "metadata": {},
   "outputs": [],
   "source": [
    "game_actions['finished_stage_1'] = game_actions.apply(finished_stage_1,axis=1)"
   ]
  },
  {
   "cell_type": "code",
   "execution_count": 46,
   "metadata": {},
   "outputs": [
    {
     "data": {
      "text/html": [
       "<div>\n",
       "<style scoped>\n",
       "    .dataframe tbody tr th:only-of-type {\n",
       "        vertical-align: middle;\n",
       "    }\n",
       "\n",
       "    .dataframe tbody tr th {\n",
       "        vertical-align: top;\n",
       "    }\n",
       "\n",
       "    .dataframe thead th {\n",
       "        text-align: right;\n",
       "    }\n",
       "</style>\n",
       "<table border=\"1\" class=\"dataframe\">\n",
       "  <thead>\n",
       "    <tr style=\"text-align: right;\">\n",
       "      <th></th>\n",
       "      <th>event_datetime</th>\n",
       "      <th>event</th>\n",
       "      <th>building_type</th>\n",
       "      <th>user_id</th>\n",
       "      <th>project_type</th>\n",
       "      <th>finished_stage_1</th>\n",
       "    </tr>\n",
       "  </thead>\n",
       "  <tbody>\n",
       "    <tr>\n",
       "      <th>6659</th>\n",
       "      <td>2020-05-04 19:47:29</td>\n",
       "      <td>finished_stage_1</td>\n",
       "      <td>NaN</td>\n",
       "      <td>ced7b368-818f-48f6-9461-2346de0892c5</td>\n",
       "      <td>NaN</td>\n",
       "      <td>True</td>\n",
       "    </tr>\n",
       "    <tr>\n",
       "      <th>13134</th>\n",
       "      <td>2020-05-05 13:22:09</td>\n",
       "      <td>finished_stage_1</td>\n",
       "      <td>NaN</td>\n",
       "      <td>7ef7fc89-2779-46ea-b328-9e5035b83af5</td>\n",
       "      <td>NaN</td>\n",
       "      <td>True</td>\n",
       "    </tr>\n",
       "    <tr>\n",
       "      <th>15274</th>\n",
       "      <td>2020-05-05 18:54:37</td>\n",
       "      <td>finished_stage_1</td>\n",
       "      <td>NaN</td>\n",
       "      <td>70db22b3-c2f4-43bc-94ea-51c8d2904a29</td>\n",
       "      <td>NaN</td>\n",
       "      <td>True</td>\n",
       "    </tr>\n",
       "    <tr>\n",
       "      <th>16284</th>\n",
       "      <td>2020-05-05 21:27:29</td>\n",
       "      <td>finished_stage_1</td>\n",
       "      <td>NaN</td>\n",
       "      <td>903fc9ef-ba97-4b12-9d5c-ac8d602fbd8b</td>\n",
       "      <td>NaN</td>\n",
       "      <td>True</td>\n",
       "    </tr>\n",
       "    <tr>\n",
       "      <th>19650</th>\n",
       "      <td>2020-05-06 06:02:22</td>\n",
       "      <td>finished_stage_1</td>\n",
       "      <td>NaN</td>\n",
       "      <td>58e077ba-feb1-4556-a5a0-d96bd04efa39</td>\n",
       "      <td>NaN</td>\n",
       "      <td>True</td>\n",
       "    </tr>\n",
       "  </tbody>\n",
       "</table>\n",
       "</div>"
      ],
      "text/plain": [
       "           event_datetime             event building_type  \\\n",
       "6659  2020-05-04 19:47:29  finished_stage_1           NaN   \n",
       "13134 2020-05-05 13:22:09  finished_stage_1           NaN   \n",
       "15274 2020-05-05 18:54:37  finished_stage_1           NaN   \n",
       "16284 2020-05-05 21:27:29  finished_stage_1           NaN   \n",
       "19650 2020-05-06 06:02:22  finished_stage_1           NaN   \n",
       "\n",
       "                                    user_id project_type  finished_stage_1  \n",
       "6659   ced7b368-818f-48f6-9461-2346de0892c5          NaN              True  \n",
       "13134  7ef7fc89-2779-46ea-b328-9e5035b83af5          NaN              True  \n",
       "15274  70db22b3-c2f4-43bc-94ea-51c8d2904a29          NaN              True  \n",
       "16284  903fc9ef-ba97-4b12-9d5c-ac8d602fbd8b          NaN              True  \n",
       "19650  58e077ba-feb1-4556-a5a0-d96bd04efa39          NaN              True  "
      ]
     },
     "execution_count": 46,
     "metadata": {},
     "output_type": "execute_result"
    }
   ],
   "source": [
    "game_actions[game_actions['event']=='finished_stage_1'].head()"
   ]
  },
  {
   "cell_type": "code",
   "execution_count": 47,
   "metadata": {},
   "outputs": [],
   "source": [
    "users_finished_1 = game_actions.groupby('user_id').agg({'finished_stage_1':'sum'}).reset_index()"
   ]
  },
  {
   "cell_type": "code",
   "execution_count": 48,
   "metadata": {},
   "outputs": [],
   "source": [
    "users_finished_1 = users_finished_1[users_finished_1['finished_stage_1']==1]"
   ]
  },
  {
   "cell_type": "code",
   "execution_count": 49,
   "metadata": {},
   "outputs": [
    {
     "data": {
      "text/html": [
       "<div>\n",
       "<style scoped>\n",
       "    .dataframe tbody tr th:only-of-type {\n",
       "        vertical-align: middle;\n",
       "    }\n",
       "\n",
       "    .dataframe tbody tr th {\n",
       "        vertical-align: top;\n",
       "    }\n",
       "\n",
       "    .dataframe thead th {\n",
       "        text-align: right;\n",
       "    }\n",
       "</style>\n",
       "<table border=\"1\" class=\"dataframe\">\n",
       "  <thead>\n",
       "    <tr style=\"text-align: right;\">\n",
       "      <th></th>\n",
       "      <th>user_id</th>\n",
       "      <th>finished_stage_1</th>\n",
       "    </tr>\n",
       "  </thead>\n",
       "  <tbody>\n",
       "    <tr>\n",
       "      <th>3</th>\n",
       "      <td>001d39dc-366c-4021-9604-6a3b9ff01e25</td>\n",
       "      <td>1</td>\n",
       "    </tr>\n",
       "    <tr>\n",
       "      <th>6</th>\n",
       "      <td>003ee7e8-6356-4286-a715-62f22a18d2a1</td>\n",
       "      <td>1</td>\n",
       "    </tr>\n",
       "    <tr>\n",
       "      <th>7</th>\n",
       "      <td>004074f8-251a-4776-922c-8348dca1a2f6</td>\n",
       "      <td>1</td>\n",
       "    </tr>\n",
       "    <tr>\n",
       "      <th>9</th>\n",
       "      <td>00464e5e-28ed-4be6-bf44-517ef7b3937b</td>\n",
       "      <td>1</td>\n",
       "    </tr>\n",
       "    <tr>\n",
       "      <th>10</th>\n",
       "      <td>0056c007-c082-43cc-bdef-afc49bca4cb9</td>\n",
       "      <td>1</td>\n",
       "    </tr>\n",
       "  </tbody>\n",
       "</table>\n",
       "</div>"
      ],
      "text/plain": [
       "                                 user_id  finished_stage_1\n",
       "3   001d39dc-366c-4021-9604-6a3b9ff01e25                 1\n",
       "6   003ee7e8-6356-4286-a715-62f22a18d2a1                 1\n",
       "7   004074f8-251a-4776-922c-8348dca1a2f6                 1\n",
       "9   00464e5e-28ed-4be6-bf44-517ef7b3937b                 1\n",
       "10  0056c007-c082-43cc-bdef-afc49bca4cb9                 1"
      ]
     },
     "execution_count": 49,
     "metadata": {},
     "output_type": "execute_result"
    }
   ],
   "source": [
    "users_finished_1.head()"
   ]
  },
  {
   "cell_type": "code",
   "execution_count": 50,
   "metadata": {},
   "outputs": [],
   "source": [
    "profiles = profiles.merge(users_finished_1,on=['user_id'],how='left')"
   ]
  },
  {
   "cell_type": "code",
   "execution_count": 51,
   "metadata": {
    "scrolled": true
   },
   "outputs": [],
   "source": [
    "profiles['finished_stage_1'] = profiles['finished_stage_1'].fillna(0).astype('int')"
   ]
  },
  {
   "cell_type": "code",
   "execution_count": 52,
   "metadata": {},
   "outputs": [
    {
     "data": {
      "text/html": [
       "<div>\n",
       "<style scoped>\n",
       "    .dataframe tbody tr th:only-of-type {\n",
       "        vertical-align: middle;\n",
       "    }\n",
       "\n",
       "    .dataframe tbody tr th {\n",
       "        vertical-align: top;\n",
       "    }\n",
       "\n",
       "    .dataframe thead th {\n",
       "        text-align: right;\n",
       "    }\n",
       "</style>\n",
       "<table border=\"1\" class=\"dataframe\">\n",
       "  <thead>\n",
       "    <tr style=\"text-align: right;\">\n",
       "      <th></th>\n",
       "      <th>user_id</th>\n",
       "      <th>source</th>\n",
       "      <th>events_count</th>\n",
       "      <th>first_ts</th>\n",
       "      <th>last_ts</th>\n",
       "      <th>lifetime</th>\n",
       "      <th>first_day</th>\n",
       "      <th>cohort_size</th>\n",
       "      <th>CAC</th>\n",
       "      <th>finished_stage_1</th>\n",
       "    </tr>\n",
       "  </thead>\n",
       "  <tbody>\n",
       "    <tr>\n",
       "      <th>0</th>\n",
       "      <td>0001f83c-c6ac-4621-b7f0-8a28b283ac30</td>\n",
       "      <td>facebook_ads</td>\n",
       "      <td>13</td>\n",
       "      <td>2020-05-06 01:07:37</td>\n",
       "      <td>2020-05-20 11:26:06</td>\n",
       "      <td>14</td>\n",
       "      <td>2020-05-06</td>\n",
       "      <td>345</td>\n",
       "      <td>0.754162</td>\n",
       "      <td>0</td>\n",
       "    </tr>\n",
       "    <tr>\n",
       "      <th>1</th>\n",
       "      <td>01303c2e-7de1-4742-8c3e-daf182b67b9f</td>\n",
       "      <td>facebook_ads</td>\n",
       "      <td>4</td>\n",
       "      <td>2020-05-06 07:05:11</td>\n",
       "      <td>2020-05-08 22:30:49</td>\n",
       "      <td>2</td>\n",
       "      <td>2020-05-06</td>\n",
       "      <td>345</td>\n",
       "      <td>0.754162</td>\n",
       "      <td>0</td>\n",
       "    </tr>\n",
       "    <tr>\n",
       "      <th>2</th>\n",
       "      <td>0136963c-c45c-4edb-92d8-205bd50a4d36</td>\n",
       "      <td>facebook_ads</td>\n",
       "      <td>12</td>\n",
       "      <td>2020-05-06 14:00:20</td>\n",
       "      <td>2020-05-25 08:56:48</td>\n",
       "      <td>18</td>\n",
       "      <td>2020-05-06</td>\n",
       "      <td>345</td>\n",
       "      <td>0.754162</td>\n",
       "      <td>1</td>\n",
       "    </tr>\n",
       "    <tr>\n",
       "      <th>3</th>\n",
       "      <td>018793d6-38c8-450a-bd54-8c181d920f1a</td>\n",
       "      <td>facebook_ads</td>\n",
       "      <td>14</td>\n",
       "      <td>2020-05-06 07:05:52</td>\n",
       "      <td>2020-05-24 23:52:53</td>\n",
       "      <td>18</td>\n",
       "      <td>2020-05-06</td>\n",
       "      <td>345</td>\n",
       "      <td>0.754162</td>\n",
       "      <td>1</td>\n",
       "    </tr>\n",
       "    <tr>\n",
       "      <th>4</th>\n",
       "      <td>01e2b256-4519-493f-b010-4a90a2755245</td>\n",
       "      <td>facebook_ads</td>\n",
       "      <td>9</td>\n",
       "      <td>2020-05-06 22:16:07</td>\n",
       "      <td>2020-05-21 04:52:31</td>\n",
       "      <td>14</td>\n",
       "      <td>2020-05-06</td>\n",
       "      <td>345</td>\n",
       "      <td>0.754162</td>\n",
       "      <td>0</td>\n",
       "    </tr>\n",
       "    <tr>\n",
       "      <th>...</th>\n",
       "      <td>...</td>\n",
       "      <td>...</td>\n",
       "      <td>...</td>\n",
       "      <td>...</td>\n",
       "      <td>...</td>\n",
       "      <td>...</td>\n",
       "      <td>...</td>\n",
       "      <td>...</td>\n",
       "      <td>...</td>\n",
       "      <td>...</td>\n",
       "    </tr>\n",
       "    <tr>\n",
       "      <th>13571</th>\n",
       "      <td>f904bb06-e8f9-4aef-8773-5a47f12ac103</td>\n",
       "      <td>yandex_direct</td>\n",
       "      <td>5</td>\n",
       "      <td>2020-05-08 15:11:26</td>\n",
       "      <td>2020-05-12 21:07:54</td>\n",
       "      <td>4</td>\n",
       "      <td>2020-05-08</td>\n",
       "      <td>239</td>\n",
       "      <td>0.478784</td>\n",
       "      <td>0</td>\n",
       "    </tr>\n",
       "    <tr>\n",
       "      <th>13572</th>\n",
       "      <td>fa1ffc17-0032-4b4d-ac0d-6c75b890db9e</td>\n",
       "      <td>yandex_direct</td>\n",
       "      <td>12</td>\n",
       "      <td>2020-05-08 06:17:28</td>\n",
       "      <td>2020-05-24 12:50:48</td>\n",
       "      <td>16</td>\n",
       "      <td>2020-05-08</td>\n",
       "      <td>239</td>\n",
       "      <td>0.478784</td>\n",
       "      <td>1</td>\n",
       "    </tr>\n",
       "    <tr>\n",
       "      <th>13573</th>\n",
       "      <td>fd7d35ce-430b-40e0-a325-9d2b27b425e5</td>\n",
       "      <td>yandex_direct</td>\n",
       "      <td>9</td>\n",
       "      <td>2020-05-08 23:59:00</td>\n",
       "      <td>2020-05-25 00:18:28</td>\n",
       "      <td>16</td>\n",
       "      <td>2020-05-08</td>\n",
       "      <td>239</td>\n",
       "      <td>0.478784</td>\n",
       "      <td>1</td>\n",
       "    </tr>\n",
       "    <tr>\n",
       "      <th>13574</th>\n",
       "      <td>fec9a806-0291-4d46-914b-e4dd14ad3864</td>\n",
       "      <td>yandex_direct</td>\n",
       "      <td>10</td>\n",
       "      <td>2020-05-08 23:44:14</td>\n",
       "      <td>2020-05-20 01:25:10</td>\n",
       "      <td>11</td>\n",
       "      <td>2020-05-08</td>\n",
       "      <td>239</td>\n",
       "      <td>0.478784</td>\n",
       "      <td>0</td>\n",
       "    </tr>\n",
       "    <tr>\n",
       "      <th>13575</th>\n",
       "      <td>ff77733a-62a1-4d5b-9eb5-034222f24609</td>\n",
       "      <td>yandex_direct</td>\n",
       "      <td>3</td>\n",
       "      <td>2020-05-08 22:53:20</td>\n",
       "      <td>2020-05-12 17:19:39</td>\n",
       "      <td>3</td>\n",
       "      <td>2020-05-08</td>\n",
       "      <td>239</td>\n",
       "      <td>0.478784</td>\n",
       "      <td>0</td>\n",
       "    </tr>\n",
       "  </tbody>\n",
       "</table>\n",
       "<p>13576 rows × 10 columns</p>\n",
       "</div>"
      ],
      "text/plain": [
       "                                    user_id         source  events_count  \\\n",
       "0      0001f83c-c6ac-4621-b7f0-8a28b283ac30   facebook_ads            13   \n",
       "1      01303c2e-7de1-4742-8c3e-daf182b67b9f   facebook_ads             4   \n",
       "2      0136963c-c45c-4edb-92d8-205bd50a4d36   facebook_ads            12   \n",
       "3      018793d6-38c8-450a-bd54-8c181d920f1a   facebook_ads            14   \n",
       "4      01e2b256-4519-493f-b010-4a90a2755245   facebook_ads             9   \n",
       "...                                     ...            ...           ...   \n",
       "13571  f904bb06-e8f9-4aef-8773-5a47f12ac103  yandex_direct             5   \n",
       "13572  fa1ffc17-0032-4b4d-ac0d-6c75b890db9e  yandex_direct            12   \n",
       "13573  fd7d35ce-430b-40e0-a325-9d2b27b425e5  yandex_direct             9   \n",
       "13574  fec9a806-0291-4d46-914b-e4dd14ad3864  yandex_direct            10   \n",
       "13575  ff77733a-62a1-4d5b-9eb5-034222f24609  yandex_direct             3   \n",
       "\n",
       "                 first_ts             last_ts  lifetime  first_day  \\\n",
       "0     2020-05-06 01:07:37 2020-05-20 11:26:06        14 2020-05-06   \n",
       "1     2020-05-06 07:05:11 2020-05-08 22:30:49         2 2020-05-06   \n",
       "2     2020-05-06 14:00:20 2020-05-25 08:56:48        18 2020-05-06   \n",
       "3     2020-05-06 07:05:52 2020-05-24 23:52:53        18 2020-05-06   \n",
       "4     2020-05-06 22:16:07 2020-05-21 04:52:31        14 2020-05-06   \n",
       "...                   ...                 ...       ...        ...   \n",
       "13571 2020-05-08 15:11:26 2020-05-12 21:07:54         4 2020-05-08   \n",
       "13572 2020-05-08 06:17:28 2020-05-24 12:50:48        16 2020-05-08   \n",
       "13573 2020-05-08 23:59:00 2020-05-25 00:18:28        16 2020-05-08   \n",
       "13574 2020-05-08 23:44:14 2020-05-20 01:25:10        11 2020-05-08   \n",
       "13575 2020-05-08 22:53:20 2020-05-12 17:19:39         3 2020-05-08   \n",
       "\n",
       "       cohort_size       CAC  finished_stage_1  \n",
       "0              345  0.754162                 0  \n",
       "1              345  0.754162                 0  \n",
       "2              345  0.754162                 1  \n",
       "3              345  0.754162                 1  \n",
       "4              345  0.754162                 0  \n",
       "...            ...       ...               ...  \n",
       "13571          239  0.478784                 0  \n",
       "13572          239  0.478784                 1  \n",
       "13573          239  0.478784                 1  \n",
       "13574          239  0.478784                 0  \n",
       "13575          239  0.478784                 0  \n",
       "\n",
       "[13576 rows x 10 columns]"
      ]
     },
     "execution_count": 52,
     "metadata": {},
     "output_type": "execute_result"
    }
   ],
   "source": [
    "profiles"
   ]
  },
  {
   "cell_type": "code",
   "execution_count": 53,
   "metadata": {},
   "outputs": [],
   "source": [
    "profiles_pivot = profiles.pivot_table(index='source',values=['user_id','lifetime','events_count','finished_stage_1','CAC'],aggfunc={'lifetime':'median','events_count':'median','finished_stage_1':'sum','CAC':'mean','user_id':'count'}).reset_index()"
   ]
  },
  {
   "cell_type": "code",
   "execution_count": 54,
   "metadata": {},
   "outputs": [
    {
     "data": {
      "text/html": [
       "<div>\n",
       "<style scoped>\n",
       "    .dataframe tbody tr th:only-of-type {\n",
       "        vertical-align: middle;\n",
       "    }\n",
       "\n",
       "    .dataframe tbody tr th {\n",
       "        vertical-align: top;\n",
       "    }\n",
       "\n",
       "    .dataframe thead th {\n",
       "        text-align: right;\n",
       "    }\n",
       "</style>\n",
       "<table border=\"1\" class=\"dataframe\">\n",
       "  <thead>\n",
       "    <tr style=\"text-align: right;\">\n",
       "      <th></th>\n",
       "      <th>source</th>\n",
       "      <th>CAC</th>\n",
       "      <th>events_count</th>\n",
       "      <th>finished_stage_1</th>\n",
       "      <th>lifetime</th>\n",
       "      <th>user_id</th>\n",
       "    </tr>\n",
       "  </thead>\n",
       "  <tbody>\n",
       "    <tr>\n",
       "      <th>0</th>\n",
       "      <td>facebook_ads</td>\n",
       "      <td>0.785365</td>\n",
       "      <td>10</td>\n",
       "      <td>1150</td>\n",
       "      <td>10</td>\n",
       "      <td>2726</td>\n",
       "    </tr>\n",
       "    <tr>\n",
       "      <th>1</th>\n",
       "      <td>instagram_new_adverts</td>\n",
       "      <td>0.645785</td>\n",
       "      <td>10</td>\n",
       "      <td>1466</td>\n",
       "      <td>10</td>\n",
       "      <td>3347</td>\n",
       "    </tr>\n",
       "    <tr>\n",
       "      <th>2</th>\n",
       "      <td>yandex_direct</td>\n",
       "      <td>0.463590</td>\n",
       "      <td>10</td>\n",
       "      <td>2042</td>\n",
       "      <td>10</td>\n",
       "      <td>4817</td>\n",
       "    </tr>\n",
       "    <tr>\n",
       "      <th>3</th>\n",
       "      <td>youtube_channel_reklama</td>\n",
       "      <td>0.397662</td>\n",
       "      <td>10</td>\n",
       "      <td>1159</td>\n",
       "      <td>10</td>\n",
       "      <td>2686</td>\n",
       "    </tr>\n",
       "  </tbody>\n",
       "</table>\n",
       "</div>"
      ],
      "text/plain": [
       "                    source       CAC  events_count  finished_stage_1  \\\n",
       "0             facebook_ads  0.785365            10              1150   \n",
       "1    instagram_new_adverts  0.645785            10              1466   \n",
       "2            yandex_direct  0.463590            10              2042   \n",
       "3  youtube_channel_reklama  0.397662            10              1159   \n",
       "\n",
       "   lifetime  user_id  \n",
       "0        10     2726  \n",
       "1        10     3347  \n",
       "2        10     4817  \n",
       "3        10     2686  "
      ]
     },
     "execution_count": 54,
     "metadata": {},
     "output_type": "execute_result"
    }
   ],
   "source": [
    "profiles_pivot"
   ]
  },
  {
   "cell_type": "code",
   "execution_count": 55,
   "metadata": {},
   "outputs": [],
   "source": [
    "profiles_pivot['CAC_%_of_all'] = round(profiles_pivot['CAC']*100/profiles_pivot['CAC'].sum(),2)"
   ]
  },
  {
   "cell_type": "code",
   "execution_count": 56,
   "metadata": {},
   "outputs": [],
   "source": [
    "profiles_pivot['finished_stage_1_%_of_all'] = round(profiles_pivot['finished_stage_1']*100/profiles_pivot['user_id'],2)"
   ]
  },
  {
   "cell_type": "code",
   "execution_count": 57,
   "metadata": {},
   "outputs": [],
   "source": [
    "profiles_pivot['users_%_of_all'] = profiles_pivot['user_id']*100/profiles_pivot['user_id'].sum()"
   ]
  },
  {
   "cell_type": "code",
   "execution_count": 58,
   "metadata": {},
   "outputs": [
    {
     "data": {
      "text/html": [
       "<div>\n",
       "<style scoped>\n",
       "    .dataframe tbody tr th:only-of-type {\n",
       "        vertical-align: middle;\n",
       "    }\n",
       "\n",
       "    .dataframe tbody tr th {\n",
       "        vertical-align: top;\n",
       "    }\n",
       "\n",
       "    .dataframe thead th {\n",
       "        text-align: right;\n",
       "    }\n",
       "</style>\n",
       "<table border=\"1\" class=\"dataframe\">\n",
       "  <thead>\n",
       "    <tr style=\"text-align: right;\">\n",
       "      <th></th>\n",
       "      <th>source</th>\n",
       "      <th>CAC</th>\n",
       "      <th>events_count</th>\n",
       "      <th>finished_stage_1</th>\n",
       "      <th>lifetime</th>\n",
       "      <th>user_id</th>\n",
       "      <th>CAC_%_of_all</th>\n",
       "      <th>finished_stage_1_%_of_all</th>\n",
       "      <th>users_%_of_all</th>\n",
       "    </tr>\n",
       "  </thead>\n",
       "  <tbody>\n",
       "    <tr>\n",
       "      <th>0</th>\n",
       "      <td>facebook_ads</td>\n",
       "      <td>0.785365</td>\n",
       "      <td>10</td>\n",
       "      <td>1150</td>\n",
       "      <td>10</td>\n",
       "      <td>2726</td>\n",
       "      <td>34.26</td>\n",
       "      <td>42.19</td>\n",
       "      <td>20.079552</td>\n",
       "    </tr>\n",
       "    <tr>\n",
       "      <th>1</th>\n",
       "      <td>instagram_new_adverts</td>\n",
       "      <td>0.645785</td>\n",
       "      <td>10</td>\n",
       "      <td>1466</td>\n",
       "      <td>10</td>\n",
       "      <td>3347</td>\n",
       "      <td>28.17</td>\n",
       "      <td>43.80</td>\n",
       "      <td>24.653801</td>\n",
       "    </tr>\n",
       "    <tr>\n",
       "      <th>2</th>\n",
       "      <td>yandex_direct</td>\n",
       "      <td>0.463590</td>\n",
       "      <td>10</td>\n",
       "      <td>2042</td>\n",
       "      <td>10</td>\n",
       "      <td>4817</td>\n",
       "      <td>20.22</td>\n",
       "      <td>42.39</td>\n",
       "      <td>35.481732</td>\n",
       "    </tr>\n",
       "    <tr>\n",
       "      <th>3</th>\n",
       "      <td>youtube_channel_reklama</td>\n",
       "      <td>0.397662</td>\n",
       "      <td>10</td>\n",
       "      <td>1159</td>\n",
       "      <td>10</td>\n",
       "      <td>2686</td>\n",
       "      <td>17.35</td>\n",
       "      <td>43.15</td>\n",
       "      <td>19.784915</td>\n",
       "    </tr>\n",
       "  </tbody>\n",
       "</table>\n",
       "</div>"
      ],
      "text/plain": [
       "                    source       CAC  events_count  finished_stage_1  \\\n",
       "0             facebook_ads  0.785365            10              1150   \n",
       "1    instagram_new_adverts  0.645785            10              1466   \n",
       "2            yandex_direct  0.463590            10              2042   \n",
       "3  youtube_channel_reklama  0.397662            10              1159   \n",
       "\n",
       "   lifetime  user_id  CAC_%_of_all  finished_stage_1_%_of_all  users_%_of_all  \n",
       "0        10     2726         34.26                      42.19       20.079552  \n",
       "1        10     3347         28.17                      43.80       24.653801  \n",
       "2        10     4817         20.22                      42.39       35.481732  \n",
       "3        10     2686         17.35                      43.15       19.784915  "
      ]
     },
     "execution_count": 58,
     "metadata": {},
     "output_type": "execute_result"
    }
   ],
   "source": [
    "profiles_pivot"
   ]
  },
  {
   "cell_type": "markdown",
   "metadata": {},
   "source": [
    "Посчитали медиану количества ивентов и лайфтайм юзеров в разрезе по источникам - они получились одинаковые. Подсчитали доли CAC и прошедших уровень 1, теперь сравним."
   ]
  },
  {
   "cell_type": "code",
   "execution_count": 59,
   "metadata": {},
   "outputs": [
    {
     "data": {
      "image/png": "[encoded data removed]",
      "text/plain": [
       "<Figure size 1080x648 with 1 Axes>"
      ]
     },
     "metadata": {
      "needs_background": "light"
     },
     "output_type": "display_data"
    }
   ],
   "source": [
    "profiles_pivot.sort_values(by=['users_%_of_all','CAC']).plot(x='source',y=['users_%_of_all','CAC_%_of_all'],kind='bar',figsize=(15,9))\n",
    "plt.title('Доля всех привлечённых пользователей и затраты на рекламу по источникам')\n",
    "plt.xlabel('Источник рекламы')\n",
    "plt.ylabel('Доля пользователей/затраты на их привлечение')\n",
    "plt.xticks(rotation = 45)\n",
    "None"
   ]
  },
  {
   "cell_type": "markdown",
   "metadata": {},
   "source": [
    "Из данного графика видно, что фейсбук и инстаграм не так эффективны по привлечению пользователей, как ютуб и яндекс - доли средств затраченных на рекламу выше, чем доли привлечённых пользователей. При этом, затраты на пользователя, в среднем, у яндекса больше чем у ютуба на ~3%, а доля привлечённых пользователей больше у яндекса чем у ютуба на ~15%. Посмотрим отдельно на каждый источник, какая доля привлечённых пользователей прошла 1ый уровень."
   ]
  },
  {
   "cell_type": "code",
   "execution_count": 60,
   "metadata": {},
   "outputs": [
    {
     "data": {
      "image/png": "[encoded data removed]",
      "text/plain": [
       "<Figure size 1080x648 with 1 Axes>"
      ]
     },
     "metadata": {
      "needs_background": "light"
     },
     "output_type": "display_data"
    }
   ],
   "source": [
    "profiles_pivot.sort_values(by='finished_stage_1_%_of_all').plot(x='source',y='finished_stage_1_%_of_all',kind='bar',figsize=(15,9))\n",
    "plt.title('Доля пользоваетелей, прошедших 1ый уровень по источникам рекламы')\n",
    "plt.xlabel('Источник рекламы')\n",
    "plt.ylabel('Доля пользователей')\n",
    "plt.xticks(rotation = 45)\n",
    "plt.ylim(bottom=42)\n",
    "None"
   ]
  },
  {
   "cell_type": "markdown",
   "metadata": {},
   "source": [
    "Разница в относительных долях прошедших 1ый уровень от привлечённых пользователей с источника не такая большая, но в процентных пунктах разброс составляет до 1.5пп. Истраграм лучше всего показывает себя, затем идёт ютуб, яндекс и фейсбук."
   ]
  },
  {
   "cell_type": "markdown",
   "metadata": {},
   "source": [
    "### Вывод"
   ]
  },
  {
   "cell_type": "markdown",
   "metadata": {},
   "source": [
    "На основе исследования данных, можем сказать что более эффективными с точки зрения привлечения пользователей относительно затрат на привлечение являются яндекс и ютуб, где яндекс лидирует по количествую привлечённых пользователей при почти таких же затратах. Аудитория из ютуба приходит более вовлечённая, что показывает более высокую долю закончивших первый уровень, относительно яндекса. Общая активность пользователей и их лайфтайм в разрезе по рекламным исчтоникам одинаковые."
   ]
  },
  {
   "cell_type": "markdown",
   "metadata": {},
   "source": [
    "## Проверка статистических гипотез"
   ]
  },
  {
   "cell_type": "markdown",
   "metadata": {},
   "source": [
    "Проверим гипотезу о том, что время завершения уровня различается в зависимости способа прохождения (реализация проекта \"разработка орбитальной сборки спутников\" или убийство противника). Нулевая гипотеза: среднее время завершения уровня не различается в зависимости от способа прохождения. Альтернативная: среднее время прохождения 1ого уровня через постройку станции больше, чем через победу над противником. Для проверки гипотезы используем стат. метод t-тест для проверки равенства среднего двух независимых выборок."
   ]
  },
  {
   "cell_type": "code",
   "execution_count": 61,
   "metadata": {},
   "outputs": [
    {
     "data": {
      "text/html": [
       "<div>\n",
       "<style scoped>\n",
       "    .dataframe tbody tr th:only-of-type {\n",
       "        vertical-align: middle;\n",
       "    }\n",
       "\n",
       "    .dataframe tbody tr th {\n",
       "        vertical-align: top;\n",
       "    }\n",
       "\n",
       "    .dataframe thead th {\n",
       "        text-align: right;\n",
       "    }\n",
       "</style>\n",
       "<table border=\"1\" class=\"dataframe\">\n",
       "  <thead>\n",
       "    <tr style=\"text-align: right;\">\n",
       "      <th></th>\n",
       "      <th>event_datetime</th>\n",
       "      <th>event</th>\n",
       "      <th>building_type</th>\n",
       "      <th>user_id</th>\n",
       "      <th>project_type</th>\n",
       "      <th>finished_stage_1</th>\n",
       "    </tr>\n",
       "  </thead>\n",
       "  <tbody>\n",
       "    <tr>\n",
       "      <th>6659</th>\n",
       "      <td>2020-05-04 19:47:29</td>\n",
       "      <td>finished_stage_1</td>\n",
       "      <td>NaN</td>\n",
       "      <td>ced7b368-818f-48f6-9461-2346de0892c5</td>\n",
       "      <td>NaN</td>\n",
       "      <td>True</td>\n",
       "    </tr>\n",
       "    <tr>\n",
       "      <th>13134</th>\n",
       "      <td>2020-05-05 13:22:09</td>\n",
       "      <td>finished_stage_1</td>\n",
       "      <td>NaN</td>\n",
       "      <td>7ef7fc89-2779-46ea-b328-9e5035b83af5</td>\n",
       "      <td>NaN</td>\n",
       "      <td>True</td>\n",
       "    </tr>\n",
       "    <tr>\n",
       "      <th>15274</th>\n",
       "      <td>2020-05-05 18:54:37</td>\n",
       "      <td>finished_stage_1</td>\n",
       "      <td>NaN</td>\n",
       "      <td>70db22b3-c2f4-43bc-94ea-51c8d2904a29</td>\n",
       "      <td>NaN</td>\n",
       "      <td>True</td>\n",
       "    </tr>\n",
       "    <tr>\n",
       "      <th>16284</th>\n",
       "      <td>2020-05-05 21:27:29</td>\n",
       "      <td>finished_stage_1</td>\n",
       "      <td>NaN</td>\n",
       "      <td>903fc9ef-ba97-4b12-9d5c-ac8d602fbd8b</td>\n",
       "      <td>NaN</td>\n",
       "      <td>True</td>\n",
       "    </tr>\n",
       "    <tr>\n",
       "      <th>19650</th>\n",
       "      <td>2020-05-06 06:02:22</td>\n",
       "      <td>finished_stage_1</td>\n",
       "      <td>NaN</td>\n",
       "      <td>58e077ba-feb1-4556-a5a0-d96bd04efa39</td>\n",
       "      <td>NaN</td>\n",
       "      <td>True</td>\n",
       "    </tr>\n",
       "    <tr>\n",
       "      <th>...</th>\n",
       "      <td>...</td>\n",
       "      <td>...</td>\n",
       "      <td>...</td>\n",
       "      <td>...</td>\n",
       "      <td>...</td>\n",
       "      <td>...</td>\n",
       "    </tr>\n",
       "    <tr>\n",
       "      <th>135632</th>\n",
       "      <td>2020-06-04 15:50:38</td>\n",
       "      <td>finished_stage_1</td>\n",
       "      <td>NaN</td>\n",
       "      <td>22cce310-fe10-41a2-941b-9c3d63327fea</td>\n",
       "      <td>NaN</td>\n",
       "      <td>True</td>\n",
       "    </tr>\n",
       "    <tr>\n",
       "      <th>135633</th>\n",
       "      <td>2020-06-04 17:56:14</td>\n",
       "      <td>finished_stage_1</td>\n",
       "      <td>NaN</td>\n",
       "      <td>d477dde8-7c22-4f23-9c4f-4ec31a1aa4c8</td>\n",
       "      <td>NaN</td>\n",
       "      <td>True</td>\n",
       "    </tr>\n",
       "    <tr>\n",
       "      <th>135636</th>\n",
       "      <td>2020-06-05 02:25:12</td>\n",
       "      <td>finished_stage_1</td>\n",
       "      <td>NaN</td>\n",
       "      <td>515c1952-99aa-4bca-a7ea-d0449eb5385a</td>\n",
       "      <td>NaN</td>\n",
       "      <td>True</td>\n",
       "    </tr>\n",
       "    <tr>\n",
       "      <th>135638</th>\n",
       "      <td>2020-06-05 12:12:27</td>\n",
       "      <td>finished_stage_1</td>\n",
       "      <td>NaN</td>\n",
       "      <td>32572adb-900f-4b5d-a453-1eb1e6d88d8b</td>\n",
       "      <td>NaN</td>\n",
       "      <td>True</td>\n",
       "    </tr>\n",
       "    <tr>\n",
       "      <th>135639</th>\n",
       "      <td>2020-06-05 12:32:49</td>\n",
       "      <td>finished_stage_1</td>\n",
       "      <td>NaN</td>\n",
       "      <td>f21d179f-1c4b-437e-b9c6-ab1976907195</td>\n",
       "      <td>NaN</td>\n",
       "      <td>True</td>\n",
       "    </tr>\n",
       "  </tbody>\n",
       "</table>\n",
       "<p>5817 rows × 6 columns</p>\n",
       "</div>"
      ],
      "text/plain": [
       "            event_datetime             event building_type  \\\n",
       "6659   2020-05-04 19:47:29  finished_stage_1           NaN   \n",
       "13134  2020-05-05 13:22:09  finished_stage_1           NaN   \n",
       "15274  2020-05-05 18:54:37  finished_stage_1           NaN   \n",
       "16284  2020-05-05 21:27:29  finished_stage_1           NaN   \n",
       "19650  2020-05-06 06:02:22  finished_stage_1           NaN   \n",
       "...                    ...               ...           ...   \n",
       "135632 2020-06-04 15:50:38  finished_stage_1           NaN   \n",
       "135633 2020-06-04 17:56:14  finished_stage_1           NaN   \n",
       "135636 2020-06-05 02:25:12  finished_stage_1           NaN   \n",
       "135638 2020-06-05 12:12:27  finished_stage_1           NaN   \n",
       "135639 2020-06-05 12:32:49  finished_stage_1           NaN   \n",
       "\n",
       "                                     user_id project_type  finished_stage_1  \n",
       "6659    ced7b368-818f-48f6-9461-2346de0892c5          NaN              True  \n",
       "13134   7ef7fc89-2779-46ea-b328-9e5035b83af5          NaN              True  \n",
       "15274   70db22b3-c2f4-43bc-94ea-51c8d2904a29          NaN              True  \n",
       "16284   903fc9ef-ba97-4b12-9d5c-ac8d602fbd8b          NaN              True  \n",
       "19650   58e077ba-feb1-4556-a5a0-d96bd04efa39          NaN              True  \n",
       "...                                      ...          ...               ...  \n",
       "135632  22cce310-fe10-41a2-941b-9c3d63327fea          NaN              True  \n",
       "135633  d477dde8-7c22-4f23-9c4f-4ec31a1aa4c8          NaN              True  \n",
       "135636  515c1952-99aa-4bca-a7ea-d0449eb5385a          NaN              True  \n",
       "135638  32572adb-900f-4b5d-a453-1eb1e6d88d8b          NaN              True  \n",
       "135639  f21d179f-1c4b-437e-b9c6-ab1976907195          NaN              True  \n",
       "\n",
       "[5817 rows x 6 columns]"
      ]
     },
     "execution_count": 61,
     "metadata": {},
     "output_type": "execute_result"
    }
   ],
   "source": [
    "game_actions[game_actions['finished_stage_1']==True]"
   ]
  },
  {
   "cell_type": "code",
   "execution_count": 62,
   "metadata": {},
   "outputs": [],
   "source": [
    "users_finished_proj = game_actions.groupby('user_id').agg({'project_type':'count'}).reset_index()"
   ]
  },
  {
   "cell_type": "code",
   "execution_count": 63,
   "metadata": {},
   "outputs": [],
   "source": [
    "users_finished_proj = users_finished_proj[users_finished_proj['project_type']==1]"
   ]
  },
  {
   "cell_type": "code",
   "execution_count": 64,
   "metadata": {},
   "outputs": [
    {
     "data": {
      "text/html": [
       "<div>\n",
       "<style scoped>\n",
       "    .dataframe tbody tr th:only-of-type {\n",
       "        vertical-align: middle;\n",
       "    }\n",
       "\n",
       "    .dataframe tbody tr th {\n",
       "        vertical-align: top;\n",
       "    }\n",
       "\n",
       "    .dataframe thead th {\n",
       "        text-align: right;\n",
       "    }\n",
       "</style>\n",
       "<table border=\"1\" class=\"dataframe\">\n",
       "  <thead>\n",
       "    <tr style=\"text-align: right;\">\n",
       "      <th></th>\n",
       "      <th>user_id</th>\n",
       "      <th>project_type</th>\n",
       "    </tr>\n",
       "  </thead>\n",
       "  <tbody>\n",
       "    <tr>\n",
       "      <th>13</th>\n",
       "      <td>006380d6-67a6-45de-ab1e-6eb54ad8dbe8</td>\n",
       "      <td>1</td>\n",
       "    </tr>\n",
       "    <tr>\n",
       "      <th>24</th>\n",
       "      <td>00be7371-fa79-4fbd-b8e7-8ba32e3f8f82</td>\n",
       "      <td>1</td>\n",
       "    </tr>\n",
       "    <tr>\n",
       "      <th>26</th>\n",
       "      <td>00c2b9f2-2615-439c-aed0-6974e4c6c1c1</td>\n",
       "      <td>1</td>\n",
       "    </tr>\n",
       "    <tr>\n",
       "      <th>33</th>\n",
       "      <td>00de2809-403e-4476-a2f7-ca1b11700190</td>\n",
       "      <td>1</td>\n",
       "    </tr>\n",
       "    <tr>\n",
       "      <th>36</th>\n",
       "      <td>00e83261-5fd4-4939-9616-802b5a0202c6</td>\n",
       "      <td>1</td>\n",
       "    </tr>\n",
       "  </tbody>\n",
       "</table>\n",
       "</div>"
      ],
      "text/plain": [
       "                                 user_id  project_type\n",
       "13  006380d6-67a6-45de-ab1e-6eb54ad8dbe8             1\n",
       "24  00be7371-fa79-4fbd-b8e7-8ba32e3f8f82             1\n",
       "26  00c2b9f2-2615-439c-aed0-6974e4c6c1c1             1\n",
       "33  00de2809-403e-4476-a2f7-ca1b11700190             1\n",
       "36  00e83261-5fd4-4939-9616-802b5a0202c6             1"
      ]
     },
     "execution_count": 64,
     "metadata": {},
     "output_type": "execute_result"
    }
   ],
   "source": [
    "users_finished_proj.head()"
   ]
  },
  {
   "cell_type": "code",
   "execution_count": 65,
   "metadata": {},
   "outputs": [],
   "source": [
    "profiles_hyp = profiles.merge(users_finished_proj, on=['user_id'],how='left')"
   ]
  },
  {
   "cell_type": "code",
   "execution_count": 66,
   "metadata": {},
   "outputs": [],
   "source": [
    "profiles_hyp['project_type'] = profiles_hyp['project_type'].fillna(0).astype('int')"
   ]
  },
  {
   "cell_type": "code",
   "execution_count": 67,
   "metadata": {},
   "outputs": [
    {
     "data": {
      "text/html": [
       "<div>\n",
       "<style scoped>\n",
       "    .dataframe tbody tr th:only-of-type {\n",
       "        vertical-align: middle;\n",
       "    }\n",
       "\n",
       "    .dataframe tbody tr th {\n",
       "        vertical-align: top;\n",
       "    }\n",
       "\n",
       "    .dataframe thead th {\n",
       "        text-align: right;\n",
       "    }\n",
       "</style>\n",
       "<table border=\"1\" class=\"dataframe\">\n",
       "  <thead>\n",
       "    <tr style=\"text-align: right;\">\n",
       "      <th></th>\n",
       "      <th>user_id</th>\n",
       "      <th>source</th>\n",
       "      <th>events_count</th>\n",
       "      <th>first_ts</th>\n",
       "      <th>last_ts</th>\n",
       "      <th>lifetime</th>\n",
       "      <th>first_day</th>\n",
       "      <th>cohort_size</th>\n",
       "      <th>CAC</th>\n",
       "      <th>finished_stage_1</th>\n",
       "      <th>project_type</th>\n",
       "    </tr>\n",
       "  </thead>\n",
       "  <tbody>\n",
       "    <tr>\n",
       "      <th>0</th>\n",
       "      <td>0001f83c-c6ac-4621-b7f0-8a28b283ac30</td>\n",
       "      <td>facebook_ads</td>\n",
       "      <td>13</td>\n",
       "      <td>2020-05-06 01:07:37</td>\n",
       "      <td>2020-05-20 11:26:06</td>\n",
       "      <td>14</td>\n",
       "      <td>2020-05-06</td>\n",
       "      <td>345</td>\n",
       "      <td>0.754162</td>\n",
       "      <td>0</td>\n",
       "      <td>0</td>\n",
       "    </tr>\n",
       "    <tr>\n",
       "      <th>1</th>\n",
       "      <td>01303c2e-7de1-4742-8c3e-daf182b67b9f</td>\n",
       "      <td>facebook_ads</td>\n",
       "      <td>4</td>\n",
       "      <td>2020-05-06 07:05:11</td>\n",
       "      <td>2020-05-08 22:30:49</td>\n",
       "      <td>2</td>\n",
       "      <td>2020-05-06</td>\n",
       "      <td>345</td>\n",
       "      <td>0.754162</td>\n",
       "      <td>0</td>\n",
       "      <td>0</td>\n",
       "    </tr>\n",
       "    <tr>\n",
       "      <th>2</th>\n",
       "      <td>0136963c-c45c-4edb-92d8-205bd50a4d36</td>\n",
       "      <td>facebook_ads</td>\n",
       "      <td>12</td>\n",
       "      <td>2020-05-06 14:00:20</td>\n",
       "      <td>2020-05-25 08:56:48</td>\n",
       "      <td>18</td>\n",
       "      <td>2020-05-06</td>\n",
       "      <td>345</td>\n",
       "      <td>0.754162</td>\n",
       "      <td>1</td>\n",
       "      <td>1</td>\n",
       "    </tr>\n",
       "    <tr>\n",
       "      <th>3</th>\n",
       "      <td>018793d6-38c8-450a-bd54-8c181d920f1a</td>\n",
       "      <td>facebook_ads</td>\n",
       "      <td>14</td>\n",
       "      <td>2020-05-06 07:05:52</td>\n",
       "      <td>2020-05-24 23:52:53</td>\n",
       "      <td>18</td>\n",
       "      <td>2020-05-06</td>\n",
       "      <td>345</td>\n",
       "      <td>0.754162</td>\n",
       "      <td>1</td>\n",
       "      <td>1</td>\n",
       "    </tr>\n",
       "    <tr>\n",
       "      <th>4</th>\n",
       "      <td>01e2b256-4519-493f-b010-4a90a2755245</td>\n",
       "      <td>facebook_ads</td>\n",
       "      <td>9</td>\n",
       "      <td>2020-05-06 22:16:07</td>\n",
       "      <td>2020-05-21 04:52:31</td>\n",
       "      <td>14</td>\n",
       "      <td>2020-05-06</td>\n",
       "      <td>345</td>\n",
       "      <td>0.754162</td>\n",
       "      <td>0</td>\n",
       "      <td>0</td>\n",
       "    </tr>\n",
       "  </tbody>\n",
       "</table>\n",
       "</div>"
      ],
      "text/plain": [
       "                                user_id        source  events_count  \\\n",
       "0  0001f83c-c6ac-4621-b7f0-8a28b283ac30  facebook_ads            13   \n",
       "1  01303c2e-7de1-4742-8c3e-daf182b67b9f  facebook_ads             4   \n",
       "2  0136963c-c45c-4edb-92d8-205bd50a4d36  facebook_ads            12   \n",
       "3  018793d6-38c8-450a-bd54-8c181d920f1a  facebook_ads            14   \n",
       "4  01e2b256-4519-493f-b010-4a90a2755245  facebook_ads             9   \n",
       "\n",
       "             first_ts             last_ts  lifetime  first_day  cohort_size  \\\n",
       "0 2020-05-06 01:07:37 2020-05-20 11:26:06        14 2020-05-06          345   \n",
       "1 2020-05-06 07:05:11 2020-05-08 22:30:49         2 2020-05-06          345   \n",
       "2 2020-05-06 14:00:20 2020-05-25 08:56:48        18 2020-05-06          345   \n",
       "3 2020-05-06 07:05:52 2020-05-24 23:52:53        18 2020-05-06          345   \n",
       "4 2020-05-06 22:16:07 2020-05-21 04:52:31        14 2020-05-06          345   \n",
       "\n",
       "        CAC  finished_stage_1  project_type  \n",
       "0  0.754162                 0             0  \n",
       "1  0.754162                 0             0  \n",
       "2  0.754162                 1             1  \n",
       "3  0.754162                 1             1  \n",
       "4  0.754162                 0             0  "
      ]
     },
     "execution_count": 67,
     "metadata": {},
     "output_type": "execute_result"
    }
   ],
   "source": [
    "profiles_hyp.head()"
   ]
  },
  {
   "cell_type": "code",
   "execution_count": 68,
   "metadata": {},
   "outputs": [],
   "source": [
    "#время прохождения уровня путём победы над другим игроком\n",
    "winners_pvp_time = profiles_hyp.query('finished_stage_1==1 & project_type==0')['lifetime'] \n",
    "#время прохождения уровня через постройку станции\n",
    "winners_pve_time = profiles_hyp.query('finished_stage_1==1 & project_type==1')['lifetime']"
   ]
  },
  {
   "cell_type": "code",
   "execution_count": 69,
   "metadata": {},
   "outputs": [
    {
     "name": "stdout",
     "output_type": "stream",
     "text": [
      "12.963022508038586\n"
     ]
    },
    {
     "data": {
      "text/plain": [
       "10.606175651733738"
      ]
     },
     "execution_count": 69,
     "metadata": {},
     "output_type": "execute_result"
    }
   ],
   "source": [
    "print(winners_pve_time.mean())\n",
    "winners_pvp_time.mean()"
   ]
  },
  {
   "cell_type": "code",
   "execution_count": 70,
   "metadata": {},
   "outputs": [
    {
     "name": "stdout",
     "output_type": "stream",
     "text": [
      "p-value:  9.441417696184596e-98\n",
      "Отвергаем нулевую гипотезу\n"
     ]
    }
   ],
   "source": [
    "alpha = 0.05 #уровень стат. значимости исследования\n",
    "result_1 = st.ttest_ind(winners_pve_time,winners_pvp_time,alternative='greater')\n",
    "print('p-value: ',result_1.pvalue)\n",
    "if (result_1.pvalue<alpha):\n",
    "    print(\"Отвергаем нулевую гипотезу\")\n",
    "else:\n",
    "      print(\"Не получилось отвергнуть нулевую гипотезу\")"
   ]
  },
  {
   "cell_type": "markdown",
   "metadata": {},
   "source": [
    "По результату стат. теста можем сказать, что среднее время прохождение через PVE больше среднего времени прохождения через PVP."
   ]
  },
  {
   "cell_type": "markdown",
   "metadata": {},
   "source": [
    "Проверим вторую гипотезу о том, что среднее количество ивентов пользователя различается в зависимости способа прохождения (реализация проекта \"разработка орбитальной сборки спутников\" или убийство противника). Нулевая гипотеза: среднее количество ивентов пользователя не различается в зависимости от способа прохождения. Альтернативная: среднее количество ивентов пользователя построившего орбитальную станцию больше, чем среднее количество ивентов пользователя победившего противника. Для проверки гипотез используем стат. метод t-тест для проверки равенства среднего двух независимых выборок."
   ]
  },
  {
   "cell_type": "code",
   "execution_count": 71,
   "metadata": {},
   "outputs": [],
   "source": [
    "#количество ивентов пользователя с PVP победой\n",
    "winners_pvp_events = profiles_hyp.query('finished_stage_1==1 & project_type==0')['events_count'] \n",
    "#количество ивентов пользователя с PVE победой\n",
    "winners_pve_events = profiles_hyp.query('finished_stage_1==1 & project_type==1')['events_count']"
   ]
  },
  {
   "cell_type": "code",
   "execution_count": 72,
   "metadata": {},
   "outputs": [
    {
     "name": "stdout",
     "output_type": "stream",
     "text": [
      "14.64790996784566\n"
     ]
    },
    {
     "data": {
      "text/plain": [
       "10.411541381928625"
      ]
     },
     "execution_count": 72,
     "metadata": {},
     "output_type": "execute_result"
    }
   ],
   "source": [
    "print(winners_pve_events.mean())\n",
    "winners_pvp_events.mean()"
   ]
  },
  {
   "cell_type": "code",
   "execution_count": 73,
   "metadata": {},
   "outputs": [
    {
     "name": "stdout",
     "output_type": "stream",
     "text": [
      "p-value:  0.0\n",
      "Отвергаем нулевую гипотезу\n"
     ]
    }
   ],
   "source": [
    "result_2 = st.ttest_ind(winners_pve_events,winners_pvp_events,alternative='greater')\n",
    "print('p-value: ',result_2.pvalue)\n",
    "if (result_2.pvalue<alpha):\n",
    "    print(\"Отвергаем нулевую гипотезу\")\n",
    "else:\n",
    "      print(\"Не получилось отвергнуть нулевую гипотезу\")"
   ]
  },
  {
   "cell_type": "markdown",
   "metadata": {},
   "source": [
    "Среднее количество ивентов пользователей при прохождении через постройку станции больше, чем через победу над противником."
   ]
  },
  {
   "cell_type": "markdown",
   "metadata": {},
   "source": [
    "### Вывод"
   ]
  },
  {
   "cell_type": "markdown",
   "metadata": {},
   "source": [
    "<p>Было сформулировано и проверено 2 гипотезы:</p> \n",
    "<p>1. Cреднее время прохождения 1ого уровня через постройку станции и через победу над противником равны;</p>\n",
    "<p>2. Cреднее количество ивентов пользоваталей завершивших уровень через постройку станции и через победу над противником равны.</p>  \n",
    "<p>Результаты: среднее время на прохождение уровня через победу над противником меньше, среднее количество ивентов среди пользователей победивших противника в PVP меньше.</p> "
   ]
  },
  {
   "cell_type": "markdown",
   "metadata": {},
   "source": [
    "## Общий вывод"
   ]
  },
  {
   "cell_type": "markdown",
   "metadata": {},
   "source": [
    "На основе проведённого исследования, можно рекоммендовать рекламный источник yandex_direct как самый эффективный по соотношению затрат на привлечение пользователей к доле привлечённых пользователей и их дальнейшей активности. Так же, на основе проведённых стат. тестов можно утверждать следующее: среднее время на прохождение уровня через победу над противником меньше, чем через постройку станции. Среднее количество ивентов среди пользователей победивших противника в PVP меньше, чем среди пользователей построивших станцию."
   ]
  }
 ],
 "metadata": {
  "ExecuteTimeLog": [
   {
    "duration": 378,
    "start_time": "2022-11-21T20:31:22.836Z"
   },
   {
    "duration": 3,
    "start_time": "2022-11-21T20:31:25.226Z"
   },
   {
    "duration": 844,
    "start_time": "2022-11-21T20:32:01.819Z"
   },
   {
    "duration": 119,
    "start_time": "2022-11-21T20:32:35.285Z"
   },
   {
    "duration": 690,
    "start_time": "2022-11-21T20:32:57.269Z"
   },
   {
    "duration": 213,
    "start_time": "2022-11-21T20:33:01.075Z"
   },
   {
    "duration": 13,
    "start_time": "2022-11-21T20:33:07.446Z"
   },
   {
    "duration": 30,
    "start_time": "2022-11-21T20:33:13.320Z"
   },
   {
    "duration": 8,
    "start_time": "2022-11-21T20:33:26.021Z"
   },
   {
    "duration": 11,
    "start_time": "2022-11-21T20:33:49.035Z"
   },
   {
    "duration": 32,
    "start_time": "2022-11-21T20:35:06.873Z"
   },
   {
    "duration": 52,
    "start_time": "2022-11-21T20:35:14.269Z"
   },
   {
    "duration": 21,
    "start_time": "2022-11-21T20:35:22.139Z"
   },
   {
    "duration": 50,
    "start_time": "2022-11-21T20:35:48.487Z"
   },
   {
    "duration": 57,
    "start_time": "2022-11-21T20:36:31.635Z"
   },
   {
    "duration": 9,
    "start_time": "2022-11-21T20:36:49.900Z"
   },
   {
    "duration": 12,
    "start_time": "2022-11-21T20:36:51.799Z"
   },
   {
    "duration": 50,
    "start_time": "2022-11-21T20:36:54.753Z"
   },
   {
    "duration": 51,
    "start_time": "2022-11-21T20:36:55.745Z"
   },
   {
    "duration": 16,
    "start_time": "2022-11-21T20:38:01.846Z"
   },
   {
    "duration": 1158,
    "start_time": "2022-11-21T20:38:13.144Z"
   },
   {
    "duration": 11,
    "start_time": "2022-11-21T20:38:15.947Z"
   },
   {
    "duration": 12,
    "start_time": "2022-11-21T20:38:20.510Z"
   },
   {
    "duration": 985,
    "start_time": "2022-11-21T20:38:32.668Z"
   },
   {
    "duration": 203,
    "start_time": "2022-11-21T20:38:33.655Z"
   },
   {
    "duration": 33,
    "start_time": "2022-11-21T20:38:33.859Z"
   },
   {
    "duration": 11,
    "start_time": "2022-11-21T20:38:33.894Z"
   },
   {
    "duration": 42,
    "start_time": "2022-11-21T20:38:33.906Z"
   },
   {
    "duration": 52,
    "start_time": "2022-11-21T20:38:33.949Z"
   },
   {
    "duration": 86,
    "start_time": "2022-11-21T20:38:34.003Z"
   },
   {
    "duration": 13,
    "start_time": "2022-11-21T20:38:34.091Z"
   },
   {
    "duration": 21,
    "start_time": "2022-11-21T20:39:38.541Z"
   },
   {
    "duration": 118,
    "start_time": "2022-11-21T20:51:23.315Z"
   },
   {
    "duration": 67,
    "start_time": "2022-11-21T20:51:28.777Z"
   },
   {
    "duration": 10,
    "start_time": "2022-11-21T20:51:36.481Z"
   },
   {
    "duration": 9,
    "start_time": "2022-11-21T20:51:41.059Z"
   },
   {
    "duration": 11,
    "start_time": "2022-11-21T20:52:29.360Z"
   },
   {
    "duration": 11,
    "start_time": "2022-11-21T20:52:43.321Z"
   },
   {
    "duration": 1008,
    "start_time": "2022-11-21T20:52:57.162Z"
   },
   {
    "duration": 229,
    "start_time": "2022-11-21T20:52:58.172Z"
   },
   {
    "duration": 34,
    "start_time": "2022-11-21T20:52:58.403Z"
   },
   {
    "duration": 11,
    "start_time": "2022-11-21T20:52:58.439Z"
   },
   {
    "duration": 31,
    "start_time": "2022-11-21T20:52:58.452Z"
   },
   {
    "duration": 86,
    "start_time": "2022-11-21T20:52:58.485Z"
   },
   {
    "duration": 71,
    "start_time": "2022-11-21T20:52:58.573Z"
   },
   {
    "duration": 11,
    "start_time": "2022-11-21T20:52:58.645Z"
   },
   {
    "duration": 44,
    "start_time": "2022-11-21T20:52:58.657Z"
   },
   {
    "duration": 15,
    "start_time": "2022-11-21T20:52:58.703Z"
   },
   {
    "duration": 10,
    "start_time": "2022-11-21T20:52:58.719Z"
   },
   {
    "duration": 29,
    "start_time": "2022-11-21T20:52:58.731Z"
   },
   {
    "duration": 16,
    "start_time": "2022-11-21T20:52:58.761Z"
   },
   {
    "duration": 10,
    "start_time": "2022-11-21T20:53:09.291Z"
   },
   {
    "duration": 4,
    "start_time": "2022-11-21T20:53:10.356Z"
   },
   {
    "duration": 11,
    "start_time": "2022-11-21T20:53:11.356Z"
   },
   {
    "duration": 120,
    "start_time": "2022-11-21T20:53:47.152Z"
   },
   {
    "duration": 144,
    "start_time": "2022-11-21T20:53:56.137Z"
   },
   {
    "duration": 63,
    "start_time": "2022-11-21T20:54:02.711Z"
   },
   {
    "duration": 11,
    "start_time": "2022-11-21T20:54:04.729Z"
   },
   {
    "duration": 7,
    "start_time": "2022-11-21T20:54:09.168Z"
   },
   {
    "duration": 10,
    "start_time": "2022-11-21T20:57:20.478Z"
   },
   {
    "duration": 8,
    "start_time": "2022-11-21T20:57:25.079Z"
   },
   {
    "duration": 43,
    "start_time": "2022-11-21T21:00:15.136Z"
   },
   {
    "duration": 11,
    "start_time": "2022-11-21T21:00:17.730Z"
   },
   {
    "duration": 37,
    "start_time": "2022-11-21T21:01:05.113Z"
   },
   {
    "duration": 10,
    "start_time": "2022-11-21T21:01:05.614Z"
   },
   {
    "duration": 35,
    "start_time": "2022-11-21T21:01:40.893Z"
   },
   {
    "duration": 12,
    "start_time": "2022-11-21T21:01:43.656Z"
   },
   {
    "duration": 54,
    "start_time": "2022-11-21T21:02:28.012Z"
   },
   {
    "duration": 11,
    "start_time": "2022-11-21T21:02:28.479Z"
   },
   {
    "duration": 37,
    "start_time": "2022-11-21T21:05:03.200Z"
   },
   {
    "duration": 8,
    "start_time": "2022-11-21T21:05:26.385Z"
   },
   {
    "duration": 1096,
    "start_time": "2022-11-21T21:08:35.962Z"
   },
   {
    "duration": 211,
    "start_time": "2022-11-21T21:08:37.060Z"
   },
   {
    "duration": 31,
    "start_time": "2022-11-21T21:08:37.273Z"
   },
   {
    "duration": 19,
    "start_time": "2022-11-21T21:08:37.306Z"
   },
   {
    "duration": 31,
    "start_time": "2022-11-21T21:08:37.327Z"
   },
   {
    "duration": 78,
    "start_time": "2022-11-21T21:08:37.359Z"
   },
   {
    "duration": 63,
    "start_time": "2022-11-21T21:08:37.439Z"
   },
   {
    "duration": 22,
    "start_time": "2022-11-21T21:08:37.504Z"
   },
   {
    "duration": 23,
    "start_time": "2022-11-21T21:08:37.527Z"
   },
   {
    "duration": 15,
    "start_time": "2022-11-21T21:08:37.551Z"
   },
   {
    "duration": 11,
    "start_time": "2022-11-21T21:08:37.567Z"
   },
   {
    "duration": 12,
    "start_time": "2022-11-21T21:08:37.580Z"
   },
   {
    "duration": 6,
    "start_time": "2022-11-21T21:08:37.594Z"
   },
   {
    "duration": 15,
    "start_time": "2022-11-21T21:08:37.603Z"
   },
   {
    "duration": 29,
    "start_time": "2022-11-21T21:08:37.619Z"
   },
   {
    "duration": 10,
    "start_time": "2022-11-21T21:08:37.650Z"
   },
   {
    "duration": 11,
    "start_time": "2022-11-21T21:08:37.661Z"
   },
   {
    "duration": 40,
    "start_time": "2022-11-21T21:08:37.674Z"
   },
   {
    "duration": 8,
    "start_time": "2022-11-21T21:08:37.715Z"
   },
   {
    "duration": 124,
    "start_time": "2022-11-21T21:09:32.650Z"
   },
   {
    "duration": 142,
    "start_time": "2022-11-21T21:09:45.285Z"
   },
   {
    "duration": 164,
    "start_time": "2022-11-21T21:11:02.307Z"
   },
   {
    "duration": 170,
    "start_time": "2022-11-21T21:11:06.675Z"
   },
   {
    "duration": 5,
    "start_time": "2022-11-21T21:11:58.047Z"
   },
   {
    "duration": 6,
    "start_time": "2022-11-21T21:12:08.822Z"
   },
   {
    "duration": 203,
    "start_time": "2022-11-21T21:12:49.069Z"
   },
   {
    "duration": 8,
    "start_time": "2022-11-21T21:13:08.495Z"
   },
   {
    "duration": 18,
    "start_time": "2022-11-21T21:13:13.616Z"
   },
   {
    "duration": 6,
    "start_time": "2022-11-21T21:13:48.456Z"
   },
   {
    "duration": 5,
    "start_time": "2022-11-21T21:13:55.443Z"
   },
   {
    "duration": 13,
    "start_time": "2022-11-21T21:29:44.097Z"
   },
   {
    "duration": 13,
    "start_time": "2022-11-21T21:32:30.791Z"
   },
   {
    "duration": 49,
    "start_time": "2022-11-21T21:39:28.377Z"
   },
   {
    "duration": 22,
    "start_time": "2022-11-21T21:39:32.693Z"
   },
   {
    "duration": 14,
    "start_time": "2022-11-21T21:40:10.337Z"
   },
   {
    "duration": 103,
    "start_time": "2022-11-21T21:41:27.810Z"
   },
   {
    "duration": 14,
    "start_time": "2022-11-21T21:41:44.469Z"
   },
   {
    "duration": 181,
    "start_time": "2022-11-21T21:42:07.412Z"
   },
   {
    "duration": 62,
    "start_time": "2022-11-21T21:42:37.476Z"
   },
   {
    "duration": 54,
    "start_time": "2022-11-21T21:42:40.898Z"
   },
   {
    "duration": 54,
    "start_time": "2022-11-21T21:42:45.242Z"
   },
   {
    "duration": 148,
    "start_time": "2022-11-21T21:42:55.438Z"
   },
   {
    "duration": 176,
    "start_time": "2022-11-21T21:43:05.381Z"
   },
   {
    "duration": 222,
    "start_time": "2022-11-21T21:43:33.492Z"
   },
   {
    "duration": 273,
    "start_time": "2022-11-21T21:43:39.371Z"
   },
   {
    "duration": 234,
    "start_time": "2022-11-21T21:43:56.963Z"
   },
   {
    "duration": 220,
    "start_time": "2022-11-21T21:44:36.586Z"
   },
   {
    "duration": 282,
    "start_time": "2022-11-21T21:45:48.072Z"
   },
   {
    "duration": 187,
    "start_time": "2022-11-21T21:46:16.049Z"
   },
   {
    "duration": 214,
    "start_time": "2022-11-21T21:46:19.678Z"
   },
   {
    "duration": 186,
    "start_time": "2022-11-21T21:46:38.650Z"
   },
   {
    "duration": 58,
    "start_time": "2022-11-22T13:28:08.453Z"
   },
   {
    "duration": 1277,
    "start_time": "2022-11-22T13:28:12.313Z"
   },
   {
    "duration": 567,
    "start_time": "2022-11-22T13:28:13.596Z"
   },
   {
    "duration": 45,
    "start_time": "2022-11-22T13:28:14.164Z"
   },
   {
    "duration": 12,
    "start_time": "2022-11-22T13:28:14.211Z"
   },
   {
    "duration": 47,
    "start_time": "2022-11-22T13:28:14.225Z"
   },
   {
    "duration": 64,
    "start_time": "2022-11-22T13:28:14.274Z"
   },
   {
    "duration": 76,
    "start_time": "2022-11-22T13:28:14.340Z"
   },
   {
    "duration": 11,
    "start_time": "2022-11-22T13:28:14.418Z"
   },
   {
    "duration": 59,
    "start_time": "2022-11-22T13:28:14.431Z"
   },
   {
    "duration": 65,
    "start_time": "2022-11-22T13:28:14.493Z"
   },
   {
    "duration": 10,
    "start_time": "2022-11-22T13:28:14.560Z"
   },
   {
    "duration": 14,
    "start_time": "2022-11-22T13:28:14.572Z"
   },
   {
    "duration": 5,
    "start_time": "2022-11-22T13:28:14.587Z"
   },
   {
    "duration": 25,
    "start_time": "2022-11-22T13:28:14.594Z"
   },
   {
    "duration": 86,
    "start_time": "2022-11-22T13:28:14.620Z"
   },
   {
    "duration": 14,
    "start_time": "2022-11-22T13:28:14.708Z"
   },
   {
    "duration": 6,
    "start_time": "2022-11-22T13:28:14.724Z"
   },
   {
    "duration": 42,
    "start_time": "2022-11-22T13:28:14.732Z"
   },
   {
    "duration": 11,
    "start_time": "2022-11-22T13:28:14.776Z"
   },
   {
    "duration": 219,
    "start_time": "2022-11-22T13:28:14.789Z"
   },
   {
    "duration": 5,
    "start_time": "2022-11-22T13:28:15.011Z"
   },
   {
    "duration": 16,
    "start_time": "2022-11-22T13:28:15.018Z"
   },
   {
    "duration": 5,
    "start_time": "2022-11-22T13:28:15.036Z"
   },
   {
    "duration": 39,
    "start_time": "2022-11-22T13:28:15.042Z"
   },
   {
    "duration": 31,
    "start_time": "2022-11-22T13:28:15.083Z"
   },
   {
    "duration": 235,
    "start_time": "2022-11-22T13:28:15.116Z"
   },
   {
    "duration": 68,
    "start_time": "2022-11-22T13:31:47.868Z"
   },
   {
    "duration": 13,
    "start_time": "2022-11-22T13:31:52.757Z"
   },
   {
    "duration": 1192,
    "start_time": "2022-11-22T13:32:32.949Z"
   },
   {
    "duration": 14,
    "start_time": "2022-11-22T13:32:34.143Z"
   },
   {
    "duration": 68,
    "start_time": "2022-11-22T13:33:14.843Z"
   },
   {
    "duration": 66,
    "start_time": "2022-11-22T13:33:21.010Z"
   },
   {
    "duration": 15,
    "start_time": "2022-11-22T13:33:21.538Z"
   },
   {
    "duration": 14,
    "start_time": "2022-11-22T13:33:42.842Z"
   },
   {
    "duration": 15,
    "start_time": "2022-11-22T13:33:50.416Z"
   },
   {
    "duration": 78,
    "start_time": "2022-11-22T13:34:53.557Z"
   },
   {
    "duration": 15,
    "start_time": "2022-11-22T13:34:53.863Z"
   },
   {
    "duration": 9,
    "start_time": "2022-11-22T13:35:08.427Z"
   },
   {
    "duration": 13,
    "start_time": "2022-11-22T13:35:10.348Z"
   },
   {
    "duration": 64,
    "start_time": "2022-11-22T13:35:47.666Z"
   },
   {
    "duration": 16,
    "start_time": "2022-11-22T13:35:48.053Z"
   },
   {
    "duration": 96,
    "start_time": "2022-11-22T13:35:55.891Z"
   },
   {
    "duration": 26,
    "start_time": "2022-11-22T13:35:56.193Z"
   },
   {
    "duration": 81,
    "start_time": "2022-11-22T13:36:05.787Z"
   },
   {
    "duration": 17,
    "start_time": "2022-11-22T13:36:06.165Z"
   },
   {
    "duration": 83,
    "start_time": "2022-11-22T13:36:10.962Z"
   },
   {
    "duration": 21,
    "start_time": "2022-11-22T13:36:11.201Z"
   },
   {
    "duration": 190,
    "start_time": "2022-11-22T13:36:37.886Z"
   },
   {
    "duration": 19,
    "start_time": "2022-11-22T13:36:38.307Z"
   },
   {
    "duration": 84,
    "start_time": "2022-11-22T13:36:44.495Z"
   },
   {
    "duration": 89,
    "start_time": "2022-11-22T13:36:53.248Z"
   },
   {
    "duration": 15,
    "start_time": "2022-11-22T13:36:54.233Z"
   },
   {
    "duration": 15,
    "start_time": "2022-11-22T13:36:57.664Z"
   },
   {
    "duration": 88,
    "start_time": "2022-11-22T13:37:14.744Z"
   },
   {
    "duration": 90,
    "start_time": "2022-11-22T13:37:18.662Z"
   },
   {
    "duration": 86,
    "start_time": "2022-11-22T13:37:22.055Z"
   },
   {
    "duration": 83,
    "start_time": "2022-11-22T13:37:25.425Z"
   },
   {
    "duration": 16,
    "start_time": "2022-11-22T13:37:26.282Z"
   },
   {
    "duration": 62,
    "start_time": "2022-11-22T13:37:43.224Z"
   },
   {
    "duration": 13,
    "start_time": "2022-11-22T13:37:43.728Z"
   },
   {
    "duration": 74,
    "start_time": "2022-11-22T13:37:47.680Z"
   },
   {
    "duration": 17,
    "start_time": "2022-11-22T13:37:49.545Z"
   },
   {
    "duration": 15,
    "start_time": "2022-11-22T13:38:14.823Z"
   },
   {
    "duration": 8,
    "start_time": "2022-11-22T13:39:09.310Z"
   },
   {
    "duration": 2,
    "start_time": "2022-11-22T13:39:28.729Z"
   },
   {
    "duration": 15,
    "start_time": "2022-11-22T13:39:33.006Z"
   },
   {
    "duration": 13,
    "start_time": "2022-11-22T13:39:38.831Z"
   },
   {
    "duration": 257,
    "start_time": "2022-11-22T13:40:36.656Z"
   },
   {
    "duration": 5,
    "start_time": "2022-11-22T13:40:46.191Z"
   },
   {
    "duration": 15,
    "start_time": "2022-11-22T13:40:50.607Z"
   },
   {
    "duration": 15,
    "start_time": "2022-11-22T13:41:06.785Z"
   },
   {
    "duration": 19,
    "start_time": "2022-11-22T13:41:39.995Z"
   },
   {
    "duration": 3,
    "start_time": "2022-11-22T13:42:34.989Z"
   },
   {
    "duration": 24,
    "start_time": "2022-11-22T13:42:36.095Z"
   },
   {
    "duration": 1085,
    "start_time": "2022-11-22T13:42:47.787Z"
   },
   {
    "duration": 249,
    "start_time": "2022-11-22T13:42:48.874Z"
   },
   {
    "duration": 39,
    "start_time": "2022-11-22T13:42:49.125Z"
   },
   {
    "duration": 35,
    "start_time": "2022-11-22T13:42:49.165Z"
   },
   {
    "duration": 40,
    "start_time": "2022-11-22T13:42:49.207Z"
   },
   {
    "duration": 69,
    "start_time": "2022-11-22T13:42:49.249Z"
   },
   {
    "duration": 79,
    "start_time": "2022-11-22T13:42:49.319Z"
   },
   {
    "duration": 16,
    "start_time": "2022-11-22T13:42:49.404Z"
   },
   {
    "duration": 24,
    "start_time": "2022-11-22T13:42:49.422Z"
   },
   {
    "duration": 16,
    "start_time": "2022-11-22T13:42:49.447Z"
   },
   {
    "duration": 10,
    "start_time": "2022-11-22T13:42:49.465Z"
   },
   {
    "duration": 29,
    "start_time": "2022-11-22T13:42:49.477Z"
   },
   {
    "duration": 8,
    "start_time": "2022-11-22T13:42:49.509Z"
   },
   {
    "duration": 16,
    "start_time": "2022-11-22T13:42:49.519Z"
   },
   {
    "duration": 30,
    "start_time": "2022-11-22T13:42:49.537Z"
   },
   {
    "duration": 12,
    "start_time": "2022-11-22T13:42:49.569Z"
   },
   {
    "duration": 20,
    "start_time": "2022-11-22T13:42:49.583Z"
   },
   {
    "duration": 48,
    "start_time": "2022-11-22T13:42:49.605Z"
   },
   {
    "duration": 12,
    "start_time": "2022-11-22T13:42:49.655Z"
   },
   {
    "duration": 209,
    "start_time": "2022-11-22T13:42:49.669Z"
   },
   {
    "duration": 6,
    "start_time": "2022-11-22T13:42:49.880Z"
   },
   {
    "duration": 12,
    "start_time": "2022-11-22T13:42:49.903Z"
   },
   {
    "duration": 8,
    "start_time": "2022-11-22T13:42:49.917Z"
   },
   {
    "duration": 37,
    "start_time": "2022-11-22T13:42:49.927Z"
   },
   {
    "duration": 11,
    "start_time": "2022-11-22T13:42:49.966Z"
   },
   {
    "duration": 252,
    "start_time": "2022-11-22T13:42:49.979Z"
   },
   {
    "duration": 97,
    "start_time": "2022-11-22T13:42:50.233Z"
   },
   {
    "duration": 4,
    "start_time": "2022-11-22T13:42:50.332Z"
   },
   {
    "duration": 33,
    "start_time": "2022-11-22T13:42:50.338Z"
   },
   {
    "duration": 29,
    "start_time": "2022-11-22T13:42:50.373Z"
   },
   {
    "duration": 8,
    "start_time": "2022-11-22T13:43:23.013Z"
   },
   {
    "duration": 15,
    "start_time": "2022-11-22T13:43:23.428Z"
   },
   {
    "duration": 42,
    "start_time": "2022-11-22T13:43:56.632Z"
   },
   {
    "duration": 1142,
    "start_time": "2022-11-22T13:44:24.874Z"
   },
   {
    "duration": 268,
    "start_time": "2022-11-22T13:44:26.019Z"
   },
   {
    "duration": 41,
    "start_time": "2022-11-22T13:44:26.290Z"
   },
   {
    "duration": 14,
    "start_time": "2022-11-22T13:44:26.334Z"
   },
   {
    "duration": 50,
    "start_time": "2022-11-22T13:44:26.349Z"
   },
   {
    "duration": 59,
    "start_time": "2022-11-22T13:44:26.407Z"
   },
   {
    "duration": 73,
    "start_time": "2022-11-22T13:44:26.468Z"
   },
   {
    "duration": 10,
    "start_time": "2022-11-22T13:44:26.543Z"
   },
   {
    "duration": 25,
    "start_time": "2022-11-22T13:44:26.554Z"
   },
   {
    "duration": 24,
    "start_time": "2022-11-22T13:44:26.597Z"
   },
   {
    "duration": 14,
    "start_time": "2022-11-22T13:44:26.624Z"
   },
   {
    "duration": 14,
    "start_time": "2022-11-22T13:44:26.640Z"
   },
   {
    "duration": 5,
    "start_time": "2022-11-22T13:44:26.656Z"
   },
   {
    "duration": 14,
    "start_time": "2022-11-22T13:44:26.663Z"
   },
   {
    "duration": 35,
    "start_time": "2022-11-22T13:44:26.678Z"
   },
   {
    "duration": 11,
    "start_time": "2022-11-22T13:44:26.715Z"
   },
   {
    "duration": 15,
    "start_time": "2022-11-22T13:44:26.727Z"
   },
   {
    "duration": 43,
    "start_time": "2022-11-22T13:44:26.744Z"
   },
   {
    "duration": 22,
    "start_time": "2022-11-22T13:44:26.788Z"
   },
   {
    "duration": 201,
    "start_time": "2022-11-22T13:44:26.812Z"
   },
   {
    "duration": 6,
    "start_time": "2022-11-22T13:44:27.015Z"
   },
   {
    "duration": 10,
    "start_time": "2022-11-22T13:44:27.023Z"
   },
   {
    "duration": 7,
    "start_time": "2022-11-22T13:44:27.035Z"
   },
   {
    "duration": 69,
    "start_time": "2022-11-22T13:44:27.044Z"
   },
   {
    "duration": 11,
    "start_time": "2022-11-22T13:44:27.115Z"
   },
   {
    "duration": 237,
    "start_time": "2022-11-22T13:44:27.127Z"
   },
   {
    "duration": 81,
    "start_time": "2022-11-22T13:44:27.366Z"
   },
   {
    "duration": 2,
    "start_time": "2022-11-22T13:44:27.450Z"
   },
   {
    "duration": 122,
    "start_time": "2022-11-22T13:44:27.453Z"
   },
   {
    "duration": 0,
    "start_time": "2022-11-22T13:44:27.577Z"
   },
   {
    "duration": 14,
    "start_time": "2022-11-22T13:44:47.211Z"
   },
   {
    "duration": 13,
    "start_time": "2022-11-22T13:44:52.714Z"
   },
   {
    "duration": 51,
    "start_time": "2022-11-22T13:45:09.013Z"
   },
   {
    "duration": 70,
    "start_time": "2022-11-22T13:45:51.940Z"
   },
   {
    "duration": 3,
    "start_time": "2022-11-22T13:47:00.980Z"
   },
   {
    "duration": 13,
    "start_time": "2022-11-22T13:47:02.041Z"
   },
   {
    "duration": 4,
    "start_time": "2022-11-22T13:47:53.440Z"
   },
   {
    "duration": 14,
    "start_time": "2022-11-22T13:47:58.132Z"
   },
   {
    "duration": 15,
    "start_time": "2022-11-22T13:49:21.558Z"
   },
   {
    "duration": 5,
    "start_time": "2022-11-22T13:50:07.134Z"
   },
   {
    "duration": 15,
    "start_time": "2022-11-22T13:50:07.622Z"
   },
   {
    "duration": 15,
    "start_time": "2022-11-22T13:50:12.327Z"
   },
   {
    "duration": 6,
    "start_time": "2022-11-22T13:50:18.224Z"
   },
   {
    "duration": 17,
    "start_time": "2022-11-22T13:50:18.510Z"
   },
   {
    "duration": 1090,
    "start_time": "2022-11-22T13:50:24.378Z"
   },
   {
    "duration": 234,
    "start_time": "2022-11-22T13:50:25.470Z"
   },
   {
    "duration": 37,
    "start_time": "2022-11-22T13:50:25.709Z"
   },
   {
    "duration": 12,
    "start_time": "2022-11-22T13:50:25.748Z"
   },
   {
    "duration": 50,
    "start_time": "2022-11-22T13:50:25.761Z"
   },
   {
    "duration": 57,
    "start_time": "2022-11-22T13:50:25.813Z"
   },
   {
    "duration": 77,
    "start_time": "2022-11-22T13:50:25.872Z"
   },
   {
    "duration": 11,
    "start_time": "2022-11-22T13:50:25.951Z"
   },
   {
    "duration": 47,
    "start_time": "2022-11-22T13:50:25.964Z"
   },
   {
    "duration": 15,
    "start_time": "2022-11-22T13:50:26.015Z"
   },
   {
    "duration": 10,
    "start_time": "2022-11-22T13:50:26.032Z"
   },
   {
    "duration": 13,
    "start_time": "2022-11-22T13:50:26.044Z"
   },
   {
    "duration": 10,
    "start_time": "2022-11-22T13:50:26.059Z"
   },
   {
    "duration": 52,
    "start_time": "2022-11-22T13:50:26.071Z"
   },
   {
    "duration": 35,
    "start_time": "2022-11-22T13:50:26.125Z"
   },
   {
    "duration": 12,
    "start_time": "2022-11-22T13:50:26.162Z"
   },
   {
    "duration": 12,
    "start_time": "2022-11-22T13:50:26.176Z"
   },
   {
    "duration": 57,
    "start_time": "2022-11-22T13:50:26.190Z"
   },
   {
    "duration": 14,
    "start_time": "2022-11-22T13:50:26.250Z"
   },
   {
    "duration": 250,
    "start_time": "2022-11-22T13:50:26.266Z"
   },
   {
    "duration": 7,
    "start_time": "2022-11-22T13:50:26.518Z"
   },
   {
    "duration": 9,
    "start_time": "2022-11-22T13:50:26.526Z"
   },
   {
    "duration": 6,
    "start_time": "2022-11-22T13:50:26.538Z"
   },
   {
    "duration": 79,
    "start_time": "2022-11-22T13:50:26.546Z"
   },
   {
    "duration": 12,
    "start_time": "2022-11-22T13:50:26.627Z"
   },
   {
    "duration": 223,
    "start_time": "2022-11-22T13:50:26.641Z"
   },
   {
    "duration": 84,
    "start_time": "2022-11-22T13:50:26.866Z"
   },
   {
    "duration": 2,
    "start_time": "2022-11-22T13:50:26.954Z"
   },
   {
    "duration": 9,
    "start_time": "2022-11-22T13:50:26.958Z"
   },
   {
    "duration": 10,
    "start_time": "2022-11-22T13:50:26.969Z"
   },
   {
    "duration": 29,
    "start_time": "2022-11-22T13:50:26.981Z"
   },
   {
    "duration": 12,
    "start_time": "2022-11-22T13:50:30.969Z"
   },
   {
    "duration": 101,
    "start_time": "2022-11-22T13:52:21.480Z"
   },
   {
    "duration": 9,
    "start_time": "2022-11-22T13:52:24.201Z"
   },
   {
    "duration": 11,
    "start_time": "2022-11-22T13:52:25.149Z"
   },
   {
    "duration": 7,
    "start_time": "2022-11-22T13:53:36.629Z"
   },
   {
    "duration": 10,
    "start_time": "2022-11-22T13:53:36.933Z"
   },
   {
    "duration": 9,
    "start_time": "2022-11-22T14:00:13.050Z"
   },
   {
    "duration": 9,
    "start_time": "2022-11-22T14:01:15.235Z"
   },
   {
    "duration": 10,
    "start_time": "2022-11-22T14:01:20.451Z"
   },
   {
    "duration": 5,
    "start_time": "2022-11-22T14:01:35.495Z"
   },
   {
    "duration": 3,
    "start_time": "2022-11-22T14:01:43.123Z"
   },
   {
    "duration": 10,
    "start_time": "2022-11-22T14:01:44.170Z"
   },
   {
    "duration": 11,
    "start_time": "2022-11-22T14:01:53.510Z"
   },
   {
    "duration": 9,
    "start_time": "2022-11-22T14:01:57.725Z"
   },
   {
    "duration": 73,
    "start_time": "2022-11-22T14:03:11.059Z"
   },
   {
    "duration": 3,
    "start_time": "2022-11-22T14:03:11.365Z"
   },
   {
    "duration": 3,
    "start_time": "2022-11-22T14:03:11.577Z"
   },
   {
    "duration": 6,
    "start_time": "2022-11-22T14:03:11.740Z"
   },
   {
    "duration": 8,
    "start_time": "2022-11-22T14:03:11.914Z"
   },
   {
    "duration": 11,
    "start_time": "2022-11-22T14:03:12.064Z"
   },
   {
    "duration": 10,
    "start_time": "2022-11-22T14:03:13.114Z"
   },
   {
    "duration": 4,
    "start_time": "2022-11-22T14:03:13.738Z"
   },
   {
    "duration": 8,
    "start_time": "2022-11-22T14:03:14.183Z"
   },
   {
    "duration": 11,
    "start_time": "2022-11-22T14:04:24.230Z"
   },
   {
    "duration": 9,
    "start_time": "2022-11-22T14:04:30.273Z"
   },
   {
    "duration": 14,
    "start_time": "2022-11-22T14:04:44.954Z"
   },
   {
    "duration": 9,
    "start_time": "2022-11-22T14:05:03.961Z"
   },
   {
    "duration": 4,
    "start_time": "2022-11-22T14:05:06.262Z"
   },
   {
    "duration": 9,
    "start_time": "2022-11-22T14:05:06.865Z"
   },
   {
    "duration": 1164,
    "start_time": "2022-11-22T14:05:11.990Z"
   },
   {
    "duration": 223,
    "start_time": "2022-11-22T14:05:13.156Z"
   },
   {
    "duration": 42,
    "start_time": "2022-11-22T14:05:13.380Z"
   },
   {
    "duration": 12,
    "start_time": "2022-11-22T14:05:13.423Z"
   },
   {
    "duration": 41,
    "start_time": "2022-11-22T14:05:13.437Z"
   },
   {
    "duration": 68,
    "start_time": "2022-11-22T14:05:13.480Z"
   },
   {
    "duration": 75,
    "start_time": "2022-11-22T14:05:13.550Z"
   },
   {
    "duration": 10,
    "start_time": "2022-11-22T14:05:13.627Z"
   },
   {
    "duration": 23,
    "start_time": "2022-11-22T14:05:13.638Z"
   },
   {
    "duration": 17,
    "start_time": "2022-11-22T14:05:13.662Z"
   },
   {
    "duration": 33,
    "start_time": "2022-11-22T14:05:13.680Z"
   },
   {
    "duration": 11,
    "start_time": "2022-11-22T14:05:13.714Z"
   },
   {
    "duration": 11,
    "start_time": "2022-11-22T14:05:13.727Z"
   },
   {
    "duration": 15,
    "start_time": "2022-11-22T14:05:13.740Z"
   },
   {
    "duration": 33,
    "start_time": "2022-11-22T14:05:13.756Z"
   },
   {
    "duration": 21,
    "start_time": "2022-11-22T14:05:13.791Z"
   },
   {
    "duration": 16,
    "start_time": "2022-11-22T14:05:13.814Z"
   },
   {
    "duration": 57,
    "start_time": "2022-11-22T14:05:13.831Z"
   },
   {
    "duration": 16,
    "start_time": "2022-11-22T14:05:13.890Z"
   },
   {
    "duration": 227,
    "start_time": "2022-11-22T14:05:13.909Z"
   },
   {
    "duration": 7,
    "start_time": "2022-11-22T14:05:14.138Z"
   },
   {
    "duration": 21,
    "start_time": "2022-11-22T14:05:14.147Z"
   },
   {
    "duration": 7,
    "start_time": "2022-11-22T14:05:14.170Z"
   },
   {
    "duration": 55,
    "start_time": "2022-11-22T14:05:14.179Z"
   },
   {
    "duration": 10,
    "start_time": "2022-11-22T14:05:14.235Z"
   },
   {
    "duration": 98,
    "start_time": "2022-11-22T14:05:14.246Z"
   },
   {
    "duration": 3,
    "start_time": "2022-11-22T14:05:14.346Z"
   },
   {
    "duration": 26,
    "start_time": "2022-11-22T14:05:14.350Z"
   },
   {
    "duration": 17,
    "start_time": "2022-11-22T14:05:14.377Z"
   },
   {
    "duration": 37,
    "start_time": "2022-11-22T14:05:14.396Z"
   },
   {
    "duration": 25,
    "start_time": "2022-11-22T14:05:14.435Z"
   },
   {
    "duration": 17,
    "start_time": "2022-11-22T14:05:14.461Z"
   },
   {
    "duration": 8,
    "start_time": "2022-11-22T14:05:14.479Z"
   },
   {
    "duration": 20,
    "start_time": "2022-11-22T14:05:14.489Z"
   },
   {
    "duration": 25,
    "start_time": "2022-11-22T14:05:14.513Z"
   },
   {
    "duration": 8,
    "start_time": "2022-11-22T14:05:14.540Z"
   },
   {
    "duration": 7,
    "start_time": "2022-11-22T14:06:04.625Z"
   },
   {
    "duration": 111,
    "start_time": "2022-11-22T14:08:22.436Z"
   },
   {
    "duration": 12,
    "start_time": "2022-11-22T14:09:07.388Z"
   },
   {
    "duration": 7,
    "start_time": "2022-11-22T14:09:18.897Z"
   },
   {
    "duration": 9,
    "start_time": "2022-11-22T14:09:19.493Z"
   },
   {
    "duration": 14,
    "start_time": "2022-11-22T14:09:23.260Z"
   },
   {
    "duration": 15,
    "start_time": "2022-11-22T14:09:29.529Z"
   },
   {
    "duration": 11,
    "start_time": "2022-11-22T14:09:41.644Z"
   },
   {
    "duration": 1085,
    "start_time": "2022-11-22T14:10:10.488Z"
   },
   {
    "duration": 234,
    "start_time": "2022-11-22T14:10:11.575Z"
   },
   {
    "duration": 32,
    "start_time": "2022-11-22T14:10:11.811Z"
   },
   {
    "duration": 11,
    "start_time": "2022-11-22T14:10:11.845Z"
   },
   {
    "duration": 51,
    "start_time": "2022-11-22T14:10:11.858Z"
   },
   {
    "duration": 62,
    "start_time": "2022-11-22T14:10:11.912Z"
   },
   {
    "duration": 81,
    "start_time": "2022-11-22T14:10:11.975Z"
   },
   {
    "duration": 12,
    "start_time": "2022-11-22T14:10:12.057Z"
   },
   {
    "duration": 41,
    "start_time": "2022-11-22T14:10:12.070Z"
   },
   {
    "duration": 19,
    "start_time": "2022-11-22T14:10:12.114Z"
   },
   {
    "duration": 10,
    "start_time": "2022-11-22T14:10:12.135Z"
   },
   {
    "duration": 14,
    "start_time": "2022-11-22T14:10:12.147Z"
   },
   {
    "duration": 12,
    "start_time": "2022-11-22T14:10:12.163Z"
   },
   {
    "duration": 28,
    "start_time": "2022-11-22T14:10:12.178Z"
   },
   {
    "duration": 38,
    "start_time": "2022-11-22T14:10:12.207Z"
   },
   {
    "duration": 11,
    "start_time": "2022-11-22T14:10:12.247Z"
   },
   {
    "duration": 21,
    "start_time": "2022-11-22T14:10:12.260Z"
   },
   {
    "duration": 64,
    "start_time": "2022-11-22T14:10:12.283Z"
   },
   {
    "duration": 12,
    "start_time": "2022-11-22T14:10:12.349Z"
   },
   {
    "duration": 194,
    "start_time": "2022-11-22T14:10:12.362Z"
   },
   {
    "duration": 5,
    "start_time": "2022-11-22T14:10:12.558Z"
   },
   {
    "duration": 10,
    "start_time": "2022-11-22T14:10:12.564Z"
   },
   {
    "duration": 12,
    "start_time": "2022-11-22T14:10:12.575Z"
   },
   {
    "duration": 42,
    "start_time": "2022-11-22T14:10:12.596Z"
   },
   {
    "duration": 11,
    "start_time": "2022-11-22T14:10:12.639Z"
   },
   {
    "duration": 91,
    "start_time": "2022-11-22T14:10:12.651Z"
   },
   {
    "duration": 3,
    "start_time": "2022-11-22T14:10:12.743Z"
   },
   {
    "duration": 17,
    "start_time": "2022-11-22T14:10:12.748Z"
   },
   {
    "duration": 12,
    "start_time": "2022-11-22T14:10:12.766Z"
   },
   {
    "duration": 49,
    "start_time": "2022-11-22T14:10:12.780Z"
   },
   {
    "duration": 11,
    "start_time": "2022-11-22T14:10:12.831Z"
   },
   {
    "duration": 11,
    "start_time": "2022-11-22T14:10:12.844Z"
   },
   {
    "duration": 15,
    "start_time": "2022-11-22T14:10:12.856Z"
   },
   {
    "duration": 12,
    "start_time": "2022-11-22T14:10:12.873Z"
   },
   {
    "duration": 39,
    "start_time": "2022-11-22T14:10:12.886Z"
   },
   {
    "duration": 19,
    "start_time": "2022-11-22T14:10:12.927Z"
   },
   {
    "duration": 110,
    "start_time": "2022-11-22T14:10:12.947Z"
   },
   {
    "duration": 10,
    "start_time": "2022-11-22T14:10:42.943Z"
   },
   {
    "duration": 12,
    "start_time": "2022-11-22T14:10:48.173Z"
   },
   {
    "duration": 12,
    "start_time": "2022-11-22T14:11:34.297Z"
   },
   {
    "duration": 8,
    "start_time": "2022-11-22T14:11:34.674Z"
   },
   {
    "duration": 13,
    "start_time": "2022-11-22T14:12:15.816Z"
   },
   {
    "duration": 9,
    "start_time": "2022-11-22T14:12:16.936Z"
   },
   {
    "duration": 18,
    "start_time": "2022-11-22T14:12:17.651Z"
   },
   {
    "duration": 6,
    "start_time": "2022-11-22T14:12:18.564Z"
   },
   {
    "duration": 16,
    "start_time": "2022-11-22T14:12:23.689Z"
   },
   {
    "duration": 6,
    "start_time": "2022-11-22T14:13:34.688Z"
   },
   {
    "duration": 11,
    "start_time": "2022-11-22T14:13:36.696Z"
   },
   {
    "duration": 10,
    "start_time": "2022-11-22T14:14:29.672Z"
   },
   {
    "duration": 16,
    "start_time": "2022-11-22T14:15:22.801Z"
   },
   {
    "duration": 4,
    "start_time": "2022-11-22T14:16:43.544Z"
   },
   {
    "duration": 15,
    "start_time": "2022-11-22T14:16:45.374Z"
   },
   {
    "duration": 15,
    "start_time": "2022-11-22T14:16:50.610Z"
   },
   {
    "duration": 1387,
    "start_time": "2022-11-22T14:17:27.359Z"
   },
   {
    "duration": 0,
    "start_time": "2022-11-22T14:17:28.748Z"
   },
   {
    "duration": 1164,
    "start_time": "2022-11-22T14:17:40.690Z"
   },
   {
    "duration": 244,
    "start_time": "2022-11-22T14:17:41.856Z"
   },
   {
    "duration": 35,
    "start_time": "2022-11-22T14:17:42.102Z"
   },
   {
    "duration": 13,
    "start_time": "2022-11-22T14:17:42.139Z"
   },
   {
    "duration": 57,
    "start_time": "2022-11-22T14:17:42.153Z"
   },
   {
    "duration": 60,
    "start_time": "2022-11-22T14:17:42.212Z"
   },
   {
    "duration": 80,
    "start_time": "2022-11-22T14:17:42.274Z"
   },
   {
    "duration": 11,
    "start_time": "2022-11-22T14:17:42.356Z"
   },
   {
    "duration": 39,
    "start_time": "2022-11-22T14:17:42.369Z"
   },
   {
    "duration": 16,
    "start_time": "2022-11-22T14:17:42.412Z"
   },
   {
    "duration": 12,
    "start_time": "2022-11-22T14:17:42.429Z"
   },
   {
    "duration": 19,
    "start_time": "2022-11-22T14:17:42.443Z"
   },
   {
    "duration": 13,
    "start_time": "2022-11-22T14:17:42.464Z"
   },
   {
    "duration": 13,
    "start_time": "2022-11-22T14:17:42.479Z"
   },
   {
    "duration": 44,
    "start_time": "2022-11-22T14:17:42.501Z"
   },
   {
    "duration": 12,
    "start_time": "2022-11-22T14:17:42.546Z"
   },
   {
    "duration": 11,
    "start_time": "2022-11-22T14:17:42.559Z"
   },
   {
    "duration": 49,
    "start_time": "2022-11-22T14:17:42.572Z"
   },
   {
    "duration": 12,
    "start_time": "2022-11-22T14:17:42.622Z"
   },
   {
    "duration": 228,
    "start_time": "2022-11-22T14:17:42.636Z"
   },
   {
    "duration": 8,
    "start_time": "2022-11-22T14:17:42.866Z"
   },
   {
    "duration": 30,
    "start_time": "2022-11-22T14:17:42.876Z"
   },
   {
    "duration": 15,
    "start_time": "2022-11-22T14:17:42.908Z"
   },
   {
    "duration": 52,
    "start_time": "2022-11-22T14:17:42.925Z"
   },
   {
    "duration": 11,
    "start_time": "2022-11-22T14:17:42.979Z"
   },
   {
    "duration": 82,
    "start_time": "2022-11-22T14:17:42.992Z"
   },
   {
    "duration": 3,
    "start_time": "2022-11-22T14:17:43.076Z"
   },
   {
    "duration": 6,
    "start_time": "2022-11-22T14:17:43.083Z"
   },
   {
    "duration": 23,
    "start_time": "2022-11-22T14:17:43.091Z"
   },
   {
    "duration": 10,
    "start_time": "2022-11-22T14:17:43.116Z"
   },
   {
    "duration": 16,
    "start_time": "2022-11-22T14:17:43.128Z"
   },
   {
    "duration": 20,
    "start_time": "2022-11-22T14:17:43.145Z"
   },
   {
    "duration": 7,
    "start_time": "2022-11-22T14:17:43.167Z"
   },
   {
    "duration": 13,
    "start_time": "2022-11-22T14:17:43.176Z"
   },
   {
    "duration": 30,
    "start_time": "2022-11-22T14:17:43.191Z"
   },
   {
    "duration": 13,
    "start_time": "2022-11-22T14:17:43.223Z"
   },
   {
    "duration": 17,
    "start_time": "2022-11-22T14:17:43.237Z"
   },
   {
    "duration": 14,
    "start_time": "2022-11-22T14:17:43.255Z"
   },
   {
    "duration": 17,
    "start_time": "2022-11-22T14:17:43.271Z"
   },
   {
    "duration": 22,
    "start_time": "2022-11-22T14:17:43.289Z"
   },
   {
    "duration": 8,
    "start_time": "2022-11-22T14:17:43.313Z"
   },
   {
    "duration": 1607,
    "start_time": "2022-11-22T14:17:43.323Z"
   },
   {
    "duration": 0,
    "start_time": "2022-11-22T14:17:44.932Z"
   },
   {
    "duration": 13,
    "start_time": "2022-11-22T14:17:55.434Z"
   },
   {
    "duration": 4,
    "start_time": "2022-11-22T14:18:06.364Z"
   },
   {
    "duration": 3,
    "start_time": "2022-11-22T14:18:09.959Z"
   },
   {
    "duration": 14,
    "start_time": "2022-11-22T14:18:10.621Z"
   },
   {
    "duration": 14,
    "start_time": "2022-11-22T14:18:31.679Z"
   },
   {
    "duration": 1089,
    "start_time": "2022-11-22T14:20:04.878Z"
   },
   {
    "duration": 256,
    "start_time": "2022-11-22T14:20:05.970Z"
   },
   {
    "duration": 37,
    "start_time": "2022-11-22T14:20:06.228Z"
   },
   {
    "duration": 43,
    "start_time": "2022-11-22T14:20:06.268Z"
   },
   {
    "duration": 37,
    "start_time": "2022-11-22T14:20:06.313Z"
   },
   {
    "duration": 70,
    "start_time": "2022-11-22T14:20:06.352Z"
   },
   {
    "duration": 65,
    "start_time": "2022-11-22T14:20:06.424Z"
   },
   {
    "duration": 28,
    "start_time": "2022-11-22T14:20:06.490Z"
   },
   {
    "duration": 28,
    "start_time": "2022-11-22T14:20:06.519Z"
   },
   {
    "duration": 16,
    "start_time": "2022-11-22T14:20:06.549Z"
   },
   {
    "duration": 11,
    "start_time": "2022-11-22T14:20:06.566Z"
   },
   {
    "duration": 40,
    "start_time": "2022-11-22T14:20:06.578Z"
   },
   {
    "duration": 6,
    "start_time": "2022-11-22T14:20:06.620Z"
   },
   {
    "duration": 18,
    "start_time": "2022-11-22T14:20:06.628Z"
   },
   {
    "duration": 29,
    "start_time": "2022-11-22T14:20:06.647Z"
   },
   {
    "duration": 10,
    "start_time": "2022-11-22T14:20:06.677Z"
   },
   {
    "duration": 32,
    "start_time": "2022-11-22T14:20:06.689Z"
   },
   {
    "duration": 58,
    "start_time": "2022-11-22T14:20:06.723Z"
   },
   {
    "duration": 10,
    "start_time": "2022-11-22T14:20:06.783Z"
   },
   {
    "duration": 218,
    "start_time": "2022-11-22T14:20:06.795Z"
   },
   {
    "duration": 5,
    "start_time": "2022-11-22T14:20:07.015Z"
   },
   {
    "duration": 17,
    "start_time": "2022-11-22T14:20:07.021Z"
   },
   {
    "duration": 9,
    "start_time": "2022-11-22T14:20:07.039Z"
   },
   {
    "duration": 55,
    "start_time": "2022-11-22T14:20:07.049Z"
   },
   {
    "duration": 12,
    "start_time": "2022-11-22T14:20:07.106Z"
   },
   {
    "duration": 72,
    "start_time": "2022-11-22T14:20:07.120Z"
   },
   {
    "duration": 5,
    "start_time": "2022-11-22T14:20:07.194Z"
   },
   {
    "duration": 13,
    "start_time": "2022-11-22T14:20:07.209Z"
   },
   {
    "duration": 8,
    "start_time": "2022-11-22T14:20:07.224Z"
   },
   {
    "duration": 60,
    "start_time": "2022-11-22T14:20:07.234Z"
   },
   {
    "duration": 31,
    "start_time": "2022-11-22T14:20:07.296Z"
   },
   {
    "duration": 13,
    "start_time": "2022-11-22T14:20:07.329Z"
   },
   {
    "duration": 8,
    "start_time": "2022-11-22T14:20:07.343Z"
   },
   {
    "duration": 25,
    "start_time": "2022-11-22T14:20:07.353Z"
   },
   {
    "duration": 22,
    "start_time": "2022-11-22T14:20:07.379Z"
   },
   {
    "duration": 24,
    "start_time": "2022-11-22T14:20:07.402Z"
   },
   {
    "duration": 10,
    "start_time": "2022-11-22T14:20:07.428Z"
   },
   {
    "duration": 13,
    "start_time": "2022-11-22T14:20:07.439Z"
   },
   {
    "duration": 13,
    "start_time": "2022-11-22T14:20:07.453Z"
   },
   {
    "duration": 22,
    "start_time": "2022-11-22T14:20:07.467Z"
   },
   {
    "duration": 20,
    "start_time": "2022-11-22T14:20:07.490Z"
   },
   {
    "duration": 21,
    "start_time": "2022-11-22T14:20:07.511Z"
   },
   {
    "duration": 134,
    "start_time": "2022-11-22T14:20:25.968Z"
   },
   {
    "duration": 3,
    "start_time": "2022-11-22T14:20:28.934Z"
   },
   {
    "duration": 14,
    "start_time": "2022-11-22T14:20:31.934Z"
   },
   {
    "duration": 12,
    "start_time": "2022-11-22T14:22:58.174Z"
   },
   {
    "duration": 12,
    "start_time": "2022-11-22T14:22:58.564Z"
   },
   {
    "duration": 11,
    "start_time": "2022-11-22T14:23:16.452Z"
   },
   {
    "duration": 14,
    "start_time": "2022-11-22T14:23:16.783Z"
   },
   {
    "duration": 12,
    "start_time": "2022-11-22T14:23:21.753Z"
   },
   {
    "duration": 15,
    "start_time": "2022-11-22T14:23:36.875Z"
   },
   {
    "duration": 17,
    "start_time": "2022-11-22T14:23:38.178Z"
   },
   {
    "duration": 1305,
    "start_time": "2022-11-22T14:23:48.962Z"
   },
   {
    "duration": 223,
    "start_time": "2022-11-22T14:23:50.269Z"
   },
   {
    "duration": 37,
    "start_time": "2022-11-22T14:23:50.494Z"
   },
   {
    "duration": 11,
    "start_time": "2022-11-22T14:23:50.533Z"
   },
   {
    "duration": 56,
    "start_time": "2022-11-22T14:23:50.546Z"
   },
   {
    "duration": 61,
    "start_time": "2022-11-22T14:23:50.609Z"
   },
   {
    "duration": 80,
    "start_time": "2022-11-22T14:23:50.672Z"
   },
   {
    "duration": 10,
    "start_time": "2022-11-22T14:23:50.753Z"
   },
   {
    "duration": 37,
    "start_time": "2022-11-22T14:23:50.765Z"
   },
   {
    "duration": 16,
    "start_time": "2022-11-22T14:23:50.810Z"
   },
   {
    "duration": 10,
    "start_time": "2022-11-22T14:23:50.827Z"
   },
   {
    "duration": 13,
    "start_time": "2022-11-22T14:23:50.838Z"
   },
   {
    "duration": 6,
    "start_time": "2022-11-22T14:23:50.852Z"
   },
   {
    "duration": 9,
    "start_time": "2022-11-22T14:23:50.861Z"
   },
   {
    "duration": 36,
    "start_time": "2022-11-22T14:23:50.872Z"
   },
   {
    "duration": 11,
    "start_time": "2022-11-22T14:23:50.910Z"
   },
   {
    "duration": 9,
    "start_time": "2022-11-22T14:23:50.922Z"
   },
   {
    "duration": 55,
    "start_time": "2022-11-22T14:23:50.933Z"
   },
   {
    "duration": 23,
    "start_time": "2022-11-22T14:23:50.989Z"
   },
   {
    "duration": 200,
    "start_time": "2022-11-22T14:23:51.014Z"
   },
   {
    "duration": 6,
    "start_time": "2022-11-22T14:23:51.216Z"
   },
   {
    "duration": 5,
    "start_time": "2022-11-22T14:23:51.224Z"
   },
   {
    "duration": 5,
    "start_time": "2022-11-22T14:23:51.231Z"
   },
   {
    "duration": 70,
    "start_time": "2022-11-22T14:23:51.238Z"
   },
   {
    "duration": 10,
    "start_time": "2022-11-22T14:23:51.312Z"
   },
   {
    "duration": 85,
    "start_time": "2022-11-22T14:23:51.324Z"
   },
   {
    "duration": 2,
    "start_time": "2022-11-22T14:23:51.411Z"
   },
   {
    "duration": 8,
    "start_time": "2022-11-22T14:23:51.415Z"
   },
   {
    "duration": 10,
    "start_time": "2022-11-22T14:23:51.425Z"
   },
   {
    "duration": 15,
    "start_time": "2022-11-22T14:23:51.437Z"
   },
   {
    "duration": 13,
    "start_time": "2022-11-22T14:23:51.454Z"
   },
   {
    "duration": 14,
    "start_time": "2022-11-22T14:23:51.468Z"
   },
   {
    "duration": 24,
    "start_time": "2022-11-22T14:23:51.484Z"
   },
   {
    "duration": 19,
    "start_time": "2022-11-22T14:23:51.510Z"
   },
   {
    "duration": 13,
    "start_time": "2022-11-22T14:23:51.531Z"
   },
   {
    "duration": 7,
    "start_time": "2022-11-22T14:23:51.545Z"
   },
   {
    "duration": 12,
    "start_time": "2022-11-22T14:23:51.553Z"
   },
   {
    "duration": 12,
    "start_time": "2022-11-22T14:23:51.566Z"
   },
   {
    "duration": 9,
    "start_time": "2022-11-22T14:23:51.579Z"
   },
   {
    "duration": 14,
    "start_time": "2022-11-22T14:23:51.589Z"
   },
   {
    "duration": 8,
    "start_time": "2022-11-22T14:23:51.609Z"
   },
   {
    "duration": 12,
    "start_time": "2022-11-22T14:23:51.618Z"
   },
   {
    "duration": 26,
    "start_time": "2022-11-22T14:23:51.631Z"
   },
   {
    "duration": 53,
    "start_time": "2022-11-23T10:43:27.797Z"
   },
   {
    "duration": 1387,
    "start_time": "2022-11-23T10:43:33.637Z"
   },
   {
    "duration": 730,
    "start_time": "2022-11-23T10:43:35.026Z"
   },
   {
    "duration": 42,
    "start_time": "2022-11-23T10:43:35.758Z"
   },
   {
    "duration": 59,
    "start_time": "2022-11-23T10:43:35.802Z"
   },
   {
    "duration": 44,
    "start_time": "2022-11-23T10:43:35.864Z"
   },
   {
    "duration": 79,
    "start_time": "2022-11-23T10:43:35.910Z"
   },
   {
    "duration": 76,
    "start_time": "2022-11-23T10:43:35.991Z"
   },
   {
    "duration": 17,
    "start_time": "2022-11-23T10:43:36.069Z"
   },
   {
    "duration": 73,
    "start_time": "2022-11-23T10:43:36.088Z"
   },
   {
    "duration": 86,
    "start_time": "2022-11-23T10:43:36.163Z"
   },
   {
    "duration": 12,
    "start_time": "2022-11-23T10:43:36.251Z"
   },
   {
    "duration": 46,
    "start_time": "2022-11-23T10:43:36.265Z"
   },
   {
    "duration": 23,
    "start_time": "2022-11-23T10:43:36.313Z"
   },
   {
    "duration": 37,
    "start_time": "2022-11-23T10:43:36.340Z"
   },
   {
    "duration": 178,
    "start_time": "2022-11-23T10:43:36.379Z"
   },
   {
    "duration": 10,
    "start_time": "2022-11-23T10:43:36.559Z"
   },
   {
    "duration": 21,
    "start_time": "2022-11-23T10:43:36.571Z"
   },
   {
    "duration": 71,
    "start_time": "2022-11-23T10:43:36.594Z"
   },
   {
    "duration": 12,
    "start_time": "2022-11-23T10:43:36.667Z"
   },
   {
    "duration": 211,
    "start_time": "2022-11-23T10:43:36.681Z"
   },
   {
    "duration": 6,
    "start_time": "2022-11-23T10:43:36.894Z"
   },
   {
    "duration": 30,
    "start_time": "2022-11-23T10:43:36.901Z"
   },
   {
    "duration": 33,
    "start_time": "2022-11-23T10:43:36.933Z"
   },
   {
    "duration": 54,
    "start_time": "2022-11-23T10:43:36.968Z"
   },
   {
    "duration": 10,
    "start_time": "2022-11-23T10:43:37.024Z"
   },
   {
    "duration": 97,
    "start_time": "2022-11-23T10:43:37.036Z"
   },
   {
    "duration": 4,
    "start_time": "2022-11-23T10:43:37.135Z"
   },
   {
    "duration": 38,
    "start_time": "2022-11-23T10:43:37.140Z"
   },
   {
    "duration": 30,
    "start_time": "2022-11-23T10:43:37.179Z"
   },
   {
    "duration": 28,
    "start_time": "2022-11-23T10:43:37.210Z"
   },
   {
    "duration": 47,
    "start_time": "2022-11-23T10:43:37.240Z"
   },
   {
    "duration": 40,
    "start_time": "2022-11-23T10:43:37.289Z"
   },
   {
    "duration": 40,
    "start_time": "2022-11-23T10:43:37.331Z"
   },
   {
    "duration": 35,
    "start_time": "2022-11-23T10:43:37.372Z"
   },
   {
    "duration": 37,
    "start_time": "2022-11-23T10:43:37.409Z"
   },
   {
    "duration": 30,
    "start_time": "2022-11-23T10:43:37.448Z"
   },
   {
    "duration": 29,
    "start_time": "2022-11-23T10:43:37.480Z"
   },
   {
    "duration": 35,
    "start_time": "2022-11-23T10:43:37.510Z"
   },
   {
    "duration": 33,
    "start_time": "2022-11-23T10:43:37.547Z"
   },
   {
    "duration": 39,
    "start_time": "2022-11-23T10:43:37.581Z"
   },
   {
    "duration": 19,
    "start_time": "2022-11-23T10:43:37.624Z"
   },
   {
    "duration": 22,
    "start_time": "2022-11-23T10:43:37.645Z"
   },
   {
    "duration": 26,
    "start_time": "2022-11-23T10:43:37.669Z"
   },
   {
    "duration": 35,
    "start_time": "2022-11-23T10:43:37.697Z"
   },
   {
    "duration": 3,
    "start_time": "2022-11-23T10:45:58.695Z"
   },
   {
    "duration": 1166,
    "start_time": "2022-11-23T10:46:39.850Z"
   },
   {
    "duration": 13,
    "start_time": "2022-11-23T10:46:47.936Z"
   },
   {
    "duration": 20,
    "start_time": "2022-11-23T10:47:33.287Z"
   },
   {
    "duration": 16,
    "start_time": "2022-11-23T10:47:36.711Z"
   },
   {
    "duration": 42,
    "start_time": "2022-11-23T10:49:26.771Z"
   },
   {
    "duration": 20,
    "start_time": "2022-11-23T10:49:30.710Z"
   },
   {
    "duration": 107,
    "start_time": "2022-11-23T10:49:57.391Z"
   },
   {
    "duration": 33,
    "start_time": "2022-11-23T10:50:43.046Z"
   },
   {
    "duration": 21,
    "start_time": "2022-11-23T10:50:52.409Z"
   },
   {
    "duration": 12,
    "start_time": "2022-11-23T10:51:02.640Z"
   },
   {
    "duration": 19,
    "start_time": "2022-11-23T10:53:42.809Z"
   },
   {
    "duration": 7,
    "start_time": "2022-11-23T10:53:47.263Z"
   },
   {
    "duration": 32,
    "start_time": "2022-11-23T10:54:52.660Z"
   },
   {
    "duration": 7,
    "start_time": "2022-11-23T10:54:53.148Z"
   },
   {
    "duration": 58,
    "start_time": "2022-11-23T10:55:10.852Z"
   },
   {
    "duration": 14,
    "start_time": "2022-11-23T10:55:11.920Z"
   },
   {
    "duration": 24,
    "start_time": "2022-11-23T10:55:22.092Z"
   },
   {
    "duration": 7,
    "start_time": "2022-11-23T10:55:23.679Z"
   },
   {
    "duration": 36,
    "start_time": "2022-11-23T10:55:32.296Z"
   },
   {
    "duration": 8,
    "start_time": "2022-11-23T10:55:32.725Z"
   },
   {
    "duration": 28,
    "start_time": "2022-11-23T10:56:38.484Z"
   },
   {
    "duration": 8,
    "start_time": "2022-11-23T10:56:38.947Z"
   },
   {
    "duration": 27,
    "start_time": "2022-11-23T10:57:13.224Z"
   },
   {
    "duration": 10,
    "start_time": "2022-11-23T10:57:13.808Z"
   },
   {
    "duration": 27,
    "start_time": "2022-11-23T10:57:31.988Z"
   },
   {
    "duration": 8,
    "start_time": "2022-11-23T10:57:32.143Z"
   },
   {
    "duration": 277,
    "start_time": "2022-11-23T10:59:16.055Z"
   },
   {
    "duration": 17,
    "start_time": "2022-11-23T10:59:16.375Z"
   },
   {
    "duration": 1111,
    "start_time": "2022-11-23T10:59:26.996Z"
   },
   {
    "duration": 218,
    "start_time": "2022-11-23T10:59:28.109Z"
   },
   {
    "duration": 36,
    "start_time": "2022-11-23T10:59:28.329Z"
   },
   {
    "duration": 27,
    "start_time": "2022-11-23T10:59:28.366Z"
   },
   {
    "duration": 64,
    "start_time": "2022-11-23T10:59:28.396Z"
   },
   {
    "duration": 103,
    "start_time": "2022-11-23T10:59:28.461Z"
   },
   {
    "duration": 63,
    "start_time": "2022-11-23T10:59:28.565Z"
   },
   {
    "duration": 13,
    "start_time": "2022-11-23T10:59:28.630Z"
   },
   {
    "duration": 50,
    "start_time": "2022-11-23T10:59:28.644Z"
   },
   {
    "duration": 27,
    "start_time": "2022-11-23T10:59:28.696Z"
   },
   {
    "duration": 20,
    "start_time": "2022-11-23T10:59:28.725Z"
   },
   {
    "duration": 27,
    "start_time": "2022-11-23T10:59:28.747Z"
   },
   {
    "duration": 28,
    "start_time": "2022-11-23T10:59:28.776Z"
   },
   {
    "duration": 19,
    "start_time": "2022-11-23T10:59:28.807Z"
   },
   {
    "duration": 46,
    "start_time": "2022-11-23T10:59:28.828Z"
   },
   {
    "duration": 12,
    "start_time": "2022-11-23T10:59:28.875Z"
   },
   {
    "duration": 35,
    "start_time": "2022-11-23T10:59:28.889Z"
   },
   {
    "duration": 63,
    "start_time": "2022-11-23T10:59:28.925Z"
   },
   {
    "duration": 12,
    "start_time": "2022-11-23T10:59:28.989Z"
   },
   {
    "duration": 198,
    "start_time": "2022-11-23T10:59:29.003Z"
   },
   {
    "duration": 6,
    "start_time": "2022-11-23T10:59:29.203Z"
   },
   {
    "duration": 9,
    "start_time": "2022-11-23T10:59:29.210Z"
   },
   {
    "duration": 17,
    "start_time": "2022-11-23T10:59:29.221Z"
   },
   {
    "duration": 55,
    "start_time": "2022-11-23T10:59:29.240Z"
   },
   {
    "duration": 11,
    "start_time": "2022-11-23T10:59:29.297Z"
   },
   {
    "duration": 123,
    "start_time": "2022-11-23T10:59:29.310Z"
   },
   {
    "duration": 2,
    "start_time": "2022-11-23T10:59:29.435Z"
   },
   {
    "duration": 32,
    "start_time": "2022-11-23T10:59:29.439Z"
   },
   {
    "duration": 25,
    "start_time": "2022-11-23T10:59:29.472Z"
   },
   {
    "duration": 43,
    "start_time": "2022-11-23T10:59:29.499Z"
   },
   {
    "duration": 26,
    "start_time": "2022-11-23T10:59:29.544Z"
   },
   {
    "duration": 29,
    "start_time": "2022-11-23T10:59:29.571Z"
   },
   {
    "duration": 36,
    "start_time": "2022-11-23T10:59:29.602Z"
   },
   {
    "duration": 29,
    "start_time": "2022-11-23T10:59:29.640Z"
   },
   {
    "duration": 22,
    "start_time": "2022-11-23T10:59:29.671Z"
   },
   {
    "duration": 31,
    "start_time": "2022-11-23T10:59:29.695Z"
   },
   {
    "duration": 21,
    "start_time": "2022-11-23T10:59:29.728Z"
   },
   {
    "duration": 10,
    "start_time": "2022-11-23T10:59:29.751Z"
   },
   {
    "duration": 7,
    "start_time": "2022-11-23T10:59:29.763Z"
   },
   {
    "duration": 10,
    "start_time": "2022-11-23T10:59:29.771Z"
   },
   {
    "duration": 7,
    "start_time": "2022-11-23T10:59:29.784Z"
   },
   {
    "duration": 14,
    "start_time": "2022-11-23T10:59:29.792Z"
   },
   {
    "duration": 12,
    "start_time": "2022-11-23T10:59:29.808Z"
   },
   {
    "duration": 5,
    "start_time": "2022-11-23T10:59:29.822Z"
   },
   {
    "duration": 1095,
    "start_time": "2022-11-23T10:59:29.828Z"
   },
   {
    "duration": 18,
    "start_time": "2022-11-23T10:59:30.924Z"
   },
   {
    "duration": 48,
    "start_time": "2022-11-23T10:59:30.951Z"
   },
   {
    "duration": 13,
    "start_time": "2022-11-23T10:59:31.001Z"
   },
   {
    "duration": 72,
    "start_time": "2022-11-23T10:59:31.016Z"
   },
   {
    "duration": 8,
    "start_time": "2022-11-23T10:59:31.090Z"
   },
   {
    "duration": 22,
    "start_time": "2022-11-23T10:59:57.063Z"
   },
   {
    "duration": 23,
    "start_time": "2022-11-23T11:00:13.109Z"
   },
   {
    "duration": 1235,
    "start_time": "2022-11-23T11:01:03.654Z"
   },
   {
    "duration": 225,
    "start_time": "2022-11-23T11:01:04.891Z"
   },
   {
    "duration": 33,
    "start_time": "2022-11-23T11:01:05.118Z"
   },
   {
    "duration": 26,
    "start_time": "2022-11-23T11:01:05.153Z"
   },
   {
    "duration": 34,
    "start_time": "2022-11-23T11:01:05.180Z"
   },
   {
    "duration": 71,
    "start_time": "2022-11-23T11:01:05.216Z"
   },
   {
    "duration": 68,
    "start_time": "2022-11-23T11:01:05.289Z"
   },
   {
    "duration": 22,
    "start_time": "2022-11-23T11:01:05.359Z"
   },
   {
    "duration": 22,
    "start_time": "2022-11-23T11:01:05.382Z"
   },
   {
    "duration": 16,
    "start_time": "2022-11-23T11:01:05.407Z"
   },
   {
    "duration": 11,
    "start_time": "2022-11-23T11:01:05.425Z"
   },
   {
    "duration": 20,
    "start_time": "2022-11-23T11:01:05.437Z"
   },
   {
    "duration": 23,
    "start_time": "2022-11-23T11:01:05.459Z"
   },
   {
    "duration": 28,
    "start_time": "2022-11-23T11:01:05.484Z"
   },
   {
    "duration": 34,
    "start_time": "2022-11-23T11:01:05.514Z"
   },
   {
    "duration": 11,
    "start_time": "2022-11-23T11:01:05.549Z"
   },
   {
    "duration": 19,
    "start_time": "2022-11-23T11:01:05.561Z"
   },
   {
    "duration": 40,
    "start_time": "2022-11-23T11:01:05.582Z"
   },
   {
    "duration": 13,
    "start_time": "2022-11-23T11:01:05.624Z"
   },
   {
    "duration": 268,
    "start_time": "2022-11-23T11:01:05.638Z"
   },
   {
    "duration": 5,
    "start_time": "2022-11-23T11:01:05.908Z"
   },
   {
    "duration": 7,
    "start_time": "2022-11-23T11:01:05.915Z"
   },
   {
    "duration": 10,
    "start_time": "2022-11-23T11:01:05.923Z"
   },
   {
    "duration": 56,
    "start_time": "2022-11-23T11:01:05.934Z"
   },
   {
    "duration": 10,
    "start_time": "2022-11-23T11:01:05.992Z"
   },
   {
    "duration": 87,
    "start_time": "2022-11-23T11:01:06.003Z"
   },
   {
    "duration": 2,
    "start_time": "2022-11-23T11:01:06.092Z"
   },
   {
    "duration": 11,
    "start_time": "2022-11-23T11:01:06.097Z"
   },
   {
    "duration": 18,
    "start_time": "2022-11-23T11:01:06.109Z"
   },
   {
    "duration": 12,
    "start_time": "2022-11-23T11:01:06.129Z"
   },
   {
    "duration": 17,
    "start_time": "2022-11-23T11:01:06.142Z"
   },
   {
    "duration": 17,
    "start_time": "2022-11-23T11:01:06.161Z"
   },
   {
    "duration": 14,
    "start_time": "2022-11-23T11:01:06.180Z"
   },
   {
    "duration": 16,
    "start_time": "2022-11-23T11:01:06.197Z"
   },
   {
    "duration": 21,
    "start_time": "2022-11-23T11:01:06.216Z"
   },
   {
    "duration": 8,
    "start_time": "2022-11-23T11:01:06.239Z"
   },
   {
    "duration": 14,
    "start_time": "2022-11-23T11:01:06.249Z"
   },
   {
    "duration": 9,
    "start_time": "2022-11-23T11:01:06.265Z"
   },
   {
    "duration": 6,
    "start_time": "2022-11-23T11:01:06.276Z"
   },
   {
    "duration": 11,
    "start_time": "2022-11-23T11:01:06.284Z"
   },
   {
    "duration": 8,
    "start_time": "2022-11-23T11:01:06.296Z"
   },
   {
    "duration": 12,
    "start_time": "2022-11-23T11:01:06.306Z"
   },
   {
    "duration": 19,
    "start_time": "2022-11-23T11:01:06.320Z"
   },
   {
    "duration": 3,
    "start_time": "2022-11-23T11:01:06.340Z"
   },
   {
    "duration": 1127,
    "start_time": "2022-11-23T11:01:06.344Z"
   },
   {
    "duration": 19,
    "start_time": "2022-11-23T11:01:07.473Z"
   },
   {
    "duration": 3,
    "start_time": "2022-11-23T11:01:07.493Z"
   },
   {
    "duration": 8,
    "start_time": "2022-11-23T11:01:07.497Z"
   },
   {
    "duration": 8,
    "start_time": "2022-11-23T11:01:07.506Z"
   },
   {
    "duration": 6,
    "start_time": "2022-11-23T11:01:07.516Z"
   },
   {
    "duration": 49,
    "start_time": "2022-11-23T11:01:54.432Z"
   },
   {
    "duration": 22,
    "start_time": "2022-11-23T11:01:56.484Z"
   },
   {
    "duration": 327,
    "start_time": "2022-11-23T11:02:20.725Z"
   },
   {
    "duration": 853,
    "start_time": "2022-11-23T11:02:25.004Z"
   },
   {
    "duration": 19,
    "start_time": "2022-11-23T11:02:26.974Z"
   },
   {
    "duration": 1135,
    "start_time": "2022-11-23T11:03:35.278Z"
   },
   {
    "duration": 212,
    "start_time": "2022-11-23T11:03:36.415Z"
   },
   {
    "duration": 36,
    "start_time": "2022-11-23T11:03:36.629Z"
   },
   {
    "duration": 20,
    "start_time": "2022-11-23T11:03:36.668Z"
   },
   {
    "duration": 32,
    "start_time": "2022-11-23T11:03:36.690Z"
   },
   {
    "duration": 73,
    "start_time": "2022-11-23T11:03:36.724Z"
   },
   {
    "duration": 61,
    "start_time": "2022-11-23T11:03:36.799Z"
   },
   {
    "duration": 22,
    "start_time": "2022-11-23T11:03:36.862Z"
   },
   {
    "duration": 31,
    "start_time": "2022-11-23T11:03:36.886Z"
   },
   {
    "duration": 15,
    "start_time": "2022-11-23T11:03:36.919Z"
   },
   {
    "duration": 12,
    "start_time": "2022-11-23T11:03:36.936Z"
   },
   {
    "duration": 14,
    "start_time": "2022-11-23T11:03:36.950Z"
   },
   {
    "duration": 27,
    "start_time": "2022-11-23T11:03:36.966Z"
   },
   {
    "duration": 30,
    "start_time": "2022-11-23T11:03:36.995Z"
   },
   {
    "duration": 46,
    "start_time": "2022-11-23T11:03:37.027Z"
   },
   {
    "duration": 14,
    "start_time": "2022-11-23T11:03:37.075Z"
   },
   {
    "duration": 23,
    "start_time": "2022-11-23T11:03:37.091Z"
   },
   {
    "duration": 88,
    "start_time": "2022-11-23T11:03:37.116Z"
   },
   {
    "duration": 11,
    "start_time": "2022-11-23T11:03:37.206Z"
   },
   {
    "duration": 192,
    "start_time": "2022-11-23T11:03:37.219Z"
   },
   {
    "duration": 5,
    "start_time": "2022-11-23T11:03:37.413Z"
   },
   {
    "duration": 18,
    "start_time": "2022-11-23T11:03:37.419Z"
   },
   {
    "duration": 17,
    "start_time": "2022-11-23T11:03:37.438Z"
   },
   {
    "duration": 52,
    "start_time": "2022-11-23T11:03:37.456Z"
   },
   {
    "duration": 16,
    "start_time": "2022-11-23T11:03:37.509Z"
   },
   {
    "duration": 82,
    "start_time": "2022-11-23T11:03:37.527Z"
   },
   {
    "duration": 3,
    "start_time": "2022-11-23T11:03:37.610Z"
   },
   {
    "duration": 23,
    "start_time": "2022-11-23T11:03:37.616Z"
   },
   {
    "duration": 18,
    "start_time": "2022-11-23T11:03:37.640Z"
   },
   {
    "duration": 29,
    "start_time": "2022-11-23T11:03:37.659Z"
   },
   {
    "duration": 18,
    "start_time": "2022-11-23T11:03:37.690Z"
   },
   {
    "duration": 33,
    "start_time": "2022-11-23T11:03:37.710Z"
   },
   {
    "duration": 26,
    "start_time": "2022-11-23T11:03:37.744Z"
   },
   {
    "duration": 21,
    "start_time": "2022-11-23T11:03:37.772Z"
   },
   {
    "duration": 27,
    "start_time": "2022-11-23T11:03:37.795Z"
   },
   {
    "duration": 21,
    "start_time": "2022-11-23T11:03:37.824Z"
   },
   {
    "duration": 30,
    "start_time": "2022-11-23T11:03:37.847Z"
   },
   {
    "duration": 27,
    "start_time": "2022-11-23T11:03:37.879Z"
   },
   {
    "duration": 25,
    "start_time": "2022-11-23T11:03:37.907Z"
   },
   {
    "duration": 22,
    "start_time": "2022-11-23T11:03:37.933Z"
   },
   {
    "duration": 17,
    "start_time": "2022-11-23T11:03:37.956Z"
   },
   {
    "duration": 19,
    "start_time": "2022-11-23T11:03:37.975Z"
   },
   {
    "duration": 32,
    "start_time": "2022-11-23T11:03:37.996Z"
   },
   {
    "duration": 17,
    "start_time": "2022-11-23T11:03:57.153Z"
   },
   {
    "duration": 93,
    "start_time": "2022-11-23T11:04:19.841Z"
   },
   {
    "duration": 3,
    "start_time": "2022-11-23T11:04:22.819Z"
   },
   {
    "duration": 1118,
    "start_time": "2022-11-23T11:04:23.163Z"
   },
   {
    "duration": 18,
    "start_time": "2022-11-23T11:04:24.283Z"
   },
   {
    "duration": 37,
    "start_time": "2022-11-23T11:04:26.755Z"
   },
   {
    "duration": 20,
    "start_time": "2022-11-23T11:04:28.302Z"
   },
   {
    "duration": 16,
    "start_time": "2022-11-23T11:05:47.227Z"
   },
   {
    "duration": 265,
    "start_time": "2022-11-23T11:05:54.812Z"
   },
   {
    "duration": 19,
    "start_time": "2022-11-23T11:05:58.357Z"
   },
   {
    "duration": 1120,
    "start_time": "2022-11-23T11:06:10.317Z"
   },
   {
    "duration": 211,
    "start_time": "2022-11-23T11:06:11.439Z"
   },
   {
    "duration": 36,
    "start_time": "2022-11-23T11:06:11.651Z"
   },
   {
    "duration": 13,
    "start_time": "2022-11-23T11:06:11.688Z"
   },
   {
    "duration": 30,
    "start_time": "2022-11-23T11:06:11.703Z"
   },
   {
    "duration": 81,
    "start_time": "2022-11-23T11:06:11.735Z"
   },
   {
    "duration": 65,
    "start_time": "2022-11-23T11:06:11.817Z"
   },
   {
    "duration": 12,
    "start_time": "2022-11-23T11:06:11.883Z"
   },
   {
    "duration": 26,
    "start_time": "2022-11-23T11:06:11.897Z"
   },
   {
    "duration": 15,
    "start_time": "2022-11-23T11:06:11.924Z"
   },
   {
    "duration": 10,
    "start_time": "2022-11-23T11:06:11.941Z"
   },
   {
    "duration": 31,
    "start_time": "2022-11-23T11:06:11.952Z"
   },
   {
    "duration": 7,
    "start_time": "2022-11-23T11:06:11.984Z"
   },
   {
    "duration": 12,
    "start_time": "2022-11-23T11:06:11.993Z"
   },
   {
    "duration": 29,
    "start_time": "2022-11-23T11:06:12.007Z"
   },
   {
    "duration": 10,
    "start_time": "2022-11-23T11:06:12.038Z"
   },
   {
    "duration": 9,
    "start_time": "2022-11-23T11:06:12.050Z"
   },
   {
    "duration": 51,
    "start_time": "2022-11-23T11:06:12.060Z"
   },
   {
    "duration": 12,
    "start_time": "2022-11-23T11:06:12.113Z"
   },
   {
    "duration": 205,
    "start_time": "2022-11-23T11:06:12.126Z"
   },
   {
    "duration": 6,
    "start_time": "2022-11-23T11:06:12.333Z"
   },
   {
    "duration": 20,
    "start_time": "2022-11-23T11:06:12.340Z"
   },
   {
    "duration": 12,
    "start_time": "2022-11-23T11:06:12.362Z"
   },
   {
    "duration": 53,
    "start_time": "2022-11-23T11:06:12.377Z"
   },
   {
    "duration": 18,
    "start_time": "2022-11-23T11:06:12.432Z"
   },
   {
    "duration": 222,
    "start_time": "2022-11-23T11:06:12.451Z"
   },
   {
    "duration": 3,
    "start_time": "2022-11-23T11:06:12.675Z"
   },
   {
    "duration": 7,
    "start_time": "2022-11-23T11:06:12.679Z"
   },
   {
    "duration": 9,
    "start_time": "2022-11-23T11:06:12.687Z"
   },
   {
    "duration": 13,
    "start_time": "2022-11-23T11:06:12.698Z"
   },
   {
    "duration": 12,
    "start_time": "2022-11-23T11:06:12.713Z"
   },
   {
    "duration": 10,
    "start_time": "2022-11-23T11:06:12.727Z"
   },
   {
    "duration": 5,
    "start_time": "2022-11-23T11:06:12.738Z"
   },
   {
    "duration": 11,
    "start_time": "2022-11-23T11:06:12.745Z"
   },
   {
    "duration": 30,
    "start_time": "2022-11-23T11:06:12.757Z"
   },
   {
    "duration": 8,
    "start_time": "2022-11-23T11:06:12.789Z"
   },
   {
    "duration": 12,
    "start_time": "2022-11-23T11:06:12.799Z"
   },
   {
    "duration": 10,
    "start_time": "2022-11-23T11:06:12.813Z"
   },
   {
    "duration": 10,
    "start_time": "2022-11-23T11:06:12.825Z"
   },
   {
    "duration": 12,
    "start_time": "2022-11-23T11:06:12.836Z"
   },
   {
    "duration": 4,
    "start_time": "2022-11-23T11:06:12.881Z"
   },
   {
    "duration": 23,
    "start_time": "2022-11-23T11:06:12.887Z"
   },
   {
    "duration": 27,
    "start_time": "2022-11-23T11:06:12.912Z"
   },
   {
    "duration": 4,
    "start_time": "2022-11-23T11:06:12.941Z"
   },
   {
    "duration": 1236,
    "start_time": "2022-11-23T11:06:12.947Z"
   },
   {
    "duration": 21,
    "start_time": "2022-11-23T11:06:14.185Z"
   },
   {
    "duration": 70,
    "start_time": "2022-11-23T11:06:14.209Z"
   },
   {
    "duration": 23,
    "start_time": "2022-11-23T11:06:14.281Z"
   },
   {
    "duration": 3,
    "start_time": "2022-11-23T11:06:14.307Z"
   },
   {
    "duration": 11,
    "start_time": "2022-11-23T11:06:14.312Z"
   },
   {
    "duration": 1094,
    "start_time": "2022-11-23T11:06:41.522Z"
   },
   {
    "duration": 226,
    "start_time": "2022-11-23T11:06:42.619Z"
   },
   {
    "duration": 39,
    "start_time": "2022-11-23T11:06:42.847Z"
   },
   {
    "duration": 39,
    "start_time": "2022-11-23T11:06:42.888Z"
   },
   {
    "duration": 73,
    "start_time": "2022-11-23T11:06:42.929Z"
   },
   {
    "duration": 77,
    "start_time": "2022-11-23T11:06:43.004Z"
   },
   {
    "duration": 62,
    "start_time": "2022-11-23T11:06:43.083Z"
   },
   {
    "duration": 13,
    "start_time": "2022-11-23T11:06:43.149Z"
   },
   {
    "duration": 43,
    "start_time": "2022-11-23T11:06:43.165Z"
   },
   {
    "duration": 34,
    "start_time": "2022-11-23T11:06:43.210Z"
   },
   {
    "duration": 22,
    "start_time": "2022-11-23T11:06:43.246Z"
   },
   {
    "duration": 11,
    "start_time": "2022-11-23T11:06:43.270Z"
   },
   {
    "duration": 14,
    "start_time": "2022-11-23T11:06:43.283Z"
   },
   {
    "duration": 33,
    "start_time": "2022-11-23T11:06:43.301Z"
   },
   {
    "duration": 36,
    "start_time": "2022-11-23T11:06:43.335Z"
   },
   {
    "duration": 11,
    "start_time": "2022-11-23T11:06:43.374Z"
   },
   {
    "duration": 27,
    "start_time": "2022-11-23T11:06:43.387Z"
   },
   {
    "duration": 59,
    "start_time": "2022-11-23T11:06:43.415Z"
   },
   {
    "duration": 11,
    "start_time": "2022-11-23T11:06:43.476Z"
   },
   {
    "duration": 211,
    "start_time": "2022-11-23T11:06:43.489Z"
   },
   {
    "duration": 6,
    "start_time": "2022-11-23T11:06:43.702Z"
   },
   {
    "duration": 52,
    "start_time": "2022-11-23T11:06:43.710Z"
   },
   {
    "duration": 39,
    "start_time": "2022-11-23T11:06:43.763Z"
   },
   {
    "duration": 48,
    "start_time": "2022-11-23T11:06:43.804Z"
   },
   {
    "duration": 10,
    "start_time": "2022-11-23T11:06:43.853Z"
   },
   {
    "duration": 76,
    "start_time": "2022-11-23T11:06:43.864Z"
   },
   {
    "duration": 3,
    "start_time": "2022-11-23T11:06:43.942Z"
   },
   {
    "duration": 8,
    "start_time": "2022-11-23T11:06:43.946Z"
   },
   {
    "duration": 8,
    "start_time": "2022-11-23T11:06:43.955Z"
   },
   {
    "duration": 17,
    "start_time": "2022-11-23T11:06:43.965Z"
   },
   {
    "duration": 11,
    "start_time": "2022-11-23T11:06:43.984Z"
   },
   {
    "duration": 10,
    "start_time": "2022-11-23T11:06:43.997Z"
   },
   {
    "duration": 5,
    "start_time": "2022-11-23T11:06:44.008Z"
   },
   {
    "duration": 11,
    "start_time": "2022-11-23T11:06:44.015Z"
   },
   {
    "duration": 13,
    "start_time": "2022-11-23T11:06:44.027Z"
   },
   {
    "duration": 8,
    "start_time": "2022-11-23T11:06:44.042Z"
   },
   {
    "duration": 10,
    "start_time": "2022-11-23T11:06:44.079Z"
   },
   {
    "duration": 9,
    "start_time": "2022-11-23T11:06:44.091Z"
   },
   {
    "duration": 7,
    "start_time": "2022-11-23T11:06:44.102Z"
   },
   {
    "duration": 12,
    "start_time": "2022-11-23T11:06:44.110Z"
   },
   {
    "duration": 4,
    "start_time": "2022-11-23T11:06:44.125Z"
   },
   {
    "duration": 17,
    "start_time": "2022-11-23T11:06:44.131Z"
   },
   {
    "duration": 44,
    "start_time": "2022-11-23T11:06:44.149Z"
   },
   {
    "duration": 5,
    "start_time": "2022-11-23T11:06:44.196Z"
   },
   {
    "duration": 1152,
    "start_time": "2022-11-23T11:06:44.203Z"
   },
   {
    "duration": 24,
    "start_time": "2022-11-23T11:06:45.357Z"
   },
   {
    "duration": 49,
    "start_time": "2022-11-23T11:06:45.383Z"
   },
   {
    "duration": 20,
    "start_time": "2022-11-23T11:06:45.433Z"
   },
   {
    "duration": 2,
    "start_time": "2022-11-23T11:06:45.454Z"
   },
   {
    "duration": 2,
    "start_time": "2022-11-23T11:06:45.478Z"
   },
   {
    "duration": 36,
    "start_time": "2022-11-23T11:07:26.898Z"
   },
   {
    "duration": 114,
    "start_time": "2022-11-23T11:07:35.842Z"
   },
   {
    "duration": 19,
    "start_time": "2022-11-23T11:07:36.600Z"
   },
   {
    "duration": 1037,
    "start_time": "2022-11-23T11:07:42.300Z"
   },
   {
    "duration": 243,
    "start_time": "2022-11-23T11:07:43.339Z"
   },
   {
    "duration": 33,
    "start_time": "2022-11-23T11:07:43.583Z"
   },
   {
    "duration": 13,
    "start_time": "2022-11-23T11:07:43.618Z"
   },
   {
    "duration": 54,
    "start_time": "2022-11-23T11:07:43.633Z"
   },
   {
    "duration": 61,
    "start_time": "2022-11-23T11:07:43.689Z"
   },
   {
    "duration": 76,
    "start_time": "2022-11-23T11:07:43.752Z"
   },
   {
    "duration": 11,
    "start_time": "2022-11-23T11:07:43.829Z"
   },
   {
    "duration": 26,
    "start_time": "2022-11-23T11:07:43.841Z"
   },
   {
    "duration": 16,
    "start_time": "2022-11-23T11:07:43.878Z"
   },
   {
    "duration": 22,
    "start_time": "2022-11-23T11:07:43.898Z"
   },
   {
    "duration": 19,
    "start_time": "2022-11-23T11:07:43.922Z"
   },
   {
    "duration": 16,
    "start_time": "2022-11-23T11:07:43.944Z"
   },
   {
    "duration": 21,
    "start_time": "2022-11-23T11:07:43.965Z"
   },
   {
    "duration": 56,
    "start_time": "2022-11-23T11:07:43.988Z"
   },
   {
    "duration": 14,
    "start_time": "2022-11-23T11:07:44.046Z"
   },
   {
    "duration": 15,
    "start_time": "2022-11-23T11:07:44.062Z"
   },
   {
    "duration": 63,
    "start_time": "2022-11-23T11:07:44.079Z"
   },
   {
    "duration": 13,
    "start_time": "2022-11-23T11:07:44.145Z"
   },
   {
    "duration": 175,
    "start_time": "2022-11-23T11:07:44.160Z"
   },
   {
    "duration": 5,
    "start_time": "2022-11-23T11:07:44.336Z"
   },
   {
    "duration": 13,
    "start_time": "2022-11-23T11:07:44.343Z"
   },
   {
    "duration": 12,
    "start_time": "2022-11-23T11:07:44.357Z"
   },
   {
    "duration": 44,
    "start_time": "2022-11-23T11:07:44.371Z"
   },
   {
    "duration": 10,
    "start_time": "2022-11-23T11:07:44.417Z"
   },
   {
    "duration": 83,
    "start_time": "2022-11-23T11:07:44.429Z"
   },
   {
    "duration": 2,
    "start_time": "2022-11-23T11:07:44.514Z"
   },
   {
    "duration": 9,
    "start_time": "2022-11-23T11:07:44.518Z"
   },
   {
    "duration": 15,
    "start_time": "2022-11-23T11:07:44.529Z"
   },
   {
    "duration": 15,
    "start_time": "2022-11-23T11:07:44.546Z"
   },
   {
    "duration": 16,
    "start_time": "2022-11-23T11:07:44.563Z"
   },
   {
    "duration": 11,
    "start_time": "2022-11-23T11:07:44.581Z"
   },
   {
    "duration": 6,
    "start_time": "2022-11-23T11:07:44.593Z"
   },
   {
    "duration": 14,
    "start_time": "2022-11-23T11:07:44.600Z"
   },
   {
    "duration": 14,
    "start_time": "2022-11-23T11:07:44.616Z"
   },
   {
    "duration": 7,
    "start_time": "2022-11-23T11:07:44.632Z"
   },
   {
    "duration": 14,
    "start_time": "2022-11-23T11:07:44.641Z"
   },
   {
    "duration": 23,
    "start_time": "2022-11-23T11:07:44.656Z"
   },
   {
    "duration": 7,
    "start_time": "2022-11-23T11:07:44.681Z"
   },
   {
    "duration": 12,
    "start_time": "2022-11-23T11:07:44.690Z"
   },
   {
    "duration": 9,
    "start_time": "2022-11-23T11:07:44.706Z"
   },
   {
    "duration": 17,
    "start_time": "2022-11-23T11:07:44.717Z"
   },
   {
    "duration": 23,
    "start_time": "2022-11-23T11:07:44.736Z"
   },
   {
    "duration": 4,
    "start_time": "2022-11-23T11:07:44.777Z"
   },
   {
    "duration": 1166,
    "start_time": "2022-11-23T11:07:44.782Z"
   },
   {
    "duration": 20,
    "start_time": "2022-11-23T11:07:45.950Z"
   },
   {
    "duration": 120,
    "start_time": "2022-11-23T11:07:45.979Z"
   },
   {
    "duration": 19,
    "start_time": "2022-11-23T11:07:46.101Z"
   },
   {
    "duration": 21,
    "start_time": "2022-11-23T11:07:46.121Z"
   },
   {
    "duration": 40,
    "start_time": "2022-11-23T11:07:46.144Z"
   },
   {
    "duration": 38,
    "start_time": "2022-11-23T11:09:30.761Z"
   },
   {
    "duration": 37,
    "start_time": "2022-11-23T11:09:49.851Z"
   },
   {
    "duration": 38,
    "start_time": "2022-11-23T11:10:05.857Z"
   },
   {
    "duration": 24,
    "start_time": "2022-11-23T11:10:56.524Z"
   },
   {
    "duration": 1136,
    "start_time": "2022-11-23T11:13:38.691Z"
   },
   {
    "duration": 246,
    "start_time": "2022-11-23T11:13:39.829Z"
   },
   {
    "duration": 36,
    "start_time": "2022-11-23T11:13:40.076Z"
   },
   {
    "duration": 12,
    "start_time": "2022-11-23T11:13:40.114Z"
   },
   {
    "duration": 53,
    "start_time": "2022-11-23T11:13:40.127Z"
   },
   {
    "duration": 58,
    "start_time": "2022-11-23T11:13:40.181Z"
   },
   {
    "duration": 92,
    "start_time": "2022-11-23T11:13:40.241Z"
   },
   {
    "duration": 11,
    "start_time": "2022-11-23T11:13:40.335Z"
   },
   {
    "duration": 37,
    "start_time": "2022-11-23T11:13:40.348Z"
   },
   {
    "duration": 14,
    "start_time": "2022-11-23T11:13:40.389Z"
   },
   {
    "duration": 12,
    "start_time": "2022-11-23T11:13:40.405Z"
   },
   {
    "duration": 15,
    "start_time": "2022-11-23T11:13:40.419Z"
   },
   {
    "duration": 7,
    "start_time": "2022-11-23T11:13:40.436Z"
   },
   {
    "duration": 18,
    "start_time": "2022-11-23T11:13:40.444Z"
   },
   {
    "duration": 37,
    "start_time": "2022-11-23T11:13:40.464Z"
   },
   {
    "duration": 14,
    "start_time": "2022-11-23T11:13:40.504Z"
   },
   {
    "duration": 17,
    "start_time": "2022-11-23T11:13:40.520Z"
   },
   {
    "duration": 57,
    "start_time": "2022-11-23T11:13:40.539Z"
   },
   {
    "duration": 14,
    "start_time": "2022-11-23T11:13:40.597Z"
   },
   {
    "duration": 207,
    "start_time": "2022-11-23T11:13:40.613Z"
   },
   {
    "duration": 6,
    "start_time": "2022-11-23T11:13:40.822Z"
   },
   {
    "duration": 10,
    "start_time": "2022-11-23T11:13:40.829Z"
   },
   {
    "duration": 14,
    "start_time": "2022-11-23T11:13:40.841Z"
   },
   {
    "duration": 65,
    "start_time": "2022-11-23T11:13:40.857Z"
   },
   {
    "duration": 14,
    "start_time": "2022-11-23T11:13:40.923Z"
   },
   {
    "duration": 119,
    "start_time": "2022-11-23T11:13:40.939Z"
   },
   {
    "duration": 3,
    "start_time": "2022-11-23T11:13:41.060Z"
   },
   {
    "duration": 11,
    "start_time": "2022-11-23T11:13:41.067Z"
   },
   {
    "duration": 8,
    "start_time": "2022-11-23T11:13:41.080Z"
   },
   {
    "duration": 20,
    "start_time": "2022-11-23T11:13:41.090Z"
   },
   {
    "duration": 16,
    "start_time": "2022-11-23T11:13:41.112Z"
   },
   {
    "duration": 18,
    "start_time": "2022-11-23T11:13:41.129Z"
   },
   {
    "duration": 10,
    "start_time": "2022-11-23T11:13:41.149Z"
   },
   {
    "duration": 23,
    "start_time": "2022-11-23T11:13:41.161Z"
   },
   {
    "duration": 11,
    "start_time": "2022-11-23T11:13:41.185Z"
   },
   {
    "duration": 8,
    "start_time": "2022-11-23T11:13:41.198Z"
   },
   {
    "duration": 15,
    "start_time": "2022-11-23T11:13:41.208Z"
   },
   {
    "duration": 11,
    "start_time": "2022-11-23T11:13:41.225Z"
   },
   {
    "duration": 12,
    "start_time": "2022-11-23T11:13:41.237Z"
   },
   {
    "duration": 33,
    "start_time": "2022-11-23T11:13:41.251Z"
   },
   {
    "duration": 10,
    "start_time": "2022-11-23T11:13:41.286Z"
   },
   {
    "duration": 18,
    "start_time": "2022-11-23T11:13:41.297Z"
   },
   {
    "duration": 21,
    "start_time": "2022-11-23T11:13:41.317Z"
   },
   {
    "duration": 4,
    "start_time": "2022-11-23T11:13:41.340Z"
   },
   {
    "duration": 1133,
    "start_time": "2022-11-23T11:13:41.346Z"
   },
   {
    "duration": 19,
    "start_time": "2022-11-23T11:13:42.481Z"
   },
   {
    "duration": 31,
    "start_time": "2022-11-23T11:13:42.503Z"
   },
   {
    "duration": 14,
    "start_time": "2022-11-23T11:13:42.536Z"
   },
   {
    "duration": 25,
    "start_time": "2022-11-23T11:13:42.552Z"
   },
   {
    "duration": 23,
    "start_time": "2022-11-23T11:13:42.579Z"
   },
   {
    "duration": 18,
    "start_time": "2022-11-23T11:13:42.604Z"
   },
   {
    "duration": 39,
    "start_time": "2022-11-23T11:14:27.653Z"
   },
   {
    "duration": 47,
    "start_time": "2022-11-23T11:15:09.379Z"
   },
   {
    "duration": 151,
    "start_time": "2022-11-23T11:15:49.014Z"
   },
   {
    "duration": 17,
    "start_time": "2022-11-23T11:16:02.429Z"
   },
   {
    "duration": 11,
    "start_time": "2022-11-23T11:16:38.514Z"
   },
   {
    "duration": 18,
    "start_time": "2022-11-23T11:17:49.534Z"
   },
   {
    "duration": 92,
    "start_time": "2022-11-23T11:18:11.384Z"
   },
   {
    "duration": 26,
    "start_time": "2022-11-23T11:18:15.775Z"
   },
   {
    "duration": 15,
    "start_time": "2022-11-23T11:18:26.798Z"
   },
   {
    "duration": 16,
    "start_time": "2022-11-23T11:18:34.495Z"
   },
   {
    "duration": 11,
    "start_time": "2022-11-23T11:18:36.972Z"
   },
   {
    "duration": 9,
    "start_time": "2022-11-23T11:18:51.626Z"
   },
   {
    "duration": 37,
    "start_time": "2022-11-23T11:19:36.496Z"
   },
   {
    "duration": 6,
    "start_time": "2022-11-23T11:19:36.936Z"
   },
   {
    "duration": 6,
    "start_time": "2022-11-23T11:19:45.833Z"
   },
   {
    "duration": 12,
    "start_time": "2022-11-23T11:20:03.647Z"
   },
   {
    "duration": 12,
    "start_time": "2022-11-23T11:20:06.318Z"
   },
   {
    "duration": 3,
    "start_time": "2022-11-23T11:21:02.829Z"
   },
   {
    "duration": 271,
    "start_time": "2022-11-23T11:21:31.843Z"
   },
   {
    "duration": 21,
    "start_time": "2022-11-23T11:21:34.184Z"
   },
   {
    "duration": 11,
    "start_time": "2022-11-23T11:21:57.179Z"
   },
   {
    "duration": 935,
    "start_time": "2022-11-23T11:22:17.581Z"
   },
   {
    "duration": 1150,
    "start_time": "2022-11-23T11:22:37.272Z"
   },
   {
    "duration": 224,
    "start_time": "2022-11-23T11:22:38.424Z"
   },
   {
    "duration": 36,
    "start_time": "2022-11-23T11:22:38.649Z"
   },
   {
    "duration": 13,
    "start_time": "2022-11-23T11:22:38.687Z"
   },
   {
    "duration": 38,
    "start_time": "2022-11-23T11:22:38.702Z"
   },
   {
    "duration": 99,
    "start_time": "2022-11-23T11:22:38.743Z"
   },
   {
    "duration": 71,
    "start_time": "2022-11-23T11:22:38.843Z"
   },
   {
    "duration": 11,
    "start_time": "2022-11-23T11:22:38.916Z"
   },
   {
    "duration": 25,
    "start_time": "2022-11-23T11:22:38.929Z"
   },
   {
    "duration": 23,
    "start_time": "2022-11-23T11:22:38.959Z"
   },
   {
    "duration": 11,
    "start_time": "2022-11-23T11:22:38.984Z"
   },
   {
    "duration": 17,
    "start_time": "2022-11-23T11:22:38.997Z"
   },
   {
    "duration": 7,
    "start_time": "2022-11-23T11:22:39.016Z"
   },
   {
    "duration": 18,
    "start_time": "2022-11-23T11:22:39.024Z"
   },
   {
    "duration": 47,
    "start_time": "2022-11-23T11:22:39.044Z"
   },
   {
    "duration": 13,
    "start_time": "2022-11-23T11:22:39.093Z"
   },
   {
    "duration": 12,
    "start_time": "2022-11-23T11:22:39.108Z"
   },
   {
    "duration": 65,
    "start_time": "2022-11-23T11:22:39.122Z"
   },
   {
    "duration": 13,
    "start_time": "2022-11-23T11:22:39.189Z"
   },
   {
    "duration": 230,
    "start_time": "2022-11-23T11:22:39.204Z"
   },
   {
    "duration": 5,
    "start_time": "2022-11-23T11:22:39.436Z"
   },
   {
    "duration": 7,
    "start_time": "2022-11-23T11:22:39.443Z"
   },
   {
    "duration": 26,
    "start_time": "2022-11-23T11:22:39.452Z"
   },
   {
    "duration": 44,
    "start_time": "2022-11-23T11:22:39.480Z"
   },
   {
    "duration": 11,
    "start_time": "2022-11-23T11:22:39.525Z"
   },
   {
    "duration": 93,
    "start_time": "2022-11-23T11:22:39.537Z"
   },
   {
    "duration": 3,
    "start_time": "2022-11-23T11:22:39.632Z"
   },
   {
    "duration": 26,
    "start_time": "2022-11-23T11:22:39.638Z"
   },
   {
    "duration": 34,
    "start_time": "2022-11-23T11:22:39.666Z"
   },
   {
    "duration": 18,
    "start_time": "2022-11-23T11:22:39.701Z"
   },
   {
    "duration": 36,
    "start_time": "2022-11-23T11:22:39.721Z"
   },
   {
    "duration": 32,
    "start_time": "2022-11-23T11:22:39.759Z"
   },
   {
    "duration": 11,
    "start_time": "2022-11-23T11:22:39.793Z"
   },
   {
    "duration": 33,
    "start_time": "2022-11-23T11:22:39.806Z"
   },
   {
    "duration": 38,
    "start_time": "2022-11-23T11:22:39.841Z"
   },
   {
    "duration": 9,
    "start_time": "2022-11-23T11:22:39.881Z"
   },
   {
    "duration": 30,
    "start_time": "2022-11-23T11:22:39.892Z"
   },
   {
    "duration": 11,
    "start_time": "2022-11-23T11:22:39.924Z"
   },
   {
    "duration": 8,
    "start_time": "2022-11-23T11:22:39.936Z"
   },
   {
    "duration": 11,
    "start_time": "2022-11-23T11:22:39.946Z"
   },
   {
    "duration": 10,
    "start_time": "2022-11-23T11:22:39.959Z"
   },
   {
    "duration": 13,
    "start_time": "2022-11-23T11:22:39.971Z"
   },
   {
    "duration": 19,
    "start_time": "2022-11-23T11:22:39.986Z"
   },
   {
    "duration": 7,
    "start_time": "2022-11-23T11:22:40.007Z"
   },
   {
    "duration": 1185,
    "start_time": "2022-11-23T11:22:40.016Z"
   },
   {
    "duration": 17,
    "start_time": "2022-11-23T11:22:41.203Z"
   },
   {
    "duration": 38,
    "start_time": "2022-11-23T11:22:41.222Z"
   },
   {
    "duration": 6,
    "start_time": "2022-11-23T11:22:41.277Z"
   },
   {
    "duration": 11,
    "start_time": "2022-11-23T11:22:41.285Z"
   },
   {
    "duration": 7,
    "start_time": "2022-11-23T11:22:41.298Z"
   },
   {
    "duration": 4,
    "start_time": "2022-11-23T11:22:41.307Z"
   },
   {
    "duration": 7,
    "start_time": "2022-11-23T11:22:41.313Z"
   },
   {
    "duration": 4,
    "start_time": "2022-11-23T11:22:41.322Z"
   },
   {
    "duration": 6,
    "start_time": "2022-11-23T11:22:41.328Z"
   },
   {
    "duration": 3,
    "start_time": "2022-11-23T11:23:04.248Z"
   },
   {
    "duration": 268,
    "start_time": "2022-11-23T11:23:06.471Z"
   },
   {
    "duration": 10,
    "start_time": "2022-11-23T11:23:09.375Z"
   },
   {
    "duration": 1077,
    "start_time": "2022-11-23T11:24:41.748Z"
   },
   {
    "duration": 223,
    "start_time": "2022-11-23T11:24:42.827Z"
   },
   {
    "duration": 34,
    "start_time": "2022-11-23T11:24:43.052Z"
   },
   {
    "duration": 11,
    "start_time": "2022-11-23T11:24:43.088Z"
   },
   {
    "duration": 44,
    "start_time": "2022-11-23T11:24:43.101Z"
   },
   {
    "duration": 74,
    "start_time": "2022-11-23T11:24:43.147Z"
   },
   {
    "duration": 78,
    "start_time": "2022-11-23T11:24:43.223Z"
   },
   {
    "duration": 12,
    "start_time": "2022-11-23T11:24:43.303Z"
   },
   {
    "duration": 29,
    "start_time": "2022-11-23T11:24:43.317Z"
   },
   {
    "duration": 17,
    "start_time": "2022-11-23T11:24:43.349Z"
   },
   {
    "duration": 22,
    "start_time": "2022-11-23T11:24:43.368Z"
   },
   {
    "duration": 16,
    "start_time": "2022-11-23T11:24:43.392Z"
   },
   {
    "duration": 6,
    "start_time": "2022-11-23T11:24:43.410Z"
   },
   {
    "duration": 16,
    "start_time": "2022-11-23T11:24:43.418Z"
   },
   {
    "duration": 31,
    "start_time": "2022-11-23T11:24:43.436Z"
   },
   {
    "duration": 13,
    "start_time": "2022-11-23T11:24:43.477Z"
   },
   {
    "duration": 9,
    "start_time": "2022-11-23T11:24:43.492Z"
   },
   {
    "duration": 42,
    "start_time": "2022-11-23T11:24:43.503Z"
   },
   {
    "duration": 32,
    "start_time": "2022-11-23T11:24:43.547Z"
   },
   {
    "duration": 205,
    "start_time": "2022-11-23T11:24:43.581Z"
   },
   {
    "duration": 5,
    "start_time": "2022-11-23T11:24:43.788Z"
   },
   {
    "duration": 7,
    "start_time": "2022-11-23T11:24:43.795Z"
   },
   {
    "duration": 6,
    "start_time": "2022-11-23T11:24:43.803Z"
   },
   {
    "duration": 67,
    "start_time": "2022-11-23T11:24:43.811Z"
   },
   {
    "duration": 12,
    "start_time": "2022-11-23T11:24:43.879Z"
   },
   {
    "duration": 110,
    "start_time": "2022-11-23T11:24:43.892Z"
   },
   {
    "duration": 4,
    "start_time": "2022-11-23T11:24:44.005Z"
   },
   {
    "duration": 16,
    "start_time": "2022-11-23T11:24:44.013Z"
   },
   {
    "duration": 17,
    "start_time": "2022-11-23T11:24:44.031Z"
   },
   {
    "duration": 29,
    "start_time": "2022-11-23T11:24:44.051Z"
   },
   {
    "duration": 27,
    "start_time": "2022-11-23T11:24:44.082Z"
   },
   {
    "duration": 22,
    "start_time": "2022-11-23T11:24:44.111Z"
   },
   {
    "duration": 24,
    "start_time": "2022-11-23T11:24:44.136Z"
   },
   {
    "duration": 53,
    "start_time": "2022-11-23T11:24:44.162Z"
   },
   {
    "duration": 18,
    "start_time": "2022-11-23T11:24:44.217Z"
   },
   {
    "duration": 10,
    "start_time": "2022-11-23T11:24:44.237Z"
   },
   {
    "duration": 19,
    "start_time": "2022-11-23T11:24:44.249Z"
   },
   {
    "duration": 12,
    "start_time": "2022-11-23T11:24:44.270Z"
   },
   {
    "duration": 9,
    "start_time": "2022-11-23T11:24:44.283Z"
   },
   {
    "duration": 11,
    "start_time": "2022-11-23T11:24:44.294Z"
   },
   {
    "duration": 10,
    "start_time": "2022-11-23T11:24:44.306Z"
   },
   {
    "duration": 13,
    "start_time": "2022-11-23T11:24:44.318Z"
   },
   {
    "duration": 12,
    "start_time": "2022-11-23T11:24:44.332Z"
   },
   {
    "duration": 5,
    "start_time": "2022-11-23T11:24:44.346Z"
   },
   {
    "duration": 1147,
    "start_time": "2022-11-23T11:24:44.353Z"
   },
   {
    "duration": 22,
    "start_time": "2022-11-23T11:24:45.502Z"
   },
   {
    "duration": 69,
    "start_time": "2022-11-23T11:24:45.526Z"
   },
   {
    "duration": 5,
    "start_time": "2022-11-23T11:24:45.596Z"
   },
   {
    "duration": 16,
    "start_time": "2022-11-23T11:24:45.603Z"
   },
   {
    "duration": 19,
    "start_time": "2022-11-23T11:24:45.621Z"
   },
   {
    "duration": 21,
    "start_time": "2022-11-23T11:24:45.642Z"
   },
   {
    "duration": 57,
    "start_time": "2022-11-23T11:24:45.665Z"
   },
   {
    "duration": 10,
    "start_time": "2022-11-23T11:24:52.543Z"
   },
   {
    "duration": 11,
    "start_time": "2022-11-23T11:24:55.615Z"
   },
   {
    "duration": 96,
    "start_time": "2022-11-23T11:25:36.293Z"
   },
   {
    "duration": 19,
    "start_time": "2022-11-23T11:25:56.635Z"
   },
   {
    "duration": 13,
    "start_time": "2022-11-23T11:26:10.679Z"
   },
   {
    "duration": 21,
    "start_time": "2022-11-23T11:26:13.365Z"
   },
   {
    "duration": 15,
    "start_time": "2022-11-23T11:26:48.778Z"
   },
   {
    "duration": 9,
    "start_time": "2022-11-23T11:28:24.096Z"
   },
   {
    "duration": 8,
    "start_time": "2022-11-23T11:28:35.199Z"
   },
   {
    "duration": 8,
    "start_time": "2022-11-23T11:28:57.584Z"
   },
   {
    "duration": 5,
    "start_time": "2022-11-23T11:29:59.950Z"
   },
   {
    "duration": 20,
    "start_time": "2022-11-23T11:30:04.388Z"
   },
   {
    "duration": 14,
    "start_time": "2022-11-23T11:30:15.726Z"
   },
   {
    "duration": 14,
    "start_time": "2022-11-23T11:30:19.552Z"
   },
   {
    "duration": 13,
    "start_time": "2022-11-23T11:30:27.855Z"
   },
   {
    "duration": 7,
    "start_time": "2022-11-23T11:30:30.090Z"
   },
   {
    "duration": 14,
    "start_time": "2022-11-23T11:31:45.319Z"
   },
   {
    "duration": 8,
    "start_time": "2022-11-23T11:31:46.453Z"
   },
   {
    "duration": 13,
    "start_time": "2022-11-23T11:33:28.057Z"
   },
   {
    "duration": 7,
    "start_time": "2022-11-23T11:33:28.482Z"
   },
   {
    "duration": 16,
    "start_time": "2022-11-23T11:33:44.202Z"
   },
   {
    "duration": 9,
    "start_time": "2022-11-23T11:33:45.234Z"
   },
   {
    "duration": 17,
    "start_time": "2022-11-23T11:34:28.536Z"
   },
   {
    "duration": 10,
    "start_time": "2022-11-23T11:34:28.953Z"
   },
   {
    "duration": 14,
    "start_time": "2022-11-23T11:34:37.790Z"
   },
   {
    "duration": 8,
    "start_time": "2022-11-23T11:34:38.860Z"
   },
   {
    "duration": 14,
    "start_time": "2022-11-23T11:35:01.400Z"
   },
   {
    "duration": 8,
    "start_time": "2022-11-23T11:35:01.790Z"
   },
   {
    "duration": 18,
    "start_time": "2022-11-23T11:35:33.723Z"
   },
   {
    "duration": 8,
    "start_time": "2022-11-23T11:35:34.738Z"
   },
   {
    "duration": 12,
    "start_time": "2022-11-23T11:35:39.508Z"
   },
   {
    "duration": 6,
    "start_time": "2022-11-23T11:35:39.976Z"
   },
   {
    "duration": 132,
    "start_time": "2022-11-23T11:36:44.489Z"
   },
   {
    "duration": 146,
    "start_time": "2022-11-23T11:37:36.044Z"
   },
   {
    "duration": 20,
    "start_time": "2022-11-23T11:37:53.006Z"
   },
   {
    "duration": 194,
    "start_time": "2022-11-23T11:37:58.176Z"
   },
   {
    "duration": 140,
    "start_time": "2022-11-23T11:38:02.390Z"
   },
   {
    "duration": 17,
    "start_time": "2022-11-23T11:39:18.856Z"
   },
   {
    "duration": 7,
    "start_time": "2022-11-23T11:39:19.447Z"
   },
   {
    "duration": 5,
    "start_time": "2022-11-23T11:40:11.016Z"
   },
   {
    "duration": 9,
    "start_time": "2022-11-23T11:40:18.405Z"
   },
   {
    "duration": 4,
    "start_time": "2022-11-23T11:40:56.018Z"
   },
   {
    "duration": 9,
    "start_time": "2022-11-23T11:40:57.956Z"
   },
   {
    "duration": 5,
    "start_time": "2022-11-23T11:41:07.397Z"
   },
   {
    "duration": 10,
    "start_time": "2022-11-23T11:41:07.814Z"
   },
   {
    "duration": 5,
    "start_time": "2022-11-23T11:41:51.220Z"
   },
   {
    "duration": 9,
    "start_time": "2022-11-23T11:41:51.577Z"
   },
   {
    "duration": 149,
    "start_time": "2022-11-23T11:43:55.015Z"
   },
   {
    "duration": 9,
    "start_time": "2022-11-23T11:44:18.367Z"
   },
   {
    "duration": 149,
    "start_time": "2022-11-23T11:44:22.876Z"
   },
   {
    "duration": 150,
    "start_time": "2022-11-23T11:44:44.792Z"
   },
   {
    "duration": 151,
    "start_time": "2022-11-23T11:44:54.468Z"
   },
   {
    "duration": 195,
    "start_time": "2022-11-23T11:45:12.528Z"
   },
   {
    "duration": 205,
    "start_time": "2022-11-23T11:45:40.550Z"
   },
   {
    "duration": 221,
    "start_time": "2022-11-23T11:46:06.512Z"
   },
   {
    "duration": 224,
    "start_time": "2022-11-23T11:46:48.726Z"
   },
   {
    "duration": 226,
    "start_time": "2022-11-23T11:48:04.335Z"
   },
   {
    "duration": 218,
    "start_time": "2022-11-23T11:48:45.012Z"
   },
   {
    "duration": 292,
    "start_time": "2022-11-23T11:48:58.940Z"
   },
   {
    "duration": 18,
    "start_time": "2022-11-23T11:52:25.920Z"
   },
   {
    "duration": 11,
    "start_time": "2022-11-23T11:52:26.394Z"
   },
   {
    "duration": 5,
    "start_time": "2022-11-23T11:53:04.908Z"
   },
   {
    "duration": 9,
    "start_time": "2022-11-23T11:53:05.304Z"
   },
   {
    "duration": 5,
    "start_time": "2022-11-23T11:53:13.518Z"
   },
   {
    "duration": 9,
    "start_time": "2022-11-23T11:53:13.797Z"
   },
   {
    "duration": 14,
    "start_time": "2022-11-23T11:53:30.934Z"
   },
   {
    "duration": 13,
    "start_time": "2022-11-23T11:53:52.956Z"
   },
   {
    "duration": 4,
    "start_time": "2022-11-23T11:54:11.755Z"
   },
   {
    "duration": 5,
    "start_time": "2022-11-23T11:54:12.181Z"
   },
   {
    "duration": 5,
    "start_time": "2022-11-23T11:54:12.481Z"
   },
   {
    "duration": 10,
    "start_time": "2022-11-23T11:54:12.740Z"
   },
   {
    "duration": 216,
    "start_time": "2022-11-23T11:54:17.835Z"
   },
   {
    "duration": 234,
    "start_time": "2022-11-23T11:54:32.824Z"
   },
   {
    "duration": 4,
    "start_time": "2022-11-23T11:56:20.886Z"
   },
   {
    "duration": 5,
    "start_time": "2022-11-23T11:56:31.352Z"
   },
   {
    "duration": 4,
    "start_time": "2022-11-23T11:56:31.891Z"
   },
   {
    "duration": 12,
    "start_time": "2022-11-23T11:56:32.182Z"
   },
   {
    "duration": 231,
    "start_time": "2022-11-23T11:56:36.601Z"
   },
   {
    "duration": 4,
    "start_time": "2022-11-23T11:57:28.745Z"
   },
   {
    "duration": 5,
    "start_time": "2022-11-23T11:57:38.959Z"
   },
   {
    "duration": 11,
    "start_time": "2022-11-23T11:57:39.413Z"
   },
   {
    "duration": 229,
    "start_time": "2022-11-23T11:57:40.654Z"
   },
   {
    "duration": 249,
    "start_time": "2022-11-23T11:58:53.014Z"
   },
   {
    "duration": 243,
    "start_time": "2022-11-23T12:01:34.307Z"
   },
   {
    "duration": 304,
    "start_time": "2022-11-23T12:01:53.824Z"
   },
   {
    "duration": 11,
    "start_time": "2022-11-23T12:02:02.436Z"
   },
   {
    "duration": 5,
    "start_time": "2022-11-23T12:03:14.467Z"
   },
   {
    "duration": 6,
    "start_time": "2022-11-23T12:03:15.922Z"
   },
   {
    "duration": 17,
    "start_time": "2022-11-23T12:03:16.287Z"
   },
   {
    "duration": 206,
    "start_time": "2022-11-23T12:03:37.668Z"
   },
   {
    "duration": 11,
    "start_time": "2022-11-23T12:03:40.854Z"
   },
   {
    "duration": 91,
    "start_time": "2022-11-23T12:06:37.393Z"
   },
   {
    "duration": 12,
    "start_time": "2022-11-23T12:06:45.833Z"
   },
   {
    "duration": 182,
    "start_time": "2022-11-23T12:06:52.091Z"
   },
   {
    "duration": 222,
    "start_time": "2022-11-23T12:07:43.852Z"
   },
   {
    "duration": 307,
    "start_time": "2022-11-23T12:15:40.971Z"
   },
   {
    "duration": 236,
    "start_time": "2022-11-23T12:15:53.768Z"
   },
   {
    "duration": 13,
    "start_time": "2022-11-23T12:30:33.562Z"
   },
   {
    "duration": 22,
    "start_time": "2022-11-23T12:31:09.192Z"
   },
   {
    "duration": 9,
    "start_time": "2022-11-23T12:31:34.807Z"
   },
   {
    "duration": 9,
    "start_time": "2022-11-23T12:31:39.234Z"
   },
   {
    "duration": 271,
    "start_time": "2022-11-23T12:31:44.650Z"
   },
   {
    "duration": 10,
    "start_time": "2022-11-23T12:32:04.480Z"
   },
   {
    "duration": 14,
    "start_time": "2022-11-23T12:32:21.911Z"
   },
   {
    "duration": 18,
    "start_time": "2022-11-23T12:32:42.776Z"
   },
   {
    "duration": 17,
    "start_time": "2022-11-23T12:33:14.109Z"
   },
   {
    "duration": 13,
    "start_time": "2022-11-23T12:33:41.107Z"
   },
   {
    "duration": 13,
    "start_time": "2022-11-23T12:33:59.951Z"
   },
   {
    "duration": 18,
    "start_time": "2022-11-23T12:36:29.776Z"
   },
   {
    "duration": 36,
    "start_time": "2022-11-23T12:40:41.612Z"
   },
   {
    "duration": 10,
    "start_time": "2022-11-23T12:40:46.563Z"
   },
   {
    "duration": 10,
    "start_time": "2022-11-23T12:41:03.154Z"
   },
   {
    "duration": 7,
    "start_time": "2022-11-23T12:41:19.699Z"
   },
   {
    "duration": 7,
    "start_time": "2022-11-23T12:41:21.477Z"
   },
   {
    "duration": 7,
    "start_time": "2022-11-23T12:41:24.894Z"
   },
   {
    "duration": 4,
    "start_time": "2022-11-23T12:41:36.544Z"
   },
   {
    "duration": 8,
    "start_time": "2022-11-23T12:41:42.315Z"
   },
   {
    "duration": 8,
    "start_time": "2022-11-23T12:41:57.105Z"
   },
   {
    "duration": 12,
    "start_time": "2022-11-23T12:42:15.949Z"
   },
   {
    "duration": 19,
    "start_time": "2022-11-23T12:42:19.386Z"
   },
   {
    "duration": 1091,
    "start_time": "2022-11-23T12:42:49.147Z"
   },
   {
    "duration": 210,
    "start_time": "2022-11-23T12:42:50.240Z"
   },
   {
    "duration": 33,
    "start_time": "2022-11-23T12:42:50.451Z"
   },
   {
    "duration": 12,
    "start_time": "2022-11-23T12:42:50.485Z"
   },
   {
    "duration": 33,
    "start_time": "2022-11-23T12:42:50.499Z"
   },
   {
    "duration": 75,
    "start_time": "2022-11-23T12:42:50.533Z"
   },
   {
    "duration": 59,
    "start_time": "2022-11-23T12:42:50.610Z"
   },
   {
    "duration": 16,
    "start_time": "2022-11-23T12:42:50.671Z"
   },
   {
    "duration": 22,
    "start_time": "2022-11-23T12:42:50.689Z"
   },
   {
    "duration": 14,
    "start_time": "2022-11-23T12:42:50.713Z"
   },
   {
    "duration": 9,
    "start_time": "2022-11-23T12:42:50.729Z"
   },
   {
    "duration": 15,
    "start_time": "2022-11-23T12:42:50.740Z"
   },
   {
    "duration": 22,
    "start_time": "2022-11-23T12:42:50.756Z"
   },
   {
    "duration": 10,
    "start_time": "2022-11-23T12:42:50.781Z"
   },
   {
    "duration": 30,
    "start_time": "2022-11-23T12:42:50.793Z"
   },
   {
    "duration": 10,
    "start_time": "2022-11-23T12:42:50.824Z"
   },
   {
    "duration": 11,
    "start_time": "2022-11-23T12:42:50.836Z"
   },
   {
    "duration": 50,
    "start_time": "2022-11-23T12:42:50.848Z"
   },
   {
    "duration": 11,
    "start_time": "2022-11-23T12:42:50.900Z"
   },
   {
    "duration": 201,
    "start_time": "2022-11-23T12:42:50.912Z"
   },
   {
    "duration": 6,
    "start_time": "2022-11-23T12:42:51.115Z"
   },
   {
    "duration": 11,
    "start_time": "2022-11-23T12:42:51.122Z"
   },
   {
    "duration": 5,
    "start_time": "2022-11-23T12:42:51.135Z"
   },
   {
    "duration": 61,
    "start_time": "2022-11-23T12:42:51.142Z"
   },
   {
    "duration": 10,
    "start_time": "2022-11-23T12:42:51.205Z"
   },
   {
    "duration": 84,
    "start_time": "2022-11-23T12:42:51.216Z"
   },
   {
    "duration": 3,
    "start_time": "2022-11-23T12:42:51.302Z"
   },
   {
    "duration": 11,
    "start_time": "2022-11-23T12:42:51.306Z"
   },
   {
    "duration": 9,
    "start_time": "2022-11-23T12:42:51.319Z"
   },
   {
    "duration": 13,
    "start_time": "2022-11-23T12:42:51.330Z"
   },
   {
    "duration": 11,
    "start_time": "2022-11-23T12:42:51.345Z"
   },
   {
    "duration": 21,
    "start_time": "2022-11-23T12:42:51.357Z"
   },
   {
    "duration": 4,
    "start_time": "2022-11-23T12:42:51.379Z"
   },
   {
    "duration": 13,
    "start_time": "2022-11-23T12:42:51.385Z"
   },
   {
    "duration": 13,
    "start_time": "2022-11-23T12:42:51.400Z"
   },
   {
    "duration": 10,
    "start_time": "2022-11-23T12:42:51.415Z"
   },
   {
    "duration": 17,
    "start_time": "2022-11-23T12:42:51.426Z"
   },
   {
    "duration": 11,
    "start_time": "2022-11-23T12:42:51.444Z"
   },
   {
    "duration": 22,
    "start_time": "2022-11-23T12:42:51.457Z"
   },
   {
    "duration": 10,
    "start_time": "2022-11-23T12:42:51.481Z"
   },
   {
    "duration": 4,
    "start_time": "2022-11-23T12:42:51.496Z"
   },
   {
    "duration": 13,
    "start_time": "2022-11-23T12:42:51.502Z"
   },
   {
    "duration": 12,
    "start_time": "2022-11-23T12:42:51.517Z"
   },
   {
    "duration": 7,
    "start_time": "2022-11-23T12:42:51.530Z"
   },
   {
    "duration": 1122,
    "start_time": "2022-11-23T12:42:51.539Z"
   },
   {
    "duration": 20,
    "start_time": "2022-11-23T12:42:52.663Z"
   },
   {
    "duration": 33,
    "start_time": "2022-11-23T12:42:52.685Z"
   },
   {
    "duration": 4,
    "start_time": "2022-11-23T12:42:52.720Z"
   },
   {
    "duration": 21,
    "start_time": "2022-11-23T12:42:52.725Z"
   },
   {
    "duration": 21,
    "start_time": "2022-11-23T12:42:52.748Z"
   },
   {
    "duration": 4,
    "start_time": "2022-11-23T12:42:52.777Z"
   },
   {
    "duration": 23,
    "start_time": "2022-11-23T12:42:52.783Z"
   },
   {
    "duration": 17,
    "start_time": "2022-11-23T12:42:52.808Z"
   },
   {
    "duration": 8,
    "start_time": "2022-11-23T12:42:52.827Z"
   },
   {
    "duration": 6,
    "start_time": "2022-11-23T12:42:52.836Z"
   },
   {
    "duration": 11,
    "start_time": "2022-11-23T12:42:52.844Z"
   },
   {
    "duration": 26,
    "start_time": "2022-11-23T12:42:52.856Z"
   },
   {
    "duration": 15,
    "start_time": "2022-11-23T12:42:52.884Z"
   },
   {
    "duration": 233,
    "start_time": "2022-11-23T12:42:52.901Z"
   },
   {
    "duration": 220,
    "start_time": "2022-11-23T12:42:53.136Z"
   },
   {
    "duration": 22,
    "start_time": "2022-11-23T12:42:53.357Z"
   },
   {
    "duration": 42,
    "start_time": "2022-11-23T12:42:53.381Z"
   },
   {
    "duration": 4,
    "start_time": "2022-11-23T12:42:53.425Z"
   },
   {
    "duration": 10,
    "start_time": "2022-11-23T12:42:53.431Z"
   },
   {
    "duration": 38,
    "start_time": "2022-11-23T12:42:53.443Z"
   },
   {
    "duration": 23,
    "start_time": "2022-11-23T12:42:53.483Z"
   },
   {
    "duration": 5,
    "start_time": "2022-11-23T12:43:37.613Z"
   },
   {
    "duration": 20,
    "start_time": "2022-11-23T12:43:41.132Z"
   },
   {
    "duration": 14,
    "start_time": "2022-11-23T12:43:54.693Z"
   },
   {
    "duration": 118,
    "start_time": "2022-11-23T12:55:47.096Z"
   },
   {
    "duration": 85,
    "start_time": "2022-11-23T12:56:26.850Z"
   },
   {
    "duration": 21,
    "start_time": "2022-11-23T12:56:36.030Z"
   },
   {
    "duration": 32,
    "start_time": "2022-11-23T12:56:41.664Z"
   },
   {
    "duration": 7,
    "start_time": "2022-11-23T12:57:33.542Z"
   },
   {
    "duration": 8,
    "start_time": "2022-11-23T12:57:43.522Z"
   },
   {
    "duration": 9,
    "start_time": "2022-11-23T12:58:18.160Z"
   },
   {
    "duration": 6,
    "start_time": "2022-11-23T12:58:23.551Z"
   },
   {
    "duration": 5,
    "start_time": "2022-11-23T12:58:29.928Z"
   },
   {
    "duration": 9,
    "start_time": "2022-11-23T12:58:44.584Z"
   },
   {
    "duration": 5,
    "start_time": "2022-11-23T12:58:54.750Z"
   },
   {
    "duration": 4,
    "start_time": "2022-11-23T12:59:20.675Z"
   },
   {
    "duration": 9,
    "start_time": "2022-11-23T13:00:04.310Z"
   },
   {
    "duration": 12,
    "start_time": "2022-11-23T13:00:30.544Z"
   },
   {
    "duration": 6,
    "start_time": "2022-11-23T13:01:38.466Z"
   },
   {
    "duration": 6,
    "start_time": "2022-11-23T13:10:29.329Z"
   },
   {
    "duration": 6,
    "start_time": "2022-11-23T13:10:48.078Z"
   },
   {
    "duration": 6,
    "start_time": "2022-11-23T13:11:26.461Z"
   },
   {
    "duration": 11,
    "start_time": "2022-11-23T13:14:55.980Z"
   },
   {
    "duration": 6,
    "start_time": "2022-11-23T13:15:02.449Z"
   },
   {
    "duration": 6,
    "start_time": "2022-11-23T13:15:04.052Z"
   },
   {
    "duration": 6,
    "start_time": "2022-11-23T13:15:45.955Z"
   },
   {
    "duration": 5,
    "start_time": "2022-11-23T13:16:21.001Z"
   },
   {
    "duration": 5,
    "start_time": "2022-11-23T13:16:24.313Z"
   },
   {
    "duration": 5,
    "start_time": "2022-11-23T13:17:45.057Z"
   },
   {
    "duration": 5,
    "start_time": "2022-11-23T13:17:48.841Z"
   },
   {
    "duration": 5,
    "start_time": "2022-11-23T13:18:27.087Z"
   },
   {
    "duration": 6,
    "start_time": "2022-11-23T13:18:50.946Z"
   },
   {
    "duration": 5,
    "start_time": "2022-11-23T13:21:06.577Z"
   },
   {
    "duration": 4,
    "start_time": "2022-11-23T13:21:12.556Z"
   },
   {
    "duration": 5,
    "start_time": "2022-11-23T13:26:44.846Z"
   },
   {
    "duration": 4,
    "start_time": "2022-11-23T13:27:40.689Z"
   },
   {
    "duration": 4,
    "start_time": "2022-11-23T13:27:41.548Z"
   },
   {
    "duration": 6,
    "start_time": "2022-11-23T13:27:57.120Z"
   },
   {
    "duration": 1080,
    "start_time": "2022-11-23T13:34:09.751Z"
   },
   {
    "duration": 218,
    "start_time": "2022-11-23T13:34:10.833Z"
   },
   {
    "duration": 35,
    "start_time": "2022-11-23T13:34:11.053Z"
   },
   {
    "duration": 11,
    "start_time": "2022-11-23T13:34:11.090Z"
   },
   {
    "duration": 33,
    "start_time": "2022-11-23T13:34:11.103Z"
   },
   {
    "duration": 75,
    "start_time": "2022-11-23T13:34:11.137Z"
   },
   {
    "duration": 72,
    "start_time": "2022-11-23T13:34:11.214Z"
   },
   {
    "duration": 11,
    "start_time": "2022-11-23T13:34:11.287Z"
   },
   {
    "duration": 22,
    "start_time": "2022-11-23T13:34:11.300Z"
   },
   {
    "duration": 14,
    "start_time": "2022-11-23T13:34:11.324Z"
   },
   {
    "duration": 10,
    "start_time": "2022-11-23T13:34:11.340Z"
   },
   {
    "duration": 27,
    "start_time": "2022-11-23T13:34:11.352Z"
   },
   {
    "duration": 13,
    "start_time": "2022-11-23T13:34:11.380Z"
   },
   {
    "duration": 14,
    "start_time": "2022-11-23T13:34:11.396Z"
   },
   {
    "duration": 29,
    "start_time": "2022-11-23T13:34:11.412Z"
   },
   {
    "duration": 11,
    "start_time": "2022-11-23T13:34:11.443Z"
   },
   {
    "duration": 12,
    "start_time": "2022-11-23T13:34:11.456Z"
   },
   {
    "duration": 42,
    "start_time": "2022-11-23T13:34:11.469Z"
   },
   {
    "duration": 11,
    "start_time": "2022-11-23T13:34:11.512Z"
   },
   {
    "duration": 202,
    "start_time": "2022-11-23T13:34:11.525Z"
   },
   {
    "duration": 5,
    "start_time": "2022-11-23T13:34:11.729Z"
   },
   {
    "duration": 9,
    "start_time": "2022-11-23T13:34:11.736Z"
   },
   {
    "duration": 6,
    "start_time": "2022-11-23T13:34:11.747Z"
   },
   {
    "duration": 59,
    "start_time": "2022-11-23T13:34:11.755Z"
   },
   {
    "duration": 10,
    "start_time": "2022-11-23T13:34:11.816Z"
   },
   {
    "duration": 88,
    "start_time": "2022-11-23T13:34:11.828Z"
   },
   {
    "duration": 3,
    "start_time": "2022-11-23T13:34:11.918Z"
   },
   {
    "duration": 8,
    "start_time": "2022-11-23T13:34:11.923Z"
   },
   {
    "duration": 8,
    "start_time": "2022-11-23T13:34:11.933Z"
   },
   {
    "duration": 16,
    "start_time": "2022-11-23T13:34:11.942Z"
   },
   {
    "duration": 19,
    "start_time": "2022-11-23T13:34:11.959Z"
   },
   {
    "duration": 9,
    "start_time": "2022-11-23T13:34:11.980Z"
   },
   {
    "duration": 5,
    "start_time": "2022-11-23T13:34:11.991Z"
   },
   {
    "duration": 13,
    "start_time": "2022-11-23T13:34:11.998Z"
   },
   {
    "duration": 12,
    "start_time": "2022-11-23T13:34:12.012Z"
   },
   {
    "duration": 8,
    "start_time": "2022-11-23T13:34:12.026Z"
   },
   {
    "duration": 15,
    "start_time": "2022-11-23T13:34:12.035Z"
   },
   {
    "duration": 30,
    "start_time": "2022-11-23T13:34:12.052Z"
   },
   {
    "duration": 22,
    "start_time": "2022-11-23T13:34:12.083Z"
   },
   {
    "duration": 23,
    "start_time": "2022-11-23T13:34:12.107Z"
   },
   {
    "duration": 15,
    "start_time": "2022-11-23T13:34:12.135Z"
   },
   {
    "duration": 24,
    "start_time": "2022-11-23T13:34:12.152Z"
   },
   {
    "duration": 16,
    "start_time": "2022-11-23T13:34:12.178Z"
   },
   {
    "duration": 8,
    "start_time": "2022-11-23T13:34:12.196Z"
   },
   {
    "duration": 1111,
    "start_time": "2022-11-23T13:34:12.206Z"
   },
   {
    "duration": 16,
    "start_time": "2022-11-23T13:34:13.319Z"
   },
   {
    "duration": 48,
    "start_time": "2022-11-23T13:34:13.337Z"
   },
   {
    "duration": 5,
    "start_time": "2022-11-23T13:34:13.387Z"
   },
   {
    "duration": 11,
    "start_time": "2022-11-23T13:34:13.394Z"
   },
   {
    "duration": 19,
    "start_time": "2022-11-23T13:34:13.407Z"
   },
   {
    "duration": 4,
    "start_time": "2022-11-23T13:34:13.428Z"
   },
   {
    "duration": 24,
    "start_time": "2022-11-23T13:34:13.433Z"
   },
   {
    "duration": 30,
    "start_time": "2022-11-23T13:34:13.459Z"
   },
   {
    "duration": 7,
    "start_time": "2022-11-23T13:34:13.491Z"
   },
   {
    "duration": 6,
    "start_time": "2022-11-23T13:34:13.500Z"
   },
   {
    "duration": 6,
    "start_time": "2022-11-23T13:34:13.508Z"
   },
   {
    "duration": 8,
    "start_time": "2022-11-23T13:34:13.516Z"
   },
   {
    "duration": 13,
    "start_time": "2022-11-23T13:34:13.525Z"
   },
   {
    "duration": 234,
    "start_time": "2022-11-23T13:34:13.539Z"
   },
   {
    "duration": 239,
    "start_time": "2022-11-23T13:34:13.777Z"
   },
   {
    "duration": 19,
    "start_time": "2022-11-23T13:34:14.019Z"
   },
   {
    "duration": 72,
    "start_time": "2022-11-23T13:34:14.040Z"
   },
   {
    "duration": 5,
    "start_time": "2022-11-23T13:34:14.115Z"
   },
   {
    "duration": 17,
    "start_time": "2022-11-23T13:34:14.123Z"
   },
   {
    "duration": 22,
    "start_time": "2022-11-23T13:34:14.142Z"
   },
   {
    "duration": 15,
    "start_time": "2022-11-23T13:34:14.167Z"
   },
   {
    "duration": 22,
    "start_time": "2022-11-23T13:34:14.184Z"
   },
   {
    "duration": 89,
    "start_time": "2022-11-23T13:34:14.208Z"
   },
   {
    "duration": 6,
    "start_time": "2022-11-23T13:34:14.298Z"
   },
   {
    "duration": 8,
    "start_time": "2022-11-23T13:34:14.306Z"
   },
   {
    "duration": 17,
    "start_time": "2022-11-23T13:34:14.316Z"
   },
   {
    "duration": 5,
    "start_time": "2022-11-23T13:34:14.335Z"
   },
   {
    "duration": 9,
    "start_time": "2022-11-23T13:34:14.342Z"
   },
   {
    "duration": 126,
    "start_time": "2022-11-23T13:42:47.792Z"
   },
   {
    "duration": 10,
    "start_time": "2022-11-23T13:43:03.402Z"
   },
   {
    "duration": 1075,
    "start_time": "2022-11-23T14:29:30.943Z"
   },
   {
    "duration": 215,
    "start_time": "2022-11-23T14:29:32.019Z"
   },
   {
    "duration": 31,
    "start_time": "2022-11-23T14:29:32.235Z"
   },
   {
    "duration": 17,
    "start_time": "2022-11-23T14:29:32.268Z"
   },
   {
    "duration": 30,
    "start_time": "2022-11-23T14:29:32.287Z"
   },
   {
    "duration": 69,
    "start_time": "2022-11-23T14:29:32.319Z"
   },
   {
    "duration": 59,
    "start_time": "2022-11-23T14:29:32.389Z"
   },
   {
    "duration": 11,
    "start_time": "2022-11-23T14:29:32.450Z"
   },
   {
    "duration": 32,
    "start_time": "2022-11-23T14:29:32.477Z"
   },
   {
    "duration": 15,
    "start_time": "2022-11-23T14:29:32.512Z"
   },
   {
    "duration": 12,
    "start_time": "2022-11-23T14:29:32.529Z"
   },
   {
    "duration": 19,
    "start_time": "2022-11-23T14:29:32.543Z"
   },
   {
    "duration": 19,
    "start_time": "2022-11-23T14:29:32.564Z"
   },
   {
    "duration": 35,
    "start_time": "2022-11-23T14:29:32.585Z"
   },
   {
    "duration": 35,
    "start_time": "2022-11-23T14:29:32.622Z"
   },
   {
    "duration": 10,
    "start_time": "2022-11-23T14:29:32.659Z"
   },
   {
    "duration": 28,
    "start_time": "2022-11-23T14:29:32.670Z"
   },
   {
    "duration": 52,
    "start_time": "2022-11-23T14:29:32.700Z"
   },
   {
    "duration": 11,
    "start_time": "2022-11-23T14:29:32.753Z"
   },
   {
    "duration": 170,
    "start_time": "2022-11-23T14:29:32.765Z"
   },
   {
    "duration": 5,
    "start_time": "2022-11-23T14:29:32.937Z"
   },
   {
    "duration": 8,
    "start_time": "2022-11-23T14:29:32.944Z"
   },
   {
    "duration": 7,
    "start_time": "2022-11-23T14:29:32.953Z"
   },
   {
    "duration": 38,
    "start_time": "2022-11-23T14:29:32.962Z"
   },
   {
    "duration": 9,
    "start_time": "2022-11-23T14:29:33.002Z"
   },
   {
    "duration": 85,
    "start_time": "2022-11-23T14:29:33.013Z"
   },
   {
    "duration": 3,
    "start_time": "2022-11-23T14:29:33.099Z"
   },
   {
    "duration": 3,
    "start_time": "2022-11-23T14:29:33.106Z"
   },
   {
    "duration": 7,
    "start_time": "2022-11-23T14:29:33.111Z"
   },
   {
    "duration": 11,
    "start_time": "2022-11-23T14:29:33.120Z"
   },
   {
    "duration": 13,
    "start_time": "2022-11-23T14:29:33.132Z"
   },
   {
    "duration": 14,
    "start_time": "2022-11-23T14:29:33.146Z"
   },
   {
    "duration": 5,
    "start_time": "2022-11-23T14:29:33.161Z"
   },
   {
    "duration": 14,
    "start_time": "2022-11-23T14:29:33.167Z"
   },
   {
    "duration": 15,
    "start_time": "2022-11-23T14:29:33.183Z"
   },
   {
    "duration": 7,
    "start_time": "2022-11-23T14:29:33.200Z"
   },
   {
    "duration": 15,
    "start_time": "2022-11-23T14:29:33.209Z"
   },
   {
    "duration": 10,
    "start_time": "2022-11-23T14:29:33.225Z"
   },
   {
    "duration": 8,
    "start_time": "2022-11-23T14:29:33.237Z"
   },
   {
    "duration": 8,
    "start_time": "2022-11-23T14:29:33.247Z"
   },
   {
    "duration": 5,
    "start_time": "2022-11-23T14:29:33.257Z"
   },
   {
    "duration": 12,
    "start_time": "2022-11-23T14:29:33.263Z"
   },
   {
    "duration": 11,
    "start_time": "2022-11-23T14:29:33.276Z"
   },
   {
    "duration": 4,
    "start_time": "2022-11-23T14:29:33.288Z"
   },
   {
    "duration": 1357,
    "start_time": "2022-11-23T14:29:33.294Z"
   },
   {
    "duration": 18,
    "start_time": "2022-11-23T14:29:34.653Z"
   },
   {
    "duration": 41,
    "start_time": "2022-11-23T14:29:34.678Z"
   },
   {
    "duration": 4,
    "start_time": "2022-11-23T14:29:34.721Z"
   },
   {
    "duration": 11,
    "start_time": "2022-11-23T14:29:34.727Z"
   },
   {
    "duration": 42,
    "start_time": "2022-11-23T14:29:34.739Z"
   },
   {
    "duration": 4,
    "start_time": "2022-11-23T14:29:34.784Z"
   },
   {
    "duration": 41,
    "start_time": "2022-11-23T14:29:34.790Z"
   },
   {
    "duration": 40,
    "start_time": "2022-11-23T14:29:34.833Z"
   },
   {
    "duration": 9,
    "start_time": "2022-11-23T14:29:34.874Z"
   },
   {
    "duration": 17,
    "start_time": "2022-11-23T14:29:34.885Z"
   },
   {
    "duration": 18,
    "start_time": "2022-11-23T14:29:34.904Z"
   },
   {
    "duration": 28,
    "start_time": "2022-11-23T14:29:34.923Z"
   },
   {
    "duration": 25,
    "start_time": "2022-11-23T14:29:34.953Z"
   },
   {
    "duration": 220,
    "start_time": "2022-11-23T14:29:34.980Z"
   },
   {
    "duration": 201,
    "start_time": "2022-11-23T14:29:35.202Z"
   },
   {
    "duration": 16,
    "start_time": "2022-11-23T14:29:35.405Z"
   },
   {
    "duration": 38,
    "start_time": "2022-11-23T14:29:35.423Z"
   },
   {
    "duration": 5,
    "start_time": "2022-11-23T14:29:35.479Z"
   },
   {
    "duration": 9,
    "start_time": "2022-11-23T14:29:35.485Z"
   },
   {
    "duration": 15,
    "start_time": "2022-11-23T14:29:35.496Z"
   },
   {
    "duration": 4,
    "start_time": "2022-11-23T14:29:35.513Z"
   },
   {
    "duration": 17,
    "start_time": "2022-11-23T14:29:35.518Z"
   },
   {
    "duration": 96,
    "start_time": "2022-11-23T14:29:35.537Z"
   },
   {
    "duration": 5,
    "start_time": "2022-11-23T14:29:35.635Z"
   },
   {
    "duration": 37,
    "start_time": "2022-11-23T14:29:35.641Z"
   },
   {
    "duration": 19,
    "start_time": "2022-11-23T14:29:35.680Z"
   },
   {
    "duration": 4,
    "start_time": "2022-11-23T14:29:35.701Z"
   },
   {
    "duration": 12,
    "start_time": "2022-11-23T14:29:35.707Z"
   },
   {
    "duration": 1344,
    "start_time": "2022-11-24T12:16:56.913Z"
   },
   {
    "duration": 767,
    "start_time": "2022-11-24T12:16:58.263Z"
   },
   {
    "duration": 45,
    "start_time": "2022-11-24T12:16:59.032Z"
   },
   {
    "duration": 13,
    "start_time": "2022-11-24T12:16:59.079Z"
   },
   {
    "duration": 60,
    "start_time": "2022-11-24T12:16:59.095Z"
   },
   {
    "duration": 70,
    "start_time": "2022-11-24T12:16:59.161Z"
   },
   {
    "duration": 79,
    "start_time": "2022-11-24T12:16:59.233Z"
   },
   {
    "duration": 12,
    "start_time": "2022-11-24T12:16:59.314Z"
   },
   {
    "duration": 41,
    "start_time": "2022-11-24T12:16:59.328Z"
   },
   {
    "duration": 72,
    "start_time": "2022-11-24T12:16:59.370Z"
   },
   {
    "duration": 19,
    "start_time": "2022-11-24T12:16:59.443Z"
   },
   {
    "duration": 14,
    "start_time": "2022-11-24T12:16:59.464Z"
   },
   {
    "duration": 7,
    "start_time": "2022-11-24T12:16:59.480Z"
   },
   {
    "duration": 10,
    "start_time": "2022-11-24T12:16:59.491Z"
   },
   {
    "duration": 143,
    "start_time": "2022-11-24T12:16:59.503Z"
   },
   {
    "duration": 16,
    "start_time": "2022-11-24T12:16:59.649Z"
   },
   {
    "duration": 18,
    "start_time": "2022-11-24T12:16:59.667Z"
   },
   {
    "duration": 79,
    "start_time": "2022-11-24T12:16:59.687Z"
   },
   {
    "duration": 13,
    "start_time": "2022-11-24T12:16:59.769Z"
   },
   {
    "duration": 248,
    "start_time": "2022-11-24T12:16:59.785Z"
   },
   {
    "duration": 6,
    "start_time": "2022-11-24T12:17:00.035Z"
   },
   {
    "duration": 6,
    "start_time": "2022-11-24T12:17:00.050Z"
   },
   {
    "duration": 11,
    "start_time": "2022-11-24T12:17:00.060Z"
   },
   {
    "duration": 45,
    "start_time": "2022-11-24T12:17:00.073Z"
   },
   {
    "duration": 10,
    "start_time": "2022-11-24T12:17:00.120Z"
   },
   {
    "duration": 119,
    "start_time": "2022-11-24T12:17:00.131Z"
   },
   {
    "duration": 6,
    "start_time": "2022-11-24T12:17:00.259Z"
   },
   {
    "duration": 28,
    "start_time": "2022-11-24T12:17:00.267Z"
   },
   {
    "duration": 20,
    "start_time": "2022-11-24T12:17:00.297Z"
   },
   {
    "duration": 20,
    "start_time": "2022-11-24T12:17:00.319Z"
   },
   {
    "duration": 36,
    "start_time": "2022-11-24T12:17:00.341Z"
   },
   {
    "duration": 19,
    "start_time": "2022-11-24T12:17:00.379Z"
   },
   {
    "duration": 11,
    "start_time": "2022-11-24T12:17:00.400Z"
   },
   {
    "duration": 26,
    "start_time": "2022-11-24T12:17:00.413Z"
   },
   {
    "duration": 47,
    "start_time": "2022-11-24T12:17:00.440Z"
   },
   {
    "duration": 12,
    "start_time": "2022-11-24T12:17:00.489Z"
   },
   {
    "duration": 26,
    "start_time": "2022-11-24T12:17:00.502Z"
   },
   {
    "duration": 26,
    "start_time": "2022-11-24T12:17:00.530Z"
   },
   {
    "duration": 24,
    "start_time": "2022-11-24T12:17:00.557Z"
   },
   {
    "duration": 29,
    "start_time": "2022-11-24T12:17:00.583Z"
   },
   {
    "duration": 24,
    "start_time": "2022-11-24T12:17:00.618Z"
   },
   {
    "duration": 28,
    "start_time": "2022-11-24T12:17:00.644Z"
   },
   {
    "duration": 39,
    "start_time": "2022-11-24T12:17:00.675Z"
   },
   {
    "duration": 11,
    "start_time": "2022-11-24T12:17:00.716Z"
   },
   {
    "duration": 1326,
    "start_time": "2022-11-24T12:17:00.729Z"
   },
   {
    "duration": 24,
    "start_time": "2022-11-24T12:17:02.061Z"
   },
   {
    "duration": 44,
    "start_time": "2022-11-24T12:17:02.086Z"
   },
   {
    "duration": 32,
    "start_time": "2022-11-24T12:17:02.132Z"
   },
   {
    "duration": 11,
    "start_time": "2022-11-24T12:17:02.167Z"
   },
   {
    "duration": 37,
    "start_time": "2022-11-24T12:17:02.180Z"
   },
   {
    "duration": 40,
    "start_time": "2022-11-24T12:17:02.219Z"
   },
   {
    "duration": 42,
    "start_time": "2022-11-24T12:17:02.266Z"
   },
   {
    "duration": 25,
    "start_time": "2022-11-24T12:17:02.310Z"
   },
   {
    "duration": 28,
    "start_time": "2022-11-24T12:17:02.337Z"
   },
   {
    "duration": 31,
    "start_time": "2022-11-24T12:17:02.366Z"
   },
   {
    "duration": 17,
    "start_time": "2022-11-24T12:17:02.399Z"
   },
   {
    "duration": 22,
    "start_time": "2022-11-24T12:17:02.418Z"
   },
   {
    "duration": 41,
    "start_time": "2022-11-24T12:17:02.442Z"
   },
   {
    "duration": 284,
    "start_time": "2022-11-24T12:17:02.485Z"
   },
   {
    "duration": 226,
    "start_time": "2022-11-24T12:17:02.771Z"
   },
   {
    "duration": 14,
    "start_time": "2022-11-24T12:17:02.999Z"
   },
   {
    "duration": 63,
    "start_time": "2022-11-24T12:17:03.014Z"
   },
   {
    "duration": 5,
    "start_time": "2022-11-24T12:17:03.079Z"
   },
   {
    "duration": 21,
    "start_time": "2022-11-24T12:17:03.086Z"
   },
   {
    "duration": 41,
    "start_time": "2022-11-24T12:17:03.109Z"
   },
   {
    "duration": 13,
    "start_time": "2022-11-24T12:17:03.153Z"
   },
   {
    "duration": 30,
    "start_time": "2022-11-24T12:17:03.168Z"
   },
   {
    "duration": 78,
    "start_time": "2022-11-24T12:17:03.200Z"
   },
   {
    "duration": 5,
    "start_time": "2022-11-24T12:17:03.280Z"
   },
   {
    "duration": 13,
    "start_time": "2022-11-24T12:17:03.287Z"
   },
   {
    "duration": 14,
    "start_time": "2022-11-24T12:17:03.302Z"
   },
   {
    "duration": 12,
    "start_time": "2022-11-24T12:17:03.318Z"
   },
   {
    "duration": 8,
    "start_time": "2022-11-24T12:17:03.332Z"
   },
   {
    "duration": 1138,
    "start_time": "2022-11-24T12:24:51.283Z"
   },
   {
    "duration": 232,
    "start_time": "2022-11-24T12:24:52.423Z"
   },
   {
    "duration": 37,
    "start_time": "2022-11-24T12:24:52.657Z"
   },
   {
    "duration": 12,
    "start_time": "2022-11-24T12:24:52.696Z"
   },
   {
    "duration": 57,
    "start_time": "2022-11-24T12:24:52.710Z"
   },
   {
    "duration": 63,
    "start_time": "2022-11-24T12:24:52.769Z"
   },
   {
    "duration": 85,
    "start_time": "2022-11-24T12:24:52.833Z"
   },
   {
    "duration": 33,
    "start_time": "2022-11-24T12:24:52.920Z"
   },
   {
    "duration": 27,
    "start_time": "2022-11-24T12:24:52.955Z"
   },
   {
    "duration": 16,
    "start_time": "2022-11-24T12:24:52.984Z"
   },
   {
    "duration": 13,
    "start_time": "2022-11-24T12:24:53.002Z"
   },
   {
    "duration": 35,
    "start_time": "2022-11-24T12:24:53.017Z"
   },
   {
    "duration": 10,
    "start_time": "2022-11-24T12:24:53.054Z"
   },
   {
    "duration": 15,
    "start_time": "2022-11-24T12:24:53.067Z"
   },
   {
    "duration": 34,
    "start_time": "2022-11-24T12:24:53.084Z"
   },
   {
    "duration": 11,
    "start_time": "2022-11-24T12:24:53.120Z"
   },
   {
    "duration": 19,
    "start_time": "2022-11-24T12:24:53.133Z"
   },
   {
    "duration": 42,
    "start_time": "2022-11-24T12:24:53.154Z"
   },
   {
    "duration": 12,
    "start_time": "2022-11-24T12:24:53.198Z"
   },
   {
    "duration": 218,
    "start_time": "2022-11-24T12:24:53.212Z"
   },
   {
    "duration": 5,
    "start_time": "2022-11-24T12:24:53.432Z"
   },
   {
    "duration": 6,
    "start_time": "2022-11-24T12:24:53.451Z"
   },
   {
    "duration": 19,
    "start_time": "2022-11-24T12:24:53.458Z"
   },
   {
    "duration": 44,
    "start_time": "2022-11-24T12:24:53.479Z"
   },
   {
    "duration": 11,
    "start_time": "2022-11-24T12:24:53.525Z"
   },
   {
    "duration": 104,
    "start_time": "2022-11-24T12:24:53.538Z"
   },
   {
    "duration": 3,
    "start_time": "2022-11-24T12:24:53.652Z"
   },
   {
    "duration": 10,
    "start_time": "2022-11-24T12:24:53.656Z"
   },
   {
    "duration": 9,
    "start_time": "2022-11-24T12:24:53.668Z"
   },
   {
    "duration": 19,
    "start_time": "2022-11-24T12:24:53.678Z"
   },
   {
    "duration": 20,
    "start_time": "2022-11-24T12:24:53.699Z"
   },
   {
    "duration": 19,
    "start_time": "2022-11-24T12:24:53.721Z"
   },
   {
    "duration": 6,
    "start_time": "2022-11-24T12:24:53.741Z"
   },
   {
    "duration": 14,
    "start_time": "2022-11-24T12:24:53.750Z"
   },
   {
    "duration": 18,
    "start_time": "2022-11-24T12:24:53.766Z"
   },
   {
    "duration": 17,
    "start_time": "2022-11-24T12:24:53.787Z"
   },
   {
    "duration": 16,
    "start_time": "2022-11-24T12:24:53.806Z"
   },
   {
    "duration": 24,
    "start_time": "2022-11-24T12:24:53.824Z"
   },
   {
    "duration": 8,
    "start_time": "2022-11-24T12:24:53.850Z"
   },
   {
    "duration": 14,
    "start_time": "2022-11-24T12:24:53.860Z"
   },
   {
    "duration": 4,
    "start_time": "2022-11-24T12:24:53.878Z"
   },
   {
    "duration": 14,
    "start_time": "2022-11-24T12:24:53.884Z"
   },
   {
    "duration": 18,
    "start_time": "2022-11-24T12:24:53.900Z"
   },
   {
    "duration": 12,
    "start_time": "2022-11-24T12:24:53.920Z"
   },
   {
    "duration": 1213,
    "start_time": "2022-11-24T12:24:53.934Z"
   },
   {
    "duration": 18,
    "start_time": "2022-11-24T12:24:55.148Z"
   },
   {
    "duration": 57,
    "start_time": "2022-11-24T12:24:55.168Z"
   },
   {
    "duration": 4,
    "start_time": "2022-11-24T12:24:55.227Z"
   },
   {
    "duration": 43,
    "start_time": "2022-11-24T12:24:55.232Z"
   },
   {
    "duration": 34,
    "start_time": "2022-11-24T12:24:55.277Z"
   },
   {
    "duration": 27,
    "start_time": "2022-11-24T12:24:55.313Z"
   },
   {
    "duration": 44,
    "start_time": "2022-11-24T12:24:55.341Z"
   },
   {
    "duration": 27,
    "start_time": "2022-11-24T12:24:55.386Z"
   },
   {
    "duration": 21,
    "start_time": "2022-11-24T12:24:55.415Z"
   },
   {
    "duration": 38,
    "start_time": "2022-11-24T12:24:55.437Z"
   },
   {
    "duration": 25,
    "start_time": "2022-11-24T12:24:55.477Z"
   },
   {
    "duration": 38,
    "start_time": "2022-11-24T12:24:55.504Z"
   },
   {
    "duration": 19,
    "start_time": "2022-11-24T12:24:55.543Z"
   },
   {
    "duration": 30,
    "start_time": "2022-11-24T12:24:55.564Z"
   },
   {
    "duration": 250,
    "start_time": "2022-11-24T12:24:55.595Z"
   },
   {
    "duration": 213,
    "start_time": "2022-11-24T12:24:55.850Z"
   },
   {
    "duration": 15,
    "start_time": "2022-11-24T12:24:56.064Z"
   },
   {
    "duration": 60,
    "start_time": "2022-11-24T12:24:56.081Z"
   },
   {
    "duration": 8,
    "start_time": "2022-11-24T12:24:56.143Z"
   },
   {
    "duration": 30,
    "start_time": "2022-11-24T12:24:56.153Z"
   },
   {
    "duration": 31,
    "start_time": "2022-11-24T12:24:56.184Z"
   },
   {
    "duration": 24,
    "start_time": "2022-11-24T12:24:56.217Z"
   },
   {
    "duration": 89,
    "start_time": "2022-11-24T12:24:56.243Z"
   },
   {
    "duration": 98,
    "start_time": "2022-11-24T12:24:56.334Z"
   },
   {
    "duration": 24,
    "start_time": "2022-11-24T12:24:56.434Z"
   },
   {
    "duration": 24,
    "start_time": "2022-11-24T12:24:56.460Z"
   },
   {
    "duration": 27,
    "start_time": "2022-11-24T12:24:56.486Z"
   },
   {
    "duration": 25,
    "start_time": "2022-11-24T12:24:56.514Z"
   },
   {
    "duration": 25,
    "start_time": "2022-11-24T12:24:56.541Z"
   },
   {
    "duration": 4,
    "start_time": "2022-11-24T12:57:13.034Z"
   },
   {
    "duration": 7,
    "start_time": "2022-11-24T13:00:45.205Z"
   },
   {
    "duration": 6,
    "start_time": "2022-11-24T13:00:56.304Z"
   },
   {
    "duration": 6,
    "start_time": "2022-11-24T13:01:14.971Z"
   },
   {
    "duration": 6,
    "start_time": "2022-11-24T13:02:32.768Z"
   },
   {
    "duration": 6,
    "start_time": "2022-11-24T13:03:13.149Z"
   },
   {
    "duration": 6,
    "start_time": "2022-11-24T13:09:55.269Z"
   },
   {
    "duration": 7,
    "start_time": "2022-11-24T13:09:55.968Z"
   },
   {
    "duration": 8,
    "start_time": "2022-11-24T13:13:51.945Z"
   },
   {
    "duration": 6,
    "start_time": "2022-11-24T13:14:11.444Z"
   },
   {
    "duration": 9,
    "start_time": "2022-11-24T13:15:32.533Z"
   },
   {
    "duration": 7,
    "start_time": "2022-11-24T13:15:35.767Z"
   },
   {
    "duration": 8,
    "start_time": "2022-11-24T13:15:39.889Z"
   },
   {
    "duration": 5,
    "start_time": "2022-11-24T13:15:52.369Z"
   },
   {
    "duration": 6,
    "start_time": "2022-11-24T13:16:00.498Z"
   },
   {
    "duration": 5,
    "start_time": "2022-11-24T13:18:00.605Z"
   },
   {
    "duration": 6,
    "start_time": "2022-11-24T13:18:02.565Z"
   },
   {
    "duration": 1292,
    "start_time": "2022-11-24T13:18:48.907Z"
   },
   {
    "duration": 264,
    "start_time": "2022-11-24T13:18:50.201Z"
   },
   {
    "duration": 62,
    "start_time": "2022-11-24T13:18:50.468Z"
   },
   {
    "duration": 30,
    "start_time": "2022-11-24T13:18:50.532Z"
   },
   {
    "duration": 41,
    "start_time": "2022-11-24T13:18:50.566Z"
   },
   {
    "duration": 80,
    "start_time": "2022-11-24T13:18:50.609Z"
   },
   {
    "duration": 82,
    "start_time": "2022-11-24T13:18:50.691Z"
   },
   {
    "duration": 19,
    "start_time": "2022-11-24T13:18:50.775Z"
   },
   {
    "duration": 38,
    "start_time": "2022-11-24T13:18:50.797Z"
   },
   {
    "duration": 23,
    "start_time": "2022-11-24T13:18:50.852Z"
   },
   {
    "duration": 15,
    "start_time": "2022-11-24T13:18:50.877Z"
   },
   {
    "duration": 22,
    "start_time": "2022-11-24T13:18:50.894Z"
   },
   {
    "duration": 8,
    "start_time": "2022-11-24T13:18:50.917Z"
   },
   {
    "duration": 19,
    "start_time": "2022-11-24T13:18:50.929Z"
   },
   {
    "duration": 45,
    "start_time": "2022-11-24T13:18:50.952Z"
   },
   {
    "duration": 11,
    "start_time": "2022-11-24T13:18:50.999Z"
   },
   {
    "duration": 18,
    "start_time": "2022-11-24T13:18:51.011Z"
   },
   {
    "duration": 54,
    "start_time": "2022-11-24T13:18:51.031Z"
   },
   {
    "duration": 11,
    "start_time": "2022-11-24T13:18:51.088Z"
   },
   {
    "duration": 219,
    "start_time": "2022-11-24T13:18:51.101Z"
   },
   {
    "duration": 5,
    "start_time": "2022-11-24T13:18:51.321Z"
   },
   {
    "duration": 26,
    "start_time": "2022-11-24T13:18:51.328Z"
   },
   {
    "duration": 16,
    "start_time": "2022-11-24T13:18:51.355Z"
   },
   {
    "duration": 56,
    "start_time": "2022-11-24T13:18:51.374Z"
   },
   {
    "duration": 13,
    "start_time": "2022-11-24T13:18:51.433Z"
   },
   {
    "duration": 95,
    "start_time": "2022-11-24T13:18:51.450Z"
   },
   {
    "duration": 3,
    "start_time": "2022-11-24T13:18:51.546Z"
   },
   {
    "duration": 24,
    "start_time": "2022-11-24T13:18:51.551Z"
   },
   {
    "duration": 18,
    "start_time": "2022-11-24T13:18:51.577Z"
   },
   {
    "duration": 20,
    "start_time": "2022-11-24T13:18:51.597Z"
   },
   {
    "duration": 19,
    "start_time": "2022-11-24T13:18:51.619Z"
   },
   {
    "duration": 22,
    "start_time": "2022-11-24T13:18:51.639Z"
   },
   {
    "duration": 16,
    "start_time": "2022-11-24T13:18:51.662Z"
   },
   {
    "duration": 19,
    "start_time": "2022-11-24T13:18:51.680Z"
   },
   {
    "duration": 15,
    "start_time": "2022-11-24T13:18:51.701Z"
   },
   {
    "duration": 11,
    "start_time": "2022-11-24T13:18:51.718Z"
   },
   {
    "duration": 26,
    "start_time": "2022-11-24T13:18:51.730Z"
   },
   {
    "duration": 25,
    "start_time": "2022-11-24T13:18:51.758Z"
   },
   {
    "duration": 13,
    "start_time": "2022-11-24T13:18:51.785Z"
   },
   {
    "duration": 13,
    "start_time": "2022-11-24T13:18:51.800Z"
   },
   {
    "duration": 10,
    "start_time": "2022-11-24T13:18:51.819Z"
   },
   {
    "duration": 24,
    "start_time": "2022-11-24T13:18:51.831Z"
   },
   {
    "duration": 27,
    "start_time": "2022-11-24T13:18:51.863Z"
   },
   {
    "duration": 18,
    "start_time": "2022-11-24T13:18:51.892Z"
   },
   {
    "duration": 1313,
    "start_time": "2022-11-24T13:18:51.912Z"
   },
   {
    "duration": 37,
    "start_time": "2022-11-24T13:18:53.226Z"
   },
   {
    "duration": 35,
    "start_time": "2022-11-24T13:18:53.271Z"
   },
   {
    "duration": 4,
    "start_time": "2022-11-24T13:18:53.308Z"
   },
   {
    "duration": 9,
    "start_time": "2022-11-24T13:18:53.314Z"
   },
   {
    "duration": 16,
    "start_time": "2022-11-24T13:18:53.325Z"
   },
   {
    "duration": 21,
    "start_time": "2022-11-24T13:18:53.342Z"
   },
   {
    "duration": 22,
    "start_time": "2022-11-24T13:18:53.367Z"
   },
   {
    "duration": 21,
    "start_time": "2022-11-24T13:18:53.391Z"
   },
   {
    "duration": 8,
    "start_time": "2022-11-24T13:18:53.414Z"
   },
   {
    "duration": 7,
    "start_time": "2022-11-24T13:18:53.424Z"
   },
   {
    "duration": 24,
    "start_time": "2022-11-24T13:18:53.433Z"
   },
   {
    "duration": 18,
    "start_time": "2022-11-24T13:18:53.458Z"
   },
   {
    "duration": 7,
    "start_time": "2022-11-24T13:18:53.478Z"
   },
   {
    "duration": 19,
    "start_time": "2022-11-24T13:18:53.487Z"
   },
   {
    "duration": 255,
    "start_time": "2022-11-24T13:18:53.508Z"
   },
   {
    "duration": 232,
    "start_time": "2022-11-24T13:18:53.767Z"
   },
   {
    "duration": 16,
    "start_time": "2022-11-24T13:18:54.001Z"
   },
   {
    "duration": 60,
    "start_time": "2022-11-24T13:18:54.019Z"
   },
   {
    "duration": 7,
    "start_time": "2022-11-24T13:18:54.080Z"
   },
   {
    "duration": 10,
    "start_time": "2022-11-24T13:18:54.089Z"
   },
   {
    "duration": 21,
    "start_time": "2022-11-24T13:18:54.101Z"
   },
   {
    "duration": 5,
    "start_time": "2022-11-24T13:18:54.124Z"
   },
   {
    "duration": 20,
    "start_time": "2022-11-24T13:18:54.151Z"
   },
   {
    "duration": 95,
    "start_time": "2022-11-24T13:18:54.174Z"
   },
   {
    "duration": 9,
    "start_time": "2022-11-24T13:18:54.271Z"
   },
   {
    "duration": 8,
    "start_time": "2022-11-24T13:18:54.282Z"
   },
   {
    "duration": 11,
    "start_time": "2022-11-24T13:18:54.292Z"
   },
   {
    "duration": 5,
    "start_time": "2022-11-24T13:18:54.305Z"
   },
   {
    "duration": 12,
    "start_time": "2022-11-24T13:18:54.312Z"
   },
   {
    "duration": 1297,
    "start_time": "2022-11-24T13:22:14.006Z"
   },
   {
    "duration": 276,
    "start_time": "2022-11-24T13:22:15.305Z"
   },
   {
    "duration": 47,
    "start_time": "2022-11-24T13:22:15.584Z"
   },
   {
    "duration": 25,
    "start_time": "2022-11-24T13:22:15.633Z"
   },
   {
    "duration": 60,
    "start_time": "2022-11-24T13:22:15.661Z"
   },
   {
    "duration": 95,
    "start_time": "2022-11-24T13:22:15.722Z"
   },
   {
    "duration": 89,
    "start_time": "2022-11-24T13:22:15.819Z"
   },
   {
    "duration": 17,
    "start_time": "2022-11-24T13:22:15.910Z"
   },
   {
    "duration": 55,
    "start_time": "2022-11-24T13:22:15.931Z"
   },
   {
    "duration": 16,
    "start_time": "2022-11-24T13:22:15.988Z"
   },
   {
    "duration": 11,
    "start_time": "2022-11-24T13:22:16.006Z"
   },
   {
    "duration": 14,
    "start_time": "2022-11-24T13:22:16.018Z"
   },
   {
    "duration": 20,
    "start_time": "2022-11-24T13:22:16.033Z"
   },
   {
    "duration": 15,
    "start_time": "2022-11-24T13:22:16.055Z"
   },
   {
    "duration": 40,
    "start_time": "2022-11-24T13:22:16.072Z"
   },
   {
    "duration": 11,
    "start_time": "2022-11-24T13:22:16.114Z"
   },
   {
    "duration": 11,
    "start_time": "2022-11-24T13:22:16.127Z"
   },
   {
    "duration": 67,
    "start_time": "2022-11-24T13:22:16.139Z"
   },
   {
    "duration": 11,
    "start_time": "2022-11-24T13:22:16.207Z"
   },
   {
    "duration": 226,
    "start_time": "2022-11-24T13:22:16.220Z"
   },
   {
    "duration": 15,
    "start_time": "2022-11-24T13:22:16.455Z"
   },
   {
    "duration": 22,
    "start_time": "2022-11-24T13:22:16.472Z"
   },
   {
    "duration": 7,
    "start_time": "2022-11-24T13:22:16.496Z"
   },
   {
    "duration": 56,
    "start_time": "2022-11-24T13:22:16.505Z"
   },
   {
    "duration": 23,
    "start_time": "2022-11-24T13:22:16.563Z"
   },
   {
    "duration": 115,
    "start_time": "2022-11-24T13:22:16.588Z"
   },
   {
    "duration": 6,
    "start_time": "2022-11-24T13:22:16.709Z"
   },
   {
    "duration": 12,
    "start_time": "2022-11-24T13:22:16.717Z"
   },
   {
    "duration": 10,
    "start_time": "2022-11-24T13:22:16.731Z"
   },
   {
    "duration": 23,
    "start_time": "2022-11-24T13:22:16.743Z"
   },
   {
    "duration": 36,
    "start_time": "2022-11-24T13:22:16.769Z"
   },
   {
    "duration": 17,
    "start_time": "2022-11-24T13:22:16.807Z"
   },
   {
    "duration": 11,
    "start_time": "2022-11-24T13:22:16.826Z"
   },
   {
    "duration": 26,
    "start_time": "2022-11-24T13:22:16.838Z"
   },
   {
    "duration": 36,
    "start_time": "2022-11-24T13:22:16.866Z"
   },
   {
    "duration": 9,
    "start_time": "2022-11-24T13:22:16.904Z"
   },
   {
    "duration": 12,
    "start_time": "2022-11-24T13:22:16.917Z"
   },
   {
    "duration": 11,
    "start_time": "2022-11-24T13:22:16.931Z"
   },
   {
    "duration": 12,
    "start_time": "2022-11-24T13:22:16.945Z"
   },
   {
    "duration": 42,
    "start_time": "2022-11-24T13:22:16.960Z"
   },
   {
    "duration": 12,
    "start_time": "2022-11-24T13:22:17.004Z"
   },
   {
    "duration": 14,
    "start_time": "2022-11-24T13:22:17.018Z"
   },
   {
    "duration": 20,
    "start_time": "2022-11-24T13:22:17.035Z"
   },
   {
    "duration": 41,
    "start_time": "2022-11-24T13:22:17.059Z"
   },
   {
    "duration": 1443,
    "start_time": "2022-11-24T13:22:17.103Z"
   },
   {
    "duration": 33,
    "start_time": "2022-11-24T13:22:18.548Z"
   },
   {
    "duration": 66,
    "start_time": "2022-11-24T13:22:18.586Z"
   },
   {
    "duration": 11,
    "start_time": "2022-11-24T13:22:18.658Z"
   },
   {
    "duration": 31,
    "start_time": "2022-11-24T13:22:18.671Z"
   },
   {
    "duration": 20,
    "start_time": "2022-11-24T13:22:18.704Z"
   },
   {
    "duration": 6,
    "start_time": "2022-11-24T13:22:18.726Z"
   },
   {
    "duration": 37,
    "start_time": "2022-11-24T13:22:18.734Z"
   },
   {
    "duration": 42,
    "start_time": "2022-11-24T13:22:18.773Z"
   },
   {
    "duration": 5,
    "start_time": "2022-11-24T13:22:18.817Z"
   },
   {
    "duration": 17,
    "start_time": "2022-11-24T13:22:18.824Z"
   },
   {
    "duration": 9,
    "start_time": "2022-11-24T13:22:18.843Z"
   },
   {
    "duration": 8,
    "start_time": "2022-11-24T13:22:18.856Z"
   },
   {
    "duration": 34,
    "start_time": "2022-11-24T13:22:18.866Z"
   },
   {
    "duration": 13,
    "start_time": "2022-11-24T13:22:18.901Z"
   },
   {
    "duration": 298,
    "start_time": "2022-11-24T13:22:18.917Z"
   },
   {
    "duration": 259,
    "start_time": "2022-11-24T13:22:19.217Z"
   },
   {
    "duration": 22,
    "start_time": "2022-11-24T13:22:19.478Z"
   },
   {
    "duration": 85,
    "start_time": "2022-11-24T13:22:19.501Z"
   },
   {
    "duration": 6,
    "start_time": "2022-11-24T13:22:19.592Z"
   },
   {
    "duration": 13,
    "start_time": "2022-11-24T13:22:19.600Z"
   },
   {
    "duration": 23,
    "start_time": "2022-11-24T13:22:19.615Z"
   },
   {
    "duration": 60,
    "start_time": "2022-11-24T13:22:19.640Z"
   },
   {
    "duration": 20,
    "start_time": "2022-11-24T13:22:19.702Z"
   },
   {
    "duration": 116,
    "start_time": "2022-11-24T13:22:19.724Z"
   },
   {
    "duration": 10,
    "start_time": "2022-11-24T13:22:19.842Z"
   },
   {
    "duration": 48,
    "start_time": "2022-11-24T13:22:19.854Z"
   },
   {
    "duration": 28,
    "start_time": "2022-11-24T13:22:19.904Z"
   },
   {
    "duration": 13,
    "start_time": "2022-11-24T13:22:19.934Z"
   },
   {
    "duration": 50,
    "start_time": "2022-11-24T13:22:19.949Z"
   },
   {
    "duration": 1258,
    "start_time": "2022-11-25T10:07:05.251Z"
   },
   {
    "duration": 705,
    "start_time": "2022-11-25T10:07:06.511Z"
   },
   {
    "duration": 33,
    "start_time": "2022-11-25T10:07:07.217Z"
   },
   {
    "duration": 12,
    "start_time": "2022-11-25T10:07:07.251Z"
   },
   {
    "duration": 31,
    "start_time": "2022-11-25T10:07:07.264Z"
   },
   {
    "duration": 77,
    "start_time": "2022-11-25T10:07:07.297Z"
   },
   {
    "duration": 62,
    "start_time": "2022-11-25T10:07:07.375Z"
   },
   {
    "duration": 22,
    "start_time": "2022-11-25T10:07:07.439Z"
   },
   {
    "duration": 23,
    "start_time": "2022-11-25T10:07:07.463Z"
   },
   {
    "duration": 60,
    "start_time": "2022-11-25T10:07:07.488Z"
   },
   {
    "duration": 12,
    "start_time": "2022-11-25T10:07:07.549Z"
   },
   {
    "duration": 12,
    "start_time": "2022-11-25T10:07:07.562Z"
   },
   {
    "duration": 6,
    "start_time": "2022-11-25T10:07:07.576Z"
   },
   {
    "duration": 12,
    "start_time": "2022-11-25T10:07:07.586Z"
   },
   {
    "duration": 170,
    "start_time": "2022-11-25T10:07:07.600Z"
   },
   {
    "duration": 11,
    "start_time": "2022-11-25T10:07:07.772Z"
   },
   {
    "duration": 9,
    "start_time": "2022-11-25T10:07:07.784Z"
   },
   {
    "duration": 38,
    "start_time": "2022-11-25T10:07:07.795Z"
   },
   {
    "duration": 20,
    "start_time": "2022-11-25T10:07:07.834Z"
   },
   {
    "duration": 188,
    "start_time": "2022-11-25T10:07:07.856Z"
   },
   {
    "duration": 10,
    "start_time": "2022-11-25T10:07:08.045Z"
   },
   {
    "duration": 8,
    "start_time": "2022-11-25T10:07:08.057Z"
   },
   {
    "duration": 6,
    "start_time": "2022-11-25T10:07:08.067Z"
   },
   {
    "duration": 39,
    "start_time": "2022-11-25T10:07:08.074Z"
   },
   {
    "duration": 10,
    "start_time": "2022-11-25T10:07:08.114Z"
   },
   {
    "duration": 91,
    "start_time": "2022-11-25T10:07:08.126Z"
   },
   {
    "duration": 3,
    "start_time": "2022-11-25T10:07:08.218Z"
   },
   {
    "duration": 5,
    "start_time": "2022-11-25T10:07:08.223Z"
   },
   {
    "duration": 10,
    "start_time": "2022-11-25T10:07:08.230Z"
   },
   {
    "duration": 16,
    "start_time": "2022-11-25T10:07:08.252Z"
   },
   {
    "duration": 14,
    "start_time": "2022-11-25T10:07:08.270Z"
   },
   {
    "duration": 12,
    "start_time": "2022-11-25T10:07:08.286Z"
   },
   {
    "duration": 7,
    "start_time": "2022-11-25T10:07:08.300Z"
   },
   {
    "duration": 13,
    "start_time": "2022-11-25T10:07:08.308Z"
   },
   {
    "duration": 29,
    "start_time": "2022-11-25T10:07:08.323Z"
   },
   {
    "duration": 8,
    "start_time": "2022-11-25T10:07:08.354Z"
   },
   {
    "duration": 14,
    "start_time": "2022-11-25T10:07:08.363Z"
   },
   {
    "duration": 7,
    "start_time": "2022-11-25T10:07:08.379Z"
   },
   {
    "duration": 7,
    "start_time": "2022-11-25T10:07:08.388Z"
   },
   {
    "duration": 13,
    "start_time": "2022-11-25T10:07:08.396Z"
   },
   {
    "duration": 6,
    "start_time": "2022-11-25T10:07:08.413Z"
   },
   {
    "duration": 39,
    "start_time": "2022-11-25T10:07:08.420Z"
   },
   {
    "duration": 12,
    "start_time": "2022-11-25T10:07:08.461Z"
   },
   {
    "duration": 5,
    "start_time": "2022-11-25T10:07:08.475Z"
   },
   {
    "duration": 1073,
    "start_time": "2022-11-25T10:07:08.481Z"
   },
   {
    "duration": 19,
    "start_time": "2022-11-25T10:07:09.556Z"
   },
   {
    "duration": 41,
    "start_time": "2022-11-25T10:07:09.577Z"
   },
   {
    "duration": 4,
    "start_time": "2022-11-25T10:07:09.620Z"
   },
   {
    "duration": 27,
    "start_time": "2022-11-25T10:07:09.626Z"
   },
   {
    "duration": 15,
    "start_time": "2022-11-25T10:07:09.655Z"
   },
   {
    "duration": 5,
    "start_time": "2022-11-25T10:07:09.671Z"
   },
   {
    "duration": 25,
    "start_time": "2022-11-25T10:07:09.678Z"
   },
   {
    "duration": 17,
    "start_time": "2022-11-25T10:07:09.705Z"
   },
   {
    "duration": 29,
    "start_time": "2022-11-25T10:07:09.724Z"
   },
   {
    "duration": 11,
    "start_time": "2022-11-25T10:07:09.754Z"
   },
   {
    "duration": 8,
    "start_time": "2022-11-25T10:07:09.767Z"
   },
   {
    "duration": 8,
    "start_time": "2022-11-25T10:07:09.776Z"
   },
   {
    "duration": 6,
    "start_time": "2022-11-25T10:07:09.786Z"
   },
   {
    "duration": 14,
    "start_time": "2022-11-25T10:07:09.793Z"
   },
   {
    "duration": 227,
    "start_time": "2022-11-25T10:07:09.809Z"
   },
   {
    "duration": 191,
    "start_time": "2022-11-25T10:07:10.038Z"
   },
   {
    "duration": 14,
    "start_time": "2022-11-25T10:07:10.231Z"
   },
   {
    "duration": 35,
    "start_time": "2022-11-25T10:07:10.253Z"
   },
   {
    "duration": 4,
    "start_time": "2022-11-25T10:07:10.290Z"
   },
   {
    "duration": 10,
    "start_time": "2022-11-25T10:07:10.296Z"
   },
   {
    "duration": 15,
    "start_time": "2022-11-25T10:07:10.308Z"
   },
   {
    "duration": 31,
    "start_time": "2022-11-25T10:07:10.324Z"
   },
   {
    "duration": 22,
    "start_time": "2022-11-25T10:07:10.358Z"
   },
   {
    "duration": 90,
    "start_time": "2022-11-25T10:07:10.382Z"
   },
   {
    "duration": 5,
    "start_time": "2022-11-25T10:07:10.474Z"
   },
   {
    "duration": 9,
    "start_time": "2022-11-25T10:07:10.481Z"
   },
   {
    "duration": 10,
    "start_time": "2022-11-25T10:07:10.492Z"
   },
   {
    "duration": 5,
    "start_time": "2022-11-25T10:07:10.504Z"
   },
   {
    "duration": 7,
    "start_time": "2022-11-25T10:07:10.511Z"
   },
   {
    "duration": 25,
    "start_time": "2022-11-25T10:09:13.867Z"
   },
   {
    "duration": 5,
    "start_time": "2022-11-25T10:09:16.778Z"
   },
   {
    "duration": 9,
    "start_time": "2022-11-25T10:09:17.194Z"
   },
   {
    "duration": 5,
    "start_time": "2022-11-25T10:09:39.563Z"
   },
   {
    "duration": 4,
    "start_time": "2022-11-25T10:09:39.877Z"
   },
   {
    "duration": 5,
    "start_time": "2022-11-25T10:09:40.167Z"
   },
   {
    "duration": 10,
    "start_time": "2022-11-25T10:09:40.515Z"
   },
   {
    "duration": 214,
    "start_time": "2022-11-25T10:09:53.697Z"
   },
   {
    "duration": 992,
    "start_time": "2022-11-25T10:11:40.297Z"
   },
   {
    "duration": 208,
    "start_time": "2022-11-25T10:11:41.291Z"
   },
   {
    "duration": 31,
    "start_time": "2022-11-25T10:11:41.501Z"
   },
   {
    "duration": 35,
    "start_time": "2022-11-25T10:11:41.534Z"
   },
   {
    "duration": 78,
    "start_time": "2022-11-25T10:11:41.572Z"
   },
   {
    "duration": 84,
    "start_time": "2022-11-25T10:11:41.652Z"
   },
   {
    "duration": 61,
    "start_time": "2022-11-25T10:11:41.738Z"
   },
   {
    "duration": 16,
    "start_time": "2022-11-25T10:11:41.801Z"
   },
   {
    "duration": 51,
    "start_time": "2022-11-25T10:11:41.818Z"
   },
   {
    "duration": 44,
    "start_time": "2022-11-25T10:11:41.870Z"
   },
   {
    "duration": 42,
    "start_time": "2022-11-25T10:11:41.916Z"
   },
   {
    "duration": 55,
    "start_time": "2022-11-25T10:11:41.960Z"
   },
   {
    "duration": 34,
    "start_time": "2022-11-25T10:11:42.017Z"
   },
   {
    "duration": 52,
    "start_time": "2022-11-25T10:11:42.056Z"
   },
   {
    "duration": 68,
    "start_time": "2022-11-25T10:11:42.109Z"
   },
   {
    "duration": 26,
    "start_time": "2022-11-25T10:11:42.179Z"
   },
   {
    "duration": 52,
    "start_time": "2022-11-25T10:11:42.207Z"
   },
   {
    "duration": 74,
    "start_time": "2022-11-25T10:11:42.261Z"
   },
   {
    "duration": 20,
    "start_time": "2022-11-25T10:11:42.337Z"
   },
   {
    "duration": 278,
    "start_time": "2022-11-25T10:11:42.359Z"
   },
   {
    "duration": 16,
    "start_time": "2022-11-25T10:11:42.638Z"
   },
   {
    "duration": 42,
    "start_time": "2022-11-25T10:11:42.656Z"
   },
   {
    "duration": 32,
    "start_time": "2022-11-25T10:11:42.700Z"
   },
   {
    "duration": 89,
    "start_time": "2022-11-25T10:11:42.735Z"
   },
   {
    "duration": 16,
    "start_time": "2022-11-25T10:11:42.826Z"
   },
   {
    "duration": 109,
    "start_time": "2022-11-25T10:11:42.843Z"
   },
   {
    "duration": 3,
    "start_time": "2022-11-25T10:11:42.954Z"
   },
   {
    "duration": 40,
    "start_time": "2022-11-25T10:11:42.958Z"
   },
   {
    "duration": 28,
    "start_time": "2022-11-25T10:11:42.999Z"
   },
   {
    "duration": 38,
    "start_time": "2022-11-25T10:11:43.029Z"
   },
   {
    "duration": 41,
    "start_time": "2022-11-25T10:11:43.069Z"
   },
   {
    "duration": 19,
    "start_time": "2022-11-25T10:11:43.112Z"
   },
   {
    "duration": 30,
    "start_time": "2022-11-25T10:11:43.133Z"
   },
   {
    "duration": 37,
    "start_time": "2022-11-25T10:11:43.165Z"
   },
   {
    "duration": 40,
    "start_time": "2022-11-25T10:11:43.203Z"
   },
   {
    "duration": 35,
    "start_time": "2022-11-25T10:11:43.245Z"
   },
   {
    "duration": 30,
    "start_time": "2022-11-25T10:11:43.281Z"
   },
   {
    "duration": 43,
    "start_time": "2022-11-25T10:11:43.313Z"
   },
   {
    "duration": 20,
    "start_time": "2022-11-25T10:11:43.358Z"
   },
   {
    "duration": 41,
    "start_time": "2022-11-25T10:11:43.380Z"
   },
   {
    "duration": 29,
    "start_time": "2022-11-25T10:11:43.426Z"
   },
   {
    "duration": 45,
    "start_time": "2022-11-25T10:11:43.458Z"
   },
   {
    "duration": 25,
    "start_time": "2022-11-25T10:11:43.505Z"
   },
   {
    "duration": 21,
    "start_time": "2022-11-25T10:11:43.532Z"
   },
   {
    "duration": 1272,
    "start_time": "2022-11-25T10:11:43.556Z"
   },
   {
    "duration": 27,
    "start_time": "2022-11-25T10:11:44.832Z"
   },
   {
    "duration": 62,
    "start_time": "2022-11-25T10:11:44.861Z"
   },
   {
    "duration": 5,
    "start_time": "2022-11-25T10:11:44.924Z"
   },
   {
    "duration": 34,
    "start_time": "2022-11-25T10:11:44.930Z"
   },
   {
    "duration": 60,
    "start_time": "2022-11-25T10:11:44.965Z"
   },
   {
    "duration": 23,
    "start_time": "2022-11-25T10:11:45.027Z"
   },
   {
    "duration": 51,
    "start_time": "2022-11-25T10:11:45.052Z"
   },
   {
    "duration": 35,
    "start_time": "2022-11-25T10:11:45.104Z"
   },
   {
    "duration": 11,
    "start_time": "2022-11-25T10:11:45.141Z"
   },
   {
    "duration": 39,
    "start_time": "2022-11-25T10:11:45.154Z"
   },
   {
    "duration": 21,
    "start_time": "2022-11-25T10:11:45.195Z"
   },
   {
    "duration": 24,
    "start_time": "2022-11-25T10:11:45.217Z"
   },
   {
    "duration": 29,
    "start_time": "2022-11-25T10:11:45.242Z"
   },
   {
    "duration": 123,
    "start_time": "2022-11-25T10:11:45.272Z"
   },
   {
    "duration": 0,
    "start_time": "2022-11-25T10:11:45.397Z"
   },
   {
    "duration": 0,
    "start_time": "2022-11-25T10:11:45.398Z"
   },
   {
    "duration": 0,
    "start_time": "2022-11-25T10:11:45.399Z"
   },
   {
    "duration": 0,
    "start_time": "2022-11-25T10:11:45.401Z"
   },
   {
    "duration": 0,
    "start_time": "2022-11-25T10:11:45.402Z"
   },
   {
    "duration": 0,
    "start_time": "2022-11-25T10:11:45.403Z"
   },
   {
    "duration": 0,
    "start_time": "2022-11-25T10:11:45.404Z"
   },
   {
    "duration": 0,
    "start_time": "2022-11-25T10:11:45.406Z"
   },
   {
    "duration": 0,
    "start_time": "2022-11-25T10:11:45.407Z"
   },
   {
    "duration": 0,
    "start_time": "2022-11-25T10:11:45.409Z"
   },
   {
    "duration": 0,
    "start_time": "2022-11-25T10:11:45.410Z"
   },
   {
    "duration": 0,
    "start_time": "2022-11-25T10:11:45.412Z"
   },
   {
    "duration": 0,
    "start_time": "2022-11-25T10:11:45.414Z"
   },
   {
    "duration": 1,
    "start_time": "2022-11-25T10:11:45.414Z"
   },
   {
    "duration": 14,
    "start_time": "2022-11-25T10:12:09.647Z"
   },
   {
    "duration": 226,
    "start_time": "2022-11-25T10:12:14.453Z"
   },
   {
    "duration": 190,
    "start_time": "2022-11-25T10:15:15.761Z"
   },
   {
    "duration": 1122,
    "start_time": "2022-11-25T10:23:03.133Z"
   },
   {
    "duration": 232,
    "start_time": "2022-11-25T10:23:04.258Z"
   },
   {
    "duration": 32,
    "start_time": "2022-11-25T10:23:04.491Z"
   },
   {
    "duration": 32,
    "start_time": "2022-11-25T10:23:04.525Z"
   },
   {
    "duration": 32,
    "start_time": "2022-11-25T10:23:04.559Z"
   },
   {
    "duration": 82,
    "start_time": "2022-11-25T10:23:04.594Z"
   },
   {
    "duration": 65,
    "start_time": "2022-11-25T10:23:04.678Z"
   },
   {
    "duration": 11,
    "start_time": "2022-11-25T10:23:04.751Z"
   },
   {
    "duration": 21,
    "start_time": "2022-11-25T10:23:04.763Z"
   },
   {
    "duration": 45,
    "start_time": "2022-11-25T10:23:04.787Z"
   },
   {
    "duration": 11,
    "start_time": "2022-11-25T10:23:04.835Z"
   },
   {
    "duration": 31,
    "start_time": "2022-11-25T10:23:04.847Z"
   },
   {
    "duration": 31,
    "start_time": "2022-11-25T10:23:04.879Z"
   },
   {
    "duration": 32,
    "start_time": "2022-11-25T10:23:04.911Z"
   },
   {
    "duration": 71,
    "start_time": "2022-11-25T10:23:04.944Z"
   },
   {
    "duration": 15,
    "start_time": "2022-11-25T10:23:05.017Z"
   },
   {
    "duration": 20,
    "start_time": "2022-11-25T10:23:05.034Z"
   },
   {
    "duration": 59,
    "start_time": "2022-11-25T10:23:05.055Z"
   },
   {
    "duration": 11,
    "start_time": "2022-11-25T10:23:05.116Z"
   },
   {
    "duration": 191,
    "start_time": "2022-11-25T10:23:05.128Z"
   },
   {
    "duration": 5,
    "start_time": "2022-11-25T10:23:05.321Z"
   },
   {
    "duration": 26,
    "start_time": "2022-11-25T10:23:05.328Z"
   },
   {
    "duration": 17,
    "start_time": "2022-11-25T10:23:05.355Z"
   },
   {
    "duration": 62,
    "start_time": "2022-11-25T10:23:05.373Z"
   },
   {
    "duration": 10,
    "start_time": "2022-11-25T10:23:05.437Z"
   },
   {
    "duration": 100,
    "start_time": "2022-11-25T10:23:05.448Z"
   },
   {
    "duration": 3,
    "start_time": "2022-11-25T10:23:05.549Z"
   },
   {
    "duration": 35,
    "start_time": "2022-11-25T10:23:05.555Z"
   },
   {
    "duration": 19,
    "start_time": "2022-11-25T10:23:05.592Z"
   },
   {
    "duration": 32,
    "start_time": "2022-11-25T10:23:05.612Z"
   },
   {
    "duration": 28,
    "start_time": "2022-11-25T10:23:05.646Z"
   },
   {
    "duration": 25,
    "start_time": "2022-11-25T10:23:05.675Z"
   },
   {
    "duration": 31,
    "start_time": "2022-11-25T10:23:05.702Z"
   },
   {
    "duration": 32,
    "start_time": "2022-11-25T10:23:05.735Z"
   },
   {
    "duration": 14,
    "start_time": "2022-11-25T10:23:05.769Z"
   },
   {
    "duration": 7,
    "start_time": "2022-11-25T10:23:05.785Z"
   },
   {
    "duration": 14,
    "start_time": "2022-11-25T10:23:05.794Z"
   },
   {
    "duration": 6,
    "start_time": "2022-11-25T10:23:05.810Z"
   },
   {
    "duration": 30,
    "start_time": "2022-11-25T10:23:05.817Z"
   },
   {
    "duration": 36,
    "start_time": "2022-11-25T10:23:05.849Z"
   },
   {
    "duration": 6,
    "start_time": "2022-11-25T10:23:05.887Z"
   },
   {
    "duration": 13,
    "start_time": "2022-11-25T10:23:05.894Z"
   },
   {
    "duration": 14,
    "start_time": "2022-11-25T10:23:05.909Z"
   },
   {
    "duration": 5,
    "start_time": "2022-11-25T10:23:05.925Z"
   },
   {
    "duration": 1073,
    "start_time": "2022-11-25T10:23:05.931Z"
   },
   {
    "duration": 17,
    "start_time": "2022-11-25T10:23:07.006Z"
   },
   {
    "duration": 42,
    "start_time": "2022-11-25T10:23:07.025Z"
   },
   {
    "duration": 4,
    "start_time": "2022-11-25T10:23:07.069Z"
   },
   {
    "duration": 30,
    "start_time": "2022-11-25T10:23:07.074Z"
   },
   {
    "duration": 25,
    "start_time": "2022-11-25T10:23:07.105Z"
   },
   {
    "duration": 13,
    "start_time": "2022-11-25T10:23:07.131Z"
   },
   {
    "duration": 31,
    "start_time": "2022-11-25T10:23:07.145Z"
   },
   {
    "duration": 18,
    "start_time": "2022-11-25T10:23:07.178Z"
   },
   {
    "duration": 8,
    "start_time": "2022-11-25T10:23:07.198Z"
   },
   {
    "duration": 18,
    "start_time": "2022-11-25T10:23:07.207Z"
   },
   {
    "duration": 18,
    "start_time": "2022-11-25T10:23:07.227Z"
   },
   {
    "duration": 17,
    "start_time": "2022-11-25T10:23:07.247Z"
   },
   {
    "duration": 24,
    "start_time": "2022-11-25T10:23:07.266Z"
   },
   {
    "duration": 233,
    "start_time": "2022-11-25T10:23:07.292Z"
   },
   {
    "duration": 196,
    "start_time": "2022-11-25T10:23:07.527Z"
   },
   {
    "duration": 15,
    "start_time": "2022-11-25T10:23:07.724Z"
   },
   {
    "duration": 44,
    "start_time": "2022-11-25T10:23:07.740Z"
   },
   {
    "duration": 18,
    "start_time": "2022-11-25T10:23:07.786Z"
   },
   {
    "duration": 13,
    "start_time": "2022-11-25T10:23:07.807Z"
   },
   {
    "duration": 30,
    "start_time": "2022-11-25T10:23:07.822Z"
   },
   {
    "duration": 35,
    "start_time": "2022-11-25T10:23:07.854Z"
   },
   {
    "duration": 37,
    "start_time": "2022-11-25T10:23:07.891Z"
   },
   {
    "duration": 110,
    "start_time": "2022-11-25T10:23:07.929Z"
   },
   {
    "duration": 4,
    "start_time": "2022-11-25T10:23:08.041Z"
   },
   {
    "duration": 53,
    "start_time": "2022-11-25T10:23:08.047Z"
   },
   {
    "duration": 24,
    "start_time": "2022-11-25T10:23:08.102Z"
   },
   {
    "duration": 21,
    "start_time": "2022-11-25T10:23:08.128Z"
   },
   {
    "duration": 67,
    "start_time": "2022-11-25T10:23:08.151Z"
   },
   {
    "duration": 5,
    "start_time": "2022-11-25T10:25:48.236Z"
   },
   {
    "duration": 6,
    "start_time": "2022-11-25T10:25:56.250Z"
   },
   {
    "duration": 5,
    "start_time": "2022-11-25T10:26:03.804Z"
   },
   {
    "duration": 6,
    "start_time": "2022-11-25T10:26:10.449Z"
   },
   {
    "duration": 5,
    "start_time": "2022-11-25T10:29:07.302Z"
   },
   {
    "duration": 6,
    "start_time": "2022-11-25T10:29:19.919Z"
   },
   {
    "duration": 6,
    "start_time": "2022-11-25T10:30:50.417Z"
   },
   {
    "duration": 95,
    "start_time": "2022-11-25T10:31:14.935Z"
   },
   {
    "duration": 6,
    "start_time": "2022-11-25T10:31:18.258Z"
   },
   {
    "duration": 7,
    "start_time": "2022-11-25T10:32:27.414Z"
   },
   {
    "duration": 5,
    "start_time": "2022-11-25T10:32:46.234Z"
   },
   {
    "duration": 7,
    "start_time": "2022-11-25T10:33:00.703Z"
   },
   {
    "duration": 9,
    "start_time": "2022-11-25T11:02:54.056Z"
   },
   {
    "duration": 12,
    "start_time": "2022-11-25T11:04:54.546Z"
   },
   {
    "duration": 6,
    "start_time": "2022-11-25T11:05:13.084Z"
   },
   {
    "duration": 7,
    "start_time": "2022-11-25T11:05:16.515Z"
   },
   {
    "duration": 6,
    "start_time": "2022-11-25T11:05:37.503Z"
   },
   {
    "duration": 8,
    "start_time": "2022-11-25T11:05:38.667Z"
   },
   {
    "duration": 4,
    "start_time": "2022-11-25T11:06:18.913Z"
   },
   {
    "duration": 9,
    "start_time": "2022-11-25T11:06:21.948Z"
   },
   {
    "duration": 1113,
    "start_time": "2022-11-25T11:08:45.003Z"
   },
   {
    "duration": 227,
    "start_time": "2022-11-25T11:08:46.119Z"
   },
   {
    "duration": 34,
    "start_time": "2022-11-25T11:08:46.348Z"
   },
   {
    "duration": 11,
    "start_time": "2022-11-25T11:08:46.384Z"
   },
   {
    "duration": 56,
    "start_time": "2022-11-25T11:08:46.398Z"
   },
   {
    "duration": 58,
    "start_time": "2022-11-25T11:08:46.456Z"
   },
   {
    "duration": 78,
    "start_time": "2022-11-25T11:08:46.516Z"
   },
   {
    "duration": 11,
    "start_time": "2022-11-25T11:08:46.596Z"
   },
   {
    "duration": 34,
    "start_time": "2022-11-25T11:08:46.609Z"
   },
   {
    "duration": 22,
    "start_time": "2022-11-25T11:08:46.645Z"
   },
   {
    "duration": 11,
    "start_time": "2022-11-25T11:08:46.669Z"
   },
   {
    "duration": 14,
    "start_time": "2022-11-25T11:08:46.681Z"
   },
   {
    "duration": 8,
    "start_time": "2022-11-25T11:08:46.697Z"
   },
   {
    "duration": 16,
    "start_time": "2022-11-25T11:08:46.708Z"
   },
   {
    "duration": 36,
    "start_time": "2022-11-25T11:08:46.726Z"
   },
   {
    "duration": 11,
    "start_time": "2022-11-25T11:08:46.764Z"
   },
   {
    "duration": 10,
    "start_time": "2022-11-25T11:08:46.776Z"
   },
   {
    "duration": 42,
    "start_time": "2022-11-25T11:08:46.788Z"
   },
   {
    "duration": 29,
    "start_time": "2022-11-25T11:08:46.831Z"
   },
   {
    "duration": 218,
    "start_time": "2022-11-25T11:08:46.862Z"
   },
   {
    "duration": 6,
    "start_time": "2022-11-25T11:08:47.082Z"
   },
   {
    "duration": 7,
    "start_time": "2022-11-25T11:08:47.090Z"
   },
   {
    "duration": 5,
    "start_time": "2022-11-25T11:08:47.099Z"
   },
   {
    "duration": 63,
    "start_time": "2022-11-25T11:08:47.106Z"
   },
   {
    "duration": 10,
    "start_time": "2022-11-25T11:08:47.171Z"
   },
   {
    "duration": 88,
    "start_time": "2022-11-25T11:08:47.183Z"
   },
   {
    "duration": 4,
    "start_time": "2022-11-25T11:08:47.273Z"
   },
   {
    "duration": 8,
    "start_time": "2022-11-25T11:08:47.279Z"
   },
   {
    "duration": 7,
    "start_time": "2022-11-25T11:08:47.289Z"
   },
   {
    "duration": 15,
    "start_time": "2022-11-25T11:08:47.297Z"
   },
   {
    "duration": 13,
    "start_time": "2022-11-25T11:08:47.314Z"
   },
   {
    "duration": 28,
    "start_time": "2022-11-25T11:08:47.329Z"
   },
   {
    "duration": 29,
    "start_time": "2022-11-25T11:08:47.359Z"
   },
   {
    "duration": 25,
    "start_time": "2022-11-25T11:08:47.390Z"
   },
   {
    "duration": 41,
    "start_time": "2022-11-25T11:08:47.417Z"
   },
   {
    "duration": 18,
    "start_time": "2022-11-25T11:08:47.460Z"
   },
   {
    "duration": 30,
    "start_time": "2022-11-25T11:08:47.480Z"
   },
   {
    "duration": 30,
    "start_time": "2022-11-25T11:08:47.512Z"
   },
   {
    "duration": 24,
    "start_time": "2022-11-25T11:08:47.544Z"
   },
   {
    "duration": 40,
    "start_time": "2022-11-25T11:08:47.570Z"
   },
   {
    "duration": 24,
    "start_time": "2022-11-25T11:08:47.616Z"
   },
   {
    "duration": 25,
    "start_time": "2022-11-25T11:08:47.642Z"
   },
   {
    "duration": 37,
    "start_time": "2022-11-25T11:08:47.669Z"
   },
   {
    "duration": 24,
    "start_time": "2022-11-25T11:08:47.708Z"
   },
   {
    "duration": 1136,
    "start_time": "2022-11-25T11:08:47.734Z"
   },
   {
    "duration": 17,
    "start_time": "2022-11-25T11:08:48.872Z"
   },
   {
    "duration": 52,
    "start_time": "2022-11-25T11:08:48.890Z"
   },
   {
    "duration": 5,
    "start_time": "2022-11-25T11:08:48.944Z"
   },
   {
    "duration": 26,
    "start_time": "2022-11-25T11:08:48.952Z"
   },
   {
    "duration": 37,
    "start_time": "2022-11-25T11:08:48.981Z"
   },
   {
    "duration": 15,
    "start_time": "2022-11-25T11:08:49.020Z"
   },
   {
    "duration": 33,
    "start_time": "2022-11-25T11:08:49.037Z"
   },
   {
    "duration": 37,
    "start_time": "2022-11-25T11:08:49.071Z"
   },
   {
    "duration": 34,
    "start_time": "2022-11-25T11:08:49.110Z"
   },
   {
    "duration": 43,
    "start_time": "2022-11-25T11:08:49.146Z"
   },
   {
    "duration": 40,
    "start_time": "2022-11-25T11:08:49.191Z"
   },
   {
    "duration": 26,
    "start_time": "2022-11-25T11:08:49.233Z"
   },
   {
    "duration": 17,
    "start_time": "2022-11-25T11:08:49.261Z"
   },
   {
    "duration": 217,
    "start_time": "2022-11-25T11:08:49.279Z"
   },
   {
    "duration": 212,
    "start_time": "2022-11-25T11:08:49.498Z"
   },
   {
    "duration": 15,
    "start_time": "2022-11-25T11:08:49.712Z"
   },
   {
    "duration": 53,
    "start_time": "2022-11-25T11:08:49.728Z"
   },
   {
    "duration": 5,
    "start_time": "2022-11-25T11:08:49.782Z"
   },
   {
    "duration": 15,
    "start_time": "2022-11-25T11:08:49.788Z"
   },
   {
    "duration": 21,
    "start_time": "2022-11-25T11:08:49.804Z"
   },
   {
    "duration": 4,
    "start_time": "2022-11-25T11:08:49.827Z"
   },
   {
    "duration": 25,
    "start_time": "2022-11-25T11:08:49.833Z"
   },
   {
    "duration": 78,
    "start_time": "2022-11-25T11:08:49.860Z"
   },
   {
    "duration": 13,
    "start_time": "2022-11-25T11:08:49.939Z"
   },
   {
    "duration": 8,
    "start_time": "2022-11-25T11:08:49.954Z"
   },
   {
    "duration": 16,
    "start_time": "2022-11-25T11:08:49.964Z"
   },
   {
    "duration": 6,
    "start_time": "2022-11-25T11:08:49.982Z"
   },
   {
    "duration": 13,
    "start_time": "2022-11-25T11:08:49.990Z"
   },
   {
    "duration": 6,
    "start_time": "2022-11-25T11:08:50.005Z"
   },
   {
    "duration": 61,
    "start_time": "2022-11-25T11:08:50.013Z"
   },
   {
    "duration": 5,
    "start_time": "2022-11-25T11:16:39.231Z"
   },
   {
    "duration": 5,
    "start_time": "2022-11-25T11:17:47.634Z"
   },
   {
    "duration": 5,
    "start_time": "2022-11-25T11:19:54.064Z"
   },
   {
    "duration": 4,
    "start_time": "2022-11-25T11:20:19.447Z"
   },
   {
    "duration": 5,
    "start_time": "2022-11-25T11:20:24.751Z"
   },
   {
    "duration": 1061,
    "start_time": "2022-11-25T11:21:14.383Z"
   },
   {
    "duration": 227,
    "start_time": "2022-11-25T11:21:15.446Z"
   },
   {
    "duration": 33,
    "start_time": "2022-11-25T11:21:15.675Z"
   },
   {
    "duration": 12,
    "start_time": "2022-11-25T11:21:15.710Z"
   },
   {
    "duration": 47,
    "start_time": "2022-11-25T11:21:15.723Z"
   },
   {
    "duration": 60,
    "start_time": "2022-11-25T11:21:15.772Z"
   },
   {
    "duration": 60,
    "start_time": "2022-11-25T11:21:15.852Z"
   },
   {
    "duration": 12,
    "start_time": "2022-11-25T11:21:15.914Z"
   },
   {
    "duration": 36,
    "start_time": "2022-11-25T11:21:15.928Z"
   },
   {
    "duration": 16,
    "start_time": "2022-11-25T11:21:15.966Z"
   },
   {
    "duration": 11,
    "start_time": "2022-11-25T11:21:15.983Z"
   },
   {
    "duration": 13,
    "start_time": "2022-11-25T11:21:15.995Z"
   },
   {
    "duration": 6,
    "start_time": "2022-11-25T11:21:16.009Z"
   },
   {
    "duration": 14,
    "start_time": "2022-11-25T11:21:16.016Z"
   },
   {
    "duration": 31,
    "start_time": "2022-11-25T11:21:16.032Z"
   },
   {
    "duration": 12,
    "start_time": "2022-11-25T11:21:16.064Z"
   },
   {
    "duration": 9,
    "start_time": "2022-11-25T11:21:16.078Z"
   },
   {
    "duration": 42,
    "start_time": "2022-11-25T11:21:16.089Z"
   },
   {
    "duration": 27,
    "start_time": "2022-11-25T11:21:16.133Z"
   },
   {
    "duration": 187,
    "start_time": "2022-11-25T11:21:16.162Z"
   },
   {
    "duration": 5,
    "start_time": "2022-11-25T11:21:16.351Z"
   },
   {
    "duration": 8,
    "start_time": "2022-11-25T11:21:16.357Z"
   },
   {
    "duration": 11,
    "start_time": "2022-11-25T11:21:16.366Z"
   },
   {
    "duration": 40,
    "start_time": "2022-11-25T11:21:16.378Z"
   },
   {
    "duration": 11,
    "start_time": "2022-11-25T11:21:16.420Z"
   },
   {
    "duration": 98,
    "start_time": "2022-11-25T11:21:16.433Z"
   },
   {
    "duration": 3,
    "start_time": "2022-11-25T11:21:16.532Z"
   },
   {
    "duration": 15,
    "start_time": "2022-11-25T11:21:16.539Z"
   },
   {
    "duration": 23,
    "start_time": "2022-11-25T11:21:16.555Z"
   },
   {
    "duration": 15,
    "start_time": "2022-11-25T11:21:16.580Z"
   },
   {
    "duration": 14,
    "start_time": "2022-11-25T11:21:16.597Z"
   },
   {
    "duration": 15,
    "start_time": "2022-11-25T11:21:16.613Z"
   },
   {
    "duration": 11,
    "start_time": "2022-11-25T11:21:16.630Z"
   },
   {
    "duration": 13,
    "start_time": "2022-11-25T11:21:16.643Z"
   },
   {
    "duration": 23,
    "start_time": "2022-11-25T11:21:16.658Z"
   },
   {
    "duration": 21,
    "start_time": "2022-11-25T11:21:16.683Z"
   },
   {
    "duration": 19,
    "start_time": "2022-11-25T11:21:16.705Z"
   },
   {
    "duration": 25,
    "start_time": "2022-11-25T11:21:16.726Z"
   },
   {
    "duration": 16,
    "start_time": "2022-11-25T11:21:16.753Z"
   },
   {
    "duration": 19,
    "start_time": "2022-11-25T11:21:16.771Z"
   },
   {
    "duration": 27,
    "start_time": "2022-11-25T11:21:16.791Z"
   },
   {
    "duration": 20,
    "start_time": "2022-11-25T11:21:16.819Z"
   },
   {
    "duration": 29,
    "start_time": "2022-11-25T11:21:16.841Z"
   },
   {
    "duration": 12,
    "start_time": "2022-11-25T11:21:16.872Z"
   },
   {
    "duration": 1128,
    "start_time": "2022-11-25T11:21:16.885Z"
   },
   {
    "duration": 18,
    "start_time": "2022-11-25T11:21:18.014Z"
   },
   {
    "duration": 44,
    "start_time": "2022-11-25T11:21:18.033Z"
   },
   {
    "duration": 4,
    "start_time": "2022-11-25T11:21:18.079Z"
   },
   {
    "duration": 25,
    "start_time": "2022-11-25T11:21:18.085Z"
   },
   {
    "duration": 32,
    "start_time": "2022-11-25T11:21:18.111Z"
   },
   {
    "duration": 5,
    "start_time": "2022-11-25T11:21:18.145Z"
   },
   {
    "duration": 45,
    "start_time": "2022-11-25T11:21:18.151Z"
   },
   {
    "duration": 20,
    "start_time": "2022-11-25T11:21:18.198Z"
   },
   {
    "duration": 13,
    "start_time": "2022-11-25T11:21:18.220Z"
   },
   {
    "duration": 28,
    "start_time": "2022-11-25T11:21:18.234Z"
   },
   {
    "duration": 16,
    "start_time": "2022-11-25T11:21:18.264Z"
   },
   {
    "duration": 22,
    "start_time": "2022-11-25T11:21:18.282Z"
   },
   {
    "duration": 13,
    "start_time": "2022-11-25T11:21:18.306Z"
   },
   {
    "duration": 234,
    "start_time": "2022-11-25T11:21:18.321Z"
   },
   {
    "duration": 213,
    "start_time": "2022-11-25T11:21:18.557Z"
   },
   {
    "duration": 14,
    "start_time": "2022-11-25T11:21:18.772Z"
   },
   {
    "duration": 37,
    "start_time": "2022-11-25T11:21:18.788Z"
   },
   {
    "duration": 6,
    "start_time": "2022-11-25T11:21:18.827Z"
   },
   {
    "duration": 46,
    "start_time": "2022-11-25T11:21:18.834Z"
   },
   {
    "duration": 28,
    "start_time": "2022-11-25T11:21:18.882Z"
   },
   {
    "duration": 11,
    "start_time": "2022-11-25T11:21:18.912Z"
   },
   {
    "duration": 24,
    "start_time": "2022-11-25T11:21:18.924Z"
   },
   {
    "duration": 113,
    "start_time": "2022-11-25T11:21:18.950Z"
   },
   {
    "duration": 11,
    "start_time": "2022-11-25T11:21:19.067Z"
   },
   {
    "duration": 17,
    "start_time": "2022-11-25T11:21:19.080Z"
   },
   {
    "duration": 27,
    "start_time": "2022-11-25T11:21:19.099Z"
   },
   {
    "duration": 28,
    "start_time": "2022-11-25T11:21:19.128Z"
   },
   {
    "duration": 25,
    "start_time": "2022-11-25T11:21:19.158Z"
   },
   {
    "duration": 1100,
    "start_time": "2022-11-25T11:34:04.398Z"
   },
   {
    "duration": 225,
    "start_time": "2022-11-25T11:34:05.500Z"
   },
   {
    "duration": 36,
    "start_time": "2022-11-25T11:34:05.727Z"
   },
   {
    "duration": 47,
    "start_time": "2022-11-25T11:34:05.768Z"
   },
   {
    "duration": 75,
    "start_time": "2022-11-25T11:34:05.818Z"
   },
   {
    "duration": 87,
    "start_time": "2022-11-25T11:34:05.895Z"
   },
   {
    "duration": 87,
    "start_time": "2022-11-25T11:34:05.983Z"
   },
   {
    "duration": 11,
    "start_time": "2022-11-25T11:34:06.071Z"
   },
   {
    "duration": 45,
    "start_time": "2022-11-25T11:34:06.084Z"
   },
   {
    "duration": 43,
    "start_time": "2022-11-25T11:34:06.130Z"
   },
   {
    "duration": 51,
    "start_time": "2022-11-25T11:34:06.174Z"
   },
   {
    "duration": 95,
    "start_time": "2022-11-25T11:34:06.227Z"
   },
   {
    "duration": 73,
    "start_time": "2022-11-25T11:34:06.324Z"
   },
   {
    "duration": 32,
    "start_time": "2022-11-25T11:34:06.400Z"
   },
   {
    "duration": 83,
    "start_time": "2022-11-25T11:34:06.434Z"
   },
   {
    "duration": 14,
    "start_time": "2022-11-25T11:34:06.519Z"
   },
   {
    "duration": 49,
    "start_time": "2022-11-25T11:34:06.535Z"
   },
   {
    "duration": 71,
    "start_time": "2022-11-25T11:34:06.586Z"
   },
   {
    "duration": 26,
    "start_time": "2022-11-25T11:34:06.662Z"
   },
   {
    "duration": 251,
    "start_time": "2022-11-25T11:34:06.689Z"
   },
   {
    "duration": 23,
    "start_time": "2022-11-25T11:34:06.942Z"
   },
   {
    "duration": 14,
    "start_time": "2022-11-25T11:34:06.971Z"
   },
   {
    "duration": 101,
    "start_time": "2022-11-25T11:34:06.986Z"
   },
   {
    "duration": 130,
    "start_time": "2022-11-25T11:34:07.088Z"
   },
   {
    "duration": 26,
    "start_time": "2022-11-25T11:34:07.220Z"
   },
   {
    "duration": 97,
    "start_time": "2022-11-25T11:34:07.249Z"
   },
   {
    "duration": 2,
    "start_time": "2022-11-25T11:34:07.348Z"
   },
   {
    "duration": 37,
    "start_time": "2022-11-25T11:34:07.351Z"
   },
   {
    "duration": 47,
    "start_time": "2022-11-25T11:34:07.389Z"
   },
   {
    "duration": 70,
    "start_time": "2022-11-25T11:34:07.438Z"
   },
   {
    "duration": 62,
    "start_time": "2022-11-25T11:34:07.510Z"
   },
   {
    "duration": 58,
    "start_time": "2022-11-25T11:34:07.573Z"
   },
   {
    "duration": 18,
    "start_time": "2022-11-25T11:34:07.633Z"
   },
   {
    "duration": 60,
    "start_time": "2022-11-25T11:34:07.653Z"
   },
   {
    "duration": 58,
    "start_time": "2022-11-25T11:34:07.715Z"
   },
   {
    "duration": 26,
    "start_time": "2022-11-25T11:34:07.775Z"
   },
   {
    "duration": 55,
    "start_time": "2022-11-25T11:34:07.803Z"
   },
   {
    "duration": 64,
    "start_time": "2022-11-25T11:34:07.863Z"
   },
   {
    "duration": 27,
    "start_time": "2022-11-25T11:34:07.929Z"
   },
   {
    "duration": 54,
    "start_time": "2022-11-25T11:34:07.958Z"
   },
   {
    "duration": 29,
    "start_time": "2022-11-25T11:34:08.016Z"
   },
   {
    "duration": 50,
    "start_time": "2022-11-25T11:34:08.047Z"
   },
   {
    "duration": 30,
    "start_time": "2022-11-25T11:34:08.099Z"
   },
   {
    "duration": 70,
    "start_time": "2022-11-25T11:34:08.131Z"
   },
   {
    "duration": 1180,
    "start_time": "2022-11-25T11:34:08.203Z"
   },
   {
    "duration": 17,
    "start_time": "2022-11-25T11:34:09.385Z"
   },
   {
    "duration": 40,
    "start_time": "2022-11-25T11:34:09.404Z"
   },
   {
    "duration": 11,
    "start_time": "2022-11-25T11:34:09.458Z"
   },
   {
    "duration": 16,
    "start_time": "2022-11-25T11:34:09.471Z"
   },
   {
    "duration": 29,
    "start_time": "2022-11-25T11:34:09.488Z"
   },
   {
    "duration": 12,
    "start_time": "2022-11-25T11:34:09.519Z"
   },
   {
    "duration": 38,
    "start_time": "2022-11-25T11:34:09.533Z"
   },
   {
    "duration": 47,
    "start_time": "2022-11-25T11:34:09.572Z"
   },
   {
    "duration": 30,
    "start_time": "2022-11-25T11:34:09.621Z"
   },
   {
    "duration": 54,
    "start_time": "2022-11-25T11:34:09.657Z"
   },
   {
    "duration": 55,
    "start_time": "2022-11-25T11:34:09.713Z"
   },
   {
    "duration": 63,
    "start_time": "2022-11-25T11:34:09.770Z"
   },
   {
    "duration": 42,
    "start_time": "2022-11-25T11:34:09.834Z"
   },
   {
    "duration": 290,
    "start_time": "2022-11-25T11:34:09.878Z"
   },
   {
    "duration": 207,
    "start_time": "2022-11-25T11:34:10.170Z"
   },
   {
    "duration": 22,
    "start_time": "2022-11-25T11:34:10.379Z"
   },
   {
    "duration": 79,
    "start_time": "2022-11-25T11:34:10.403Z"
   },
   {
    "duration": 16,
    "start_time": "2022-11-25T11:34:10.485Z"
   },
   {
    "duration": 41,
    "start_time": "2022-11-25T11:34:10.503Z"
   },
   {
    "duration": 85,
    "start_time": "2022-11-25T11:34:10.546Z"
   },
   {
    "duration": 17,
    "start_time": "2022-11-25T11:34:10.633Z"
   },
   {
    "duration": 73,
    "start_time": "2022-11-25T11:34:10.652Z"
   },
   {
    "duration": 171,
    "start_time": "2022-11-25T11:34:10.726Z"
   },
   {
    "duration": 42,
    "start_time": "2022-11-25T11:34:10.898Z"
   },
   {
    "duration": 76,
    "start_time": "2022-11-25T11:34:10.942Z"
   },
   {
    "duration": 54,
    "start_time": "2022-11-25T11:34:11.019Z"
   },
   {
    "duration": 55,
    "start_time": "2022-11-25T11:34:11.075Z"
   },
   {
    "duration": 49,
    "start_time": "2022-11-25T11:34:11.132Z"
   },
   {
    "duration": 77,
    "start_time": "2022-12-06T13:20:35.102Z"
   },
   {
    "duration": 72,
    "start_time": "2022-12-06T13:20:37.425Z"
   }
  ],
  "kernelspec": {
   "display_name": "base",
   "language": "python",
   "name": "python3"
  },
  "language_info": {
   "codemirror_mode": {
    "name": "ipython",
    "version": 3
   },
   "file_extension": ".py",
   "mimetype": "text/x-python",
   "name": "python",
   "nbconvert_exporter": "python",
   "pygments_lexer": "ipython3",
   "version": "3.9.7 (default, Sep 16 2021, 16:59:28) [MSC v.1916 64 bit (AMD64)]"
  },
  "toc": {
   "base_numbering": 1,
   "nav_menu": {},
   "number_sections": true,
   "sideBar": true,
   "skip_h1_title": true,
   "title_cell": "Table of Contents",
   "title_sidebar": "Contents",
   "toc_cell": false,
   "toc_position": {},
   "toc_section_display": true,
   "toc_window_display": false
  },
  "vscode": {
   "interpreter": {
    "hash": "f15f36810181d6f0d3e4c4c2cd9a58c4059ed5829bd90ae02b017091d82db9c6"
   }
  }
 },
 "nbformat": 4,
 "nbformat_minor": 2
}
