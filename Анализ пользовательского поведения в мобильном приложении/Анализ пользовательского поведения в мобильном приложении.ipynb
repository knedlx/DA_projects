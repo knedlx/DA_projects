{
 "cells": [
  {
   "cell_type": "markdown",
   "metadata": {},
   "source": [
    "# Анализ поведения пользователей мобильного приложения по продаже продуктов питания"
   ]
  },
  {
   "cell_type": "markdown",
   "metadata": {},
   "source": [
    "###### Краткое описание проекта"
   ]
  },
  {
   "cell_type": "markdown",
   "metadata": {},
   "source": [
    "Изучите воронку продаж. Узнайте, как пользователи доходят до покупки. Сколько пользователей доходит до покупки, а сколько — «застревает» на предыдущих шагах? На каких именно?\n",
    "Проект состоит из двух частей. В первой части мы иисследуем воронку продаж и ответим на вопросы как пользователи доходят до покупки, сколько, сколько не проходит на следующий этап. Во второй части мы исследуем результаты А/А/В-теста с тремя контрольными группами(две одинаковые со старым решением и одна с новым) и посмотрим как изменение шрифтов в приложении влияет на поведение пользователей."
   ]
  },
  {
   "cell_type": "markdown",
   "metadata": {},
   "source": [
    "###### Цели и основные задачи проекта"
   ]
  },
  {
   "cell_type": "markdown",
   "metadata": {},
   "source": [
    "Целью первой части проекта является определение количества пользователей, которые доходят до оплаты и установления возможных причин почему другая часть пользователей не доходят до оплаты. Целью второй части является принятия решения о результатах А/А/В-теста: продолжать или останавливать и фиксировать победу в пользу одной из групп (либо отсутствие различий между ними)."
   ]
  },
  {
   "cell_type": "markdown",
   "metadata": {},
   "source": [
    "## Подготовка данных"
   ]
  },
  {
   "cell_type": "code",
   "execution_count": 34,
   "metadata": {},
   "outputs": [],
   "source": [
    "import pandas as pd\n",
    "import numpy as np\n",
    "import matplotlib.pyplot as plt\n",
    "import scipy.stats as st\n",
    "import math as mth\n",
    "import plotly.express as px"
   ]
  },
  {
   "cell_type": "code",
   "execution_count": 35,
   "metadata": {},
   "outputs": [
    {
     "data": {
      "text/html": [
       "<div>\n",
       "<style scoped>\n",
       "    .dataframe tbody tr th:only-of-type {\n",
       "        vertical-align: middle;\n",
       "    }\n",
       "\n",
       "    .dataframe tbody tr th {\n",
       "        vertical-align: top;\n",
       "    }\n",
       "\n",
       "    .dataframe thead th {\n",
       "        text-align: right;\n",
       "    }\n",
       "</style>\n",
       "<table border=\"1\" class=\"dataframe\">\n",
       "  <thead>\n",
       "    <tr style=\"text-align: right;\">\n",
       "      <th></th>\n",
       "      <th>EventName</th>\n",
       "      <th>DeviceIDHash</th>\n",
       "      <th>EventTimestamp</th>\n",
       "      <th>ExpId</th>\n",
       "    </tr>\n",
       "  </thead>\n",
       "  <tbody>\n",
       "    <tr>\n",
       "      <th>0</th>\n",
       "      <td>MainScreenAppear</td>\n",
       "      <td>4575588528974610257</td>\n",
       "      <td>1564029816</td>\n",
       "      <td>246</td>\n",
       "    </tr>\n",
       "    <tr>\n",
       "      <th>1</th>\n",
       "      <td>MainScreenAppear</td>\n",
       "      <td>7416695313311560658</td>\n",
       "      <td>1564053102</td>\n",
       "      <td>246</td>\n",
       "    </tr>\n",
       "    <tr>\n",
       "      <th>2</th>\n",
       "      <td>PaymentScreenSuccessful</td>\n",
       "      <td>3518123091307005509</td>\n",
       "      <td>1564054127</td>\n",
       "      <td>248</td>\n",
       "    </tr>\n",
       "    <tr>\n",
       "      <th>3</th>\n",
       "      <td>CartScreenAppear</td>\n",
       "      <td>3518123091307005509</td>\n",
       "      <td>1564054127</td>\n",
       "      <td>248</td>\n",
       "    </tr>\n",
       "    <tr>\n",
       "      <th>4</th>\n",
       "      <td>PaymentScreenSuccessful</td>\n",
       "      <td>6217807653094995999</td>\n",
       "      <td>1564055322</td>\n",
       "      <td>248</td>\n",
       "    </tr>\n",
       "  </tbody>\n",
       "</table>\n",
       "</div>"
      ],
      "text/plain": [
       "                 EventName         DeviceIDHash  EventTimestamp  ExpId\n",
       "0         MainScreenAppear  4575588528974610257      1564029816    246\n",
       "1         MainScreenAppear  7416695313311560658      1564053102    246\n",
       "2  PaymentScreenSuccessful  3518123091307005509      1564054127    248\n",
       "3         CartScreenAppear  3518123091307005509      1564054127    248\n",
       "4  PaymentScreenSuccessful  6217807653094995999      1564055322    248"
      ]
     },
     "execution_count": 35,
     "metadata": {},
     "output_type": "execute_result"
    }
   ],
   "source": [
    "df = pd.read_csv('logs_exp.csv',sep='\\t')\n",
    "df.head()"
   ]
  },
  {
   "cell_type": "code",
   "execution_count": 36,
   "metadata": {},
   "outputs": [
    {
     "name": "stdout",
     "output_type": "stream",
     "text": [
      "<class 'pandas.core.frame.DataFrame'>\n",
      "RangeIndex: 244126 entries, 0 to 244125\n",
      "Data columns (total 4 columns):\n",
      " #   Column          Non-Null Count   Dtype \n",
      "---  ------          --------------   ----- \n",
      " 0   EventName       244126 non-null  object\n",
      " 1   DeviceIDHash    244126 non-null  int64 \n",
      " 2   EventTimestamp  244126 non-null  int64 \n",
      " 3   ExpId           244126 non-null  int64 \n",
      "dtypes: int64(3), object(1)\n",
      "memory usage: 7.5+ MB\n"
     ]
    }
   ],
   "source": [
    "df.info()"
   ]
  },
  {
   "cell_type": "code",
   "execution_count": 37,
   "metadata": {},
   "outputs": [],
   "source": [
    "#переименуем столбцы в более читаемые и приведём дату к нужному типу\n",
    "df = df.rename(columns={'EventName':'event_name','DeviceIDHash':'user_id','EventTimestamp':'event_ts','ExpId':'group'})"
   ]
  },
  {
   "cell_type": "code",
   "execution_count": 38,
   "metadata": {},
   "outputs": [
    {
     "data": {
      "text/html": [
       "<div>\n",
       "<style scoped>\n",
       "    .dataframe tbody tr th:only-of-type {\n",
       "        vertical-align: middle;\n",
       "    }\n",
       "\n",
       "    .dataframe tbody tr th {\n",
       "        vertical-align: top;\n",
       "    }\n",
       "\n",
       "    .dataframe thead th {\n",
       "        text-align: right;\n",
       "    }\n",
       "</style>\n",
       "<table border=\"1\" class=\"dataframe\">\n",
       "  <thead>\n",
       "    <tr style=\"text-align: right;\">\n",
       "      <th></th>\n",
       "      <th>event_name</th>\n",
       "      <th>user_id</th>\n",
       "      <th>event_ts</th>\n",
       "      <th>group</th>\n",
       "      <th>event_dt</th>\n",
       "    </tr>\n",
       "  </thead>\n",
       "  <tbody>\n",
       "    <tr>\n",
       "      <th>0</th>\n",
       "      <td>MainScreenAppear</td>\n",
       "      <td>4575588528974610257</td>\n",
       "      <td>1564029816</td>\n",
       "      <td>246</td>\n",
       "      <td>2019-07-25 04:43:36</td>\n",
       "    </tr>\n",
       "    <tr>\n",
       "      <th>1</th>\n",
       "      <td>MainScreenAppear</td>\n",
       "      <td>7416695313311560658</td>\n",
       "      <td>1564053102</td>\n",
       "      <td>246</td>\n",
       "      <td>2019-07-25 11:11:42</td>\n",
       "    </tr>\n",
       "    <tr>\n",
       "      <th>2</th>\n",
       "      <td>PaymentScreenSuccessful</td>\n",
       "      <td>3518123091307005509</td>\n",
       "      <td>1564054127</td>\n",
       "      <td>248</td>\n",
       "      <td>2019-07-25 11:28:47</td>\n",
       "    </tr>\n",
       "    <tr>\n",
       "      <th>3</th>\n",
       "      <td>CartScreenAppear</td>\n",
       "      <td>3518123091307005509</td>\n",
       "      <td>1564054127</td>\n",
       "      <td>248</td>\n",
       "      <td>2019-07-25 11:28:47</td>\n",
       "    </tr>\n",
       "    <tr>\n",
       "      <th>4</th>\n",
       "      <td>PaymentScreenSuccessful</td>\n",
       "      <td>6217807653094995999</td>\n",
       "      <td>1564055322</td>\n",
       "      <td>248</td>\n",
       "      <td>2019-07-25 11:48:42</td>\n",
       "    </tr>\n",
       "  </tbody>\n",
       "</table>\n",
       "</div>"
      ],
      "text/plain": [
       "                event_name              user_id    event_ts  group  \\\n",
       "0         MainScreenAppear  4575588528974610257  1564029816    246   \n",
       "1         MainScreenAppear  7416695313311560658  1564053102    246   \n",
       "2  PaymentScreenSuccessful  3518123091307005509  1564054127    248   \n",
       "3         CartScreenAppear  3518123091307005509  1564054127    248   \n",
       "4  PaymentScreenSuccessful  6217807653094995999  1564055322    248   \n",
       "\n",
       "             event_dt  \n",
       "0 2019-07-25 04:43:36  \n",
       "1 2019-07-25 11:11:42  \n",
       "2 2019-07-25 11:28:47  \n",
       "3 2019-07-25 11:28:47  \n",
       "4 2019-07-25 11:48:42  "
      ]
     },
     "execution_count": 38,
     "metadata": {},
     "output_type": "execute_result"
    }
   ],
   "source": [
    "df['event_dt'] = pd.to_datetime(df['event_ts'],unit='s')\n",
    "df.head()"
   ]
  },
  {
   "cell_type": "code",
   "execution_count": 39,
   "metadata": {},
   "outputs": [
    {
     "data": {
      "text/plain": [
       "413"
      ]
     },
     "execution_count": 39,
     "metadata": {},
     "output_type": "execute_result"
    }
   ],
   "source": [
    "df.duplicated().sum()"
   ]
  },
  {
   "cell_type": "code",
   "execution_count": 40,
   "metadata": {},
   "outputs": [
    {
     "data": {
      "text/plain": [
       "event_name    0\n",
       "user_id       0\n",
       "event_ts      0\n",
       "group         0\n",
       "event_dt      0\n",
       "dtype: int64"
      ]
     },
     "execution_count": 40,
     "metadata": {},
     "output_type": "execute_result"
    }
   ],
   "source": [
    "df.isna().sum()"
   ]
  },
  {
   "cell_type": "markdown",
   "metadata": {},
   "source": [
    "Пропусков не обнаружено, полных дубликатов 413. Это ~0.17% от всех данных. Смело удаляем"
   ]
  },
  {
   "cell_type": "code",
   "execution_count": 41,
   "metadata": {},
   "outputs": [
    {
     "data": {
      "text/plain": [
       "0"
      ]
     },
     "execution_count": 41,
     "metadata": {},
     "output_type": "execute_result"
    }
   ],
   "source": [
    "df = df.drop_duplicates()\n",
    "df.duplicated().sum()"
   ]
  },
  {
   "cell_type": "code",
   "execution_count": 42,
   "metadata": {},
   "outputs": [
    {
     "name": "stdout",
     "output_type": "stream",
     "text": [
      "<class 'pandas.core.frame.DataFrame'>\n",
      "Int64Index: 243713 entries, 0 to 244125\n",
      "Data columns (total 6 columns):\n",
      " #   Column      Non-Null Count   Dtype         \n",
      "---  ------      --------------   -----         \n",
      " 0   event_name  243713 non-null  object        \n",
      " 1   user_id     243713 non-null  int64         \n",
      " 2   event_ts    243713 non-null  int64         \n",
      " 3   group       243713 non-null  int64         \n",
      " 4   event_dt    243713 non-null  datetime64[ns]\n",
      " 5   event_date  243713 non-null  datetime64[ns]\n",
      "dtypes: datetime64[ns](2), int64(3), object(1)\n",
      "memory usage: 13.0+ MB\n",
      "None\n"
     ]
    },
    {
     "data": {
      "text/html": [
       "<div>\n",
       "<style scoped>\n",
       "    .dataframe tbody tr th:only-of-type {\n",
       "        vertical-align: middle;\n",
       "    }\n",
       "\n",
       "    .dataframe tbody tr th {\n",
       "        vertical-align: top;\n",
       "    }\n",
       "\n",
       "    .dataframe thead th {\n",
       "        text-align: right;\n",
       "    }\n",
       "</style>\n",
       "<table border=\"1\" class=\"dataframe\">\n",
       "  <thead>\n",
       "    <tr style=\"text-align: right;\">\n",
       "      <th></th>\n",
       "      <th>event_name</th>\n",
       "      <th>user_id</th>\n",
       "      <th>event_ts</th>\n",
       "      <th>group</th>\n",
       "      <th>event_dt</th>\n",
       "      <th>event_date</th>\n",
       "    </tr>\n",
       "  </thead>\n",
       "  <tbody>\n",
       "    <tr>\n",
       "      <th>0</th>\n",
       "      <td>MainScreenAppear</td>\n",
       "      <td>4575588528974610257</td>\n",
       "      <td>1564029816</td>\n",
       "      <td>246</td>\n",
       "      <td>2019-07-25 04:43:36</td>\n",
       "      <td>2019-07-25</td>\n",
       "    </tr>\n",
       "    <tr>\n",
       "      <th>1</th>\n",
       "      <td>MainScreenAppear</td>\n",
       "      <td>7416695313311560658</td>\n",
       "      <td>1564053102</td>\n",
       "      <td>246</td>\n",
       "      <td>2019-07-25 11:11:42</td>\n",
       "      <td>2019-07-25</td>\n",
       "    </tr>\n",
       "    <tr>\n",
       "      <th>2</th>\n",
       "      <td>PaymentScreenSuccessful</td>\n",
       "      <td>3518123091307005509</td>\n",
       "      <td>1564054127</td>\n",
       "      <td>248</td>\n",
       "      <td>2019-07-25 11:28:47</td>\n",
       "      <td>2019-07-25</td>\n",
       "    </tr>\n",
       "    <tr>\n",
       "      <th>3</th>\n",
       "      <td>CartScreenAppear</td>\n",
       "      <td>3518123091307005509</td>\n",
       "      <td>1564054127</td>\n",
       "      <td>248</td>\n",
       "      <td>2019-07-25 11:28:47</td>\n",
       "      <td>2019-07-25</td>\n",
       "    </tr>\n",
       "    <tr>\n",
       "      <th>4</th>\n",
       "      <td>PaymentScreenSuccessful</td>\n",
       "      <td>6217807653094995999</td>\n",
       "      <td>1564055322</td>\n",
       "      <td>248</td>\n",
       "      <td>2019-07-25 11:48:42</td>\n",
       "      <td>2019-07-25</td>\n",
       "    </tr>\n",
       "  </tbody>\n",
       "</table>\n",
       "</div>"
      ],
      "text/plain": [
       "                event_name              user_id    event_ts  group  \\\n",
       "0         MainScreenAppear  4575588528974610257  1564029816    246   \n",
       "1         MainScreenAppear  7416695313311560658  1564053102    246   \n",
       "2  PaymentScreenSuccessful  3518123091307005509  1564054127    248   \n",
       "3         CartScreenAppear  3518123091307005509  1564054127    248   \n",
       "4  PaymentScreenSuccessful  6217807653094995999  1564055322    248   \n",
       "\n",
       "             event_dt event_date  \n",
       "0 2019-07-25 04:43:36 2019-07-25  \n",
       "1 2019-07-25 11:11:42 2019-07-25  \n",
       "2 2019-07-25 11:28:47 2019-07-25  \n",
       "3 2019-07-25 11:28:47 2019-07-25  \n",
       "4 2019-07-25 11:48:42 2019-07-25  "
      ]
     },
     "execution_count": 42,
     "metadata": {},
     "output_type": "execute_result"
    }
   ],
   "source": [
    "#создадим доп. столбец с датой без времени\n",
    "df['event_date'] = df['event_dt'].dt.date\n",
    "df['event_date'] = pd.to_datetime(df['event_date'])\n",
    "print(df.info())\n",
    "df.head()"
   ]
  },
  {
   "cell_type": "markdown",
   "metadata": {},
   "source": [
    "Удалим теперь уже не нужный нам столбец event_ts, а также переименуем группы 246, 247, 248 в А1, А2 и В соответственно"
   ]
  },
  {
   "cell_type": "code",
   "execution_count": 43,
   "metadata": {},
   "outputs": [
    {
     "data": {
      "text/html": [
       "<div>\n",
       "<style scoped>\n",
       "    .dataframe tbody tr th:only-of-type {\n",
       "        vertical-align: middle;\n",
       "    }\n",
       "\n",
       "    .dataframe tbody tr th {\n",
       "        vertical-align: top;\n",
       "    }\n",
       "\n",
       "    .dataframe thead th {\n",
       "        text-align: right;\n",
       "    }\n",
       "</style>\n",
       "<table border=\"1\" class=\"dataframe\">\n",
       "  <thead>\n",
       "    <tr style=\"text-align: right;\">\n",
       "      <th></th>\n",
       "      <th>event_name</th>\n",
       "      <th>user_id</th>\n",
       "      <th>group</th>\n",
       "      <th>event_dt</th>\n",
       "      <th>event_date</th>\n",
       "    </tr>\n",
       "  </thead>\n",
       "  <tbody>\n",
       "    <tr>\n",
       "      <th>0</th>\n",
       "      <td>MainScreenAppear</td>\n",
       "      <td>4575588528974610257</td>\n",
       "      <td>A1</td>\n",
       "      <td>2019-07-25 04:43:36</td>\n",
       "      <td>2019-07-25</td>\n",
       "    </tr>\n",
       "    <tr>\n",
       "      <th>1</th>\n",
       "      <td>MainScreenAppear</td>\n",
       "      <td>7416695313311560658</td>\n",
       "      <td>A1</td>\n",
       "      <td>2019-07-25 11:11:42</td>\n",
       "      <td>2019-07-25</td>\n",
       "    </tr>\n",
       "    <tr>\n",
       "      <th>2</th>\n",
       "      <td>PaymentScreenSuccessful</td>\n",
       "      <td>3518123091307005509</td>\n",
       "      <td>B</td>\n",
       "      <td>2019-07-25 11:28:47</td>\n",
       "      <td>2019-07-25</td>\n",
       "    </tr>\n",
       "    <tr>\n",
       "      <th>3</th>\n",
       "      <td>CartScreenAppear</td>\n",
       "      <td>3518123091307005509</td>\n",
       "      <td>B</td>\n",
       "      <td>2019-07-25 11:28:47</td>\n",
       "      <td>2019-07-25</td>\n",
       "    </tr>\n",
       "    <tr>\n",
       "      <th>4</th>\n",
       "      <td>PaymentScreenSuccessful</td>\n",
       "      <td>6217807653094995999</td>\n",
       "      <td>B</td>\n",
       "      <td>2019-07-25 11:48:42</td>\n",
       "      <td>2019-07-25</td>\n",
       "    </tr>\n",
       "  </tbody>\n",
       "</table>\n",
       "</div>"
      ],
      "text/plain": [
       "                event_name              user_id group            event_dt  \\\n",
       "0         MainScreenAppear  4575588528974610257    A1 2019-07-25 04:43:36   \n",
       "1         MainScreenAppear  7416695313311560658    A1 2019-07-25 11:11:42   \n",
       "2  PaymentScreenSuccessful  3518123091307005509     B 2019-07-25 11:28:47   \n",
       "3         CartScreenAppear  3518123091307005509     B 2019-07-25 11:28:47   \n",
       "4  PaymentScreenSuccessful  6217807653094995999     B 2019-07-25 11:48:42   \n",
       "\n",
       "  event_date  \n",
       "0 2019-07-25  \n",
       "1 2019-07-25  \n",
       "2 2019-07-25  \n",
       "3 2019-07-25  \n",
       "4 2019-07-25  "
      ]
     },
     "execution_count": 43,
     "metadata": {},
     "output_type": "execute_result"
    }
   ],
   "source": [
    "df = df.drop(columns={'event_ts'})\n",
    "df = df.replace({'group' : { 246 : 'A1', 247 : 'A2', 248 : 'B' }})\n",
    "df.head()"
   ]
  },
  {
   "cell_type": "markdown",
   "metadata": {},
   "source": [
    "### Вывод"
   ]
  },
  {
   "cell_type": "markdown",
   "metadata": {},
   "source": [
    "Данные предобработали, почистили дубликаты, переименовали столбцы и навзания исследуемых групп в более читаемые."
   ]
  },
  {
   "cell_type": "markdown",
   "metadata": {},
   "source": [
    "## Изучение и проверка данных"
   ]
  },
  {
   "cell_type": "code",
   "execution_count": 44,
   "metadata": {},
   "outputs": [
    {
     "data": {
      "text/plain": [
       "243713"
      ]
     },
     "execution_count": 44,
     "metadata": {},
     "output_type": "execute_result"
    }
   ],
   "source": [
    "#посмотрим сколько всего событий в данных и какие уникальные события есть\n",
    "df['event_name'].count()"
   ]
  },
  {
   "cell_type": "code",
   "execution_count": 45,
   "metadata": {},
   "outputs": [
    {
     "data": {
      "text/plain": [
       "7551"
      ]
     },
     "execution_count": 45,
     "metadata": {},
     "output_type": "execute_result"
    }
   ],
   "source": [
    "#посмотрим сколько всего пользователей\n",
    "df['user_id'].nunique()"
   ]
  },
  {
   "cell_type": "code",
   "execution_count": 46,
   "metadata": {},
   "outputs": [
    {
     "data": {
      "text/plain": [
       "32.27559263673685"
      ]
     },
     "execution_count": 46,
     "metadata": {},
     "output_type": "execute_result"
    }
   ],
   "source": [
    "#cколько в среднем событий приходится на пользователя\n",
    "event_per_user = df.groupby('user_id').agg({'event_name':'count'}).reset_index()\n",
    "event_per_user['event_name'].mean()"
   ]
  },
  {
   "cell_type": "code",
   "execution_count": 47,
   "metadata": {},
   "outputs": [
    {
     "name": "stdout",
     "output_type": "stream",
     "text": [
      "минимальная дата: 2019-07-25 04:43:36\n",
      "максимальная дата: 2019-08-07 21:15:17\n"
     ]
    }
   ],
   "source": [
    "#посмотрим за какой период у нас данные\n",
    "print('минимальная дата:', df['event_dt'].min())\n",
    "print('максимальная дата:', df['event_dt'].max())"
   ]
  },
  {
   "cell_type": "code",
   "execution_count": 48,
   "metadata": {},
   "outputs": [
    {
     "data": {
      "image/png": "[encoded data removed]",
      "text/plain": [
       "<Figure size 1080x648 with 1 Axes>"
      ]
     },
     "metadata": {
      "needs_background": "light"
     },
     "output_type": "display_data"
    }
   ],
   "source": [
    "#посмотрим гистограмму по дате и времени\n",
    "df['event_dt'].hist(figsize=(15,9))\n",
    "plt.title('Гистограмма событий по дате и времени')\n",
    "plt.xlabel('Дата')\n",
    "plt.ylabel('Количество событий')\n",
    "None"
   ]
  },
  {
   "cell_type": "markdown",
   "metadata": {},
   "source": [
    "Видим, что до 2019-08-01 очень мало данных. Возьмем эту дату за точку отсчёта \"полных данных\", отбросим более старые и посмотрим сколько событий и пользователей мы потярем"
   ]
  },
  {
   "cell_type": "code",
   "execution_count": 49,
   "metadata": {},
   "outputs": [
    {
     "name": "stdout",
     "output_type": "stream",
     "text": [
      "Событий отсеялось после фильтрации в %: 1.16\n",
      "Пользователей отсеялось после фильтрации в % 0.23\n"
     ]
    }
   ],
   "source": [
    "df_filtered = df[df['event_date']>='2019-08-01']\n",
    "print('Событий отсеялось после фильтрации в %:', round(100 - (df_filtered['event_name'].count()*100/df['event_name'].count()),2))\n",
    "print('Пользователей отсеялось после фильтрации в %', round(100 - (df_filtered['user_id'].nunique()*100/df['user_id'].nunique()),2))"
   ]
  },
  {
   "cell_type": "markdown",
   "metadata": {},
   "source": [
    "Довольно малый процент данных отсеялся, но мы будем уверены, что он теперь не будет перекашивать данные, поэтому дальше продолжим работать с фльтрованными логами"
   ]
  },
  {
   "cell_type": "code",
   "execution_count": 50,
   "metadata": {},
   "outputs": [
    {
     "data": {
      "text/plain": [
       "group\n",
       "A1    2484\n",
       "A2    2513\n",
       "B     2537\n",
       "Name: user_id, dtype: int64"
      ]
     },
     "execution_count": 50,
     "metadata": {},
     "output_type": "execute_result"
    }
   ],
   "source": [
    "#Проверим, что у нас есть пользователи из всех трёх экспериментальных групп\n",
    "users_per_group = df_filtered.groupby('group')['user_id'].nunique()\n",
    "users_per_group"
   ]
  },
  {
   "cell_type": "markdown",
   "metadata": {},
   "source": [
    "### Вывод"
   ]
  },
  {
   "cell_type": "markdown",
   "metadata": {},
   "source": [
    "Изучили данные, проверили целостность, \"отрезали\" хваот с неполными данными, чтобы они не искажали последующие иследования."
   ]
  },
  {
   "cell_type": "markdown",
   "metadata": {},
   "source": [
    "## Изучение воронки событий"
   ]
  },
  {
   "cell_type": "code",
   "execution_count": 51,
   "metadata": {},
   "outputs": [
    {
     "data": {
      "text/plain": [
       "event_name\n",
       "MainScreenAppear           117328\n",
       "OffersScreenAppear          46333\n",
       "CartScreenAppear            42303\n",
       "PaymentScreenSuccessful     33918\n",
       "Tutorial                     1005\n",
       "Name: event_name, dtype: int64"
      ]
     },
     "execution_count": 51,
     "metadata": {},
     "output_type": "execute_result"
    }
   ],
   "source": [
    "#Посмотрим какие события есть в логах и как часто они встречаются\n",
    "events_count = df_filtered.groupby('event_name')['event_name'].count().sort_values(ascending=False)\n",
    "events_count"
   ]
  },
  {
   "cell_type": "code",
   "execution_count": 52,
   "metadata": {},
   "outputs": [
    {
     "data": {
      "text/html": [
       "<div>\n",
       "<style scoped>\n",
       "    .dataframe tbody tr th:only-of-type {\n",
       "        vertical-align: middle;\n",
       "    }\n",
       "\n",
       "    .dataframe tbody tr th {\n",
       "        vertical-align: top;\n",
       "    }\n",
       "\n",
       "    .dataframe thead th {\n",
       "        text-align: right;\n",
       "    }\n",
       "</style>\n",
       "<table border=\"1\" class=\"dataframe\">\n",
       "  <thead>\n",
       "    <tr style=\"text-align: right;\">\n",
       "      <th></th>\n",
       "      <th>event_name</th>\n",
       "      <th>user_id</th>\n",
       "    </tr>\n",
       "  </thead>\n",
       "  <tbody>\n",
       "    <tr>\n",
       "      <th>1</th>\n",
       "      <td>MainScreenAppear</td>\n",
       "      <td>7419</td>\n",
       "    </tr>\n",
       "    <tr>\n",
       "      <th>2</th>\n",
       "      <td>OffersScreenAppear</td>\n",
       "      <td>4593</td>\n",
       "    </tr>\n",
       "    <tr>\n",
       "      <th>0</th>\n",
       "      <td>CartScreenAppear</td>\n",
       "      <td>3734</td>\n",
       "    </tr>\n",
       "    <tr>\n",
       "      <th>3</th>\n",
       "      <td>PaymentScreenSuccessful</td>\n",
       "      <td>3539</td>\n",
       "    </tr>\n",
       "    <tr>\n",
       "      <th>4</th>\n",
       "      <td>Tutorial</td>\n",
       "      <td>840</td>\n",
       "    </tr>\n",
       "  </tbody>\n",
       "</table>\n",
       "</div>"
      ],
      "text/plain": [
       "                event_name  user_id\n",
       "1         MainScreenAppear     7419\n",
       "2       OffersScreenAppear     4593\n",
       "0         CartScreenAppear     3734\n",
       "3  PaymentScreenSuccessful     3539\n",
       "4                 Tutorial      840"
      ]
     },
     "execution_count": 52,
     "metadata": {},
     "output_type": "execute_result"
    }
   ],
   "source": [
    "#Определим сколько пользователей совершали каждое из этих событий и долю пользователей, которые хоть раз совершали событие\n",
    "events_users_count = df_filtered.groupby('event_name').agg({'user_id':'nunique'}).reset_index().sort_values(by='user_id',ascending=False)\n",
    "events_users_count"
   ]
  },
  {
   "cell_type": "code",
   "execution_count": 53,
   "metadata": {},
   "outputs": [],
   "source": [
    "#Доля пользователей, которые хоть раз совершали событие\n",
    "events_users_count['%_of_all'] =round(100*events_users_count['user_id']/df_filtered['user_id'].nunique(),2)"
   ]
  },
  {
   "cell_type": "markdown",
   "metadata": {},
   "source": [
    "По названию событий можем предположить следующий порядок: MainScreenAppear(вход в приложение/главный экран) -> OffersScreenAppear (экран товара) -> CartScreenAppear (корзина) -> PaymentScreenSuccessful (успешная оплата заказа). Tutorial, судя по количеству пользователей, опциональный - его мы не будем включать при построении воронки."
   ]
  },
  {
   "cell_type": "code",
   "execution_count": 54,
   "metadata": {},
   "outputs": [],
   "source": [
    "events_users_count = events_users_count.rename(columns={'user_id':'users'})"
   ]
  },
  {
   "cell_type": "code",
   "execution_count": 55,
   "metadata": {},
   "outputs": [
    {
     "data": {
      "text/html": [
       "<div>\n",
       "<style scoped>\n",
       "    .dataframe tbody tr th:only-of-type {\n",
       "        vertical-align: middle;\n",
       "    }\n",
       "\n",
       "    .dataframe tbody tr th {\n",
       "        vertical-align: top;\n",
       "    }\n",
       "\n",
       "    .dataframe thead th {\n",
       "        text-align: right;\n",
       "    }\n",
       "</style>\n",
       "<table border=\"1\" class=\"dataframe\">\n",
       "  <thead>\n",
       "    <tr style=\"text-align: right;\">\n",
       "      <th></th>\n",
       "      <th>event_name</th>\n",
       "      <th>users</th>\n",
       "      <th>%_of_all</th>\n",
       "    </tr>\n",
       "  </thead>\n",
       "  <tbody>\n",
       "    <tr>\n",
       "      <th>1</th>\n",
       "      <td>MainScreenAppear</td>\n",
       "      <td>7419</td>\n",
       "      <td>98.47</td>\n",
       "    </tr>\n",
       "    <tr>\n",
       "      <th>2</th>\n",
       "      <td>OffersScreenAppear</td>\n",
       "      <td>4593</td>\n",
       "      <td>60.96</td>\n",
       "    </tr>\n",
       "    <tr>\n",
       "      <th>0</th>\n",
       "      <td>CartScreenAppear</td>\n",
       "      <td>3734</td>\n",
       "      <td>49.56</td>\n",
       "    </tr>\n",
       "    <tr>\n",
       "      <th>3</th>\n",
       "      <td>PaymentScreenSuccessful</td>\n",
       "      <td>3539</td>\n",
       "      <td>46.97</td>\n",
       "    </tr>\n",
       "  </tbody>\n",
       "</table>\n",
       "</div>"
      ],
      "text/plain": [
       "                event_name  users  %_of_all\n",
       "1         MainScreenAppear   7419     98.47\n",
       "2       OffersScreenAppear   4593     60.96\n",
       "0         CartScreenAppear   3734     49.56\n",
       "3  PaymentScreenSuccessful   3539     46.97"
      ]
     },
     "execution_count": 55,
     "metadata": {},
     "output_type": "execute_result"
    }
   ],
   "source": [
    "events_users_count = events_users_count[events_users_count['event_name']!='Tutorial']\n",
    "events_users_count"
   ]
  },
  {
   "cell_type": "code",
   "execution_count": 56,
   "metadata": {},
   "outputs": [
    {
     "data": {
      "text/html": [
       "<div>\n",
       "<style scoped>\n",
       "    .dataframe tbody tr th:only-of-type {\n",
       "        vertical-align: middle;\n",
       "    }\n",
       "\n",
       "    .dataframe tbody tr th {\n",
       "        vertical-align: top;\n",
       "    }\n",
       "\n",
       "    .dataframe thead th {\n",
       "        text-align: right;\n",
       "    }\n",
       "</style>\n",
       "<table border=\"1\" class=\"dataframe\">\n",
       "  <thead>\n",
       "    <tr style=\"text-align: right;\">\n",
       "      <th></th>\n",
       "      <th>event_name</th>\n",
       "      <th>users</th>\n",
       "      <th>%_of_all</th>\n",
       "      <th>%_from_previous_event</th>\n",
       "    </tr>\n",
       "  </thead>\n",
       "  <tbody>\n",
       "    <tr>\n",
       "      <th>0</th>\n",
       "      <td>MainScreenAppear</td>\n",
       "      <td>7419</td>\n",
       "      <td>98.47</td>\n",
       "      <td>NaN</td>\n",
       "    </tr>\n",
       "    <tr>\n",
       "      <th>1</th>\n",
       "      <td>OffersScreenAppear</td>\n",
       "      <td>4593</td>\n",
       "      <td>60.96</td>\n",
       "      <td>61.91</td>\n",
       "    </tr>\n",
       "    <tr>\n",
       "      <th>2</th>\n",
       "      <td>CartScreenAppear</td>\n",
       "      <td>3734</td>\n",
       "      <td>49.56</td>\n",
       "      <td>81.30</td>\n",
       "    </tr>\n",
       "    <tr>\n",
       "      <th>3</th>\n",
       "      <td>PaymentScreenSuccessful</td>\n",
       "      <td>3539</td>\n",
       "      <td>46.97</td>\n",
       "      <td>94.78</td>\n",
       "    </tr>\n",
       "  </tbody>\n",
       "</table>\n",
       "</div>"
      ],
      "text/plain": [
       "                event_name  users  %_of_all  %_from_previous_event\n",
       "0         MainScreenAppear   7419     98.47                    NaN\n",
       "1       OffersScreenAppear   4593     60.96                  61.91\n",
       "2         CartScreenAppear   3734     49.56                  81.30\n",
       "3  PaymentScreenSuccessful   3539     46.97                  94.78"
      ]
     },
     "execution_count": 56,
     "metadata": {},
     "output_type": "execute_result"
    }
   ],
   "source": [
    "#Посчитаем какая доля пользователей проходит на следующий шаг воронки\n",
    "events_users_count['%_from_previous_event'] = round(100*events_users_count['users']/events_users_count['users'].shift(),2)\n",
    "events_users_count = events_users_count.reset_index(drop=True)\n",
    "events_users_count"
   ]
  },
  {
   "cell_type": "markdown",
   "metadata": {},
   "source": [
    "<p>Больше всего пользователей теряется на шаге OffersScreenAppear</p>\n",
    "Определим долю пользователей, которые доходят от первого шага до оплаты"
   ]
  },
  {
   "cell_type": "code",
   "execution_count": 57,
   "metadata": {},
   "outputs": [
    {
     "name": "stdout",
     "output_type": "stream",
     "text": [
      "Доля пользователей доходящих от первого шага до оплаты: 47.7\n"
     ]
    }
   ],
   "source": [
    "print('Доля пользователей доходящих от первого шага до оплаты:',round(100*events_users_count.loc[events_users_count.index.max(),'users']/events_users_count.loc[events_users_count.index.min(),'users'],2))"
   ]
  },
  {
   "cell_type": "markdown",
   "metadata": {},
   "source": [
    "Визуализируем воронку"
   ]
  },
  {
   "cell_type": "code",
   "execution_count": 58,
   "metadata": {},
   "outputs": [
    {
     "data": {
      "application/vnd.plotly.v1+json": {
       "config": {
        "plotlyServerURL": "https://plot.ly"
       },
       "data": [
        {
         "hovertemplate": "users=%{x}<br>event_name=%{y}<extra></extra>",
         "legendgroup": "",
         "marker": {
          "color": "#636efa"
         },
         "name": "",
         "orientation": "h",
         "showlegend": false,
         "type": "funnel",
         "x": [
          7419,
          4593,
          3734,
          3539
         ],
         "xaxis": "x",
         "y": [
          "MainScreenAppear",
          "OffersScreenAppear",
          "CartScreenAppear",
          "PaymentScreenSuccessful"
         ],
         "yaxis": "y"
        }
       ],
       "layout": {
        "legend": {
         "tracegroupgap": 0
        },
        "margin": {
         "t": 60
        },
        "template": {
         "data": {
          "bar": [
           {
            "error_x": {
             "color": "#2a3f5f"
            },
            "error_y": {
             "color": "#2a3f5f"
            },
            "marker": {
             "line": {
              "color": "#E5ECF6",
              "width": 0.5
             },
             "pattern": {
              "fillmode": "overlay",
              "size": 10,
              "solidity": 0.2
             }
            },
            "type": "bar"
           }
          ],
          "barpolar": [
           {
            "marker": {
             "line": {
              "color": "#E5ECF6",
              "width": 0.5
             },
             "pattern": {
              "fillmode": "overlay",
              "size": 10,
              "solidity": 0.2
             }
            },
            "type": "barpolar"
           }
          ],
          "carpet": [
           {
            "aaxis": {
             "endlinecolor": "#2a3f5f",
             "gridcolor": "white",
             "linecolor": "white",
             "minorgridcolor": "white",
             "startlinecolor": "#2a3f5f"
            },
            "baxis": {
             "endlinecolor": "#2a3f5f",
             "gridcolor": "white",
             "linecolor": "white",
             "minorgridcolor": "white",
             "startlinecolor": "#2a3f5f"
            },
            "type": "carpet"
           }
          ],
          "choropleth": [
           {
            "colorbar": {
             "outlinewidth": 0,
             "ticks": ""
            },
            "type": "choropleth"
           }
          ],
          "contour": [
           {
            "colorbar": {
             "outlinewidth": 0,
             "ticks": ""
            },
            "colorscale": [
             [
              0,
              "#0d0887"
             ],
             [
              0.1111111111111111,
              "#46039f"
             ],
             [
              0.2222222222222222,
              "#7201a8"
             ],
             [
              0.3333333333333333,
              "#9c179e"
             ],
             [
              0.4444444444444444,
              "#bd3786"
             ],
             [
              0.5555555555555556,
              "#d8576b"
             ],
             [
              0.6666666666666666,
              "#ed7953"
             ],
             [
              0.7777777777777778,
              "#fb9f3a"
             ],
             [
              0.8888888888888888,
              "#fdca26"
             ],
             [
              1,
              "#f0f921"
             ]
            ],
            "type": "contour"
           }
          ],
          "contourcarpet": [
           {
            "colorbar": {
             "outlinewidth": 0,
             "ticks": ""
            },
            "type": "contourcarpet"
           }
          ],
          "heatmap": [
           {
            "colorbar": {
             "outlinewidth": 0,
             "ticks": ""
            },
            "colorscale": [
             [
              0,
              "#0d0887"
             ],
             [
              0.1111111111111111,
              "#46039f"
             ],
             [
              0.2222222222222222,
              "#7201a8"
             ],
             [
              0.3333333333333333,
              "#9c179e"
             ],
             [
              0.4444444444444444,
              "#bd3786"
             ],
             [
              0.5555555555555556,
              "#d8576b"
             ],
             [
              0.6666666666666666,
              "#ed7953"
             ],
             [
              0.7777777777777778,
              "#fb9f3a"
             ],
             [
              0.8888888888888888,
              "#fdca26"
             ],
             [
              1,
              "#f0f921"
             ]
            ],
            "type": "heatmap"
           }
          ],
          "heatmapgl": [
           {
            "colorbar": {
             "outlinewidth": 0,
             "ticks": ""
            },
            "colorscale": [
             [
              0,
              "#0d0887"
             ],
             [
              0.1111111111111111,
              "#46039f"
             ],
             [
              0.2222222222222222,
              "#7201a8"
             ],
             [
              0.3333333333333333,
              "#9c179e"
             ],
             [
              0.4444444444444444,
              "#bd3786"
             ],
             [
              0.5555555555555556,
              "#d8576b"
             ],
             [
              0.6666666666666666,
              "#ed7953"
             ],
             [
              0.7777777777777778,
              "#fb9f3a"
             ],
             [
              0.8888888888888888,
              "#fdca26"
             ],
             [
              1,
              "#f0f921"
             ]
            ],
            "type": "heatmapgl"
           }
          ],
          "histogram": [
           {
            "marker": {
             "pattern": {
              "fillmode": "overlay",
              "size": 10,
              "solidity": 0.2
             }
            },
            "type": "histogram"
           }
          ],
          "histogram2d": [
           {
            "colorbar": {
             "outlinewidth": 0,
             "ticks": ""
            },
            "colorscale": [
             [
              0,
              "#0d0887"
             ],
             [
              0.1111111111111111,
              "#46039f"
             ],
             [
              0.2222222222222222,
              "#7201a8"
             ],
             [
              0.3333333333333333,
              "#9c179e"
             ],
             [
              0.4444444444444444,
              "#bd3786"
             ],
             [
              0.5555555555555556,
              "#d8576b"
             ],
             [
              0.6666666666666666,
              "#ed7953"
             ],
             [
              0.7777777777777778,
              "#fb9f3a"
             ],
             [
              0.8888888888888888,
              "#fdca26"
             ],
             [
              1,
              "#f0f921"
             ]
            ],
            "type": "histogram2d"
           }
          ],
          "histogram2dcontour": [
           {
            "colorbar": {
             "outlinewidth": 0,
             "ticks": ""
            },
            "colorscale": [
             [
              0,
              "#0d0887"
             ],
             [
              0.1111111111111111,
              "#46039f"
             ],
             [
              0.2222222222222222,
              "#7201a8"
             ],
             [
              0.3333333333333333,
              "#9c179e"
             ],
             [
              0.4444444444444444,
              "#bd3786"
             ],
             [
              0.5555555555555556,
              "#d8576b"
             ],
             [
              0.6666666666666666,
              "#ed7953"
             ],
             [
              0.7777777777777778,
              "#fb9f3a"
             ],
             [
              0.8888888888888888,
              "#fdca26"
             ],
             [
              1,
              "#f0f921"
             ]
            ],
            "type": "histogram2dcontour"
           }
          ],
          "mesh3d": [
           {
            "colorbar": {
             "outlinewidth": 0,
             "ticks": ""
            },
            "type": "mesh3d"
           }
          ],
          "parcoords": [
           {
            "line": {
             "colorbar": {
              "outlinewidth": 0,
              "ticks": ""
             }
            },
            "type": "parcoords"
           }
          ],
          "pie": [
           {
            "automargin": true,
            "type": "pie"
           }
          ],
          "scatter": [
           {
            "fillpattern": {
             "fillmode": "overlay",
             "size": 10,
             "solidity": 0.2
            },
            "type": "scatter"
           }
          ],
          "scatter3d": [
           {
            "line": {
             "colorbar": {
              "outlinewidth": 0,
              "ticks": ""
             }
            },
            "marker": {
             "colorbar": {
              "outlinewidth": 0,
              "ticks": ""
             }
            },
            "type": "scatter3d"
           }
          ],
          "scattercarpet": [
           {
            "marker": {
             "colorbar": {
              "outlinewidth": 0,
              "ticks": ""
             }
            },
            "type": "scattercarpet"
           }
          ],
          "scattergeo": [
           {
            "marker": {
             "colorbar": {
              "outlinewidth": 0,
              "ticks": ""
             }
            },
            "type": "scattergeo"
           }
          ],
          "scattergl": [
           {
            "marker": {
             "colorbar": {
              "outlinewidth": 0,
              "ticks": ""
             }
            },
            "type": "scattergl"
           }
          ],
          "scattermapbox": [
           {
            "marker": {
             "colorbar": {
              "outlinewidth": 0,
              "ticks": ""
             }
            },
            "type": "scattermapbox"
           }
          ],
          "scatterpolar": [
           {
            "marker": {
             "colorbar": {
              "outlinewidth": 0,
              "ticks": ""
             }
            },
            "type": "scatterpolar"
           }
          ],
          "scatterpolargl": [
           {
            "marker": {
             "colorbar": {
              "outlinewidth": 0,
              "ticks": ""
             }
            },
            "type": "scatterpolargl"
           }
          ],
          "scatterternary": [
           {
            "marker": {
             "colorbar": {
              "outlinewidth": 0,
              "ticks": ""
             }
            },
            "type": "scatterternary"
           }
          ],
          "surface": [
           {
            "colorbar": {
             "outlinewidth": 0,
             "ticks": ""
            },
            "colorscale": [
             [
              0,
              "#0d0887"
             ],
             [
              0.1111111111111111,
              "#46039f"
             ],
             [
              0.2222222222222222,
              "#7201a8"
             ],
             [
              0.3333333333333333,
              "#9c179e"
             ],
             [
              0.4444444444444444,
              "#bd3786"
             ],
             [
              0.5555555555555556,
              "#d8576b"
             ],
             [
              0.6666666666666666,
              "#ed7953"
             ],
             [
              0.7777777777777778,
              "#fb9f3a"
             ],
             [
              0.8888888888888888,
              "#fdca26"
             ],
             [
              1,
              "#f0f921"
             ]
            ],
            "type": "surface"
           }
          ],
          "table": [
           {
            "cells": {
             "fill": {
              "color": "#EBF0F8"
             },
             "line": {
              "color": "white"
             }
            },
            "header": {
             "fill": {
              "color": "#C8D4E3"
             },
             "line": {
              "color": "white"
             }
            },
            "type": "table"
           }
          ]
         },
         "layout": {
          "annotationdefaults": {
           "arrowcolor": "#2a3f5f",
           "arrowhead": 0,
           "arrowwidth": 1
          },
          "autotypenumbers": "strict",
          "coloraxis": {
           "colorbar": {
            "outlinewidth": 0,
            "ticks": ""
           }
          },
          "colorscale": {
           "diverging": [
            [
             0,
             "#8e0152"
            ],
            [
             0.1,
             "#c51b7d"
            ],
            [
             0.2,
             "#de77ae"
            ],
            [
             0.3,
             "#f1b6da"
            ],
            [
             0.4,
             "#fde0ef"
            ],
            [
             0.5,
             "#f7f7f7"
            ],
            [
             0.6,
             "#e6f5d0"
            ],
            [
             0.7,
             "#b8e186"
            ],
            [
             0.8,
             "#7fbc41"
            ],
            [
             0.9,
             "#4d9221"
            ],
            [
             1,
             "#276419"
            ]
           ],
           "sequential": [
            [
             0,
             "#0d0887"
            ],
            [
             0.1111111111111111,
             "#46039f"
            ],
            [
             0.2222222222222222,
             "#7201a8"
            ],
            [
             0.3333333333333333,
             "#9c179e"
            ],
            [
             0.4444444444444444,
             "#bd3786"
            ],
            [
             0.5555555555555556,
             "#d8576b"
            ],
            [
             0.6666666666666666,
             "#ed7953"
            ],
            [
             0.7777777777777778,
             "#fb9f3a"
            ],
            [
             0.8888888888888888,
             "#fdca26"
            ],
            [
             1,
             "#f0f921"
            ]
           ],
           "sequentialminus": [
            [
             0,
             "#0d0887"
            ],
            [
             0.1111111111111111,
             "#46039f"
            ],
            [
             0.2222222222222222,
             "#7201a8"
            ],
            [
             0.3333333333333333,
             "#9c179e"
            ],
            [
             0.4444444444444444,
             "#bd3786"
            ],
            [
             0.5555555555555556,
             "#d8576b"
            ],
            [
             0.6666666666666666,
             "#ed7953"
            ],
            [
             0.7777777777777778,
             "#fb9f3a"
            ],
            [
             0.8888888888888888,
             "#fdca26"
            ],
            [
             1,
             "#f0f921"
            ]
           ]
          },
          "colorway": [
           "#636efa",
           "#EF553B",
           "#00cc96",
           "#ab63fa",
           "#FFA15A",
           "#19d3f3",
           "#FF6692",
           "#B6E880",
           "#FF97FF",
           "#FECB52"
          ],
          "font": {
           "color": "#2a3f5f"
          },
          "geo": {
           "bgcolor": "white",
           "lakecolor": "white",
           "landcolor": "#E5ECF6",
           "showlakes": true,
           "showland": true,
           "subunitcolor": "white"
          },
          "hoverlabel": {
           "align": "left"
          },
          "hovermode": "closest",
          "mapbox": {
           "style": "light"
          },
          "paper_bgcolor": "white",
          "plot_bgcolor": "#E5ECF6",
          "polar": {
           "angularaxis": {
            "gridcolor": "white",
            "linecolor": "white",
            "ticks": ""
           },
           "bgcolor": "#E5ECF6",
           "radialaxis": {
            "gridcolor": "white",
            "linecolor": "white",
            "ticks": ""
           }
          },
          "scene": {
           "xaxis": {
            "backgroundcolor": "#E5ECF6",
            "gridcolor": "white",
            "gridwidth": 2,
            "linecolor": "white",
            "showbackground": true,
            "ticks": "",
            "zerolinecolor": "white"
           },
           "yaxis": {
            "backgroundcolor": "#E5ECF6",
            "gridcolor": "white",
            "gridwidth": 2,
            "linecolor": "white",
            "showbackground": true,
            "ticks": "",
            "zerolinecolor": "white"
           },
           "zaxis": {
            "backgroundcolor": "#E5ECF6",
            "gridcolor": "white",
            "gridwidth": 2,
            "linecolor": "white",
            "showbackground": true,
            "ticks": "",
            "zerolinecolor": "white"
           }
          },
          "shapedefaults": {
           "line": {
            "color": "#2a3f5f"
           }
          },
          "ternary": {
           "aaxis": {
            "gridcolor": "white",
            "linecolor": "white",
            "ticks": ""
           },
           "baxis": {
            "gridcolor": "white",
            "linecolor": "white",
            "ticks": ""
           },
           "bgcolor": "#E5ECF6",
           "caxis": {
            "gridcolor": "white",
            "linecolor": "white",
            "ticks": ""
           }
          },
          "title": {
           "x": 0.05
          },
          "xaxis": {
           "automargin": true,
           "gridcolor": "white",
           "linecolor": "white",
           "ticks": "",
           "title": {
            "standoff": 15
           },
           "zerolinecolor": "white",
           "zerolinewidth": 2
          },
          "yaxis": {
           "automargin": true,
           "gridcolor": "white",
           "linecolor": "white",
           "ticks": "",
           "title": {
            "standoff": 15
           },
           "zerolinecolor": "white",
           "zerolinewidth": 2
          }
         }
        },
        "xaxis": {
         "anchor": "y",
         "domain": [
          0,
          1
         ],
         "title": {
          "text": "users"
         }
        },
        "yaxis": {
         "anchor": "x",
         "domain": [
          0,
          1
         ],
         "title": {
          "text": "event_name"
         }
        }
       }
      }
     },
     "metadata": {},
     "output_type": "display_data"
    }
   ],
   "source": [
    "px.funnel(events_users_count, x='users', y='event_name')"
   ]
  },
  {
   "cell_type": "markdown",
   "metadata": {},
   "source": [
    "### Вывод"
   ]
  },
  {
   "cell_type": "markdown",
   "metadata": {},
   "source": [
    "По результатам исследования продуктовой воронки установили, что больше всего пользователей теряется на шаге OffersScreenAppear,а всего до шага оплаты доходит 47,7% пользователей."
   ]
  },
  {
   "cell_type": "markdown",
   "metadata": {},
   "source": [
    "## Изучение результатов А/А/В-теста"
   ]
  },
  {
   "cell_type": "code",
   "execution_count": 59,
   "metadata": {},
   "outputs": [
    {
     "data": {
      "text/plain": [
       "group\n",
       "A1    2484\n",
       "A2    2513\n",
       "B     2537\n",
       "Name: user_id, dtype: int64"
      ]
     },
     "execution_count": 59,
     "metadata": {},
     "output_type": "execute_result"
    }
   ],
   "source": [
    "#Количество пользователей в каждой из групп\n",
    "users_per_group"
   ]
  },
  {
   "cell_type": "code",
   "execution_count": 60,
   "metadata": {},
   "outputs": [
    {
     "data": {
      "text/plain": [
       "array([1], dtype=int64)"
      ]
     },
     "execution_count": 60,
     "metadata": {},
     "output_type": "execute_result"
    }
   ],
   "source": [
    "#Проверим, что каждый пользователь состоит лишь в одной группе\n",
    "df_filtered.groupby('user_id')['group'].nunique().unique()"
   ]
  },
  {
   "cell_type": "code",
   "execution_count": 61,
   "metadata": {},
   "outputs": [],
   "source": [
    "#Разделим выборку по группам\n",
    "group_A1 = df_filtered[df_filtered['group']=='A1']\n",
    "group_A2 = df_filtered[df_filtered['group']=='A2']\n",
    "group_B = df_filtered[df_filtered['group']=='B']"
   ]
  },
  {
   "cell_type": "markdown",
   "metadata": {},
   "source": [
    "Выберем самое популярное событие."
   ]
  },
  {
   "cell_type": "code",
   "execution_count": 62,
   "metadata": {},
   "outputs": [
    {
     "data": {
      "text/plain": [
       "event_name\n",
       "MainScreenAppear           7419\n",
       "OffersScreenAppear         4593\n",
       "CartScreenAppear           3734\n",
       "PaymentScreenSuccessful    3539\n",
       "Tutorial                    840\n",
       "Name: user_id, dtype: int64"
      ]
     },
     "execution_count": 62,
     "metadata": {},
     "output_type": "execute_result"
    }
   ],
   "source": [
    "df_filtered.groupby('event_name')['user_id'].nunique().sort_values(ascending=False)"
   ]
  },
  {
   "cell_type": "markdown",
   "metadata": {},
   "source": [
    "Посчитаем число пользователей, совершивших это событие в каждой из контрольных групп. Посчитаем долю пользователей, совершивших это событие."
   ]
  },
  {
   "cell_type": "code",
   "execution_count": 63,
   "metadata": {},
   "outputs": [
    {
     "name": "stdout",
     "output_type": "stream",
     "text": [
      "Число пользователей, совершиших событие MainScreenAppear в группе А1: 2450\n",
      "Число пользователей, совершиших событие MainScreenAppear в группе А2: 2476\n",
      "Число пользователей, совершиших событие MainScreenAppear в группе В: 2493\n"
     ]
    }
   ],
   "source": [
    "print('Число пользователей, совершиших событие MainScreenAppear в группе А1:',group_A1[group_A1['event_name']=='MainScreenAppear']['user_id'].nunique())\n",
    "print('Число пользователей, совершиших событие MainScreenAppear в группе А2:',group_A2[group_A2['event_name']=='MainScreenAppear']['user_id'].nunique())\n",
    "print('Число пользователей, совершиших событие MainScreenAppear в группе В:',group_B[group_B['event_name']=='MainScreenAppear']['user_id'].nunique())"
   ]
  },
  {
   "cell_type": "code",
   "execution_count": 64,
   "metadata": {
    "scrolled": true
   },
   "outputs": [
    {
     "name": "stdout",
     "output_type": "stream",
     "text": [
      "Доля пользователей, совершиших событие MainScreenAppear в группе А1: 98.63\n",
      "Доля пользователей, совершиших событие MainScreenAppear в группе А2: 98.53\n",
      "Доля пользователей, совершиших событие MainScreenAppear в группе B: 98.27\n"
     ]
    }
   ],
   "source": [
    "print('Доля пользователей, совершиших событие MainScreenAppear в группе А1:',round(100*group_A1[group_A1['event_name']=='MainScreenAppear']['user_id'].nunique()/group_A1['user_id'].nunique(),2))\n",
    "print('Доля пользователей, совершиших событие MainScreenAppear в группе А2:',round(100*group_A2[group_A2['event_name']=='MainScreenAppear']['user_id'].nunique()/group_A2['user_id'].nunique(),2))\n",
    "print('Доля пользователей, совершиших событие MainScreenAppear в группе B:',round(100*group_B[group_B['event_name']=='MainScreenAppear']['user_id'].nunique()/group_B['user_id'].nunique(),2))"
   ]
  },
  {
   "cell_type": "markdown",
   "metadata": {},
   "source": [
    "Посмотрим какое количество пользователей совершило каждое действие по каждой группе"
   ]
  },
  {
   "cell_type": "code",
   "execution_count": 65,
   "metadata": {},
   "outputs": [
    {
     "data": {
      "text/html": [
       "<div>\n",
       "<style scoped>\n",
       "    .dataframe tbody tr th:only-of-type {\n",
       "        vertical-align: middle;\n",
       "    }\n",
       "\n",
       "    .dataframe tbody tr th {\n",
       "        vertical-align: top;\n",
       "    }\n",
       "\n",
       "    .dataframe thead th {\n",
       "        text-align: right;\n",
       "    }\n",
       "</style>\n",
       "<table border=\"1\" class=\"dataframe\">\n",
       "  <thead>\n",
       "    <tr style=\"text-align: right;\">\n",
       "      <th>group</th>\n",
       "      <th>A1</th>\n",
       "      <th>A2</th>\n",
       "      <th>B</th>\n",
       "    </tr>\n",
       "    <tr>\n",
       "      <th>event_name</th>\n",
       "      <th></th>\n",
       "      <th></th>\n",
       "      <th></th>\n",
       "    </tr>\n",
       "  </thead>\n",
       "  <tbody>\n",
       "    <tr>\n",
       "      <th>MainScreenAppear</th>\n",
       "      <td>2450</td>\n",
       "      <td>2476</td>\n",
       "      <td>2493</td>\n",
       "    </tr>\n",
       "    <tr>\n",
       "      <th>OffersScreenAppear</th>\n",
       "      <td>1542</td>\n",
       "      <td>1520</td>\n",
       "      <td>1531</td>\n",
       "    </tr>\n",
       "    <tr>\n",
       "      <th>CartScreenAppear</th>\n",
       "      <td>1266</td>\n",
       "      <td>1238</td>\n",
       "      <td>1230</td>\n",
       "    </tr>\n",
       "    <tr>\n",
       "      <th>PaymentScreenSuccessful</th>\n",
       "      <td>1200</td>\n",
       "      <td>1158</td>\n",
       "      <td>1181</td>\n",
       "    </tr>\n",
       "    <tr>\n",
       "      <th>Tutorial</th>\n",
       "      <td>278</td>\n",
       "      <td>283</td>\n",
       "      <td>279</td>\n",
       "    </tr>\n",
       "  </tbody>\n",
       "</table>\n",
       "</div>"
      ],
      "text/plain": [
       "group                      A1    A2     B\n",
       "event_name                               \n",
       "MainScreenAppear         2450  2476  2493\n",
       "OffersScreenAppear       1542  1520  1531\n",
       "CartScreenAppear         1266  1238  1230\n",
       "PaymentScreenSuccessful  1200  1158  1181\n",
       "Tutorial                  278   283   279"
      ]
     },
     "execution_count": 65,
     "metadata": {},
     "output_type": "execute_result"
    }
   ],
   "source": [
    "group_per_event_pivot = df_filtered.pivot_table(index='event_name',columns='group',values='user_id', aggfunc='nunique').sort_values(by=['A1','A2','B'],ascending=False)\n",
    "group_per_event_pivot"
   ]
  },
  {
   "cell_type": "code",
   "execution_count": 66,
   "metadata": {},
   "outputs": [
    {
     "data": {
      "image/png": "[encoded data removed]",
      "text/plain": [
       "<Figure size 864x648 with 1 Axes>"
      ]
     },
     "metadata": {
      "needs_background": "light"
     },
     "output_type": "display_data"
    }
   ],
   "source": [
    "group_per_event_pivot.plot(kind='bar',figsize=(12,9))\n",
    "plt.title('Количество пользователей по каждому действию с разбивкой по группам', fontsize=14)\n",
    "plt.xlabel('Название действия')\n",
    "plt.ylabel('Количество кникальных пользователейии')\n",
    "None"
   ]
  },
  {
   "cell_type": "markdown",
   "metadata": {},
   "source": [
    "Визуальных различий нет. Проверим стат. значимость различия между группами в разрезе каждого действия."
   ]
  },
  {
   "cell_type": "markdown",
   "metadata": {},
   "source": [
    "Проверим, находят ли статистические критерии разницу между выборками групп А1 и А2 по уникальным юзерам по каждому событию"
   ]
  },
  {
   "cell_type": "code",
   "execution_count": 67,
   "metadata": {},
   "outputs": [],
   "source": [
    "#Напишем функцию для проверки стат значимости разницы долей выборок по разным событиям\n",
    "def z_test (group_1,group_2,event_name,alpha,group_1_name,group_2_name,z_test_counter=[0]):\n",
    "    z_test_counter[0]+=1\n",
    "    all_users_group_1 = group_1['user_id'].nunique()\n",
    "    all_users_group_2 = group_2['user_id'].nunique()\n",
    "    event_success_users_group_1 = group_1[group_1['event_name']==event_name]['user_id'].nunique()\n",
    "    event_success_users_group_2 = group_2[group_2['event_name']==event_name]['user_id'].nunique()\n",
    "    # пропорция успехов в первой группе:\n",
    "    p1 = event_success_users_group_1/all_users_group_1\n",
    "    # пропорция успехов во второй группе:\n",
    "    p2 = event_success_users_group_2/all_users_group_2\n",
    "    # пропорция успехов в комбинированном датасете:\n",
    "    p_combined = (event_success_users_group_1 + event_success_users_group_2) / (all_users_group_1 + all_users_group_2)\n",
    "    # разница пропорций в датасетах\n",
    "    difference = p1 - p2 \n",
    "    # считаем статистику в ст.отклонениях стандартного нормального распределения\n",
    "    z_value = difference / mth.sqrt(p_combined * (1 - p_combined) * (1/all_users_group_1 + 1/all_users_group_2))\n",
    "    # задаем стандартное нормальное распределение (среднее 0, ст.отклонение 1)\n",
    "    distr = st.norm(0, 1)\n",
    "    p_value = (1 - distr.cdf(abs(z_value))) * 2\n",
    "    print(f'Сравнение стат. значимости долей между группой {group_1_name} и группой {group_2_name} по событию {event_name}')\n",
    "    print('Критический уровень статистической значимости:',alpha)\n",
    "    print('p-значение: ', p_value)\n",
    "    if p_value < alpha:\n",
    "        print('Отвергаем нулевую гипотезу: между долями есть значимая разница')\n",
    "    else:\n",
    "        print(\n",
    "            'Не получилось отвергнуть нулевую гипотезу, нет оснований считать доли разными'\n",
    "        )\n",
    "    print(f'Эксперимент номер {z_test_counter}') "
   ]
  },
  {
   "cell_type": "code",
   "execution_count": 68,
   "metadata": {},
   "outputs": [
    {
     "name": "stdout",
     "output_type": "stream",
     "text": [
      "Сравнение стат. значимости долей между группой A1 и группой A2 по событию MainScreenAppear\n",
      "Критический уровень статистической значимости: 0.05\n",
      "p-значение:  0.7570597232046099\n",
      "Не получилось отвергнуть нулевую гипотезу, нет оснований считать доли разными\n",
      "Эксперимент номер [1]\n"
     ]
    }
   ],
   "source": [
    "z_test(group_A1,group_A2,'MainScreenAppear',0.05,'A1','A2')"
   ]
  },
  {
   "cell_type": "code",
   "execution_count": 69,
   "metadata": {},
   "outputs": [
    {
     "name": "stdout",
     "output_type": "stream",
     "text": [
      "Сравнение стат. значимости долей между группой A1 и группой A2 по событию OffersScreenAppear\n",
      "Критический уровень статистической значимости: 0.05\n",
      "p-значение:  0.2480954578522181\n",
      "Не получилось отвергнуть нулевую гипотезу, нет оснований считать доли разными\n",
      "Эксперимент номер [2]\n"
     ]
    }
   ],
   "source": [
    "z_test(group_A1,group_A2,'OffersScreenAppear',0.05,'A1','A2')"
   ]
  },
  {
   "cell_type": "code",
   "execution_count": 70,
   "metadata": {},
   "outputs": [
    {
     "name": "stdout",
     "output_type": "stream",
     "text": [
      "Сравнение стат. значимости долей между группой A1 и группой A2 по событию CartScreenAppear\n",
      "Критический уровень статистической значимости: 0.05\n",
      "p-значение:  0.22883372237997213\n",
      "Не получилось отвергнуть нулевую гипотезу, нет оснований считать доли разными\n",
      "Эксперимент номер [3]\n"
     ]
    }
   ],
   "source": [
    "z_test(group_A1,group_A2,'CartScreenAppear',0.05,'A1','A2')"
   ]
  },
  {
   "cell_type": "code",
   "execution_count": 71,
   "metadata": {},
   "outputs": [
    {
     "name": "stdout",
     "output_type": "stream",
     "text": [
      "Сравнение стат. значимости долей между группой A1 и группой A2 по событию PaymentScreenSuccessful\n",
      "Критический уровень статистической значимости: 0.05\n",
      "p-значение:  0.11456679313141849\n",
      "Не получилось отвергнуть нулевую гипотезу, нет оснований считать доли разными\n",
      "Эксперимент номер [4]\n"
     ]
    }
   ],
   "source": [
    "z_test(group_A1,group_A2,'PaymentScreenSuccessful',0.05,'A1','A2')"
   ]
  },
  {
   "cell_type": "code",
   "execution_count": 72,
   "metadata": {},
   "outputs": [
    {
     "name": "stdout",
     "output_type": "stream",
     "text": [
      "Сравнение стат. значимости долей между группой A1 и группой A2 по событию Tutorial\n",
      "Критический уровень статистической значимости: 0.05\n",
      "p-значение:  0.9376996189257114\n",
      "Не получилось отвергнуть нулевую гипотезу, нет оснований считать доли разными\n",
      "Эксперимент номер [5]\n"
     ]
    }
   ],
   "source": [
    "z_test(group_A1,group_A2,'Tutorial',0.05,'A1','A2')"
   ]
  },
  {
   "cell_type": "markdown",
   "metadata": {},
   "source": [
    "Z-тест не показал статистически значимых отличий между выборками А1 и А2. Считаем, что разбиение на контрольные группы корректно."
   ]
  },
  {
   "cell_type": "markdown",
   "metadata": {},
   "source": [
    "Теперь сравним результаты с каждой из контрольных групп в отдельности по каждому событию с наблюдаемой группой (В). Tutorial проверять не будем, т.к. считаем что он необязательный"
   ]
  },
  {
   "cell_type": "code",
   "execution_count": 73,
   "metadata": {},
   "outputs": [
    {
     "name": "stdout",
     "output_type": "stream",
     "text": [
      "Сравнение стат. значимости долей между группой A1 и группой B по событию MainScreenAppear\n",
      "Критический уровень статистической значимости: 0.05\n",
      "p-значение:  0.2949721933554552\n",
      "Не получилось отвергнуть нулевую гипотезу, нет оснований считать доли разными\n",
      "Эксперимент номер [6]\n"
     ]
    }
   ],
   "source": [
    "z_test(group_A1,group_B,'MainScreenAppear',0.05,'A1','B')"
   ]
  },
  {
   "cell_type": "code",
   "execution_count": 74,
   "metadata": {},
   "outputs": [
    {
     "name": "stdout",
     "output_type": "stream",
     "text": [
      "Сравнение стат. значимости долей между группой A1 и группой B по событию OffersScreenAppear\n",
      "Критический уровень статистической значимости: 0.05\n",
      "p-значение:  0.20836205402738917\n",
      "Не получилось отвергнуть нулевую гипотезу, нет оснований считать доли разными\n",
      "Эксперимент номер [7]\n"
     ]
    }
   ],
   "source": [
    "z_test(group_A1,group_B,'OffersScreenAppear',0.05,'A1','B')"
   ]
  },
  {
   "cell_type": "code",
   "execution_count": 75,
   "metadata": {},
   "outputs": [
    {
     "name": "stdout",
     "output_type": "stream",
     "text": [
      "Сравнение стат. значимости долей между группой A1 и группой B по событию CartScreenAppear\n",
      "Критический уровень статистической значимости: 0.05\n",
      "p-значение:  0.07842923237520116\n",
      "Не получилось отвергнуть нулевую гипотезу, нет оснований считать доли разными\n",
      "Эксперимент номер [8]\n"
     ]
    }
   ],
   "source": [
    "z_test(group_A1,group_B,'CartScreenAppear',0.05,'A1','B')"
   ]
  },
  {
   "cell_type": "code",
   "execution_count": 76,
   "metadata": {},
   "outputs": [
    {
     "name": "stdout",
     "output_type": "stream",
     "text": [
      "Сравнение стат. значимости долей между группой A1 и группой B по событию PaymentScreenSuccessful\n",
      "Критический уровень статистической значимости: 0.05\n",
      "p-значение:  0.2122553275697796\n",
      "Не получилось отвергнуть нулевую гипотезу, нет оснований считать доли разными\n",
      "Эксперимент номер [9]\n"
     ]
    }
   ],
   "source": [
    "z_test(group_A1,group_B,'PaymentScreenSuccessful',0.05,'A1','B')"
   ]
  },
  {
   "cell_type": "code",
   "execution_count": 77,
   "metadata": {},
   "outputs": [
    {
     "name": "stdout",
     "output_type": "stream",
     "text": [
      "Сравнение стат. значимости долей между группой A2 и группой B по событию MainScreenAppear\n",
      "Критический уровень статистической значимости: 0.05\n",
      "p-значение:  0.4587053616621515\n",
      "Не получилось отвергнуть нулевую гипотезу, нет оснований считать доли разными\n",
      "Эксперимент номер [10]\n"
     ]
    }
   ],
   "source": [
    "z_test(group_A2,group_B,'MainScreenAppear',0.05,'A2','B')"
   ]
  },
  {
   "cell_type": "code",
   "execution_count": 78,
   "metadata": {},
   "outputs": [
    {
     "name": "stdout",
     "output_type": "stream",
     "text": [
      "Сравнение стат. значимости долей между группой A2 и группой B по событию OffersScreenAppear\n",
      "Критический уровень статистической значимости: 0.05\n",
      "p-значение:  0.9197817830592261\n",
      "Не получилось отвергнуть нулевую гипотезу, нет оснований считать доли разными\n",
      "Эксперимент номер [11]\n"
     ]
    }
   ],
   "source": [
    "z_test(group_A2,group_B,'OffersScreenAppear',0.05,'A2','B')"
   ]
  },
  {
   "cell_type": "code",
   "execution_count": 79,
   "metadata": {},
   "outputs": [
    {
     "name": "stdout",
     "output_type": "stream",
     "text": [
      "Сравнение стат. значимости долей между группой A2 и группой B по событию CartScreenAppear\n",
      "Критический уровень статистической значимости: 0.05\n",
      "p-значение:  0.5786197879539783\n",
      "Не получилось отвергнуть нулевую гипотезу, нет оснований считать доли разными\n",
      "Эксперимент номер [12]\n"
     ]
    }
   ],
   "source": [
    "z_test(group_A2,group_B,'CartScreenAppear',0.05,'A2','B')"
   ]
  },
  {
   "cell_type": "code",
   "execution_count": 80,
   "metadata": {},
   "outputs": [
    {
     "name": "stdout",
     "output_type": "stream",
     "text": [
      "Сравнение стат. значимости долей между группой A2 и группой B по событию PaymentScreenSuccessful\n",
      "Критический уровень статистической значимости: 0.05\n",
      "p-значение:  0.7373415053803964\n",
      "Не получилось отвергнуть нулевую гипотезу, нет оснований считать доли разными\n",
      "Эксперимент номер [13]\n"
     ]
    }
   ],
   "source": [
    "z_test(group_A2,group_B,'PaymentScreenSuccessful',0.05,'A2','B')"
   ]
  },
  {
   "cell_type": "markdown",
   "metadata": {},
   "source": [
    "Статистически знамиых различий между контрольными группами А1 и А2 и группой В не выявлено. Проверим то же самое для объединённой контрольной групы А1+А2 и группы В"
   ]
  },
  {
   "cell_type": "code",
   "execution_count": 81,
   "metadata": {},
   "outputs": [],
   "source": [
    "group_A1_A2 = df_filtered[df_filtered['group']!='B']"
   ]
  },
  {
   "cell_type": "code",
   "execution_count": 82,
   "metadata": {},
   "outputs": [
    {
     "name": "stdout",
     "output_type": "stream",
     "text": [
      "Сравнение стат. значимости долей между группой A1+A2 и группой B по событию MainScreenAppear\n",
      "Критический уровень статистической значимости: 0.05\n",
      "p-значение:  0.29424526837179577\n",
      "Не получилось отвергнуть нулевую гипотезу, нет оснований считать доли разными\n",
      "Эксперимент номер [14]\n"
     ]
    }
   ],
   "source": [
    "z_test(group_A1_A2,group_B,'MainScreenAppear',0.05,'A1+A2','B')"
   ]
  },
  {
   "cell_type": "code",
   "execution_count": 83,
   "metadata": {},
   "outputs": [
    {
     "name": "stdout",
     "output_type": "stream",
     "text": [
      "Сравнение стат. значимости долей между группой A1+A2 и группой B по событию OffersScreenAppear\n",
      "Критический уровень статистической значимости: 0.05\n",
      "p-значение:  0.43425549655188256\n",
      "Не получилось отвергнуть нулевую гипотезу, нет оснований считать доли разными\n",
      "Эксперимент номер [15]\n"
     ]
    }
   ],
   "source": [
    "z_test(group_A1_A2,group_B,'OffersScreenAppear',0.05,'A1+A2','B')"
   ]
  },
  {
   "cell_type": "code",
   "execution_count": 84,
   "metadata": {},
   "outputs": [
    {
     "name": "stdout",
     "output_type": "stream",
     "text": [
      "Сравнение стат. значимости долей между группой A1+A2 и группой B по событию CartScreenAppear\n",
      "Критический уровень статистической значимости: 0.05\n",
      "p-значение:  0.18175875284404386\n",
      "Не получилось отвергнуть нулевую гипотезу, нет оснований считать доли разными\n",
      "Эксперимент номер [16]\n"
     ]
    }
   ],
   "source": [
    "z_test(group_A1_A2,group_B,'CartScreenAppear',0.05,'A1+A2','B')"
   ]
  },
  {
   "cell_type": "code",
   "execution_count": 85,
   "metadata": {},
   "outputs": [
    {
     "name": "stdout",
     "output_type": "stream",
     "text": [
      "Сравнение стат. значимости долей между группой A1+A2 и группой B по событию PaymentScreenSuccessful\n",
      "Критический уровень статистической значимости: 0.05\n",
      "p-значение:  0.6004294282308704\n",
      "Не получилось отвергнуть нулевую гипотезу, нет оснований считать доли разными\n",
      "Эксперимент номер [17]\n"
     ]
    }
   ],
   "source": [
    "z_test(group_A1_A2,group_B,'PaymentScreenSuccessful',0.05,'A1+A2','B')"
   ]
  },
  {
   "cell_type": "markdown",
   "metadata": {},
   "source": [
    "Стат. значимых различий между объединённой контрольной группой А1+А2 и группой В нет."
   ]
  },
  {
   "cell_type": "markdown",
   "metadata": {},
   "source": [
    "Суммарно было проведено 17 проверок с уровнем стат. значимости 5%. При применении уровня значимости 10%, основываясь на предыдущих экспериментах, проверку не пройдёт только 1 эксперимент \"Сравнение стат. значимости долей между группой A1 и группой B по событию CartScreenAppear\", остальные будут успешными. Оставим значение значимости в 5%."
   ]
  },
  {
   "cell_type": "markdown",
   "metadata": {},
   "source": [
    "### Вывод"
   ]
  },
  {
   "cell_type": "markdown",
   "metadata": {},
   "source": [
    "Статистически значимых различий между конверсиями групп А1, А2 и В не обнаружено, показатели примерно одинаковые. Можем сделать вывод, что изменение шрифтов в приложении никак не влияет на конверсию пользователей и оставить любой из вариантов шрифтов."
   ]
  }
 ],
 "metadata": {
  "ExecuteTimeLog": [
   {
    "duration": 1248,
    "start_time": "2022-10-05T12:54:05.168Z"
   },
   {
    "duration": 132,
    "start_time": "2022-10-05T12:54:25.437Z"
   },
   {
    "duration": 648,
    "start_time": "2022-10-05T12:54:45.614Z"
   },
   {
    "duration": 334,
    "start_time": "2022-10-05T12:54:58.308Z"
   },
   {
    "duration": 170,
    "start_time": "2022-10-05T12:55:09.436Z"
   },
   {
    "duration": 20,
    "start_time": "2022-10-05T12:55:22.011Z"
   },
   {
    "duration": 57,
    "start_time": "2022-10-05T12:56:39.087Z"
   },
   {
    "duration": 63,
    "start_time": "2022-10-05T12:56:47.064Z"
   },
   {
    "duration": 61,
    "start_time": "2022-10-05T12:56:52.944Z"
   },
   {
    "duration": 49,
    "start_time": "2022-10-05T12:57:19.413Z"
   },
   {
    "duration": 295,
    "start_time": "2022-10-05T13:01:18.556Z"
   },
   {
    "duration": 291,
    "start_time": "2022-10-05T13:01:24.593Z"
   },
   {
    "duration": 3,
    "start_time": "2022-10-05T13:02:02.963Z"
   },
   {
    "duration": 9,
    "start_time": "2022-10-05T13:02:08.445Z"
   },
   {
    "duration": 3,
    "start_time": "2022-10-05T13:02:13.876Z"
   },
   {
    "duration": 3,
    "start_time": "2022-10-05T13:02:32.314Z"
   },
   {
    "duration": 11,
    "start_time": "2022-10-05T13:03:02.674Z"
   },
   {
    "duration": 34,
    "start_time": "2022-10-05T13:03:35.881Z"
   },
   {
    "duration": 336,
    "start_time": "2022-10-05T13:03:40.551Z"
   },
   {
    "duration": 196,
    "start_time": "2022-10-05T13:03:57.004Z"
   },
   {
    "duration": 1052,
    "start_time": "2022-10-05T13:04:01.043Z"
   },
   {
    "duration": 165,
    "start_time": "2022-10-05T13:04:02.097Z"
   },
   {
    "duration": 19,
    "start_time": "2022-10-05T13:04:02.264Z"
   },
   {
    "duration": 2,
    "start_time": "2022-10-05T13:04:02.285Z"
   },
   {
    "duration": 56,
    "start_time": "2022-10-05T13:04:02.289Z"
   },
   {
    "duration": 78,
    "start_time": "2022-10-05T13:04:02.347Z"
   },
   {
    "duration": 56,
    "start_time": "2022-10-05T13:04:02.439Z"
   },
   {
    "duration": 13,
    "start_time": "2022-10-05T13:04:22.575Z"
   },
   {
    "duration": 84,
    "start_time": "2022-10-05T13:07:30.306Z"
   },
   {
    "duration": 55,
    "start_time": "2022-10-05T13:07:30.793Z"
   },
   {
    "duration": 90,
    "start_time": "2022-10-05T13:09:08.877Z"
   },
   {
    "duration": 150,
    "start_time": "2022-10-05T13:09:16.595Z"
   },
   {
    "duration": 2,
    "start_time": "2022-10-05T13:09:32.718Z"
   },
   {
    "duration": 173,
    "start_time": "2022-10-05T13:09:58.635Z"
   },
   {
    "duration": 11,
    "start_time": "2022-10-05T13:10:19.088Z"
   },
   {
    "duration": 65,
    "start_time": "2022-10-05T13:12:30.699Z"
   },
   {
    "duration": 60,
    "start_time": "2022-10-05T13:12:37.980Z"
   },
   {
    "duration": 17,
    "start_time": "2022-10-05T13:12:55.083Z"
   },
   {
    "duration": 1101,
    "start_time": "2022-10-05T13:13:00.513Z"
   },
   {
    "duration": 175,
    "start_time": "2022-10-05T13:13:01.616Z"
   },
   {
    "duration": 22,
    "start_time": "2022-10-05T13:13:01.793Z"
   },
   {
    "duration": 12,
    "start_time": "2022-10-05T13:13:01.817Z"
   },
   {
    "duration": 44,
    "start_time": "2022-10-05T13:13:01.831Z"
   },
   {
    "duration": 91,
    "start_time": "2022-10-05T13:13:01.877Z"
   },
   {
    "duration": 17,
    "start_time": "2022-10-05T13:13:01.971Z"
   },
   {
    "duration": 185,
    "start_time": "2022-10-05T13:13:01.989Z"
   },
   {
    "duration": 96,
    "start_time": "2022-10-05T13:13:02.176Z"
   },
   {
    "duration": 138,
    "start_time": "2022-10-05T13:13:12.964Z"
   },
   {
    "duration": 1314,
    "start_time": "2022-10-05T13:14:54.163Z"
   },
   {
    "duration": 79,
    "start_time": "2022-10-05T13:15:03.753Z"
   },
   {
    "duration": 74,
    "start_time": "2022-10-05T13:15:55.707Z"
   },
   {
    "duration": 75,
    "start_time": "2022-10-05T13:16:06.507Z"
   },
   {
    "duration": 69,
    "start_time": "2022-10-05T13:16:15.356Z"
   },
   {
    "duration": 95,
    "start_time": "2022-10-05T13:16:19.799Z"
   },
   {
    "duration": 84,
    "start_time": "2022-10-05T13:16:30.840Z"
   },
   {
    "duration": 108,
    "start_time": "2022-10-05T13:16:39.711Z"
   },
   {
    "duration": 118,
    "start_time": "2022-10-05T13:16:44.180Z"
   },
   {
    "duration": 118,
    "start_time": "2022-10-05T13:17:23.705Z"
   },
   {
    "duration": 130,
    "start_time": "2022-10-05T13:17:35.337Z"
   },
   {
    "duration": 11,
    "start_time": "2022-10-05T13:19:23.798Z"
   },
   {
    "duration": 12,
    "start_time": "2022-10-05T13:19:26.648Z"
   },
   {
    "duration": 15,
    "start_time": "2022-10-05T13:19:38.672Z"
   },
   {
    "duration": 12,
    "start_time": "2022-10-05T13:19:40.282Z"
   },
   {
    "duration": 1078,
    "start_time": "2022-10-05T13:21:47.424Z"
   },
   {
    "duration": 191,
    "start_time": "2022-10-05T13:21:48.504Z"
   },
   {
    "duration": 23,
    "start_time": "2022-10-05T13:21:48.697Z"
   },
   {
    "duration": 16,
    "start_time": "2022-10-05T13:21:48.722Z"
   },
   {
    "duration": 18,
    "start_time": "2022-10-05T13:21:48.741Z"
   },
   {
    "duration": 100,
    "start_time": "2022-10-05T13:21:48.761Z"
   },
   {
    "duration": 17,
    "start_time": "2022-10-05T13:21:48.863Z"
   },
   {
    "duration": 168,
    "start_time": "2022-10-05T13:21:48.881Z"
   },
   {
    "duration": 133,
    "start_time": "2022-10-05T13:21:49.050Z"
   },
   {
    "duration": 29,
    "start_time": "2022-10-05T13:21:49.185Z"
   },
   {
    "duration": 1173,
    "start_time": "2022-10-05T13:22:03.621Z"
   },
   {
    "duration": 191,
    "start_time": "2022-10-05T13:22:04.796Z"
   },
   {
    "duration": 21,
    "start_time": "2022-10-05T13:22:04.989Z"
   },
   {
    "duration": 3,
    "start_time": "2022-10-05T13:22:05.012Z"
   },
   {
    "duration": 31,
    "start_time": "2022-10-05T13:22:05.018Z"
   },
   {
    "duration": 94,
    "start_time": "2022-10-05T13:22:05.051Z"
   },
   {
    "duration": 15,
    "start_time": "2022-10-05T13:22:05.146Z"
   },
   {
    "duration": 166,
    "start_time": "2022-10-05T13:22:05.163Z"
   },
   {
    "duration": 133,
    "start_time": "2022-10-05T13:22:05.330Z"
   },
   {
    "duration": 30,
    "start_time": "2022-10-05T13:22:05.465Z"
   },
   {
    "duration": 95,
    "start_time": "2022-10-05T13:22:20.494Z"
   },
   {
    "duration": 1013,
    "start_time": "2022-10-05T13:22:24.677Z"
   },
   {
    "duration": 170,
    "start_time": "2022-10-05T13:22:25.692Z"
   },
   {
    "duration": 20,
    "start_time": "2022-10-05T13:22:25.864Z"
   },
   {
    "duration": 3,
    "start_time": "2022-10-05T13:22:25.887Z"
   },
   {
    "duration": 25,
    "start_time": "2022-10-05T13:22:25.891Z"
   },
   {
    "duration": 94,
    "start_time": "2022-10-05T13:22:25.917Z"
   },
   {
    "duration": 28,
    "start_time": "2022-10-05T13:22:26.012Z"
   },
   {
    "duration": 163,
    "start_time": "2022-10-05T13:22:26.041Z"
   },
   {
    "duration": 137,
    "start_time": "2022-10-05T13:22:26.205Z"
   },
   {
    "duration": 45,
    "start_time": "2022-10-05T13:22:26.345Z"
   },
   {
    "duration": 1239,
    "start_time": "2022-10-06T06:12:39.351Z"
   },
   {
    "duration": 745,
    "start_time": "2022-10-06T06:12:40.592Z"
   },
   {
    "duration": 20,
    "start_time": "2022-10-06T06:12:41.339Z"
   },
   {
    "duration": 24,
    "start_time": "2022-10-06T06:12:41.361Z"
   },
   {
    "duration": 38,
    "start_time": "2022-10-06T06:12:41.387Z"
   },
   {
    "duration": 79,
    "start_time": "2022-10-06T06:12:41.426Z"
   },
   {
    "duration": 27,
    "start_time": "2022-10-06T06:12:41.508Z"
   },
   {
    "duration": 163,
    "start_time": "2022-10-06T06:12:41.548Z"
   },
   {
    "duration": 117,
    "start_time": "2022-10-06T06:12:41.713Z"
   },
   {
    "duration": 42,
    "start_time": "2022-10-06T06:12:41.831Z"
   },
   {
    "duration": 24,
    "start_time": "2022-10-06T07:13:38.414Z"
   },
   {
    "duration": 10,
    "start_time": "2022-10-06T07:14:47.455Z"
   },
   {
    "duration": 99,
    "start_time": "2022-10-06T07:15:46.468Z"
   },
   {
    "duration": 15,
    "start_time": "2022-10-06T07:16:02.435Z"
   },
   {
    "duration": 31,
    "start_time": "2022-10-06T07:16:05.745Z"
   },
   {
    "duration": 21,
    "start_time": "2022-10-06T07:16:14.237Z"
   },
   {
    "duration": 18,
    "start_time": "2022-10-06T07:16:37.979Z"
   },
   {
    "duration": 17,
    "start_time": "2022-10-06T07:17:04.161Z"
   },
   {
    "duration": 19,
    "start_time": "2022-10-06T07:17:06.049Z"
   },
   {
    "duration": 22,
    "start_time": "2022-10-06T07:17:10.408Z"
   },
   {
    "duration": 16,
    "start_time": "2022-10-06T07:17:43.393Z"
   },
   {
    "duration": 72,
    "start_time": "2022-10-06T07:18:45.988Z"
   },
   {
    "duration": 73,
    "start_time": "2022-10-06T07:19:34.013Z"
   },
   {
    "duration": 85,
    "start_time": "2022-10-06T07:19:45.782Z"
   },
   {
    "duration": 441,
    "start_time": "2022-10-06T07:20:14.802Z"
   },
   {
    "duration": 86,
    "start_time": "2022-10-06T07:20:22.211Z"
   },
   {
    "duration": 117,
    "start_time": "2022-10-06T07:20:44.027Z"
   },
   {
    "duration": 4,
    "start_time": "2022-10-06T07:21:05.229Z"
   },
   {
    "duration": 99,
    "start_time": "2022-10-06T07:21:11.485Z"
   },
   {
    "duration": 6,
    "start_time": "2022-10-06T07:21:22.039Z"
   },
   {
    "duration": 76,
    "start_time": "2022-10-06T07:21:45.541Z"
   },
   {
    "duration": 70,
    "start_time": "2022-10-06T07:21:51.770Z"
   },
   {
    "duration": 83,
    "start_time": "2022-10-06T07:21:55.675Z"
   },
   {
    "duration": 4,
    "start_time": "2022-10-06T07:23:08.527Z"
   },
   {
    "duration": 6,
    "start_time": "2022-10-06T07:24:13.416Z"
   },
   {
    "duration": 3,
    "start_time": "2022-10-06T07:24:25.491Z"
   },
   {
    "duration": 6,
    "start_time": "2022-10-06T07:24:34.041Z"
   },
   {
    "duration": 6,
    "start_time": "2022-10-06T07:24:48.596Z"
   },
   {
    "duration": 210,
    "start_time": "2022-10-06T07:25:28.579Z"
   },
   {
    "duration": 9,
    "start_time": "2022-10-06T07:25:48.068Z"
   },
   {
    "duration": 141,
    "start_time": "2022-10-06T07:26:01.350Z"
   },
   {
    "duration": 179,
    "start_time": "2022-10-06T07:29:08.851Z"
   },
   {
    "duration": 166,
    "start_time": "2022-10-06T07:29:13.723Z"
   },
   {
    "duration": 175,
    "start_time": "2022-10-06T07:29:19.999Z"
   },
   {
    "duration": 182,
    "start_time": "2022-10-06T07:31:14.744Z"
   },
   {
    "duration": 204,
    "start_time": "2022-10-06T07:31:23.534Z"
   },
   {
    "duration": 181,
    "start_time": "2022-10-06T07:32:13.620Z"
   },
   {
    "duration": 185,
    "start_time": "2022-10-06T07:33:18.506Z"
   },
   {
    "duration": 325,
    "start_time": "2022-10-06T07:33:25.961Z"
   },
   {
    "duration": 65,
    "start_time": "2022-10-06T07:37:18.516Z"
   },
   {
    "duration": 94,
    "start_time": "2022-10-06T07:37:37.714Z"
   },
   {
    "duration": 15,
    "start_time": "2022-10-06T07:38:06.708Z"
   },
   {
    "duration": 25,
    "start_time": "2022-10-06T07:38:29.845Z"
   },
   {
    "duration": 68,
    "start_time": "2022-10-06T07:39:16.965Z"
   },
   {
    "duration": 43,
    "start_time": "2022-10-06T07:39:22.746Z"
   },
   {
    "duration": 107,
    "start_time": "2022-10-06T07:39:44.666Z"
   },
   {
    "duration": 22,
    "start_time": "2022-10-06T07:39:48.053Z"
   },
   {
    "duration": 25,
    "start_time": "2022-10-06T07:39:56.442Z"
   },
   {
    "duration": 43,
    "start_time": "2022-10-06T07:40:17.709Z"
   },
   {
    "duration": 45,
    "start_time": "2022-10-06T07:40:33.695Z"
   },
   {
    "duration": 18,
    "start_time": "2022-10-06T07:40:46.144Z"
   },
   {
    "duration": 11,
    "start_time": "2022-10-06T07:41:04.208Z"
   },
   {
    "duration": 30,
    "start_time": "2022-10-06T07:41:14.667Z"
   },
   {
    "duration": 23,
    "start_time": "2022-10-06T07:41:32.746Z"
   },
   {
    "duration": 23,
    "start_time": "2022-10-06T07:41:39.400Z"
   },
   {
    "duration": 23,
    "start_time": "2022-10-06T07:41:56.558Z"
   },
   {
    "duration": 41,
    "start_time": "2022-10-06T07:43:01.531Z"
   },
   {
    "duration": 114,
    "start_time": "2022-10-06T07:43:29.645Z"
   },
   {
    "duration": 32,
    "start_time": "2022-10-06T07:43:46.327Z"
   },
   {
    "duration": 36,
    "start_time": "2022-10-06T07:43:53.736Z"
   },
   {
    "duration": 31,
    "start_time": "2022-10-06T07:44:44.530Z"
   },
   {
    "duration": 10,
    "start_time": "2022-10-06T07:48:25.897Z"
   },
   {
    "duration": 10,
    "start_time": "2022-10-06T07:48:34.021Z"
   },
   {
    "duration": 1059,
    "start_time": "2022-10-06T07:52:57.498Z"
   },
   {
    "duration": 149,
    "start_time": "2022-10-06T07:52:58.559Z"
   },
   {
    "duration": 16,
    "start_time": "2022-10-06T07:52:58.710Z"
   },
   {
    "duration": 3,
    "start_time": "2022-10-06T07:52:58.728Z"
   },
   {
    "duration": 16,
    "start_time": "2022-10-06T07:52:58.732Z"
   },
   {
    "duration": 79,
    "start_time": "2022-10-06T07:52:58.749Z"
   },
   {
    "duration": 13,
    "start_time": "2022-10-06T07:52:58.830Z"
   },
   {
    "duration": 155,
    "start_time": "2022-10-06T07:52:58.845Z"
   },
   {
    "duration": 121,
    "start_time": "2022-10-06T07:52:59.001Z"
   },
   {
    "duration": 41,
    "start_time": "2022-10-06T07:52:59.124Z"
   },
   {
    "duration": 22,
    "start_time": "2022-10-06T07:52:59.167Z"
   },
   {
    "duration": 30,
    "start_time": "2022-10-06T07:52:59.191Z"
   },
   {
    "duration": 16,
    "start_time": "2022-10-06T07:52:59.223Z"
   },
   {
    "duration": 4,
    "start_time": "2022-10-06T07:52:59.240Z"
   },
   {
    "duration": 283,
    "start_time": "2022-10-06T07:52:59.246Z"
   },
   {
    "duration": 36,
    "start_time": "2022-10-06T07:52:59.530Z"
   },
   {
    "duration": 5,
    "start_time": "2022-10-06T07:52:59.568Z"
   },
   {
    "duration": 21,
    "start_time": "2022-10-06T07:52:59.575Z"
   },
   {
    "duration": 46,
    "start_time": "2022-10-06T07:52:59.597Z"
   },
   {
    "duration": 20,
    "start_time": "2022-10-06T07:54:07.741Z"
   },
   {
    "duration": 1652,
    "start_time": "2022-10-06T07:54:16.068Z"
   },
   {
    "duration": 1275,
    "start_time": "2022-10-06T07:54:21.343Z"
   },
   {
    "duration": 20,
    "start_time": "2022-10-06T07:54:25.917Z"
   },
   {
    "duration": 49,
    "start_time": "2022-10-06T07:55:29.014Z"
   },
   {
    "duration": 37,
    "start_time": "2022-10-06T07:55:55.736Z"
   },
   {
    "duration": 16,
    "start_time": "2022-10-06T07:57:58.076Z"
   },
   {
    "duration": 18,
    "start_time": "2022-10-06T07:58:00.676Z"
   },
   {
    "duration": 15,
    "start_time": "2022-10-06T07:58:32.803Z"
   },
   {
    "duration": 25,
    "start_time": "2022-10-06T07:58:35.119Z"
   },
   {
    "duration": 35,
    "start_time": "2022-10-06T07:59:51.274Z"
   },
   {
    "duration": 37,
    "start_time": "2022-10-06T08:00:02.715Z"
   },
   {
    "duration": 10,
    "start_time": "2022-10-06T08:35:49.216Z"
   },
   {
    "duration": 3,
    "start_time": "2022-10-06T08:36:30.180Z"
   },
   {
    "duration": 39,
    "start_time": "2022-10-06T08:37:57.596Z"
   },
   {
    "duration": 42,
    "start_time": "2022-10-06T08:38:01.000Z"
   },
   {
    "duration": 26,
    "start_time": "2022-10-06T08:38:14.969Z"
   },
   {
    "duration": 33,
    "start_time": "2022-10-06T08:38:23.169Z"
   },
   {
    "duration": 31,
    "start_time": "2022-10-06T08:40:19.707Z"
   },
   {
    "duration": 20,
    "start_time": "2022-10-06T08:40:27.381Z"
   },
   {
    "duration": 26,
    "start_time": "2022-10-06T08:40:37.711Z"
   },
   {
    "duration": 28,
    "start_time": "2022-10-06T08:40:57.230Z"
   },
   {
    "duration": 25,
    "start_time": "2022-10-06T08:41:05.462Z"
   },
   {
    "duration": 8,
    "start_time": "2022-10-06T08:43:31.853Z"
   },
   {
    "duration": 50,
    "start_time": "2022-10-06T08:44:53.156Z"
   },
   {
    "duration": 48,
    "start_time": "2022-10-06T08:45:25.327Z"
   },
   {
    "duration": 24,
    "start_time": "2022-10-06T08:46:16.313Z"
   },
   {
    "duration": 47,
    "start_time": "2022-10-06T08:46:44.449Z"
   },
   {
    "duration": 22,
    "start_time": "2022-10-06T08:47:20.891Z"
   },
   {
    "duration": 49,
    "start_time": "2022-10-06T08:47:27.123Z"
   },
   {
    "duration": 13,
    "start_time": "2022-10-06T08:53:12.724Z"
   },
   {
    "duration": 9,
    "start_time": "2022-10-06T08:53:31.869Z"
   },
   {
    "duration": 8,
    "start_time": "2022-10-06T08:55:01.197Z"
   },
   {
    "duration": 5,
    "start_time": "2022-10-06T08:55:49.125Z"
   },
   {
    "duration": 10,
    "start_time": "2022-10-06T08:56:11.472Z"
   },
   {
    "duration": 11,
    "start_time": "2022-10-06T08:56:18.163Z"
   },
   {
    "duration": 11,
    "start_time": "2022-10-06T08:56:35.048Z"
   },
   {
    "duration": 7,
    "start_time": "2022-10-06T08:56:39.256Z"
   },
   {
    "duration": 2804,
    "start_time": "2022-10-06T09:36:06.785Z"
   },
   {
    "duration": 18,
    "start_time": "2022-10-06T09:36:33.687Z"
   },
   {
    "duration": 22,
    "start_time": "2022-10-06T09:36:46.033Z"
   },
   {
    "duration": 18,
    "start_time": "2022-10-06T09:36:50.909Z"
   },
   {
    "duration": 12,
    "start_time": "2022-10-06T09:37:18.316Z"
   },
   {
    "duration": 12,
    "start_time": "2022-10-06T09:37:42.046Z"
   },
   {
    "duration": 2,
    "start_time": "2022-10-06T09:46:36.702Z"
   },
   {
    "duration": 18,
    "start_time": "2022-10-06T09:47:17.793Z"
   },
   {
    "duration": 975,
    "start_time": "2022-10-06T09:47:35.477Z"
   },
   {
    "duration": 152,
    "start_time": "2022-10-06T09:47:36.454Z"
   },
   {
    "duration": 22,
    "start_time": "2022-10-06T09:47:36.607Z"
   },
   {
    "duration": 3,
    "start_time": "2022-10-06T09:47:36.631Z"
   },
   {
    "duration": 23,
    "start_time": "2022-10-06T09:47:36.635Z"
   },
   {
    "duration": 76,
    "start_time": "2022-10-06T09:47:36.659Z"
   },
   {
    "duration": 12,
    "start_time": "2022-10-06T09:47:36.737Z"
   },
   {
    "duration": 150,
    "start_time": "2022-10-06T09:47:36.751Z"
   },
   {
    "duration": 121,
    "start_time": "2022-10-06T09:47:36.902Z"
   },
   {
    "duration": 41,
    "start_time": "2022-10-06T09:47:37.025Z"
   },
   {
    "duration": 9,
    "start_time": "2022-10-06T09:47:37.068Z"
   },
   {
    "duration": 12,
    "start_time": "2022-10-06T09:47:37.079Z"
   },
   {
    "duration": 37,
    "start_time": "2022-10-06T09:47:37.093Z"
   },
   {
    "duration": 5,
    "start_time": "2022-10-06T09:47:37.131Z"
   },
   {
    "duration": 295,
    "start_time": "2022-10-06T09:47:37.137Z"
   },
   {
    "duration": 43,
    "start_time": "2022-10-06T09:47:37.434Z"
   },
   {
    "duration": 50,
    "start_time": "2022-10-06T09:47:37.479Z"
   },
   {
    "duration": 26,
    "start_time": "2022-10-06T09:47:37.531Z"
   },
   {
    "duration": 67,
    "start_time": "2022-10-06T09:47:37.559Z"
   },
   {
    "duration": 12,
    "start_time": "2022-10-06T09:47:37.628Z"
   },
   {
    "duration": 4,
    "start_time": "2022-10-06T09:47:37.642Z"
   },
   {
    "duration": 8,
    "start_time": "2022-10-06T09:49:09.940Z"
   },
   {
    "duration": 9,
    "start_time": "2022-10-06T09:50:48.703Z"
   },
   {
    "duration": 8,
    "start_time": "2022-10-06T09:50:51.948Z"
   },
   {
    "duration": 90,
    "start_time": "2022-10-06T09:51:08.547Z"
   },
   {
    "duration": 5,
    "start_time": "2022-10-06T09:51:13.207Z"
   },
   {
    "duration": 341,
    "start_time": "2022-10-06T09:53:01.900Z"
   },
   {
    "duration": 13,
    "start_time": "2022-10-06T09:54:11.130Z"
   },
   {
    "duration": 9,
    "start_time": "2022-10-06T09:54:28.741Z"
   },
   {
    "duration": 975,
    "start_time": "2022-10-06T09:54:34.780Z"
   },
   {
    "duration": 152,
    "start_time": "2022-10-06T09:54:35.756Z"
   },
   {
    "duration": 22,
    "start_time": "2022-10-06T09:54:35.910Z"
   },
   {
    "duration": 26,
    "start_time": "2022-10-06T09:54:35.933Z"
   },
   {
    "duration": 23,
    "start_time": "2022-10-06T09:54:35.961Z"
   },
   {
    "duration": 86,
    "start_time": "2022-10-06T09:54:35.985Z"
   },
   {
    "duration": 16,
    "start_time": "2022-10-06T09:54:36.073Z"
   },
   {
    "duration": 164,
    "start_time": "2022-10-06T09:54:36.091Z"
   },
   {
    "duration": 117,
    "start_time": "2022-10-06T09:54:36.256Z"
   },
   {
    "duration": 52,
    "start_time": "2022-10-06T09:54:36.375Z"
   },
   {
    "duration": 11,
    "start_time": "2022-10-06T09:54:36.429Z"
   },
   {
    "duration": 15,
    "start_time": "2022-10-06T09:54:36.441Z"
   },
   {
    "duration": 18,
    "start_time": "2022-10-06T09:54:36.458Z"
   },
   {
    "duration": 5,
    "start_time": "2022-10-06T09:54:36.478Z"
   },
   {
    "duration": 288,
    "start_time": "2022-10-06T09:54:36.485Z"
   },
   {
    "duration": 37,
    "start_time": "2022-10-06T09:54:36.774Z"
   },
   {
    "duration": 45,
    "start_time": "2022-10-06T09:54:36.812Z"
   },
   {
    "duration": 24,
    "start_time": "2022-10-06T09:54:36.858Z"
   },
   {
    "duration": 62,
    "start_time": "2022-10-06T09:54:36.883Z"
   },
   {
    "duration": 10,
    "start_time": "2022-10-06T09:54:36.947Z"
   },
   {
    "duration": 19,
    "start_time": "2022-10-06T09:54:36.958Z"
   },
   {
    "duration": 1555,
    "start_time": "2022-10-06T09:54:36.978Z"
   },
   {
    "duration": 0,
    "start_time": "2022-10-06T09:54:38.535Z"
   },
   {
    "duration": 1055,
    "start_time": "2022-10-06T09:55:10.199Z"
   },
   {
    "duration": 154,
    "start_time": "2022-10-06T09:55:11.256Z"
   },
   {
    "duration": 21,
    "start_time": "2022-10-06T09:55:11.411Z"
   },
   {
    "duration": 4,
    "start_time": "2022-10-06T09:55:11.433Z"
   },
   {
    "duration": 26,
    "start_time": "2022-10-06T09:55:11.438Z"
   },
   {
    "duration": 88,
    "start_time": "2022-10-06T09:55:11.465Z"
   },
   {
    "duration": 13,
    "start_time": "2022-10-06T09:55:11.555Z"
   },
   {
    "duration": 170,
    "start_time": "2022-10-06T09:55:11.570Z"
   },
   {
    "duration": 120,
    "start_time": "2022-10-06T09:55:11.741Z"
   },
   {
    "duration": 40,
    "start_time": "2022-10-06T09:55:11.863Z"
   },
   {
    "duration": 21,
    "start_time": "2022-10-06T09:55:11.904Z"
   },
   {
    "duration": 10,
    "start_time": "2022-10-06T09:55:11.927Z"
   },
   {
    "duration": 24,
    "start_time": "2022-10-06T09:55:11.939Z"
   },
   {
    "duration": 11,
    "start_time": "2022-10-06T09:55:11.964Z"
   },
   {
    "duration": 276,
    "start_time": "2022-10-06T09:55:11.977Z"
   },
   {
    "duration": 39,
    "start_time": "2022-10-06T09:55:12.254Z"
   },
   {
    "duration": 49,
    "start_time": "2022-10-06T09:55:12.294Z"
   },
   {
    "duration": 27,
    "start_time": "2022-10-06T09:55:12.344Z"
   },
   {
    "duration": 60,
    "start_time": "2022-10-06T09:55:12.373Z"
   },
   {
    "duration": 7,
    "start_time": "2022-10-06T09:55:12.435Z"
   },
   {
    "duration": 3,
    "start_time": "2022-10-06T09:55:12.444Z"
   },
   {
    "duration": 15,
    "start_time": "2022-10-06T09:55:12.448Z"
   },
   {
    "duration": 1865,
    "start_time": "2022-10-06T09:55:12.464Z"
   },
   {
    "duration": 0,
    "start_time": "2022-10-06T09:55:14.330Z"
   },
   {
    "duration": 5,
    "start_time": "2022-10-06T09:55:41.006Z"
   },
   {
    "duration": 8,
    "start_time": "2022-10-06T09:55:48.654Z"
   },
   {
    "duration": 10,
    "start_time": "2022-10-06T09:56:21.658Z"
   },
   {
    "duration": 1024,
    "start_time": "2022-10-06T09:58:36.230Z"
   },
   {
    "duration": 156,
    "start_time": "2022-10-06T09:58:37.256Z"
   },
   {
    "duration": 19,
    "start_time": "2022-10-06T09:58:37.414Z"
   },
   {
    "duration": 14,
    "start_time": "2022-10-06T09:58:37.434Z"
   },
   {
    "duration": 39,
    "start_time": "2022-10-06T09:58:37.450Z"
   },
   {
    "duration": 71,
    "start_time": "2022-10-06T09:58:37.490Z"
   },
   {
    "duration": 13,
    "start_time": "2022-10-06T09:58:37.563Z"
   },
   {
    "duration": 150,
    "start_time": "2022-10-06T09:58:37.578Z"
   },
   {
    "duration": 129,
    "start_time": "2022-10-06T09:58:37.730Z"
   },
   {
    "duration": 83,
    "start_time": "2022-10-06T09:58:37.861Z"
   },
   {
    "duration": 11,
    "start_time": "2022-10-06T09:58:37.945Z"
   },
   {
    "duration": 15,
    "start_time": "2022-10-06T09:58:37.957Z"
   },
   {
    "duration": 36,
    "start_time": "2022-10-06T09:58:37.973Z"
   },
   {
    "duration": 11,
    "start_time": "2022-10-06T09:58:38.011Z"
   },
   {
    "duration": 278,
    "start_time": "2022-10-06T09:58:38.024Z"
   },
   {
    "duration": 44,
    "start_time": "2022-10-06T09:58:38.304Z"
   },
   {
    "duration": 38,
    "start_time": "2022-10-06T09:58:38.349Z"
   },
   {
    "duration": 39,
    "start_time": "2022-10-06T09:58:38.388Z"
   },
   {
    "duration": 47,
    "start_time": "2022-10-06T09:58:38.429Z"
   },
   {
    "duration": 7,
    "start_time": "2022-10-06T09:58:38.478Z"
   },
   {
    "duration": 10,
    "start_time": "2022-10-06T09:58:38.486Z"
   },
   {
    "duration": 20,
    "start_time": "2022-10-06T09:58:38.498Z"
   },
   {
    "duration": 1379,
    "start_time": "2022-10-06T09:58:38.522Z"
   },
   {
    "duration": 1057,
    "start_time": "2022-10-06T09:59:14.568Z"
   },
   {
    "duration": 149,
    "start_time": "2022-10-06T09:59:15.627Z"
   },
   {
    "duration": 16,
    "start_time": "2022-10-06T09:59:15.777Z"
   },
   {
    "duration": 3,
    "start_time": "2022-10-06T09:59:15.795Z"
   },
   {
    "duration": 27,
    "start_time": "2022-10-06T09:59:15.799Z"
   },
   {
    "duration": 70,
    "start_time": "2022-10-06T09:59:15.827Z"
   },
   {
    "duration": 12,
    "start_time": "2022-10-06T09:59:15.898Z"
   },
   {
    "duration": 157,
    "start_time": "2022-10-06T09:59:15.922Z"
   },
   {
    "duration": 148,
    "start_time": "2022-10-06T09:59:16.081Z"
   },
   {
    "duration": 46,
    "start_time": "2022-10-06T09:59:16.232Z"
   },
   {
    "duration": 11,
    "start_time": "2022-10-06T09:59:16.280Z"
   },
   {
    "duration": 29,
    "start_time": "2022-10-06T09:59:16.293Z"
   },
   {
    "duration": 16,
    "start_time": "2022-10-06T09:59:16.324Z"
   },
   {
    "duration": 5,
    "start_time": "2022-10-06T09:59:16.342Z"
   },
   {
    "duration": 275,
    "start_time": "2022-10-06T09:59:16.348Z"
   },
   {
    "duration": 37,
    "start_time": "2022-10-06T09:59:16.624Z"
   },
   {
    "duration": 37,
    "start_time": "2022-10-06T09:59:16.662Z"
   },
   {
    "duration": 40,
    "start_time": "2022-10-06T09:59:16.701Z"
   },
   {
    "duration": 49,
    "start_time": "2022-10-06T09:59:16.742Z"
   },
   {
    "duration": 29,
    "start_time": "2022-10-06T09:59:16.793Z"
   },
   {
    "duration": 3,
    "start_time": "2022-10-06T09:59:16.823Z"
   },
   {
    "duration": 15,
    "start_time": "2022-10-06T09:59:16.828Z"
   },
   {
    "duration": 17,
    "start_time": "2022-10-06T09:59:16.844Z"
   },
   {
    "duration": 4,
    "start_time": "2022-10-06T10:00:12.643Z"
   },
   {
    "duration": 12,
    "start_time": "2022-10-06T10:00:18.144Z"
   },
   {
    "duration": 10,
    "start_time": "2022-10-06T10:00:24.263Z"
   },
   {
    "duration": 9,
    "start_time": "2022-10-06T10:00:40.199Z"
   },
   {
    "duration": 10,
    "start_time": "2022-10-06T10:00:43.370Z"
   },
   {
    "duration": 9,
    "start_time": "2022-10-06T10:00:44.347Z"
   },
   {
    "duration": 8,
    "start_time": "2022-10-06T10:00:45.841Z"
   },
   {
    "duration": 5,
    "start_time": "2022-10-06T10:03:51.192Z"
   },
   {
    "duration": 6,
    "start_time": "2022-10-06T10:04:31.041Z"
   },
   {
    "duration": 5,
    "start_time": "2022-10-06T10:05:20.070Z"
   },
   {
    "duration": 10,
    "start_time": "2022-10-06T10:05:36.429Z"
   },
   {
    "duration": 90,
    "start_time": "2022-10-06T10:05:48.064Z"
   },
   {
    "duration": 9,
    "start_time": "2022-10-06T10:06:00.119Z"
   },
   {
    "duration": 5,
    "start_time": "2022-10-06T10:07:09.369Z"
   },
   {
    "duration": 1342,
    "start_time": "2022-10-06T10:07:23.004Z"
   },
   {
    "duration": 6,
    "start_time": "2022-10-06T10:07:26.812Z"
   },
   {
    "duration": 4,
    "start_time": "2022-10-06T10:08:58.156Z"
   },
   {
    "duration": 4,
    "start_time": "2022-10-06T10:09:03.860Z"
   },
   {
    "duration": 1884,
    "start_time": "2022-10-06T10:09:10.120Z"
   },
   {
    "duration": 4,
    "start_time": "2022-10-06T10:09:16.156Z"
   },
   {
    "duration": 4,
    "start_time": "2022-10-06T10:09:19.441Z"
   },
   {
    "duration": 52,
    "start_time": "2022-10-06T10:09:37.841Z"
   },
   {
    "duration": 55,
    "start_time": "2022-10-06T10:09:42.919Z"
   },
   {
    "duration": 52,
    "start_time": "2022-10-06T10:09:56.338Z"
   },
   {
    "duration": 2163,
    "start_time": "2022-10-06T10:10:25.159Z"
   },
   {
    "duration": 987,
    "start_time": "2022-10-06T10:10:43.165Z"
   },
   {
    "duration": 150,
    "start_time": "2022-10-06T10:10:44.154Z"
   },
   {
    "duration": 17,
    "start_time": "2022-10-06T10:10:44.306Z"
   },
   {
    "duration": 3,
    "start_time": "2022-10-06T10:10:44.324Z"
   },
   {
    "duration": 17,
    "start_time": "2022-10-06T10:10:44.328Z"
   },
   {
    "duration": 82,
    "start_time": "2022-10-06T10:10:44.346Z"
   },
   {
    "duration": 15,
    "start_time": "2022-10-06T10:10:44.429Z"
   },
   {
    "duration": 146,
    "start_time": "2022-10-06T10:10:44.445Z"
   },
   {
    "duration": 109,
    "start_time": "2022-10-06T10:10:44.593Z"
   },
   {
    "duration": 51,
    "start_time": "2022-10-06T10:10:44.704Z"
   },
   {
    "duration": 10,
    "start_time": "2022-10-06T10:10:44.756Z"
   },
   {
    "duration": 12,
    "start_time": "2022-10-06T10:10:44.768Z"
   },
   {
    "duration": 17,
    "start_time": "2022-10-06T10:10:44.781Z"
   },
   {
    "duration": 22,
    "start_time": "2022-10-06T10:10:44.800Z"
   },
   {
    "duration": 259,
    "start_time": "2022-10-06T10:10:44.823Z"
   },
   {
    "duration": 44,
    "start_time": "2022-10-06T10:10:45.084Z"
   },
   {
    "duration": 41,
    "start_time": "2022-10-06T10:10:45.129Z"
   },
   {
    "duration": 27,
    "start_time": "2022-10-06T10:10:45.172Z"
   },
   {
    "duration": 67,
    "start_time": "2022-10-06T10:10:45.201Z"
   },
   {
    "duration": 9,
    "start_time": "2022-10-06T10:10:45.269Z"
   },
   {
    "duration": 4,
    "start_time": "2022-10-06T10:10:45.280Z"
   },
   {
    "duration": 19,
    "start_time": "2022-10-06T10:10:45.285Z"
   },
   {
    "duration": 119,
    "start_time": "2022-10-06T10:10:45.305Z"
   },
   {
    "duration": 0,
    "start_time": "2022-10-06T10:10:45.426Z"
   },
   {
    "duration": 12,
    "start_time": "2022-10-06T10:11:07.909Z"
   },
   {
    "duration": 10,
    "start_time": "2022-10-06T10:11:38.944Z"
   },
   {
    "duration": 8,
    "start_time": "2022-10-06T10:12:41.439Z"
   },
   {
    "duration": 7,
    "start_time": "2022-10-06T10:12:47.118Z"
   },
   {
    "duration": 7,
    "start_time": "2022-10-06T10:13:23.870Z"
   },
   {
    "duration": 10,
    "start_time": "2022-10-06T10:14:04.489Z"
   },
   {
    "duration": 8,
    "start_time": "2022-10-06T10:14:23.271Z"
   },
   {
    "duration": 10,
    "start_time": "2022-10-06T10:14:34.595Z"
   },
   {
    "duration": 9,
    "start_time": "2022-10-06T10:14:48.159Z"
   },
   {
    "duration": 10,
    "start_time": "2022-10-06T10:16:25.760Z"
   },
   {
    "duration": 8,
    "start_time": "2022-10-06T10:16:36.589Z"
   },
   {
    "duration": 9,
    "start_time": "2022-10-06T10:16:45.973Z"
   },
   {
    "duration": 9,
    "start_time": "2022-10-06T10:16:48.697Z"
   },
   {
    "duration": 1075,
    "start_time": "2022-10-06T10:16:52.863Z"
   },
   {
    "duration": 163,
    "start_time": "2022-10-06T10:16:53.940Z"
   },
   {
    "duration": 26,
    "start_time": "2022-10-06T10:16:54.105Z"
   },
   {
    "duration": 2,
    "start_time": "2022-10-06T10:16:54.133Z"
   },
   {
    "duration": 22,
    "start_time": "2022-10-06T10:16:54.137Z"
   },
   {
    "duration": 87,
    "start_time": "2022-10-06T10:16:54.161Z"
   },
   {
    "duration": 13,
    "start_time": "2022-10-06T10:16:54.250Z"
   },
   {
    "duration": 157,
    "start_time": "2022-10-06T10:16:54.265Z"
   },
   {
    "duration": 125,
    "start_time": "2022-10-06T10:16:54.424Z"
   },
   {
    "duration": 46,
    "start_time": "2022-10-06T10:16:54.550Z"
   },
   {
    "duration": 24,
    "start_time": "2022-10-06T10:16:54.597Z"
   },
   {
    "duration": 7,
    "start_time": "2022-10-06T10:16:54.623Z"
   },
   {
    "duration": 20,
    "start_time": "2022-10-06T10:16:54.632Z"
   },
   {
    "duration": 5,
    "start_time": "2022-10-06T10:16:54.654Z"
   },
   {
    "duration": 308,
    "start_time": "2022-10-06T10:16:54.660Z"
   },
   {
    "duration": 41,
    "start_time": "2022-10-06T10:16:54.970Z"
   },
   {
    "duration": 44,
    "start_time": "2022-10-06T10:16:55.022Z"
   },
   {
    "duration": 27,
    "start_time": "2022-10-06T10:16:55.067Z"
   },
   {
    "duration": 71,
    "start_time": "2022-10-06T10:16:55.096Z"
   },
   {
    "duration": 8,
    "start_time": "2022-10-06T10:16:55.169Z"
   },
   {
    "duration": 3,
    "start_time": "2022-10-06T10:16:55.179Z"
   },
   {
    "duration": 15,
    "start_time": "2022-10-06T10:16:55.184Z"
   },
   {
    "duration": 32,
    "start_time": "2022-10-06T10:16:55.200Z"
   },
   {
    "duration": 15,
    "start_time": "2022-10-06T10:16:55.233Z"
   },
   {
    "duration": 95,
    "start_time": "2022-10-06T10:16:55.249Z"
   },
   {
    "duration": 1,
    "start_time": "2022-10-06T10:16:55.345Z"
   },
   {
    "duration": 9,
    "start_time": "2022-10-06T10:17:06.914Z"
   },
   {
    "duration": 11,
    "start_time": "2022-10-06T10:17:22.056Z"
   },
   {
    "duration": 1052,
    "start_time": "2022-10-06T10:17:25.581Z"
   },
   {
    "duration": 159,
    "start_time": "2022-10-06T10:17:26.635Z"
   },
   {
    "duration": 19,
    "start_time": "2022-10-06T10:17:26.796Z"
   },
   {
    "duration": 3,
    "start_time": "2022-10-06T10:17:26.821Z"
   },
   {
    "duration": 21,
    "start_time": "2022-10-06T10:17:26.825Z"
   },
   {
    "duration": 86,
    "start_time": "2022-10-06T10:17:26.847Z"
   },
   {
    "duration": 13,
    "start_time": "2022-10-06T10:17:26.935Z"
   },
   {
    "duration": 160,
    "start_time": "2022-10-06T10:17:26.949Z"
   },
   {
    "duration": 122,
    "start_time": "2022-10-06T10:17:27.110Z"
   },
   {
    "duration": 42,
    "start_time": "2022-10-06T10:17:27.234Z"
   },
   {
    "duration": 10,
    "start_time": "2022-10-06T10:17:27.278Z"
   },
   {
    "duration": 11,
    "start_time": "2022-10-06T10:17:27.289Z"
   },
   {
    "duration": 37,
    "start_time": "2022-10-06T10:17:27.301Z"
   },
   {
    "duration": 4,
    "start_time": "2022-10-06T10:17:27.340Z"
   },
   {
    "duration": 283,
    "start_time": "2022-10-06T10:17:27.346Z"
   },
   {
    "duration": 38,
    "start_time": "2022-10-06T10:17:27.630Z"
   },
   {
    "duration": 37,
    "start_time": "2022-10-06T10:17:27.669Z"
   },
   {
    "duration": 24,
    "start_time": "2022-10-06T10:17:27.722Z"
   },
   {
    "duration": 49,
    "start_time": "2022-10-06T10:17:27.748Z"
   },
   {
    "duration": 26,
    "start_time": "2022-10-06T10:17:27.799Z"
   },
   {
    "duration": 3,
    "start_time": "2022-10-06T10:17:27.827Z"
   },
   {
    "duration": 11,
    "start_time": "2022-10-06T10:17:27.831Z"
   },
   {
    "duration": 16,
    "start_time": "2022-10-06T10:17:27.844Z"
   },
   {
    "duration": 99,
    "start_time": "2022-10-06T10:17:27.861Z"
   },
   {
    "duration": 0,
    "start_time": "2022-10-06T10:17:27.961Z"
   },
   {
    "duration": 0,
    "start_time": "2022-10-06T10:17:27.963Z"
   },
   {
    "duration": 9,
    "start_time": "2022-10-06T10:17:34.670Z"
   },
   {
    "duration": 971,
    "start_time": "2022-10-06T10:17:39.574Z"
   },
   {
    "duration": 155,
    "start_time": "2022-10-06T10:17:40.547Z"
   },
   {
    "duration": 23,
    "start_time": "2022-10-06T10:17:40.703Z"
   },
   {
    "duration": 2,
    "start_time": "2022-10-06T10:17:40.728Z"
   },
   {
    "duration": 41,
    "start_time": "2022-10-06T10:17:40.732Z"
   },
   {
    "duration": 94,
    "start_time": "2022-10-06T10:17:40.775Z"
   },
   {
    "duration": 12,
    "start_time": "2022-10-06T10:17:40.870Z"
   },
   {
    "duration": 145,
    "start_time": "2022-10-06T10:17:40.884Z"
   },
   {
    "duration": 134,
    "start_time": "2022-10-06T10:17:41.031Z"
   },
   {
    "duration": 39,
    "start_time": "2022-10-06T10:17:41.166Z"
   },
   {
    "duration": 20,
    "start_time": "2022-10-06T10:17:41.207Z"
   },
   {
    "duration": 12,
    "start_time": "2022-10-06T10:17:41.228Z"
   },
   {
    "duration": 16,
    "start_time": "2022-10-06T10:17:41.242Z"
   },
   {
    "duration": 4,
    "start_time": "2022-10-06T10:17:41.260Z"
   },
   {
    "duration": 296,
    "start_time": "2022-10-06T10:17:41.265Z"
   },
   {
    "duration": 39,
    "start_time": "2022-10-06T10:17:41.563Z"
   },
   {
    "duration": 55,
    "start_time": "2022-10-06T10:17:41.604Z"
   },
   {
    "duration": 27,
    "start_time": "2022-10-06T10:17:41.661Z"
   },
   {
    "duration": 66,
    "start_time": "2022-10-06T10:17:41.689Z"
   },
   {
    "duration": 9,
    "start_time": "2022-10-06T10:17:41.756Z"
   },
   {
    "duration": 4,
    "start_time": "2022-10-06T10:17:41.766Z"
   },
   {
    "duration": 11,
    "start_time": "2022-10-06T10:17:41.772Z"
   },
   {
    "duration": 10,
    "start_time": "2022-10-06T10:17:41.784Z"
   },
   {
    "duration": 32,
    "start_time": "2022-10-06T10:17:41.796Z"
   },
   {
    "duration": 81,
    "start_time": "2022-10-06T10:17:41.830Z"
   },
   {
    "duration": 0,
    "start_time": "2022-10-06T10:17:41.922Z"
   },
   {
    "duration": 1043,
    "start_time": "2022-10-06T10:18:15.607Z"
   },
   {
    "duration": 147,
    "start_time": "2022-10-06T10:18:16.652Z"
   },
   {
    "duration": 16,
    "start_time": "2022-10-06T10:18:16.800Z"
   },
   {
    "duration": 6,
    "start_time": "2022-10-06T10:18:16.818Z"
   },
   {
    "duration": 34,
    "start_time": "2022-10-06T10:18:16.826Z"
   },
   {
    "duration": 70,
    "start_time": "2022-10-06T10:18:16.862Z"
   },
   {
    "duration": 13,
    "start_time": "2022-10-06T10:18:16.934Z"
   },
   {
    "duration": 150,
    "start_time": "2022-10-06T10:18:16.948Z"
   },
   {
    "duration": 113,
    "start_time": "2022-10-06T10:18:17.099Z"
   },
   {
    "duration": 42,
    "start_time": "2022-10-06T10:18:17.221Z"
   },
   {
    "duration": 9,
    "start_time": "2022-10-06T10:18:17.264Z"
   },
   {
    "duration": 23,
    "start_time": "2022-10-06T10:18:17.275Z"
   },
   {
    "duration": 30,
    "start_time": "2022-10-06T10:18:17.299Z"
   },
   {
    "duration": 4,
    "start_time": "2022-10-06T10:18:17.331Z"
   },
   {
    "duration": 275,
    "start_time": "2022-10-06T10:18:17.337Z"
   },
   {
    "duration": 40,
    "start_time": "2022-10-06T10:18:17.614Z"
   },
   {
    "duration": 37,
    "start_time": "2022-10-06T10:18:17.657Z"
   },
   {
    "duration": 39,
    "start_time": "2022-10-06T10:18:17.695Z"
   },
   {
    "duration": 44,
    "start_time": "2022-10-06T10:18:17.736Z"
   },
   {
    "duration": 8,
    "start_time": "2022-10-06T10:18:17.782Z"
   },
   {
    "duration": 12,
    "start_time": "2022-10-06T10:18:17.792Z"
   },
   {
    "duration": 21,
    "start_time": "2022-10-06T10:18:17.805Z"
   },
   {
    "duration": 13,
    "start_time": "2022-10-06T10:18:17.828Z"
   },
   {
    "duration": 16,
    "start_time": "2022-10-06T10:18:17.842Z"
   },
   {
    "duration": 8,
    "start_time": "2022-10-06T10:18:17.859Z"
   },
   {
    "duration": 4,
    "start_time": "2022-10-06T10:18:51.462Z"
   },
   {
    "duration": 6,
    "start_time": "2022-10-06T10:18:56.133Z"
   },
   {
    "duration": 4,
    "start_time": "2022-10-06T10:19:02.565Z"
   },
   {
    "duration": 3,
    "start_time": "2022-10-06T10:19:05.072Z"
   },
   {
    "duration": 5,
    "start_time": "2022-10-06T10:19:07.451Z"
   },
   {
    "duration": 85,
    "start_time": "2022-10-06T10:19:09.816Z"
   },
   {
    "duration": 4,
    "start_time": "2022-10-06T10:19:19.926Z"
   },
   {
    "duration": 8,
    "start_time": "2022-10-06T10:19:28.946Z"
   },
   {
    "duration": 7,
    "start_time": "2022-10-06T10:19:40.914Z"
   },
   {
    "duration": 1011,
    "start_time": "2022-10-06T10:19:54.461Z"
   },
   {
    "duration": 162,
    "start_time": "2022-10-06T10:19:55.474Z"
   },
   {
    "duration": 20,
    "start_time": "2022-10-06T10:19:55.638Z"
   },
   {
    "duration": 3,
    "start_time": "2022-10-06T10:19:55.660Z"
   },
   {
    "duration": 19,
    "start_time": "2022-10-06T10:19:55.665Z"
   },
   {
    "duration": 97,
    "start_time": "2022-10-06T10:19:55.685Z"
   },
   {
    "duration": 14,
    "start_time": "2022-10-06T10:19:55.784Z"
   },
   {
    "duration": 173,
    "start_time": "2022-10-06T10:19:55.800Z"
   },
   {
    "duration": 163,
    "start_time": "2022-10-06T10:19:55.975Z"
   },
   {
    "duration": 57,
    "start_time": "2022-10-06T10:19:56.141Z"
   },
   {
    "duration": 27,
    "start_time": "2022-10-06T10:19:56.199Z"
   },
   {
    "duration": 19,
    "start_time": "2022-10-06T10:19:56.228Z"
   },
   {
    "duration": 19,
    "start_time": "2022-10-06T10:19:56.249Z"
   },
   {
    "duration": 6,
    "start_time": "2022-10-06T10:19:56.269Z"
   },
   {
    "duration": 297,
    "start_time": "2022-10-06T10:19:56.276Z"
   },
   {
    "duration": 49,
    "start_time": "2022-10-06T10:19:56.575Z"
   },
   {
    "duration": 37,
    "start_time": "2022-10-06T10:19:56.625Z"
   },
   {
    "duration": 27,
    "start_time": "2022-10-06T10:19:56.663Z"
   },
   {
    "duration": 61,
    "start_time": "2022-10-06T10:19:56.691Z"
   },
   {
    "duration": 7,
    "start_time": "2022-10-06T10:19:56.754Z"
   },
   {
    "duration": 3,
    "start_time": "2022-10-06T10:19:56.762Z"
   },
   {
    "duration": 12,
    "start_time": "2022-10-06T10:19:56.766Z"
   },
   {
    "duration": 8,
    "start_time": "2022-10-06T10:19:56.779Z"
   },
   {
    "duration": 10,
    "start_time": "2022-10-06T10:19:56.788Z"
   },
   {
    "duration": 96,
    "start_time": "2022-10-06T10:19:56.800Z"
   },
   {
    "duration": 0,
    "start_time": "2022-10-06T10:19:56.898Z"
   },
   {
    "duration": 9,
    "start_time": "2022-10-06T10:20:00.026Z"
   },
   {
    "duration": 9,
    "start_time": "2022-10-06T10:20:26.002Z"
   },
   {
    "duration": 8,
    "start_time": "2022-10-06T10:20:34.395Z"
   },
   {
    "duration": 8,
    "start_time": "2022-10-06T10:20:39.680Z"
   },
   {
    "duration": 4,
    "start_time": "2022-10-06T10:20:56.340Z"
   },
   {
    "duration": 4,
    "start_time": "2022-10-06T10:21:01.509Z"
   },
   {
    "duration": 4,
    "start_time": "2022-10-06T10:21:06.841Z"
   },
   {
    "duration": 4,
    "start_time": "2022-10-06T10:21:10.221Z"
   },
   {
    "duration": 1068,
    "start_time": "2022-10-06T10:21:45.686Z"
   },
   {
    "duration": 4,
    "start_time": "2022-10-06T10:21:54.327Z"
   },
   {
    "duration": 3,
    "start_time": "2022-10-06T10:22:15.835Z"
   },
   {
    "duration": 4,
    "start_time": "2022-10-06T10:22:26.373Z"
   },
   {
    "duration": 1532,
    "start_time": "2022-10-06T10:22:53.005Z"
   },
   {
    "duration": 4,
    "start_time": "2022-10-06T10:23:03.980Z"
   },
   {
    "duration": 4,
    "start_time": "2022-10-06T10:25:15.303Z"
   },
   {
    "duration": 4,
    "start_time": "2022-10-06T10:26:28.363Z"
   },
   {
    "duration": 14,
    "start_time": "2022-10-06T10:26:37.219Z"
   },
   {
    "duration": 1156,
    "start_time": "2022-10-07T06:14:43.496Z"
   },
   {
    "duration": 708,
    "start_time": "2022-10-07T06:14:44.654Z"
   },
   {
    "duration": 18,
    "start_time": "2022-10-07T06:14:45.364Z"
   },
   {
    "duration": 3,
    "start_time": "2022-10-07T06:14:45.383Z"
   },
   {
    "duration": 16,
    "start_time": "2022-10-07T06:14:45.388Z"
   },
   {
    "duration": 70,
    "start_time": "2022-10-07T06:14:45.405Z"
   },
   {
    "duration": 13,
    "start_time": "2022-10-07T06:14:45.476Z"
   },
   {
    "duration": 138,
    "start_time": "2022-10-07T06:14:45.490Z"
   },
   {
    "duration": 119,
    "start_time": "2022-10-07T06:14:45.630Z"
   },
   {
    "duration": 36,
    "start_time": "2022-10-07T06:14:45.750Z"
   },
   {
    "duration": 10,
    "start_time": "2022-10-07T06:14:45.787Z"
   },
   {
    "duration": 27,
    "start_time": "2022-10-07T06:14:45.798Z"
   },
   {
    "duration": 16,
    "start_time": "2022-10-07T06:14:45.826Z"
   },
   {
    "duration": 5,
    "start_time": "2022-10-07T06:14:45.844Z"
   },
   {
    "duration": 302,
    "start_time": "2022-10-07T06:14:45.850Z"
   },
   {
    "duration": 43,
    "start_time": "2022-10-07T06:14:46.154Z"
   },
   {
    "duration": 52,
    "start_time": "2022-10-07T06:14:46.199Z"
   },
   {
    "duration": 25,
    "start_time": "2022-10-07T06:14:46.252Z"
   },
   {
    "duration": 62,
    "start_time": "2022-10-07T06:14:46.278Z"
   },
   {
    "duration": 8,
    "start_time": "2022-10-07T06:14:46.341Z"
   },
   {
    "duration": 4,
    "start_time": "2022-10-07T06:14:46.351Z"
   },
   {
    "duration": 16,
    "start_time": "2022-10-07T06:14:46.356Z"
   },
   {
    "duration": 12,
    "start_time": "2022-10-07T06:14:46.373Z"
   },
   {
    "duration": 23,
    "start_time": "2022-10-07T06:14:46.387Z"
   },
   {
    "duration": 15,
    "start_time": "2022-10-07T06:14:46.412Z"
   },
   {
    "duration": 9,
    "start_time": "2022-10-07T06:14:46.428Z"
   },
   {
    "duration": 91,
    "start_time": "2022-10-07T06:16:03.219Z"
   },
   {
    "duration": 24,
    "start_time": "2022-10-07T06:16:40.918Z"
   },
   {
    "duration": 54,
    "start_time": "2022-10-07T06:17:03.520Z"
   },
   {
    "duration": 54,
    "start_time": "2022-10-07T06:23:52.231Z"
   },
   {
    "duration": 4,
    "start_time": "2022-10-07T06:24:02.621Z"
   },
   {
    "duration": 24,
    "start_time": "2022-10-07T06:24:22.514Z"
   },
   {
    "duration": 9,
    "start_time": "2022-10-07T06:24:30.253Z"
   },
   {
    "duration": 43,
    "start_time": "2022-10-07T06:24:50.546Z"
   },
   {
    "duration": 12,
    "start_time": "2022-10-07T06:25:22.193Z"
   },
   {
    "duration": 5,
    "start_time": "2022-10-07T06:26:23.001Z"
   },
   {
    "duration": 5,
    "start_time": "2022-10-07T06:26:52.180Z"
   },
   {
    "duration": 13,
    "start_time": "2022-10-07T06:34:55.946Z"
   },
   {
    "duration": 3,
    "start_time": "2022-10-07T06:35:04.352Z"
   },
   {
    "duration": 3,
    "start_time": "2022-10-07T06:35:05.348Z"
   },
   {
    "duration": 9,
    "start_time": "2022-10-07T06:35:18.423Z"
   },
   {
    "duration": 3,
    "start_time": "2022-10-07T06:35:19.429Z"
   },
   {
    "duration": 19,
    "start_time": "2022-10-07T06:36:04.358Z"
   },
   {
    "duration": 3,
    "start_time": "2022-10-07T06:36:06.655Z"
   },
   {
    "duration": 3,
    "start_time": "2022-10-07T06:36:07.565Z"
   },
   {
    "duration": 2,
    "start_time": "2022-10-07T06:37:34.199Z"
   },
   {
    "duration": 9,
    "start_time": "2022-10-07T06:38:08.765Z"
   },
   {
    "duration": 1048,
    "start_time": "2022-10-07T06:38:27.909Z"
   },
   {
    "duration": 143,
    "start_time": "2022-10-07T06:38:28.959Z"
   },
   {
    "duration": 19,
    "start_time": "2022-10-07T06:38:29.104Z"
   },
   {
    "duration": 2,
    "start_time": "2022-10-07T06:38:29.125Z"
   },
   {
    "duration": 22,
    "start_time": "2022-10-07T06:38:29.128Z"
   },
   {
    "duration": 78,
    "start_time": "2022-10-07T06:38:29.151Z"
   },
   {
    "duration": 13,
    "start_time": "2022-10-07T06:38:29.230Z"
   },
   {
    "duration": 143,
    "start_time": "2022-10-07T06:38:29.244Z"
   },
   {
    "duration": 116,
    "start_time": "2022-10-07T06:38:29.388Z"
   },
   {
    "duration": 47,
    "start_time": "2022-10-07T06:38:29.506Z"
   },
   {
    "duration": 9,
    "start_time": "2022-10-07T06:38:29.554Z"
   },
   {
    "duration": 12,
    "start_time": "2022-10-07T06:38:29.565Z"
   },
   {
    "duration": 18,
    "start_time": "2022-10-07T06:38:29.579Z"
   },
   {
    "duration": 9,
    "start_time": "2022-10-07T06:38:29.598Z"
   },
   {
    "duration": 260,
    "start_time": "2022-10-07T06:38:29.608Z"
   },
   {
    "duration": 37,
    "start_time": "2022-10-07T06:38:29.870Z"
   },
   {
    "duration": 47,
    "start_time": "2022-10-07T06:38:29.908Z"
   },
   {
    "duration": 28,
    "start_time": "2022-10-07T06:38:29.956Z"
   },
   {
    "duration": 71,
    "start_time": "2022-10-07T06:38:29.985Z"
   },
   {
    "duration": 8,
    "start_time": "2022-10-07T06:38:30.057Z"
   },
   {
    "duration": 10,
    "start_time": "2022-10-07T06:38:30.066Z"
   },
   {
    "duration": 31,
    "start_time": "2022-10-07T06:38:30.077Z"
   },
   {
    "duration": 14,
    "start_time": "2022-10-07T06:38:30.109Z"
   },
   {
    "duration": 30,
    "start_time": "2022-10-07T06:38:30.124Z"
   },
   {
    "duration": 32,
    "start_time": "2022-10-07T06:38:30.156Z"
   },
   {
    "duration": 62,
    "start_time": "2022-10-07T06:38:30.190Z"
   },
   {
    "duration": 16,
    "start_time": "2022-10-07T06:38:30.254Z"
   },
   {
    "duration": 22,
    "start_time": "2022-10-07T06:38:30.272Z"
   },
   {
    "duration": 20,
    "start_time": "2022-10-07T06:38:30.296Z"
   },
   {
    "duration": 66,
    "start_time": "2022-10-07T06:38:30.318Z"
   },
   {
    "duration": 18,
    "start_time": "2022-10-07T06:39:27.769Z"
   },
   {
    "duration": 4,
    "start_time": "2022-10-07T06:39:28.820Z"
   },
   {
    "duration": 4,
    "start_time": "2022-10-07T06:39:31.280Z"
   },
   {
    "duration": 41,
    "start_time": "2022-10-07T07:17:55.259Z"
   },
   {
    "duration": 23,
    "start_time": "2022-10-07T07:18:09.740Z"
   },
   {
    "duration": 25,
    "start_time": "2022-10-07T07:18:22.284Z"
   },
   {
    "duration": 26,
    "start_time": "2022-10-07T07:18:31.686Z"
   },
   {
    "duration": 26,
    "start_time": "2022-10-07T07:18:37.324Z"
   },
   {
    "duration": 37,
    "start_time": "2022-10-07T07:19:50.749Z"
   },
   {
    "duration": 26,
    "start_time": "2022-10-07T07:19:54.637Z"
   },
   {
    "duration": 12,
    "start_time": "2022-10-07T07:20:32.787Z"
   },
   {
    "duration": 12,
    "start_time": "2022-10-07T07:21:11.134Z"
   },
   {
    "duration": 72,
    "start_time": "2022-10-07T07:22:05.762Z"
   },
   {
    "duration": 11,
    "start_time": "2022-10-07T07:22:11.138Z"
   },
   {
    "duration": 108,
    "start_time": "2022-10-07T07:22:21.915Z"
   },
   {
    "duration": 18,
    "start_time": "2022-10-07T07:22:25.711Z"
   },
   {
    "duration": 18,
    "start_time": "2022-10-07T07:25:02.832Z"
   },
   {
    "duration": 17,
    "start_time": "2022-10-07T07:25:33.938Z"
   },
   {
    "duration": 19,
    "start_time": "2022-10-07T07:25:59.880Z"
   },
   {
    "duration": 24,
    "start_time": "2022-10-07T07:28:40.298Z"
   },
   {
    "duration": 17,
    "start_time": "2022-10-07T07:28:40.891Z"
   },
   {
    "duration": 21,
    "start_time": "2022-10-07T07:28:41.813Z"
   },
   {
    "duration": 2,
    "start_time": "2022-10-07T07:31:05.512Z"
   },
   {
    "duration": 5,
    "start_time": "2022-10-07T07:36:04.290Z"
   },
   {
    "duration": 27,
    "start_time": "2022-10-07T07:36:21.447Z"
   },
   {
    "duration": 8,
    "start_time": "2022-10-07T07:36:49.955Z"
   },
   {
    "duration": 32,
    "start_time": "2022-10-07T07:36:53.866Z"
   },
   {
    "duration": 10,
    "start_time": "2022-10-07T07:38:21.516Z"
   },
   {
    "duration": 5,
    "start_time": "2022-10-07T07:39:32.091Z"
   },
   {
    "duration": 17,
    "start_time": "2022-10-07T07:39:37.665Z"
   },
   {
    "duration": 6,
    "start_time": "2022-10-07T07:47:57.324Z"
   },
   {
    "duration": 23,
    "start_time": "2022-10-07T07:47:58.784Z"
   },
   {
    "duration": 5,
    "start_time": "2022-10-07T07:48:05.186Z"
   },
   {
    "duration": 19,
    "start_time": "2022-10-07T07:48:06.177Z"
   },
   {
    "duration": 5,
    "start_time": "2022-10-07T07:48:43.165Z"
   },
   {
    "duration": 5,
    "start_time": "2022-10-07T07:48:44.549Z"
   },
   {
    "duration": 17,
    "start_time": "2022-10-07T07:48:45.015Z"
   },
   {
    "duration": 17,
    "start_time": "2022-10-07T07:49:48.045Z"
   },
   {
    "duration": 24,
    "start_time": "2022-10-07T07:50:02.720Z"
   },
   {
    "duration": 25,
    "start_time": "2022-10-07T07:50:37.969Z"
   },
   {
    "duration": 29,
    "start_time": "2022-10-07T07:50:49.258Z"
   },
   {
    "duration": 22,
    "start_time": "2022-10-07T07:50:50.998Z"
   },
   {
    "duration": 17,
    "start_time": "2022-10-07T07:50:52.226Z"
   },
   {
    "duration": 19,
    "start_time": "2022-10-07T07:50:52.679Z"
   },
   {
    "duration": 19,
    "start_time": "2022-10-07T07:50:54.352Z"
   },
   {
    "duration": 3,
    "start_time": "2022-10-07T07:51:43.731Z"
   },
   {
    "duration": 182,
    "start_time": "2022-10-07T07:51:43.735Z"
   },
   {
    "duration": 17,
    "start_time": "2022-10-07T07:51:43.918Z"
   },
   {
    "duration": 5,
    "start_time": "2022-10-07T07:51:43.936Z"
   },
   {
    "duration": 44,
    "start_time": "2022-10-07T07:51:43.942Z"
   },
   {
    "duration": 64,
    "start_time": "2022-10-07T07:51:43.990Z"
   },
   {
    "duration": 15,
    "start_time": "2022-10-07T07:51:44.056Z"
   },
   {
    "duration": 145,
    "start_time": "2022-10-07T07:51:44.073Z"
   },
   {
    "duration": 172,
    "start_time": "2022-10-07T07:51:44.220Z"
   },
   {
    "duration": 52,
    "start_time": "2022-10-07T07:51:44.393Z"
   },
   {
    "duration": 11,
    "start_time": "2022-10-07T07:51:44.447Z"
   },
   {
    "duration": 29,
    "start_time": "2022-10-07T07:51:44.460Z"
   },
   {
    "duration": 35,
    "start_time": "2022-10-07T07:51:44.490Z"
   },
   {
    "duration": 13,
    "start_time": "2022-10-07T07:51:44.527Z"
   },
   {
    "duration": 212,
    "start_time": "2022-10-07T07:51:44.542Z"
   },
   {
    "duration": 54,
    "start_time": "2022-10-07T07:51:44.756Z"
   },
   {
    "duration": 44,
    "start_time": "2022-10-07T07:51:44.822Z"
   },
   {
    "duration": 35,
    "start_time": "2022-10-07T07:51:44.868Z"
   },
   {
    "duration": 75,
    "start_time": "2022-10-07T07:51:44.905Z"
   },
   {
    "duration": 8,
    "start_time": "2022-10-07T07:51:44.982Z"
   },
   {
    "duration": 4,
    "start_time": "2022-10-07T07:51:44.991Z"
   },
   {
    "duration": 29,
    "start_time": "2022-10-07T07:51:44.997Z"
   },
   {
    "duration": 29,
    "start_time": "2022-10-07T07:51:45.028Z"
   },
   {
    "duration": 9,
    "start_time": "2022-10-07T07:51:45.059Z"
   },
   {
    "duration": 8,
    "start_time": "2022-10-07T07:51:45.070Z"
   },
   {
    "duration": 66,
    "start_time": "2022-10-07T07:51:45.080Z"
   },
   {
    "duration": 37,
    "start_time": "2022-10-07T07:51:45.147Z"
   },
   {
    "duration": 16,
    "start_time": "2022-10-07T07:51:45.186Z"
   },
   {
    "duration": 21,
    "start_time": "2022-10-07T07:51:45.204Z"
   },
   {
    "duration": 6,
    "start_time": "2022-10-07T07:51:45.227Z"
   },
   {
    "duration": 25,
    "start_time": "2022-10-07T07:51:45.235Z"
   },
   {
    "duration": 16,
    "start_time": "2022-10-07T07:51:45.261Z"
   },
   {
    "duration": 16,
    "start_time": "2022-10-07T07:51:45.279Z"
   },
   {
    "duration": 35,
    "start_time": "2022-10-07T07:51:45.296Z"
   },
   {
    "duration": 14,
    "start_time": "2022-10-07T07:51:45.333Z"
   },
   {
    "duration": 48,
    "start_time": "2022-10-07T07:54:12.300Z"
   },
   {
    "duration": 5,
    "start_time": "2022-10-07T07:56:26.439Z"
   },
   {
    "duration": 18,
    "start_time": "2022-10-07T07:56:48.760Z"
   },
   {
    "duration": 20,
    "start_time": "2022-10-07T07:56:58.333Z"
   },
   {
    "duration": 18,
    "start_time": "2022-10-07T07:56:59.291Z"
   },
   {
    "duration": 20,
    "start_time": "2022-10-07T07:57:00.108Z"
   },
   {
    "duration": 17,
    "start_time": "2022-10-07T07:57:00.951Z"
   },
   {
    "duration": 15,
    "start_time": "2022-10-07T07:57:01.835Z"
   },
   {
    "duration": 5,
    "start_time": "2022-10-07T08:08:38.669Z"
   },
   {
    "duration": 91,
    "start_time": "2022-10-07T08:08:40.010Z"
   },
   {
    "duration": 26,
    "start_time": "2022-10-07T08:08:48.839Z"
   },
   {
    "duration": 6,
    "start_time": "2022-10-07T08:09:59.037Z"
   },
   {
    "duration": 20,
    "start_time": "2022-10-07T08:10:12.173Z"
   },
   {
    "duration": 6,
    "start_time": "2022-10-07T08:10:16.041Z"
   },
   {
    "duration": 22,
    "start_time": "2022-10-07T08:10:16.345Z"
   },
   {
    "duration": 117,
    "start_time": "2022-10-07T08:11:25.015Z"
   },
   {
    "duration": 7,
    "start_time": "2022-10-07T08:11:31.127Z"
   },
   {
    "duration": 24,
    "start_time": "2022-10-07T08:11:31.979Z"
   },
   {
    "duration": 18,
    "start_time": "2022-10-07T08:11:41.278Z"
   },
   {
    "duration": 19,
    "start_time": "2022-10-07T08:11:42.960Z"
   },
   {
    "duration": 17,
    "start_time": "2022-10-07T08:11:45.441Z"
   },
   {
    "duration": 17,
    "start_time": "2022-10-07T08:11:47.303Z"
   },
   {
    "duration": 2,
    "start_time": "2022-10-07T08:14:32.804Z"
   },
   {
    "duration": 8,
    "start_time": "2022-10-07T08:14:38.851Z"
   },
   {
    "duration": 4,
    "start_time": "2022-10-07T08:14:46.997Z"
   },
   {
    "duration": 7,
    "start_time": "2022-10-07T08:16:53.842Z"
   },
   {
    "duration": 40,
    "start_time": "2022-10-07T08:16:57.722Z"
   },
   {
    "duration": 6,
    "start_time": "2022-10-07T08:17:02.274Z"
   },
   {
    "duration": 36,
    "start_time": "2022-10-07T08:17:03.155Z"
   },
   {
    "duration": 6,
    "start_time": "2022-10-07T08:17:19.191Z"
   },
   {
    "duration": 13,
    "start_time": "2022-10-07T08:17:19.889Z"
   },
   {
    "duration": 2,
    "start_time": "2022-10-07T08:17:50.172Z"
   },
   {
    "duration": 8,
    "start_time": "2022-10-07T08:17:51.206Z"
   },
   {
    "duration": 15,
    "start_time": "2022-10-07T08:17:52.251Z"
   },
   {
    "duration": 73,
    "start_time": "2022-10-07T08:18:03.642Z"
   },
   {
    "duration": 5,
    "start_time": "2022-10-07T08:18:53.061Z"
   },
   {
    "duration": 14,
    "start_time": "2022-10-07T08:18:56.242Z"
   },
   {
    "duration": 113,
    "start_time": "2022-10-07T08:19:46.657Z"
   },
   {
    "duration": 6,
    "start_time": "2022-10-07T08:19:55.109Z"
   },
   {
    "duration": 21,
    "start_time": "2022-10-07T08:19:56.661Z"
   },
   {
    "duration": 6,
    "start_time": "2022-10-07T08:20:09.602Z"
   },
   {
    "duration": 39,
    "start_time": "2022-10-07T08:20:10.737Z"
   },
   {
    "duration": 7,
    "start_time": "2022-10-07T08:20:23.928Z"
   },
   {
    "duration": 40,
    "start_time": "2022-10-07T08:20:25.295Z"
   },
   {
    "duration": 5,
    "start_time": "2022-10-07T08:21:05.940Z"
   },
   {
    "duration": 21,
    "start_time": "2022-10-07T08:21:06.539Z"
   },
   {
    "duration": 24,
    "start_time": "2022-10-07T08:24:08.073Z"
   },
   {
    "duration": 22,
    "start_time": "2022-10-07T08:24:23.343Z"
   },
   {
    "duration": 26,
    "start_time": "2022-10-07T08:24:36.071Z"
   },
   {
    "duration": 24,
    "start_time": "2022-10-07T08:24:51.309Z"
   },
   {
    "duration": 27,
    "start_time": "2022-10-07T08:25:40.281Z"
   },
   {
    "duration": 25,
    "start_time": "2022-10-07T08:25:48.716Z"
   },
   {
    "duration": 20,
    "start_time": "2022-10-07T08:25:57.059Z"
   },
   {
    "duration": 24,
    "start_time": "2022-10-07T08:26:06.487Z"
   },
   {
    "duration": 7,
    "start_time": "2022-10-07T08:26:24.984Z"
   },
   {
    "duration": 1155,
    "start_time": "2022-10-07T08:26:30.005Z"
   },
   {
    "duration": 147,
    "start_time": "2022-10-07T08:26:31.163Z"
   },
   {
    "duration": 24,
    "start_time": "2022-10-07T08:26:31.312Z"
   },
   {
    "duration": 9,
    "start_time": "2022-10-07T08:26:31.338Z"
   },
   {
    "duration": 23,
    "start_time": "2022-10-07T08:26:31.348Z"
   },
   {
    "duration": 93,
    "start_time": "2022-10-07T08:26:31.376Z"
   },
   {
    "duration": 13,
    "start_time": "2022-10-07T08:26:31.471Z"
   },
   {
    "duration": 146,
    "start_time": "2022-10-07T08:26:31.486Z"
   },
   {
    "duration": 119,
    "start_time": "2022-10-07T08:26:31.634Z"
   },
   {
    "duration": 41,
    "start_time": "2022-10-07T08:26:31.755Z"
   },
   {
    "duration": 28,
    "start_time": "2022-10-07T08:26:31.797Z"
   },
   {
    "duration": 21,
    "start_time": "2022-10-07T08:26:31.826Z"
   },
   {
    "duration": 23,
    "start_time": "2022-10-07T08:26:31.849Z"
   },
   {
    "duration": 6,
    "start_time": "2022-10-07T08:26:31.873Z"
   },
   {
    "duration": 311,
    "start_time": "2022-10-07T08:26:31.881Z"
   },
   {
    "duration": 44,
    "start_time": "2022-10-07T08:26:32.193Z"
   },
   {
    "duration": 40,
    "start_time": "2022-10-07T08:26:32.239Z"
   },
   {
    "duration": 44,
    "start_time": "2022-10-07T08:26:32.281Z"
   },
   {
    "duration": 72,
    "start_time": "2022-10-07T08:26:32.327Z"
   },
   {
    "duration": 25,
    "start_time": "2022-10-07T08:26:32.401Z"
   },
   {
    "duration": 4,
    "start_time": "2022-10-07T08:26:32.427Z"
   },
   {
    "duration": 26,
    "start_time": "2022-10-07T08:26:32.433Z"
   },
   {
    "duration": 33,
    "start_time": "2022-10-07T08:26:32.461Z"
   },
   {
    "duration": 29,
    "start_time": "2022-10-07T08:26:32.496Z"
   },
   {
    "duration": 15,
    "start_time": "2022-10-07T08:26:32.526Z"
   },
   {
    "duration": 80,
    "start_time": "2022-10-07T08:26:32.542Z"
   },
   {
    "duration": 34,
    "start_time": "2022-10-07T08:26:32.624Z"
   },
   {
    "duration": 16,
    "start_time": "2022-10-07T08:26:32.662Z"
   },
   {
    "duration": 18,
    "start_time": "2022-10-07T08:26:32.680Z"
   },
   {
    "duration": 26,
    "start_time": "2022-10-07T08:26:32.700Z"
   },
   {
    "duration": 49,
    "start_time": "2022-10-07T08:26:32.728Z"
   },
   {
    "duration": 16,
    "start_time": "2022-10-07T08:26:32.778Z"
   },
   {
    "duration": 16,
    "start_time": "2022-10-07T08:26:32.796Z"
   },
   {
    "duration": 15,
    "start_time": "2022-10-07T08:26:32.814Z"
   },
   {
    "duration": 15,
    "start_time": "2022-10-07T08:26:32.831Z"
   },
   {
    "duration": 19,
    "start_time": "2022-10-07T08:26:32.847Z"
   },
   {
    "duration": 16,
    "start_time": "2022-10-07T08:26:32.868Z"
   },
   {
    "duration": 39,
    "start_time": "2022-10-07T08:26:32.886Z"
   },
   {
    "duration": 18,
    "start_time": "2022-10-07T08:26:32.927Z"
   },
   {
    "duration": 22,
    "start_time": "2022-10-07T08:26:32.946Z"
   },
   {
    "duration": 18,
    "start_time": "2022-10-07T08:26:32.969Z"
   },
   {
    "duration": 44,
    "start_time": "2022-10-07T08:26:32.989Z"
   },
   {
    "duration": 17,
    "start_time": "2022-10-07T08:26:33.035Z"
   },
   {
    "duration": 38,
    "start_time": "2022-10-07T09:01:21.567Z"
   },
   {
    "duration": 104,
    "start_time": "2022-10-07T09:01:36.628Z"
   },
   {
    "duration": 30,
    "start_time": "2022-10-07T09:01:39.581Z"
   },
   {
    "duration": 17,
    "start_time": "2022-10-07T09:01:43.907Z"
   },
   {
    "duration": 27,
    "start_time": "2022-10-07T09:02:24.037Z"
   },
   {
    "duration": 23,
    "start_time": "2022-10-07T09:02:46.254Z"
   },
   {
    "duration": 25,
    "start_time": "2022-10-07T09:15:23.331Z"
   },
   {
    "duration": 29,
    "start_time": "2022-10-07T09:15:39.012Z"
   },
   {
    "duration": 5,
    "start_time": "2022-10-07T09:19:24.376Z"
   },
   {
    "duration": 11,
    "start_time": "2022-10-07T09:19:26.979Z"
   },
   {
    "duration": 6,
    "start_time": "2022-10-07T09:20:21.969Z"
   },
   {
    "duration": 19,
    "start_time": "2022-10-07T09:20:24.389Z"
   },
   {
    "duration": 3,
    "start_time": "2022-10-07T09:20:28.999Z"
   },
   {
    "duration": 18,
    "start_time": "2022-10-07T09:20:38.692Z"
   },
   {
    "duration": 4,
    "start_time": "2022-10-07T09:20:44.331Z"
   },
   {
    "duration": 1253,
    "start_time": "2022-10-07T09:20:55.932Z"
   },
   {
    "duration": 158,
    "start_time": "2022-10-07T09:20:57.187Z"
   },
   {
    "duration": 24,
    "start_time": "2022-10-07T09:20:57.346Z"
   },
   {
    "duration": 10,
    "start_time": "2022-10-07T09:20:57.373Z"
   },
   {
    "duration": 40,
    "start_time": "2022-10-07T09:20:57.385Z"
   },
   {
    "duration": 82,
    "start_time": "2022-10-07T09:20:57.427Z"
   },
   {
    "duration": 24,
    "start_time": "2022-10-07T09:20:57.510Z"
   },
   {
    "duration": 159,
    "start_time": "2022-10-07T09:20:57.536Z"
   },
   {
    "duration": 151,
    "start_time": "2022-10-07T09:20:57.697Z"
   },
   {
    "duration": 51,
    "start_time": "2022-10-07T09:20:57.852Z"
   },
   {
    "duration": 27,
    "start_time": "2022-10-07T09:20:57.904Z"
   },
   {
    "duration": 29,
    "start_time": "2022-10-07T09:20:57.932Z"
   },
   {
    "duration": 29,
    "start_time": "2022-10-07T09:20:57.963Z"
   },
   {
    "duration": 14,
    "start_time": "2022-10-07T09:20:57.993Z"
   },
   {
    "duration": 307,
    "start_time": "2022-10-07T09:20:58.009Z"
   },
   {
    "duration": 44,
    "start_time": "2022-10-07T09:20:58.318Z"
   },
   {
    "duration": 40,
    "start_time": "2022-10-07T09:20:58.364Z"
   },
   {
    "duration": 39,
    "start_time": "2022-10-07T09:20:58.405Z"
   },
   {
    "duration": 49,
    "start_time": "2022-10-07T09:20:58.446Z"
   },
   {
    "duration": 25,
    "start_time": "2022-10-07T09:20:58.497Z"
   },
   {
    "duration": 7,
    "start_time": "2022-10-07T09:20:58.523Z"
   },
   {
    "duration": 38,
    "start_time": "2022-10-07T09:20:58.531Z"
   },
   {
    "duration": 52,
    "start_time": "2022-10-07T09:20:58.570Z"
   },
   {
    "duration": 31,
    "start_time": "2022-10-07T09:20:58.623Z"
   },
   {
    "duration": 22,
    "start_time": "2022-10-07T09:20:58.656Z"
   },
   {
    "duration": 60,
    "start_time": "2022-10-07T09:20:58.679Z"
   },
   {
    "duration": 24,
    "start_time": "2022-10-07T09:20:58.740Z"
   },
   {
    "duration": 25,
    "start_time": "2022-10-07T09:20:58.767Z"
   },
   {
    "duration": 18,
    "start_time": "2022-10-07T09:20:58.794Z"
   },
   {
    "duration": 23,
    "start_time": "2022-10-07T09:20:58.814Z"
   },
   {
    "duration": 32,
    "start_time": "2022-10-07T09:20:58.839Z"
   },
   {
    "duration": 33,
    "start_time": "2022-10-07T09:20:58.872Z"
   },
   {
    "duration": 8,
    "start_time": "2022-10-07T09:20:58.907Z"
   },
   {
    "duration": 29,
    "start_time": "2022-10-07T09:20:58.916Z"
   },
   {
    "duration": 24,
    "start_time": "2022-10-07T09:20:58.946Z"
   },
   {
    "duration": 25,
    "start_time": "2022-10-07T09:20:58.971Z"
   },
   {
    "duration": 14,
    "start_time": "2022-10-07T09:20:58.998Z"
   },
   {
    "duration": 24,
    "start_time": "2022-10-07T09:20:59.013Z"
   },
   {
    "duration": 16,
    "start_time": "2022-10-07T09:20:59.039Z"
   },
   {
    "duration": 25,
    "start_time": "2022-10-07T09:20:59.057Z"
   },
   {
    "duration": 17,
    "start_time": "2022-10-07T09:20:59.084Z"
   },
   {
    "duration": 29,
    "start_time": "2022-10-07T09:20:59.103Z"
   },
   {
    "duration": 18,
    "start_time": "2022-10-07T09:20:59.134Z"
   },
   {
    "duration": 17,
    "start_time": "2022-10-07T09:20:59.154Z"
   },
   {
    "duration": 32,
    "start_time": "2022-10-07T09:20:59.172Z"
   },
   {
    "duration": 32,
    "start_time": "2022-10-07T09:20:59.206Z"
   },
   {
    "duration": 43,
    "start_time": "2022-10-07T09:20:59.240Z"
   },
   {
    "duration": 24,
    "start_time": "2022-10-07T09:20:59.284Z"
   },
   {
    "duration": 34,
    "start_time": "2022-10-07T09:20:59.310Z"
   },
   {
    "duration": 27,
    "start_time": "2022-10-07T09:20:59.346Z"
   },
   {
    "duration": 8,
    "start_time": "2022-10-07T09:22:53.128Z"
   },
   {
    "duration": 27,
    "start_time": "2022-10-07T09:22:53.721Z"
   },
   {
    "duration": 94,
    "start_time": "2022-10-07T09:23:05.385Z"
   },
   {
    "duration": 12,
    "start_time": "2022-10-07T09:23:16.144Z"
   },
   {
    "duration": 1103,
    "start_time": "2022-10-07T09:23:19.757Z"
   },
   {
    "duration": 151,
    "start_time": "2022-10-07T09:23:20.862Z"
   },
   {
    "duration": 31,
    "start_time": "2022-10-07T09:23:21.014Z"
   },
   {
    "duration": 14,
    "start_time": "2022-10-07T09:23:21.048Z"
   },
   {
    "duration": 21,
    "start_time": "2022-10-07T09:23:21.063Z"
   },
   {
    "duration": 86,
    "start_time": "2022-10-07T09:23:21.086Z"
   },
   {
    "duration": 14,
    "start_time": "2022-10-07T09:23:21.173Z"
   },
   {
    "duration": 175,
    "start_time": "2022-10-07T09:23:21.189Z"
   },
   {
    "duration": 144,
    "start_time": "2022-10-07T09:23:21.366Z"
   },
   {
    "duration": 42,
    "start_time": "2022-10-07T09:23:21.522Z"
   },
   {
    "duration": 9,
    "start_time": "2022-10-07T09:23:21.566Z"
   },
   {
    "duration": 20,
    "start_time": "2022-10-07T09:23:21.576Z"
   },
   {
    "duration": 36,
    "start_time": "2022-10-07T09:23:21.597Z"
   },
   {
    "duration": 9,
    "start_time": "2022-10-07T09:23:21.634Z"
   },
   {
    "duration": 294,
    "start_time": "2022-10-07T09:23:21.645Z"
   },
   {
    "duration": 39,
    "start_time": "2022-10-07T09:23:21.941Z"
   },
   {
    "duration": 94,
    "start_time": "2022-10-07T09:23:21.981Z"
   },
   {
    "duration": 29,
    "start_time": "2022-10-07T09:23:22.077Z"
   },
   {
    "duration": 59,
    "start_time": "2022-10-07T09:23:22.108Z"
   },
   {
    "duration": 8,
    "start_time": "2022-10-07T09:23:22.168Z"
   },
   {
    "duration": 4,
    "start_time": "2022-10-07T09:23:22.177Z"
   },
   {
    "duration": 13,
    "start_time": "2022-10-07T09:23:22.183Z"
   },
   {
    "duration": 28,
    "start_time": "2022-10-07T09:23:22.197Z"
   },
   {
    "duration": 13,
    "start_time": "2022-10-07T09:23:22.227Z"
   },
   {
    "duration": 20,
    "start_time": "2022-10-07T09:23:22.242Z"
   },
   {
    "duration": 48,
    "start_time": "2022-10-07T09:23:22.264Z"
   },
   {
    "duration": 28,
    "start_time": "2022-10-07T09:23:22.314Z"
   },
   {
    "duration": 20,
    "start_time": "2022-10-07T09:23:22.346Z"
   },
   {
    "duration": 21,
    "start_time": "2022-10-07T09:23:22.368Z"
   },
   {
    "duration": 5,
    "start_time": "2022-10-07T09:23:22.390Z"
   },
   {
    "duration": 47,
    "start_time": "2022-10-07T09:23:22.397Z"
   },
   {
    "duration": 19,
    "start_time": "2022-10-07T09:23:22.446Z"
   },
   {
    "duration": 16,
    "start_time": "2022-10-07T09:23:22.466Z"
   },
   {
    "duration": 102,
    "start_time": "2022-10-07T09:23:22.484Z"
   },
   {
    "duration": 0,
    "start_time": "2022-10-07T09:23:22.588Z"
   },
   {
    "duration": 0,
    "start_time": "2022-10-07T09:23:22.589Z"
   },
   {
    "duration": 0,
    "start_time": "2022-10-07T09:23:22.589Z"
   },
   {
    "duration": 0,
    "start_time": "2022-10-07T09:23:22.590Z"
   },
   {
    "duration": 0,
    "start_time": "2022-10-07T09:23:22.591Z"
   },
   {
    "duration": 0,
    "start_time": "2022-10-07T09:23:22.593Z"
   },
   {
    "duration": 0,
    "start_time": "2022-10-07T09:23:22.594Z"
   },
   {
    "duration": 0,
    "start_time": "2022-10-07T09:23:22.595Z"
   },
   {
    "duration": 0,
    "start_time": "2022-10-07T09:23:22.596Z"
   },
   {
    "duration": 0,
    "start_time": "2022-10-07T09:23:22.597Z"
   },
   {
    "duration": 0,
    "start_time": "2022-10-07T09:23:22.598Z"
   },
   {
    "duration": 0,
    "start_time": "2022-10-07T09:23:22.599Z"
   },
   {
    "duration": 0,
    "start_time": "2022-10-07T09:23:22.621Z"
   },
   {
    "duration": 0,
    "start_time": "2022-10-07T09:23:22.623Z"
   },
   {
    "duration": 0,
    "start_time": "2022-10-07T09:23:22.624Z"
   },
   {
    "duration": 6,
    "start_time": "2022-10-07T09:23:46.339Z"
   },
   {
    "duration": 21,
    "start_time": "2022-10-07T09:23:46.753Z"
   },
   {
    "duration": 21,
    "start_time": "2022-10-07T09:23:51.026Z"
   },
   {
    "duration": 18,
    "start_time": "2022-10-07T09:23:52.223Z"
   },
   {
    "duration": 8,
    "start_time": "2022-10-07T09:23:53.136Z"
   },
   {
    "duration": 5,
    "start_time": "2022-10-07T09:24:17.591Z"
   },
   {
    "duration": 11,
    "start_time": "2022-10-07T09:24:18.303Z"
   },
   {
    "duration": 6,
    "start_time": "2022-10-07T09:25:50.323Z"
   },
   {
    "duration": 14,
    "start_time": "2022-10-07T09:25:51.310Z"
   },
   {
    "duration": 5,
    "start_time": "2022-10-07T09:26:00.532Z"
   },
   {
    "duration": 25,
    "start_time": "2022-10-07T09:26:01.381Z"
   },
   {
    "duration": 17,
    "start_time": "2022-10-07T09:26:02.942Z"
   },
   {
    "duration": 22,
    "start_time": "2022-10-07T09:26:23.886Z"
   },
   {
    "duration": 19,
    "start_time": "2022-10-07T09:26:24.889Z"
   },
   {
    "duration": 1199,
    "start_time": "2022-10-07T09:27:08.115Z"
   },
   {
    "duration": 167,
    "start_time": "2022-10-07T09:27:09.316Z"
   },
   {
    "duration": 20,
    "start_time": "2022-10-07T09:27:09.485Z"
   },
   {
    "duration": 15,
    "start_time": "2022-10-07T09:27:09.507Z"
   },
   {
    "duration": 17,
    "start_time": "2022-10-07T09:27:09.523Z"
   },
   {
    "duration": 99,
    "start_time": "2022-10-07T09:27:09.542Z"
   },
   {
    "duration": 13,
    "start_time": "2022-10-07T09:27:09.643Z"
   },
   {
    "duration": 159,
    "start_time": "2022-10-07T09:27:09.658Z"
   },
   {
    "duration": 130,
    "start_time": "2022-10-07T09:27:09.822Z"
   },
   {
    "duration": 45,
    "start_time": "2022-10-07T09:27:09.956Z"
   },
   {
    "duration": 28,
    "start_time": "2022-10-07T09:27:10.003Z"
   },
   {
    "duration": 22,
    "start_time": "2022-10-07T09:27:10.034Z"
   },
   {
    "duration": 22,
    "start_time": "2022-10-07T09:27:10.058Z"
   },
   {
    "duration": 6,
    "start_time": "2022-10-07T09:27:10.081Z"
   },
   {
    "duration": 324,
    "start_time": "2022-10-07T09:27:10.089Z"
   },
   {
    "duration": 48,
    "start_time": "2022-10-07T09:27:10.415Z"
   },
   {
    "duration": 42,
    "start_time": "2022-10-07T09:27:10.465Z"
   },
   {
    "duration": 28,
    "start_time": "2022-10-07T09:27:10.522Z"
   },
   {
    "duration": 77,
    "start_time": "2022-10-07T09:27:10.552Z"
   },
   {
    "duration": 9,
    "start_time": "2022-10-07T09:27:10.631Z"
   },
   {
    "duration": 3,
    "start_time": "2022-10-07T09:27:10.642Z"
   },
   {
    "duration": 16,
    "start_time": "2022-10-07T09:27:10.647Z"
   },
   {
    "duration": 15,
    "start_time": "2022-10-07T09:27:10.664Z"
   },
   {
    "duration": 9,
    "start_time": "2022-10-07T09:27:10.680Z"
   },
   {
    "duration": 9,
    "start_time": "2022-10-07T09:27:10.691Z"
   },
   {
    "duration": 70,
    "start_time": "2022-10-07T09:27:10.702Z"
   },
   {
    "duration": 27,
    "start_time": "2022-10-07T09:27:10.774Z"
   },
   {
    "duration": 31,
    "start_time": "2022-10-07T09:27:10.804Z"
   },
   {
    "duration": 20,
    "start_time": "2022-10-07T09:27:10.836Z"
   },
   {
    "duration": 6,
    "start_time": "2022-10-07T09:27:10.857Z"
   },
   {
    "duration": 23,
    "start_time": "2022-10-07T09:27:10.865Z"
   },
   {
    "duration": 36,
    "start_time": "2022-10-07T09:27:10.890Z"
   },
   {
    "duration": 17,
    "start_time": "2022-10-07T09:27:10.928Z"
   },
   {
    "duration": 107,
    "start_time": "2022-10-07T09:27:10.947Z"
   },
   {
    "duration": 0,
    "start_time": "2022-10-07T09:27:11.056Z"
   },
   {
    "duration": 0,
    "start_time": "2022-10-07T09:27:11.057Z"
   },
   {
    "duration": 0,
    "start_time": "2022-10-07T09:27:11.059Z"
   },
   {
    "duration": 0,
    "start_time": "2022-10-07T09:27:11.060Z"
   },
   {
    "duration": 0,
    "start_time": "2022-10-07T09:27:11.061Z"
   },
   {
    "duration": 0,
    "start_time": "2022-10-07T09:27:11.063Z"
   },
   {
    "duration": 1,
    "start_time": "2022-10-07T09:27:11.064Z"
   },
   {
    "duration": 0,
    "start_time": "2022-10-07T09:27:11.066Z"
   },
   {
    "duration": 0,
    "start_time": "2022-10-07T09:27:11.068Z"
   },
   {
    "duration": 0,
    "start_time": "2022-10-07T09:27:11.070Z"
   },
   {
    "duration": 0,
    "start_time": "2022-10-07T09:27:11.071Z"
   },
   {
    "duration": 0,
    "start_time": "2022-10-07T09:27:11.073Z"
   },
   {
    "duration": 1,
    "start_time": "2022-10-07T09:27:11.074Z"
   },
   {
    "duration": 0,
    "start_time": "2022-10-07T09:27:11.076Z"
   },
   {
    "duration": 0,
    "start_time": "2022-10-07T09:27:11.078Z"
   },
   {
    "duration": 1040,
    "start_time": "2022-10-07T09:27:21.408Z"
   },
   {
    "duration": 146,
    "start_time": "2022-10-07T09:27:22.450Z"
   },
   {
    "duration": 24,
    "start_time": "2022-10-07T09:27:22.598Z"
   },
   {
    "duration": 12,
    "start_time": "2022-10-07T09:27:22.624Z"
   },
   {
    "duration": 49,
    "start_time": "2022-10-07T09:27:22.637Z"
   },
   {
    "duration": 68,
    "start_time": "2022-10-07T09:27:22.687Z"
   },
   {
    "duration": 13,
    "start_time": "2022-10-07T09:27:22.757Z"
   },
   {
    "duration": 144,
    "start_time": "2022-10-07T09:27:22.772Z"
   },
   {
    "duration": 113,
    "start_time": "2022-10-07T09:27:22.918Z"
   },
   {
    "duration": 41,
    "start_time": "2022-10-07T09:27:23.033Z"
   },
   {
    "duration": 9,
    "start_time": "2022-10-07T09:27:23.076Z"
   },
   {
    "duration": 18,
    "start_time": "2022-10-07T09:27:23.087Z"
   },
   {
    "duration": 29,
    "start_time": "2022-10-07T09:27:23.106Z"
   },
   {
    "duration": 6,
    "start_time": "2022-10-07T09:27:23.137Z"
   },
   {
    "duration": 275,
    "start_time": "2022-10-07T09:27:23.144Z"
   },
   {
    "duration": 36,
    "start_time": "2022-10-07T09:27:23.421Z"
   },
   {
    "duration": 36,
    "start_time": "2022-10-07T09:27:23.459Z"
   },
   {
    "duration": 38,
    "start_time": "2022-10-07T09:27:23.497Z"
   },
   {
    "duration": 47,
    "start_time": "2022-10-07T09:27:23.537Z"
   },
   {
    "duration": 7,
    "start_time": "2022-10-07T09:27:23.585Z"
   },
   {
    "duration": 14,
    "start_time": "2022-10-07T09:27:23.594Z"
   },
   {
    "duration": 27,
    "start_time": "2022-10-07T09:27:23.609Z"
   },
   {
    "duration": 13,
    "start_time": "2022-10-07T09:27:23.637Z"
   },
   {
    "duration": 11,
    "start_time": "2022-10-07T09:27:23.651Z"
   },
   {
    "duration": 31,
    "start_time": "2022-10-07T09:27:23.663Z"
   },
   {
    "duration": 53,
    "start_time": "2022-10-07T09:27:23.696Z"
   },
   {
    "duration": 25,
    "start_time": "2022-10-07T09:27:23.751Z"
   },
   {
    "duration": 20,
    "start_time": "2022-10-07T09:27:23.778Z"
   },
   {
    "duration": 28,
    "start_time": "2022-10-07T09:27:23.799Z"
   },
   {
    "duration": 6,
    "start_time": "2022-10-07T09:27:23.828Z"
   },
   {
    "duration": 31,
    "start_time": "2022-10-07T09:27:23.835Z"
   },
   {
    "duration": 14,
    "start_time": "2022-10-07T09:27:23.868Z"
   },
   {
    "duration": 15,
    "start_time": "2022-10-07T09:27:23.884Z"
   },
   {
    "duration": 24,
    "start_time": "2022-10-07T09:27:23.901Z"
   },
   {
    "duration": 13,
    "start_time": "2022-10-07T09:27:23.927Z"
   },
   {
    "duration": 18,
    "start_time": "2022-10-07T09:27:23.941Z"
   },
   {
    "duration": 15,
    "start_time": "2022-10-07T09:27:23.961Z"
   },
   {
    "duration": 17,
    "start_time": "2022-10-07T09:27:23.977Z"
   },
   {
    "duration": 41,
    "start_time": "2022-10-07T09:27:23.995Z"
   },
   {
    "duration": 19,
    "start_time": "2022-10-07T09:27:24.037Z"
   },
   {
    "duration": 15,
    "start_time": "2022-10-07T09:27:24.058Z"
   },
   {
    "duration": 17,
    "start_time": "2022-10-07T09:27:24.074Z"
   },
   {
    "duration": 42,
    "start_time": "2022-10-07T09:27:24.092Z"
   },
   {
    "duration": 19,
    "start_time": "2022-10-07T09:27:24.135Z"
   },
   {
    "duration": 26,
    "start_time": "2022-10-07T09:27:24.155Z"
   },
   {
    "duration": 41,
    "start_time": "2022-10-07T09:27:24.182Z"
   },
   {
    "duration": 22,
    "start_time": "2022-10-07T09:27:24.224Z"
   },
   {
    "duration": 23,
    "start_time": "2022-10-07T09:27:24.248Z"
   },
   {
    "duration": 3,
    "start_time": "2022-10-07T09:27:54.401Z"
   },
   {
    "duration": 5,
    "start_time": "2022-10-07T09:27:56.663Z"
   },
   {
    "duration": 4,
    "start_time": "2022-10-07T09:28:17.550Z"
   },
   {
    "duration": 107,
    "start_time": "2022-10-07T09:30:06.116Z"
   },
   {
    "duration": 26,
    "start_time": "2022-10-07T09:31:37.578Z"
   },
   {
    "duration": 27,
    "start_time": "2022-10-07T09:31:46.413Z"
   },
   {
    "duration": 27,
    "start_time": "2022-10-07T09:31:49.390Z"
   },
   {
    "duration": 25,
    "start_time": "2022-10-07T09:31:59.097Z"
   },
   {
    "duration": 21,
    "start_time": "2022-10-07T09:35:17.089Z"
   },
   {
    "duration": 23,
    "start_time": "2022-10-07T09:35:18.164Z"
   },
   {
    "duration": 22,
    "start_time": "2022-10-07T09:35:19.295Z"
   },
   {
    "duration": 21,
    "start_time": "2022-10-07T09:35:20.550Z"
   },
   {
    "duration": 25,
    "start_time": "2022-10-07T09:35:21.370Z"
   },
   {
    "duration": 24,
    "start_time": "2022-10-07T09:35:22.170Z"
   },
   {
    "duration": 1187,
    "start_time": "2022-10-07T09:35:35.870Z"
   },
   {
    "duration": 144,
    "start_time": "2022-10-07T09:35:37.059Z"
   },
   {
    "duration": 22,
    "start_time": "2022-10-07T09:35:37.205Z"
   },
   {
    "duration": 2,
    "start_time": "2022-10-07T09:35:37.229Z"
   },
   {
    "duration": 17,
    "start_time": "2022-10-07T09:35:37.233Z"
   },
   {
    "duration": 77,
    "start_time": "2022-10-07T09:35:37.251Z"
   },
   {
    "duration": 12,
    "start_time": "2022-10-07T09:35:37.330Z"
   },
   {
    "duration": 160,
    "start_time": "2022-10-07T09:35:37.343Z"
   },
   {
    "duration": 117,
    "start_time": "2022-10-07T09:35:37.504Z"
   },
   {
    "duration": 38,
    "start_time": "2022-10-07T09:35:37.623Z"
   },
   {
    "duration": 9,
    "start_time": "2022-10-07T09:35:37.663Z"
   },
   {
    "duration": 12,
    "start_time": "2022-10-07T09:35:37.674Z"
   },
   {
    "duration": 21,
    "start_time": "2022-10-07T09:35:37.687Z"
   },
   {
    "duration": 5,
    "start_time": "2022-10-07T09:35:37.723Z"
   },
   {
    "duration": 293,
    "start_time": "2022-10-07T09:35:37.729Z"
   },
   {
    "duration": 37,
    "start_time": "2022-10-07T09:35:38.024Z"
   },
   {
    "duration": 36,
    "start_time": "2022-10-07T09:35:38.062Z"
   },
   {
    "duration": 39,
    "start_time": "2022-10-07T09:35:38.099Z"
   },
   {
    "duration": 47,
    "start_time": "2022-10-07T09:35:38.139Z"
   },
   {
    "duration": 6,
    "start_time": "2022-10-07T09:35:38.187Z"
   },
   {
    "duration": 2,
    "start_time": "2022-10-07T09:35:38.195Z"
   },
   {
    "duration": 25,
    "start_time": "2022-10-07T09:35:38.199Z"
   },
   {
    "duration": 15,
    "start_time": "2022-10-07T09:35:38.225Z"
   },
   {
    "duration": 10,
    "start_time": "2022-10-07T09:35:38.241Z"
   },
   {
    "duration": 10,
    "start_time": "2022-10-07T09:35:38.252Z"
   },
   {
    "duration": 66,
    "start_time": "2022-10-07T09:35:38.264Z"
   },
   {
    "duration": 28,
    "start_time": "2022-10-07T09:35:38.332Z"
   },
   {
    "duration": 19,
    "start_time": "2022-10-07T09:35:38.362Z"
   },
   {
    "duration": 43,
    "start_time": "2022-10-07T09:35:38.383Z"
   },
   {
    "duration": 6,
    "start_time": "2022-10-07T09:35:38.427Z"
   },
   {
    "duration": 24,
    "start_time": "2022-10-07T09:35:38.435Z"
   },
   {
    "duration": 18,
    "start_time": "2022-10-07T09:35:38.461Z"
   },
   {
    "duration": 18,
    "start_time": "2022-10-07T09:35:38.480Z"
   },
   {
    "duration": 17,
    "start_time": "2022-10-07T09:35:38.522Z"
   },
   {
    "duration": 15,
    "start_time": "2022-10-07T09:35:38.540Z"
   },
   {
    "duration": 19,
    "start_time": "2022-10-07T09:35:38.557Z"
   },
   {
    "duration": 16,
    "start_time": "2022-10-07T09:35:38.578Z"
   },
   {
    "duration": 41,
    "start_time": "2022-10-07T09:35:38.595Z"
   },
   {
    "duration": 16,
    "start_time": "2022-10-07T09:35:38.637Z"
   },
   {
    "duration": 19,
    "start_time": "2022-10-07T09:35:38.654Z"
   },
   {
    "duration": 16,
    "start_time": "2022-10-07T09:35:38.676Z"
   },
   {
    "duration": 39,
    "start_time": "2022-10-07T09:35:38.694Z"
   },
   {
    "duration": 16,
    "start_time": "2022-10-07T09:35:38.734Z"
   },
   {
    "duration": 20,
    "start_time": "2022-10-07T09:35:38.751Z"
   },
   {
    "duration": 49,
    "start_time": "2022-10-07T09:35:38.773Z"
   },
   {
    "duration": 24,
    "start_time": "2022-10-07T09:35:38.823Z"
   },
   {
    "duration": 24,
    "start_time": "2022-10-07T09:35:38.849Z"
   },
   {
    "duration": 21,
    "start_time": "2022-10-07T09:35:38.875Z"
   },
   {
    "duration": 1022,
    "start_time": "2022-10-07T09:39:38.652Z"
   },
   {
    "duration": 158,
    "start_time": "2022-10-07T09:39:39.675Z"
   },
   {
    "duration": 17,
    "start_time": "2022-10-07T09:39:39.834Z"
   },
   {
    "duration": 3,
    "start_time": "2022-10-07T09:39:39.853Z"
   },
   {
    "duration": 35,
    "start_time": "2022-10-07T09:39:39.857Z"
   },
   {
    "duration": 75,
    "start_time": "2022-10-07T09:39:39.894Z"
   },
   {
    "duration": 13,
    "start_time": "2022-10-07T09:39:39.971Z"
   },
   {
    "duration": 158,
    "start_time": "2022-10-07T09:39:39.985Z"
   },
   {
    "duration": 119,
    "start_time": "2022-10-07T09:39:40.144Z"
   },
   {
    "duration": 40,
    "start_time": "2022-10-07T09:39:40.265Z"
   },
   {
    "duration": 20,
    "start_time": "2022-10-07T09:39:40.307Z"
   },
   {
    "duration": 26,
    "start_time": "2022-10-07T09:39:40.328Z"
   },
   {
    "duration": 19,
    "start_time": "2022-10-07T09:39:40.355Z"
   },
   {
    "duration": 5,
    "start_time": "2022-10-07T09:39:40.375Z"
   },
   {
    "duration": 286,
    "start_time": "2022-10-07T09:39:40.382Z"
   },
   {
    "duration": 53,
    "start_time": "2022-10-07T09:39:40.670Z"
   },
   {
    "duration": 38,
    "start_time": "2022-10-07T09:39:40.725Z"
   },
   {
    "duration": 29,
    "start_time": "2022-10-07T09:39:40.765Z"
   },
   {
    "duration": 73,
    "start_time": "2022-10-07T09:39:40.796Z"
   },
   {
    "duration": 8,
    "start_time": "2022-10-07T09:39:40.870Z"
   },
   {
    "duration": 6,
    "start_time": "2022-10-07T09:39:40.880Z"
   },
   {
    "duration": 11,
    "start_time": "2022-10-07T09:39:40.887Z"
   },
   {
    "duration": 32,
    "start_time": "2022-10-07T09:39:40.899Z"
   },
   {
    "duration": 15,
    "start_time": "2022-10-07T09:39:40.932Z"
   },
   {
    "duration": 7,
    "start_time": "2022-10-07T09:39:40.949Z"
   },
   {
    "duration": 49,
    "start_time": "2022-10-07T09:39:40.957Z"
   },
   {
    "duration": 28,
    "start_time": "2022-10-07T09:39:41.008Z"
   },
   {
    "duration": 18,
    "start_time": "2022-10-07T09:39:41.040Z"
   },
   {
    "duration": 22,
    "start_time": "2022-10-07T09:39:41.059Z"
   },
   {
    "duration": 7,
    "start_time": "2022-10-07T09:39:41.084Z"
   },
   {
    "duration": 43,
    "start_time": "2022-10-07T09:39:41.093Z"
   },
   {
    "duration": 16,
    "start_time": "2022-10-07T09:39:41.138Z"
   },
   {
    "duration": 16,
    "start_time": "2022-10-07T09:39:41.156Z"
   },
   {
    "duration": 16,
    "start_time": "2022-10-07T09:39:41.173Z"
   },
   {
    "duration": 36,
    "start_time": "2022-10-07T09:39:41.191Z"
   },
   {
    "duration": 20,
    "start_time": "2022-10-07T09:39:41.229Z"
   },
   {
    "duration": 16,
    "start_time": "2022-10-07T09:39:41.251Z"
   },
   {
    "duration": 18,
    "start_time": "2022-10-07T09:39:41.268Z"
   },
   {
    "duration": 43,
    "start_time": "2022-10-07T09:39:41.288Z"
   },
   {
    "duration": 20,
    "start_time": "2022-10-07T09:39:41.332Z"
   },
   {
    "duration": 19,
    "start_time": "2022-10-07T09:39:41.353Z"
   },
   {
    "duration": 34,
    "start_time": "2022-10-07T09:39:41.373Z"
   },
   {
    "duration": 29,
    "start_time": "2022-10-07T09:39:41.409Z"
   },
   {
    "duration": 23,
    "start_time": "2022-10-07T09:39:41.440Z"
   },
   {
    "duration": 34,
    "start_time": "2022-10-07T09:39:41.465Z"
   },
   {
    "duration": 28,
    "start_time": "2022-10-07T09:39:41.522Z"
   },
   {
    "duration": 28,
    "start_time": "2022-10-07T09:39:41.552Z"
   },
   {
    "duration": 43,
    "start_time": "2022-10-07T09:39:41.582Z"
   },
   {
    "duration": 23,
    "start_time": "2022-10-07T09:41:29.528Z"
   },
   {
    "duration": 25,
    "start_time": "2022-10-07T09:41:53.296Z"
   },
   {
    "duration": 49,
    "start_time": "2022-10-07T09:44:15.262Z"
   },
   {
    "duration": 26,
    "start_time": "2022-10-07T09:44:21.309Z"
   },
   {
    "duration": 27,
    "start_time": "2022-10-07T09:44:22.182Z"
   },
   {
    "duration": 27,
    "start_time": "2022-10-07T09:44:33.060Z"
   },
   {
    "duration": 87,
    "start_time": "2022-10-07T09:54:47.451Z"
   },
   {
    "duration": 79,
    "start_time": "2022-10-07T09:55:14.157Z"
   },
   {
    "duration": 81,
    "start_time": "2022-10-07T09:55:16.978Z"
   },
   {
    "duration": 84,
    "start_time": "2022-10-07T09:55:31.124Z"
   },
   {
    "duration": 78,
    "start_time": "2022-10-07T09:55:45.529Z"
   },
   {
    "duration": 79,
    "start_time": "2022-10-07T09:55:52.737Z"
   },
   {
    "duration": 84,
    "start_time": "2022-10-07T09:56:00.515Z"
   },
   {
    "duration": 208,
    "start_time": "2022-10-07T09:57:58.808Z"
   },
   {
    "duration": 270,
    "start_time": "2022-10-07T09:58:25.853Z"
   },
   {
    "duration": 253,
    "start_time": "2022-10-07T09:58:41.395Z"
   },
   {
    "duration": 87,
    "start_time": "2022-10-07T09:59:01.073Z"
   },
   {
    "duration": 1228,
    "start_time": "2022-10-07T09:59:15.522Z"
   },
   {
    "duration": 83,
    "start_time": "2022-10-07T09:59:26.832Z"
   },
   {
    "duration": 9,
    "start_time": "2022-10-07T09:59:35.764Z"
   },
   {
    "duration": 81,
    "start_time": "2022-10-07T09:59:40.782Z"
   },
   {
    "duration": 1710,
    "start_time": "2022-10-07T09:59:49.509Z"
   },
   {
    "duration": 82,
    "start_time": "2022-10-07T09:59:54.051Z"
   },
   {
    "duration": 70,
    "start_time": "2022-10-07T10:01:26.723Z"
   },
   {
    "duration": 92,
    "start_time": "2022-10-07T10:01:30.373Z"
   },
   {
    "duration": 84,
    "start_time": "2022-10-07T10:01:44.427Z"
   },
   {
    "duration": 85,
    "start_time": "2022-10-07T10:02:04.347Z"
   },
   {
    "duration": 81,
    "start_time": "2022-10-07T10:02:13.695Z"
   },
   {
    "duration": 93,
    "start_time": "2022-10-07T10:02:43.097Z"
   },
   {
    "duration": 88,
    "start_time": "2022-10-07T10:03:05.374Z"
   },
   {
    "duration": 115,
    "start_time": "2022-10-07T10:03:14.715Z"
   },
   {
    "duration": 84,
    "start_time": "2022-10-07T10:03:21.515Z"
   },
   {
    "duration": 152,
    "start_time": "2022-10-07T10:03:28.242Z"
   },
   {
    "duration": 88,
    "start_time": "2022-10-07T10:04:01.637Z"
   },
   {
    "duration": 82,
    "start_time": "2022-10-07T10:04:12.780Z"
   },
   {
    "duration": 78,
    "start_time": "2022-10-07T10:04:23.454Z"
   },
   {
    "duration": 92,
    "start_time": "2022-10-07T10:04:27.751Z"
   },
   {
    "duration": 164,
    "start_time": "2022-10-07T10:04:36.649Z"
   },
   {
    "duration": 85,
    "start_time": "2022-10-07T10:04:46.379Z"
   },
   {
    "duration": 163,
    "start_time": "2022-10-07T10:05:30.106Z"
   },
   {
    "duration": 140,
    "start_time": "2022-10-07T10:05:36.392Z"
   },
   {
    "duration": 201,
    "start_time": "2022-10-07T10:07:08.684Z"
   },
   {
    "duration": 153,
    "start_time": "2022-10-07T10:07:53.482Z"
   },
   {
    "duration": 90,
    "start_time": "2022-10-07T10:08:06.198Z"
   },
   {
    "duration": 182,
    "start_time": "2022-10-07T10:08:07.936Z"
   },
   {
    "duration": 82,
    "start_time": "2022-10-07T10:08:26.629Z"
   },
   {
    "duration": 198,
    "start_time": "2022-10-07T10:08:27.726Z"
   },
   {
    "duration": 207,
    "start_time": "2022-10-07T10:10:36.619Z"
   },
   {
    "duration": 24,
    "start_time": "2022-10-07T10:12:33.112Z"
   },
   {
    "duration": 29,
    "start_time": "2022-10-07T10:12:34.066Z"
   },
   {
    "duration": 14,
    "start_time": "2022-10-07T10:16:51.193Z"
   },
   {
    "duration": 13,
    "start_time": "2022-10-07T10:18:10.368Z"
   },
   {
    "duration": 227,
    "start_time": "2022-10-07T10:19:31.615Z"
   },
   {
    "duration": 13,
    "start_time": "2022-10-07T10:22:02.953Z"
   },
   {
    "duration": 16,
    "start_time": "2022-10-07T10:22:15.200Z"
   },
   {
    "duration": 14,
    "start_time": "2022-10-07T10:22:18.720Z"
   },
   {
    "duration": 1486,
    "start_time": "2022-10-07T10:24:03.979Z"
   },
   {
    "duration": 1047,
    "start_time": "2022-10-07T10:25:04.305Z"
   },
   {
    "duration": 173,
    "start_time": "2022-10-07T10:25:05.355Z"
   },
   {
    "duration": 18,
    "start_time": "2022-10-07T10:25:05.530Z"
   },
   {
    "duration": 3,
    "start_time": "2022-10-07T10:25:05.550Z"
   },
   {
    "duration": 17,
    "start_time": "2022-10-07T10:25:05.556Z"
   },
   {
    "duration": 110,
    "start_time": "2022-10-07T10:25:05.575Z"
   },
   {
    "duration": 14,
    "start_time": "2022-10-07T10:25:05.687Z"
   },
   {
    "duration": 169,
    "start_time": "2022-10-07T10:25:05.703Z"
   },
   {
    "duration": 128,
    "start_time": "2022-10-07T10:25:05.873Z"
   },
   {
    "duration": 63,
    "start_time": "2022-10-07T10:25:06.004Z"
   },
   {
    "duration": 14,
    "start_time": "2022-10-07T10:25:06.069Z"
   },
   {
    "duration": 18,
    "start_time": "2022-10-07T10:25:06.085Z"
   },
   {
    "duration": 32,
    "start_time": "2022-10-07T10:25:06.104Z"
   },
   {
    "duration": 13,
    "start_time": "2022-10-07T10:25:06.141Z"
   },
   {
    "duration": 301,
    "start_time": "2022-10-07T10:25:06.156Z"
   },
   {
    "duration": 66,
    "start_time": "2022-10-07T10:25:06.459Z"
   },
   {
    "duration": 48,
    "start_time": "2022-10-07T10:25:06.527Z"
   },
   {
    "duration": 27,
    "start_time": "2022-10-07T10:25:06.577Z"
   },
   {
    "duration": 49,
    "start_time": "2022-10-07T10:25:06.622Z"
   },
   {
    "duration": 8,
    "start_time": "2022-10-07T10:25:06.673Z"
   },
   {
    "duration": 7,
    "start_time": "2022-10-07T10:25:06.683Z"
   },
   {
    "duration": 32,
    "start_time": "2022-10-07T10:25:06.691Z"
   },
   {
    "duration": 13,
    "start_time": "2022-10-07T10:25:06.725Z"
   },
   {
    "duration": 7,
    "start_time": "2022-10-07T10:25:06.740Z"
   },
   {
    "duration": 9,
    "start_time": "2022-10-07T10:25:06.749Z"
   },
   {
    "duration": 50,
    "start_time": "2022-10-07T10:25:06.759Z"
   },
   {
    "duration": 59,
    "start_time": "2022-10-07T10:25:06.811Z"
   },
   {
    "duration": 25,
    "start_time": "2022-10-07T10:25:06.872Z"
   },
   {
    "duration": 1128,
    "start_time": "2022-10-07T10:25:08.449Z"
   },
   {
    "duration": 161,
    "start_time": "2022-10-07T10:25:09.580Z"
   },
   {
    "duration": 20,
    "start_time": "2022-10-07T10:25:09.742Z"
   },
   {
    "duration": 3,
    "start_time": "2022-10-07T10:25:09.764Z"
   },
   {
    "duration": 22,
    "start_time": "2022-10-07T10:25:09.769Z"
   },
   {
    "duration": 96,
    "start_time": "2022-10-07T10:25:09.793Z"
   },
   {
    "duration": 15,
    "start_time": "2022-10-07T10:25:09.891Z"
   },
   {
    "duration": 171,
    "start_time": "2022-10-07T10:25:09.908Z"
   },
   {
    "duration": 124,
    "start_time": "2022-10-07T10:25:10.081Z"
   },
   {
    "duration": 58,
    "start_time": "2022-10-07T10:25:10.206Z"
   },
   {
    "duration": 11,
    "start_time": "2022-10-07T10:25:10.266Z"
   },
   {
    "duration": 23,
    "start_time": "2022-10-07T10:25:10.279Z"
   },
   {
    "duration": 25,
    "start_time": "2022-10-07T10:25:10.303Z"
   },
   {
    "duration": 5,
    "start_time": "2022-10-07T10:25:10.331Z"
   },
   {
    "duration": 295,
    "start_time": "2022-10-07T10:25:10.337Z"
   },
   {
    "duration": 40,
    "start_time": "2022-10-07T10:25:10.633Z"
   },
   {
    "duration": 60,
    "start_time": "2022-10-07T10:25:10.675Z"
   },
   {
    "duration": 26,
    "start_time": "2022-10-07T10:25:10.737Z"
   },
   {
    "duration": 62,
    "start_time": "2022-10-07T10:25:10.765Z"
   },
   {
    "duration": 8,
    "start_time": "2022-10-07T10:25:10.828Z"
   },
   {
    "duration": 3,
    "start_time": "2022-10-07T10:25:10.837Z"
   },
   {
    "duration": 12,
    "start_time": "2022-10-07T10:25:10.841Z"
   },
   {
    "duration": 21,
    "start_time": "2022-10-07T10:25:10.855Z"
   },
   {
    "duration": 9,
    "start_time": "2022-10-07T10:25:10.878Z"
   },
   {
    "duration": 10,
    "start_time": "2022-10-07T10:25:10.888Z"
   },
   {
    "duration": 53,
    "start_time": "2022-10-07T10:25:10.899Z"
   },
   {
    "duration": 53,
    "start_time": "2022-10-07T10:25:10.953Z"
   },
   {
    "duration": 35,
    "start_time": "2022-10-07T10:25:11.008Z"
   },
   {
    "duration": 26,
    "start_time": "2022-10-07T10:25:11.045Z"
   },
   {
    "duration": 109,
    "start_time": "2022-10-07T10:25:11.073Z"
   },
   {
    "duration": 215,
    "start_time": "2022-10-07T10:25:11.184Z"
   },
   {
    "duration": 22,
    "start_time": "2022-10-07T10:25:11.401Z"
   },
   {
    "duration": 5330,
    "start_time": "2022-10-07T10:25:11.424Z"
   },
   {
    "duration": 0,
    "start_time": "2022-10-07T10:25:16.756Z"
   },
   {
    "duration": 0,
    "start_time": "2022-10-07T10:25:16.757Z"
   },
   {
    "duration": 0,
    "start_time": "2022-10-07T10:25:16.758Z"
   },
   {
    "duration": 0,
    "start_time": "2022-10-07T10:25:16.759Z"
   },
   {
    "duration": 0,
    "start_time": "2022-10-07T10:25:16.760Z"
   },
   {
    "duration": 0,
    "start_time": "2022-10-07T10:25:16.761Z"
   },
   {
    "duration": 0,
    "start_time": "2022-10-07T10:25:16.762Z"
   },
   {
    "duration": 0,
    "start_time": "2022-10-07T10:25:16.763Z"
   },
   {
    "duration": 0,
    "start_time": "2022-10-07T10:25:16.764Z"
   },
   {
    "duration": 0,
    "start_time": "2022-10-07T10:25:16.765Z"
   },
   {
    "duration": 0,
    "start_time": "2022-10-07T10:25:16.766Z"
   },
   {
    "duration": 0,
    "start_time": "2022-10-07T10:25:16.766Z"
   },
   {
    "duration": 0,
    "start_time": "2022-10-07T10:25:16.768Z"
   },
   {
    "duration": 0,
    "start_time": "2022-10-07T10:25:16.768Z"
   },
   {
    "duration": 0,
    "start_time": "2022-10-07T10:25:16.770Z"
   },
   {
    "duration": 0,
    "start_time": "2022-10-07T10:25:16.770Z"
   },
   {
    "duration": 0,
    "start_time": "2022-10-07T10:25:16.772Z"
   },
   {
    "duration": 0,
    "start_time": "2022-10-07T10:25:16.773Z"
   },
   {
    "duration": 0,
    "start_time": "2022-10-07T10:25:16.774Z"
   },
   {
    "duration": 0,
    "start_time": "2022-10-07T10:25:16.775Z"
   },
   {
    "duration": 37,
    "start_time": "2022-10-07T10:29:54.426Z"
   },
   {
    "duration": 35,
    "start_time": "2022-10-07T10:32:03.861Z"
   },
   {
    "duration": 85,
    "start_time": "2022-10-07T10:32:42.378Z"
   },
   {
    "duration": 86,
    "start_time": "2022-10-07T10:32:51.204Z"
   },
   {
    "duration": 82,
    "start_time": "2022-10-07T10:32:58.338Z"
   },
   {
    "duration": 91,
    "start_time": "2022-10-07T10:33:08.092Z"
   },
   {
    "duration": 125,
    "start_time": "2022-10-07T10:33:30.049Z"
   },
   {
    "duration": 91,
    "start_time": "2022-10-07T10:33:35.835Z"
   },
   {
    "duration": 87,
    "start_time": "2022-10-07T10:33:40.200Z"
   },
   {
    "duration": 97,
    "start_time": "2022-10-07T10:33:56.934Z"
   },
   {
    "duration": 102,
    "start_time": "2022-10-07T10:34:01.198Z"
   },
   {
    "duration": 1195,
    "start_time": "2022-10-07T10:34:08.148Z"
   },
   {
    "duration": 1232,
    "start_time": "2022-10-07T10:34:11.397Z"
   },
   {
    "duration": 87,
    "start_time": "2022-10-07T10:34:15.499Z"
   },
   {
    "duration": 85,
    "start_time": "2022-10-07T10:34:34.372Z"
   },
   {
    "duration": 86,
    "start_time": "2022-10-07T10:34:37.485Z"
   },
   {
    "duration": 86,
    "start_time": "2022-10-07T10:35:02.159Z"
   },
   {
    "duration": 1058,
    "start_time": "2022-10-07T10:41:25.771Z"
   },
   {
    "duration": 145,
    "start_time": "2022-10-07T10:41:26.831Z"
   },
   {
    "duration": 17,
    "start_time": "2022-10-07T10:41:26.977Z"
   },
   {
    "duration": 3,
    "start_time": "2022-10-07T10:41:26.995Z"
   },
   {
    "duration": 27,
    "start_time": "2022-10-07T10:41:27.000Z"
   },
   {
    "duration": 70,
    "start_time": "2022-10-07T10:41:27.029Z"
   },
   {
    "duration": 27,
    "start_time": "2022-10-07T10:41:27.100Z"
   },
   {
    "duration": 141,
    "start_time": "2022-10-07T10:41:27.128Z"
   },
   {
    "duration": 121,
    "start_time": "2022-10-07T10:41:27.271Z"
   },
   {
    "duration": 53,
    "start_time": "2022-10-07T10:41:27.394Z"
   },
   {
    "duration": 15,
    "start_time": "2022-10-07T10:41:27.448Z"
   },
   {
    "duration": 11,
    "start_time": "2022-10-07T10:41:27.465Z"
   },
   {
    "duration": 19,
    "start_time": "2022-10-07T10:41:27.477Z"
   },
   {
    "duration": 24,
    "start_time": "2022-10-07T10:41:27.498Z"
   },
   {
    "duration": 265,
    "start_time": "2022-10-07T10:41:27.524Z"
   },
   {
    "duration": 46,
    "start_time": "2022-10-07T10:41:27.791Z"
   },
   {
    "duration": 49,
    "start_time": "2022-10-07T10:41:27.839Z"
   },
   {
    "duration": 40,
    "start_time": "2022-10-07T10:41:27.890Z"
   },
   {
    "duration": 47,
    "start_time": "2022-10-07T10:41:27.931Z"
   },
   {
    "duration": 7,
    "start_time": "2022-10-07T10:41:27.980Z"
   },
   {
    "duration": 7,
    "start_time": "2022-10-07T10:41:27.988Z"
   },
   {
    "duration": 13,
    "start_time": "2022-10-07T10:41:27.996Z"
   },
   {
    "duration": 22,
    "start_time": "2022-10-07T10:41:28.010Z"
   },
   {
    "duration": 8,
    "start_time": "2022-10-07T10:41:28.033Z"
   },
   {
    "duration": 9,
    "start_time": "2022-10-07T10:41:28.043Z"
   },
   {
    "duration": 58,
    "start_time": "2022-10-07T10:41:28.053Z"
   },
   {
    "duration": 57,
    "start_time": "2022-10-07T10:41:28.112Z"
   },
   {
    "duration": 23,
    "start_time": "2022-10-07T10:41:28.170Z"
   },
   {
    "duration": 44,
    "start_time": "2022-10-07T10:41:28.194Z"
   },
   {
    "duration": 92,
    "start_time": "2022-10-07T10:41:28.239Z"
   },
   {
    "duration": 203,
    "start_time": "2022-10-07T10:41:28.333Z"
   },
   {
    "duration": 6,
    "start_time": "2022-10-07T10:41:28.537Z"
   },
   {
    "duration": 26,
    "start_time": "2022-10-07T10:41:28.544Z"
   },
   {
    "duration": 16,
    "start_time": "2022-10-07T10:41:28.572Z"
   },
   {
    "duration": 16,
    "start_time": "2022-10-07T10:41:28.589Z"
   },
   {
    "duration": 17,
    "start_time": "2022-10-07T10:41:28.622Z"
   },
   {
    "duration": 15,
    "start_time": "2022-10-07T10:41:28.641Z"
   },
   {
    "duration": 19,
    "start_time": "2022-10-07T10:41:28.657Z"
   },
   {
    "duration": 44,
    "start_time": "2022-10-07T10:41:28.678Z"
   },
   {
    "duration": 23,
    "start_time": "2022-10-07T10:41:28.723Z"
   },
   {
    "duration": 30,
    "start_time": "2022-10-07T10:41:28.750Z"
   },
   {
    "duration": 21,
    "start_time": "2022-10-07T10:41:28.781Z"
   },
   {
    "duration": 24,
    "start_time": "2022-10-07T10:41:28.804Z"
   },
   {
    "duration": 23,
    "start_time": "2022-10-07T10:41:28.830Z"
   },
   {
    "duration": 28,
    "start_time": "2022-10-07T10:41:28.855Z"
   },
   {
    "duration": 22,
    "start_time": "2022-10-07T10:41:28.884Z"
   },
   {
    "duration": 38,
    "start_time": "2022-10-07T10:41:28.908Z"
   },
   {
    "duration": 24,
    "start_time": "2022-10-07T10:41:28.948Z"
   },
   {
    "duration": 24,
    "start_time": "2022-10-07T10:41:28.974Z"
   },
   {
    "duration": 42,
    "start_time": "2022-10-07T10:41:29.000Z"
   },
   {
    "duration": 1075,
    "start_time": "2022-10-07T10:55:04.722Z"
   },
   {
    "duration": 151,
    "start_time": "2022-10-07T10:55:05.799Z"
   },
   {
    "duration": 16,
    "start_time": "2022-10-07T10:55:05.952Z"
   },
   {
    "duration": 5,
    "start_time": "2022-10-07T10:55:05.970Z"
   },
   {
    "duration": 17,
    "start_time": "2022-10-07T10:55:05.976Z"
   },
   {
    "duration": 92,
    "start_time": "2022-10-07T10:55:05.995Z"
   },
   {
    "duration": 16,
    "start_time": "2022-10-07T10:55:06.089Z"
   },
   {
    "duration": 162,
    "start_time": "2022-10-07T10:55:06.122Z"
   },
   {
    "duration": 125,
    "start_time": "2022-10-07T10:55:06.286Z"
   },
   {
    "duration": 40,
    "start_time": "2022-10-07T10:55:06.421Z"
   },
   {
    "duration": 9,
    "start_time": "2022-10-07T10:55:06.463Z"
   },
   {
    "duration": 22,
    "start_time": "2022-10-07T10:55:06.480Z"
   },
   {
    "duration": 22,
    "start_time": "2022-10-07T10:55:06.504Z"
   },
   {
    "duration": 5,
    "start_time": "2022-10-07T10:55:06.528Z"
   },
   {
    "duration": 275,
    "start_time": "2022-10-07T10:55:06.535Z"
   },
   {
    "duration": 40,
    "start_time": "2022-10-07T10:55:06.811Z"
   },
   {
    "duration": 43,
    "start_time": "2022-10-07T10:55:06.852Z"
   },
   {
    "duration": 40,
    "start_time": "2022-10-07T10:55:06.896Z"
   },
   {
    "duration": 47,
    "start_time": "2022-10-07T10:55:06.937Z"
   },
   {
    "duration": 8,
    "start_time": "2022-10-07T10:55:06.985Z"
   },
   {
    "duration": 3,
    "start_time": "2022-10-07T10:55:06.994Z"
   },
   {
    "duration": 26,
    "start_time": "2022-10-07T10:55:06.998Z"
   },
   {
    "duration": 14,
    "start_time": "2022-10-07T10:55:07.025Z"
   },
   {
    "duration": 6,
    "start_time": "2022-10-07T10:55:07.041Z"
   },
   {
    "duration": 11,
    "start_time": "2022-10-07T10:55:07.049Z"
   },
   {
    "duration": 46,
    "start_time": "2022-10-07T10:55:07.061Z"
   },
   {
    "duration": 63,
    "start_time": "2022-10-07T10:55:07.108Z"
   },
   {
    "duration": 26,
    "start_time": "2022-10-07T10:55:07.174Z"
   },
   {
    "duration": 42,
    "start_time": "2022-10-07T10:55:07.202Z"
   },
   {
    "duration": 100,
    "start_time": "2022-10-07T10:55:07.246Z"
   },
   {
    "duration": 208,
    "start_time": "2022-10-07T10:55:07.348Z"
   },
   {
    "duration": 6,
    "start_time": "2022-10-07T10:55:07.558Z"
   },
   {
    "duration": 24,
    "start_time": "2022-10-07T10:55:07.566Z"
   },
   {
    "duration": 30,
    "start_time": "2022-10-07T10:55:07.592Z"
   },
   {
    "duration": 17,
    "start_time": "2022-10-07T10:55:07.624Z"
   },
   {
    "duration": 16,
    "start_time": "2022-10-07T10:55:07.642Z"
   },
   {
    "duration": 15,
    "start_time": "2022-10-07T10:55:07.660Z"
   },
   {
    "duration": 49,
    "start_time": "2022-10-07T10:55:07.677Z"
   },
   {
    "duration": 18,
    "start_time": "2022-10-07T10:55:07.728Z"
   },
   {
    "duration": 18,
    "start_time": "2022-10-07T10:55:07.747Z"
   },
   {
    "duration": 17,
    "start_time": "2022-10-07T10:55:07.767Z"
   },
   {
    "duration": 48,
    "start_time": "2022-10-07T10:55:07.786Z"
   },
   {
    "duration": 19,
    "start_time": "2022-10-07T10:55:07.835Z"
   },
   {
    "duration": 19,
    "start_time": "2022-10-07T10:55:07.856Z"
   },
   {
    "duration": 17,
    "start_time": "2022-10-07T10:55:07.877Z"
   },
   {
    "duration": 42,
    "start_time": "2022-10-07T10:55:07.896Z"
   },
   {
    "duration": 28,
    "start_time": "2022-10-07T10:55:07.940Z"
   },
   {
    "duration": 20,
    "start_time": "2022-10-07T10:55:07.970Z"
   },
   {
    "duration": 45,
    "start_time": "2022-10-07T10:55:07.992Z"
   },
   {
    "duration": 23,
    "start_time": "2022-10-07T10:55:08.038Z"
   },
   {
    "duration": 1077,
    "start_time": "2022-10-07T11:32:31.329Z"
   },
   {
    "duration": 143,
    "start_time": "2022-10-07T11:32:32.408Z"
   },
   {
    "duration": 17,
    "start_time": "2022-10-07T11:32:32.552Z"
   },
   {
    "duration": 3,
    "start_time": "2022-10-07T11:32:32.570Z"
   },
   {
    "duration": 23,
    "start_time": "2022-10-07T11:32:32.574Z"
   },
   {
    "duration": 78,
    "start_time": "2022-10-07T11:32:32.599Z"
   },
   {
    "duration": 13,
    "start_time": "2022-10-07T11:32:32.678Z"
   },
   {
    "duration": 149,
    "start_time": "2022-10-07T11:32:32.693Z"
   },
   {
    "duration": 118,
    "start_time": "2022-10-07T11:32:32.844Z"
   },
   {
    "duration": 77,
    "start_time": "2022-10-07T11:32:32.965Z"
   },
   {
    "duration": 11,
    "start_time": "2022-10-07T11:32:33.044Z"
   },
   {
    "duration": 10,
    "start_time": "2022-10-07T11:32:33.057Z"
   },
   {
    "duration": 28,
    "start_time": "2022-10-07T11:32:33.068Z"
   },
   {
    "duration": 5,
    "start_time": "2022-10-07T11:32:33.098Z"
   },
   {
    "duration": 289,
    "start_time": "2022-10-07T11:32:33.105Z"
   },
   {
    "duration": 44,
    "start_time": "2022-10-07T11:32:33.396Z"
   },
   {
    "duration": 40,
    "start_time": "2022-10-07T11:32:33.441Z"
   },
   {
    "duration": 45,
    "start_time": "2022-10-07T11:32:33.483Z"
   },
   {
    "duration": 49,
    "start_time": "2022-10-07T11:32:33.530Z"
   },
   {
    "duration": 8,
    "start_time": "2022-10-07T11:32:33.581Z"
   },
   {
    "duration": 5,
    "start_time": "2022-10-07T11:32:33.591Z"
   },
   {
    "duration": 29,
    "start_time": "2022-10-07T11:32:33.598Z"
   },
   {
    "duration": 12,
    "start_time": "2022-10-07T11:32:33.629Z"
   },
   {
    "duration": 32,
    "start_time": "2022-10-07T11:32:33.643Z"
   },
   {
    "duration": 17,
    "start_time": "2022-10-07T11:32:33.676Z"
   },
   {
    "duration": 47,
    "start_time": "2022-10-07T11:32:33.695Z"
   },
   {
    "duration": 50,
    "start_time": "2022-10-07T11:32:33.743Z"
   },
   {
    "duration": 32,
    "start_time": "2022-10-07T11:32:33.796Z"
   },
   {
    "duration": 45,
    "start_time": "2022-10-07T11:32:33.830Z"
   },
   {
    "duration": 100,
    "start_time": "2022-10-07T11:32:33.876Z"
   },
   {
    "duration": 210,
    "start_time": "2022-10-07T11:32:33.978Z"
   },
   {
    "duration": 5,
    "start_time": "2022-10-07T11:32:34.190Z"
   },
   {
    "duration": 88,
    "start_time": "2022-10-07T11:32:34.197Z"
   },
   {
    "duration": 19,
    "start_time": "2022-10-07T11:32:34.287Z"
   },
   {
    "duration": 20,
    "start_time": "2022-10-07T11:32:34.308Z"
   },
   {
    "duration": 16,
    "start_time": "2022-10-07T11:32:34.330Z"
   },
   {
    "duration": 16,
    "start_time": "2022-10-07T11:32:34.347Z"
   },
   {
    "duration": 19,
    "start_time": "2022-10-07T11:32:34.364Z"
   },
   {
    "duration": 44,
    "start_time": "2022-10-07T11:32:34.384Z"
   },
   {
    "duration": 17,
    "start_time": "2022-10-07T11:32:34.429Z"
   },
   {
    "duration": 14,
    "start_time": "2022-10-07T11:32:34.448Z"
   },
   {
    "duration": 18,
    "start_time": "2022-10-07T11:32:34.464Z"
   },
   {
    "duration": 40,
    "start_time": "2022-10-07T11:32:34.483Z"
   },
   {
    "duration": 18,
    "start_time": "2022-10-07T11:32:34.525Z"
   },
   {
    "duration": 16,
    "start_time": "2022-10-07T11:32:34.545Z"
   },
   {
    "duration": 18,
    "start_time": "2022-10-07T11:32:34.563Z"
   },
   {
    "duration": 50,
    "start_time": "2022-10-07T11:32:34.583Z"
   },
   {
    "duration": 23,
    "start_time": "2022-10-07T11:32:34.635Z"
   },
   {
    "duration": 22,
    "start_time": "2022-10-07T11:32:34.659Z"
   },
   {
    "duration": 44,
    "start_time": "2022-10-07T11:32:34.683Z"
   },
   {
    "duration": 3,
    "start_time": "2022-10-07T11:46:11.575Z"
   },
   {
    "duration": 148,
    "start_time": "2022-10-07T11:46:12.288Z"
   },
   {
    "duration": 17,
    "start_time": "2022-10-07T11:46:13.398Z"
   },
   {
    "duration": 7,
    "start_time": "2022-10-07T11:46:14.482Z"
   },
   {
    "duration": 14,
    "start_time": "2022-10-07T11:46:19.648Z"
   },
   {
    "duration": 6,
    "start_time": "2022-10-07T11:46:28.317Z"
   },
   {
    "duration": 12,
    "start_time": "2022-10-07T11:48:03.421Z"
   },
   {
    "duration": 61,
    "start_time": "2022-10-07T11:48:05.135Z"
   },
   {
    "duration": 13,
    "start_time": "2022-10-07T11:48:05.487Z"
   },
   {
    "duration": 123,
    "start_time": "2022-10-07T11:48:06.181Z"
   },
   {
    "duration": 119,
    "start_time": "2022-10-07T11:48:13.979Z"
   },
   {
    "duration": 45,
    "start_time": "2022-10-07T11:48:14.100Z"
   },
   {
    "duration": 10,
    "start_time": "2022-10-07T11:48:27.973Z"
   },
   {
    "duration": 7,
    "start_time": "2022-10-07T11:48:28.306Z"
   },
   {
    "duration": 18,
    "start_time": "2022-10-07T11:48:29.150Z"
   },
   {
    "duration": 5,
    "start_time": "2022-10-07T11:48:30.155Z"
   },
   {
    "duration": 207,
    "start_time": "2022-10-07T11:48:30.940Z"
   },
   {
    "duration": 39,
    "start_time": "2022-10-07T11:48:33.933Z"
   },
   {
    "duration": 39,
    "start_time": "2022-10-07T11:48:37.884Z"
   },
   {
    "duration": 26,
    "start_time": "2022-10-07T11:48:39.736Z"
   },
   {
    "duration": 57,
    "start_time": "2022-10-07T11:48:41.541Z"
   },
   {
    "duration": 8,
    "start_time": "2022-10-07T11:48:41.910Z"
   },
   {
    "duration": 3,
    "start_time": "2022-10-07T11:48:42.806Z"
   },
   {
    "duration": 8,
    "start_time": "2022-10-07T11:48:43.860Z"
   },
   {
    "duration": 10,
    "start_time": "2022-10-07T11:48:45.017Z"
   },
   {
    "duration": 4,
    "start_time": "2022-10-07T11:49:04.346Z"
   },
   {
    "duration": 74,
    "start_time": "2022-10-07T11:50:03.018Z"
   },
   {
    "duration": 417,
    "start_time": "2022-10-07T11:51:05.676Z"
   },
   {
    "duration": 36,
    "start_time": "2022-10-07T11:52:02.333Z"
   },
   {
    "duration": 44,
    "start_time": "2022-10-07T11:52:09.594Z"
   },
   {
    "duration": 5,
    "start_time": "2022-10-07T11:53:59.437Z"
   },
   {
    "duration": 15,
    "start_time": "2022-10-07T11:54:45.573Z"
   },
   {
    "duration": 5,
    "start_time": "2022-10-07T11:55:24.697Z"
   },
   {
    "duration": 50,
    "start_time": "2022-10-07T11:56:24.926Z"
   },
   {
    "duration": 40,
    "start_time": "2022-10-07T11:56:40.242Z"
   },
   {
    "duration": 40,
    "start_time": "2022-10-07T11:57:12.695Z"
   },
   {
    "duration": 46,
    "start_time": "2022-10-07T11:57:48.167Z"
   },
   {
    "duration": 45,
    "start_time": "2022-10-07T11:57:48.667Z"
   },
   {
    "duration": 24,
    "start_time": "2022-10-07T11:57:49.840Z"
   },
   {
    "duration": 29,
    "start_time": "2022-10-07T11:57:50.278Z"
   },
   {
    "duration": 78,
    "start_time": "2022-10-07T11:57:51.257Z"
   },
   {
    "duration": 198,
    "start_time": "2022-10-07T11:57:52.999Z"
   },
   {
    "duration": 6,
    "start_time": "2022-10-07T11:57:59.266Z"
   },
   {
    "duration": 28,
    "start_time": "2022-10-07T11:58:35.640Z"
   },
   {
    "duration": 24,
    "start_time": "2022-10-07T11:58:35.862Z"
   },
   {
    "duration": 21,
    "start_time": "2022-10-07T11:58:36.134Z"
   },
   {
    "duration": 18,
    "start_time": "2022-10-07T11:58:37.036Z"
   },
   {
    "duration": 16,
    "start_time": "2022-10-07T11:58:37.408Z"
   },
   {
    "duration": 24,
    "start_time": "2022-10-07T11:58:40.930Z"
   },
   {
    "duration": 20,
    "start_time": "2022-10-07T11:58:41.244Z"
   },
   {
    "duration": 19,
    "start_time": "2022-10-07T11:58:43.826Z"
   },
   {
    "duration": 18,
    "start_time": "2022-10-07T11:58:44.090Z"
   },
   {
    "duration": 20,
    "start_time": "2022-10-07T11:58:44.506Z"
   },
   {
    "duration": 19,
    "start_time": "2022-10-07T11:58:45.351Z"
   },
   {
    "duration": 18,
    "start_time": "2022-10-07T11:58:45.537Z"
   },
   {
    "duration": 18,
    "start_time": "2022-10-07T11:58:45.717Z"
   },
   {
    "duration": 18,
    "start_time": "2022-10-07T11:58:46.718Z"
   },
   {
    "duration": 26,
    "start_time": "2022-10-07T11:58:46.893Z"
   },
   {
    "duration": 23,
    "start_time": "2022-10-07T11:58:47.055Z"
   },
   {
    "duration": 25,
    "start_time": "2022-10-07T11:58:47.213Z"
   },
   {
    "duration": 24,
    "start_time": "2022-10-07T11:58:47.355Z"
   },
   {
    "duration": 1152,
    "start_time": "2022-10-07T13:12:26.145Z"
   },
   {
    "duration": 783,
    "start_time": "2022-10-07T13:12:27.299Z"
   },
   {
    "duration": 19,
    "start_time": "2022-10-07T13:12:28.083Z"
   },
   {
    "duration": 6,
    "start_time": "2022-10-07T13:12:28.104Z"
   },
   {
    "duration": 15,
    "start_time": "2022-10-07T13:12:28.111Z"
   },
   {
    "duration": 95,
    "start_time": "2022-10-07T13:12:28.127Z"
   },
   {
    "duration": 14,
    "start_time": "2022-10-07T13:12:28.224Z"
   },
   {
    "duration": 146,
    "start_time": "2022-10-07T13:12:28.240Z"
   },
   {
    "duration": 111,
    "start_time": "2022-10-07T13:12:28.388Z"
   },
   {
    "duration": 46,
    "start_time": "2022-10-07T13:12:28.501Z"
   },
   {
    "duration": 15,
    "start_time": "2022-10-07T13:12:28.549Z"
   },
   {
    "duration": 9,
    "start_time": "2022-10-07T13:12:28.566Z"
   },
   {
    "duration": 43,
    "start_time": "2022-10-07T13:12:28.576Z"
   },
   {
    "duration": 6,
    "start_time": "2022-10-07T13:12:28.621Z"
   },
   {
    "duration": 292,
    "start_time": "2022-10-07T13:12:28.630Z"
   },
   {
    "duration": 38,
    "start_time": "2022-10-07T13:12:28.924Z"
   },
   {
    "duration": 58,
    "start_time": "2022-10-07T13:12:28.963Z"
   },
   {
    "duration": 29,
    "start_time": "2022-10-07T13:12:29.024Z"
   },
   {
    "duration": 61,
    "start_time": "2022-10-07T13:12:29.054Z"
   },
   {
    "duration": 7,
    "start_time": "2022-10-07T13:12:29.117Z"
   },
   {
    "duration": 4,
    "start_time": "2022-10-07T13:12:29.125Z"
   },
   {
    "duration": 10,
    "start_time": "2022-10-07T13:12:29.130Z"
   },
   {
    "duration": 12,
    "start_time": "2022-10-07T13:12:29.141Z"
   },
   {
    "duration": 5,
    "start_time": "2022-10-07T13:12:29.154Z"
   },
   {
    "duration": 554,
    "start_time": "2022-10-07T13:12:29.161Z"
   },
   {
    "duration": 6,
    "start_time": "2022-10-07T13:12:29.717Z"
   },
   {
    "duration": 102,
    "start_time": "2022-10-07T13:12:29.725Z"
   },
   {
    "duration": 77,
    "start_time": "2022-10-07T13:12:29.831Z"
   },
   {
    "duration": 50,
    "start_time": "2022-10-07T13:12:29.910Z"
   },
   {
    "duration": 51,
    "start_time": "2022-10-07T13:12:29.962Z"
   },
   {
    "duration": 33,
    "start_time": "2022-10-07T13:12:30.015Z"
   },
   {
    "duration": 96,
    "start_time": "2022-10-07T13:12:30.050Z"
   },
   {
    "duration": 213,
    "start_time": "2022-10-07T13:12:30.148Z"
   },
   {
    "duration": 9,
    "start_time": "2022-10-07T13:12:30.363Z"
   },
   {
    "duration": 43,
    "start_time": "2022-10-07T13:12:30.374Z"
   },
   {
    "duration": 26,
    "start_time": "2022-10-07T13:12:30.420Z"
   },
   {
    "duration": 18,
    "start_time": "2022-10-07T13:12:30.448Z"
   },
   {
    "duration": 41,
    "start_time": "2022-10-07T13:12:30.468Z"
   },
   {
    "duration": 17,
    "start_time": "2022-10-07T13:12:30.511Z"
   },
   {
    "duration": 21,
    "start_time": "2022-10-07T13:12:30.529Z"
   },
   {
    "duration": 18,
    "start_time": "2022-10-07T13:12:30.552Z"
   },
   {
    "duration": 54,
    "start_time": "2022-10-07T13:12:30.572Z"
   },
   {
    "duration": 18,
    "start_time": "2022-10-07T13:12:30.628Z"
   },
   {
    "duration": 24,
    "start_time": "2022-10-07T13:12:30.647Z"
   },
   {
    "duration": 48,
    "start_time": "2022-10-07T13:12:30.673Z"
   },
   {
    "duration": 19,
    "start_time": "2022-10-07T13:12:30.724Z"
   },
   {
    "duration": 27,
    "start_time": "2022-10-07T13:12:30.745Z"
   },
   {
    "duration": 47,
    "start_time": "2022-10-07T13:12:30.775Z"
   },
   {
    "duration": 63,
    "start_time": "2022-10-07T13:12:30.824Z"
   },
   {
    "duration": 24,
    "start_time": "2022-10-07T13:12:30.889Z"
   },
   {
    "duration": 27,
    "start_time": "2022-10-07T13:12:30.915Z"
   },
   {
    "duration": 23,
    "start_time": "2022-10-07T13:12:30.944Z"
   },
   {
    "duration": 44,
    "start_time": "2022-10-07T13:45:22.880Z"
   },
   {
    "duration": 1207,
    "start_time": "2022-10-07T13:45:27.316Z"
   },
   {
    "duration": 491,
    "start_time": "2022-10-07T13:45:28.525Z"
   },
   {
    "duration": 18,
    "start_time": "2022-10-07T13:45:29.018Z"
   },
   {
    "duration": 7,
    "start_time": "2022-10-07T13:45:29.038Z"
   },
   {
    "duration": 19,
    "start_time": "2022-10-07T13:45:29.047Z"
   },
   {
    "duration": 76,
    "start_time": "2022-10-07T13:45:29.068Z"
   },
   {
    "duration": 12,
    "start_time": "2022-10-07T13:45:29.146Z"
   },
   {
    "duration": 142,
    "start_time": "2022-10-07T13:45:29.159Z"
   },
   {
    "duration": 115,
    "start_time": "2022-10-07T13:45:29.302Z"
   },
   {
    "duration": 41,
    "start_time": "2022-10-07T13:45:29.421Z"
   },
   {
    "duration": 12,
    "start_time": "2022-10-07T13:45:29.463Z"
   },
   {
    "duration": 30,
    "start_time": "2022-10-07T13:45:29.476Z"
   },
   {
    "duration": 19,
    "start_time": "2022-10-07T13:45:29.508Z"
   },
   {
    "duration": 5,
    "start_time": "2022-10-07T13:45:29.528Z"
   },
   {
    "duration": 295,
    "start_time": "2022-10-07T13:45:29.534Z"
   },
   {
    "duration": 43,
    "start_time": "2022-10-07T13:45:29.831Z"
   },
   {
    "duration": 47,
    "start_time": "2022-10-07T13:45:29.876Z"
   },
   {
    "duration": 27,
    "start_time": "2022-10-07T13:45:29.925Z"
   },
   {
    "duration": 69,
    "start_time": "2022-10-07T13:45:29.953Z"
   },
   {
    "duration": 9,
    "start_time": "2022-10-07T13:45:30.024Z"
   },
   {
    "duration": 13,
    "start_time": "2022-10-07T13:45:30.034Z"
   },
   {
    "duration": 26,
    "start_time": "2022-10-07T13:45:30.048Z"
   },
   {
    "duration": 17,
    "start_time": "2022-10-07T13:45:30.075Z"
   },
   {
    "duration": 14,
    "start_time": "2022-10-07T13:45:30.093Z"
   },
   {
    "duration": 425,
    "start_time": "2022-10-07T13:45:30.108Z"
   },
   {
    "duration": 4,
    "start_time": "2022-10-07T13:45:30.535Z"
   },
   {
    "duration": 108,
    "start_time": "2022-10-07T13:45:30.541Z"
   },
   {
    "duration": 63,
    "start_time": "2022-10-07T13:45:30.652Z"
   },
   {
    "duration": 55,
    "start_time": "2022-10-07T13:45:30.717Z"
   },
   {
    "duration": 33,
    "start_time": "2022-10-07T13:45:30.773Z"
   },
   {
    "duration": 92,
    "start_time": "2022-10-07T13:45:30.807Z"
   },
   {
    "duration": 129,
    "start_time": "2022-10-07T13:45:30.901Z"
   },
   {
    "duration": 215,
    "start_time": "2022-10-07T13:45:31.032Z"
   },
   {
    "duration": 6,
    "start_time": "2022-10-07T13:45:31.248Z"
   },
   {
    "duration": 50,
    "start_time": "2022-10-07T13:45:31.256Z"
   },
   {
    "duration": 18,
    "start_time": "2022-10-07T13:45:31.308Z"
   },
   {
    "duration": 74,
    "start_time": "2022-10-07T13:45:31.327Z"
   },
   {
    "duration": 16,
    "start_time": "2022-10-07T13:45:31.403Z"
   },
   {
    "duration": 17,
    "start_time": "2022-10-07T13:45:31.421Z"
   },
   {
    "duration": 18,
    "start_time": "2022-10-07T13:45:31.439Z"
   },
   {
    "duration": 42,
    "start_time": "2022-10-07T13:45:31.459Z"
   },
   {
    "duration": 18,
    "start_time": "2022-10-07T13:45:31.503Z"
   },
   {
    "duration": 15,
    "start_time": "2022-10-07T13:45:31.523Z"
   },
   {
    "duration": 19,
    "start_time": "2022-10-07T13:45:31.539Z"
   },
   {
    "duration": 17,
    "start_time": "2022-10-07T13:45:31.559Z"
   },
   {
    "duration": 19,
    "start_time": "2022-10-07T13:45:31.601Z"
   },
   {
    "duration": 16,
    "start_time": "2022-10-07T13:45:31.622Z"
   },
   {
    "duration": 17,
    "start_time": "2022-10-07T13:45:31.640Z"
   },
   {
    "duration": 49,
    "start_time": "2022-10-07T13:45:31.659Z"
   },
   {
    "duration": 23,
    "start_time": "2022-10-07T13:45:31.709Z"
   },
   {
    "duration": 23,
    "start_time": "2022-10-07T13:45:31.733Z"
   },
   {
    "duration": 44,
    "start_time": "2022-10-07T13:45:31.757Z"
   },
   {
    "duration": 132,
    "start_time": "2022-10-07T13:47:03.751Z"
   }
  ],
  "kernelspec": {
   "display_name": "base",
   "language": "python",
   "name": "python3"
  },
  "language_info": {
   "codemirror_mode": {
    "name": "ipython",
    "version": 3
   },
   "file_extension": ".py",
   "mimetype": "text/x-python",
   "name": "python",
   "nbconvert_exporter": "python",
   "pygments_lexer": "ipython3",
   "version": "3.9.7"
  },
  "toc": {
   "base_numbering": 1,
   "nav_menu": {},
   "number_sections": true,
   "sideBar": true,
   "skip_h1_title": true,
   "title_cell": "Table of Contents",
   "title_sidebar": "Contents",
   "toc_cell": false,
   "toc_position": {},
   "toc_section_display": true,
   "toc_window_display": false
  },
  "vscode": {
   "interpreter": {
    "hash": "f15f36810181d6f0d3e4c4c2cd9a58c4059ed5829bd90ae02b017091d82db9c6"
   }
  }
 },
 "nbformat": 4,
 "nbformat_minor": 2
}
