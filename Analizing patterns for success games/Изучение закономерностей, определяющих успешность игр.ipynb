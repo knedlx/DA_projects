{
 "cells": [
  {
   "attachments": {},
   "cell_type": "markdown",
   "metadata": {},
   "source": [
    "# Выявление определяющих успешность игры закономерностей"
   ]
  },
  {
   "cell_type": "markdown",
   "metadata": {},
   "source": [
    "## Изучение данных из файла"
   ]
  },
  {
   "cell_type": "code",
   "execution_count": 1,
   "metadata": {},
   "outputs": [],
   "source": [
    "import pandas as pd\n",
    "import matplotlib.pyplot as plt\n",
    "import numpy as np\n",
    "from scipy import stats as st\n",
    "import warnings\n",
    "warnings.filterwarnings('ignore')"
   ]
  },
  {
   "cell_type": "code",
   "execution_count": 2,
   "metadata": {},
   "outputs": [
    {
     "name": "stdout",
     "output_type": "stream",
     "text": [
      "<class 'pandas.core.frame.DataFrame'>\n",
      "RangeIndex: 16715 entries, 0 to 16714\n",
      "Data columns (total 11 columns):\n",
      " #   Column           Non-Null Count  Dtype  \n",
      "---  ------           --------------  -----  \n",
      " 0   Name             16713 non-null  object \n",
      " 1   Platform         16715 non-null  object \n",
      " 2   Year_of_Release  16446 non-null  float64\n",
      " 3   Genre            16713 non-null  object \n",
      " 4   NA_sales         16715 non-null  float64\n",
      " 5   EU_sales         16715 non-null  float64\n",
      " 6   JP_sales         16715 non-null  float64\n",
      " 7   Other_sales      16715 non-null  float64\n",
      " 8   Critic_Score     8137 non-null   float64\n",
      " 9   User_Score       10014 non-null  object \n",
      " 10  Rating           9949 non-null   object \n",
      "dtypes: float64(6), object(5)\n",
      "memory usage: 1.4+ MB\n"
     ]
    }
   ],
   "source": [
    "data = pd.read_csv('/datasets/games.csv')\n",
    "data.info()"
   ]
  },
  {
   "cell_type": "code",
   "execution_count": 3,
   "metadata": {},
   "outputs": [
    {
     "data": {
      "text/html": [
       "<div>\n",
       "<style scoped>\n",
       "    .dataframe tbody tr th:only-of-type {\n",
       "        vertical-align: middle;\n",
       "    }\n",
       "\n",
       "    .dataframe tbody tr th {\n",
       "        vertical-align: top;\n",
       "    }\n",
       "\n",
       "    .dataframe thead th {\n",
       "        text-align: right;\n",
       "    }\n",
       "</style>\n",
       "<table border=\"1\" class=\"dataframe\">\n",
       "  <thead>\n",
       "    <tr style=\"text-align: right;\">\n",
       "      <th></th>\n",
       "      <th>Name</th>\n",
       "      <th>Platform</th>\n",
       "      <th>Year_of_Release</th>\n",
       "      <th>Genre</th>\n",
       "      <th>NA_sales</th>\n",
       "      <th>EU_sales</th>\n",
       "      <th>JP_sales</th>\n",
       "      <th>Other_sales</th>\n",
       "      <th>Critic_Score</th>\n",
       "      <th>User_Score</th>\n",
       "      <th>Rating</th>\n",
       "    </tr>\n",
       "  </thead>\n",
       "  <tbody>\n",
       "    <tr>\n",
       "      <th>0</th>\n",
       "      <td>Wii Sports</td>\n",
       "      <td>Wii</td>\n",
       "      <td>2006.0</td>\n",
       "      <td>Sports</td>\n",
       "      <td>41.36</td>\n",
       "      <td>28.96</td>\n",
       "      <td>3.77</td>\n",
       "      <td>8.45</td>\n",
       "      <td>76.0</td>\n",
       "      <td>8</td>\n",
       "      <td>E</td>\n",
       "    </tr>\n",
       "    <tr>\n",
       "      <th>1</th>\n",
       "      <td>Super Mario Bros.</td>\n",
       "      <td>NES</td>\n",
       "      <td>1985.0</td>\n",
       "      <td>Platform</td>\n",
       "      <td>29.08</td>\n",
       "      <td>3.58</td>\n",
       "      <td>6.81</td>\n",
       "      <td>0.77</td>\n",
       "      <td>NaN</td>\n",
       "      <td>NaN</td>\n",
       "      <td>NaN</td>\n",
       "    </tr>\n",
       "    <tr>\n",
       "      <th>2</th>\n",
       "      <td>Mario Kart Wii</td>\n",
       "      <td>Wii</td>\n",
       "      <td>2008.0</td>\n",
       "      <td>Racing</td>\n",
       "      <td>15.68</td>\n",
       "      <td>12.76</td>\n",
       "      <td>3.79</td>\n",
       "      <td>3.29</td>\n",
       "      <td>82.0</td>\n",
       "      <td>8.3</td>\n",
       "      <td>E</td>\n",
       "    </tr>\n",
       "    <tr>\n",
       "      <th>3</th>\n",
       "      <td>Wii Sports Resort</td>\n",
       "      <td>Wii</td>\n",
       "      <td>2009.0</td>\n",
       "      <td>Sports</td>\n",
       "      <td>15.61</td>\n",
       "      <td>10.93</td>\n",
       "      <td>3.28</td>\n",
       "      <td>2.95</td>\n",
       "      <td>80.0</td>\n",
       "      <td>8</td>\n",
       "      <td>E</td>\n",
       "    </tr>\n",
       "    <tr>\n",
       "      <th>4</th>\n",
       "      <td>Pokemon Red/Pokemon Blue</td>\n",
       "      <td>GB</td>\n",
       "      <td>1996.0</td>\n",
       "      <td>Role-Playing</td>\n",
       "      <td>11.27</td>\n",
       "      <td>8.89</td>\n",
       "      <td>10.22</td>\n",
       "      <td>1.00</td>\n",
       "      <td>NaN</td>\n",
       "      <td>NaN</td>\n",
       "      <td>NaN</td>\n",
       "    </tr>\n",
       "  </tbody>\n",
       "</table>\n",
       "</div>"
      ],
      "text/plain": [
       "                       Name Platform  Year_of_Release         Genre  NA_sales  \\\n",
       "0                Wii Sports      Wii           2006.0        Sports     41.36   \n",
       "1         Super Mario Bros.      NES           1985.0      Platform     29.08   \n",
       "2            Mario Kart Wii      Wii           2008.0        Racing     15.68   \n",
       "3         Wii Sports Resort      Wii           2009.0        Sports     15.61   \n",
       "4  Pokemon Red/Pokemon Blue       GB           1996.0  Role-Playing     11.27   \n",
       "\n",
       "   EU_sales  JP_sales  Other_sales  Critic_Score User_Score Rating  \n",
       "0     28.96      3.77         8.45          76.0          8      E  \n",
       "1      3.58      6.81         0.77           NaN        NaN    NaN  \n",
       "2     12.76      3.79         3.29          82.0        8.3      E  \n",
       "3     10.93      3.28         2.95          80.0          8      E  \n",
       "4      8.89     10.22         1.00           NaN        NaN    NaN  "
      ]
     },
     "execution_count": 3,
     "metadata": {},
     "output_type": "execute_result"
    }
   ],
   "source": [
    "data.head()"
   ]
  },
  {
   "cell_type": "code",
   "execution_count": 4,
   "metadata": {},
   "outputs": [
    {
     "data": {
      "text/html": [
       "<div>\n",
       "<style scoped>\n",
       "    .dataframe tbody tr th:only-of-type {\n",
       "        vertical-align: middle;\n",
       "    }\n",
       "\n",
       "    .dataframe tbody tr th {\n",
       "        vertical-align: top;\n",
       "    }\n",
       "\n",
       "    .dataframe thead th {\n",
       "        text-align: right;\n",
       "    }\n",
       "</style>\n",
       "<table border=\"1\" class=\"dataframe\">\n",
       "  <thead>\n",
       "    <tr style=\"text-align: right;\">\n",
       "      <th></th>\n",
       "      <th>Year_of_Release</th>\n",
       "      <th>NA_sales</th>\n",
       "      <th>EU_sales</th>\n",
       "      <th>JP_sales</th>\n",
       "      <th>Other_sales</th>\n",
       "      <th>Critic_Score</th>\n",
       "    </tr>\n",
       "  </thead>\n",
       "  <tbody>\n",
       "    <tr>\n",
       "      <th>count</th>\n",
       "      <td>16446.000000</td>\n",
       "      <td>16715.000000</td>\n",
       "      <td>16715.000000</td>\n",
       "      <td>16715.000000</td>\n",
       "      <td>16715.000000</td>\n",
       "      <td>8137.000000</td>\n",
       "    </tr>\n",
       "    <tr>\n",
       "      <th>mean</th>\n",
       "      <td>2006.484616</td>\n",
       "      <td>0.263377</td>\n",
       "      <td>0.145060</td>\n",
       "      <td>0.077617</td>\n",
       "      <td>0.047342</td>\n",
       "      <td>68.967679</td>\n",
       "    </tr>\n",
       "    <tr>\n",
       "      <th>std</th>\n",
       "      <td>5.877050</td>\n",
       "      <td>0.813604</td>\n",
       "      <td>0.503339</td>\n",
       "      <td>0.308853</td>\n",
       "      <td>0.186731</td>\n",
       "      <td>13.938165</td>\n",
       "    </tr>\n",
       "    <tr>\n",
       "      <th>min</th>\n",
       "      <td>1980.000000</td>\n",
       "      <td>0.000000</td>\n",
       "      <td>0.000000</td>\n",
       "      <td>0.000000</td>\n",
       "      <td>0.000000</td>\n",
       "      <td>13.000000</td>\n",
       "    </tr>\n",
       "    <tr>\n",
       "      <th>25%</th>\n",
       "      <td>2003.000000</td>\n",
       "      <td>0.000000</td>\n",
       "      <td>0.000000</td>\n",
       "      <td>0.000000</td>\n",
       "      <td>0.000000</td>\n",
       "      <td>60.000000</td>\n",
       "    </tr>\n",
       "    <tr>\n",
       "      <th>50%</th>\n",
       "      <td>2007.000000</td>\n",
       "      <td>0.080000</td>\n",
       "      <td>0.020000</td>\n",
       "      <td>0.000000</td>\n",
       "      <td>0.010000</td>\n",
       "      <td>71.000000</td>\n",
       "    </tr>\n",
       "    <tr>\n",
       "      <th>75%</th>\n",
       "      <td>2010.000000</td>\n",
       "      <td>0.240000</td>\n",
       "      <td>0.110000</td>\n",
       "      <td>0.040000</td>\n",
       "      <td>0.030000</td>\n",
       "      <td>79.000000</td>\n",
       "    </tr>\n",
       "    <tr>\n",
       "      <th>max</th>\n",
       "      <td>2016.000000</td>\n",
       "      <td>41.360000</td>\n",
       "      <td>28.960000</td>\n",
       "      <td>10.220000</td>\n",
       "      <td>10.570000</td>\n",
       "      <td>98.000000</td>\n",
       "    </tr>\n",
       "  </tbody>\n",
       "</table>\n",
       "</div>"
      ],
      "text/plain": [
       "       Year_of_Release      NA_sales      EU_sales      JP_sales  \\\n",
       "count     16446.000000  16715.000000  16715.000000  16715.000000   \n",
       "mean       2006.484616      0.263377      0.145060      0.077617   \n",
       "std           5.877050      0.813604      0.503339      0.308853   \n",
       "min        1980.000000      0.000000      0.000000      0.000000   \n",
       "25%        2003.000000      0.000000      0.000000      0.000000   \n",
       "50%        2007.000000      0.080000      0.020000      0.000000   \n",
       "75%        2010.000000      0.240000      0.110000      0.040000   \n",
       "max        2016.000000     41.360000     28.960000     10.220000   \n",
       "\n",
       "        Other_sales  Critic_Score  \n",
       "count  16715.000000   8137.000000  \n",
       "mean       0.047342     68.967679  \n",
       "std        0.186731     13.938165  \n",
       "min        0.000000     13.000000  \n",
       "25%        0.000000     60.000000  \n",
       "50%        0.010000     71.000000  \n",
       "75%        0.030000     79.000000  \n",
       "max       10.570000     98.000000  "
      ]
     },
     "execution_count": 4,
     "metadata": {},
     "output_type": "execute_result"
    }
   ],
   "source": [
    "data.describe()"
   ]
  },
  {
   "cell_type": "code",
   "execution_count": 5,
   "metadata": {},
   "outputs": [
    {
     "data": {
      "text/plain": [
       "array([False])"
      ]
     },
     "execution_count": 5,
     "metadata": {},
     "output_type": "execute_result"
    }
   ],
   "source": [
    "data.duplicated().unique()"
   ]
  },
  {
   "cell_type": "markdown",
   "metadata": {},
   "source": [
    "### Вывод\n",
    "Данные изучены. Видим пропуски, неверный тип данных в Year_of_Release и User_Score, явных дубликатов нет."
   ]
  },
  {
   "cell_type": "markdown",
   "metadata": {},
   "source": [
    "## Подготовка данных"
   ]
  },
  {
   "cell_type": "markdown",
   "metadata": {},
   "source": [
    "Для начала приведём название столбцов к нижнему регистру"
   ]
  },
  {
   "cell_type": "code",
   "execution_count": 6,
   "metadata": {},
   "outputs": [
    {
     "data": {
      "text/html": [
       "<div>\n",
       "<style scoped>\n",
       "    .dataframe tbody tr th:only-of-type {\n",
       "        vertical-align: middle;\n",
       "    }\n",
       "\n",
       "    .dataframe tbody tr th {\n",
       "        vertical-align: top;\n",
       "    }\n",
       "\n",
       "    .dataframe thead th {\n",
       "        text-align: right;\n",
       "    }\n",
       "</style>\n",
       "<table border=\"1\" class=\"dataframe\">\n",
       "  <thead>\n",
       "    <tr style=\"text-align: right;\">\n",
       "      <th></th>\n",
       "      <th>name</th>\n",
       "      <th>platform</th>\n",
       "      <th>year_of_release</th>\n",
       "      <th>genre</th>\n",
       "      <th>na_sales</th>\n",
       "      <th>eu_sales</th>\n",
       "      <th>jp_sales</th>\n",
       "      <th>other_sales</th>\n",
       "      <th>critic_score</th>\n",
       "      <th>user_score</th>\n",
       "      <th>rating</th>\n",
       "    </tr>\n",
       "  </thead>\n",
       "  <tbody>\n",
       "    <tr>\n",
       "      <th>0</th>\n",
       "      <td>Wii Sports</td>\n",
       "      <td>Wii</td>\n",
       "      <td>2006.0</td>\n",
       "      <td>Sports</td>\n",
       "      <td>41.36</td>\n",
       "      <td>28.96</td>\n",
       "      <td>3.77</td>\n",
       "      <td>8.45</td>\n",
       "      <td>76.0</td>\n",
       "      <td>8</td>\n",
       "      <td>E</td>\n",
       "    </tr>\n",
       "    <tr>\n",
       "      <th>1</th>\n",
       "      <td>Super Mario Bros.</td>\n",
       "      <td>NES</td>\n",
       "      <td>1985.0</td>\n",
       "      <td>Platform</td>\n",
       "      <td>29.08</td>\n",
       "      <td>3.58</td>\n",
       "      <td>6.81</td>\n",
       "      <td>0.77</td>\n",
       "      <td>NaN</td>\n",
       "      <td>NaN</td>\n",
       "      <td>NaN</td>\n",
       "    </tr>\n",
       "    <tr>\n",
       "      <th>2</th>\n",
       "      <td>Mario Kart Wii</td>\n",
       "      <td>Wii</td>\n",
       "      <td>2008.0</td>\n",
       "      <td>Racing</td>\n",
       "      <td>15.68</td>\n",
       "      <td>12.76</td>\n",
       "      <td>3.79</td>\n",
       "      <td>3.29</td>\n",
       "      <td>82.0</td>\n",
       "      <td>8.3</td>\n",
       "      <td>E</td>\n",
       "    </tr>\n",
       "    <tr>\n",
       "      <th>3</th>\n",
       "      <td>Wii Sports Resort</td>\n",
       "      <td>Wii</td>\n",
       "      <td>2009.0</td>\n",
       "      <td>Sports</td>\n",
       "      <td>15.61</td>\n",
       "      <td>10.93</td>\n",
       "      <td>3.28</td>\n",
       "      <td>2.95</td>\n",
       "      <td>80.0</td>\n",
       "      <td>8</td>\n",
       "      <td>E</td>\n",
       "    </tr>\n",
       "    <tr>\n",
       "      <th>4</th>\n",
       "      <td>Pokemon Red/Pokemon Blue</td>\n",
       "      <td>GB</td>\n",
       "      <td>1996.0</td>\n",
       "      <td>Role-Playing</td>\n",
       "      <td>11.27</td>\n",
       "      <td>8.89</td>\n",
       "      <td>10.22</td>\n",
       "      <td>1.00</td>\n",
       "      <td>NaN</td>\n",
       "      <td>NaN</td>\n",
       "      <td>NaN</td>\n",
       "    </tr>\n",
       "  </tbody>\n",
       "</table>\n",
       "</div>"
      ],
      "text/plain": [
       "                       name platform  year_of_release         genre  na_sales  \\\n",
       "0                Wii Sports      Wii           2006.0        Sports     41.36   \n",
       "1         Super Mario Bros.      NES           1985.0      Platform     29.08   \n",
       "2            Mario Kart Wii      Wii           2008.0        Racing     15.68   \n",
       "3         Wii Sports Resort      Wii           2009.0        Sports     15.61   \n",
       "4  Pokemon Red/Pokemon Blue       GB           1996.0  Role-Playing     11.27   \n",
       "\n",
       "   eu_sales  jp_sales  other_sales  critic_score user_score rating  \n",
       "0     28.96      3.77         8.45          76.0          8      E  \n",
       "1      3.58      6.81         0.77           NaN        NaN    NaN  \n",
       "2     12.76      3.79         3.29          82.0        8.3      E  \n",
       "3     10.93      3.28         2.95          80.0          8      E  \n",
       "4      8.89     10.22         1.00           NaN        NaN    NaN  "
      ]
     },
     "execution_count": 6,
     "metadata": {},
     "output_type": "execute_result"
    }
   ],
   "source": [
    "data.columns = data.columns.str.lower()\n",
    "data.head()"
   ]
  },
  {
   "cell_type": "markdown",
   "metadata": {},
   "source": [
    "Изменим типы данных в year_of_release и user_score"
   ]
  },
  {
   "cell_type": "code",
   "execution_count": 7,
   "metadata": {},
   "outputs": [
    {
     "name": "stdout",
     "output_type": "stream",
     "text": [
      "<class 'pandas.core.frame.DataFrame'>\n",
      "RangeIndex: 16715 entries, 0 to 16714\n",
      "Data columns (total 11 columns):\n",
      " #   Column           Non-Null Count  Dtype  \n",
      "---  ------           --------------  -----  \n",
      " 0   name             16713 non-null  object \n",
      " 1   platform         16715 non-null  object \n",
      " 2   year_of_release  16715 non-null  int64  \n",
      " 3   genre            16713 non-null  object \n",
      " 4   na_sales         16715 non-null  float64\n",
      " 5   eu_sales         16715 non-null  float64\n",
      " 6   jp_sales         16715 non-null  float64\n",
      " 7   other_sales      16715 non-null  float64\n",
      " 8   critic_score     8137 non-null   float64\n",
      " 9   user_score       10014 non-null  object \n",
      " 10  rating           9949 non-null   object \n",
      "dtypes: float64(5), int64(1), object(5)\n",
      "memory usage: 1.4+ MB\n"
     ]
    }
   ],
   "source": [
    "data['year_of_release'] = data['year_of_release'].fillna(0)\n",
    "data['year_of_release'] = data['year_of_release'].astype(int)\n",
    "data.info()"
   ]
  },
  {
   "cell_type": "code",
   "execution_count": 8,
   "metadata": {},
   "outputs": [
    {
     "data": {
      "text/plain": [
       "array(['8', nan, '8.3', '8.5', '6.6', '8.4', '8.6', '7.7', '6.3', '7.4',\n",
       "       '8.2', '9', '7.9', '8.1', '8.7', '7.1', '3.4', '5.3', '4.8', '3.2',\n",
       "       '8.9', '6.4', '7.8', '7.5', '2.6', '7.2', '9.2', '7', '7.3', '4.3',\n",
       "       '7.6', '5.7', '5', '9.1', '6.5', 'tbd', '8.8', '6.9', '9.4', '6.8',\n",
       "       '6.1', '6.7', '5.4', '4', '4.9', '4.5', '9.3', '6.2', '4.2', '6',\n",
       "       '3.7', '4.1', '5.8', '5.6', '5.5', '4.4', '4.6', '5.9', '3.9',\n",
       "       '3.1', '2.9', '5.2', '3.3', '4.7', '5.1', '3.5', '2.5', '1.9', '3',\n",
       "       '2.7', '2.2', '2', '9.5', '2.1', '3.6', '2.8', '1.8', '3.8', '0',\n",
       "       '1.6', '9.6', '2.4', '1.7', '1.1', '0.3', '1.5', '0.7', '1.2',\n",
       "       '2.3', '0.5', '1.3', '0.2', '0.6', '1.4', '0.9', '1', '9.7'],\n",
       "      dtype=object)"
      ]
     },
     "execution_count": 8,
     "metadata": {},
     "output_type": "execute_result"
    }
   ],
   "source": [
    "data['user_score'].unique()"
   ]
  },
  {
   "cell_type": "code",
   "execution_count": 9,
   "metadata": {},
   "outputs": [
    {
     "data": {
      "text/plain": [
       "2424"
      ]
     },
     "execution_count": 9,
     "metadata": {},
     "output_type": "execute_result"
    }
   ],
   "source": [
    "len(data[data['user_score']=='tbd'])"
   ]
  },
  {
   "cell_type": "markdown",
   "metadata": {},
   "source": [
    "В столбце user_score помимо 6.7к+ строк с пропусками, видим ещё 2.4к строк со значениями tbd. Это значит, что в момент выгрузки данных оценка пользователей находилась в процессе формирования и не была определена. Заменим tbd на пустые, т.к. для нас это то же самое. И изменим тип данных на float."
   ]
  },
  {
   "cell_type": "code",
   "execution_count": 10,
   "metadata": {},
   "outputs": [
    {
     "name": "stdout",
     "output_type": "stream",
     "text": [
      "<class 'pandas.core.frame.DataFrame'>\n",
      "RangeIndex: 16715 entries, 0 to 16714\n",
      "Data columns (total 11 columns):\n",
      " #   Column           Non-Null Count  Dtype  \n",
      "---  ------           --------------  -----  \n",
      " 0   name             16713 non-null  object \n",
      " 1   platform         16715 non-null  object \n",
      " 2   year_of_release  16715 non-null  int64  \n",
      " 3   genre            16713 non-null  object \n",
      " 4   na_sales         16715 non-null  float64\n",
      " 5   eu_sales         16715 non-null  float64\n",
      " 6   jp_sales         16715 non-null  float64\n",
      " 7   other_sales      16715 non-null  float64\n",
      " 8   critic_score     8137 non-null   float64\n",
      " 9   user_score       7590 non-null   float64\n",
      " 10  rating           9949 non-null   object \n",
      "dtypes: float64(6), int64(1), object(4)\n",
      "memory usage: 1.4+ MB\n"
     ]
    }
   ],
   "source": [
    "data.loc[data['user_score']=='tbd', 'user_score'] = np.nan\n",
    "data['user_score'] = data['user_score'].astype(float)\n",
    "data.info()"
   ]
  },
  {
   "cell_type": "code",
   "execution_count": 11,
   "metadata": {},
   "outputs": [
    {
     "data": {
      "text/plain": [
       "array([8. , nan, 8.3, 8.5, 6.6, 8.4, 8.6, 7.7, 6.3, 7.4, 8.2, 9. , 7.9,\n",
       "       8.1, 8.7, 7.1, 3.4, 5.3, 4.8, 3.2, 8.9, 6.4, 7.8, 7.5, 2.6, 7.2,\n",
       "       9.2, 7. , 7.3, 4.3, 7.6, 5.7, 5. , 9.1, 6.5, 8.8, 6.9, 9.4, 6.8,\n",
       "       6.1, 6.7, 5.4, 4. , 4.9, 4.5, 9.3, 6.2, 4.2, 6. , 3.7, 4.1, 5.8,\n",
       "       5.6, 5.5, 4.4, 4.6, 5.9, 3.9, 3.1, 2.9, 5.2, 3.3, 4.7, 5.1, 3.5,\n",
       "       2.5, 1.9, 3. , 2.7, 2.2, 2. , 9.5, 2.1, 3.6, 2.8, 1.8, 3.8, 0. ,\n",
       "       1.6, 9.6, 2.4, 1.7, 1.1, 0.3, 1.5, 0.7, 1.2, 2.3, 0.5, 1.3, 0.2,\n",
       "       0.6, 1.4, 0.9, 1. , 9.7])"
      ]
     },
     "execution_count": 11,
     "metadata": {},
     "output_type": "execute_result"
    }
   ],
   "source": [
    "data['user_score'].unique()"
   ]
  },
  {
   "cell_type": "code",
   "execution_count": 12,
   "metadata": {},
   "outputs": [
    {
     "data": {
      "text/html": [
       "<div>\n",
       "<style scoped>\n",
       "    .dataframe tbody tr th:only-of-type {\n",
       "        vertical-align: middle;\n",
       "    }\n",
       "\n",
       "    .dataframe tbody tr th {\n",
       "        vertical-align: top;\n",
       "    }\n",
       "\n",
       "    .dataframe thead th {\n",
       "        text-align: right;\n",
       "    }\n",
       "</style>\n",
       "<table border=\"1\" class=\"dataframe\">\n",
       "  <thead>\n",
       "    <tr style=\"text-align: right;\">\n",
       "      <th></th>\n",
       "      <th>name</th>\n",
       "      <th>platform</th>\n",
       "      <th>year_of_release</th>\n",
       "      <th>genre</th>\n",
       "      <th>na_sales</th>\n",
       "      <th>eu_sales</th>\n",
       "      <th>jp_sales</th>\n",
       "      <th>other_sales</th>\n",
       "      <th>critic_score</th>\n",
       "      <th>user_score</th>\n",
       "      <th>rating</th>\n",
       "    </tr>\n",
       "  </thead>\n",
       "  <tbody>\n",
       "    <tr>\n",
       "      <th>2835</th>\n",
       "      <td>My Little Pony: Pinkie Pie's Party</td>\n",
       "      <td>DS</td>\n",
       "      <td>2008</td>\n",
       "      <td>Adventure</td>\n",
       "      <td>0.66</td>\n",
       "      <td>0.0</td>\n",
       "      <td>0.0</td>\n",
       "      <td>0.06</td>\n",
       "      <td>NaN</td>\n",
       "      <td>0.0</td>\n",
       "      <td>E</td>\n",
       "    </tr>\n",
       "  </tbody>\n",
       "</table>\n",
       "</div>"
      ],
      "text/plain": [
       "                                    name platform  year_of_release      genre  \\\n",
       "2835  My Little Pony: Pinkie Pie's Party       DS             2008  Adventure   \n",
       "\n",
       "      na_sales  eu_sales  jp_sales  other_sales  critic_score  user_score  \\\n",
       "2835      0.66       0.0       0.0         0.06           NaN         0.0   \n",
       "\n",
       "     rating  \n",
       "2835      E  "
      ]
     },
     "execution_count": 12,
     "metadata": {},
     "output_type": "execute_result"
    }
   ],
   "source": [
    "data[data['user_score']==0]"
   ]
  },
  {
   "cell_type": "markdown",
   "metadata": {},
   "source": [
    "Очень стало любопытно что за игра с оценкой 0. My Little Pony: Pinkie Pie's Party! Проверил на metacritic - действительно игра так себе)"
   ]
  },
  {
   "cell_type": "code",
   "execution_count": 13,
   "metadata": {},
   "outputs": [
    {
     "data": {
      "text/plain": [
       "array([76., nan, 82., 80., 89., 58., 87., 91., 61., 97., 95., 77., 88.,\n",
       "       83., 94., 93., 85., 86., 98., 96., 90., 84., 73., 74., 78., 92.,\n",
       "       71., 72., 68., 62., 49., 67., 81., 66., 56., 79., 70., 59., 64.,\n",
       "       75., 60., 63., 69., 50., 25., 42., 44., 55., 48., 57., 29., 47.,\n",
       "       65., 54., 20., 53., 37., 38., 33., 52., 30., 32., 43., 45., 51.,\n",
       "       40., 46., 39., 34., 35., 41., 36., 28., 31., 27., 26., 19., 23.,\n",
       "       24., 21., 17., 22., 13.])"
      ]
     },
     "execution_count": 13,
     "metadata": {},
     "output_type": "execute_result"
    }
   ],
   "source": [
    "data['critic_score'].unique()"
   ]
  },
  {
   "cell_type": "code",
   "execution_count": 14,
   "metadata": {},
   "outputs": [
    {
     "data": {
      "text/plain": [
       "array(['E', nan, 'M', 'T', 'E10+', 'K-A', 'AO', 'EC', 'RP'], dtype=object)"
      ]
     },
     "execution_count": 14,
     "metadata": {},
     "output_type": "execute_result"
    }
   ],
   "source": [
    "data['rating'].unique()"
   ]
  },
  {
   "cell_type": "markdown",
   "metadata": {},
   "source": [
    "Для столбца rating для большей читаемости создадим дополнительный столбец, который будет обозначать возрастные категории рейгтинга. Данные берём из википедии.\n",
    "<br>\n",
    "E: 0+\n",
    "<br>\n",
    "M: 17+\n",
    "<br>\n",
    "T: 13+\n",
    "<br>\n",
    "E10+: 10+\n",
    "<br>\n",
    "K-A: 0+\n",
    "<br>\n",
    "A0: 18+\n",
    "<br>\n",
    "EC: 3+\n",
    "<br>\n",
    "RP: оставим как есть\n",
    "<br>\n",
    "пустые: заменим на заглушки 'N/A'"
   ]
  },
  {
   "cell_type": "code",
   "execution_count": 15,
   "metadata": {},
   "outputs": [],
   "source": [
    "def rating_age_category(row):\n",
    "    if row['rating']=='E' or row['rating']=='K-A':\n",
    "        return '0+'\n",
    "    elif row['rating']=='M':\n",
    "        return '17+'\n",
    "    elif row['rating']=='T':\n",
    "        return '13+'\n",
    "    elif row['rating']=='E10+':\n",
    "        return '10+'\n",
    "    elif row['rating']=='AO':\n",
    "        return '18+'\n",
    "    elif row['rating']=='EC':\n",
    "        return '3+'\n",
    "    elif row['rating']=='RP':\n",
    "        return 'RP'"
   ]
  },
  {
   "attachments": {},
   "cell_type": "markdown",
   "metadata": {},
   "source": [
    "Так же, заменим пустые значения в столбцах оценок критиков и юзеров на заглуки \"-1\". В дальнейшем просто не включим их в графики, но будет понимание сколько таких значений, при построении сводных таблиц"
   ]
  },
  {
   "cell_type": "code",
   "execution_count": 16,
   "metadata": {},
   "outputs": [
    {
     "data": {
      "text/html": [
       "<div>\n",
       "<style scoped>\n",
       "    .dataframe tbody tr th:only-of-type {\n",
       "        vertical-align: middle;\n",
       "    }\n",
       "\n",
       "    .dataframe tbody tr th {\n",
       "        vertical-align: top;\n",
       "    }\n",
       "\n",
       "    .dataframe thead th {\n",
       "        text-align: right;\n",
       "    }\n",
       "</style>\n",
       "<table border=\"1\" class=\"dataframe\">\n",
       "  <thead>\n",
       "    <tr style=\"text-align: right;\">\n",
       "      <th></th>\n",
       "      <th>name</th>\n",
       "      <th>platform</th>\n",
       "      <th>year_of_release</th>\n",
       "      <th>genre</th>\n",
       "      <th>na_sales</th>\n",
       "      <th>eu_sales</th>\n",
       "      <th>jp_sales</th>\n",
       "      <th>other_sales</th>\n",
       "      <th>critic_score</th>\n",
       "      <th>user_score</th>\n",
       "      <th>rating</th>\n",
       "      <th>rating_age_category</th>\n",
       "    </tr>\n",
       "  </thead>\n",
       "  <tbody>\n",
       "    <tr>\n",
       "      <th>0</th>\n",
       "      <td>Wii Sports</td>\n",
       "      <td>Wii</td>\n",
       "      <td>2006</td>\n",
       "      <td>Sports</td>\n",
       "      <td>41.36</td>\n",
       "      <td>28.96</td>\n",
       "      <td>3.77</td>\n",
       "      <td>8.45</td>\n",
       "      <td>76.0</td>\n",
       "      <td>8.0</td>\n",
       "      <td>E</td>\n",
       "      <td>0+</td>\n",
       "    </tr>\n",
       "    <tr>\n",
       "      <th>1</th>\n",
       "      <td>Super Mario Bros.</td>\n",
       "      <td>NES</td>\n",
       "      <td>1985</td>\n",
       "      <td>Platform</td>\n",
       "      <td>29.08</td>\n",
       "      <td>3.58</td>\n",
       "      <td>6.81</td>\n",
       "      <td>0.77</td>\n",
       "      <td>-1.0</td>\n",
       "      <td>-1.0</td>\n",
       "      <td>NaN</td>\n",
       "      <td>N/A</td>\n",
       "    </tr>\n",
       "    <tr>\n",
       "      <th>2</th>\n",
       "      <td>Mario Kart Wii</td>\n",
       "      <td>Wii</td>\n",
       "      <td>2008</td>\n",
       "      <td>Racing</td>\n",
       "      <td>15.68</td>\n",
       "      <td>12.76</td>\n",
       "      <td>3.79</td>\n",
       "      <td>3.29</td>\n",
       "      <td>82.0</td>\n",
       "      <td>8.3</td>\n",
       "      <td>E</td>\n",
       "      <td>0+</td>\n",
       "    </tr>\n",
       "    <tr>\n",
       "      <th>3</th>\n",
       "      <td>Wii Sports Resort</td>\n",
       "      <td>Wii</td>\n",
       "      <td>2009</td>\n",
       "      <td>Sports</td>\n",
       "      <td>15.61</td>\n",
       "      <td>10.93</td>\n",
       "      <td>3.28</td>\n",
       "      <td>2.95</td>\n",
       "      <td>80.0</td>\n",
       "      <td>8.0</td>\n",
       "      <td>E</td>\n",
       "      <td>0+</td>\n",
       "    </tr>\n",
       "    <tr>\n",
       "      <th>4</th>\n",
       "      <td>Pokemon Red/Pokemon Blue</td>\n",
       "      <td>GB</td>\n",
       "      <td>1996</td>\n",
       "      <td>Role-Playing</td>\n",
       "      <td>11.27</td>\n",
       "      <td>8.89</td>\n",
       "      <td>10.22</td>\n",
       "      <td>1.00</td>\n",
       "      <td>-1.0</td>\n",
       "      <td>-1.0</td>\n",
       "      <td>NaN</td>\n",
       "      <td>N/A</td>\n",
       "    </tr>\n",
       "  </tbody>\n",
       "</table>\n",
       "</div>"
      ],
      "text/plain": [
       "                       name platform  year_of_release         genre  na_sales  \\\n",
       "0                Wii Sports      Wii             2006        Sports     41.36   \n",
       "1         Super Mario Bros.      NES             1985      Platform     29.08   \n",
       "2            Mario Kart Wii      Wii             2008        Racing     15.68   \n",
       "3         Wii Sports Resort      Wii             2009        Sports     15.61   \n",
       "4  Pokemon Red/Pokemon Blue       GB             1996  Role-Playing     11.27   \n",
       "\n",
       "   eu_sales  jp_sales  other_sales  critic_score  user_score rating  \\\n",
       "0     28.96      3.77         8.45          76.0         8.0      E   \n",
       "1      3.58      6.81         0.77          -1.0        -1.0    NaN   \n",
       "2     12.76      3.79         3.29          82.0         8.3      E   \n",
       "3     10.93      3.28         2.95          80.0         8.0      E   \n",
       "4      8.89     10.22         1.00          -1.0        -1.0    NaN   \n",
       "\n",
       "  rating_age_category  \n",
       "0                  0+  \n",
       "1                 N/A  \n",
       "2                  0+  \n",
       "3                  0+  \n",
       "4                 N/A  "
      ]
     },
     "execution_count": 16,
     "metadata": {},
     "output_type": "execute_result"
    }
   ],
   "source": [
    "data['rating_age_category'] = data.apply(rating_age_category,axis=1)\n",
    "data['rating_age_category'] = data['rating_age_category'].fillna('N/A')\n",
    "data['critic_score'] = data['critic_score'].fillna(-1)\n",
    "data['user_score'] = data['user_score'].fillna(-1)\n",
    "data.head()"
   ]
  },
  {
   "cell_type": "code",
   "execution_count": 17,
   "metadata": {},
   "outputs": [
    {
     "name": "stdout",
     "output_type": "stream",
     "text": [
      "<class 'pandas.core.frame.DataFrame'>\n",
      "RangeIndex: 16715 entries, 0 to 16714\n",
      "Data columns (total 12 columns):\n",
      " #   Column               Non-Null Count  Dtype  \n",
      "---  ------               --------------  -----  \n",
      " 0   name                 16713 non-null  object \n",
      " 1   platform             16715 non-null  object \n",
      " 2   year_of_release      16715 non-null  int64  \n",
      " 3   genre                16713 non-null  object \n",
      " 4   na_sales             16715 non-null  float64\n",
      " 5   eu_sales             16715 non-null  float64\n",
      " 6   jp_sales             16715 non-null  float64\n",
      " 7   other_sales          16715 non-null  float64\n",
      " 8   critic_score         16715 non-null  float64\n",
      " 9   user_score           16715 non-null  float64\n",
      " 10  rating               9949 non-null   object \n",
      " 11  rating_age_category  16715 non-null  object \n",
      "dtypes: float64(6), int64(1), object(5)\n",
      "memory usage: 1.5+ MB\n"
     ]
    }
   ],
   "source": [
    "data.info()"
   ]
  },
  {
   "cell_type": "markdown",
   "metadata": {},
   "source": [
    "Вернёмся к пропускам. В столбцах name и  genre по 2 пропуска, что несущественно, а в столбцах с оценками и рейтингом пропусков плюс-минус половина датафрейма. В данном случае, считаю правильным решением оставить пропуски и не заполнять их. Заполнение почти половины датафрейма средними/медианными значениями, пускай даже в рамках жанра или ещё каких-то атрибутов, - некорректно. Это исказит данные при анализе.  По названию, платформе, году релиза, жанру и продажам невозможно корректно определить оценки критиков/юзеров и возрастной рейтинг - нужно более грубокое погружение в каждую игру. Поэтому, оставляем поля пустыми.\n",
    "<br>\n",
    "Пропуски могли появится либо из-за того что игру не оценили и у неё просто не было оценки, либо неправильно запарсили с ресурса с исходными данными"
   ]
  },
  {
   "cell_type": "markdown",
   "metadata": {},
   "source": [
    "Посчитаем суммарные продажи для каждой игры среди всех регионов"
   ]
  },
  {
   "cell_type": "code",
   "execution_count": 18,
   "metadata": {},
   "outputs": [
    {
     "name": "stdout",
     "output_type": "stream",
     "text": [
      "<class 'pandas.core.frame.DataFrame'>\n",
      "RangeIndex: 16715 entries, 0 to 16714\n",
      "Data columns (total 13 columns):\n",
      " #   Column               Non-Null Count  Dtype  \n",
      "---  ------               --------------  -----  \n",
      " 0   name                 16713 non-null  object \n",
      " 1   platform             16715 non-null  object \n",
      " 2   year_of_release      16715 non-null  int64  \n",
      " 3   genre                16713 non-null  object \n",
      " 4   na_sales             16715 non-null  float64\n",
      " 5   eu_sales             16715 non-null  float64\n",
      " 6   jp_sales             16715 non-null  float64\n",
      " 7   other_sales          16715 non-null  float64\n",
      " 8   critic_score         16715 non-null  float64\n",
      " 9   user_score           16715 non-null  float64\n",
      " 10  rating               9949 non-null   object \n",
      " 11  rating_age_category  16715 non-null  object \n",
      " 12  total_sales          16715 non-null  float64\n",
      "dtypes: float64(7), int64(1), object(5)\n",
      "memory usage: 1.7+ MB\n"
     ]
    }
   ],
   "source": [
    "data['total_sales'] = data[['na_sales','eu_sales','jp_sales', 'other_sales']].sum(axis = 1)\n",
    "data.info()"
   ]
  },
  {
   "cell_type": "markdown",
   "metadata": {},
   "source": [
    "### Вывод\n",
    "Предобработали данные для анализа. Привели названия столбов к нижнему регистру, поменяли тип данных на требуемые, обработали столбец с рейтингом и добавили дополнительный, который наглядно расшифровывает возарстные ограничения для каждого рейтинга. Пустые строки в оценках и рейтинге оставили пустыми, потому что по представленным даннам невозможно корректно их заполнить, чтобы при анализе данные не исказились."
   ]
  },
  {
   "cell_type": "markdown",
   "metadata": {},
   "source": [
    "## Анализ данных"
   ]
  },
  {
   "cell_type": "markdown",
   "metadata": {},
   "source": [
    "Посмотрим сколько игр выпускалось в разные годы"
   ]
  },
  {
   "cell_type": "code",
   "execution_count": 19,
   "metadata": {},
   "outputs": [],
   "source": [
    "#напишем вспомогательную функцию, чтобы подписывать графики\n",
    "def plot_title_labels(title,xlabel,ylabel):\n",
    "    plt.title(title, fontsize=14)\n",
    "    plt.xlabel(xlabel)\n",
    "    plt.ylabel(ylabel) \n",
    "    None"
   ]
  },
  {
   "cell_type": "code",
   "execution_count": 20,
   "metadata": {},
   "outputs": [
    {
     "data": {
      "image/png": "[encoded data removed]",
      "text/plain": [
       "<Figure size 648x432 with 1 Axes>"
      ]
     },
     "metadata": {
      "needs_background": "light"
     },
     "output_type": "display_data"
    }
   ],
   "source": [
    "year_release = data.pivot_table(index='year_of_release' ,values='name',aggfunc='count').reset_index().rename(columns = {'name':'quantity'})\n",
    "year_release.query('year_of_release>0').plot(kind='bar', x='year_of_release' , y='quantity',figsize=(9,6))\n",
    "plot_title_labels('Количество релизов игр по годам','Год выхода','Количество игр')"
   ]
  },
  {
   "cell_type": "markdown",
   "metadata": {},
   "source": [
    "Видим скачок по выпуску игр после 94-го года, плавный рост, потом резкий скачок после 2000-го, пик в 2008 и 2009 и после 2009-го спад. До 94ого года выпускалось меньше игр, относительно периода после 94-го года. Важны ли данные до 94-ого или нет - будем определять на конкретной исследовательской задаче, пока ничего не отрубаем."
   ]
  },
  {
   "cell_type": "markdown",
   "metadata": {},
   "source": [
    "Посмотрим суммарные продажи игр по годам"
   ]
  },
  {
   "cell_type": "code",
   "execution_count": 21,
   "metadata": {},
   "outputs": [
    {
     "data": {
      "image/png": "[encoded data removed]",
      "text/plain": [
       "<Figure size 648x432 with 1 Axes>"
      ]
     },
     "metadata": {
      "needs_background": "light"
     },
     "output_type": "display_data"
    }
   ],
   "source": [
    "year_release = data.pivot_table(index='year_of_release' ,values='total_sales',aggfunc='sum').reset_index()\n",
    "year_release.query('year_of_release>0').plot(kind='bar', x='year_of_release' , y='total_sales',figsize=(9,6))\n",
    "plot_title_labels('Количество суммарных продаж игр по годам','Год выхода','Продано млн. копий')"
   ]
  },
  {
   "cell_type": "markdown",
   "metadata": {},
   "source": [
    "Распределение почти идентично количеству релизов"
   ]
  },
  {
   "cell_type": "markdown",
   "metadata": {},
   "source": [
    "Посмотрим как менялись продажи по платформам"
   ]
  },
  {
   "cell_type": "code",
   "execution_count": 22,
   "metadata": {},
   "outputs": [
    {
     "data": {
      "text/html": [
       "<div>\n",
       "<style scoped>\n",
       "    .dataframe tbody tr th:only-of-type {\n",
       "        vertical-align: middle;\n",
       "    }\n",
       "\n",
       "    .dataframe tbody tr th {\n",
       "        vertical-align: top;\n",
       "    }\n",
       "\n",
       "    .dataframe thead th {\n",
       "        text-align: right;\n",
       "    }\n",
       "</style>\n",
       "<table border=\"1\" class=\"dataframe\">\n",
       "  <thead>\n",
       "    <tr style=\"text-align: right;\">\n",
       "      <th></th>\n",
       "      <th>platform</th>\n",
       "      <th>total_sales</th>\n",
       "    </tr>\n",
       "  </thead>\n",
       "  <tbody>\n",
       "    <tr>\n",
       "      <th>0</th>\n",
       "      <td>PS2</td>\n",
       "      <td>1255.77</td>\n",
       "    </tr>\n",
       "    <tr>\n",
       "      <th>1</th>\n",
       "      <td>X360</td>\n",
       "      <td>971.42</td>\n",
       "    </tr>\n",
       "    <tr>\n",
       "      <th>2</th>\n",
       "      <td>PS3</td>\n",
       "      <td>939.65</td>\n",
       "    </tr>\n",
       "    <tr>\n",
       "      <th>3</th>\n",
       "      <td>Wii</td>\n",
       "      <td>907.51</td>\n",
       "    </tr>\n",
       "    <tr>\n",
       "      <th>4</th>\n",
       "      <td>DS</td>\n",
       "      <td>806.12</td>\n",
       "    </tr>\n",
       "    <tr>\n",
       "      <th>5</th>\n",
       "      <td>PS</td>\n",
       "      <td>730.86</td>\n",
       "    </tr>\n",
       "    <tr>\n",
       "      <th>6</th>\n",
       "      <td>GBA</td>\n",
       "      <td>317.85</td>\n",
       "    </tr>\n",
       "    <tr>\n",
       "      <th>7</th>\n",
       "      <td>PS4</td>\n",
       "      <td>314.14</td>\n",
       "    </tr>\n",
       "    <tr>\n",
       "      <th>8</th>\n",
       "      <td>PSP</td>\n",
       "      <td>294.05</td>\n",
       "    </tr>\n",
       "    <tr>\n",
       "      <th>9</th>\n",
       "      <td>PC</td>\n",
       "      <td>259.52</td>\n",
       "    </tr>\n",
       "    <tr>\n",
       "      <th>10</th>\n",
       "      <td>3DS</td>\n",
       "      <td>259.00</td>\n",
       "    </tr>\n",
       "    <tr>\n",
       "      <th>11</th>\n",
       "      <td>XB</td>\n",
       "      <td>257.74</td>\n",
       "    </tr>\n",
       "    <tr>\n",
       "      <th>12</th>\n",
       "      <td>GB</td>\n",
       "      <td>255.46</td>\n",
       "    </tr>\n",
       "    <tr>\n",
       "      <th>13</th>\n",
       "      <td>NES</td>\n",
       "      <td>251.05</td>\n",
       "    </tr>\n",
       "    <tr>\n",
       "      <th>14</th>\n",
       "      <td>N64</td>\n",
       "      <td>218.68</td>\n",
       "    </tr>\n",
       "    <tr>\n",
       "      <th>15</th>\n",
       "      <td>SNES</td>\n",
       "      <td>200.04</td>\n",
       "    </tr>\n",
       "    <tr>\n",
       "      <th>16</th>\n",
       "      <td>GC</td>\n",
       "      <td>198.93</td>\n",
       "    </tr>\n",
       "    <tr>\n",
       "      <th>17</th>\n",
       "      <td>XOne</td>\n",
       "      <td>159.32</td>\n",
       "    </tr>\n",
       "    <tr>\n",
       "      <th>18</th>\n",
       "      <td>2600</td>\n",
       "      <td>96.98</td>\n",
       "    </tr>\n",
       "    <tr>\n",
       "      <th>19</th>\n",
       "      <td>WiiU</td>\n",
       "      <td>82.19</td>\n",
       "    </tr>\n",
       "    <tr>\n",
       "      <th>20</th>\n",
       "      <td>PSV</td>\n",
       "      <td>54.07</td>\n",
       "    </tr>\n",
       "    <tr>\n",
       "      <th>21</th>\n",
       "      <td>SAT</td>\n",
       "      <td>33.59</td>\n",
       "    </tr>\n",
       "    <tr>\n",
       "      <th>22</th>\n",
       "      <td>GEN</td>\n",
       "      <td>30.77</td>\n",
       "    </tr>\n",
       "    <tr>\n",
       "      <th>23</th>\n",
       "      <td>DC</td>\n",
       "      <td>15.95</td>\n",
       "    </tr>\n",
       "    <tr>\n",
       "      <th>24</th>\n",
       "      <td>SCD</td>\n",
       "      <td>1.86</td>\n",
       "    </tr>\n",
       "    <tr>\n",
       "      <th>25</th>\n",
       "      <td>NG</td>\n",
       "      <td>1.44</td>\n",
       "    </tr>\n",
       "    <tr>\n",
       "      <th>26</th>\n",
       "      <td>WS</td>\n",
       "      <td>1.42</td>\n",
       "    </tr>\n",
       "    <tr>\n",
       "      <th>27</th>\n",
       "      <td>TG16</td>\n",
       "      <td>0.16</td>\n",
       "    </tr>\n",
       "    <tr>\n",
       "      <th>28</th>\n",
       "      <td>3DO</td>\n",
       "      <td>0.10</td>\n",
       "    </tr>\n",
       "    <tr>\n",
       "      <th>29</th>\n",
       "      <td>GG</td>\n",
       "      <td>0.04</td>\n",
       "    </tr>\n",
       "    <tr>\n",
       "      <th>30</th>\n",
       "      <td>PCFX</td>\n",
       "      <td>0.03</td>\n",
       "    </tr>\n",
       "  </tbody>\n",
       "</table>\n",
       "</div>"
      ],
      "text/plain": [
       "   platform  total_sales\n",
       "0       PS2      1255.77\n",
       "1      X360       971.42\n",
       "2       PS3       939.65\n",
       "3       Wii       907.51\n",
       "4        DS       806.12\n",
       "5        PS       730.86\n",
       "6       GBA       317.85\n",
       "7       PS4       314.14\n",
       "8       PSP       294.05\n",
       "9        PC       259.52\n",
       "10      3DS       259.00\n",
       "11       XB       257.74\n",
       "12       GB       255.46\n",
       "13      NES       251.05\n",
       "14      N64       218.68\n",
       "15     SNES       200.04\n",
       "16       GC       198.93\n",
       "17     XOne       159.32\n",
       "18     2600        96.98\n",
       "19     WiiU        82.19\n",
       "20      PSV        54.07\n",
       "21      SAT        33.59\n",
       "22      GEN        30.77\n",
       "23       DC        15.95\n",
       "24      SCD         1.86\n",
       "25       NG         1.44\n",
       "26       WS         1.42\n",
       "27     TG16         0.16\n",
       "28      3DO         0.10\n",
       "29       GG         0.04\n",
       "30     PCFX         0.03"
      ]
     },
     "execution_count": 22,
     "metadata": {},
     "output_type": "execute_result"
    }
   ],
   "source": [
    "sales_by_platform = data.pivot_table(index='platform', values='total_sales',aggfunc='sum').sort_values(by='total_sales' , ascending = False).reset_index()\n",
    "sales_by_platform"
   ]
  },
  {
   "cell_type": "markdown",
   "metadata": {},
   "source": [
    "Первая шестёрка платформ в 2 и более раз обгоняет по продажам остальные. Построим распределение по годам и посмотрим как менялись продажи для каждой из этих платформ"
   ]
  },
  {
   "cell_type": "code",
   "execution_count": 23,
   "metadata": {},
   "outputs": [
    {
     "data": {
      "text/html": [
       "<div>\n",
       "<style scoped>\n",
       "    .dataframe tbody tr th:only-of-type {\n",
       "        vertical-align: middle;\n",
       "    }\n",
       "\n",
       "    .dataframe tbody tr th {\n",
       "        vertical-align: top;\n",
       "    }\n",
       "\n",
       "    .dataframe thead th {\n",
       "        text-align: right;\n",
       "    }\n",
       "</style>\n",
       "<table border=\"1\" class=\"dataframe\">\n",
       "  <thead>\n",
       "    <tr style=\"text-align: right;\">\n",
       "      <th></th>\n",
       "      <th>platform</th>\n",
       "      <th>year_of_release</th>\n",
       "      <th>total_sales</th>\n",
       "    </tr>\n",
       "  </thead>\n",
       "  <tbody>\n",
       "    <tr>\n",
       "      <th>0</th>\n",
       "      <td>2600</td>\n",
       "      <td>0</td>\n",
       "      <td>10.50</td>\n",
       "    </tr>\n",
       "    <tr>\n",
       "      <th>1</th>\n",
       "      <td>2600</td>\n",
       "      <td>1980</td>\n",
       "      <td>11.38</td>\n",
       "    </tr>\n",
       "    <tr>\n",
       "      <th>2</th>\n",
       "      <td>2600</td>\n",
       "      <td>1981</td>\n",
       "      <td>35.68</td>\n",
       "    </tr>\n",
       "    <tr>\n",
       "      <th>3</th>\n",
       "      <td>2600</td>\n",
       "      <td>1982</td>\n",
       "      <td>28.88</td>\n",
       "    </tr>\n",
       "    <tr>\n",
       "      <th>4</th>\n",
       "      <td>2600</td>\n",
       "      <td>1983</td>\n",
       "      <td>5.84</td>\n",
       "    </tr>\n",
       "    <tr>\n",
       "      <th>...</th>\n",
       "      <td>...</td>\n",
       "      <td>...</td>\n",
       "      <td>...</td>\n",
       "    </tr>\n",
       "    <tr>\n",
       "      <th>249</th>\n",
       "      <td>XB</td>\n",
       "      <td>2008</td>\n",
       "      <td>0.18</td>\n",
       "    </tr>\n",
       "    <tr>\n",
       "      <th>250</th>\n",
       "      <td>XOne</td>\n",
       "      <td>2013</td>\n",
       "      <td>18.96</td>\n",
       "    </tr>\n",
       "    <tr>\n",
       "      <th>251</th>\n",
       "      <td>XOne</td>\n",
       "      <td>2014</td>\n",
       "      <td>54.07</td>\n",
       "    </tr>\n",
       "    <tr>\n",
       "      <th>252</th>\n",
       "      <td>XOne</td>\n",
       "      <td>2015</td>\n",
       "      <td>60.14</td>\n",
       "    </tr>\n",
       "    <tr>\n",
       "      <th>253</th>\n",
       "      <td>XOne</td>\n",
       "      <td>2016</td>\n",
       "      <td>26.15</td>\n",
       "    </tr>\n",
       "  </tbody>\n",
       "</table>\n",
       "<p>254 rows × 3 columns</p>\n",
       "</div>"
      ],
      "text/plain": [
       "    platform  year_of_release  total_sales\n",
       "0       2600                0        10.50\n",
       "1       2600             1980        11.38\n",
       "2       2600             1981        35.68\n",
       "3       2600             1982        28.88\n",
       "4       2600             1983         5.84\n",
       "..       ...              ...          ...\n",
       "249       XB             2008         0.18\n",
       "250     XOne             2013        18.96\n",
       "251     XOne             2014        54.07\n",
       "252     XOne             2015        60.14\n",
       "253     XOne             2016        26.15\n",
       "\n",
       "[254 rows x 3 columns]"
      ]
     },
     "execution_count": 23,
     "metadata": {},
     "output_type": "execute_result"
    }
   ],
   "source": [
    "sales_by_platform_per_year = data.pivot_table(index=['platform','year_of_release'], values='total_sales',aggfunc='sum').reset_index()\n",
    "sales_by_platform_per_year"
   ]
  },
  {
   "cell_type": "code",
   "execution_count": 24,
   "metadata": {},
   "outputs": [
    {
     "data": {
      "image/png": "[encoded data removed]",
      "text/plain": [
       "<Figure size 648x432 with 1 Axes>"
      ]
     },
     "metadata": {
      "needs_background": "light"
     },
     "output_type": "display_data"
    }
   ],
   "source": [
    "sales_by_platform_per_year.query('platform==\"PS2\" & year_of_release>0').plot(kind='bar', x='year_of_release' , y='total_sales',figsize=(9,6))\n",
    "plot_title_labels('Суммарные продажи игр на PS2 по годам','Год выхода','Продано млн. копий')"
   ]
  },
  {
   "cell_type": "code",
   "execution_count": 25,
   "metadata": {},
   "outputs": [
    {
     "data": {
      "image/png": "[encoded data removed]",
      "text/plain": [
       "<Figure size 648x432 with 1 Axes>"
      ]
     },
     "metadata": {
      "needs_background": "light"
     },
     "output_type": "display_data"
    }
   ],
   "source": [
    "sales_by_platform_per_year.query('platform==\"X360\" & year_of_release>0').plot(kind='bar', x='year_of_release' , y='total_sales',figsize=(9,6))\n",
    "plot_title_labels('Суммарные продажи игр на X360 по годам','Год выхода','Продано млн. копий')"
   ]
  },
  {
   "cell_type": "code",
   "execution_count": 26,
   "metadata": {},
   "outputs": [
    {
     "data": {
      "image/png": "[encoded data removed]",
      "text/plain": [
       "<Figure size 648x432 with 1 Axes>"
      ]
     },
     "metadata": {
      "needs_background": "light"
     },
     "output_type": "display_data"
    }
   ],
   "source": [
    "sales_by_platform_per_year.query('platform==\"PS3\" & year_of_release>0').plot(kind='bar', x='year_of_release' , y='total_sales',figsize=(9,6))\n",
    "plot_title_labels('Суммарные продажи игр на PS3 по годам','Год выхода','Продано млн. копий')"
   ]
  },
  {
   "cell_type": "code",
   "execution_count": 27,
   "metadata": {},
   "outputs": [
    {
     "data": {
      "image/png": "[encoded data removed]",
      "text/plain": [
       "<Figure size 648x432 with 1 Axes>"
      ]
     },
     "metadata": {
      "needs_background": "light"
     },
     "output_type": "display_data"
    }
   ],
   "source": [
    "sales_by_platform_per_year.query('platform==\"Wii\" & year_of_release>0').plot(kind='bar', x='year_of_release' , y='total_sales',figsize=(9,6))\n",
    "plot_title_labels('Суммарные продажи игр на Wii по годам','Год выхода','Продано млн. копий')"
   ]
  },
  {
   "cell_type": "code",
   "execution_count": 28,
   "metadata": {},
   "outputs": [
    {
     "data": {
      "image/png": "[encoded data removed]",
      "text/plain": [
       "<Figure size 648x432 with 1 Axes>"
      ]
     },
     "metadata": {
      "needs_background": "light"
     },
     "output_type": "display_data"
    }
   ],
   "source": [
    "sales_by_platform_per_year.query('platform==\"DS\" & year_of_release>0').plot(kind='bar', x='year_of_release' , y='total_sales',figsize=(9,6))\n",
    "plot_title_labels('Суммарные продажи игр на DS по годам','Год выхода','Продано млн. копий')"
   ]
  },
  {
   "cell_type": "code",
   "execution_count": 29,
   "metadata": {},
   "outputs": [
    {
     "data": {
      "text/html": [
       "<div>\n",
       "<style scoped>\n",
       "    .dataframe tbody tr th:only-of-type {\n",
       "        vertical-align: middle;\n",
       "    }\n",
       "\n",
       "    .dataframe tbody tr th {\n",
       "        vertical-align: top;\n",
       "    }\n",
       "\n",
       "    .dataframe thead th {\n",
       "        text-align: right;\n",
       "    }\n",
       "</style>\n",
       "<table border=\"1\" class=\"dataframe\">\n",
       "  <thead>\n",
       "    <tr style=\"text-align: right;\">\n",
       "      <th></th>\n",
       "      <th>name</th>\n",
       "      <th>platform</th>\n",
       "      <th>year_of_release</th>\n",
       "      <th>genre</th>\n",
       "      <th>na_sales</th>\n",
       "      <th>eu_sales</th>\n",
       "      <th>jp_sales</th>\n",
       "      <th>other_sales</th>\n",
       "      <th>critic_score</th>\n",
       "      <th>user_score</th>\n",
       "      <th>rating</th>\n",
       "      <th>rating_age_category</th>\n",
       "      <th>total_sales</th>\n",
       "    </tr>\n",
       "  </thead>\n",
       "  <tbody>\n",
       "    <tr>\n",
       "      <th>15957</th>\n",
       "      <td>Strongest Tokyo University Shogi DS</td>\n",
       "      <td>DS</td>\n",
       "      <td>1985</td>\n",
       "      <td>Action</td>\n",
       "      <td>0.0</td>\n",
       "      <td>0.0</td>\n",
       "      <td>0.02</td>\n",
       "      <td>0.0</td>\n",
       "      <td>-1.0</td>\n",
       "      <td>-1.0</td>\n",
       "      <td>NaN</td>\n",
       "      <td>N/A</td>\n",
       "      <td>0.02</td>\n",
       "    </tr>\n",
       "  </tbody>\n",
       "</table>\n",
       "</div>"
      ],
      "text/plain": [
       "                                      name platform  year_of_release   genre  \\\n",
       "15957  Strongest Tokyo University Shogi DS       DS             1985  Action   \n",
       "\n",
       "       na_sales  eu_sales  jp_sales  other_sales  critic_score  user_score  \\\n",
       "15957       0.0       0.0      0.02          0.0          -1.0        -1.0   \n",
       "\n",
       "      rating rating_age_category  total_sales  \n",
       "15957    NaN                 N/A         0.02  "
      ]
     },
     "execution_count": 29,
     "metadata": {},
     "output_type": "execute_result"
    }
   ],
   "source": [
    "data.query('platform==\"DS\" & year_of_release==1985')"
   ]
  },
  {
   "cell_type": "markdown",
   "metadata": {},
   "source": [
    "Обнаружили один выброс для 1985 года. Явно опечатка, но оценить общие продажи он нам не мешает, поэтому оставляем."
   ]
  },
  {
   "cell_type": "code",
   "execution_count": 30,
   "metadata": {},
   "outputs": [
    {
     "data": {
      "image/png": "[encoded data removed]",
      "text/plain": [
       "<Figure size 648x432 with 1 Axes>"
      ]
     },
     "metadata": {
      "needs_background": "light"
     },
     "output_type": "display_data"
    }
   ],
   "source": [
    "sales_by_platform_per_year.query('platform==\"PS\" & year_of_release>0').plot(kind='bar', x='year_of_release' , y='total_sales',figsize=(9,6))\n",
    "plot_title_labels('Суммарные продажи игр на PS по годам','Год выхода','Продано млн. копий')"
   ]
  },
  {
   "cell_type": "markdown",
   "metadata": {},
   "source": [
    "По представленным графикам видно, что, в среднем, через 6 лет выходит следующее поколение платформы"
   ]
  },
  {
   "cell_type": "markdown",
   "metadata": {},
   "source": [
    "Посмотрим для проверки продажи PS4"
   ]
  },
  {
   "cell_type": "code",
   "execution_count": 31,
   "metadata": {},
   "outputs": [
    {
     "data": {
      "image/png": "[encoded data removed]",
      "text/plain": [
       "<Figure size 648x432 with 1 Axes>"
      ]
     },
     "metadata": {
      "needs_background": "light"
     },
     "output_type": "display_data"
    }
   ],
   "source": [
    "sales_by_platform_per_year.query('platform==\"PS4\" & year_of_release>0').plot(kind='bar', x='year_of_release' , y='total_sales',figsize=(9,6))\n",
    "plot_title_labels('Суммарные продажи игр на PS4 по годам','Год выхода','Продано млн. копий')"
   ]
  },
  {
   "cell_type": "markdown",
   "metadata": {},
   "source": [
    "Даты выхода консолей Playstation: 1994,2000,2006,2013. Сходится"
   ]
  },
  {
   "cell_type": "markdown",
   "metadata": {},
   "source": [
    "Сделаем срез данных по актуальному периоду, чтобы построить прогноз на 2017 год. Из графиков по суммарным продажам и релизам по годам видно, что данные за период 2012-2016 более-менее в одних пределах находятся, плюс 2012/2013 - как раз годы выхода нового(текущего) поколения консолей. Но т.к. сейчас декадрь 2016, то можно предположить что многие компании ещё не отчитались о продажах своих игр. Поэтому, возьмём срез с 2012 по 2015 годы."
   ]
  },
  {
   "cell_type": "code",
   "execution_count": 32,
   "metadata": {},
   "outputs": [
    {
     "name": "stdout",
     "output_type": "stream",
     "text": [
      "<class 'pandas.core.frame.DataFrame'>\n",
      "Int64Index: 2384 entries, 16 to 16707\n",
      "Data columns (total 13 columns):\n",
      " #   Column               Non-Null Count  Dtype  \n",
      "---  ------               --------------  -----  \n",
      " 0   name                 2384 non-null   object \n",
      " 1   platform             2384 non-null   object \n",
      " 2   year_of_release      2384 non-null   int64  \n",
      " 3   genre                2384 non-null   object \n",
      " 4   na_sales             2384 non-null   float64\n",
      " 5   eu_sales             2384 non-null   float64\n",
      " 6   jp_sales             2384 non-null   float64\n",
      " 7   other_sales          2384 non-null   float64\n",
      " 8   critic_score         2384 non-null   float64\n",
      " 9   user_score           2384 non-null   float64\n",
      " 10  rating               1331 non-null   object \n",
      " 11  rating_age_category  2384 non-null   object \n",
      " 12  total_sales          2384 non-null   float64\n",
      "dtypes: float64(7), int64(1), object(5)\n",
      "memory usage: 260.8+ KB\n"
     ]
    }
   ],
   "source": [
    "data_actual = data.query('year_of_release>=2012 & year_of_release<2016')\n",
    "data_actual.info()"
   ]
  },
  {
   "cell_type": "markdown",
   "metadata": {},
   "source": [
    "Посмотрим, какие платформы лидируют по продажам"
   ]
  },
  {
   "cell_type": "code",
   "execution_count": 33,
   "metadata": {},
   "outputs": [
    {
     "data": {
      "text/html": [
       "<div>\n",
       "<style scoped>\n",
       "    .dataframe tbody tr th:only-of-type {\n",
       "        vertical-align: middle;\n",
       "    }\n",
       "\n",
       "    .dataframe tbody tr th {\n",
       "        vertical-align: top;\n",
       "    }\n",
       "\n",
       "    .dataframe thead th {\n",
       "        text-align: right;\n",
       "    }\n",
       "</style>\n",
       "<table border=\"1\" class=\"dataframe\">\n",
       "  <thead>\n",
       "    <tr style=\"text-align: right;\">\n",
       "      <th></th>\n",
       "      <th>platform</th>\n",
       "      <th>total_sales</th>\n",
       "    </tr>\n",
       "  </thead>\n",
       "  <tbody>\n",
       "    <tr>\n",
       "      <th>0</th>\n",
       "      <td>PS3</td>\n",
       "      <td>285.19</td>\n",
       "    </tr>\n",
       "    <tr>\n",
       "      <th>1</th>\n",
       "      <td>PS4</td>\n",
       "      <td>244.89</td>\n",
       "    </tr>\n",
       "    <tr>\n",
       "      <th>2</th>\n",
       "      <td>X360</td>\n",
       "      <td>235.02</td>\n",
       "    </tr>\n",
       "    <tr>\n",
       "      <th>3</th>\n",
       "      <td>3DS</td>\n",
       "      <td>179.47</td>\n",
       "    </tr>\n",
       "    <tr>\n",
       "      <th>4</th>\n",
       "      <td>XOne</td>\n",
       "      <td>133.17</td>\n",
       "    </tr>\n",
       "    <tr>\n",
       "      <th>5</th>\n",
       "      <td>WiiU</td>\n",
       "      <td>77.59</td>\n",
       "    </tr>\n",
       "    <tr>\n",
       "      <th>6</th>\n",
       "      <td>PC</td>\n",
       "      <td>57.40</td>\n",
       "    </tr>\n",
       "    <tr>\n",
       "      <th>7</th>\n",
       "      <td>PSV</td>\n",
       "      <td>44.93</td>\n",
       "    </tr>\n",
       "    <tr>\n",
       "      <th>8</th>\n",
       "      <td>Wii</td>\n",
       "      <td>35.19</td>\n",
       "    </tr>\n",
       "    <tr>\n",
       "      <th>9</th>\n",
       "      <td>DS</td>\n",
       "      <td>12.55</td>\n",
       "    </tr>\n",
       "    <tr>\n",
       "      <th>10</th>\n",
       "      <td>PSP</td>\n",
       "      <td>11.19</td>\n",
       "    </tr>\n",
       "  </tbody>\n",
       "</table>\n",
       "</div>"
      ],
      "text/plain": [
       "   platform  total_sales\n",
       "0       PS3       285.19\n",
       "1       PS4       244.89\n",
       "2      X360       235.02\n",
       "3       3DS       179.47\n",
       "4      XOne       133.17\n",
       "5      WiiU        77.59\n",
       "6        PC        57.40\n",
       "7       PSV        44.93\n",
       "8       Wii        35.19\n",
       "9        DS        12.55\n",
       "10      PSP        11.19"
      ]
     },
     "execution_count": 33,
     "metadata": {},
     "output_type": "execute_result"
    }
   ],
   "source": [
    "sales_by_platform_actual = data_actual.pivot_table(index='platform', values='total_sales',aggfunc='sum').sort_values(by='total_sales' , ascending = False).reset_index()\n",
    "sales_by_platform_actual"
   ]
  },
  {
   "cell_type": "markdown",
   "metadata": {},
   "source": [
    "Видим топ-5 выбивающихся по продажам платформ. Посмотрим как по ним себя ведут продажи: растут или падают "
   ]
  },
  {
   "cell_type": "code",
   "execution_count": 34,
   "metadata": {},
   "outputs": [],
   "source": [
    "sales_by_platform_per_year_actual = data_actual.pivot_table(index=['platform','year_of_release'], values='total_sales',aggfunc='sum').reset_index()"
   ]
  },
  {
   "cell_type": "code",
   "execution_count": 35,
   "metadata": {},
   "outputs": [
    {
     "data": {
      "image/png": "[encoded data removed]",
      "text/plain": [
       "<Figure size 648x432 with 1 Axes>"
      ]
     },
     "metadata": {
      "needs_background": "light"
     },
     "output_type": "display_data"
    }
   ],
   "source": [
    "sales_by_platform_per_year_actual.query('platform==\"PS3\"').plot(kind='bar', x='year_of_release' , y='total_sales',figsize=(9,6))\n",
    "plot_title_labels('Суммарные продажи игр на PS3 2012-2015гг','Год выхода','Продано млн. копий')"
   ]
  },
  {
   "cell_type": "code",
   "execution_count": 36,
   "metadata": {},
   "outputs": [
    {
     "data": {
      "image/png": "[encoded data removed]",
      "text/plain": [
       "<Figure size 648x432 with 1 Axes>"
      ]
     },
     "metadata": {
      "needs_background": "light"
     },
     "output_type": "display_data"
    }
   ],
   "source": [
    "sales_by_platform_per_year_actual.query('platform==\"PS4\"').plot(kind='bar', x='year_of_release' , y='total_sales',figsize=(9,6))\n",
    "plot_title_labels('Суммарные продажи игр на PS4 2012-2015гг','Год выхода','Продано млн. копий')"
   ]
  },
  {
   "cell_type": "code",
   "execution_count": 37,
   "metadata": {},
   "outputs": [
    {
     "data": {
      "image/png": "[encoded data removed]",
      "text/plain": [
       "<Figure size 648x432 with 1 Axes>"
      ]
     },
     "metadata": {
      "needs_background": "light"
     },
     "output_type": "display_data"
    }
   ],
   "source": [
    "sales_by_platform_per_year_actual.query('platform==\"X360\"').plot(kind='bar', x='year_of_release' , y='total_sales',figsize=(9,6))\n",
    "plot_title_labels('Суммарные продажи игр на X360 2012-2015гг','Год выхода','Продано млн. копий')"
   ]
  },
  {
   "cell_type": "code",
   "execution_count": 38,
   "metadata": {},
   "outputs": [
    {
     "data": {
      "image/png": "[encoded data removed]",
      "text/plain": [
       "<Figure size 648x432 with 1 Axes>"
      ]
     },
     "metadata": {
      "needs_background": "light"
     },
     "output_type": "display_data"
    }
   ],
   "source": [
    "sales_by_platform_per_year_actual.query('platform==\"3DS\"').plot(kind='bar', x='year_of_release' , y='total_sales',figsize=(9,6))\n",
    "plot_title_labels('Суммарные продажи игр на 3DS 2012-2015гг','Год выхода','Продано млн. копий')"
   ]
  },
  {
   "cell_type": "code",
   "execution_count": 39,
   "metadata": {},
   "outputs": [
    {
     "data": {
      "image/png": "[encoded data removed]",
      "text/plain": [
       "<Figure size 648x432 with 1 Axes>"
      ]
     },
     "metadata": {
      "needs_background": "light"
     },
     "output_type": "display_data"
    }
   ],
   "source": [
    "sales_by_platform_per_year_actual.query('platform==\"XOne\"').plot(kind='bar', x='year_of_release' , y='total_sales',figsize=(9,6))\n",
    "plot_title_labels('Суммарные продажи игр на XOne 2012-2015гг','Год выхода','Продано млн. копий')"
   ]
  },
  {
   "cell_type": "markdown",
   "metadata": {},
   "source": [
    "Видим, что продажи PS3 и X360 - падают, а продажи PS4 и XOne - растут. Что логично, новое поколение консолей сменило старое. Продажи платформы 3DS так же падают, но их суммарное количество за акутальный период всё ещё внушительное. Опять же, если знать специфику игр 3DS, можно предположить что продажи сильно скошены в сторону азиатского региона, поэтому данные по общим продажам рассматривать не совсем корректно.\n",
    "<br>\n",
    "Выбираем 2 платформы как потенциально прибыльные для массового потребителя - PS4 и XOne."
   ]
  },
  {
   "cell_type": "markdown",
   "metadata": {},
   "source": [
    "Построим диаграмму размаха по глобальным продажам игр для этих двух платформ. Так же, добавим третью платформу для сравнения - 3DS"
   ]
  },
  {
   "cell_type": "code",
   "execution_count": 40,
   "metadata": {},
   "outputs": [
    {
     "data": {
      "text/plain": [
       "count    228.000000\n",
       "mean       1.074079\n",
       "std        1.899788\n",
       "min        0.010000\n",
       "25%        0.097500\n",
       "50%        0.310000\n",
       "75%        1.105000\n",
       "max       14.630000\n",
       "Name: total_sales, dtype: float64"
      ]
     },
     "execution_count": 40,
     "metadata": {},
     "output_type": "execute_result"
    },
    {
     "data": {
      "image/png": "[encoded data removed]",
      "text/plain": [
       "<Figure size 432x288 with 1 Axes>"
      ]
     },
     "metadata": {
      "needs_background": "light"
     },
     "output_type": "display_data"
    }
   ],
   "source": [
    "data_actual.query('platform==\"PS4\"').boxplot(column='total_sales')\n",
    "plt.title('Диаграмма размаха по глобальным продажам игр на PS4 за 2012-2015гг',fontsize=14)\n",
    "None\n",
    "plt.ylim(0,4)\n",
    "data_actual.query('platform==\"PS4\"')['total_sales'].describe()"
   ]
  },
  {
   "cell_type": "code",
   "execution_count": 41,
   "metadata": {},
   "outputs": [
    {
     "data": {
      "text/plain": [
       "count    160.000000\n",
       "mean       0.832313\n",
       "std        1.182243\n",
       "min        0.010000\n",
       "25%        0.130000\n",
       "50%        0.350000\n",
       "75%        1.137500\n",
       "max        7.390000\n",
       "Name: total_sales, dtype: float64"
      ]
     },
     "execution_count": 41,
     "metadata": {},
     "output_type": "execute_result"
    },
    {
     "data": {
      "image/png": "[encoded data removed]",
      "text/plain": [
       "<Figure size 432x288 with 1 Axes>"
      ]
     },
     "metadata": {
      "needs_background": "light"
     },
     "output_type": "display_data"
    }
   ],
   "source": [
    "data_actual.query('platform==\"XOne\"').boxplot(column='total_sales')\n",
    "plt.title('Диаграмма размаха по глобальным продажам игр на XOne за 2012-2015гг',fontsize=14)\n",
    "None\n",
    "plt.ylim(0,4)\n",
    "data_actual.query('platform==\"XOne\"')['total_sales'].describe()"
   ]
  },
  {
   "cell_type": "code",
   "execution_count": 42,
   "metadata": {},
   "outputs": [
    {
     "data": {
      "text/plain": [
       "count    350.000000\n",
       "mean       0.512771\n",
       "std        1.424582\n",
       "min        0.010000\n",
       "25%        0.050000\n",
       "50%        0.115000\n",
       "75%        0.330000\n",
       "max       14.600000\n",
       "Name: total_sales, dtype: float64"
      ]
     },
     "execution_count": 42,
     "metadata": {},
     "output_type": "execute_result"
    },
    {
     "data": {
      "image/png": "[encoded data removed]",
      "text/plain": [
       "<Figure size 432x288 with 1 Axes>"
      ]
     },
     "metadata": {
      "needs_background": "light"
     },
     "output_type": "display_data"
    }
   ],
   "source": [
    "data_actual.query('platform==\"3DS\"').boxplot(column='total_sales')\n",
    "plt.title('Диаграмма размаха по глобальным продажам игр на 3DS за 2012-2015гг',fontsize=14)\n",
    "None\n",
    "plt.ylim(0,1)\n",
    "data_actual.query('platform==\"3DS\"')['total_sales'].describe()"
   ]
  },
  {
   "cell_type": "markdown",
   "metadata": {},
   "source": [
    "По данным диаграммам можно сказать, что для PS4 нормальными продажами являются от 97.5тыс до 1105 тыс копий. Можем считать продажи меньше 97.5к - неудачными релизами, а свыше 1105к до ~2500к - удачными. Продажи свыше 2500к копий определяются как выбросы, считаем что это абсолютные хиты.\n",
    "<br>\n",
    "Для Xone нормальными продажами являются от 130тыс до 1137 тыс копий. Можем считать продажи меньше 130к - неудачными релизами, а свыше 1137к до ~2400к - удачными. Продажи свыше 2400к - абсолютные хиты.\n",
    "<br>\n",
    "Для 3DS нормальными продажами являются от 50тыс до 330 тыс копий. Можем считать продажи меньше 50к - неудачными релизами, а свыше 330к до ~750к - удачными. Продажи свыше 750к - абсолютные хиты."
   ]
  },
  {
   "cell_type": "markdown",
   "metadata": {},
   "source": [
    "Посмотрим как влияют на продажи внутри одной популярной платформы отзывы пользователей и критиков"
   ]
  },
  {
   "cell_type": "code",
   "execution_count": 43,
   "metadata": {},
   "outputs": [
    {
     "data": {
      "image/png": "[encoded data removed]",
      "text/plain": [
       "<Figure size 432x288 with 1 Axes>"
      ]
     },
     "metadata": {
      "needs_background": "light"
     },
     "output_type": "display_data"
    }
   ],
   "source": [
    "data_actual.query('platform==\"PS4\" & critic_score>0').plot(kind='scatter' , x=['critic_score'] , y='total_sales', alpha=0.7)\n",
    "plot_title_labels('Зависимость продаж игр на PS4 от оценок критиков','Оценка критиков','Продано млн. копий')"
   ]
  },
  {
   "cell_type": "markdown",
   "metadata": {},
   "source": [
    "Не очень наглядно. Попробуем категоризировать и построить более наглядный график"
   ]
  },
  {
   "cell_type": "code",
   "execution_count": 44,
   "metadata": {},
   "outputs": [],
   "source": [
    "data_actual['critic_score_cat'] = (data_actual['critic_score']/10).round()\n",
    "data_actual['user_score_cat'] = data_actual['user_score'].round()"
   ]
  },
  {
   "cell_type": "code",
   "execution_count": 45,
   "metadata": {},
   "outputs": [
    {
     "name": "stdout",
     "output_type": "stream",
     "text": [
      "Корреляция оценок критиков и продаж игр на PS4: 0.4318482049982005\n"
     ]
    },
    {
     "data": {
      "image/png": "[encoded data removed]",
      "text/plain": [
       "<Figure size 648x432 with 1 Axes>"
      ]
     },
     "metadata": {
      "needs_background": "light"
     },
     "output_type": "display_data"
    }
   ],
   "source": [
    "data_actual.query('platform==\"PS4\" & critic_score_cat>0').pivot_table(index='critic_score_cat',values='total_sales',aggfunc='median').plot(style='o--', figsize=(9, 6), grid=True)\n",
    "plot_title_labels('Зависимость продаж игр на PS4 от оценок критиков','Оценка критиков','Продано млн. копий')\n",
    "print('Корреляция оценок критиков и продаж игр на PS4:', data_actual.query('platform==\"PS4\" & critic_score>0')['critic_score'].corr(data_actual.query('platform==\"PS4\"')['total_sales']))"
   ]
  },
  {
   "cell_type": "code",
   "execution_count": 46,
   "metadata": {},
   "outputs": [
    {
     "data": {
      "image/png": "[encoded data removed]",
      "text/plain": [
       "<Figure size 432x288 with 1 Axes>"
      ]
     },
     "metadata": {
      "needs_background": "light"
     },
     "output_type": "display_data"
    }
   ],
   "source": [
    "data_actual.query('platform==\"PS4\" & user_score>0').plot(kind='scatter' , x=['user_score'] , y='total_sales', alpha=0.7)\n",
    "plot_title_labels('Зависимость продаж игр на PS4 от оценок юзеров','Оценка юзеров','Продано млн. копий')"
   ]
  },
  {
   "cell_type": "code",
   "execution_count": 47,
   "metadata": {},
   "outputs": [
    {
     "name": "stdout",
     "output_type": "stream",
     "text": [
      "Корреляция оценок юзеров и продаж игр на PS4: 0.024230832360622557\n"
     ]
    },
    {
     "data": {
      "image/png": "[encoded data removed]",
      "text/plain": [
       "<Figure size 648x432 with 1 Axes>"
      ]
     },
     "metadata": {
      "needs_background": "light"
     },
     "output_type": "display_data"
    }
   ],
   "source": [
    "data_actual.query('platform==\"PS4\" & user_score_cat>0').pivot_table(index='user_score_cat',values='total_sales',aggfunc='median').plot(style='o--', figsize=(9, 6), grid=True)\n",
    "plot_title_labels('Зависимость продаж игр на PS4 от оценок юзеров','Оценка юзеров','Продано млн. копий')\n",
    "print('Корреляция оценок юзеров и продаж игр на PS4:', data_actual.query('platform==\"PS4\" & user_score>0')['user_score'].corr(data_actual.query('platform==\"PS4\"')['total_sales']))"
   ]
  },
  {
   "cell_type": "code",
   "execution_count": 48,
   "metadata": {},
   "outputs": [
    {
     "data": {
      "image/png": "[encoded data removed]",
      "text/plain": [
       "<Figure size 432x288 with 1 Axes>"
      ]
     },
     "metadata": {
      "needs_background": "light"
     },
     "output_type": "display_data"
    }
   ],
   "source": [
    "data_actual.query('platform==\"XOne\" & critic_score>0').plot(kind='scatter' , x=['critic_score'] , y='total_sales', alpha=0.7)\n",
    "plot_title_labels('Зависимость продаж игр на XOne от оценок критиков','Оценка критиков','Продано млн. копий')"
   ]
  },
  {
   "cell_type": "code",
   "execution_count": 49,
   "metadata": {},
   "outputs": [
    {
     "name": "stdout",
     "output_type": "stream",
     "text": [
      "Корреляция оценок критиков и продаж игр на XOne: 0.45938456807071054\n"
     ]
    },
    {
     "data": {
      "image/png": "[encoded data removed]",
      "text/plain": [
       "<Figure size 648x432 with 1 Axes>"
      ]
     },
     "metadata": {
      "needs_background": "light"
     },
     "output_type": "display_data"
    }
   ],
   "source": [
    "data_actual.query('platform==\"XOne\" & critic_score_cat>0').pivot_table(index='critic_score_cat',values='total_sales',aggfunc='median').plot(style='o--', figsize=(9, 6), grid=True)\n",
    "plot_title_labels('Зависимость продаж игр на XOne от оценок критиков','Оценка критиков','Продано млн. копий')\n",
    "print('Корреляция оценок критиков и продаж игр на XOne:', data_actual.query('platform==\"XOne\" & critic_score>0')['critic_score'].corr(data_actual.query('platform==\"XOne\"')['total_sales']))"
   ]
  },
  {
   "cell_type": "code",
   "execution_count": 50,
   "metadata": {},
   "outputs": [
    {
     "data": {
      "image/png": "[encoded data removed]",
      "text/plain": [
       "<Figure size 432x288 with 1 Axes>"
      ]
     },
     "metadata": {
      "needs_background": "light"
     },
     "output_type": "display_data"
    }
   ],
   "source": [
    "data_actual.query('platform==\"XOne\" & user_score>0').plot(kind='scatter' , x=['user_score'] , y='total_sales', alpha=0.7)\n",
    "plot_title_labels('Зависимость продаж игр на XOne от оценок юзеров','Оценка юзеров','Продано млн. копий')"
   ]
  },
  {
   "cell_type": "code",
   "execution_count": 51,
   "metadata": {},
   "outputs": [
    {
     "name": "stdout",
     "output_type": "stream",
     "text": [
      "Корреляция оценок юзеров и продаж игр на XOne: -0.03926828544552199\n"
     ]
    },
    {
     "data": {
      "image/png": "[encoded data removed]",
      "text/plain": [
       "<Figure size 648x432 with 1 Axes>"
      ]
     },
     "metadata": {
      "needs_background": "light"
     },
     "output_type": "display_data"
    }
   ],
   "source": [
    "data_actual.query('platform==\"XOne\" & user_score_cat>0').pivot_table(index='user_score_cat',values='total_sales',aggfunc='median').plot(style='o--', figsize=(9, 6), grid=True)\n",
    "plot_title_labels('Зависимость продаж игр на XOne от оценок юзеров','Оценка юзеров','Продано млн. копий')\n",
    "print('Корреляция оценок юзеров и продаж игр на XOne:', data_actual.query('platform==\"XOne\" & user_score>0')['user_score'].corr(data_actual.query('platform==\"XOne\"')['total_sales']))"
   ]
  },
  {
   "cell_type": "code",
   "execution_count": 52,
   "metadata": {},
   "outputs": [
    {
     "data": {
      "image/png": "[encoded data removed]",
      "text/plain": [
       "<Figure size 432x288 with 1 Axes>"
      ]
     },
     "metadata": {
      "needs_background": "light"
     },
     "output_type": "display_data"
    }
   ],
   "source": [
    "data_actual.query('platform==\"3DS\" & critic_score>0').plot(kind='scatter' , x=['critic_score'] , y='total_sales', alpha=0.7)\n",
    "plot_title_labels('Зависимость продаж игр на 3DS от оценок критиков','Оценка критиков','Продано млн. копий')"
   ]
  },
  {
   "cell_type": "code",
   "execution_count": 53,
   "metadata": {},
   "outputs": [
    {
     "name": "stdout",
     "output_type": "stream",
     "text": [
      "Корреляция оценок критиков и продаж игр на 3DS: 0.3331477996346886\n"
     ]
    },
    {
     "data": {
      "image/png": "[encoded data removed]",
      "text/plain": [
       "<Figure size 648x432 with 1 Axes>"
      ]
     },
     "metadata": {
      "needs_background": "light"
     },
     "output_type": "display_data"
    }
   ],
   "source": [
    "data_actual.query('platform==\"3DS\" & critic_score_cat>0').pivot_table(index='critic_score_cat',values='total_sales',aggfunc='median').plot(style='o--', figsize=(9, 6), grid=True)\n",
    "plot_title_labels('Зависимость продаж игр на 3DS от оценок критиков','Оценка критиков','Продано млн. копий')\n",
    "print('Корреляция оценок критиков и продаж игр на 3DS:', data_actual.query('platform==\"3DS\" & critic_score>0')['critic_score'].corr(data_actual.query('platform==\"3DS\"')['total_sales']))"
   ]
  },
  {
   "cell_type": "code",
   "execution_count": 54,
   "metadata": {},
   "outputs": [
    {
     "data": {
      "image/png": "[encoded data removed]",
      "text/plain": [
       "<Figure size 432x288 with 1 Axes>"
      ]
     },
     "metadata": {
      "needs_background": "light"
     },
     "output_type": "display_data"
    }
   ],
   "source": [
    "data_actual.query('platform==\"3DS\" & user_score>0').plot(kind='scatter' , x=['user_score'] , y='total_sales', alpha=0.7)\n",
    "plot_title_labels('Зависимость продаж игр на 3DS от оценок юзеров','Оценка юзеров','Продано млн. копий')"
   ]
  },
  {
   "cell_type": "code",
   "execution_count": 55,
   "metadata": {},
   "outputs": [
    {
     "name": "stdout",
     "output_type": "stream",
     "text": [
      "Корреляция оценок юзеров и продаж игр на 3DS: 0.21056681222463666\n"
     ]
    },
    {
     "data": {
      "image/png": "[encoded data removed]",
      "text/plain": [
       "<Figure size 648x432 with 1 Axes>"
      ]
     },
     "metadata": {
      "needs_background": "light"
     },
     "output_type": "display_data"
    }
   ],
   "source": [
    "data_actual.query('platform==\"3DS\" & user_score_cat>0').pivot_table(index='user_score_cat',values='total_sales',aggfunc='median').plot(style='o--', figsize=(9, 6), grid=True)\n",
    "plot_title_labels('Зависимость продаж игр на 3DS от оценок юзеров','Оценка юзеров','Продано млн. копий')\n",
    "print('Корреляция оценок юзеров и продаж игр на 3DS:', data_actual.query('platform==\"3DS\" & user_score>0')['user_score'].corr(data_actual.query('platform==\"3DS\"')['total_sales']))"
   ]
  },
  {
   "cell_type": "markdown",
   "metadata": {},
   "source": [
    "По графикам и корреляции хорошо видно, что оценки критиков существенно влияют на продажи игр, а оценки юзеров - нет"
   ]
  },
  {
   "cell_type": "markdown",
   "metadata": {},
   "source": [
    "Далее, посмотрим на распределение продажи игр по жанрам"
   ]
  },
  {
   "cell_type": "code",
   "execution_count": 56,
   "metadata": {},
   "outputs": [
    {
     "data": {
      "text/html": [
       "<div>\n",
       "<style scoped>\n",
       "    .dataframe tbody tr th:only-of-type {\n",
       "        vertical-align: middle;\n",
       "    }\n",
       "\n",
       "    .dataframe tbody tr th {\n",
       "        vertical-align: top;\n",
       "    }\n",
       "\n",
       "    .dataframe thead th {\n",
       "        text-align: right;\n",
       "    }\n",
       "</style>\n",
       "<table border=\"1\" class=\"dataframe\">\n",
       "  <thead>\n",
       "    <tr style=\"text-align: right;\">\n",
       "      <th></th>\n",
       "      <th>name</th>\n",
       "      <th>platform</th>\n",
       "      <th>year_of_release</th>\n",
       "      <th>genre</th>\n",
       "      <th>na_sales</th>\n",
       "      <th>eu_sales</th>\n",
       "      <th>jp_sales</th>\n",
       "      <th>other_sales</th>\n",
       "      <th>critic_score</th>\n",
       "      <th>user_score</th>\n",
       "      <th>rating</th>\n",
       "      <th>rating_age_category</th>\n",
       "      <th>total_sales</th>\n",
       "      <th>critic_score_cat</th>\n",
       "      <th>user_score_cat</th>\n",
       "    </tr>\n",
       "  </thead>\n",
       "  <tbody>\n",
       "    <tr>\n",
       "      <th>16</th>\n",
       "      <td>Grand Theft Auto V</td>\n",
       "      <td>PS3</td>\n",
       "      <td>2013</td>\n",
       "      <td>Action</td>\n",
       "      <td>7.02</td>\n",
       "      <td>9.09</td>\n",
       "      <td>0.98</td>\n",
       "      <td>3.96</td>\n",
       "      <td>97.0</td>\n",
       "      <td>8.2</td>\n",
       "      <td>M</td>\n",
       "      <td>17+</td>\n",
       "      <td>21.05</td>\n",
       "      <td>10.0</td>\n",
       "      <td>8.0</td>\n",
       "    </tr>\n",
       "    <tr>\n",
       "      <th>23</th>\n",
       "      <td>Grand Theft Auto V</td>\n",
       "      <td>X360</td>\n",
       "      <td>2013</td>\n",
       "      <td>Action</td>\n",
       "      <td>9.66</td>\n",
       "      <td>5.14</td>\n",
       "      <td>0.06</td>\n",
       "      <td>1.41</td>\n",
       "      <td>97.0</td>\n",
       "      <td>8.1</td>\n",
       "      <td>M</td>\n",
       "      <td>17+</td>\n",
       "      <td>16.27</td>\n",
       "      <td>10.0</td>\n",
       "      <td>8.0</td>\n",
       "    </tr>\n",
       "    <tr>\n",
       "      <th>31</th>\n",
       "      <td>Call of Duty: Black Ops 3</td>\n",
       "      <td>PS4</td>\n",
       "      <td>2015</td>\n",
       "      <td>Shooter</td>\n",
       "      <td>6.03</td>\n",
       "      <td>5.86</td>\n",
       "      <td>0.36</td>\n",
       "      <td>2.38</td>\n",
       "      <td>-1.0</td>\n",
       "      <td>-1.0</td>\n",
       "      <td>NaN</td>\n",
       "      <td>N/A</td>\n",
       "      <td>14.63</td>\n",
       "      <td>-0.0</td>\n",
       "      <td>-1.0</td>\n",
       "    </tr>\n",
       "    <tr>\n",
       "      <th>33</th>\n",
       "      <td>Pokemon X/Pokemon Y</td>\n",
       "      <td>3DS</td>\n",
       "      <td>2013</td>\n",
       "      <td>Role-Playing</td>\n",
       "      <td>5.28</td>\n",
       "      <td>4.19</td>\n",
       "      <td>4.35</td>\n",
       "      <td>0.78</td>\n",
       "      <td>-1.0</td>\n",
       "      <td>-1.0</td>\n",
       "      <td>NaN</td>\n",
       "      <td>N/A</td>\n",
       "      <td>14.60</td>\n",
       "      <td>-0.0</td>\n",
       "      <td>-1.0</td>\n",
       "    </tr>\n",
       "    <tr>\n",
       "      <th>34</th>\n",
       "      <td>Call of Duty: Black Ops II</td>\n",
       "      <td>PS3</td>\n",
       "      <td>2012</td>\n",
       "      <td>Shooter</td>\n",
       "      <td>4.99</td>\n",
       "      <td>5.73</td>\n",
       "      <td>0.65</td>\n",
       "      <td>2.42</td>\n",
       "      <td>83.0</td>\n",
       "      <td>5.3</td>\n",
       "      <td>M</td>\n",
       "      <td>17+</td>\n",
       "      <td>13.79</td>\n",
       "      <td>8.0</td>\n",
       "      <td>5.0</td>\n",
       "    </tr>\n",
       "  </tbody>\n",
       "</table>\n",
       "</div>"
      ],
      "text/plain": [
       "                          name platform  year_of_release         genre  \\\n",
       "16          Grand Theft Auto V      PS3             2013        Action   \n",
       "23          Grand Theft Auto V     X360             2013        Action   \n",
       "31   Call of Duty: Black Ops 3      PS4             2015       Shooter   \n",
       "33         Pokemon X/Pokemon Y      3DS             2013  Role-Playing   \n",
       "34  Call of Duty: Black Ops II      PS3             2012       Shooter   \n",
       "\n",
       "    na_sales  eu_sales  jp_sales  other_sales  critic_score  user_score  \\\n",
       "16      7.02      9.09      0.98         3.96          97.0         8.2   \n",
       "23      9.66      5.14      0.06         1.41          97.0         8.1   \n",
       "31      6.03      5.86      0.36         2.38          -1.0        -1.0   \n",
       "33      5.28      4.19      4.35         0.78          -1.0        -1.0   \n",
       "34      4.99      5.73      0.65         2.42          83.0         5.3   \n",
       "\n",
       "   rating rating_age_category  total_sales  critic_score_cat  user_score_cat  \n",
       "16      M                 17+        21.05              10.0             8.0  \n",
       "23      M                 17+        16.27              10.0             8.0  \n",
       "31    NaN                 N/A        14.63              -0.0            -1.0  \n",
       "33    NaN                 N/A        14.60              -0.0            -1.0  \n",
       "34      M                 17+        13.79               8.0             5.0  "
      ]
     },
     "execution_count": 56,
     "metadata": {},
     "output_type": "execute_result"
    }
   ],
   "source": [
    "data_actual.head()"
   ]
  },
  {
   "cell_type": "code",
   "execution_count": 57,
   "metadata": {},
   "outputs": [
    {
     "data": {
      "text/html": [
       "<div>\n",
       "<style scoped>\n",
       "    .dataframe tbody tr th:only-of-type {\n",
       "        vertical-align: middle;\n",
       "    }\n",
       "\n",
       "    .dataframe tbody tr th {\n",
       "        vertical-align: top;\n",
       "    }\n",
       "\n",
       "    .dataframe thead th {\n",
       "        text-align: right;\n",
       "    }\n",
       "</style>\n",
       "<table border=\"1\" class=\"dataframe\">\n",
       "  <thead>\n",
       "    <tr style=\"text-align: right;\">\n",
       "      <th></th>\n",
       "      <th>genre</th>\n",
       "      <th>total_sales</th>\n",
       "    </tr>\n",
       "  </thead>\n",
       "  <tbody>\n",
       "    <tr>\n",
       "      <th>0</th>\n",
       "      <td>Action</td>\n",
       "      <td>411.01</td>\n",
       "    </tr>\n",
       "    <tr>\n",
       "      <th>1</th>\n",
       "      <td>Shooter</td>\n",
       "      <td>266.51</td>\n",
       "    </tr>\n",
       "    <tr>\n",
       "      <th>2</th>\n",
       "      <td>Role-Playing</td>\n",
       "      <td>174.62</td>\n",
       "    </tr>\n",
       "    <tr>\n",
       "      <th>3</th>\n",
       "      <td>Sports</td>\n",
       "      <td>157.58</td>\n",
       "    </tr>\n",
       "    <tr>\n",
       "      <th>4</th>\n",
       "      <td>Misc</td>\n",
       "      <td>82.44</td>\n",
       "    </tr>\n",
       "    <tr>\n",
       "      <th>5</th>\n",
       "      <td>Platform</td>\n",
       "      <td>57.77</td>\n",
       "    </tr>\n",
       "    <tr>\n",
       "      <th>6</th>\n",
       "      <td>Racing</td>\n",
       "      <td>50.71</td>\n",
       "    </tr>\n",
       "    <tr>\n",
       "      <th>7</th>\n",
       "      <td>Fighting</td>\n",
       "      <td>40.02</td>\n",
       "    </tr>\n",
       "    <tr>\n",
       "      <th>8</th>\n",
       "      <td>Simulation</td>\n",
       "      <td>33.23</td>\n",
       "    </tr>\n",
       "    <tr>\n",
       "      <th>9</th>\n",
       "      <td>Adventure</td>\n",
       "      <td>25.61</td>\n",
       "    </tr>\n",
       "    <tr>\n",
       "      <th>10</th>\n",
       "      <td>Strategy</td>\n",
       "      <td>12.21</td>\n",
       "    </tr>\n",
       "    <tr>\n",
       "      <th>11</th>\n",
       "      <td>Puzzle</td>\n",
       "      <td>4.88</td>\n",
       "    </tr>\n",
       "  </tbody>\n",
       "</table>\n",
       "</div>"
      ],
      "text/plain": [
       "           genre  total_sales\n",
       "0         Action       411.01\n",
       "1        Shooter       266.51\n",
       "2   Role-Playing       174.62\n",
       "3         Sports       157.58\n",
       "4           Misc        82.44\n",
       "5       Platform        57.77\n",
       "6         Racing        50.71\n",
       "7       Fighting        40.02\n",
       "8     Simulation        33.23\n",
       "9      Adventure        25.61\n",
       "10      Strategy        12.21\n",
       "11        Puzzle         4.88"
      ]
     },
     "execution_count": 57,
     "metadata": {},
     "output_type": "execute_result"
    }
   ],
   "source": [
    "data_actual_sales_by_genre = data_actual.pivot_table(index = 'genre', values = 'total_sales', aggfunc='sum').sort_values(by='total_sales', ascending=False).reset_index()\n",
    "data_actual_sales_by_genre"
   ]
  },
  {
   "cell_type": "markdown",
   "metadata": {},
   "source": [
    "Можно смело утверждать, что Action - самый популярный жанр. Так же, довольно неплохо продаются игры жанра Shooter, Role-Playing и Sports. Паззлы чувствуют себя совсем плохо."
   ]
  },
  {
   "cell_type": "markdown",
   "metadata": {},
   "source": [
    "Ради интереса, посмотрим на продажи по жанрам за все годы"
   ]
  },
  {
   "cell_type": "code",
   "execution_count": 58,
   "metadata": {},
   "outputs": [
    {
     "data": {
      "text/html": [
       "<div>\n",
       "<style scoped>\n",
       "    .dataframe tbody tr th:only-of-type {\n",
       "        vertical-align: middle;\n",
       "    }\n",
       "\n",
       "    .dataframe tbody tr th {\n",
       "        vertical-align: top;\n",
       "    }\n",
       "\n",
       "    .dataframe thead th {\n",
       "        text-align: right;\n",
       "    }\n",
       "</style>\n",
       "<table border=\"1\" class=\"dataframe\">\n",
       "  <thead>\n",
       "    <tr style=\"text-align: right;\">\n",
       "      <th></th>\n",
       "      <th>genre</th>\n",
       "      <th>total_sales</th>\n",
       "    </tr>\n",
       "  </thead>\n",
       "  <tbody>\n",
       "    <tr>\n",
       "      <th>0</th>\n",
       "      <td>Action</td>\n",
       "      <td>1744.17</td>\n",
       "    </tr>\n",
       "    <tr>\n",
       "      <th>1</th>\n",
       "      <td>Sports</td>\n",
       "      <td>1331.27</td>\n",
       "    </tr>\n",
       "    <tr>\n",
       "      <th>2</th>\n",
       "      <td>Shooter</td>\n",
       "      <td>1052.45</td>\n",
       "    </tr>\n",
       "    <tr>\n",
       "      <th>3</th>\n",
       "      <td>Role-Playing</td>\n",
       "      <td>934.56</td>\n",
       "    </tr>\n",
       "    <tr>\n",
       "      <th>4</th>\n",
       "      <td>Platform</td>\n",
       "      <td>827.77</td>\n",
       "    </tr>\n",
       "    <tr>\n",
       "      <th>5</th>\n",
       "      <td>Misc</td>\n",
       "      <td>802.51</td>\n",
       "    </tr>\n",
       "    <tr>\n",
       "      <th>6</th>\n",
       "      <td>Racing</td>\n",
       "      <td>728.67</td>\n",
       "    </tr>\n",
       "    <tr>\n",
       "      <th>7</th>\n",
       "      <td>Fighting</td>\n",
       "      <td>447.53</td>\n",
       "    </tr>\n",
       "    <tr>\n",
       "      <th>8</th>\n",
       "      <td>Simulation</td>\n",
       "      <td>389.97</td>\n",
       "    </tr>\n",
       "    <tr>\n",
       "      <th>9</th>\n",
       "      <td>Puzzle</td>\n",
       "      <td>242.57</td>\n",
       "    </tr>\n",
       "    <tr>\n",
       "      <th>10</th>\n",
       "      <td>Adventure</td>\n",
       "      <td>237.59</td>\n",
       "    </tr>\n",
       "    <tr>\n",
       "      <th>11</th>\n",
       "      <td>Strategy</td>\n",
       "      <td>174.23</td>\n",
       "    </tr>\n",
       "  </tbody>\n",
       "</table>\n",
       "</div>"
      ],
      "text/plain": [
       "           genre  total_sales\n",
       "0         Action      1744.17\n",
       "1         Sports      1331.27\n",
       "2        Shooter      1052.45\n",
       "3   Role-Playing       934.56\n",
       "4       Platform       827.77\n",
       "5           Misc       802.51\n",
       "6         Racing       728.67\n",
       "7       Fighting       447.53\n",
       "8     Simulation       389.97\n",
       "9         Puzzle       242.57\n",
       "10     Adventure       237.59\n",
       "11      Strategy       174.23"
      ]
     },
     "execution_count": 58,
     "metadata": {},
     "output_type": "execute_result"
    }
   ],
   "source": [
    "data_sales_by_genre = data.pivot_table(index = 'genre', values = 'total_sales', aggfunc='sum').sort_values(by='total_sales', ascending=False).reset_index()\n",
    "data_sales_by_genre"
   ]
  },
  {
   "cell_type": "markdown",
   "metadata": {},
   "source": [
    "Примерно то же самое, но паззлы раньше любили чуть больше\n",
    "<br>\n",
    "Топ-5 самых прибыльных жанров по суммарным продажам: Action, Shooter, Role-Playing, Sports, Misc\t"
   ]
  },
  {
   "cell_type": "markdown",
   "metadata": {},
   "source": [
    "Попробуем посмотреть медианные и средние продажи для определения самых прибыльных жанров"
   ]
  },
  {
   "cell_type": "code",
   "execution_count": 59,
   "metadata": {},
   "outputs": [
    {
     "data": {
      "text/html": [
       "<div>\n",
       "<style scoped>\n",
       "    .dataframe tbody tr th:only-of-type {\n",
       "        vertical-align: middle;\n",
       "    }\n",
       "\n",
       "    .dataframe tbody tr th {\n",
       "        vertical-align: top;\n",
       "    }\n",
       "\n",
       "    .dataframe thead th {\n",
       "        text-align: right;\n",
       "    }\n",
       "</style>\n",
       "<table border=\"1\" class=\"dataframe\">\n",
       "  <thead>\n",
       "    <tr style=\"text-align: right;\">\n",
       "      <th></th>\n",
       "      <th>genre</th>\n",
       "      <th>total_sales</th>\n",
       "    </tr>\n",
       "  </thead>\n",
       "  <tbody>\n",
       "    <tr>\n",
       "      <th>0</th>\n",
       "      <td>Shooter</td>\n",
       "      <td>0.525</td>\n",
       "    </tr>\n",
       "    <tr>\n",
       "      <th>1</th>\n",
       "      <td>Sports</td>\n",
       "      <td>0.305</td>\n",
       "    </tr>\n",
       "    <tr>\n",
       "      <th>2</th>\n",
       "      <td>Platform</td>\n",
       "      <td>0.285</td>\n",
       "    </tr>\n",
       "    <tr>\n",
       "      <th>3</th>\n",
       "      <td>Racing</td>\n",
       "      <td>0.230</td>\n",
       "    </tr>\n",
       "    <tr>\n",
       "      <th>4</th>\n",
       "      <td>Misc</td>\n",
       "      <td>0.180</td>\n",
       "    </tr>\n",
       "    <tr>\n",
       "      <th>5</th>\n",
       "      <td>Fighting</td>\n",
       "      <td>0.160</td>\n",
       "    </tr>\n",
       "    <tr>\n",
       "      <th>6</th>\n",
       "      <td>Role-Playing</td>\n",
       "      <td>0.150</td>\n",
       "    </tr>\n",
       "    <tr>\n",
       "      <th>7</th>\n",
       "      <td>Simulation</td>\n",
       "      <td>0.150</td>\n",
       "    </tr>\n",
       "    <tr>\n",
       "      <th>8</th>\n",
       "      <td>Action</td>\n",
       "      <td>0.140</td>\n",
       "    </tr>\n",
       "    <tr>\n",
       "      <th>9</th>\n",
       "      <td>Strategy</td>\n",
       "      <td>0.080</td>\n",
       "    </tr>\n",
       "    <tr>\n",
       "      <th>10</th>\n",
       "      <td>Puzzle</td>\n",
       "      <td>0.050</td>\n",
       "    </tr>\n",
       "    <tr>\n",
       "      <th>11</th>\n",
       "      <td>Adventure</td>\n",
       "      <td>0.030</td>\n",
       "    </tr>\n",
       "  </tbody>\n",
       "</table>\n",
       "</div>"
      ],
      "text/plain": [
       "           genre  total_sales\n",
       "0        Shooter        0.525\n",
       "1         Sports        0.305\n",
       "2       Platform        0.285\n",
       "3         Racing        0.230\n",
       "4           Misc        0.180\n",
       "5       Fighting        0.160\n",
       "6   Role-Playing        0.150\n",
       "7     Simulation        0.150\n",
       "8         Action        0.140\n",
       "9       Strategy        0.080\n",
       "10        Puzzle        0.050\n",
       "11     Adventure        0.030"
      ]
     },
     "execution_count": 59,
     "metadata": {},
     "output_type": "execute_result"
    }
   ],
   "source": [
    "data_actual.pivot_table(index = 'genre', values = 'total_sales', aggfunc='median').sort_values(by='total_sales', ascending=False).reset_index()"
   ]
  },
  {
   "cell_type": "code",
   "execution_count": 60,
   "metadata": {},
   "outputs": [
    {
     "data": {
      "text/html": [
       "<div>\n",
       "<style scoped>\n",
       "    .dataframe tbody tr th:only-of-type {\n",
       "        vertical-align: middle;\n",
       "    }\n",
       "\n",
       "    .dataframe tbody tr th {\n",
       "        vertical-align: top;\n",
       "    }\n",
       "\n",
       "    .dataframe thead th {\n",
       "        text-align: right;\n",
       "    }\n",
       "</style>\n",
       "<table border=\"1\" class=\"dataframe\">\n",
       "  <thead>\n",
       "    <tr style=\"text-align: right;\">\n",
       "      <th></th>\n",
       "      <th>genre</th>\n",
       "      <th>total_sales</th>\n",
       "    </tr>\n",
       "  </thead>\n",
       "  <tbody>\n",
       "    <tr>\n",
       "      <th>0</th>\n",
       "      <td>Shooter</td>\n",
       "      <td>1.417606</td>\n",
       "    </tr>\n",
       "    <tr>\n",
       "      <th>1</th>\n",
       "      <td>Platform</td>\n",
       "      <td>0.825286</td>\n",
       "    </tr>\n",
       "    <tr>\n",
       "      <th>2</th>\n",
       "      <td>Sports</td>\n",
       "      <td>0.716273</td>\n",
       "    </tr>\n",
       "    <tr>\n",
       "      <th>3</th>\n",
       "      <td>Racing</td>\n",
       "      <td>0.557253</td>\n",
       "    </tr>\n",
       "    <tr>\n",
       "      <th>4</th>\n",
       "      <td>Role-Playing</td>\n",
       "      <td>0.552595</td>\n",
       "    </tr>\n",
       "    <tr>\n",
       "      <th>5</th>\n",
       "      <td>Simulation</td>\n",
       "      <td>0.535968</td>\n",
       "    </tr>\n",
       "    <tr>\n",
       "      <th>6</th>\n",
       "      <td>Misc</td>\n",
       "      <td>0.515250</td>\n",
       "    </tr>\n",
       "    <tr>\n",
       "      <th>7</th>\n",
       "      <td>Action</td>\n",
       "      <td>0.481841</td>\n",
       "    </tr>\n",
       "    <tr>\n",
       "      <th>8</th>\n",
       "      <td>Fighting</td>\n",
       "      <td>0.430323</td>\n",
       "    </tr>\n",
       "    <tr>\n",
       "      <th>9</th>\n",
       "      <td>Strategy</td>\n",
       "      <td>0.210517</td>\n",
       "    </tr>\n",
       "    <tr>\n",
       "      <th>10</th>\n",
       "      <td>Puzzle</td>\n",
       "      <td>0.180741</td>\n",
       "    </tr>\n",
       "    <tr>\n",
       "      <th>11</th>\n",
       "      <td>Adventure</td>\n",
       "      <td>0.104106</td>\n",
       "    </tr>\n",
       "  </tbody>\n",
       "</table>\n",
       "</div>"
      ],
      "text/plain": [
       "           genre  total_sales\n",
       "0        Shooter     1.417606\n",
       "1       Platform     0.825286\n",
       "2         Sports     0.716273\n",
       "3         Racing     0.557253\n",
       "4   Role-Playing     0.552595\n",
       "5     Simulation     0.535968\n",
       "6           Misc     0.515250\n",
       "7         Action     0.481841\n",
       "8       Fighting     0.430323\n",
       "9       Strategy     0.210517\n",
       "10        Puzzle     0.180741\n",
       "11     Adventure     0.104106"
      ]
     },
     "execution_count": 60,
     "metadata": {},
     "output_type": "execute_result"
    }
   ],
   "source": [
    "data_actual.pivot_table(index = 'genre', values = 'total_sales', aggfunc='mean').sort_values(by='total_sales', ascending=False).reset_index()"
   ]
  },
  {
   "cell_type": "markdown",
   "metadata": {},
   "source": [
    "Можно утверждать, что топ-3 самых прибыльных жанра это: Shooter, Sports, Platform, из которых Shooter - самый прибыльный"
   ]
  },
  {
   "cell_type": "markdown",
   "metadata": {},
   "source": [
    "### Вывод\n",
    "Довольно резкий  рост по количеству выпускаемых игр начался после 1994 года, спад – после 2009. Пик по количеству выпущенных  игр пришёлся на  2008 и 2009 год. Самая популярная платформа за всё время по продаже игр – PS2. Определили, что , в среднем, раз в 6 лет выходит новая платформа. Определили актуальный период  данных для его анализа и прогнозирования на 2017год (2012-2015). Выяснили, что на данный момент самые перспективные платформы – PS4 и XOne. Оценки критиков существенно влияют на продажи игр, а пользователей – нет. Самый продаваемый жанр – это Action, а самый непродаваемый – Puzzle."
   ]
  },
  {
   "cell_type": "markdown",
   "metadata": {},
   "source": [
    "## Портрет пользователя каждого региона"
   ]
  },
  {
   "cell_type": "markdown",
   "metadata": {},
   "source": [
    "Определим для пользователей каждого региона топ-5 самых популярных платформ"
   ]
  },
  {
   "cell_type": "code",
   "execution_count": 61,
   "metadata": {},
   "outputs": [
    {
     "data": {
      "text/html": [
       "<div>\n",
       "<style scoped>\n",
       "    .dataframe tbody tr th:only-of-type {\n",
       "        vertical-align: middle;\n",
       "    }\n",
       "\n",
       "    .dataframe tbody tr th {\n",
       "        vertical-align: top;\n",
       "    }\n",
       "\n",
       "    .dataframe thead th {\n",
       "        text-align: right;\n",
       "    }\n",
       "</style>\n",
       "<table border=\"1\" class=\"dataframe\">\n",
       "  <thead>\n",
       "    <tr style=\"text-align: right;\">\n",
       "      <th></th>\n",
       "      <th>platform</th>\n",
       "      <th>na_sales</th>\n",
       "    </tr>\n",
       "  </thead>\n",
       "  <tbody>\n",
       "    <tr>\n",
       "      <th>0</th>\n",
       "      <td>X360</td>\n",
       "      <td>139.36</td>\n",
       "    </tr>\n",
       "    <tr>\n",
       "      <th>1</th>\n",
       "      <td>PS3</td>\n",
       "      <td>102.71</td>\n",
       "    </tr>\n",
       "    <tr>\n",
       "      <th>2</th>\n",
       "      <td>PS4</td>\n",
       "      <td>87.25</td>\n",
       "    </tr>\n",
       "    <tr>\n",
       "      <th>3</th>\n",
       "      <td>XOne</td>\n",
       "      <td>78.85</td>\n",
       "    </tr>\n",
       "    <tr>\n",
       "      <th>4</th>\n",
       "      <td>3DS</td>\n",
       "      <td>51.17</td>\n",
       "    </tr>\n",
       "    <tr>\n",
       "      <th>5</th>\n",
       "      <td>WiiU</td>\n",
       "      <td>36.00</td>\n",
       "    </tr>\n",
       "    <tr>\n",
       "      <th>6</th>\n",
       "      <td>PC</td>\n",
       "      <td>17.76</td>\n",
       "    </tr>\n",
       "    <tr>\n",
       "      <th>7</th>\n",
       "      <td>Wii</td>\n",
       "      <td>17.39</td>\n",
       "    </tr>\n",
       "    <tr>\n",
       "      <th>8</th>\n",
       "      <td>PSV</td>\n",
       "      <td>10.83</td>\n",
       "    </tr>\n",
       "    <tr>\n",
       "      <th>9</th>\n",
       "      <td>DS</td>\n",
       "      <td>4.59</td>\n",
       "    </tr>\n",
       "    <tr>\n",
       "      <th>10</th>\n",
       "      <td>PSP</td>\n",
       "      <td>0.13</td>\n",
       "    </tr>\n",
       "  </tbody>\n",
       "</table>\n",
       "</div>"
      ],
      "text/plain": [
       "   platform  na_sales\n",
       "0      X360    139.36\n",
       "1       PS3    102.71\n",
       "2       PS4     87.25\n",
       "3      XOne     78.85\n",
       "4       3DS     51.17\n",
       "5      WiiU     36.00\n",
       "6        PC     17.76\n",
       "7       Wii     17.39\n",
       "8       PSV     10.83\n",
       "9        DS      4.59\n",
       "10      PSP      0.13"
      ]
     },
     "execution_count": 61,
     "metadata": {},
     "output_type": "execute_result"
    }
   ],
   "source": [
    "data_actual.pivot_table(index = 'platform' , values ='na_sales', aggfunc = 'sum').sort_values(by='na_sales', ascending=False).reset_index()"
   ]
  },
  {
   "cell_type": "code",
   "execution_count": 62,
   "metadata": {},
   "outputs": [
    {
     "data": {
      "text/html": [
       "<div>\n",
       "<style scoped>\n",
       "    .dataframe tbody tr th:only-of-type {\n",
       "        vertical-align: middle;\n",
       "    }\n",
       "\n",
       "    .dataframe tbody tr th {\n",
       "        vertical-align: top;\n",
       "    }\n",
       "\n",
       "    .dataframe thead th {\n",
       "        text-align: right;\n",
       "    }\n",
       "</style>\n",
       "<table border=\"1\" class=\"dataframe\">\n",
       "  <thead>\n",
       "    <tr style=\"text-align: right;\">\n",
       "      <th></th>\n",
       "      <th>platform</th>\n",
       "      <th>eu_sales</th>\n",
       "    </tr>\n",
       "  </thead>\n",
       "  <tbody>\n",
       "    <tr>\n",
       "      <th>0</th>\n",
       "      <td>PS4</td>\n",
       "      <td>109.31</td>\n",
       "    </tr>\n",
       "    <tr>\n",
       "      <th>1</th>\n",
       "      <td>PS3</td>\n",
       "      <td>105.60</td>\n",
       "    </tr>\n",
       "    <tr>\n",
       "      <th>2</th>\n",
       "      <td>X360</td>\n",
       "      <td>73.81</td>\n",
       "    </tr>\n",
       "    <tr>\n",
       "      <th>3</th>\n",
       "      <td>XOne</td>\n",
       "      <td>41.96</td>\n",
       "    </tr>\n",
       "    <tr>\n",
       "      <th>4</th>\n",
       "      <td>3DS</td>\n",
       "      <td>40.31</td>\n",
       "    </tr>\n",
       "    <tr>\n",
       "      <th>5</th>\n",
       "      <td>PC</td>\n",
       "      <td>34.23</td>\n",
       "    </tr>\n",
       "    <tr>\n",
       "      <th>6</th>\n",
       "      <td>WiiU</td>\n",
       "      <td>23.65</td>\n",
       "    </tr>\n",
       "    <tr>\n",
       "      <th>7</th>\n",
       "      <td>Wii</td>\n",
       "      <td>11.81</td>\n",
       "    </tr>\n",
       "    <tr>\n",
       "      <th>8</th>\n",
       "      <td>PSV</td>\n",
       "      <td>10.97</td>\n",
       "    </tr>\n",
       "    <tr>\n",
       "      <th>9</th>\n",
       "      <td>DS</td>\n",
       "      <td>3.53</td>\n",
       "    </tr>\n",
       "    <tr>\n",
       "      <th>10</th>\n",
       "      <td>PSP</td>\n",
       "      <td>0.42</td>\n",
       "    </tr>\n",
       "  </tbody>\n",
       "</table>\n",
       "</div>"
      ],
      "text/plain": [
       "   platform  eu_sales\n",
       "0       PS4    109.31\n",
       "1       PS3    105.60\n",
       "2      X360     73.81\n",
       "3      XOne     41.96\n",
       "4       3DS     40.31\n",
       "5        PC     34.23\n",
       "6      WiiU     23.65\n",
       "7       Wii     11.81\n",
       "8       PSV     10.97\n",
       "9        DS      3.53\n",
       "10      PSP      0.42"
      ]
     },
     "execution_count": 62,
     "metadata": {},
     "output_type": "execute_result"
    }
   ],
   "source": [
    "data_actual.pivot_table(index = 'platform' , values ='eu_sales', aggfunc = 'sum').sort_values(by='eu_sales', ascending=False).reset_index()"
   ]
  },
  {
   "cell_type": "code",
   "execution_count": 63,
   "metadata": {},
   "outputs": [
    {
     "data": {
      "text/html": [
       "<div>\n",
       "<style scoped>\n",
       "    .dataframe tbody tr th:only-of-type {\n",
       "        vertical-align: middle;\n",
       "    }\n",
       "\n",
       "    .dataframe tbody tr th {\n",
       "        vertical-align: top;\n",
       "    }\n",
       "\n",
       "    .dataframe thead th {\n",
       "        text-align: right;\n",
       "    }\n",
       "</style>\n",
       "<table border=\"1\" class=\"dataframe\">\n",
       "  <thead>\n",
       "    <tr style=\"text-align: right;\">\n",
       "      <th></th>\n",
       "      <th>platform</th>\n",
       "      <th>jp_sales</th>\n",
       "    </tr>\n",
       "  </thead>\n",
       "  <tbody>\n",
       "    <tr>\n",
       "      <th>0</th>\n",
       "      <td>3DS</td>\n",
       "      <td>79.76</td>\n",
       "    </tr>\n",
       "    <tr>\n",
       "      <th>1</th>\n",
       "      <td>PS3</td>\n",
       "      <td>33.99</td>\n",
       "    </tr>\n",
       "    <tr>\n",
       "      <th>2</th>\n",
       "      <td>PSV</td>\n",
       "      <td>17.48</td>\n",
       "    </tr>\n",
       "    <tr>\n",
       "      <th>3</th>\n",
       "      <td>WiiU</td>\n",
       "      <td>12.34</td>\n",
       "    </tr>\n",
       "    <tr>\n",
       "      <th>4</th>\n",
       "      <td>PSP</td>\n",
       "      <td>10.47</td>\n",
       "    </tr>\n",
       "    <tr>\n",
       "      <th>5</th>\n",
       "      <td>PS4</td>\n",
       "      <td>10.22</td>\n",
       "    </tr>\n",
       "    <tr>\n",
       "      <th>6</th>\n",
       "      <td>DS</td>\n",
       "      <td>3.72</td>\n",
       "    </tr>\n",
       "    <tr>\n",
       "      <th>7</th>\n",
       "      <td>Wii</td>\n",
       "      <td>3.39</td>\n",
       "    </tr>\n",
       "    <tr>\n",
       "      <th>8</th>\n",
       "      <td>X360</td>\n",
       "      <td>1.57</td>\n",
       "    </tr>\n",
       "    <tr>\n",
       "      <th>9</th>\n",
       "      <td>XOne</td>\n",
       "      <td>0.33</td>\n",
       "    </tr>\n",
       "    <tr>\n",
       "      <th>10</th>\n",
       "      <td>PC</td>\n",
       "      <td>0.00</td>\n",
       "    </tr>\n",
       "  </tbody>\n",
       "</table>\n",
       "</div>"
      ],
      "text/plain": [
       "   platform  jp_sales\n",
       "0       3DS     79.76\n",
       "1       PS3     33.99\n",
       "2       PSV     17.48\n",
       "3      WiiU     12.34\n",
       "4       PSP     10.47\n",
       "5       PS4     10.22\n",
       "6        DS      3.72\n",
       "7       Wii      3.39\n",
       "8      X360      1.57\n",
       "9      XOne      0.33\n",
       "10       PC      0.00"
      ]
     },
     "execution_count": 63,
     "metadata": {},
     "output_type": "execute_result"
    }
   ],
   "source": [
    "data_actual.pivot_table(index = 'platform' , values ='jp_sales', aggfunc = 'sum').sort_values(by='jp_sales', ascending=False).reset_index()"
   ]
  },
  {
   "cell_type": "code",
   "execution_count": 64,
   "metadata": {},
   "outputs": [
    {
     "data": {
      "text/html": [
       "<div>\n",
       "<style scoped>\n",
       "    .dataframe tbody tr th:only-of-type {\n",
       "        vertical-align: middle;\n",
       "    }\n",
       "\n",
       "    .dataframe tbody tr th {\n",
       "        vertical-align: top;\n",
       "    }\n",
       "\n",
       "    .dataframe thead th {\n",
       "        text-align: right;\n",
       "    }\n",
       "</style>\n",
       "<table border=\"1\" class=\"dataframe\">\n",
       "  <thead>\n",
       "    <tr style=\"text-align: right;\">\n",
       "      <th></th>\n",
       "      <th>platform</th>\n",
       "      <th>other_sales</th>\n",
       "    </tr>\n",
       "  </thead>\n",
       "  <tbody>\n",
       "    <tr>\n",
       "      <th>0</th>\n",
       "      <td>PS3</td>\n",
       "      <td>42.89</td>\n",
       "    </tr>\n",
       "    <tr>\n",
       "      <th>1</th>\n",
       "      <td>PS4</td>\n",
       "      <td>38.11</td>\n",
       "    </tr>\n",
       "    <tr>\n",
       "      <th>2</th>\n",
       "      <td>X360</td>\n",
       "      <td>20.28</td>\n",
       "    </tr>\n",
       "    <tr>\n",
       "      <th>3</th>\n",
       "      <td>XOne</td>\n",
       "      <td>12.03</td>\n",
       "    </tr>\n",
       "    <tr>\n",
       "      <th>4</th>\n",
       "      <td>3DS</td>\n",
       "      <td>8.23</td>\n",
       "    </tr>\n",
       "    <tr>\n",
       "      <th>5</th>\n",
       "      <td>PSV</td>\n",
       "      <td>5.65</td>\n",
       "    </tr>\n",
       "    <tr>\n",
       "      <th>6</th>\n",
       "      <td>WiiU</td>\n",
       "      <td>5.60</td>\n",
       "    </tr>\n",
       "    <tr>\n",
       "      <th>7</th>\n",
       "      <td>PC</td>\n",
       "      <td>5.41</td>\n",
       "    </tr>\n",
       "    <tr>\n",
       "      <th>8</th>\n",
       "      <td>Wii</td>\n",
       "      <td>2.60</td>\n",
       "    </tr>\n",
       "    <tr>\n",
       "      <th>9</th>\n",
       "      <td>DS</td>\n",
       "      <td>0.71</td>\n",
       "    </tr>\n",
       "    <tr>\n",
       "      <th>10</th>\n",
       "      <td>PSP</td>\n",
       "      <td>0.17</td>\n",
       "    </tr>\n",
       "  </tbody>\n",
       "</table>\n",
       "</div>"
      ],
      "text/plain": [
       "   platform  other_sales\n",
       "0       PS3        42.89\n",
       "1       PS4        38.11\n",
       "2      X360        20.28\n",
       "3      XOne        12.03\n",
       "4       3DS         8.23\n",
       "5       PSV         5.65\n",
       "6      WiiU         5.60\n",
       "7        PC         5.41\n",
       "8       Wii         2.60\n",
       "9        DS         0.71\n",
       "10      PSP         0.17"
      ]
     },
     "execution_count": 64,
     "metadata": {},
     "output_type": "execute_result"
    }
   ],
   "source": [
    "data_actual.pivot_table(index = 'platform' , values ='other_sales', aggfunc = 'sum').sort_values(by='other_sales', ascending=False).reset_index()"
   ]
  },
  {
   "cell_type": "markdown",
   "metadata": {},
   "source": [
    "Рынки всего мира, кроме Японского, очень похожи. В топ-5 входят платформы PS3, PS4, X360, XOne и 3DS. В Америке больше популярен Xbox, в Европе и других странах - Playstation. В other_sales более популярна PS3 из-за более низкой цены, видимо.\n",
    "<br>\n",
    "В японии топ-5 выглядит так: 3DS, PS3, PSV, WiiU, PSP. Все 5 платформ от двух Японских компаний, причём 3 из 5 платформ - портативные. В Японии свой нишевый рынок."
   ]
  },
  {
   "cell_type": "markdown",
   "metadata": {},
   "source": [
    "Определим для пользователей каждого региона топ-5 самых популярных жанров"
   ]
  },
  {
   "cell_type": "code",
   "execution_count": 65,
   "metadata": {},
   "outputs": [
    {
     "data": {
      "text/html": [
       "<div>\n",
       "<style scoped>\n",
       "    .dataframe tbody tr th:only-of-type {\n",
       "        vertical-align: middle;\n",
       "    }\n",
       "\n",
       "    .dataframe tbody tr th {\n",
       "        vertical-align: top;\n",
       "    }\n",
       "\n",
       "    .dataframe thead th {\n",
       "        text-align: right;\n",
       "    }\n",
       "</style>\n",
       "<table border=\"1\" class=\"dataframe\">\n",
       "  <thead>\n",
       "    <tr style=\"text-align: right;\">\n",
       "      <th></th>\n",
       "      <th>genre</th>\n",
       "      <th>na_sales</th>\n",
       "    </tr>\n",
       "  </thead>\n",
       "  <tbody>\n",
       "    <tr>\n",
       "      <th>0</th>\n",
       "      <td>Action</td>\n",
       "      <td>168.55</td>\n",
       "    </tr>\n",
       "    <tr>\n",
       "      <th>1</th>\n",
       "      <td>Shooter</td>\n",
       "      <td>128.53</td>\n",
       "    </tr>\n",
       "    <tr>\n",
       "      <th>2</th>\n",
       "      <td>Sports</td>\n",
       "      <td>73.99</td>\n",
       "    </tr>\n",
       "    <tr>\n",
       "      <th>3</th>\n",
       "      <td>Role-Playing</td>\n",
       "      <td>58.11</td>\n",
       "    </tr>\n",
       "    <tr>\n",
       "      <th>4</th>\n",
       "      <td>Misc</td>\n",
       "      <td>37.43</td>\n",
       "    </tr>\n",
       "    <tr>\n",
       "      <th>5</th>\n",
       "      <td>Platform</td>\n",
       "      <td>24.09</td>\n",
       "    </tr>\n",
       "    <tr>\n",
       "      <th>6</th>\n",
       "      <td>Fighting</td>\n",
       "      <td>17.95</td>\n",
       "    </tr>\n",
       "    <tr>\n",
       "      <th>7</th>\n",
       "      <td>Racing</td>\n",
       "      <td>16.49</td>\n",
       "    </tr>\n",
       "    <tr>\n",
       "      <th>8</th>\n",
       "      <td>Adventure</td>\n",
       "      <td>7.97</td>\n",
       "    </tr>\n",
       "    <tr>\n",
       "      <th>9</th>\n",
       "      <td>Simulation</td>\n",
       "      <td>7.81</td>\n",
       "    </tr>\n",
       "    <tr>\n",
       "      <th>10</th>\n",
       "      <td>Strategy</td>\n",
       "      <td>3.99</td>\n",
       "    </tr>\n",
       "    <tr>\n",
       "      <th>11</th>\n",
       "      <td>Puzzle</td>\n",
       "      <td>1.13</td>\n",
       "    </tr>\n",
       "  </tbody>\n",
       "</table>\n",
       "</div>"
      ],
      "text/plain": [
       "           genre  na_sales\n",
       "0         Action    168.55\n",
       "1        Shooter    128.53\n",
       "2         Sports     73.99\n",
       "3   Role-Playing     58.11\n",
       "4           Misc     37.43\n",
       "5       Platform     24.09\n",
       "6       Fighting     17.95\n",
       "7         Racing     16.49\n",
       "8      Adventure      7.97\n",
       "9     Simulation      7.81\n",
       "10      Strategy      3.99\n",
       "11        Puzzle      1.13"
      ]
     },
     "execution_count": 65,
     "metadata": {},
     "output_type": "execute_result"
    }
   ],
   "source": [
    "data_actual.pivot_table(index = 'genre' , values ='na_sales', aggfunc = 'sum').sort_values(by='na_sales', ascending=False).reset_index()"
   ]
  },
  {
   "cell_type": "code",
   "execution_count": 66,
   "metadata": {},
   "outputs": [
    {
     "data": {
      "text/html": [
       "<div>\n",
       "<style scoped>\n",
       "    .dataframe tbody tr th:only-of-type {\n",
       "        vertical-align: middle;\n",
       "    }\n",
       "\n",
       "    .dataframe tbody tr th {\n",
       "        vertical-align: top;\n",
       "    }\n",
       "\n",
       "    .dataframe thead th {\n",
       "        text-align: right;\n",
       "    }\n",
       "</style>\n",
       "<table border=\"1\" class=\"dataframe\">\n",
       "  <thead>\n",
       "    <tr style=\"text-align: right;\">\n",
       "      <th></th>\n",
       "      <th>genre</th>\n",
       "      <th>eu_sales</th>\n",
       "    </tr>\n",
       "  </thead>\n",
       "  <tbody>\n",
       "    <tr>\n",
       "      <th>0</th>\n",
       "      <td>Action</td>\n",
       "      <td>148.66</td>\n",
       "    </tr>\n",
       "    <tr>\n",
       "      <th>1</th>\n",
       "      <td>Shooter</td>\n",
       "      <td>97.57</td>\n",
       "    </tr>\n",
       "    <tr>\n",
       "      <th>2</th>\n",
       "      <td>Sports</td>\n",
       "      <td>57.08</td>\n",
       "    </tr>\n",
       "    <tr>\n",
       "      <th>3</th>\n",
       "      <td>Role-Playing</td>\n",
       "      <td>44.25</td>\n",
       "    </tr>\n",
       "    <tr>\n",
       "      <th>4</th>\n",
       "      <td>Misc</td>\n",
       "      <td>25.66</td>\n",
       "    </tr>\n",
       "    <tr>\n",
       "      <th>5</th>\n",
       "      <td>Racing</td>\n",
       "      <td>25.52</td>\n",
       "    </tr>\n",
       "    <tr>\n",
       "      <th>6</th>\n",
       "      <td>Platform</td>\n",
       "      <td>20.02</td>\n",
       "    </tr>\n",
       "    <tr>\n",
       "      <th>7</th>\n",
       "      <td>Simulation</td>\n",
       "      <td>13.28</td>\n",
       "    </tr>\n",
       "    <tr>\n",
       "      <th>8</th>\n",
       "      <td>Fighting</td>\n",
       "      <td>9.45</td>\n",
       "    </tr>\n",
       "    <tr>\n",
       "      <th>9</th>\n",
       "      <td>Adventure</td>\n",
       "      <td>8.14</td>\n",
       "    </tr>\n",
       "    <tr>\n",
       "      <th>10</th>\n",
       "      <td>Strategy</td>\n",
       "      <td>4.58</td>\n",
       "    </tr>\n",
       "    <tr>\n",
       "      <th>11</th>\n",
       "      <td>Puzzle</td>\n",
       "      <td>1.39</td>\n",
       "    </tr>\n",
       "  </tbody>\n",
       "</table>\n",
       "</div>"
      ],
      "text/plain": [
       "           genre  eu_sales\n",
       "0         Action    148.66\n",
       "1        Shooter     97.57\n",
       "2         Sports     57.08\n",
       "3   Role-Playing     44.25\n",
       "4           Misc     25.66\n",
       "5         Racing     25.52\n",
       "6       Platform     20.02\n",
       "7     Simulation     13.28\n",
       "8       Fighting      9.45\n",
       "9      Adventure      8.14\n",
       "10      Strategy      4.58\n",
       "11        Puzzle      1.39"
      ]
     },
     "execution_count": 66,
     "metadata": {},
     "output_type": "execute_result"
    }
   ],
   "source": [
    "data_actual.pivot_table(index = 'genre' , values ='eu_sales', aggfunc = 'sum').sort_values(by='eu_sales', ascending=False).reset_index()"
   ]
  },
  {
   "cell_type": "code",
   "execution_count": 67,
   "metadata": {},
   "outputs": [
    {
     "data": {
      "text/html": [
       "<div>\n",
       "<style scoped>\n",
       "    .dataframe tbody tr th:only-of-type {\n",
       "        vertical-align: middle;\n",
       "    }\n",
       "\n",
       "    .dataframe tbody tr th {\n",
       "        vertical-align: top;\n",
       "    }\n",
       "\n",
       "    .dataframe thead th {\n",
       "        text-align: right;\n",
       "    }\n",
       "</style>\n",
       "<table border=\"1\" class=\"dataframe\">\n",
       "  <thead>\n",
       "    <tr style=\"text-align: right;\">\n",
       "      <th></th>\n",
       "      <th>genre</th>\n",
       "      <th>jp_sales</th>\n",
       "    </tr>\n",
       "  </thead>\n",
       "  <tbody>\n",
       "    <tr>\n",
       "      <th>0</th>\n",
       "      <td>Role-Playing</td>\n",
       "      <td>58.83</td>\n",
       "    </tr>\n",
       "    <tr>\n",
       "      <th>1</th>\n",
       "      <td>Action</td>\n",
       "      <td>45.73</td>\n",
       "    </tr>\n",
       "    <tr>\n",
       "      <th>2</th>\n",
       "      <td>Misc</td>\n",
       "      <td>11.82</td>\n",
       "    </tr>\n",
       "    <tr>\n",
       "      <th>3</th>\n",
       "      <td>Simulation</td>\n",
       "      <td>10.08</td>\n",
       "    </tr>\n",
       "    <tr>\n",
       "      <th>4</th>\n",
       "      <td>Fighting</td>\n",
       "      <td>8.69</td>\n",
       "    </tr>\n",
       "    <tr>\n",
       "      <th>5</th>\n",
       "      <td>Platform</td>\n",
       "      <td>8.52</td>\n",
       "    </tr>\n",
       "    <tr>\n",
       "      <th>6</th>\n",
       "      <td>Shooter</td>\n",
       "      <td>8.17</td>\n",
       "    </tr>\n",
       "    <tr>\n",
       "      <th>7</th>\n",
       "      <td>Sports</td>\n",
       "      <td>7.09</td>\n",
       "    </tr>\n",
       "    <tr>\n",
       "      <th>8</th>\n",
       "      <td>Adventure</td>\n",
       "      <td>7.06</td>\n",
       "    </tr>\n",
       "    <tr>\n",
       "      <th>9</th>\n",
       "      <td>Strategy</td>\n",
       "      <td>2.65</td>\n",
       "    </tr>\n",
       "    <tr>\n",
       "      <th>10</th>\n",
       "      <td>Racing</td>\n",
       "      <td>2.49</td>\n",
       "    </tr>\n",
       "    <tr>\n",
       "      <th>11</th>\n",
       "      <td>Puzzle</td>\n",
       "      <td>2.14</td>\n",
       "    </tr>\n",
       "  </tbody>\n",
       "</table>\n",
       "</div>"
      ],
      "text/plain": [
       "           genre  jp_sales\n",
       "0   Role-Playing     58.83\n",
       "1         Action     45.73\n",
       "2           Misc     11.82\n",
       "3     Simulation     10.08\n",
       "4       Fighting      8.69\n",
       "5       Platform      8.52\n",
       "6        Shooter      8.17\n",
       "7         Sports      7.09\n",
       "8      Adventure      7.06\n",
       "9       Strategy      2.65\n",
       "10        Racing      2.49\n",
       "11        Puzzle      2.14"
      ]
     },
     "execution_count": 67,
     "metadata": {},
     "output_type": "execute_result"
    }
   ],
   "source": [
    "data_actual.pivot_table(index = 'genre' , values ='jp_sales', aggfunc = 'sum').sort_values(by='jp_sales', ascending=False).reset_index()"
   ]
  },
  {
   "cell_type": "code",
   "execution_count": 68,
   "metadata": {},
   "outputs": [
    {
     "data": {
      "text/html": [
       "<div>\n",
       "<style scoped>\n",
       "    .dataframe tbody tr th:only-of-type {\n",
       "        vertical-align: middle;\n",
       "    }\n",
       "\n",
       "    .dataframe tbody tr th {\n",
       "        vertical-align: top;\n",
       "    }\n",
       "\n",
       "    .dataframe thead th {\n",
       "        text-align: right;\n",
       "    }\n",
       "</style>\n",
       "<table border=\"1\" class=\"dataframe\">\n",
       "  <thead>\n",
       "    <tr style=\"text-align: right;\">\n",
       "      <th></th>\n",
       "      <th>genre</th>\n",
       "      <th>other_sales</th>\n",
       "    </tr>\n",
       "  </thead>\n",
       "  <tbody>\n",
       "    <tr>\n",
       "      <th>0</th>\n",
       "      <td>Action</td>\n",
       "      <td>48.07</td>\n",
       "    </tr>\n",
       "    <tr>\n",
       "      <th>1</th>\n",
       "      <td>Shooter</td>\n",
       "      <td>32.24</td>\n",
       "    </tr>\n",
       "    <tr>\n",
       "      <th>2</th>\n",
       "      <td>Sports</td>\n",
       "      <td>19.42</td>\n",
       "    </tr>\n",
       "    <tr>\n",
       "      <th>3</th>\n",
       "      <td>Role-Playing</td>\n",
       "      <td>13.43</td>\n",
       "    </tr>\n",
       "    <tr>\n",
       "      <th>4</th>\n",
       "      <td>Misc</td>\n",
       "      <td>7.53</td>\n",
       "    </tr>\n",
       "    <tr>\n",
       "      <th>5</th>\n",
       "      <td>Racing</td>\n",
       "      <td>6.21</td>\n",
       "    </tr>\n",
       "    <tr>\n",
       "      <th>6</th>\n",
       "      <td>Platform</td>\n",
       "      <td>5.14</td>\n",
       "    </tr>\n",
       "    <tr>\n",
       "      <th>7</th>\n",
       "      <td>Fighting</td>\n",
       "      <td>3.93</td>\n",
       "    </tr>\n",
       "    <tr>\n",
       "      <th>8</th>\n",
       "      <td>Adventure</td>\n",
       "      <td>2.44</td>\n",
       "    </tr>\n",
       "    <tr>\n",
       "      <th>9</th>\n",
       "      <td>Simulation</td>\n",
       "      <td>2.06</td>\n",
       "    </tr>\n",
       "    <tr>\n",
       "      <th>10</th>\n",
       "      <td>Strategy</td>\n",
       "      <td>0.99</td>\n",
       "    </tr>\n",
       "    <tr>\n",
       "      <th>11</th>\n",
       "      <td>Puzzle</td>\n",
       "      <td>0.22</td>\n",
       "    </tr>\n",
       "  </tbody>\n",
       "</table>\n",
       "</div>"
      ],
      "text/plain": [
       "           genre  other_sales\n",
       "0         Action        48.07\n",
       "1        Shooter        32.24\n",
       "2         Sports        19.42\n",
       "3   Role-Playing        13.43\n",
       "4           Misc         7.53\n",
       "5         Racing         6.21\n",
       "6       Platform         5.14\n",
       "7       Fighting         3.93\n",
       "8      Adventure         2.44\n",
       "9     Simulation         2.06\n",
       "10      Strategy         0.99\n",
       "11        Puzzle         0.22"
      ]
     },
     "execution_count": 68,
     "metadata": {},
     "output_type": "execute_result"
    }
   ],
   "source": [
    "data_actual.pivot_table(index = 'genre' , values ='other_sales', aggfunc = 'sum').sort_values(by='other_sales', ascending=False).reset_index()"
   ]
  },
  {
   "cell_type": "markdown",
   "metadata": {},
   "source": [
    "Топ-5 для все стран, кроме Японии: Action, Shooter, Sports, Role-Playing, Misc. Для Японии: Role-Playing, Action, Misc, Simulation, Fighting. Скорее всего, разница в менталитете потребителей Азии и Европы/Америки."
   ]
  },
  {
   "cell_type": "markdown",
   "metadata": {},
   "source": [
    "Проверим, влияет ли рейтинг ESRB на продажи в отдельном регионе"
   ]
  },
  {
   "cell_type": "code",
   "execution_count": 69,
   "metadata": {},
   "outputs": [
    {
     "data": {
      "text/html": [
       "<div>\n",
       "<style scoped>\n",
       "    .dataframe tbody tr th:only-of-type {\n",
       "        vertical-align: middle;\n",
       "    }\n",
       "\n",
       "    .dataframe tbody tr th {\n",
       "        vertical-align: top;\n",
       "    }\n",
       "\n",
       "    .dataframe thead th {\n",
       "        text-align: right;\n",
       "    }\n",
       "</style>\n",
       "<table border=\"1\" class=\"dataframe\">\n",
       "  <thead>\n",
       "    <tr style=\"text-align: right;\">\n",
       "      <th></th>\n",
       "      <th>rating_age_category</th>\n",
       "      <th>na_sales</th>\n",
       "    </tr>\n",
       "  </thead>\n",
       "  <tbody>\n",
       "    <tr>\n",
       "      <th>0</th>\n",
       "      <td>17+</td>\n",
       "      <td>215.90</td>\n",
       "    </tr>\n",
       "    <tr>\n",
       "      <th>1</th>\n",
       "      <td>0+</td>\n",
       "      <td>106.40</td>\n",
       "    </tr>\n",
       "    <tr>\n",
       "      <th>2</th>\n",
       "      <td>N/A</td>\n",
       "      <td>94.78</td>\n",
       "    </tr>\n",
       "    <tr>\n",
       "      <th>3</th>\n",
       "      <td>10+</td>\n",
       "      <td>71.89</td>\n",
       "    </tr>\n",
       "    <tr>\n",
       "      <th>4</th>\n",
       "      <td>13+</td>\n",
       "      <td>57.07</td>\n",
       "    </tr>\n",
       "  </tbody>\n",
       "</table>\n",
       "</div>"
      ],
      "text/plain": [
       "  rating_age_category  na_sales\n",
       "0                 17+    215.90\n",
       "1                  0+    106.40\n",
       "2                 N/A     94.78\n",
       "3                 10+     71.89\n",
       "4                 13+     57.07"
      ]
     },
     "execution_count": 69,
     "metadata": {},
     "output_type": "execute_result"
    }
   ],
   "source": [
    "data_actual.pivot_table(index = 'rating_age_category' , values ='na_sales', aggfunc = 'sum').sort_values(by='na_sales', ascending=False).reset_index()"
   ]
  },
  {
   "cell_type": "code",
   "execution_count": 70,
   "metadata": {},
   "outputs": [
    {
     "data": {
      "text/html": [
       "<div>\n",
       "<style scoped>\n",
       "    .dataframe tbody tr th:only-of-type {\n",
       "        vertical-align: middle;\n",
       "    }\n",
       "\n",
       "    .dataframe tbody tr th {\n",
       "        vertical-align: top;\n",
       "    }\n",
       "\n",
       "    .dataframe thead th {\n",
       "        text-align: right;\n",
       "    }\n",
       "</style>\n",
       "<table border=\"1\" class=\"dataframe\">\n",
       "  <thead>\n",
       "    <tr style=\"text-align: right;\">\n",
       "      <th></th>\n",
       "      <th>rating_age_category</th>\n",
       "      <th>eu_sales</th>\n",
       "    </tr>\n",
       "  </thead>\n",
       "  <tbody>\n",
       "    <tr>\n",
       "      <th>0</th>\n",
       "      <td>17+</td>\n",
       "      <td>177.42</td>\n",
       "    </tr>\n",
       "    <tr>\n",
       "      <th>1</th>\n",
       "      <td>0+</td>\n",
       "      <td>99.42</td>\n",
       "    </tr>\n",
       "    <tr>\n",
       "      <th>2</th>\n",
       "      <td>N/A</td>\n",
       "      <td>84.03</td>\n",
       "    </tr>\n",
       "    <tr>\n",
       "      <th>3</th>\n",
       "      <td>10+</td>\n",
       "      <td>51.56</td>\n",
       "    </tr>\n",
       "    <tr>\n",
       "      <th>4</th>\n",
       "      <td>13+</td>\n",
       "      <td>43.17</td>\n",
       "    </tr>\n",
       "  </tbody>\n",
       "</table>\n",
       "</div>"
      ],
      "text/plain": [
       "  rating_age_category  eu_sales\n",
       "0                 17+    177.42\n",
       "1                  0+     99.42\n",
       "2                 N/A     84.03\n",
       "3                 10+     51.56\n",
       "4                 13+     43.17"
      ]
     },
     "execution_count": 70,
     "metadata": {},
     "output_type": "execute_result"
    }
   ],
   "source": [
    "data_actual.pivot_table(index = 'rating_age_category' , values ='eu_sales', aggfunc = 'sum').sort_values(by='eu_sales', ascending=False).reset_index()"
   ]
  },
  {
   "cell_type": "code",
   "execution_count": 71,
   "metadata": {},
   "outputs": [
    {
     "data": {
      "text/html": [
       "<div>\n",
       "<style scoped>\n",
       "    .dataframe tbody tr th:only-of-type {\n",
       "        vertical-align: middle;\n",
       "    }\n",
       "\n",
       "    .dataframe tbody tr th {\n",
       "        vertical-align: top;\n",
       "    }\n",
       "\n",
       "    .dataframe thead th {\n",
       "        text-align: right;\n",
       "    }\n",
       "</style>\n",
       "<table border=\"1\" class=\"dataframe\">\n",
       "  <thead>\n",
       "    <tr style=\"text-align: right;\">\n",
       "      <th></th>\n",
       "      <th>rating_age_category</th>\n",
       "      <th>other_sales</th>\n",
       "    </tr>\n",
       "  </thead>\n",
       "  <tbody>\n",
       "    <tr>\n",
       "      <th>0</th>\n",
       "      <td>17+</td>\n",
       "      <td>58.44</td>\n",
       "    </tr>\n",
       "    <tr>\n",
       "      <th>1</th>\n",
       "      <td>0+</td>\n",
       "      <td>28.35</td>\n",
       "    </tr>\n",
       "    <tr>\n",
       "      <th>2</th>\n",
       "      <td>N/A</td>\n",
       "      <td>24.89</td>\n",
       "    </tr>\n",
       "    <tr>\n",
       "      <th>3</th>\n",
       "      <td>10+</td>\n",
       "      <td>15.17</td>\n",
       "    </tr>\n",
       "    <tr>\n",
       "      <th>4</th>\n",
       "      <td>13+</td>\n",
       "      <td>14.83</td>\n",
       "    </tr>\n",
       "  </tbody>\n",
       "</table>\n",
       "</div>"
      ],
      "text/plain": [
       "  rating_age_category  other_sales\n",
       "0                 17+        58.44\n",
       "1                  0+        28.35\n",
       "2                 N/A        24.89\n",
       "3                 10+        15.17\n",
       "4                 13+        14.83"
      ]
     },
     "execution_count": 71,
     "metadata": {},
     "output_type": "execute_result"
    }
   ],
   "source": [
    "data_actual.pivot_table(index = 'rating_age_category' , values ='other_sales', aggfunc = 'sum').sort_values(by='other_sales', ascending=False).reset_index()"
   ]
  },
  {
   "cell_type": "code",
   "execution_count": 72,
   "metadata": {},
   "outputs": [
    {
     "data": {
      "text/html": [
       "<div>\n",
       "<style scoped>\n",
       "    .dataframe tbody tr th:only-of-type {\n",
       "        vertical-align: middle;\n",
       "    }\n",
       "\n",
       "    .dataframe tbody tr th {\n",
       "        vertical-align: top;\n",
       "    }\n",
       "\n",
       "    .dataframe thead th {\n",
       "        text-align: right;\n",
       "    }\n",
       "</style>\n",
       "<table border=\"1\" class=\"dataframe\">\n",
       "  <thead>\n",
       "    <tr style=\"text-align: right;\">\n",
       "      <th></th>\n",
       "      <th>rating_age_category</th>\n",
       "      <th>jp_sales</th>\n",
       "    </tr>\n",
       "  </thead>\n",
       "  <tbody>\n",
       "    <tr>\n",
       "      <th>0</th>\n",
       "      <td>N/A</td>\n",
       "      <td>94.52</td>\n",
       "    </tr>\n",
       "    <tr>\n",
       "      <th>1</th>\n",
       "      <td>0+</td>\n",
       "      <td>27.26</td>\n",
       "    </tr>\n",
       "    <tr>\n",
       "      <th>2</th>\n",
       "      <td>13+</td>\n",
       "      <td>23.75</td>\n",
       "    </tr>\n",
       "    <tr>\n",
       "      <th>3</th>\n",
       "      <td>17+</td>\n",
       "      <td>20.00</td>\n",
       "    </tr>\n",
       "    <tr>\n",
       "      <th>4</th>\n",
       "      <td>10+</td>\n",
       "      <td>7.74</td>\n",
       "    </tr>\n",
       "  </tbody>\n",
       "</table>\n",
       "</div>"
      ],
      "text/plain": [
       "  rating_age_category  jp_sales\n",
       "0                 N/A     94.52\n",
       "1                  0+     27.26\n",
       "2                 13+     23.75\n",
       "3                 17+     20.00\n",
       "4                 10+      7.74"
      ]
     },
     "execution_count": 72,
     "metadata": {},
     "output_type": "execute_result"
    }
   ],
   "source": [
    "data_actual.pivot_table(index = 'rating_age_category' , values ='jp_sales', aggfunc = 'sum').sort_values(by='jp_sales', ascending=False).reset_index()"
   ]
  },
  {
   "cell_type": "markdown",
   "metadata": {},
   "source": [
    "В Японии большинство проданных игр без рейтинга вообще. Связано это может быть с тем, что ESRB - рейтинговая система изначально для Северной Америки. В Японии явно не стремятся получить этот рейтинг и он на продажи никак не влияет. В Америке и других странах игр без рейтинга довольно много, но большая часть с рейтингом."
   ]
  },
  {
   "cell_type": "markdown",
   "metadata": {},
   "source": [
    "### Вывод\n",
    "Рынок Японии сильно отличается от рынка Америки,Европы и других стран. Различия в топ-5 популярных платформ, в топ-5 популярных жанров и в количестве продаж относительно возрастного рейтинга - я Японии большая часть проданных игр без рейтинга ESRB."
   ]
  },
  {
   "cell_type": "markdown",
   "metadata": {},
   "source": [
    "## Проверка гипотез"
   ]
  },
  {
   "cell_type": "markdown",
   "metadata": {},
   "source": [
    "Проверим гипотезу: \"средние пользовательские рейтинги платформ Xbox One и PC одинаковые\"\n",
    "<br>\n",
    "Нулевую гипотезу формулируем так: средний пользовательский рейтинг платформы Xbox One равен среднему пользователькому рейтингу платформы PC. Альтернативная гипотеза: средний пользовательский рейтинг платформы Xbox One больше среднего пользователького рейтинга платформы PC. Для проверки используем t-test c критерием проверки о равенстве среднего двух генеральных совокупностей по взятым из них выборкам, т.к. имеем две независимые выборки и хотим сравнить равно ли выборочное среднее одной выборке выборочному среднему другой."
   ]
  },
  {
   "cell_type": "code",
   "execution_count": 73,
   "metadata": {},
   "outputs": [
    {
     "name": "stdout",
     "output_type": "stream",
     "text": [
      "p-value равно: 0.04821774683433214\n",
      "уровень доверия равен: 0.05\n",
      "Отвергаем нулевую гипотезу\n"
     ]
    }
   ],
   "source": [
    "#при проверке гипотезы для нахождения p-value среди двух выборок локально прибьём столбцы с NaN\n",
    "sample_1 = data_actual[data_actual['platform']=='XOne']['user_score'].dropna()\n",
    "sample_2 = data_actual[data_actual['platform']=='PC']['user_score'].dropna()\n",
    "results = st.ttest_ind(sample_1, sample_2)\n",
    "alpha = 0.05\n",
    "print('p-value равно:', results.pvalue)\n",
    "print('уровень доверия равен:', alpha)\n",
    "if results.pvalue < alpha:\n",
    "      print(\"Отвергаем нулевую гипотезу\")\n",
    "else:\n",
    "      print(\"Не получилось отвергнуть нулевую гипотезу\")"
   ]
  },
  {
   "cell_type": "markdown",
   "metadata": {},
   "source": [
    "Принимаем нулевую гипотезу как рабочую"
   ]
  },
  {
   "cell_type": "markdown",
   "metadata": {},
   "source": [
    "Проверим гипотезу: средние пользовательские рейтинги жанров Action и Sports разные\n",
    "<br>\n",
    "Нулевую гипотезу формулируем так: средний пользовательский рейтинг жанра Action равен среднему пользователькому рейтингу жанра Sports. Альтернативная гипотеза: средний пользовательский рейтинг жанра Sports меньше среднего пользователького рейтинга жанра Action. Для проверки используем аналогичный предыдущей гипотезе t-test по тем же причинам"
   ]
  },
  {
   "cell_type": "code",
   "execution_count": 74,
   "metadata": {},
   "outputs": [
    {
     "name": "stdout",
     "output_type": "stream",
     "text": [
      "p-value равно: 0.04067672901087169\n",
      "уровень доверия равен: 0.05\n",
      "Отвергаем нулевую гипотезу\n"
     ]
    }
   ],
   "source": [
    "sample_3 = data_actual[data_actual['genre']=='Action']['user_score'].dropna()\n",
    "sample_4 = data_actual[data_actual['genre']=='Sports']['user_score'].dropna()\n",
    "results_2 = st.ttest_ind(sample_3, sample_4)\n",
    "alpha = 0.05\n",
    "print('p-value равно:', results_2.pvalue)\n",
    "print('уровень доверия равен:', alpha)\n",
    "if results_2.pvalue < alpha:\n",
    "      print(\"Отвергаем нулевую гипотезу\")\n",
    "else:\n",
    "      print(\"Не получилось отвергнуть нулевую гипотезу\")"
   ]
  },
  {
   "cell_type": "markdown",
   "metadata": {},
   "source": [
    "Проверим альтернативную гипотезу. Для этого использем t-test для проверки односторонней гипотезы, т.к. нам нужно определить меньше ли выборочное среднее одной выборки выборочного среднего другой."
   ]
  },
  {
   "cell_type": "code",
   "execution_count": 75,
   "metadata": {},
   "outputs": [
    {
     "name": "stdout",
     "output_type": "stream",
     "text": [
      "p-value равно: 0.0030744685098628606\n",
      "уровень доверия равен: 0.05\n",
      "Отвергаем альтернативную гипотезу\n"
     ]
    }
   ],
   "source": [
    "result_3 = st.ttest_1samp(\n",
    "    sample_4, \n",
    "    sample_3.mean())\n",
    "print('p-value равно:', result_3.pvalue / 2)\n",
    "print('уровень доверия равен:', alpha)\n",
    "if (result_3.pvalue / 2 < alpha) and (sample_3.mean() < sample_4.mean()):\n",
    "    print(\"Отвергаем альтернативную гипотезу\")\n",
    "else:\n",
    "    print(\"Не получилось отвергнуть альтернативную гипотезу\")"
   ]
  },
  {
   "cell_type": "markdown",
   "metadata": {},
   "source": [
    "Принимаем альтернативную гипотезу как рабочую"
   ]
  },
  {
   "cell_type": "markdown",
   "metadata": {},
   "source": [
    "### Вывод\n",
    "После проверки гипотез получили следующие результаты: средние пользовательские рейтинги платформ Xbox One и PC одинаковые, средний пользовательский рейтинг жанра Action больше среднего пользовательского рейтинга жанра Sports"
   ]
  },
  {
   "cell_type": "markdown",
   "metadata": {},
   "source": [
    "## Общий вывод"
   ]
  },
  {
   "cell_type": "markdown",
   "metadata": {},
   "source": [
    "В данном проекте мы попытались выявить определяющие факторы успешной игры с точки зрения её продажи.\n",
    "<br>\n",
    "Изучили данные из представленного датасета, предобработали их для последующего анализа: привели данные к нужным типам, категоризировали возрастные рейтинги в более читаемые.\n",
    "<br>\n",
    "В ходе анализа выяснили, что после 2009 года пошёл спад выпускаемых игр, самая популяраня платформа по продажам игр - PS2, новое поколение платформ сменяет старое, в среднем, раз в 6 лет. Самые перспективные с точки зрения роста продаж платформы на данный момент - PS4 и XOne. Оценки критиков существенно влияют на продажи игр,  а оценки пользователей - нет. Самый продаваемый в мире жанр - Action, самый непопулярный - Puzzle.\n",
    "<br>\n",
    "Рынок Японии сильно отличается от рынка Америки,Европы и других стран - к нему нужен особой подход.\n",
    "<br>\n",
    "Проверили поставленные гипотезы и установили: средние пользовательские рейтинги платформ Xbox One и PC одинаковые, средний пользовательский рейтинг жанра Action больше среднего пользовательского рейтинга жанра Sports"
   ]
  }
 ],
 "metadata": {
  "ExecuteTimeLog": [
   {
    "duration": 38,
    "start_time": "2022-06-09T20:51:33.213Z"
   },
   {
    "duration": 28,
    "start_time": "2022-06-09T20:51:39.748Z"
   },
   {
    "duration": 1101,
    "start_time": "2022-06-09T20:51:44.423Z"
   },
   {
    "duration": 192,
    "start_time": "2022-06-09T20:52:09.001Z"
   },
   {
    "duration": 44,
    "start_time": "2022-06-10T07:53:25.708Z"
   },
   {
    "duration": 1062,
    "start_time": "2022-06-10T07:53:34.171Z"
   },
   {
    "duration": 177,
    "start_time": "2022-06-10T07:53:35.235Z"
   },
   {
    "duration": 91,
    "start_time": "2022-06-10T07:53:46.303Z"
   },
   {
    "duration": 49,
    "start_time": "2022-06-10T07:53:54.268Z"
   },
   {
    "duration": 54,
    "start_time": "2022-06-10T07:54:52.548Z"
   },
   {
    "duration": 17,
    "start_time": "2022-06-10T07:54:59.037Z"
   },
   {
    "duration": 26,
    "start_time": "2022-06-10T07:56:53.284Z"
   },
   {
    "duration": 14,
    "start_time": "2022-06-10T08:03:00.336Z"
   },
   {
    "duration": 3,
    "start_time": "2022-06-10T08:06:10.999Z"
   },
   {
    "duration": 9,
    "start_time": "2022-06-10T08:06:18.131Z"
   },
   {
    "duration": 9,
    "start_time": "2022-06-10T08:06:50.337Z"
   },
   {
    "duration": 8,
    "start_time": "2022-06-10T08:06:52.601Z"
   },
   {
    "duration": 1019,
    "start_time": "2022-06-10T08:07:00.410Z"
   },
   {
    "duration": 58,
    "start_time": "2022-06-10T08:07:01.431Z"
   },
   {
    "duration": 15,
    "start_time": "2022-06-10T08:07:01.490Z"
   },
   {
    "duration": 25,
    "start_time": "2022-06-10T08:07:01.507Z"
   },
   {
    "duration": 14,
    "start_time": "2022-06-10T08:07:01.533Z"
   },
   {
    "duration": 15,
    "start_time": "2022-06-10T08:07:01.548Z"
   },
   {
    "duration": 95,
    "start_time": "2022-06-10T08:13:04.696Z"
   },
   {
    "duration": 7,
    "start_time": "2022-06-10T08:13:47.157Z"
   },
   {
    "duration": 7,
    "start_time": "2022-06-10T08:14:01.911Z"
   },
   {
    "duration": 19,
    "start_time": "2022-06-10T08:14:21.173Z"
   },
   {
    "duration": 5,
    "start_time": "2022-06-10T08:15:30.004Z"
   },
   {
    "duration": 15,
    "start_time": "2022-06-10T08:15:39.933Z"
   },
   {
    "duration": 6,
    "start_time": "2022-06-10T08:16:00.024Z"
   },
   {
    "duration": 10,
    "start_time": "2022-06-10T08:16:10.242Z"
   },
   {
    "duration": 5,
    "start_time": "2022-06-10T08:16:20.301Z"
   },
   {
    "duration": 13,
    "start_time": "2022-06-10T09:05:24.817Z"
   },
   {
    "duration": 9,
    "start_time": "2022-06-10T09:06:00.998Z"
   },
   {
    "duration": 5,
    "start_time": "2022-06-10T09:17:42.567Z"
   },
   {
    "duration": 13,
    "start_time": "2022-06-10T09:18:11.424Z"
   },
   {
    "duration": 12,
    "start_time": "2022-06-10T09:21:19.355Z"
   },
   {
    "duration": 4,
    "start_time": "2022-06-10T09:21:32.597Z"
   },
   {
    "duration": 10,
    "start_time": "2022-06-10T09:22:10.918Z"
   },
   {
    "duration": 15,
    "start_time": "2022-06-10T09:22:18.501Z"
   },
   {
    "duration": 5,
    "start_time": "2022-06-10T09:22:24.306Z"
   },
   {
    "duration": 4,
    "start_time": "2022-06-10T09:23:49.100Z"
   },
   {
    "duration": 4,
    "start_time": "2022-06-10T09:24:12.149Z"
   },
   {
    "duration": 38,
    "start_time": "2022-06-10T09:25:26.755Z"
   },
   {
    "duration": 1234,
    "start_time": "2022-06-10T10:25:22.474Z"
   },
   {
    "duration": 68,
    "start_time": "2022-06-10T10:25:23.710Z"
   },
   {
    "duration": 32,
    "start_time": "2022-06-10T10:25:23.781Z"
   },
   {
    "duration": 40,
    "start_time": "2022-06-10T10:25:23.817Z"
   },
   {
    "duration": 25,
    "start_time": "2022-06-10T10:25:23.859Z"
   },
   {
    "duration": 52,
    "start_time": "2022-06-10T10:25:23.887Z"
   },
   {
    "duration": 28,
    "start_time": "2022-06-10T10:25:23.943Z"
   },
   {
    "duration": 13,
    "start_time": "2022-06-10T10:25:23.974Z"
   },
   {
    "duration": 17,
    "start_time": "2022-06-10T10:25:23.989Z"
   },
   {
    "duration": 41,
    "start_time": "2022-06-10T10:25:24.009Z"
   },
   {
    "duration": 9,
    "start_time": "2022-06-10T10:25:24.053Z"
   },
   {
    "duration": 31,
    "start_time": "2022-06-10T10:25:24.065Z"
   },
   {
    "duration": 12,
    "start_time": "2022-06-10T10:25:24.098Z"
   },
   {
    "duration": 7,
    "start_time": "2022-06-10T10:25:24.127Z"
   },
   {
    "duration": 3,
    "start_time": "2022-06-10T10:35:01.304Z"
   },
   {
    "duration": 290,
    "start_time": "2022-06-10T10:35:50.227Z"
   },
   {
    "duration": 278,
    "start_time": "2022-06-10T10:36:01.795Z"
   },
   {
    "duration": 273,
    "start_time": "2022-06-10T10:36:12.567Z"
   },
   {
    "duration": 257,
    "start_time": "2022-06-10T10:36:17.627Z"
   },
   {
    "duration": 262,
    "start_time": "2022-06-10T10:36:36.809Z"
   },
   {
    "duration": 250,
    "start_time": "2022-06-10T10:36:48.089Z"
   },
   {
    "duration": 20,
    "start_time": "2022-06-10T10:36:53.537Z"
   },
   {
    "duration": 17,
    "start_time": "2022-06-10T11:28:42.956Z"
   },
   {
    "duration": 4,
    "start_time": "2022-06-10T11:34:48.262Z"
   },
   {
    "duration": 5,
    "start_time": "2022-06-10T11:34:49.858Z"
   },
   {
    "duration": 5,
    "start_time": "2022-06-10T11:34:57.264Z"
   },
   {
    "duration": 6,
    "start_time": "2022-06-10T11:34:59.896Z"
   },
   {
    "duration": 1014,
    "start_time": "2022-06-10T12:13:09.231Z"
   },
   {
    "duration": 57,
    "start_time": "2022-06-10T12:13:10.247Z"
   },
   {
    "duration": 16,
    "start_time": "2022-06-10T12:13:10.306Z"
   },
   {
    "duration": 25,
    "start_time": "2022-06-10T12:13:10.323Z"
   },
   {
    "duration": 13,
    "start_time": "2022-06-10T12:13:10.350Z"
   },
   {
    "duration": 12,
    "start_time": "2022-06-10T12:13:10.364Z"
   },
   {
    "duration": 15,
    "start_time": "2022-06-10T12:13:10.378Z"
   },
   {
    "duration": 4,
    "start_time": "2022-06-10T12:13:10.394Z"
   },
   {
    "duration": 29,
    "start_time": "2022-06-10T12:13:10.399Z"
   },
   {
    "duration": 17,
    "start_time": "2022-06-10T12:13:10.429Z"
   },
   {
    "duration": 4,
    "start_time": "2022-06-10T12:13:10.447Z"
   },
   {
    "duration": 15,
    "start_time": "2022-06-10T12:13:10.452Z"
   },
   {
    "duration": 5,
    "start_time": "2022-06-10T12:13:10.468Z"
   },
   {
    "duration": 5,
    "start_time": "2022-06-10T12:13:10.475Z"
   },
   {
    "duration": 6,
    "start_time": "2022-06-10T12:13:10.482Z"
   },
   {
    "duration": 321,
    "start_time": "2022-06-10T12:13:10.489Z"
   },
   {
    "duration": 17,
    "start_time": "2022-06-10T12:13:10.812Z"
   },
   {
    "duration": 16,
    "start_time": "2022-06-10T12:13:10.830Z"
   },
   {
    "duration": 8,
    "start_time": "2022-06-10T12:13:10.848Z"
   },
   {
    "duration": 19,
    "start_time": "2022-06-10T12:15:08.444Z"
   },
   {
    "duration": 29,
    "start_time": "2022-06-10T12:15:33.893Z"
   },
   {
    "duration": 629,
    "start_time": "2022-06-10T12:15:39.526Z"
   },
   {
    "duration": 124,
    "start_time": "2022-06-10T12:16:14.320Z"
   },
   {
    "duration": 1010,
    "start_time": "2022-06-10T12:16:22.724Z"
   },
   {
    "duration": 58,
    "start_time": "2022-06-10T12:16:23.736Z"
   },
   {
    "duration": 16,
    "start_time": "2022-06-10T12:16:23.795Z"
   },
   {
    "duration": 33,
    "start_time": "2022-06-10T12:16:23.812Z"
   },
   {
    "duration": 13,
    "start_time": "2022-06-10T12:16:23.847Z"
   },
   {
    "duration": 18,
    "start_time": "2022-06-10T12:16:23.861Z"
   },
   {
    "duration": 27,
    "start_time": "2022-06-10T12:16:23.880Z"
   },
   {
    "duration": 4,
    "start_time": "2022-06-10T12:16:23.908Z"
   },
   {
    "duration": 13,
    "start_time": "2022-06-10T12:16:23.913Z"
   },
   {
    "duration": 17,
    "start_time": "2022-06-10T12:16:23.927Z"
   },
   {
    "duration": 7,
    "start_time": "2022-06-10T12:16:23.946Z"
   },
   {
    "duration": 24,
    "start_time": "2022-06-10T12:16:23.955Z"
   },
   {
    "duration": 4,
    "start_time": "2022-06-10T12:16:23.981Z"
   },
   {
    "duration": 5,
    "start_time": "2022-06-10T12:16:23.988Z"
   },
   {
    "duration": 5,
    "start_time": "2022-06-10T12:16:23.994Z"
   },
   {
    "duration": 296,
    "start_time": "2022-06-10T12:16:24.001Z"
   },
   {
    "duration": 11,
    "start_time": "2022-06-10T12:16:24.299Z"
   },
   {
    "duration": 25,
    "start_time": "2022-06-10T12:16:24.312Z"
   },
   {
    "duration": 221,
    "start_time": "2022-06-10T12:16:24.338Z"
   },
   {
    "duration": 711,
    "start_time": "2022-06-10T12:16:52.916Z"
   },
   {
    "duration": 27,
    "start_time": "2022-06-10T12:16:57.849Z"
   },
   {
    "duration": 17,
    "start_time": "2022-06-10T12:17:01.676Z"
   },
   {
    "duration": 14,
    "start_time": "2022-06-10T12:17:09.603Z"
   },
   {
    "duration": 14,
    "start_time": "2022-06-10T12:17:31.140Z"
   },
   {
    "duration": 124,
    "start_time": "2022-06-10T12:17:53.542Z"
   },
   {
    "duration": 128,
    "start_time": "2022-06-10T12:18:26.123Z"
   },
   {
    "duration": 140,
    "start_time": "2022-06-10T12:18:44.324Z"
   },
   {
    "duration": 139,
    "start_time": "2022-06-10T12:18:49.145Z"
   },
   {
    "duration": 124,
    "start_time": "2022-06-10T12:18:55.989Z"
   },
   {
    "duration": 131,
    "start_time": "2022-06-10T12:19:56.213Z"
   },
   {
    "duration": 12,
    "start_time": "2022-06-10T12:20:19.246Z"
   },
   {
    "duration": 163,
    "start_time": "2022-06-10T12:20:28.311Z"
   },
   {
    "duration": 335,
    "start_time": "2022-06-10T12:21:35.347Z"
   },
   {
    "duration": 296,
    "start_time": "2022-06-10T12:21:48.676Z"
   },
   {
    "duration": 290,
    "start_time": "2022-06-10T12:21:59.618Z"
   },
   {
    "duration": 291,
    "start_time": "2022-06-10T12:22:03.982Z"
   },
   {
    "duration": 341,
    "start_time": "2022-06-10T12:22:08.921Z"
   },
   {
    "duration": 27,
    "start_time": "2022-06-10T12:22:30.734Z"
   },
   {
    "duration": 307,
    "start_time": "2022-06-10T12:22:43.603Z"
   },
   {
    "duration": 352,
    "start_time": "2022-06-10T12:22:52.046Z"
   },
   {
    "duration": 290,
    "start_time": "2022-06-10T12:22:59.399Z"
   },
   {
    "duration": 300,
    "start_time": "2022-06-10T12:23:07.694Z"
   },
   {
    "duration": 278,
    "start_time": "2022-06-10T12:23:27.343Z"
   },
   {
    "duration": 327,
    "start_time": "2022-06-10T12:23:42.125Z"
   },
   {
    "duration": 383,
    "start_time": "2022-06-10T12:23:51.278Z"
   },
   {
    "duration": 290,
    "start_time": "2022-06-10T12:24:03.391Z"
   },
   {
    "duration": 42,
    "start_time": "2022-06-10T12:25:04.644Z"
   },
   {
    "duration": 17,
    "start_time": "2022-06-10T12:25:56.809Z"
   },
   {
    "duration": 12,
    "start_time": "2022-06-10T12:26:07.860Z"
   },
   {
    "duration": 289,
    "start_time": "2022-06-10T12:26:30.981Z"
   },
   {
    "duration": 24,
    "start_time": "2022-06-10T12:32:39.524Z"
   },
   {
    "duration": 555,
    "start_time": "2022-06-10T12:32:56.872Z"
   },
   {
    "duration": 16,
    "start_time": "2022-06-10T12:33:36.860Z"
   },
   {
    "duration": 366,
    "start_time": "2022-06-10T12:33:59.275Z"
   },
   {
    "duration": 22,
    "start_time": "2022-06-10T12:40:12.852Z"
   },
   {
    "duration": 13,
    "start_time": "2022-06-10T12:40:19.208Z"
   },
   {
    "duration": 17,
    "start_time": "2022-06-10T12:40:31.335Z"
   },
   {
    "duration": 20,
    "start_time": "2022-06-10T12:41:07.216Z"
   },
   {
    "duration": 26,
    "start_time": "2022-06-10T12:42:59.010Z"
   },
   {
    "duration": 24,
    "start_time": "2022-06-10T12:43:21.898Z"
   },
   {
    "duration": 36,
    "start_time": "2022-06-10T12:49:46.800Z"
   },
   {
    "duration": 4,
    "start_time": "2022-06-10T12:51:45.072Z"
   },
   {
    "duration": 3,
    "start_time": "2022-06-10T12:51:55.024Z"
   },
   {
    "duration": 334,
    "start_time": "2022-06-10T12:52:20.343Z"
   },
   {
    "duration": 1097,
    "start_time": "2022-06-10T12:52:32.300Z"
   },
   {
    "duration": 62,
    "start_time": "2022-06-10T12:52:33.399Z"
   },
   {
    "duration": 19,
    "start_time": "2022-06-10T12:52:33.463Z"
   },
   {
    "duration": 57,
    "start_time": "2022-06-10T12:52:33.484Z"
   },
   {
    "duration": 22,
    "start_time": "2022-06-10T12:52:33.543Z"
   },
   {
    "duration": 14,
    "start_time": "2022-06-10T12:52:33.566Z"
   },
   {
    "duration": 19,
    "start_time": "2022-06-10T12:52:33.581Z"
   },
   {
    "duration": 26,
    "start_time": "2022-06-10T12:52:33.602Z"
   },
   {
    "duration": 8,
    "start_time": "2022-06-10T12:52:33.629Z"
   },
   {
    "duration": 18,
    "start_time": "2022-06-10T12:52:33.639Z"
   },
   {
    "duration": 5,
    "start_time": "2022-06-10T12:52:33.659Z"
   },
   {
    "duration": 16,
    "start_time": "2022-06-10T12:52:33.666Z"
   },
   {
    "duration": 6,
    "start_time": "2022-06-10T12:52:33.684Z"
   },
   {
    "duration": 8,
    "start_time": "2022-06-10T12:52:33.726Z"
   },
   {
    "duration": 6,
    "start_time": "2022-06-10T12:52:33.736Z"
   },
   {
    "duration": 295,
    "start_time": "2022-06-10T12:52:33.743Z"
   },
   {
    "duration": 19,
    "start_time": "2022-06-10T12:52:34.040Z"
   },
   {
    "duration": 26,
    "start_time": "2022-06-10T12:52:34.061Z"
   },
   {
    "duration": 21,
    "start_time": "2022-06-10T12:52:34.089Z"
   },
   {
    "duration": 378,
    "start_time": "2022-06-10T12:52:34.111Z"
   },
   {
    "duration": 21,
    "start_time": "2022-06-10T12:52:34.491Z"
   },
   {
    "duration": 39,
    "start_time": "2022-06-10T12:52:34.514Z"
   },
   {
    "duration": 317,
    "start_time": "2022-06-10T12:52:44.605Z"
   },
   {
    "duration": 315,
    "start_time": "2022-06-10T12:52:56.175Z"
   },
   {
    "duration": 364,
    "start_time": "2022-06-10T12:53:11.139Z"
   },
   {
    "duration": 301,
    "start_time": "2022-06-10T12:53:14.034Z"
   },
   {
    "duration": 347,
    "start_time": "2022-06-10T12:53:18.263Z"
   },
   {
    "duration": 316,
    "start_time": "2022-06-10T12:54:50.326Z"
   },
   {
    "duration": 107,
    "start_time": "2022-06-10T12:55:36.707Z"
   },
   {
    "duration": 17,
    "start_time": "2022-06-10T12:55:54.404Z"
   },
   {
    "duration": 15,
    "start_time": "2022-06-10T12:56:03.441Z"
   },
   {
    "duration": 16,
    "start_time": "2022-06-10T12:56:26.199Z"
   },
   {
    "duration": 16,
    "start_time": "2022-06-10T12:56:50.981Z"
   },
   {
    "duration": 16,
    "start_time": "2022-06-10T12:57:00.101Z"
   },
   {
    "duration": 12,
    "start_time": "2022-06-10T12:57:09.910Z"
   },
   {
    "duration": 11,
    "start_time": "2022-06-10T12:57:30.969Z"
   },
   {
    "duration": 4,
    "start_time": "2022-06-10T12:57:44.779Z"
   },
   {
    "duration": 26,
    "start_time": "2022-06-10T12:58:19.148Z"
   },
   {
    "duration": 33,
    "start_time": "2022-06-10T12:58:40.395Z"
   },
   {
    "duration": 185,
    "start_time": "2022-06-10T12:59:07.768Z"
   },
   {
    "duration": 169,
    "start_time": "2022-06-10T12:59:51.845Z"
   },
   {
    "duration": 197,
    "start_time": "2022-06-10T13:02:32.556Z"
   },
   {
    "duration": 163,
    "start_time": "2022-06-10T13:02:58.181Z"
   },
   {
    "duration": 167,
    "start_time": "2022-06-10T13:03:48.096Z"
   },
   {
    "duration": 176,
    "start_time": "2022-06-10T13:04:27.652Z"
   },
   {
    "duration": 163,
    "start_time": "2022-06-10T13:04:49.509Z"
   },
   {
    "duration": 28,
    "start_time": "2022-06-10T13:06:05.720Z"
   },
   {
    "duration": 15,
    "start_time": "2022-06-10T13:06:28.438Z"
   },
   {
    "duration": 473,
    "start_time": "2022-06-10T13:15:49.339Z"
   },
   {
    "duration": 354,
    "start_time": "2022-06-10T13:18:13.481Z"
   },
   {
    "duration": 18,
    "start_time": "2022-06-10T13:18:50.442Z"
   },
   {
    "duration": 23,
    "start_time": "2022-06-10T13:18:52.271Z"
   },
   {
    "duration": 219,
    "start_time": "2022-06-10T13:18:53.285Z"
   },
   {
    "duration": 248,
    "start_time": "2022-06-10T13:18:53.507Z"
   },
   {
    "duration": 236,
    "start_time": "2022-06-10T13:18:53.758Z"
   },
   {
    "duration": 246,
    "start_time": "2022-06-10T13:18:53.997Z"
   },
   {
    "duration": 225,
    "start_time": "2022-06-10T13:18:54.245Z"
   },
   {
    "duration": 20,
    "start_time": "2022-06-10T13:18:54.603Z"
   },
   {
    "duration": 209,
    "start_time": "2022-06-10T13:18:54.911Z"
   },
   {
    "duration": 164,
    "start_time": "2022-06-10T13:28:06.168Z"
   },
   {
    "duration": 207,
    "start_time": "2022-06-10T13:29:43.542Z"
   },
   {
    "duration": 20,
    "start_time": "2022-06-10T13:42:39.162Z"
   },
   {
    "duration": 14,
    "start_time": "2022-06-10T13:43:14.330Z"
   },
   {
    "duration": 19,
    "start_time": "2022-06-10T13:45:53.926Z"
   },
   {
    "duration": 17,
    "start_time": "2022-06-10T14:03:57.946Z"
   },
   {
    "duration": 19,
    "start_time": "2022-06-10T14:13:14.304Z"
   },
   {
    "duration": 11,
    "start_time": "2022-06-10T14:13:23.361Z"
   },
   {
    "duration": 177,
    "start_time": "2022-06-10T14:13:56.309Z"
   },
   {
    "duration": 171,
    "start_time": "2022-06-10T14:14:05.508Z"
   },
   {
    "duration": 183,
    "start_time": "2022-06-10T14:14:11.390Z"
   },
   {
    "duration": 193,
    "start_time": "2022-06-10T14:14:16.408Z"
   },
   {
    "duration": 175,
    "start_time": "2022-06-10T14:14:21.144Z"
   },
   {
    "duration": 172,
    "start_time": "2022-06-10T14:14:27.623Z"
   },
   {
    "duration": 159,
    "start_time": "2022-06-10T14:14:33.251Z"
   },
   {
    "duration": 13,
    "start_time": "2022-06-10T14:15:18.935Z"
   },
   {
    "duration": 167,
    "start_time": "2022-06-10T14:15:19.974Z"
   },
   {
    "duration": 165,
    "start_time": "2022-06-10T14:15:39.036Z"
   },
   {
    "duration": 162,
    "start_time": "2022-06-10T14:17:49.571Z"
   },
   {
    "duration": 361,
    "start_time": "2022-06-10T14:18:09.877Z"
   },
   {
    "duration": 171,
    "start_time": "2022-06-10T14:18:42.892Z"
   },
   {
    "duration": 140,
    "start_time": "2022-06-10T14:18:51.833Z"
   },
   {
    "duration": 16,
    "start_time": "2022-06-10T14:21:51.739Z"
   },
   {
    "duration": 18,
    "start_time": "2022-06-10T14:21:54.922Z"
   },
   {
    "duration": 15,
    "start_time": "2022-06-10T14:22:12.140Z"
   },
   {
    "duration": 133,
    "start_time": "2022-06-10T14:22:18.641Z"
   },
   {
    "duration": 127,
    "start_time": "2022-06-10T14:22:29.492Z"
   },
   {
    "duration": 147,
    "start_time": "2022-06-10T14:22:35.767Z"
   },
   {
    "duration": 142,
    "start_time": "2022-06-10T14:22:39.129Z"
   },
   {
    "duration": 146,
    "start_time": "2022-06-10T14:22:42.474Z"
   },
   {
    "duration": 5,
    "start_time": "2022-06-10T14:28:46.109Z"
   },
   {
    "duration": 335,
    "start_time": "2022-06-10T14:31:19.177Z"
   },
   {
    "duration": 18,
    "start_time": "2022-06-10T14:32:37.053Z"
   },
   {
    "duration": 25,
    "start_time": "2022-06-10T14:34:52.723Z"
   },
   {
    "duration": 253,
    "start_time": "2022-06-10T14:34:59.547Z"
   },
   {
    "duration": 15,
    "start_time": "2022-06-10T14:35:22.536Z"
   },
   {
    "duration": 106,
    "start_time": "2022-06-10T14:36:07.164Z"
   },
   {
    "duration": 134,
    "start_time": "2022-06-10T14:36:29.024Z"
   },
   {
    "duration": 81,
    "start_time": "2022-06-10T14:36:41.626Z"
   },
   {
    "duration": 101,
    "start_time": "2022-06-10T14:37:03.226Z"
   },
   {
    "duration": 110,
    "start_time": "2022-06-10T14:37:09.823Z"
   },
   {
    "duration": 94,
    "start_time": "2022-06-10T14:37:28.381Z"
   },
   {
    "duration": 92,
    "start_time": "2022-06-10T14:37:37.470Z"
   },
   {
    "duration": 135,
    "start_time": "2022-06-10T14:38:27.162Z"
   },
   {
    "duration": 150,
    "start_time": "2022-06-10T14:38:41.927Z"
   },
   {
    "duration": 122,
    "start_time": "2022-06-10T14:39:03.327Z"
   },
   {
    "duration": 155,
    "start_time": "2022-06-10T14:39:13.451Z"
   },
   {
    "duration": 131,
    "start_time": "2022-06-10T14:39:23.394Z"
   },
   {
    "duration": 203,
    "start_time": "2022-06-10T14:39:40.572Z"
   },
   {
    "duration": 137,
    "start_time": "2022-06-10T14:39:49.428Z"
   },
   {
    "duration": 137,
    "start_time": "2022-06-10T14:41:15.456Z"
   },
   {
    "duration": 144,
    "start_time": "2022-06-10T14:41:24.720Z"
   },
   {
    "duration": 123,
    "start_time": "2022-06-10T14:42:42.181Z"
   },
   {
    "duration": 149,
    "start_time": "2022-06-10T14:42:56.737Z"
   },
   {
    "duration": 17,
    "start_time": "2022-06-10T14:53:08.112Z"
   },
   {
    "duration": 131,
    "start_time": "2022-06-10T14:53:18.359Z"
   },
   {
    "duration": 102,
    "start_time": "2022-06-10T14:53:44.253Z"
   },
   {
    "duration": 183,
    "start_time": "2022-06-10T14:55:20.687Z"
   },
   {
    "duration": 122,
    "start_time": "2022-06-10T14:55:31.610Z"
   },
   {
    "duration": 202,
    "start_time": "2022-06-10T14:55:57.018Z"
   },
   {
    "duration": 129,
    "start_time": "2022-06-10T14:56:18.871Z"
   },
   {
    "duration": 218,
    "start_time": "2022-06-10T14:57:38.871Z"
   },
   {
    "duration": 170,
    "start_time": "2022-06-10T15:00:48.013Z"
   },
   {
    "duration": 6,
    "start_time": "2022-06-10T15:01:36.582Z"
   },
   {
    "duration": 23,
    "start_time": "2022-06-10T15:01:52.200Z"
   },
   {
    "duration": 5,
    "start_time": "2022-06-10T15:02:12.393Z"
   },
   {
    "duration": 23,
    "start_time": "2022-06-10T15:02:14.740Z"
   },
   {
    "duration": 4,
    "start_time": "2022-06-10T15:02:38.796Z"
   },
   {
    "duration": 27,
    "start_time": "2022-06-10T15:02:40.751Z"
   },
   {
    "duration": 4,
    "start_time": "2022-06-10T15:02:46.935Z"
   },
   {
    "duration": 22,
    "start_time": "2022-06-10T15:02:47.405Z"
   },
   {
    "duration": 5,
    "start_time": "2022-06-10T15:03:30.808Z"
   },
   {
    "duration": 22,
    "start_time": "2022-06-10T15:03:31.658Z"
   },
   {
    "duration": 3,
    "start_time": "2022-06-10T15:03:39.838Z"
   },
   {
    "duration": 24,
    "start_time": "2022-06-10T15:03:40.695Z"
   },
   {
    "duration": 943,
    "start_time": "2022-06-10T15:03:44.594Z"
   },
   {
    "duration": 60,
    "start_time": "2022-06-10T15:03:45.540Z"
   },
   {
    "duration": 15,
    "start_time": "2022-06-10T15:03:45.603Z"
   },
   {
    "duration": 26,
    "start_time": "2022-06-10T15:03:45.620Z"
   },
   {
    "duration": 13,
    "start_time": "2022-06-10T15:03:45.647Z"
   },
   {
    "duration": 23,
    "start_time": "2022-06-10T15:03:45.661Z"
   },
   {
    "duration": 15,
    "start_time": "2022-06-10T15:03:45.686Z"
   },
   {
    "duration": 6,
    "start_time": "2022-06-10T15:03:45.703Z"
   },
   {
    "duration": 17,
    "start_time": "2022-06-10T15:03:45.711Z"
   },
   {
    "duration": 18,
    "start_time": "2022-06-10T15:03:45.729Z"
   },
   {
    "duration": 16,
    "start_time": "2022-06-10T15:03:45.749Z"
   },
   {
    "duration": 19,
    "start_time": "2022-06-10T15:03:45.766Z"
   },
   {
    "duration": 9,
    "start_time": "2022-06-10T15:03:45.789Z"
   },
   {
    "duration": 10,
    "start_time": "2022-06-10T15:03:45.800Z"
   },
   {
    "duration": 7,
    "start_time": "2022-06-10T15:03:45.811Z"
   },
   {
    "duration": 261,
    "start_time": "2022-06-10T15:03:45.820Z"
   },
   {
    "duration": 13,
    "start_time": "2022-06-10T15:03:46.083Z"
   },
   {
    "duration": 29,
    "start_time": "2022-06-10T15:03:46.098Z"
   },
   {
    "duration": 3,
    "start_time": "2022-06-10T15:03:46.129Z"
   },
   {
    "duration": 302,
    "start_time": "2022-06-10T15:03:46.133Z"
   },
   {
    "duration": 359,
    "start_time": "2022-06-10T15:03:46.436Z"
   },
   {
    "duration": 29,
    "start_time": "2022-06-10T15:03:46.797Z"
   },
   {
    "duration": 16,
    "start_time": "2022-06-10T15:03:46.828Z"
   },
   {
    "duration": 199,
    "start_time": "2022-06-10T15:03:46.845Z"
   },
   {
    "duration": 186,
    "start_time": "2022-06-10T15:03:47.045Z"
   },
   {
    "duration": 166,
    "start_time": "2022-06-10T15:03:47.232Z"
   },
   {
    "duration": 172,
    "start_time": "2022-06-10T15:03:47.399Z"
   },
   {
    "duration": 169,
    "start_time": "2022-06-10T15:03:47.573Z"
   },
   {
    "duration": 15,
    "start_time": "2022-06-10T15:03:47.744Z"
   },
   {
    "duration": 182,
    "start_time": "2022-06-10T15:03:47.760Z"
   },
   {
    "duration": 212,
    "start_time": "2022-06-10T15:03:47.944Z"
   },
   {
    "duration": 13,
    "start_time": "2022-06-10T15:03:48.157Z"
   },
   {
    "duration": 12,
    "start_time": "2022-06-10T15:03:48.171Z"
   },
   {
    "duration": 8,
    "start_time": "2022-06-10T15:03:48.185Z"
   },
   {
    "duration": 146,
    "start_time": "2022-06-10T15:03:48.194Z"
   },
   {
    "duration": 130,
    "start_time": "2022-06-10T15:03:48.341Z"
   },
   {
    "duration": 134,
    "start_time": "2022-06-10T15:03:48.472Z"
   },
   {
    "duration": 125,
    "start_time": "2022-06-10T15:03:48.608Z"
   },
   {
    "duration": 145,
    "start_time": "2022-06-10T15:03:48.735Z"
   },
   {
    "duration": 148,
    "start_time": "2022-06-10T15:03:48.883Z"
   },
   {
    "duration": 126,
    "start_time": "2022-06-10T15:03:49.033Z"
   },
   {
    "duration": 144,
    "start_time": "2022-06-10T15:03:49.160Z"
   },
   {
    "duration": 4,
    "start_time": "2022-06-10T15:03:49.305Z"
   },
   {
    "duration": 29,
    "start_time": "2022-06-10T15:03:49.310Z"
   },
   {
    "duration": 103,
    "start_time": "2022-06-10T15:03:59.704Z"
   },
   {
    "duration": 28,
    "start_time": "2022-06-10T15:04:02.589Z"
   },
   {
    "duration": 4,
    "start_time": "2022-06-10T15:04:35.010Z"
   },
   {
    "duration": 4,
    "start_time": "2022-06-10T15:04:39.137Z"
   },
   {
    "duration": 21,
    "start_time": "2022-06-10T15:04:40.316Z"
   },
   {
    "duration": 35,
    "start_time": "2022-06-10T15:04:57.089Z"
   },
   {
    "duration": 26,
    "start_time": "2022-06-10T15:05:16.033Z"
   },
   {
    "duration": 3,
    "start_time": "2022-06-10T15:05:23.194Z"
   },
   {
    "duration": 41,
    "start_time": "2022-06-10T15:05:26.660Z"
   },
   {
    "duration": 4,
    "start_time": "2022-06-10T15:05:47.975Z"
   },
   {
    "duration": 34,
    "start_time": "2022-06-10T15:05:55.450Z"
   },
   {
    "duration": 155,
    "start_time": "2022-06-10T15:08:39.846Z"
   },
   {
    "duration": 205,
    "start_time": "2022-06-10T15:09:09.924Z"
   },
   {
    "duration": 226,
    "start_time": "2022-06-10T15:09:24.642Z"
   },
   {
    "duration": 149,
    "start_time": "2022-06-10T15:09:38.081Z"
   },
   {
    "duration": 156,
    "start_time": "2022-06-10T15:12:47.971Z"
   },
   {
    "duration": 138,
    "start_time": "2022-06-10T15:12:57.703Z"
   },
   {
    "duration": 33,
    "start_time": "2022-06-10T15:15:59.063Z"
   },
   {
    "duration": 33,
    "start_time": "2022-06-10T15:17:45.355Z"
   },
   {
    "duration": 49,
    "start_time": "2022-06-10T15:18:32.857Z"
   },
   {
    "duration": 36,
    "start_time": "2022-06-10T15:18:34.762Z"
   },
   {
    "duration": 29,
    "start_time": "2022-06-10T15:18:58.618Z"
   },
   {
    "duration": 9,
    "start_time": "2022-06-10T15:19:09.564Z"
   },
   {
    "duration": 8,
    "start_time": "2022-06-10T15:19:20.933Z"
   },
   {
    "duration": 38,
    "start_time": "2022-06-10T15:20:19.759Z"
   },
   {
    "duration": 236,
    "start_time": "2022-06-10T15:21:06.624Z"
   },
   {
    "duration": 37,
    "start_time": "2022-06-10T15:22:00.048Z"
   },
   {
    "duration": 165,
    "start_time": "2022-06-10T15:22:26.049Z"
   },
   {
    "duration": 192,
    "start_time": "2022-06-10T15:22:39.977Z"
   },
   {
    "duration": 173,
    "start_time": "2022-06-10T15:22:44.542Z"
   },
   {
    "duration": 5,
    "start_time": "2022-06-10T15:23:55.468Z"
   },
   {
    "duration": 157,
    "start_time": "2022-06-10T15:23:57.088Z"
   },
   {
    "duration": 186,
    "start_time": "2022-06-10T15:24:08.563Z"
   },
   {
    "duration": 171,
    "start_time": "2022-06-10T15:24:59.223Z"
   },
   {
    "duration": 3,
    "start_time": "2022-06-10T15:25:25.899Z"
   },
   {
    "duration": 280,
    "start_time": "2022-06-10T15:25:26.654Z"
   },
   {
    "duration": 5,
    "start_time": "2022-06-10T15:25:31.762Z"
   },
   {
    "duration": 171,
    "start_time": "2022-06-10T15:25:33.036Z"
   },
   {
    "duration": 132,
    "start_time": "2022-06-10T15:25:34.196Z"
   },
   {
    "duration": 172,
    "start_time": "2022-06-10T15:25:35.720Z"
   },
   {
    "duration": 132,
    "start_time": "2022-06-10T15:26:02.512Z"
   },
   {
    "duration": 131,
    "start_time": "2022-06-10T15:28:05.282Z"
   },
   {
    "duration": 184,
    "start_time": "2022-06-10T15:28:36.748Z"
   },
   {
    "duration": 155,
    "start_time": "2022-06-10T15:29:17.727Z"
   },
   {
    "duration": 156,
    "start_time": "2022-06-10T15:29:35.491Z"
   },
   {
    "duration": 143,
    "start_time": "2022-06-10T15:30:30.536Z"
   },
   {
    "duration": 166,
    "start_time": "2022-06-10T15:30:52.971Z"
   },
   {
    "duration": 22,
    "start_time": "2022-06-10T15:35:59.978Z"
   },
   {
    "duration": 9,
    "start_time": "2022-06-10T15:36:33.915Z"
   },
   {
    "duration": 13,
    "start_time": "2022-06-10T15:36:38.416Z"
   },
   {
    "duration": 18,
    "start_time": "2022-06-10T15:36:44.998Z"
   },
   {
    "duration": 251,
    "start_time": "2022-06-10T15:38:08.619Z"
   },
   {
    "duration": 15,
    "start_time": "2022-06-10T15:39:22.411Z"
   },
   {
    "duration": 45,
    "start_time": "2022-06-10T15:42:13.322Z"
   },
   {
    "duration": 22,
    "start_time": "2022-06-10T15:42:35.944Z"
   },
   {
    "duration": 4,
    "start_time": "2022-06-10T15:44:05.847Z"
   },
   {
    "duration": 1281,
    "start_time": "2022-06-10T17:25:14.845Z"
   },
   {
    "duration": 135,
    "start_time": "2022-06-10T17:25:16.128Z"
   },
   {
    "duration": 22,
    "start_time": "2022-06-10T17:25:16.265Z"
   },
   {
    "duration": 43,
    "start_time": "2022-06-10T17:25:16.289Z"
   },
   {
    "duration": 15,
    "start_time": "2022-06-10T17:25:16.334Z"
   },
   {
    "duration": 30,
    "start_time": "2022-06-10T17:25:16.350Z"
   },
   {
    "duration": 35,
    "start_time": "2022-06-10T17:25:16.384Z"
   },
   {
    "duration": 5,
    "start_time": "2022-06-10T17:25:16.420Z"
   },
   {
    "duration": 7,
    "start_time": "2022-06-10T17:25:16.426Z"
   },
   {
    "duration": 23,
    "start_time": "2022-06-10T17:25:16.434Z"
   },
   {
    "duration": 13,
    "start_time": "2022-06-10T17:25:16.467Z"
   },
   {
    "duration": 34,
    "start_time": "2022-06-10T17:25:16.482Z"
   },
   {
    "duration": 4,
    "start_time": "2022-06-10T17:25:16.518Z"
   },
   {
    "duration": 6,
    "start_time": "2022-06-10T17:25:16.525Z"
   },
   {
    "duration": 5,
    "start_time": "2022-06-10T17:25:16.532Z"
   },
   {
    "duration": 315,
    "start_time": "2022-06-10T17:25:16.539Z"
   },
   {
    "duration": 19,
    "start_time": "2022-06-10T17:25:16.856Z"
   },
   {
    "duration": 41,
    "start_time": "2022-06-10T17:25:16.877Z"
   },
   {
    "duration": 3,
    "start_time": "2022-06-10T17:25:16.919Z"
   },
   {
    "duration": 383,
    "start_time": "2022-06-10T17:25:16.923Z"
   },
   {
    "duration": 412,
    "start_time": "2022-06-10T17:25:17.310Z"
   },
   {
    "duration": 15,
    "start_time": "2022-06-10T17:25:17.724Z"
   },
   {
    "duration": 43,
    "start_time": "2022-06-10T17:25:17.741Z"
   },
   {
    "duration": 220,
    "start_time": "2022-06-10T17:25:17.785Z"
   },
   {
    "duration": 206,
    "start_time": "2022-06-10T17:25:18.006Z"
   },
   {
    "duration": 210,
    "start_time": "2022-06-10T17:25:18.213Z"
   },
   {
    "duration": 205,
    "start_time": "2022-06-10T17:25:18.424Z"
   },
   {
    "duration": 203,
    "start_time": "2022-06-10T17:25:18.631Z"
   },
   {
    "duration": 15,
    "start_time": "2022-06-10T17:25:18.836Z"
   },
   {
    "duration": 205,
    "start_time": "2022-06-10T17:25:18.859Z"
   },
   {
    "duration": 250,
    "start_time": "2022-06-10T17:25:19.065Z"
   },
   {
    "duration": 15,
    "start_time": "2022-06-10T17:25:19.317Z"
   },
   {
    "duration": 44,
    "start_time": "2022-06-10T17:25:19.334Z"
   },
   {
    "duration": 33,
    "start_time": "2022-06-10T17:25:19.380Z"
   },
   {
    "duration": 138,
    "start_time": "2022-06-10T17:25:19.415Z"
   },
   {
    "duration": 161,
    "start_time": "2022-06-10T17:25:19.554Z"
   },
   {
    "duration": 162,
    "start_time": "2022-06-10T17:25:19.717Z"
   },
   {
    "duration": 157,
    "start_time": "2022-06-10T17:25:19.887Z"
   },
   {
    "duration": 157,
    "start_time": "2022-06-10T17:25:20.045Z"
   },
   {
    "duration": 140,
    "start_time": "2022-06-10T17:25:20.204Z"
   },
   {
    "duration": 154,
    "start_time": "2022-06-10T17:25:20.347Z"
   },
   {
    "duration": 144,
    "start_time": "2022-06-10T17:25:20.505Z"
   },
   {
    "duration": 15,
    "start_time": "2022-06-10T17:25:20.651Z"
   },
   {
    "duration": 234,
    "start_time": "2022-06-10T17:25:20.675Z"
   },
   {
    "duration": 174,
    "start_time": "2022-06-10T17:25:20.911Z"
   },
   {
    "duration": 257,
    "start_time": "2022-06-10T17:25:21.090Z"
   },
   {
    "duration": 180,
    "start_time": "2022-06-10T17:25:21.349Z"
   },
   {
    "duration": 207,
    "start_time": "2022-06-10T17:25:21.531Z"
   },
   {
    "duration": 161,
    "start_time": "2022-06-10T17:25:21.740Z"
   },
   {
    "duration": 204,
    "start_time": "2022-06-10T17:25:21.904Z"
   },
   {
    "duration": 23,
    "start_time": "2022-06-10T17:25:22.110Z"
   },
   {
    "duration": 49,
    "start_time": "2022-06-10T17:25:22.134Z"
   },
   {
    "duration": 22,
    "start_time": "2022-06-10T17:25:22.190Z"
   },
   {
    "duration": 1044,
    "start_time": "2022-06-10T17:26:38.089Z"
   },
   {
    "duration": 89,
    "start_time": "2022-06-10T17:26:39.136Z"
   },
   {
    "duration": 16,
    "start_time": "2022-06-10T17:26:39.227Z"
   },
   {
    "duration": 42,
    "start_time": "2022-06-10T17:26:39.245Z"
   },
   {
    "duration": 31,
    "start_time": "2022-06-10T17:26:39.289Z"
   },
   {
    "duration": 26,
    "start_time": "2022-06-10T17:26:39.322Z"
   },
   {
    "duration": 56,
    "start_time": "2022-06-10T17:26:39.350Z"
   },
   {
    "duration": 5,
    "start_time": "2022-06-10T17:26:39.407Z"
   },
   {
    "duration": 10,
    "start_time": "2022-06-10T17:26:39.413Z"
   },
   {
    "duration": 19,
    "start_time": "2022-06-10T17:26:39.424Z"
   },
   {
    "duration": 5,
    "start_time": "2022-06-10T17:26:39.445Z"
   },
   {
    "duration": 18,
    "start_time": "2022-06-10T17:26:39.451Z"
   },
   {
    "duration": 36,
    "start_time": "2022-06-10T17:26:39.471Z"
   },
   {
    "duration": 5,
    "start_time": "2022-06-10T17:26:39.510Z"
   },
   {
    "duration": 5,
    "start_time": "2022-06-10T17:26:39.516Z"
   },
   {
    "duration": 303,
    "start_time": "2022-06-10T17:26:39.522Z"
   },
   {
    "duration": 12,
    "start_time": "2022-06-10T17:26:39.826Z"
   },
   {
    "duration": 45,
    "start_time": "2022-06-10T17:26:39.840Z"
   },
   {
    "duration": 6,
    "start_time": "2022-06-10T17:26:39.888Z"
   },
   {
    "duration": 355,
    "start_time": "2022-06-10T17:26:39.902Z"
   },
   {
    "duration": 356,
    "start_time": "2022-06-10T17:26:40.261Z"
   },
   {
    "duration": 17,
    "start_time": "2022-06-10T17:26:40.619Z"
   },
   {
    "duration": 49,
    "start_time": "2022-06-10T17:26:40.637Z"
   },
   {
    "duration": 212,
    "start_time": "2022-06-10T17:26:40.688Z"
   },
   {
    "duration": 210,
    "start_time": "2022-06-10T17:26:40.902Z"
   },
   {
    "duration": 201,
    "start_time": "2022-06-10T17:26:41.113Z"
   },
   {
    "duration": 210,
    "start_time": "2022-06-10T17:26:41.316Z"
   },
   {
    "duration": 209,
    "start_time": "2022-06-10T17:26:41.528Z"
   },
   {
    "duration": 32,
    "start_time": "2022-06-10T17:26:41.738Z"
   },
   {
    "duration": 231,
    "start_time": "2022-06-10T17:26:41.772Z"
   },
   {
    "duration": 229,
    "start_time": "2022-06-10T17:26:42.005Z"
   },
   {
    "duration": 13,
    "start_time": "2022-06-10T17:26:42.236Z"
   },
   {
    "duration": 46,
    "start_time": "2022-06-10T17:26:42.264Z"
   },
   {
    "duration": 33,
    "start_time": "2022-06-10T17:26:42.312Z"
   },
   {
    "duration": 161,
    "start_time": "2022-06-10T17:26:42.347Z"
   },
   {
    "duration": 144,
    "start_time": "2022-06-10T17:26:42.509Z"
   },
   {
    "duration": 178,
    "start_time": "2022-06-10T17:26:42.655Z"
   },
   {
    "duration": 173,
    "start_time": "2022-06-10T17:26:42.835Z"
   },
   {
    "duration": 184,
    "start_time": "2022-06-10T17:26:43.009Z"
   },
   {
    "duration": 144,
    "start_time": "2022-06-10T17:26:43.195Z"
   },
   {
    "duration": 153,
    "start_time": "2022-06-10T17:26:43.343Z"
   },
   {
    "duration": 175,
    "start_time": "2022-06-10T17:26:43.498Z"
   },
   {
    "duration": 7,
    "start_time": "2022-06-10T17:26:43.675Z"
   },
   {
    "duration": 232,
    "start_time": "2022-06-10T17:26:43.683Z"
   },
   {
    "duration": 160,
    "start_time": "2022-06-10T17:26:43.917Z"
   },
   {
    "duration": 258,
    "start_time": "2022-06-10T17:26:44.079Z"
   },
   {
    "duration": 164,
    "start_time": "2022-06-10T17:26:44.339Z"
   },
   {
    "duration": 198,
    "start_time": "2022-06-10T17:26:44.505Z"
   },
   {
    "duration": 153,
    "start_time": "2022-06-10T17:26:44.705Z"
   },
   {
    "duration": 193,
    "start_time": "2022-06-10T17:26:44.862Z"
   },
   {
    "duration": 45,
    "start_time": "2022-06-10T17:26:45.057Z"
   },
   {
    "duration": 27,
    "start_time": "2022-06-10T17:26:45.104Z"
   },
   {
    "duration": 49,
    "start_time": "2022-06-10T17:26:45.133Z"
   },
   {
    "duration": 40,
    "start_time": "2022-06-10T17:30:01.344Z"
   },
   {
    "duration": 118,
    "start_time": "2022-06-10T17:31:25.501Z"
   },
   {
    "duration": 25,
    "start_time": "2022-06-10T17:31:39.893Z"
   },
   {
    "duration": 7,
    "start_time": "2022-06-10T17:31:56.808Z"
   },
   {
    "duration": 7,
    "start_time": "2022-06-10T17:32:08.013Z"
   },
   {
    "duration": 11,
    "start_time": "2022-06-10T17:34:18.285Z"
   },
   {
    "duration": 12,
    "start_time": "2022-06-10T17:34:31.902Z"
   },
   {
    "duration": 28,
    "start_time": "2022-06-10T17:34:37.540Z"
   },
   {
    "duration": 18,
    "start_time": "2022-06-10T17:35:09.883Z"
   },
   {
    "duration": 16,
    "start_time": "2022-06-10T17:35:41.801Z"
   },
   {
    "duration": 18,
    "start_time": "2022-06-10T17:37:51.081Z"
   },
   {
    "duration": 16,
    "start_time": "2022-06-10T17:38:13.223Z"
   },
   {
    "duration": 24,
    "start_time": "2022-06-10T17:38:50.387Z"
   },
   {
    "duration": 23,
    "start_time": "2022-06-10T17:39:05.072Z"
   },
   {
    "duration": 14,
    "start_time": "2022-06-10T17:39:36.938Z"
   },
   {
    "duration": 19,
    "start_time": "2022-06-10T17:50:01.917Z"
   },
   {
    "duration": 18,
    "start_time": "2022-06-10T17:50:09.822Z"
   },
   {
    "duration": 15,
    "start_time": "2022-06-10T17:50:20.527Z"
   },
   {
    "duration": 18,
    "start_time": "2022-06-10T17:50:27.532Z"
   },
   {
    "duration": 21,
    "start_time": "2022-06-10T17:50:34.387Z"
   },
   {
    "duration": 14,
    "start_time": "2022-06-10T17:50:43.639Z"
   },
   {
    "duration": 16,
    "start_time": "2022-06-10T17:59:38.323Z"
   },
   {
    "duration": 17,
    "start_time": "2022-06-10T17:59:43.493Z"
   },
   {
    "duration": 13,
    "start_time": "2022-06-10T18:00:15.226Z"
   },
   {
    "duration": 20,
    "start_time": "2022-06-10T18:00:46.076Z"
   },
   {
    "duration": 14,
    "start_time": "2022-06-10T18:00:56.235Z"
   },
   {
    "duration": 5,
    "start_time": "2022-06-10T18:03:04.978Z"
   },
   {
    "duration": 1028,
    "start_time": "2022-06-10T18:03:08.877Z"
   },
   {
    "duration": 77,
    "start_time": "2022-06-10T18:03:09.907Z"
   },
   {
    "duration": 19,
    "start_time": "2022-06-10T18:03:09.994Z"
   },
   {
    "duration": 28,
    "start_time": "2022-06-10T18:03:10.015Z"
   },
   {
    "duration": 39,
    "start_time": "2022-06-10T18:03:10.045Z"
   },
   {
    "duration": 22,
    "start_time": "2022-06-10T18:03:10.090Z"
   },
   {
    "duration": 18,
    "start_time": "2022-06-10T18:03:10.114Z"
   },
   {
    "duration": 5,
    "start_time": "2022-06-10T18:03:10.133Z"
   },
   {
    "duration": 9,
    "start_time": "2022-06-10T18:03:10.140Z"
   },
   {
    "duration": 30,
    "start_time": "2022-06-10T18:03:10.150Z"
   },
   {
    "duration": 20,
    "start_time": "2022-06-10T18:03:10.182Z"
   },
   {
    "duration": 14,
    "start_time": "2022-06-10T18:03:10.203Z"
   },
   {
    "duration": 4,
    "start_time": "2022-06-10T18:03:10.219Z"
   },
   {
    "duration": 5,
    "start_time": "2022-06-10T18:03:10.226Z"
   },
   {
    "duration": 5,
    "start_time": "2022-06-10T18:03:10.233Z"
   },
   {
    "duration": 325,
    "start_time": "2022-06-10T18:03:10.239Z"
   },
   {
    "duration": 24,
    "start_time": "2022-06-10T18:03:10.568Z"
   },
   {
    "duration": 18,
    "start_time": "2022-06-10T18:03:10.599Z"
   },
   {
    "duration": 2,
    "start_time": "2022-06-10T18:03:10.619Z"
   },
   {
    "duration": 369,
    "start_time": "2022-06-10T18:03:10.623Z"
   },
   {
    "duration": 336,
    "start_time": "2022-06-10T18:03:11.001Z"
   },
   {
    "duration": 28,
    "start_time": "2022-06-10T18:03:11.338Z"
   },
   {
    "duration": 28,
    "start_time": "2022-06-10T18:03:11.367Z"
   },
   {
    "duration": 222,
    "start_time": "2022-06-10T18:03:11.397Z"
   },
   {
    "duration": 212,
    "start_time": "2022-06-10T18:03:11.621Z"
   },
   {
    "duration": 214,
    "start_time": "2022-06-10T18:03:11.835Z"
   },
   {
    "duration": 193,
    "start_time": "2022-06-10T18:03:12.051Z"
   },
   {
    "duration": 200,
    "start_time": "2022-06-10T18:03:12.246Z"
   },
   {
    "duration": 23,
    "start_time": "2022-06-10T18:03:12.448Z"
   },
   {
    "duration": 226,
    "start_time": "2022-06-10T18:03:12.472Z"
   },
   {
    "duration": 238,
    "start_time": "2022-06-10T18:03:12.700Z"
   },
   {
    "duration": 46,
    "start_time": "2022-06-10T18:03:12.940Z"
   },
   {
    "duration": 18,
    "start_time": "2022-06-10T18:03:12.995Z"
   },
   {
    "duration": 17,
    "start_time": "2022-06-10T18:03:13.015Z"
   },
   {
    "duration": 174,
    "start_time": "2022-06-10T18:03:13.034Z"
   },
   {
    "duration": 148,
    "start_time": "2022-06-10T18:03:13.209Z"
   },
   {
    "duration": 162,
    "start_time": "2022-06-10T18:03:13.359Z"
   },
   {
    "duration": 169,
    "start_time": "2022-06-10T18:03:13.522Z"
   },
   {
    "duration": 151,
    "start_time": "2022-06-10T18:03:13.693Z"
   },
   {
    "duration": 144,
    "start_time": "2022-06-10T18:03:13.846Z"
   },
   {
    "duration": 135,
    "start_time": "2022-06-10T18:03:13.994Z"
   },
   {
    "duration": 174,
    "start_time": "2022-06-10T18:03:14.131Z"
   },
   {
    "duration": 8,
    "start_time": "2022-06-10T18:03:14.306Z"
   },
   {
    "duration": 198,
    "start_time": "2022-06-10T18:03:14.315Z"
   },
   {
    "duration": 157,
    "start_time": "2022-06-10T18:03:14.515Z"
   },
   {
    "duration": 265,
    "start_time": "2022-06-10T18:03:14.677Z"
   },
   {
    "duration": 164,
    "start_time": "2022-06-10T18:03:14.944Z"
   },
   {
    "duration": 203,
    "start_time": "2022-06-10T18:03:15.110Z"
   },
   {
    "duration": 171,
    "start_time": "2022-06-10T18:03:15.315Z"
   },
   {
    "duration": 208,
    "start_time": "2022-06-10T18:03:15.491Z"
   },
   {
    "duration": 24,
    "start_time": "2022-06-10T18:03:15.702Z"
   },
   {
    "duration": 17,
    "start_time": "2022-06-10T18:03:15.728Z"
   },
   {
    "duration": 32,
    "start_time": "2022-06-10T18:03:15.746Z"
   },
   {
    "duration": 31,
    "start_time": "2022-06-10T18:03:15.781Z"
   },
   {
    "duration": 14,
    "start_time": "2022-06-10T18:03:15.814Z"
   },
   {
    "duration": 16,
    "start_time": "2022-06-10T18:03:15.830Z"
   },
   {
    "duration": 20,
    "start_time": "2022-06-10T18:03:15.848Z"
   },
   {
    "duration": 38,
    "start_time": "2022-06-10T18:03:15.870Z"
   },
   {
    "duration": 13,
    "start_time": "2022-06-10T18:03:15.910Z"
   },
   {
    "duration": 13,
    "start_time": "2022-06-10T18:03:15.925Z"
   },
   {
    "duration": 14,
    "start_time": "2022-06-10T18:03:15.939Z"
   },
   {
    "duration": 43,
    "start_time": "2022-06-10T18:03:15.955Z"
   },
   {
    "duration": 18,
    "start_time": "2022-06-10T18:03:16.000Z"
   },
   {
    "duration": 14,
    "start_time": "2022-06-10T18:03:16.019Z"
   },
   {
    "duration": 16,
    "start_time": "2022-06-10T18:03:16.034Z"
   },
   {
    "duration": 35,
    "start_time": "2022-06-10T18:03:29.059Z"
   },
   {
    "duration": 5,
    "start_time": "2022-06-10T18:03:39.548Z"
   },
   {
    "duration": 13,
    "start_time": "2022-06-10T18:03:52.097Z"
   },
   {
    "duration": 5,
    "start_time": "2022-06-10T18:04:35.150Z"
   },
   {
    "duration": 31,
    "start_time": "2022-06-10T18:07:19.284Z"
   },
   {
    "duration": 17,
    "start_time": "2022-06-10T18:16:57.354Z"
   },
   {
    "duration": 7,
    "start_time": "2022-06-10T18:16:59.892Z"
   },
   {
    "duration": 6,
    "start_time": "2022-06-10T18:17:11.403Z"
   },
   {
    "duration": 8,
    "start_time": "2022-06-10T18:17:33.279Z"
   },
   {
    "duration": 124,
    "start_time": "2022-06-10T18:18:01.346Z"
   },
   {
    "duration": 10,
    "start_time": "2022-06-10T18:18:09.930Z"
   },
   {
    "duration": 7,
    "start_time": "2022-06-10T18:19:46.235Z"
   },
   {
    "duration": 8,
    "start_time": "2022-06-10T18:21:41.391Z"
   },
   {
    "duration": 8,
    "start_time": "2022-06-10T18:21:45.538Z"
   },
   {
    "duration": 8,
    "start_time": "2022-06-10T18:36:18.601Z"
   },
   {
    "duration": 18,
    "start_time": "2022-06-10T18:36:27.985Z"
   },
   {
    "duration": 1051,
    "start_time": "2022-06-10T18:39:16.131Z"
   },
   {
    "duration": 112,
    "start_time": "2022-06-10T18:39:17.194Z"
   },
   {
    "duration": 24,
    "start_time": "2022-06-10T18:39:17.313Z"
   },
   {
    "duration": 71,
    "start_time": "2022-06-10T18:39:17.339Z"
   },
   {
    "duration": 27,
    "start_time": "2022-06-10T18:39:17.413Z"
   },
   {
    "duration": 65,
    "start_time": "2022-06-10T18:39:17.442Z"
   },
   {
    "duration": 28,
    "start_time": "2022-06-10T18:39:17.516Z"
   },
   {
    "duration": 6,
    "start_time": "2022-06-10T18:39:17.546Z"
   },
   {
    "duration": 62,
    "start_time": "2022-06-10T18:39:17.554Z"
   },
   {
    "duration": 29,
    "start_time": "2022-06-10T18:39:17.619Z"
   },
   {
    "duration": 5,
    "start_time": "2022-06-10T18:39:17.650Z"
   },
   {
    "duration": 70,
    "start_time": "2022-06-10T18:39:17.657Z"
   },
   {
    "duration": 7,
    "start_time": "2022-06-10T18:39:17.729Z"
   },
   {
    "duration": 12,
    "start_time": "2022-06-10T18:39:17.739Z"
   },
   {
    "duration": 64,
    "start_time": "2022-06-10T18:39:17.752Z"
   },
   {
    "duration": 329,
    "start_time": "2022-06-10T18:39:17.818Z"
   },
   {
    "duration": 29,
    "start_time": "2022-06-10T18:39:18.149Z"
   },
   {
    "duration": 30,
    "start_time": "2022-06-10T18:39:18.182Z"
   },
   {
    "duration": 3,
    "start_time": "2022-06-10T18:39:18.214Z"
   },
   {
    "duration": 415,
    "start_time": "2022-06-10T18:39:18.218Z"
   },
   {
    "duration": 408,
    "start_time": "2022-06-10T18:39:18.634Z"
   },
   {
    "duration": 47,
    "start_time": "2022-06-10T18:39:19.045Z"
   },
   {
    "duration": 32,
    "start_time": "2022-06-10T18:39:19.099Z"
   },
   {
    "duration": 213,
    "start_time": "2022-06-10T18:39:19.132Z"
   },
   {
    "duration": 267,
    "start_time": "2022-06-10T18:39:19.347Z"
   },
   {
    "duration": 222,
    "start_time": "2022-06-10T18:39:19.616Z"
   },
   {
    "duration": 225,
    "start_time": "2022-06-10T18:39:19.839Z"
   },
   {
    "duration": 212,
    "start_time": "2022-06-10T18:39:20.065Z"
   },
   {
    "duration": 21,
    "start_time": "2022-06-10T18:39:20.279Z"
   },
   {
    "duration": 219,
    "start_time": "2022-06-10T18:39:20.306Z"
   },
   {
    "duration": 266,
    "start_time": "2022-06-10T18:39:20.526Z"
   },
   {
    "duration": 13,
    "start_time": "2022-06-10T18:39:20.798Z"
   },
   {
    "duration": 22,
    "start_time": "2022-06-10T18:39:20.813Z"
   },
   {
    "duration": 15,
    "start_time": "2022-06-10T18:39:20.837Z"
   },
   {
    "duration": 202,
    "start_time": "2022-06-10T18:39:20.853Z"
   },
   {
    "duration": 157,
    "start_time": "2022-06-10T18:39:21.057Z"
   },
   {
    "duration": 153,
    "start_time": "2022-06-10T18:39:21.215Z"
   },
   {
    "duration": 149,
    "start_time": "2022-06-10T18:39:21.370Z"
   },
   {
    "duration": 178,
    "start_time": "2022-06-10T18:39:21.521Z"
   },
   {
    "duration": 138,
    "start_time": "2022-06-10T18:39:21.700Z"
   },
   {
    "duration": 161,
    "start_time": "2022-06-10T18:39:21.842Z"
   },
   {
    "duration": 192,
    "start_time": "2022-06-10T18:39:22.006Z"
   },
   {
    "duration": 5,
    "start_time": "2022-06-10T18:39:22.201Z"
   },
   {
    "duration": 203,
    "start_time": "2022-06-10T18:39:22.208Z"
   },
   {
    "duration": 188,
    "start_time": "2022-06-10T18:39:22.413Z"
   },
   {
    "duration": 287,
    "start_time": "2022-06-10T18:39:22.603Z"
   },
   {
    "duration": 163,
    "start_time": "2022-06-10T18:39:22.891Z"
   },
   {
    "duration": 213,
    "start_time": "2022-06-10T18:39:23.062Z"
   },
   {
    "duration": 160,
    "start_time": "2022-06-10T18:39:23.277Z"
   },
   {
    "duration": 231,
    "start_time": "2022-06-10T18:39:23.439Z"
   },
   {
    "duration": 44,
    "start_time": "2022-06-10T18:39:23.673Z"
   },
   {
    "duration": 14,
    "start_time": "2022-06-10T18:39:23.719Z"
   },
   {
    "duration": 18,
    "start_time": "2022-06-10T18:39:23.735Z"
   },
   {
    "duration": 23,
    "start_time": "2022-06-10T18:39:23.755Z"
   },
   {
    "duration": 41,
    "start_time": "2022-06-10T18:39:23.780Z"
   },
   {
    "duration": 13,
    "start_time": "2022-06-10T18:39:23.823Z"
   },
   {
    "duration": 15,
    "start_time": "2022-06-10T18:39:23.838Z"
   },
   {
    "duration": 57,
    "start_time": "2022-06-10T18:39:23.855Z"
   },
   {
    "duration": 49,
    "start_time": "2022-06-10T18:39:23.914Z"
   },
   {
    "duration": 51,
    "start_time": "2022-06-10T18:39:23.973Z"
   },
   {
    "duration": 32,
    "start_time": "2022-06-10T18:39:24.025Z"
   },
   {
    "duration": 65,
    "start_time": "2022-06-10T18:39:24.064Z"
   },
   {
    "duration": 25,
    "start_time": "2022-06-10T18:39:24.131Z"
   },
   {
    "duration": 67,
    "start_time": "2022-06-10T18:39:24.158Z"
   },
   {
    "duration": 44,
    "start_time": "2022-06-10T18:39:24.227Z"
   },
   {
    "duration": 36,
    "start_time": "2022-06-10T18:39:24.280Z"
   },
   {
    "duration": 27,
    "start_time": "2022-06-10T18:39:24.317Z"
   },
   {
    "duration": 17,
    "start_time": "2022-06-10T18:39:24.346Z"
   },
   {
    "duration": 16,
    "start_time": "2022-06-10T18:39:55.655Z"
   },
   {
    "duration": 5,
    "start_time": "2022-06-10T18:40:56.732Z"
   },
   {
    "duration": 11,
    "start_time": "2022-06-10T18:42:02.917Z"
   },
   {
    "duration": 1097,
    "start_time": "2022-06-10T18:58:01.837Z"
   },
   {
    "duration": 94,
    "start_time": "2022-06-10T18:58:02.936Z"
   },
   {
    "duration": 22,
    "start_time": "2022-06-10T18:58:03.032Z"
   },
   {
    "duration": 40,
    "start_time": "2022-06-10T18:58:03.057Z"
   },
   {
    "duration": 24,
    "start_time": "2022-06-10T18:58:03.101Z"
   },
   {
    "duration": 19,
    "start_time": "2022-06-10T18:58:03.126Z"
   },
   {
    "duration": 30,
    "start_time": "2022-06-10T18:58:03.146Z"
   },
   {
    "duration": 18,
    "start_time": "2022-06-10T18:58:03.178Z"
   },
   {
    "duration": 11,
    "start_time": "2022-06-10T18:58:03.198Z"
   },
   {
    "duration": 19,
    "start_time": "2022-06-10T18:58:03.212Z"
   },
   {
    "duration": 6,
    "start_time": "2022-06-10T18:58:03.233Z"
   },
   {
    "duration": 25,
    "start_time": "2022-06-10T18:58:03.240Z"
   },
   {
    "duration": 12,
    "start_time": "2022-06-10T18:58:03.267Z"
   },
   {
    "duration": 24,
    "start_time": "2022-06-10T18:58:03.285Z"
   },
   {
    "duration": 8,
    "start_time": "2022-06-10T18:58:03.311Z"
   },
   {
    "duration": 300,
    "start_time": "2022-06-10T18:58:03.320Z"
   },
   {
    "duration": 13,
    "start_time": "2022-06-10T18:58:03.622Z"
   },
   {
    "duration": 44,
    "start_time": "2022-06-10T18:58:03.636Z"
   },
   {
    "duration": 3,
    "start_time": "2022-06-10T18:58:03.686Z"
   },
   {
    "duration": 360,
    "start_time": "2022-06-10T18:58:03.691Z"
   },
   {
    "duration": 356,
    "start_time": "2022-06-10T18:58:04.053Z"
   },
   {
    "duration": 17,
    "start_time": "2022-06-10T18:58:04.410Z"
   },
   {
    "duration": 32,
    "start_time": "2022-06-10T18:58:04.428Z"
   },
   {
    "duration": 198,
    "start_time": "2022-06-10T18:58:04.462Z"
   },
   {
    "duration": 198,
    "start_time": "2022-06-10T18:58:04.665Z"
   },
   {
    "duration": 211,
    "start_time": "2022-06-10T18:58:04.864Z"
   },
   {
    "duration": 189,
    "start_time": "2022-06-10T18:58:05.076Z"
   },
   {
    "duration": 212,
    "start_time": "2022-06-10T18:58:05.270Z"
   },
   {
    "duration": 18,
    "start_time": "2022-06-10T18:58:05.484Z"
   },
   {
    "duration": 208,
    "start_time": "2022-06-10T18:58:05.503Z"
   },
   {
    "duration": 262,
    "start_time": "2022-06-10T18:58:05.712Z"
   },
   {
    "duration": 23,
    "start_time": "2022-06-10T18:58:05.978Z"
   },
   {
    "duration": 24,
    "start_time": "2022-06-10T18:58:06.005Z"
   },
   {
    "duration": 11,
    "start_time": "2022-06-10T18:58:06.031Z"
   },
   {
    "duration": 159,
    "start_time": "2022-06-10T18:58:06.043Z"
   },
   {
    "duration": 172,
    "start_time": "2022-06-10T18:58:06.204Z"
   },
   {
    "duration": 142,
    "start_time": "2022-06-10T18:58:06.379Z"
   },
   {
    "duration": 168,
    "start_time": "2022-06-10T18:58:06.523Z"
   },
   {
    "duration": 156,
    "start_time": "2022-06-10T18:58:06.693Z"
   },
   {
    "duration": 149,
    "start_time": "2022-06-10T18:58:06.851Z"
   },
   {
    "duration": 149,
    "start_time": "2022-06-10T18:58:07.001Z"
   },
   {
    "duration": 178,
    "start_time": "2022-06-10T18:58:07.161Z"
   },
   {
    "duration": 7,
    "start_time": "2022-06-10T18:58:07.341Z"
   },
   {
    "duration": 255,
    "start_time": "2022-06-10T18:58:07.360Z"
   },
   {
    "duration": 171,
    "start_time": "2022-06-10T18:58:07.617Z"
   },
   {
    "duration": 262,
    "start_time": "2022-06-10T18:58:07.792Z"
   },
   {
    "duration": 160,
    "start_time": "2022-06-10T18:58:08.058Z"
   },
   {
    "duration": 198,
    "start_time": "2022-06-10T18:58:08.220Z"
   },
   {
    "duration": 170,
    "start_time": "2022-06-10T18:58:08.420Z"
   },
   {
    "duration": 207,
    "start_time": "2022-06-10T18:58:08.592Z"
   },
   {
    "duration": 33,
    "start_time": "2022-06-10T18:58:08.800Z"
   },
   {
    "duration": 15,
    "start_time": "2022-06-10T18:58:08.835Z"
   },
   {
    "duration": 23,
    "start_time": "2022-06-10T18:58:08.867Z"
   },
   {
    "duration": 15,
    "start_time": "2022-06-10T18:58:08.892Z"
   },
   {
    "duration": 14,
    "start_time": "2022-06-10T18:58:08.908Z"
   },
   {
    "duration": 18,
    "start_time": "2022-06-10T18:58:08.923Z"
   },
   {
    "duration": 28,
    "start_time": "2022-06-10T18:58:08.942Z"
   },
   {
    "duration": 32,
    "start_time": "2022-06-10T18:58:08.976Z"
   },
   {
    "duration": 15,
    "start_time": "2022-06-10T18:58:09.010Z"
   },
   {
    "duration": 14,
    "start_time": "2022-06-10T18:58:09.027Z"
   },
   {
    "duration": 32,
    "start_time": "2022-06-10T18:58:09.043Z"
   },
   {
    "duration": 27,
    "start_time": "2022-06-10T18:58:09.077Z"
   },
   {
    "duration": 13,
    "start_time": "2022-06-10T18:58:09.106Z"
   },
   {
    "duration": 15,
    "start_time": "2022-06-10T18:58:09.121Z"
   },
   {
    "duration": 16,
    "start_time": "2022-06-10T18:58:09.138Z"
   },
   {
    "duration": 17,
    "start_time": "2022-06-10T18:58:09.156Z"
   },
   {
    "duration": 22,
    "start_time": "2022-06-10T18:58:09.178Z"
   },
   {
    "duration": 115,
    "start_time": "2022-06-10T18:58:09.201Z"
   },
   {
    "duration": 7,
    "start_time": "2022-06-10T18:58:24.685Z"
   },
   {
    "duration": 1070,
    "start_time": "2022-06-10T18:58:40.339Z"
   },
   {
    "duration": 77,
    "start_time": "2022-06-10T18:58:41.411Z"
   },
   {
    "duration": 16,
    "start_time": "2022-06-10T18:58:41.490Z"
   },
   {
    "duration": 28,
    "start_time": "2022-06-10T18:58:41.508Z"
   },
   {
    "duration": 37,
    "start_time": "2022-06-10T18:58:41.539Z"
   },
   {
    "duration": 15,
    "start_time": "2022-06-10T18:58:41.581Z"
   },
   {
    "duration": 16,
    "start_time": "2022-06-10T18:58:41.598Z"
   },
   {
    "duration": 6,
    "start_time": "2022-06-10T18:58:41.616Z"
   },
   {
    "duration": 10,
    "start_time": "2022-06-10T18:58:41.623Z"
   },
   {
    "duration": 53,
    "start_time": "2022-06-10T18:58:41.635Z"
   },
   {
    "duration": 7,
    "start_time": "2022-06-10T18:58:41.691Z"
   },
   {
    "duration": 20,
    "start_time": "2022-06-10T18:58:41.700Z"
   },
   {
    "duration": 4,
    "start_time": "2022-06-10T18:58:41.722Z"
   },
   {
    "duration": 5,
    "start_time": "2022-06-10T18:58:41.729Z"
   },
   {
    "duration": 7,
    "start_time": "2022-06-10T18:58:41.736Z"
   },
   {
    "duration": 327,
    "start_time": "2022-06-10T18:58:41.766Z"
   },
   {
    "duration": 19,
    "start_time": "2022-06-10T18:58:42.095Z"
   },
   {
    "duration": 21,
    "start_time": "2022-06-10T18:58:42.116Z"
   },
   {
    "duration": 30,
    "start_time": "2022-06-10T18:58:42.139Z"
   },
   {
    "duration": 364,
    "start_time": "2022-06-10T18:58:42.170Z"
   },
   {
    "duration": 359,
    "start_time": "2022-06-10T18:58:42.535Z"
   },
   {
    "duration": 17,
    "start_time": "2022-06-10T18:58:42.896Z"
   },
   {
    "duration": 21,
    "start_time": "2022-06-10T18:58:42.914Z"
   },
   {
    "duration": 272,
    "start_time": "2022-06-10T18:58:42.937Z"
   },
   {
    "duration": 223,
    "start_time": "2022-06-10T18:58:43.211Z"
   },
   {
    "duration": 212,
    "start_time": "2022-06-10T18:58:43.436Z"
   },
   {
    "duration": 203,
    "start_time": "2022-06-10T18:58:43.649Z"
   },
   {
    "duration": 206,
    "start_time": "2022-06-10T18:58:43.858Z"
   },
   {
    "duration": 18,
    "start_time": "2022-06-10T18:58:44.070Z"
   },
   {
    "duration": 195,
    "start_time": "2022-06-10T18:58:44.089Z"
   },
   {
    "duration": 255,
    "start_time": "2022-06-10T18:58:44.285Z"
   },
   {
    "duration": 28,
    "start_time": "2022-06-10T18:58:44.542Z"
   },
   {
    "duration": 33,
    "start_time": "2022-06-10T18:58:44.571Z"
   },
   {
    "duration": 22,
    "start_time": "2022-06-10T18:58:44.606Z"
   },
   {
    "duration": 164,
    "start_time": "2022-06-10T18:58:44.629Z"
   },
   {
    "duration": 147,
    "start_time": "2022-06-10T18:58:44.796Z"
   },
   {
    "duration": 162,
    "start_time": "2022-06-10T18:58:44.944Z"
   },
   {
    "duration": 155,
    "start_time": "2022-06-10T18:58:45.107Z"
   },
   {
    "duration": 149,
    "start_time": "2022-06-10T18:58:45.265Z"
   },
   {
    "duration": 162,
    "start_time": "2022-06-10T18:58:45.416Z"
   },
   {
    "duration": 127,
    "start_time": "2022-06-10T18:58:45.582Z"
   },
   {
    "duration": 153,
    "start_time": "2022-06-10T18:58:45.711Z"
   },
   {
    "duration": 21,
    "start_time": "2022-06-10T18:58:45.865Z"
   },
   {
    "duration": 203,
    "start_time": "2022-06-10T18:58:45.891Z"
   },
   {
    "duration": 167,
    "start_time": "2022-06-10T18:58:46.096Z"
   },
   {
    "duration": 273,
    "start_time": "2022-06-10T18:58:46.268Z"
   },
   {
    "duration": 184,
    "start_time": "2022-06-10T18:58:46.543Z"
   },
   {
    "duration": 201,
    "start_time": "2022-06-10T18:58:46.729Z"
   },
   {
    "duration": 166,
    "start_time": "2022-06-10T18:58:46.932Z"
   },
   {
    "duration": 232,
    "start_time": "2022-06-10T18:58:47.100Z"
   },
   {
    "duration": 58,
    "start_time": "2022-06-10T18:58:47.334Z"
   },
   {
    "duration": 21,
    "start_time": "2022-06-10T18:58:47.395Z"
   },
   {
    "duration": 20,
    "start_time": "2022-06-10T18:58:47.418Z"
   },
   {
    "duration": 28,
    "start_time": "2022-06-10T18:58:47.441Z"
   },
   {
    "duration": 48,
    "start_time": "2022-06-10T18:58:47.470Z"
   },
   {
    "duration": 44,
    "start_time": "2022-06-10T18:58:47.520Z"
   },
   {
    "duration": 21,
    "start_time": "2022-06-10T18:58:47.570Z"
   },
   {
    "duration": 36,
    "start_time": "2022-06-10T18:58:47.593Z"
   },
   {
    "duration": 22,
    "start_time": "2022-06-10T18:58:47.633Z"
   },
   {
    "duration": 32,
    "start_time": "2022-06-10T18:58:47.657Z"
   },
   {
    "duration": 16,
    "start_time": "2022-06-10T18:58:47.696Z"
   },
   {
    "duration": 14,
    "start_time": "2022-06-10T18:58:47.713Z"
   },
   {
    "duration": 13,
    "start_time": "2022-06-10T18:58:47.729Z"
   },
   {
    "duration": 38,
    "start_time": "2022-06-10T18:58:47.743Z"
   },
   {
    "duration": 16,
    "start_time": "2022-06-10T18:58:47.785Z"
   },
   {
    "duration": 9,
    "start_time": "2022-06-10T18:58:47.803Z"
   },
   {
    "duration": 12,
    "start_time": "2022-06-10T18:58:47.813Z"
   },
   {
    "duration": 7,
    "start_time": "2022-06-10T18:58:47.827Z"
   },
   {
    "duration": 225,
    "start_time": "2022-06-10T19:00:07.520Z"
   },
   {
    "duration": 3,
    "start_time": "2022-06-10T19:00:37.827Z"
   },
   {
    "duration": 1064,
    "start_time": "2022-06-10T19:03:34.354Z"
   },
   {
    "duration": 75,
    "start_time": "2022-06-10T19:03:35.419Z"
   },
   {
    "duration": 18,
    "start_time": "2022-06-10T19:03:35.495Z"
   },
   {
    "duration": 27,
    "start_time": "2022-06-10T19:03:35.515Z"
   },
   {
    "duration": 35,
    "start_time": "2022-06-10T19:03:35.544Z"
   },
   {
    "duration": 27,
    "start_time": "2022-06-10T19:03:35.581Z"
   },
   {
    "duration": 27,
    "start_time": "2022-06-10T19:03:35.609Z"
   },
   {
    "duration": 5,
    "start_time": "2022-06-10T19:03:35.637Z"
   },
   {
    "duration": 19,
    "start_time": "2022-06-10T19:03:35.643Z"
   },
   {
    "duration": 40,
    "start_time": "2022-06-10T19:03:35.668Z"
   },
   {
    "duration": 4,
    "start_time": "2022-06-10T19:03:35.710Z"
   },
   {
    "duration": 15,
    "start_time": "2022-06-10T19:03:35.716Z"
   },
   {
    "duration": 5,
    "start_time": "2022-06-10T19:03:35.732Z"
   },
   {
    "duration": 55,
    "start_time": "2022-06-10T19:03:35.739Z"
   },
   {
    "duration": 11,
    "start_time": "2022-06-10T19:03:35.797Z"
   },
   {
    "duration": 325,
    "start_time": "2022-06-10T19:03:35.810Z"
   },
   {
    "duration": 15,
    "start_time": "2022-06-10T19:03:36.136Z"
   },
   {
    "duration": 26,
    "start_time": "2022-06-10T19:03:36.153Z"
   },
   {
    "duration": 15,
    "start_time": "2022-06-10T19:03:36.180Z"
   },
   {
    "duration": 367,
    "start_time": "2022-06-10T19:03:36.197Z"
   },
   {
    "duration": 364,
    "start_time": "2022-06-10T19:03:36.566Z"
   },
   {
    "duration": 16,
    "start_time": "2022-06-10T19:03:36.932Z"
   },
   {
    "duration": 23,
    "start_time": "2022-06-10T19:03:36.959Z"
   },
   {
    "duration": 228,
    "start_time": "2022-06-10T19:03:36.984Z"
   },
   {
    "duration": 261,
    "start_time": "2022-06-10T19:03:37.214Z"
   },
   {
    "duration": 242,
    "start_time": "2022-06-10T19:03:37.484Z"
   },
   {
    "duration": 227,
    "start_time": "2022-06-10T19:03:37.728Z"
   },
   {
    "duration": 190,
    "start_time": "2022-06-10T19:03:37.959Z"
   },
   {
    "duration": 35,
    "start_time": "2022-06-10T19:03:38.151Z"
   },
   {
    "duration": 187,
    "start_time": "2022-06-10T19:03:38.191Z"
   },
   {
    "duration": 256,
    "start_time": "2022-06-10T19:03:38.379Z"
   },
   {
    "duration": 27,
    "start_time": "2022-06-10T19:03:38.637Z"
   },
   {
    "duration": 23,
    "start_time": "2022-06-10T19:03:38.670Z"
   },
   {
    "duration": 14,
    "start_time": "2022-06-10T19:03:38.695Z"
   },
   {
    "duration": 168,
    "start_time": "2022-06-10T19:03:38.711Z"
   },
   {
    "duration": 155,
    "start_time": "2022-06-10T19:03:38.895Z"
   },
   {
    "duration": 159,
    "start_time": "2022-06-10T19:03:39.052Z"
   },
   {
    "duration": 166,
    "start_time": "2022-06-10T19:03:39.213Z"
   },
   {
    "duration": 162,
    "start_time": "2022-06-10T19:03:39.381Z"
   },
   {
    "duration": 163,
    "start_time": "2022-06-10T19:03:39.545Z"
   },
   {
    "duration": 136,
    "start_time": "2022-06-10T19:03:39.709Z"
   },
   {
    "duration": 169,
    "start_time": "2022-06-10T19:03:39.846Z"
   },
   {
    "duration": 5,
    "start_time": "2022-06-10T19:03:40.017Z"
   },
   {
    "duration": 204,
    "start_time": "2022-06-10T19:03:40.024Z"
   },
   {
    "duration": 167,
    "start_time": "2022-06-10T19:03:40.229Z"
   },
   {
    "duration": 296,
    "start_time": "2022-06-10T19:03:40.397Z"
   },
   {
    "duration": 161,
    "start_time": "2022-06-10T19:03:40.694Z"
   },
   {
    "duration": 206,
    "start_time": "2022-06-10T19:03:40.857Z"
   },
   {
    "duration": 147,
    "start_time": "2022-06-10T19:03:41.075Z"
   },
   {
    "duration": 192,
    "start_time": "2022-06-10T19:03:41.223Z"
   },
   {
    "duration": 23,
    "start_time": "2022-06-10T19:03:41.417Z"
   },
   {
    "duration": 38,
    "start_time": "2022-06-10T19:03:41.442Z"
   },
   {
    "duration": 23,
    "start_time": "2022-06-10T19:03:41.486Z"
   },
   {
    "duration": 15,
    "start_time": "2022-06-10T19:03:41.511Z"
   },
   {
    "duration": 20,
    "start_time": "2022-06-10T19:03:41.528Z"
   },
   {
    "duration": 34,
    "start_time": "2022-06-10T19:03:41.550Z"
   },
   {
    "duration": 17,
    "start_time": "2022-06-10T19:03:41.591Z"
   },
   {
    "duration": 17,
    "start_time": "2022-06-10T19:03:41.610Z"
   },
   {
    "duration": 20,
    "start_time": "2022-06-10T19:03:41.629Z"
   },
   {
    "duration": 40,
    "start_time": "2022-06-10T19:03:41.664Z"
   },
   {
    "duration": 14,
    "start_time": "2022-06-10T19:03:41.706Z"
   },
   {
    "duration": 16,
    "start_time": "2022-06-10T19:03:41.722Z"
   },
   {
    "duration": 14,
    "start_time": "2022-06-10T19:03:41.740Z"
   },
   {
    "duration": 47,
    "start_time": "2022-06-10T19:03:41.755Z"
   },
   {
    "duration": 14,
    "start_time": "2022-06-10T19:03:41.804Z"
   },
   {
    "duration": 12,
    "start_time": "2022-06-10T19:03:41.819Z"
   },
   {
    "duration": 7,
    "start_time": "2022-06-10T19:03:41.833Z"
   },
   {
    "duration": 5,
    "start_time": "2022-06-10T19:03:41.842Z"
   },
   {
    "duration": 58,
    "start_time": "2022-06-11T12:35:32.159Z"
   },
   {
    "duration": 62,
    "start_time": "2022-06-11T13:11:36.363Z"
   },
   {
    "duration": 1218,
    "start_time": "2022-06-14T09:47:18.207Z"
   },
   {
    "duration": 111,
    "start_time": "2022-06-14T09:47:19.427Z"
   },
   {
    "duration": 17,
    "start_time": "2022-06-14T09:47:19.539Z"
   },
   {
    "duration": 29,
    "start_time": "2022-06-14T09:47:19.558Z"
   },
   {
    "duration": 15,
    "start_time": "2022-06-14T09:47:19.590Z"
   },
   {
    "duration": 14,
    "start_time": "2022-06-14T09:47:19.607Z"
   },
   {
    "duration": 44,
    "start_time": "2022-06-14T09:47:19.623Z"
   },
   {
    "duration": 4,
    "start_time": "2022-06-14T09:47:19.669Z"
   },
   {
    "duration": 8,
    "start_time": "2022-06-14T09:47:19.675Z"
   },
   {
    "duration": 21,
    "start_time": "2022-06-14T09:47:19.685Z"
   },
   {
    "duration": 5,
    "start_time": "2022-06-14T09:47:19.708Z"
   },
   {
    "duration": 48,
    "start_time": "2022-06-14T09:47:19.714Z"
   },
   {
    "duration": 5,
    "start_time": "2022-06-14T09:47:19.763Z"
   },
   {
    "duration": 9,
    "start_time": "2022-06-14T09:47:19.771Z"
   },
   {
    "duration": 9,
    "start_time": "2022-06-14T09:47:19.782Z"
   },
   {
    "duration": 293,
    "start_time": "2022-06-14T09:47:19.793Z"
   },
   {
    "duration": 15,
    "start_time": "2022-06-14T09:47:20.087Z"
   },
   {
    "duration": 18,
    "start_time": "2022-06-14T09:47:20.103Z"
   },
   {
    "duration": 3,
    "start_time": "2022-06-14T09:47:20.122Z"
   },
   {
    "duration": 360,
    "start_time": "2022-06-14T09:47:20.127Z"
   },
   {
    "duration": 322,
    "start_time": "2022-06-14T09:47:20.489Z"
   },
   {
    "duration": 16,
    "start_time": "2022-06-14T09:47:20.814Z"
   },
   {
    "duration": 30,
    "start_time": "2022-06-14T09:47:20.831Z"
   },
   {
    "duration": 200,
    "start_time": "2022-06-14T09:47:20.863Z"
   },
   {
    "duration": 194,
    "start_time": "2022-06-14T09:47:21.064Z"
   },
   {
    "duration": 181,
    "start_time": "2022-06-14T09:47:21.260Z"
   },
   {
    "duration": 194,
    "start_time": "2022-06-14T09:47:21.443Z"
   },
   {
    "duration": 204,
    "start_time": "2022-06-14T09:47:21.639Z"
   },
   {
    "duration": 19,
    "start_time": "2022-06-14T09:47:21.845Z"
   },
   {
    "duration": 189,
    "start_time": "2022-06-14T09:47:21.866Z"
   },
   {
    "duration": 218,
    "start_time": "2022-06-14T09:47:22.056Z"
   },
   {
    "duration": 14,
    "start_time": "2022-06-14T09:47:22.276Z"
   },
   {
    "duration": 14,
    "start_time": "2022-06-14T09:47:22.291Z"
   },
   {
    "duration": 22,
    "start_time": "2022-06-14T09:47:22.306Z"
   },
   {
    "duration": 164,
    "start_time": "2022-06-14T09:47:22.330Z"
   },
   {
    "duration": 149,
    "start_time": "2022-06-14T09:47:22.495Z"
   },
   {
    "duration": 152,
    "start_time": "2022-06-14T09:47:22.645Z"
   },
   {
    "duration": 145,
    "start_time": "2022-06-14T09:47:22.799Z"
   },
   {
    "duration": 170,
    "start_time": "2022-06-14T09:47:22.946Z"
   },
   {
    "duration": 128,
    "start_time": "2022-06-14T09:47:23.118Z"
   },
   {
    "duration": 124,
    "start_time": "2022-06-14T09:47:23.262Z"
   },
   {
    "duration": 157,
    "start_time": "2022-06-14T09:47:23.388Z"
   },
   {
    "duration": 5,
    "start_time": "2022-06-14T09:47:23.546Z"
   },
   {
    "duration": 217,
    "start_time": "2022-06-14T09:47:23.558Z"
   },
   {
    "duration": 315,
    "start_time": "2022-06-14T09:47:23.777Z"
   },
   {
    "duration": 305,
    "start_time": "2022-06-14T09:47:24.094Z"
   },
   {
    "duration": 147,
    "start_time": "2022-06-14T09:47:24.401Z"
   },
   {
    "duration": 202,
    "start_time": "2022-06-14T09:47:24.550Z"
   },
   {
    "duration": 157,
    "start_time": "2022-06-14T09:47:24.754Z"
   },
   {
    "duration": 184,
    "start_time": "2022-06-14T09:47:24.912Z"
   },
   {
    "duration": 24,
    "start_time": "2022-06-14T09:47:25.098Z"
   },
   {
    "duration": 33,
    "start_time": "2022-06-14T09:47:25.123Z"
   },
   {
    "duration": 32,
    "start_time": "2022-06-14T09:47:25.159Z"
   },
   {
    "duration": 26,
    "start_time": "2022-06-14T09:47:25.193Z"
   },
   {
    "duration": 22,
    "start_time": "2022-06-14T09:47:25.221Z"
   },
   {
    "duration": 34,
    "start_time": "2022-06-14T09:47:25.245Z"
   },
   {
    "duration": 21,
    "start_time": "2022-06-14T09:47:25.281Z"
   },
   {
    "duration": 20,
    "start_time": "2022-06-14T09:47:25.304Z"
   },
   {
    "duration": 22,
    "start_time": "2022-06-14T09:47:25.326Z"
   },
   {
    "duration": 42,
    "start_time": "2022-06-14T09:47:25.349Z"
   },
   {
    "duration": 27,
    "start_time": "2022-06-14T09:47:25.392Z"
   },
   {
    "duration": 29,
    "start_time": "2022-06-14T09:47:25.420Z"
   },
   {
    "duration": 26,
    "start_time": "2022-06-14T09:47:25.451Z"
   },
   {
    "duration": 26,
    "start_time": "2022-06-14T09:47:25.479Z"
   },
   {
    "duration": 51,
    "start_time": "2022-06-14T09:47:25.507Z"
   },
   {
    "duration": 31,
    "start_time": "2022-06-14T09:47:25.559Z"
   },
   {
    "duration": 39,
    "start_time": "2022-06-14T09:47:25.592Z"
   },
   {
    "duration": 8,
    "start_time": "2022-06-14T09:47:25.632Z"
   },
   {
    "duration": 5,
    "start_time": "2022-06-14T09:54:48.312Z"
   },
   {
    "duration": 172,
    "start_time": "2022-06-14T09:54:50.524Z"
   },
   {
    "duration": 4,
    "start_time": "2022-06-14T09:55:19.161Z"
   },
   {
    "duration": 272,
    "start_time": "2022-06-14T09:55:20.105Z"
   },
   {
    "duration": 268,
    "start_time": "2022-06-14T09:55:30.776Z"
   },
   {
    "duration": 4,
    "start_time": "2022-06-14T09:55:41.721Z"
   },
   {
    "duration": 287,
    "start_time": "2022-06-14T09:55:42.730Z"
   },
   {
    "duration": 4,
    "start_time": "2022-06-14T09:55:56.816Z"
   },
   {
    "duration": 19,
    "start_time": "2022-06-14T09:55:57.404Z"
   },
   {
    "duration": 4,
    "start_time": "2022-06-14T09:57:32.773Z"
   },
   {
    "duration": 279,
    "start_time": "2022-06-14T09:57:33.547Z"
   },
   {
    "duration": 266,
    "start_time": "2022-06-14T09:57:49.724Z"
   },
   {
    "duration": 15,
    "start_time": "2022-06-14T09:57:53.276Z"
   },
   {
    "duration": 5,
    "start_time": "2022-06-14T09:58:50.855Z"
   },
   {
    "duration": 291,
    "start_time": "2022-06-14T09:58:52.632Z"
   },
   {
    "duration": 31,
    "start_time": "2022-06-14T10:00:50.321Z"
   },
   {
    "duration": 1071,
    "start_time": "2022-06-14T10:47:58.839Z"
   },
   {
    "duration": 65,
    "start_time": "2022-06-14T10:47:59.913Z"
   },
   {
    "duration": 15,
    "start_time": "2022-06-14T10:47:59.980Z"
   },
   {
    "duration": 35,
    "start_time": "2022-06-14T10:47:59.996Z"
   },
   {
    "duration": 39,
    "start_time": "2022-06-14T10:48:00.035Z"
   },
   {
    "duration": 15,
    "start_time": "2022-06-14T10:48:00.076Z"
   },
   {
    "duration": 47,
    "start_time": "2022-06-14T10:48:00.093Z"
   },
   {
    "duration": 6,
    "start_time": "2022-06-14T10:48:00.142Z"
   },
   {
    "duration": 46,
    "start_time": "2022-06-14T10:48:00.150Z"
   },
   {
    "duration": 51,
    "start_time": "2022-06-14T10:48:00.197Z"
   },
   {
    "duration": 5,
    "start_time": "2022-06-14T10:48:00.249Z"
   },
   {
    "duration": 41,
    "start_time": "2022-06-14T10:48:00.255Z"
   },
   {
    "duration": 12,
    "start_time": "2022-06-14T10:48:00.297Z"
   },
   {
    "duration": 24,
    "start_time": "2022-06-14T10:48:00.311Z"
   },
   {
    "duration": 39,
    "start_time": "2022-06-14T10:48:00.337Z"
   },
   {
    "duration": 322,
    "start_time": "2022-06-14T10:48:00.378Z"
   },
   {
    "duration": 13,
    "start_time": "2022-06-14T10:48:00.702Z"
   },
   {
    "duration": 38,
    "start_time": "2022-06-14T10:48:00.717Z"
   },
   {
    "duration": 19,
    "start_time": "2022-06-14T10:48:00.757Z"
   },
   {
    "duration": 354,
    "start_time": "2022-06-14T10:48:00.778Z"
   },
   {
    "duration": 322,
    "start_time": "2022-06-14T10:48:01.133Z"
   },
   {
    "duration": 17,
    "start_time": "2022-06-14T10:48:01.472Z"
   },
   {
    "duration": 24,
    "start_time": "2022-06-14T10:48:01.491Z"
   },
   {
    "duration": 201,
    "start_time": "2022-06-14T10:48:01.517Z"
   },
   {
    "duration": 216,
    "start_time": "2022-06-14T10:48:01.720Z"
   },
   {
    "duration": 210,
    "start_time": "2022-06-14T10:48:01.938Z"
   },
   {
    "duration": 189,
    "start_time": "2022-06-14T10:48:02.150Z"
   },
   {
    "duration": 201,
    "start_time": "2022-06-14T10:48:02.341Z"
   },
   {
    "duration": 29,
    "start_time": "2022-06-14T10:48:02.545Z"
   },
   {
    "duration": 203,
    "start_time": "2022-06-14T10:48:02.576Z"
   },
   {
    "duration": 255,
    "start_time": "2022-06-14T10:48:02.780Z"
   },
   {
    "duration": 33,
    "start_time": "2022-06-14T10:48:03.037Z"
   },
   {
    "duration": 19,
    "start_time": "2022-06-14T10:48:03.072Z"
   },
   {
    "duration": 13,
    "start_time": "2022-06-14T10:48:03.093Z"
   },
   {
    "duration": 162,
    "start_time": "2022-06-14T10:48:03.107Z"
   },
   {
    "duration": 156,
    "start_time": "2022-06-14T10:48:03.271Z"
   },
   {
    "duration": 156,
    "start_time": "2022-06-14T10:48:03.429Z"
   },
   {
    "duration": 156,
    "start_time": "2022-06-14T10:48:03.587Z"
   },
   {
    "duration": 156,
    "start_time": "2022-06-14T10:48:03.744Z"
   },
   {
    "duration": 134,
    "start_time": "2022-06-14T10:48:03.903Z"
   },
   {
    "duration": 145,
    "start_time": "2022-06-14T10:48:04.040Z"
   },
   {
    "duration": 159,
    "start_time": "2022-06-14T10:48:04.186Z"
   },
   {
    "duration": 16,
    "start_time": "2022-06-14T10:48:04.346Z"
   },
   {
    "duration": 190,
    "start_time": "2022-06-14T10:48:04.363Z"
   },
   {
    "duration": 164,
    "start_time": "2022-06-14T10:48:04.558Z"
   },
   {
    "duration": 279,
    "start_time": "2022-06-14T10:48:04.723Z"
   },
   {
    "duration": 162,
    "start_time": "2022-06-14T10:48:05.004Z"
   },
   {
    "duration": 181,
    "start_time": "2022-06-14T10:48:05.173Z"
   },
   {
    "duration": 150,
    "start_time": "2022-06-14T10:48:05.359Z"
   },
   {
    "duration": 184,
    "start_time": "2022-06-14T10:48:05.510Z"
   },
   {
    "duration": 23,
    "start_time": "2022-06-14T10:48:05.696Z"
   },
   {
    "duration": 15,
    "start_time": "2022-06-14T10:48:05.721Z"
   },
   {
    "duration": 43,
    "start_time": "2022-06-14T10:48:05.738Z"
   },
   {
    "duration": 14,
    "start_time": "2022-06-14T10:48:05.782Z"
   },
   {
    "duration": 13,
    "start_time": "2022-06-14T10:48:05.798Z"
   },
   {
    "duration": 12,
    "start_time": "2022-06-14T10:48:05.813Z"
   },
   {
    "duration": 46,
    "start_time": "2022-06-14T10:48:05.827Z"
   },
   {
    "duration": 22,
    "start_time": "2022-06-14T10:48:05.874Z"
   },
   {
    "duration": 13,
    "start_time": "2022-06-14T10:48:05.897Z"
   },
   {
    "duration": 19,
    "start_time": "2022-06-14T10:48:05.911Z"
   },
   {
    "duration": 13,
    "start_time": "2022-06-14T10:48:05.932Z"
   },
   {
    "duration": 41,
    "start_time": "2022-06-14T10:48:05.947Z"
   },
   {
    "duration": 13,
    "start_time": "2022-06-14T10:48:05.989Z"
   },
   {
    "duration": 15,
    "start_time": "2022-06-14T10:48:06.003Z"
   },
   {
    "duration": 37,
    "start_time": "2022-06-14T10:48:06.019Z"
   },
   {
    "duration": 25,
    "start_time": "2022-06-14T10:48:06.057Z"
   },
   {
    "duration": 7,
    "start_time": "2022-06-14T10:48:06.084Z"
   },
   {
    "duration": 8,
    "start_time": "2022-06-14T10:48:06.093Z"
   },
   {
    "duration": 150,
    "start_time": "2022-06-14T10:49:50.054Z"
   },
   {
    "duration": 130,
    "start_time": "2022-06-14T10:50:10.931Z"
   },
   {
    "duration": 115,
    "start_time": "2022-06-14T10:50:16.729Z"
   },
   {
    "duration": 165,
    "start_time": "2022-06-14T10:52:06.295Z"
   },
   {
    "duration": 6,
    "start_time": "2022-06-14T10:52:09.346Z"
   },
   {
    "duration": 201,
    "start_time": "2022-06-14T10:52:09.977Z"
   },
   {
    "duration": 151,
    "start_time": "2022-06-14T10:52:12.533Z"
   },
   {
    "duration": 290,
    "start_time": "2022-06-14T10:52:14.518Z"
   },
   {
    "duration": 146,
    "start_time": "2022-06-14T10:52:15.001Z"
   },
   {
    "duration": 196,
    "start_time": "2022-06-14T10:52:16.228Z"
   },
   {
    "duration": 156,
    "start_time": "2022-06-14T10:52:16.895Z"
   },
   {
    "duration": 156,
    "start_time": "2022-06-14T10:52:41.428Z"
   },
   {
    "duration": 191,
    "start_time": "2022-06-14T10:53:11.787Z"
   },
   {
    "duration": 168,
    "start_time": "2022-06-14T10:53:34.331Z"
   },
   {
    "duration": 210,
    "start_time": "2022-06-14T10:53:56.277Z"
   },
   {
    "duration": 17,
    "start_time": "2022-06-14T10:54:39.818Z"
   },
   {
    "duration": 16,
    "start_time": "2022-06-14T10:56:02.687Z"
   },
   {
    "duration": 16,
    "start_time": "2022-06-14T10:56:08.976Z"
   },
   {
    "duration": 106,
    "start_time": "2022-06-14T10:57:59.167Z"
   },
   {
    "duration": 20,
    "start_time": "2022-06-14T10:58:24.399Z"
   },
   {
    "duration": 1058,
    "start_time": "2022-06-14T10:58:27.840Z"
   },
   {
    "duration": 75,
    "start_time": "2022-06-14T10:58:28.900Z"
   },
   {
    "duration": 16,
    "start_time": "2022-06-14T10:58:28.977Z"
   },
   {
    "duration": 27,
    "start_time": "2022-06-14T10:58:28.996Z"
   },
   {
    "duration": 17,
    "start_time": "2022-06-14T10:58:29.025Z"
   },
   {
    "duration": 30,
    "start_time": "2022-06-14T10:58:29.044Z"
   },
   {
    "duration": 14,
    "start_time": "2022-06-14T10:58:29.076Z"
   },
   {
    "duration": 4,
    "start_time": "2022-06-14T10:58:29.091Z"
   },
   {
    "duration": 11,
    "start_time": "2022-06-14T10:58:29.097Z"
   },
   {
    "duration": 20,
    "start_time": "2022-06-14T10:58:29.111Z"
   },
   {
    "duration": 4,
    "start_time": "2022-06-14T10:58:29.133Z"
   },
   {
    "duration": 18,
    "start_time": "2022-06-14T10:58:29.167Z"
   },
   {
    "duration": 5,
    "start_time": "2022-06-14T10:58:29.186Z"
   },
   {
    "duration": 8,
    "start_time": "2022-06-14T10:58:29.193Z"
   },
   {
    "duration": 6,
    "start_time": "2022-06-14T10:58:29.203Z"
   },
   {
    "duration": 282,
    "start_time": "2022-06-14T10:58:29.211Z"
   },
   {
    "duration": 12,
    "start_time": "2022-06-14T10:58:29.495Z"
   },
   {
    "duration": 16,
    "start_time": "2022-06-14T10:58:29.508Z"
   },
   {
    "duration": 3,
    "start_time": "2022-06-14T10:58:29.525Z"
   },
   {
    "duration": 348,
    "start_time": "2022-06-14T10:58:29.529Z"
   },
   {
    "duration": 327,
    "start_time": "2022-06-14T10:58:29.878Z"
   },
   {
    "duration": 16,
    "start_time": "2022-06-14T10:58:30.207Z"
   },
   {
    "duration": 18,
    "start_time": "2022-06-14T10:58:30.224Z"
   },
   {
    "duration": 206,
    "start_time": "2022-06-14T10:58:30.259Z"
   },
   {
    "duration": 208,
    "start_time": "2022-06-14T10:58:30.467Z"
   },
   {
    "duration": 208,
    "start_time": "2022-06-14T10:58:30.677Z"
   },
   {
    "duration": 197,
    "start_time": "2022-06-14T10:58:30.886Z"
   },
   {
    "duration": 187,
    "start_time": "2022-06-14T10:58:31.087Z"
   },
   {
    "duration": 22,
    "start_time": "2022-06-14T10:58:31.275Z"
   },
   {
    "duration": 202,
    "start_time": "2022-06-14T10:58:31.298Z"
   },
   {
    "duration": 241,
    "start_time": "2022-06-14T10:58:31.502Z"
   },
   {
    "duration": 29,
    "start_time": "2022-06-14T10:58:31.745Z"
   },
   {
    "duration": 19,
    "start_time": "2022-06-14T10:58:31.776Z"
   },
   {
    "duration": 24,
    "start_time": "2022-06-14T10:58:31.796Z"
   },
   {
    "duration": 194,
    "start_time": "2022-06-14T10:58:31.822Z"
   },
   {
    "duration": 147,
    "start_time": "2022-06-14T10:58:32.018Z"
   },
   {
    "duration": 141,
    "start_time": "2022-06-14T10:58:32.167Z"
   },
   {
    "duration": 143,
    "start_time": "2022-06-14T10:58:32.310Z"
   },
   {
    "duration": 148,
    "start_time": "2022-06-14T10:58:32.458Z"
   },
   {
    "duration": 126,
    "start_time": "2022-06-14T10:58:32.607Z"
   },
   {
    "duration": 148,
    "start_time": "2022-06-14T10:58:32.735Z"
   },
   {
    "duration": 135,
    "start_time": "2022-06-14T10:58:32.885Z"
   },
   {
    "duration": 175,
    "start_time": "2022-06-14T10:58:33.021Z"
   },
   {
    "duration": 4,
    "start_time": "2022-06-14T10:58:33.198Z"
   },
   {
    "duration": 196,
    "start_time": "2022-06-14T10:58:33.204Z"
   },
   {
    "duration": 230,
    "start_time": "2022-06-14T10:58:33.401Z"
   },
   {
    "duration": 187,
    "start_time": "2022-06-14T10:58:33.633Z"
   },
   {
    "duration": 148,
    "start_time": "2022-06-14T10:58:33.822Z"
   },
   {
    "duration": 190,
    "start_time": "2022-06-14T10:58:33.972Z"
   },
   {
    "duration": 139,
    "start_time": "2022-06-14T10:58:34.164Z"
   },
   {
    "duration": 192,
    "start_time": "2022-06-14T10:58:34.305Z"
   },
   {
    "duration": 150,
    "start_time": "2022-06-14T10:58:34.499Z"
   },
   {
    "duration": 174,
    "start_time": "2022-06-14T10:58:34.650Z"
   },
   {
    "duration": 147,
    "start_time": "2022-06-14T10:58:34.826Z"
   },
   {
    "duration": 201,
    "start_time": "2022-06-14T10:58:34.975Z"
   },
   {
    "duration": 17,
    "start_time": "2022-06-14T10:58:35.178Z"
   },
   {
    "duration": 20,
    "start_time": "2022-06-14T10:58:35.196Z"
   },
   {
    "duration": 17,
    "start_time": "2022-06-14T10:58:35.217Z"
   },
   {
    "duration": 125,
    "start_time": "2022-06-14T10:58:35.236Z"
   },
   {
    "duration": 0,
    "start_time": "2022-06-14T10:58:35.363Z"
   },
   {
    "duration": 0,
    "start_time": "2022-06-14T10:58:35.369Z"
   },
   {
    "duration": 1,
    "start_time": "2022-06-14T10:58:35.369Z"
   },
   {
    "duration": 0,
    "start_time": "2022-06-14T10:58:35.370Z"
   },
   {
    "duration": 0,
    "start_time": "2022-06-14T10:58:35.371Z"
   },
   {
    "duration": 0,
    "start_time": "2022-06-14T10:58:35.371Z"
   },
   {
    "duration": 0,
    "start_time": "2022-06-14T10:58:35.372Z"
   },
   {
    "duration": 0,
    "start_time": "2022-06-14T10:58:35.372Z"
   },
   {
    "duration": 0,
    "start_time": "2022-06-14T10:58:35.374Z"
   },
   {
    "duration": 0,
    "start_time": "2022-06-14T10:58:35.377Z"
   },
   {
    "duration": 0,
    "start_time": "2022-06-14T10:58:35.378Z"
   },
   {
    "duration": 1,
    "start_time": "2022-06-14T10:58:35.379Z"
   },
   {
    "duration": 0,
    "start_time": "2022-06-14T10:58:35.381Z"
   },
   {
    "duration": 0,
    "start_time": "2022-06-14T10:58:35.382Z"
   },
   {
    "duration": 0,
    "start_time": "2022-06-14T10:58:35.384Z"
   },
   {
    "duration": 21,
    "start_time": "2022-06-14T10:59:31.651Z"
   },
   {
    "duration": 23,
    "start_time": "2022-06-14T10:59:37.883Z"
   },
   {
    "duration": 1090,
    "start_time": "2022-06-14T11:01:31.502Z"
   },
   {
    "duration": 76,
    "start_time": "2022-06-14T11:01:32.595Z"
   },
   {
    "duration": 22,
    "start_time": "2022-06-14T11:01:32.673Z"
   },
   {
    "duration": 31,
    "start_time": "2022-06-14T11:01:32.697Z"
   },
   {
    "duration": 35,
    "start_time": "2022-06-14T11:01:32.730Z"
   },
   {
    "duration": 20,
    "start_time": "2022-06-14T11:01:32.768Z"
   },
   {
    "duration": 23,
    "start_time": "2022-06-14T11:01:32.790Z"
   },
   {
    "duration": 5,
    "start_time": "2022-06-14T11:01:32.816Z"
   },
   {
    "duration": 9,
    "start_time": "2022-06-14T11:01:32.823Z"
   },
   {
    "duration": 45,
    "start_time": "2022-06-14T11:01:32.835Z"
   },
   {
    "duration": 4,
    "start_time": "2022-06-14T11:01:32.882Z"
   },
   {
    "duration": 18,
    "start_time": "2022-06-14T11:01:32.888Z"
   },
   {
    "duration": 6,
    "start_time": "2022-06-14T11:01:32.907Z"
   },
   {
    "duration": 9,
    "start_time": "2022-06-14T11:01:32.914Z"
   },
   {
    "duration": 21,
    "start_time": "2022-06-14T11:01:32.926Z"
   },
   {
    "duration": 326,
    "start_time": "2022-06-14T11:01:32.949Z"
   },
   {
    "duration": 18,
    "start_time": "2022-06-14T11:01:33.277Z"
   },
   {
    "duration": 18,
    "start_time": "2022-06-14T11:01:33.297Z"
   },
   {
    "duration": 3,
    "start_time": "2022-06-14T11:01:33.317Z"
   },
   {
    "duration": 402,
    "start_time": "2022-06-14T11:01:33.322Z"
   },
   {
    "duration": 323,
    "start_time": "2022-06-14T11:01:33.726Z"
   },
   {
    "duration": 26,
    "start_time": "2022-06-14T11:01:34.051Z"
   },
   {
    "duration": 26,
    "start_time": "2022-06-14T11:01:34.079Z"
   },
   {
    "duration": 204,
    "start_time": "2022-06-14T11:01:34.107Z"
   },
   {
    "duration": 219,
    "start_time": "2022-06-14T11:01:34.313Z"
   },
   {
    "duration": 197,
    "start_time": "2022-06-14T11:01:34.534Z"
   },
   {
    "duration": 209,
    "start_time": "2022-06-14T11:01:34.733Z"
   },
   {
    "duration": 203,
    "start_time": "2022-06-14T11:01:34.946Z"
   },
   {
    "duration": 30,
    "start_time": "2022-06-14T11:01:35.151Z"
   },
   {
    "duration": 204,
    "start_time": "2022-06-14T11:01:35.183Z"
   },
   {
    "duration": 239,
    "start_time": "2022-06-14T11:01:35.389Z"
   },
   {
    "duration": 13,
    "start_time": "2022-06-14T11:01:35.630Z"
   },
   {
    "duration": 55,
    "start_time": "2022-06-14T11:01:35.645Z"
   },
   {
    "duration": 17,
    "start_time": "2022-06-14T11:01:35.701Z"
   },
   {
    "duration": 138,
    "start_time": "2022-06-14T11:01:35.720Z"
   },
   {
    "duration": 141,
    "start_time": "2022-06-14T11:01:35.860Z"
   },
   {
    "duration": 146,
    "start_time": "2022-06-14T11:01:36.003Z"
   },
   {
    "duration": 148,
    "start_time": "2022-06-14T11:01:36.151Z"
   },
   {
    "duration": 155,
    "start_time": "2022-06-14T11:01:36.301Z"
   },
   {
    "duration": 129,
    "start_time": "2022-06-14T11:01:36.467Z"
   },
   {
    "duration": 137,
    "start_time": "2022-06-14T11:01:36.597Z"
   },
   {
    "duration": 123,
    "start_time": "2022-06-14T11:01:36.736Z"
   },
   {
    "duration": 158,
    "start_time": "2022-06-14T11:01:36.860Z"
   },
   {
    "duration": 4,
    "start_time": "2022-06-14T11:01:37.020Z"
   },
   {
    "duration": 208,
    "start_time": "2022-06-14T11:01:37.026Z"
   },
   {
    "duration": 279,
    "start_time": "2022-06-14T11:01:37.236Z"
   },
   {
    "duration": 200,
    "start_time": "2022-06-14T11:01:37.517Z"
   },
   {
    "duration": 159,
    "start_time": "2022-06-14T11:01:37.719Z"
   },
   {
    "duration": 196,
    "start_time": "2022-06-14T11:01:37.880Z"
   },
   {
    "duration": 149,
    "start_time": "2022-06-14T11:01:38.077Z"
   },
   {
    "duration": 190,
    "start_time": "2022-06-14T11:01:38.228Z"
   },
   {
    "duration": 186,
    "start_time": "2022-06-14T11:01:38.419Z"
   },
   {
    "duration": 200,
    "start_time": "2022-06-14T11:01:38.607Z"
   },
   {
    "duration": 145,
    "start_time": "2022-06-14T11:01:38.809Z"
   },
   {
    "duration": 180,
    "start_time": "2022-06-14T11:01:38.959Z"
   },
   {
    "duration": 31,
    "start_time": "2022-06-14T11:01:39.140Z"
   },
   {
    "duration": 17,
    "start_time": "2022-06-14T11:01:39.173Z"
   },
   {
    "duration": 16,
    "start_time": "2022-06-14T11:01:39.191Z"
   },
   {
    "duration": 13,
    "start_time": "2022-06-14T11:01:39.209Z"
   },
   {
    "duration": 17,
    "start_time": "2022-06-14T11:01:39.224Z"
   },
   {
    "duration": 30,
    "start_time": "2022-06-14T11:01:39.242Z"
   },
   {
    "duration": 16,
    "start_time": "2022-06-14T11:01:39.274Z"
   },
   {
    "duration": 16,
    "start_time": "2022-06-14T11:01:39.291Z"
   },
   {
    "duration": 12,
    "start_time": "2022-06-14T11:01:39.309Z"
   },
   {
    "duration": 13,
    "start_time": "2022-06-14T11:01:39.322Z"
   },
   {
    "duration": 34,
    "start_time": "2022-06-14T11:01:39.336Z"
   },
   {
    "duration": 18,
    "start_time": "2022-06-14T11:01:39.373Z"
   },
   {
    "duration": 21,
    "start_time": "2022-06-14T11:01:39.392Z"
   },
   {
    "duration": 13,
    "start_time": "2022-06-14T11:01:39.415Z"
   },
   {
    "duration": 37,
    "start_time": "2022-06-14T11:01:39.429Z"
   },
   {
    "duration": 9,
    "start_time": "2022-06-14T11:01:39.467Z"
   },
   {
    "duration": 13,
    "start_time": "2022-06-14T11:01:39.478Z"
   },
   {
    "duration": 9,
    "start_time": "2022-06-14T11:01:39.493Z"
   },
   {
    "duration": 9,
    "start_time": "2022-06-14T11:09:23.325Z"
   },
   {
    "duration": 8,
    "start_time": "2022-06-14T11:09:28.360Z"
   },
   {
    "duration": 5,
    "start_time": "2022-06-14T11:09:44.997Z"
   },
   {
    "duration": 49,
    "start_time": "2022-06-14T20:34:15.033Z"
   },
   {
    "duration": 25,
    "start_time": "2022-06-14T20:35:11.942Z"
   },
   {
    "duration": 55,
    "start_time": "2022-06-15T10:01:05.536Z"
   },
   {
    "duration": 8,
    "start_time": "2022-06-15T10:01:55.449Z"
   },
   {
    "duration": 1361,
    "start_time": "2022-06-15T10:03:04.141Z"
   },
   {
    "duration": 113,
    "start_time": "2022-06-15T10:03:05.504Z"
   },
   {
    "duration": 27,
    "start_time": "2022-06-15T10:03:05.619Z"
   },
   {
    "duration": 28,
    "start_time": "2022-06-15T10:03:05.648Z"
   },
   {
    "duration": 16,
    "start_time": "2022-06-15T10:03:05.678Z"
   },
   {
    "duration": 15,
    "start_time": "2022-06-15T10:03:05.697Z"
   },
   {
    "duration": 37,
    "start_time": "2022-06-15T10:03:05.734Z"
   },
   {
    "duration": 29,
    "start_time": "2022-06-15T10:03:05.772Z"
   },
   {
    "duration": 11,
    "start_time": "2022-06-15T10:03:05.803Z"
   },
   {
    "duration": 33,
    "start_time": "2022-06-15T10:03:05.816Z"
   },
   {
    "duration": 7,
    "start_time": "2022-06-15T10:03:05.851Z"
   },
   {
    "duration": 26,
    "start_time": "2022-06-15T10:03:05.859Z"
   },
   {
    "duration": 6,
    "start_time": "2022-06-15T10:03:05.886Z"
   },
   {
    "duration": 8,
    "start_time": "2022-06-15T10:03:05.894Z"
   },
   {
    "duration": 11,
    "start_time": "2022-06-15T10:03:05.904Z"
   },
   {
    "duration": 295,
    "start_time": "2022-06-15T10:03:05.926Z"
   },
   {
    "duration": 26,
    "start_time": "2022-06-15T10:03:06.225Z"
   },
   {
    "duration": 20,
    "start_time": "2022-06-15T10:03:06.253Z"
   },
   {
    "duration": 4,
    "start_time": "2022-06-15T10:03:06.274Z"
   },
   {
    "duration": 392,
    "start_time": "2022-06-15T10:03:06.279Z"
   },
   {
    "duration": 364,
    "start_time": "2022-06-15T10:03:06.673Z"
   },
   {
    "duration": 18,
    "start_time": "2022-06-15T10:03:07.039Z"
   },
   {
    "duration": 19,
    "start_time": "2022-06-15T10:03:07.059Z"
   },
   {
    "duration": 232,
    "start_time": "2022-06-15T10:03:07.079Z"
   },
   {
    "duration": 223,
    "start_time": "2022-06-15T10:03:07.313Z"
   },
   {
    "duration": 202,
    "start_time": "2022-06-15T10:03:07.537Z"
   },
   {
    "duration": 218,
    "start_time": "2022-06-15T10:03:07.741Z"
   },
   {
    "duration": 210,
    "start_time": "2022-06-15T10:03:07.961Z"
   },
   {
    "duration": 16,
    "start_time": "2022-06-15T10:03:08.173Z"
   },
   {
    "duration": 213,
    "start_time": "2022-06-15T10:03:08.190Z"
   },
   {
    "duration": 245,
    "start_time": "2022-06-15T10:03:08.404Z"
   },
   {
    "duration": 16,
    "start_time": "2022-06-15T10:03:08.650Z"
   },
   {
    "duration": 13,
    "start_time": "2022-06-15T10:03:08.668Z"
   },
   {
    "duration": 11,
    "start_time": "2022-06-15T10:03:08.683Z"
   },
   {
    "duration": 188,
    "start_time": "2022-06-15T10:03:08.696Z"
   },
   {
    "duration": 165,
    "start_time": "2022-06-15T10:03:08.886Z"
   },
   {
    "duration": 161,
    "start_time": "2022-06-15T10:03:09.053Z"
   },
   {
    "duration": 177,
    "start_time": "2022-06-15T10:03:09.215Z"
   },
   {
    "duration": 177,
    "start_time": "2022-06-15T10:03:09.393Z"
   },
   {
    "duration": 168,
    "start_time": "2022-06-15T10:03:09.572Z"
   },
   {
    "duration": 150,
    "start_time": "2022-06-15T10:03:09.746Z"
   },
   {
    "duration": 139,
    "start_time": "2022-06-15T10:03:09.898Z"
   },
   {
    "duration": 174,
    "start_time": "2022-06-15T10:03:10.039Z"
   },
   {
    "duration": 5,
    "start_time": "2022-06-15T10:03:10.214Z"
   },
   {
    "duration": 240,
    "start_time": "2022-06-15T10:03:10.221Z"
   },
   {
    "duration": 252,
    "start_time": "2022-06-15T10:03:10.463Z"
   },
   {
    "duration": 202,
    "start_time": "2022-06-15T10:03:10.717Z"
   },
   {
    "duration": 174,
    "start_time": "2022-06-15T10:03:10.920Z"
   },
   {
    "duration": 241,
    "start_time": "2022-06-15T10:03:11.095Z"
   },
   {
    "duration": 158,
    "start_time": "2022-06-15T10:03:11.339Z"
   },
   {
    "duration": 214,
    "start_time": "2022-06-15T10:03:11.499Z"
   },
   {
    "duration": 162,
    "start_time": "2022-06-15T10:03:11.714Z"
   },
   {
    "duration": 196,
    "start_time": "2022-06-15T10:03:11.878Z"
   },
   {
    "duration": 165,
    "start_time": "2022-06-15T10:03:12.075Z"
   },
   {
    "duration": 207,
    "start_time": "2022-06-15T10:03:12.243Z"
   },
   {
    "duration": 16,
    "start_time": "2022-06-15T10:03:12.452Z"
   },
   {
    "duration": 20,
    "start_time": "2022-06-15T10:03:12.469Z"
   },
   {
    "duration": 17,
    "start_time": "2022-06-15T10:03:12.491Z"
   },
   {
    "duration": 36,
    "start_time": "2022-06-15T10:03:12.510Z"
   },
   {
    "duration": 20,
    "start_time": "2022-06-15T10:03:12.548Z"
   },
   {
    "duration": 15,
    "start_time": "2022-06-15T10:03:12.569Z"
   },
   {
    "duration": 24,
    "start_time": "2022-06-15T10:03:12.586Z"
   },
   {
    "duration": 34,
    "start_time": "2022-06-15T10:03:12.612Z"
   },
   {
    "duration": 16,
    "start_time": "2022-06-15T10:03:12.648Z"
   },
   {
    "duration": 20,
    "start_time": "2022-06-15T10:03:12.666Z"
   },
   {
    "duration": 17,
    "start_time": "2022-06-15T10:03:12.688Z"
   },
   {
    "duration": 25,
    "start_time": "2022-06-15T10:03:12.707Z"
   },
   {
    "duration": 17,
    "start_time": "2022-06-15T10:03:12.733Z"
   },
   {
    "duration": 18,
    "start_time": "2022-06-15T10:03:12.752Z"
   },
   {
    "duration": 18,
    "start_time": "2022-06-15T10:03:12.771Z"
   },
   {
    "duration": 12,
    "start_time": "2022-06-15T10:03:12.791Z"
   },
   {
    "duration": 39,
    "start_time": "2022-06-15T10:03:12.804Z"
   },
   {
    "duration": 13,
    "start_time": "2022-06-15T10:03:12.845Z"
   },
   {
    "duration": 15,
    "start_time": "2022-06-15T10:04:35.606Z"
   },
   {
    "duration": 14,
    "start_time": "2022-06-15T10:05:23.583Z"
   },
   {
    "duration": 17,
    "start_time": "2022-06-15T10:05:32.240Z"
   },
   {
    "duration": 15,
    "start_time": "2022-06-15T10:05:53.341Z"
   },
   {
    "duration": 311,
    "start_time": "2022-06-15T10:06:09.805Z"
   },
   {
    "duration": 16,
    "start_time": "2022-06-15T10:06:17.661Z"
   },
   {
    "duration": 336,
    "start_time": "2022-06-15T10:07:21.385Z"
   },
   {
    "duration": 23,
    "start_time": "2022-06-15T10:07:22.815Z"
   },
   {
    "duration": 321,
    "start_time": "2022-06-15T10:07:35.617Z"
   },
   {
    "duration": 321,
    "start_time": "2022-06-15T10:08:42.023Z"
   },
   {
    "duration": 15,
    "start_time": "2022-06-15T10:08:43.652Z"
   },
   {
    "duration": 16,
    "start_time": "2022-06-15T10:08:47.952Z"
   },
   {
    "duration": 17,
    "start_time": "2022-06-15T10:09:28.189Z"
   },
   {
    "duration": 9,
    "start_time": "2022-06-15T10:09:31.727Z"
   },
   {
    "duration": 470,
    "start_time": "2022-06-15T10:09:34.045Z"
   },
   {
    "duration": 345,
    "start_time": "2022-06-15T10:09:36.926Z"
   },
   {
    "duration": 21,
    "start_time": "2022-06-15T10:09:39.785Z"
   },
   {
    "duration": 27,
    "start_time": "2022-06-15T10:09:45.115Z"
   },
   {
    "duration": 204,
    "start_time": "2022-06-15T10:09:59.401Z"
   },
   {
    "duration": 221,
    "start_time": "2022-06-15T10:10:03.842Z"
   },
   {
    "duration": 212,
    "start_time": "2022-06-15T10:10:08.203Z"
   },
   {
    "duration": 228,
    "start_time": "2022-06-15T10:10:09.653Z"
   },
   {
    "duration": 197,
    "start_time": "2022-06-15T10:10:11.287Z"
   },
   {
    "duration": 26,
    "start_time": "2022-06-15T10:10:14.388Z"
   },
   {
    "duration": 196,
    "start_time": "2022-06-15T10:10:15.904Z"
   },
   {
    "duration": 173,
    "start_time": "2022-06-15T10:10:17.607Z"
   },
   {
    "duration": 24,
    "start_time": "2022-06-15T10:10:21.114Z"
   },
   {
    "duration": 17,
    "start_time": "2022-06-15T10:10:29.239Z"
   },
   {
    "duration": 13,
    "start_time": "2022-06-15T10:10:32.960Z"
   },
   {
    "duration": 169,
    "start_time": "2022-06-15T10:10:36.297Z"
   },
   {
    "duration": 256,
    "start_time": "2022-06-15T10:10:38.205Z"
   },
   {
    "duration": 151,
    "start_time": "2022-06-15T10:10:39.542Z"
   },
   {
    "duration": 153,
    "start_time": "2022-06-15T10:10:40.499Z"
   },
   {
    "duration": 153,
    "start_time": "2022-06-15T10:10:41.652Z"
   },
   {
    "duration": 137,
    "start_time": "2022-06-15T10:10:44.853Z"
   },
   {
    "duration": 148,
    "start_time": "2022-06-15T10:10:50.402Z"
   },
   {
    "duration": 135,
    "start_time": "2022-06-15T10:10:51.817Z"
   },
   {
    "duration": 161,
    "start_time": "2022-06-15T10:10:57.709Z"
   },
   {
    "duration": 120,
    "start_time": "2022-06-15T10:11:23.274Z"
   },
   {
    "duration": 165,
    "start_time": "2022-06-15T10:11:28.688Z"
   },
   {
    "duration": 5,
    "start_time": "2022-06-15T10:12:20.518Z"
   },
   {
    "duration": 194,
    "start_time": "2022-06-15T10:12:21.641Z"
   },
   {
    "duration": 199,
    "start_time": "2022-06-15T10:12:34.004Z"
   },
   {
    "duration": 224,
    "start_time": "2022-06-15T10:12:57.641Z"
   },
   {
    "duration": 196,
    "start_time": "2022-06-15T10:13:05.598Z"
   },
   {
    "duration": 183,
    "start_time": "2022-06-15T10:13:18.398Z"
   },
   {
    "duration": 170,
    "start_time": "2022-06-15T10:13:41.365Z"
   },
   {
    "duration": 197,
    "start_time": "2022-06-15T10:13:47.586Z"
   },
   {
    "duration": 178,
    "start_time": "2022-06-15T10:14:02.097Z"
   },
   {
    "duration": 207,
    "start_time": "2022-06-15T10:14:08.164Z"
   },
   {
    "duration": 166,
    "start_time": "2022-06-15T10:14:35.823Z"
   },
   {
    "duration": 199,
    "start_time": "2022-06-15T10:14:38.149Z"
   },
   {
    "duration": 149,
    "start_time": "2022-06-15T10:14:53.538Z"
   },
   {
    "duration": 212,
    "start_time": "2022-06-15T10:15:05.361Z"
   },
   {
    "duration": 306,
    "start_time": "2022-06-15T10:15:52.520Z"
   },
   {
    "duration": 226,
    "start_time": "2022-06-15T10:16:01.090Z"
   },
   {
    "duration": 194,
    "start_time": "2022-06-15T10:16:08.993Z"
   },
   {
    "duration": 219,
    "start_time": "2022-06-15T10:16:16.722Z"
   },
   {
    "duration": 203,
    "start_time": "2022-06-15T10:16:36.418Z"
   },
   {
    "duration": 204,
    "start_time": "2022-06-15T10:16:44.171Z"
   },
   {
    "duration": 200,
    "start_time": "2022-06-15T10:16:58.493Z"
   },
   {
    "duration": 229,
    "start_time": "2022-06-15T10:17:08.127Z"
   },
   {
    "duration": 193,
    "start_time": "2022-06-15T10:17:22.849Z"
   },
   {
    "duration": 237,
    "start_time": "2022-06-15T10:17:33.200Z"
   },
   {
    "duration": 18,
    "start_time": "2022-06-15T10:17:40.344Z"
   },
   {
    "duration": 17,
    "start_time": "2022-06-15T10:17:42.368Z"
   },
   {
    "duration": 15,
    "start_time": "2022-06-15T10:19:05.739Z"
   },
   {
    "duration": 15,
    "start_time": "2022-06-15T10:19:20.951Z"
   },
   {
    "duration": 16,
    "start_time": "2022-06-15T10:19:51.364Z"
   },
   {
    "duration": 1243,
    "start_time": "2022-06-15T10:22:13.327Z"
   },
   {
    "duration": 82,
    "start_time": "2022-06-15T10:22:14.572Z"
   },
   {
    "duration": 21,
    "start_time": "2022-06-15T10:22:14.656Z"
   },
   {
    "duration": 63,
    "start_time": "2022-06-15T10:22:14.681Z"
   },
   {
    "duration": 24,
    "start_time": "2022-06-15T10:22:14.747Z"
   },
   {
    "duration": 19,
    "start_time": "2022-06-15T10:22:14.772Z"
   },
   {
    "duration": 30,
    "start_time": "2022-06-15T10:22:14.793Z"
   },
   {
    "duration": 19,
    "start_time": "2022-06-15T10:22:14.826Z"
   },
   {
    "duration": 16,
    "start_time": "2022-06-15T10:22:14.847Z"
   },
   {
    "duration": 37,
    "start_time": "2022-06-15T10:22:14.867Z"
   },
   {
    "duration": 6,
    "start_time": "2022-06-15T10:22:14.905Z"
   },
   {
    "duration": 28,
    "start_time": "2022-06-15T10:22:14.912Z"
   },
   {
    "duration": 5,
    "start_time": "2022-06-15T10:22:14.942Z"
   },
   {
    "duration": 7,
    "start_time": "2022-06-15T10:22:14.949Z"
   },
   {
    "duration": 16,
    "start_time": "2022-06-15T10:22:14.957Z"
   },
   {
    "duration": 325,
    "start_time": "2022-06-15T10:22:14.975Z"
   },
   {
    "duration": 15,
    "start_time": "2022-06-15T10:22:15.302Z"
   },
   {
    "duration": 23,
    "start_time": "2022-06-15T10:22:15.332Z"
   },
   {
    "duration": 12,
    "start_time": "2022-06-15T10:22:15.357Z"
   },
   {
    "duration": 373,
    "start_time": "2022-06-15T10:22:15.371Z"
   },
   {
    "duration": 362,
    "start_time": "2022-06-15T10:22:15.746Z"
   },
   {
    "duration": 30,
    "start_time": "2022-06-15T10:22:16.110Z"
   },
   {
    "duration": 20,
    "start_time": "2022-06-15T10:22:16.141Z"
   },
   {
    "duration": 231,
    "start_time": "2022-06-15T10:22:16.163Z"
   },
   {
    "duration": 252,
    "start_time": "2022-06-15T10:22:16.395Z"
   },
   {
    "duration": 223,
    "start_time": "2022-06-15T10:22:16.650Z"
   },
   {
    "duration": 232,
    "start_time": "2022-06-15T10:22:16.875Z"
   },
   {
    "duration": 232,
    "start_time": "2022-06-15T10:22:17.114Z"
   },
   {
    "duration": 19,
    "start_time": "2022-06-15T10:22:17.347Z"
   },
   {
    "duration": 213,
    "start_time": "2022-06-15T10:22:17.368Z"
   },
   {
    "duration": 274,
    "start_time": "2022-06-15T10:22:17.583Z"
   },
   {
    "duration": 17,
    "start_time": "2022-06-15T10:22:17.859Z"
   },
   {
    "duration": 16,
    "start_time": "2022-06-15T10:22:17.877Z"
   },
   {
    "duration": 37,
    "start_time": "2022-06-15T10:22:17.894Z"
   },
   {
    "duration": 169,
    "start_time": "2022-06-15T10:22:17.933Z"
   },
   {
    "duration": 166,
    "start_time": "2022-06-15T10:22:18.104Z"
   },
   {
    "duration": 179,
    "start_time": "2022-06-15T10:22:18.272Z"
   },
   {
    "duration": 156,
    "start_time": "2022-06-15T10:22:18.453Z"
   },
   {
    "duration": 161,
    "start_time": "2022-06-15T10:22:18.611Z"
   },
   {
    "duration": 162,
    "start_time": "2022-06-15T10:22:18.774Z"
   },
   {
    "duration": 141,
    "start_time": "2022-06-15T10:22:18.938Z"
   },
   {
    "duration": 148,
    "start_time": "2022-06-15T10:22:19.080Z"
   },
   {
    "duration": 171,
    "start_time": "2022-06-15T10:22:19.237Z"
   },
   {
    "duration": 5,
    "start_time": "2022-06-15T10:22:19.410Z"
   },
   {
    "duration": 213,
    "start_time": "2022-06-15T10:22:19.427Z"
   },
   {
    "duration": 255,
    "start_time": "2022-06-15T10:22:19.642Z"
   },
   {
    "duration": 202,
    "start_time": "2022-06-15T10:22:19.899Z"
   },
   {
    "duration": 186,
    "start_time": "2022-06-15T10:22:20.102Z"
   },
   {
    "duration": 228,
    "start_time": "2022-06-15T10:22:20.291Z"
   },
   {
    "duration": 187,
    "start_time": "2022-06-15T10:22:20.521Z"
   },
   {
    "duration": 235,
    "start_time": "2022-06-15T10:22:20.710Z"
   },
   {
    "duration": 171,
    "start_time": "2022-06-15T10:22:20.947Z"
   },
   {
    "duration": 231,
    "start_time": "2022-06-15T10:22:21.120Z"
   },
   {
    "duration": 170,
    "start_time": "2022-06-15T10:22:21.352Z"
   },
   {
    "duration": 234,
    "start_time": "2022-06-15T10:22:21.524Z"
   },
   {
    "duration": 20,
    "start_time": "2022-06-15T10:22:21.760Z"
   },
   {
    "duration": 31,
    "start_time": "2022-06-15T10:22:21.782Z"
   },
   {
    "duration": 50,
    "start_time": "2022-06-15T10:22:21.814Z"
   },
   {
    "duration": 22,
    "start_time": "2022-06-15T10:22:21.867Z"
   },
   {
    "duration": 22,
    "start_time": "2022-06-15T10:22:21.891Z"
   },
   {
    "duration": 42,
    "start_time": "2022-06-15T10:22:21.915Z"
   },
   {
    "duration": 31,
    "start_time": "2022-06-15T10:22:21.959Z"
   },
   {
    "duration": 24,
    "start_time": "2022-06-15T10:22:21.991Z"
   },
   {
    "duration": 28,
    "start_time": "2022-06-15T10:22:22.017Z"
   },
   {
    "duration": 31,
    "start_time": "2022-06-15T10:22:22.046Z"
   },
   {
    "duration": 15,
    "start_time": "2022-06-15T10:22:22.079Z"
   },
   {
    "duration": 42,
    "start_time": "2022-06-15T10:22:22.096Z"
   },
   {
    "duration": 50,
    "start_time": "2022-06-15T10:22:22.141Z"
   },
   {
    "duration": 30,
    "start_time": "2022-06-15T10:22:22.193Z"
   },
   {
    "duration": 30,
    "start_time": "2022-06-15T10:22:22.224Z"
   },
   {
    "duration": 40,
    "start_time": "2022-06-15T10:22:22.256Z"
   },
   {
    "duration": 20,
    "start_time": "2022-06-15T10:22:22.298Z"
   },
   {
    "duration": 29,
    "start_time": "2022-06-15T10:22:22.320Z"
   },
   {
    "duration": 25,
    "start_time": "2022-06-15T10:22:22.351Z"
   },
   {
    "duration": 24,
    "start_time": "2022-06-15T10:22:22.377Z"
   }
  ],
  "kernelspec": {
   "display_name": "Python 3 (ipykernel)",
   "language": "python",
   "name": "python3"
  },
  "language_info": {
   "codemirror_mode": {
    "name": "ipython",
    "version": 3
   },
   "file_extension": ".py",
   "mimetype": "text/x-python",
   "name": "python",
   "nbconvert_exporter": "python",
   "pygments_lexer": "ipython3",
   "version": "3.9.5"
  },
  "toc": {
   "base_numbering": 1,
   "nav_menu": {},
   "number_sections": true,
   "sideBar": true,
   "skip_h1_title": true,
   "title_cell": "Table of Contents",
   "title_sidebar": "Contents",
   "toc_cell": false,
   "toc_position": {},
   "toc_section_display": true,
   "toc_window_display": false
  }
 },
 "nbformat": 4,
 "nbformat_minor": 2
}
