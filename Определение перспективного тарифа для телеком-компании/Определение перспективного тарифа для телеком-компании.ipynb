{
 "cells": [
  {
   "attachments": {},
   "cell_type": "markdown",
   "metadata": {},
   "source": [
    "# Определение перспективного тарифа для телеком-компании"
   ]
  },
  {
   "cell_type": "markdown",
   "metadata": {},
   "source": [
    "## Изучение данных из файла"
   ]
  },
  {
   "cell_type": "code",
   "execution_count": 1,
   "metadata": {},
   "outputs": [],
   "source": [
    "import pandas as pd\n",
    "import matplotlib.pyplot as plt\n",
    "from scipy import stats as st\n",
    "import numpy as np"
   ]
  },
  {
   "cell_type": "code",
   "execution_count": 2,
   "metadata": {},
   "outputs": [
    {
     "name": "stdout",
     "output_type": "stream",
     "text": [
      "<class 'pandas.core.frame.DataFrame'>\n",
      "RangeIndex: 202607 entries, 0 to 202606\n",
      "Data columns (total 4 columns):\n",
      " #   Column     Non-Null Count   Dtype  \n",
      "---  ------     --------------   -----  \n",
      " 0   id         202607 non-null  object \n",
      " 1   call_date  202607 non-null  object \n",
      " 2   duration   202607 non-null  float64\n",
      " 3   user_id    202607 non-null  int64  \n",
      "dtypes: float64(1), int64(1), object(2)\n",
      "memory usage: 6.2+ MB\n"
     ]
    }
   ],
   "source": [
    "data_calls = pd.read_csv('/datasets/calls.csv')\n",
    "data_calls.info()"
   ]
  },
  {
   "cell_type": "code",
   "execution_count": 3,
   "metadata": {},
   "outputs": [
    {
     "data": {
      "text/html": [
       "<div>\n",
       "<style scoped>\n",
       "    .dataframe tbody tr th:only-of-type {\n",
       "        vertical-align: middle;\n",
       "    }\n",
       "\n",
       "    .dataframe tbody tr th {\n",
       "        vertical-align: top;\n",
       "    }\n",
       "\n",
       "    .dataframe thead th {\n",
       "        text-align: right;\n",
       "    }\n",
       "</style>\n",
       "<table border=\"1\" class=\"dataframe\">\n",
       "  <thead>\n",
       "    <tr style=\"text-align: right;\">\n",
       "      <th></th>\n",
       "      <th>id</th>\n",
       "      <th>call_date</th>\n",
       "      <th>duration</th>\n",
       "      <th>user_id</th>\n",
       "    </tr>\n",
       "  </thead>\n",
       "  <tbody>\n",
       "    <tr>\n",
       "      <th>0</th>\n",
       "      <td>1000_0</td>\n",
       "      <td>2018-07-25</td>\n",
       "      <td>0.00</td>\n",
       "      <td>1000</td>\n",
       "    </tr>\n",
       "    <tr>\n",
       "      <th>1</th>\n",
       "      <td>1000_1</td>\n",
       "      <td>2018-08-17</td>\n",
       "      <td>0.00</td>\n",
       "      <td>1000</td>\n",
       "    </tr>\n",
       "    <tr>\n",
       "      <th>2</th>\n",
       "      <td>1000_2</td>\n",
       "      <td>2018-06-11</td>\n",
       "      <td>2.85</td>\n",
       "      <td>1000</td>\n",
       "    </tr>\n",
       "    <tr>\n",
       "      <th>3</th>\n",
       "      <td>1000_3</td>\n",
       "      <td>2018-09-21</td>\n",
       "      <td>13.80</td>\n",
       "      <td>1000</td>\n",
       "    </tr>\n",
       "    <tr>\n",
       "      <th>4</th>\n",
       "      <td>1000_4</td>\n",
       "      <td>2018-12-15</td>\n",
       "      <td>5.18</td>\n",
       "      <td>1000</td>\n",
       "    </tr>\n",
       "  </tbody>\n",
       "</table>\n",
       "</div>"
      ],
      "text/plain": [
       "       id   call_date  duration  user_id\n",
       "0  1000_0  2018-07-25      0.00     1000\n",
       "1  1000_1  2018-08-17      0.00     1000\n",
       "2  1000_2  2018-06-11      2.85     1000\n",
       "3  1000_3  2018-09-21     13.80     1000\n",
       "4  1000_4  2018-12-15      5.18     1000"
      ]
     },
     "execution_count": 3,
     "metadata": {},
     "output_type": "execute_result"
    }
   ],
   "source": [
    "data_calls.head()"
   ]
  },
  {
   "cell_type": "code",
   "execution_count": 4,
   "metadata": {},
   "outputs": [
    {
     "data": {
      "text/html": [
       "<div>\n",
       "<style scoped>\n",
       "    .dataframe tbody tr th:only-of-type {\n",
       "        vertical-align: middle;\n",
       "    }\n",
       "\n",
       "    .dataframe tbody tr th {\n",
       "        vertical-align: top;\n",
       "    }\n",
       "\n",
       "    .dataframe thead th {\n",
       "        text-align: right;\n",
       "    }\n",
       "</style>\n",
       "<table border=\"1\" class=\"dataframe\">\n",
       "  <thead>\n",
       "    <tr style=\"text-align: right;\">\n",
       "      <th></th>\n",
       "      <th>duration</th>\n",
       "      <th>user_id</th>\n",
       "    </tr>\n",
       "  </thead>\n",
       "  <tbody>\n",
       "    <tr>\n",
       "      <th>count</th>\n",
       "      <td>202607.000000</td>\n",
       "      <td>202607.000000</td>\n",
       "    </tr>\n",
       "    <tr>\n",
       "      <th>mean</th>\n",
       "      <td>6.755887</td>\n",
       "      <td>1253.940619</td>\n",
       "    </tr>\n",
       "    <tr>\n",
       "      <th>std</th>\n",
       "      <td>5.843365</td>\n",
       "      <td>144.722751</td>\n",
       "    </tr>\n",
       "    <tr>\n",
       "      <th>min</th>\n",
       "      <td>0.000000</td>\n",
       "      <td>1000.000000</td>\n",
       "    </tr>\n",
       "    <tr>\n",
       "      <th>25%</th>\n",
       "      <td>1.300000</td>\n",
       "      <td>1126.000000</td>\n",
       "    </tr>\n",
       "    <tr>\n",
       "      <th>50%</th>\n",
       "      <td>6.000000</td>\n",
       "      <td>1260.000000</td>\n",
       "    </tr>\n",
       "    <tr>\n",
       "      <th>75%</th>\n",
       "      <td>10.700000</td>\n",
       "      <td>1379.000000</td>\n",
       "    </tr>\n",
       "    <tr>\n",
       "      <th>max</th>\n",
       "      <td>38.000000</td>\n",
       "      <td>1499.000000</td>\n",
       "    </tr>\n",
       "  </tbody>\n",
       "</table>\n",
       "</div>"
      ],
      "text/plain": [
       "            duration        user_id\n",
       "count  202607.000000  202607.000000\n",
       "mean        6.755887    1253.940619\n",
       "std         5.843365     144.722751\n",
       "min         0.000000    1000.000000\n",
       "25%         1.300000    1126.000000\n",
       "50%         6.000000    1260.000000\n",
       "75%        10.700000    1379.000000\n",
       "max        38.000000    1499.000000"
      ]
     },
     "execution_count": 4,
     "metadata": {},
     "output_type": "execute_result"
    }
   ],
   "source": [
    "data_calls.describe()"
   ]
  },
  {
   "cell_type": "markdown",
   "metadata": {},
   "source": [
    "По условию задачи, звонки с продолжительностью 0 оставляем как пропущенные. Сразу приведём столбец с датой к формату datetime"
   ]
  },
  {
   "cell_type": "code",
   "execution_count": 5,
   "metadata": {},
   "outputs": [
    {
     "data": {
      "text/html": [
       "<div>\n",
       "<style scoped>\n",
       "    .dataframe tbody tr th:only-of-type {\n",
       "        vertical-align: middle;\n",
       "    }\n",
       "\n",
       "    .dataframe tbody tr th {\n",
       "        vertical-align: top;\n",
       "    }\n",
       "\n",
       "    .dataframe thead th {\n",
       "        text-align: right;\n",
       "    }\n",
       "</style>\n",
       "<table border=\"1\" class=\"dataframe\">\n",
       "  <thead>\n",
       "    <tr style=\"text-align: right;\">\n",
       "      <th></th>\n",
       "      <th>id</th>\n",
       "      <th>call_date</th>\n",
       "      <th>duration</th>\n",
       "      <th>user_id</th>\n",
       "    </tr>\n",
       "  </thead>\n",
       "  <tbody>\n",
       "    <tr>\n",
       "      <th>0</th>\n",
       "      <td>1000_0</td>\n",
       "      <td>2018-07-25</td>\n",
       "      <td>0</td>\n",
       "      <td>1000</td>\n",
       "    </tr>\n",
       "    <tr>\n",
       "      <th>1</th>\n",
       "      <td>1000_1</td>\n",
       "      <td>2018-08-17</td>\n",
       "      <td>0</td>\n",
       "      <td>1000</td>\n",
       "    </tr>\n",
       "    <tr>\n",
       "      <th>2</th>\n",
       "      <td>1000_2</td>\n",
       "      <td>2018-06-11</td>\n",
       "      <td>3</td>\n",
       "      <td>1000</td>\n",
       "    </tr>\n",
       "    <tr>\n",
       "      <th>3</th>\n",
       "      <td>1000_3</td>\n",
       "      <td>2018-09-21</td>\n",
       "      <td>14</td>\n",
       "      <td>1000</td>\n",
       "    </tr>\n",
       "    <tr>\n",
       "      <th>4</th>\n",
       "      <td>1000_4</td>\n",
       "      <td>2018-12-15</td>\n",
       "      <td>6</td>\n",
       "      <td>1000</td>\n",
       "    </tr>\n",
       "  </tbody>\n",
       "</table>\n",
       "</div>"
      ],
      "text/plain": [
       "       id  call_date  duration  user_id\n",
       "0  1000_0 2018-07-25         0     1000\n",
       "1  1000_1 2018-08-17         0     1000\n",
       "2  1000_2 2018-06-11         3     1000\n",
       "3  1000_3 2018-09-21        14     1000\n",
       "4  1000_4 2018-12-15         6     1000"
      ]
     },
     "execution_count": 5,
     "metadata": {},
     "output_type": "execute_result"
    }
   ],
   "source": [
    "data_calls['call_date'] = pd.to_datetime(data_calls['call_date'], format = '%Y-%m-%d')\n",
    "data_calls['duration'] = np.ceil(data_calls['duration']).astype(int)\n",
    "data_calls.head()"
   ]
  },
  {
   "cell_type": "code",
   "execution_count": 6,
   "metadata": {},
   "outputs": [
    {
     "name": "stdout",
     "output_type": "stream",
     "text": [
      "<class 'pandas.core.frame.DataFrame'>\n",
      "RangeIndex: 149396 entries, 0 to 149395\n",
      "Data columns (total 5 columns):\n",
      " #   Column        Non-Null Count   Dtype  \n",
      "---  ------        --------------   -----  \n",
      " 0   Unnamed: 0    149396 non-null  int64  \n",
      " 1   id            149396 non-null  object \n",
      " 2   mb_used       149396 non-null  float64\n",
      " 3   session_date  149396 non-null  object \n",
      " 4   user_id       149396 non-null  int64  \n",
      "dtypes: float64(1), int64(2), object(2)\n",
      "memory usage: 5.7+ MB\n"
     ]
    }
   ],
   "source": [
    "data_internet = pd.read_csv('/datasets/internet.csv')\n",
    "data_internet.info()"
   ]
  },
  {
   "cell_type": "code",
   "execution_count": 7,
   "metadata": {},
   "outputs": [
    {
     "data": {
      "text/html": [
       "<div>\n",
       "<style scoped>\n",
       "    .dataframe tbody tr th:only-of-type {\n",
       "        vertical-align: middle;\n",
       "    }\n",
       "\n",
       "    .dataframe tbody tr th {\n",
       "        vertical-align: top;\n",
       "    }\n",
       "\n",
       "    .dataframe thead th {\n",
       "        text-align: right;\n",
       "    }\n",
       "</style>\n",
       "<table border=\"1\" class=\"dataframe\">\n",
       "  <thead>\n",
       "    <tr style=\"text-align: right;\">\n",
       "      <th></th>\n",
       "      <th>Unnamed: 0</th>\n",
       "      <th>id</th>\n",
       "      <th>mb_used</th>\n",
       "      <th>session_date</th>\n",
       "      <th>user_id</th>\n",
       "    </tr>\n",
       "  </thead>\n",
       "  <tbody>\n",
       "    <tr>\n",
       "      <th>0</th>\n",
       "      <td>0</td>\n",
       "      <td>1000_0</td>\n",
       "      <td>112.95</td>\n",
       "      <td>2018-11-25</td>\n",
       "      <td>1000</td>\n",
       "    </tr>\n",
       "    <tr>\n",
       "      <th>1</th>\n",
       "      <td>1</td>\n",
       "      <td>1000_1</td>\n",
       "      <td>1052.81</td>\n",
       "      <td>2018-09-07</td>\n",
       "      <td>1000</td>\n",
       "    </tr>\n",
       "    <tr>\n",
       "      <th>2</th>\n",
       "      <td>2</td>\n",
       "      <td>1000_2</td>\n",
       "      <td>1197.26</td>\n",
       "      <td>2018-06-25</td>\n",
       "      <td>1000</td>\n",
       "    </tr>\n",
       "    <tr>\n",
       "      <th>3</th>\n",
       "      <td>3</td>\n",
       "      <td>1000_3</td>\n",
       "      <td>550.27</td>\n",
       "      <td>2018-08-22</td>\n",
       "      <td>1000</td>\n",
       "    </tr>\n",
       "    <tr>\n",
       "      <th>4</th>\n",
       "      <td>4</td>\n",
       "      <td>1000_4</td>\n",
       "      <td>302.56</td>\n",
       "      <td>2018-09-24</td>\n",
       "      <td>1000</td>\n",
       "    </tr>\n",
       "    <tr>\n",
       "      <th>5</th>\n",
       "      <td>5</td>\n",
       "      <td>1000_5</td>\n",
       "      <td>399.97</td>\n",
       "      <td>2018-10-02</td>\n",
       "      <td>1000</td>\n",
       "    </tr>\n",
       "    <tr>\n",
       "      <th>6</th>\n",
       "      <td>6</td>\n",
       "      <td>1000_6</td>\n",
       "      <td>540.08</td>\n",
       "      <td>2018-09-07</td>\n",
       "      <td>1000</td>\n",
       "    </tr>\n",
       "    <tr>\n",
       "      <th>7</th>\n",
       "      <td>7</td>\n",
       "      <td>1000_7</td>\n",
       "      <td>415.70</td>\n",
       "      <td>2018-07-11</td>\n",
       "      <td>1000</td>\n",
       "    </tr>\n",
       "    <tr>\n",
       "      <th>8</th>\n",
       "      <td>8</td>\n",
       "      <td>1000_8</td>\n",
       "      <td>505.40</td>\n",
       "      <td>2018-10-08</td>\n",
       "      <td>1000</td>\n",
       "    </tr>\n",
       "    <tr>\n",
       "      <th>9</th>\n",
       "      <td>9</td>\n",
       "      <td>1000_9</td>\n",
       "      <td>345.54</td>\n",
       "      <td>2018-09-03</td>\n",
       "      <td>1000</td>\n",
       "    </tr>\n",
       "    <tr>\n",
       "      <th>10</th>\n",
       "      <td>10</td>\n",
       "      <td>1000_10</td>\n",
       "      <td>385.14</td>\n",
       "      <td>2018-09-27</td>\n",
       "      <td>1000</td>\n",
       "    </tr>\n",
       "    <tr>\n",
       "      <th>11</th>\n",
       "      <td>11</td>\n",
       "      <td>1000_11</td>\n",
       "      <td>0.00</td>\n",
       "      <td>2018-08-28</td>\n",
       "      <td>1000</td>\n",
       "    </tr>\n",
       "    <tr>\n",
       "      <th>12</th>\n",
       "      <td>12</td>\n",
       "      <td>1000_12</td>\n",
       "      <td>375.87</td>\n",
       "      <td>2018-06-20</td>\n",
       "      <td>1000</td>\n",
       "    </tr>\n",
       "    <tr>\n",
       "      <th>13</th>\n",
       "      <td>13</td>\n",
       "      <td>1000_13</td>\n",
       "      <td>393.83</td>\n",
       "      <td>2018-08-09</td>\n",
       "      <td>1000</td>\n",
       "    </tr>\n",
       "    <tr>\n",
       "      <th>14</th>\n",
       "      <td>14</td>\n",
       "      <td>1000_14</td>\n",
       "      <td>180.64</td>\n",
       "      <td>2018-08-11</td>\n",
       "      <td>1000</td>\n",
       "    </tr>\n",
       "    <tr>\n",
       "      <th>15</th>\n",
       "      <td>15</td>\n",
       "      <td>1000_15</td>\n",
       "      <td>337.71</td>\n",
       "      <td>2018-07-21</td>\n",
       "      <td>1000</td>\n",
       "    </tr>\n",
       "    <tr>\n",
       "      <th>16</th>\n",
       "      <td>16</td>\n",
       "      <td>1000_16</td>\n",
       "      <td>459.28</td>\n",
       "      <td>2018-06-09</td>\n",
       "      <td>1000</td>\n",
       "    </tr>\n",
       "    <tr>\n",
       "      <th>17</th>\n",
       "      <td>17</td>\n",
       "      <td>1000_17</td>\n",
       "      <td>204.14</td>\n",
       "      <td>2018-06-03</td>\n",
       "      <td>1000</td>\n",
       "    </tr>\n",
       "    <tr>\n",
       "      <th>18</th>\n",
       "      <td>18</td>\n",
       "      <td>1000_18</td>\n",
       "      <td>658.10</td>\n",
       "      <td>2018-11-01</td>\n",
       "      <td>1000</td>\n",
       "    </tr>\n",
       "    <tr>\n",
       "      <th>19</th>\n",
       "      <td>19</td>\n",
       "      <td>1000_19</td>\n",
       "      <td>452.73</td>\n",
       "      <td>2018-11-28</td>\n",
       "      <td>1000</td>\n",
       "    </tr>\n",
       "  </tbody>\n",
       "</table>\n",
       "</div>"
      ],
      "text/plain": [
       "    Unnamed: 0       id  mb_used session_date  user_id\n",
       "0            0   1000_0   112.95   2018-11-25     1000\n",
       "1            1   1000_1  1052.81   2018-09-07     1000\n",
       "2            2   1000_2  1197.26   2018-06-25     1000\n",
       "3            3   1000_3   550.27   2018-08-22     1000\n",
       "4            4   1000_4   302.56   2018-09-24     1000\n",
       "5            5   1000_5   399.97   2018-10-02     1000\n",
       "6            6   1000_6   540.08   2018-09-07     1000\n",
       "7            7   1000_7   415.70   2018-07-11     1000\n",
       "8            8   1000_8   505.40   2018-10-08     1000\n",
       "9            9   1000_9   345.54   2018-09-03     1000\n",
       "10          10  1000_10   385.14   2018-09-27     1000\n",
       "11          11  1000_11     0.00   2018-08-28     1000\n",
       "12          12  1000_12   375.87   2018-06-20     1000\n",
       "13          13  1000_13   393.83   2018-08-09     1000\n",
       "14          14  1000_14   180.64   2018-08-11     1000\n",
       "15          15  1000_15   337.71   2018-07-21     1000\n",
       "16          16  1000_16   459.28   2018-06-09     1000\n",
       "17          17  1000_17   204.14   2018-06-03     1000\n",
       "18          18  1000_18   658.10   2018-11-01     1000\n",
       "19          19  1000_19   452.73   2018-11-28     1000"
      ]
     },
     "execution_count": 7,
     "metadata": {},
     "output_type": "execute_result"
    }
   ],
   "source": [
    "data_internet.head(20)"
   ]
  },
  {
   "cell_type": "markdown",
   "metadata": {},
   "source": [
    "Приведём столбец с датой к datetime и удалим лишний столбец, дублирующий индексы \"Unnamed: 0\""
   ]
  },
  {
   "cell_type": "code",
   "execution_count": 8,
   "metadata": {},
   "outputs": [
    {
     "name": "stdout",
     "output_type": "stream",
     "text": [
      "<class 'pandas.core.frame.DataFrame'>\n",
      "RangeIndex: 149396 entries, 0 to 149395\n",
      "Data columns (total 4 columns):\n",
      " #   Column        Non-Null Count   Dtype         \n",
      "---  ------        --------------   -----         \n",
      " 0   id            149396 non-null  object        \n",
      " 1   mb_used       149396 non-null  float64       \n",
      " 2   session_date  149396 non-null  datetime64[ns]\n",
      " 3   user_id       149396 non-null  int64         \n",
      "dtypes: datetime64[ns](1), float64(1), int64(1), object(1)\n",
      "memory usage: 4.6+ MB\n"
     ]
    }
   ],
   "source": [
    "data_internet['session_date'] = pd.to_datetime(data_internet['session_date'], format = '%Y-%m-%d')\n",
    "data_internet = data_internet.drop(columns=['Unnamed: 0'])\n",
    "data_internet.info()"
   ]
  },
  {
   "cell_type": "code",
   "execution_count": 9,
   "metadata": {},
   "outputs": [
    {
     "data": {
      "text/plain": [
       "count    149396.000000\n",
       "mean        370.192426\n",
       "std         278.300951\n",
       "min           0.000000\n",
       "25%         138.187500\n",
       "50%         348.015000\n",
       "75%         559.552500\n",
       "max        1724.830000\n",
       "Name: mb_used, dtype: float64"
      ]
     },
     "execution_count": 9,
     "metadata": {},
     "output_type": "execute_result"
    }
   ],
   "source": [
    "data_internet['mb_used'].describe()"
   ]
  },
  {
   "cell_type": "code",
   "execution_count": 10,
   "metadata": {},
   "outputs": [
    {
     "data": {
      "text/html": [
       "<div>\n",
       "<style scoped>\n",
       "    .dataframe tbody tr th:only-of-type {\n",
       "        vertical-align: middle;\n",
       "    }\n",
       "\n",
       "    .dataframe tbody tr th {\n",
       "        vertical-align: top;\n",
       "    }\n",
       "\n",
       "    .dataframe thead th {\n",
       "        text-align: right;\n",
       "    }\n",
       "</style>\n",
       "<table border=\"1\" class=\"dataframe\">\n",
       "  <thead>\n",
       "    <tr style=\"text-align: right;\">\n",
       "      <th></th>\n",
       "      <th>id</th>\n",
       "      <th>mb_used</th>\n",
       "      <th>session_date</th>\n",
       "      <th>user_id</th>\n",
       "    </tr>\n",
       "  </thead>\n",
       "  <tbody>\n",
       "    <tr>\n",
       "      <th>11</th>\n",
       "      <td>1000_11</td>\n",
       "      <td>0.0</td>\n",
       "      <td>2018-08-28</td>\n",
       "      <td>1000</td>\n",
       "    </tr>\n",
       "    <tr>\n",
       "      <th>38</th>\n",
       "      <td>1000_38</td>\n",
       "      <td>0.0</td>\n",
       "      <td>2018-11-27</td>\n",
       "      <td>1000</td>\n",
       "    </tr>\n",
       "    <tr>\n",
       "      <th>46</th>\n",
       "      <td>1000_46</td>\n",
       "      <td>0.0</td>\n",
       "      <td>2018-06-30</td>\n",
       "      <td>1000</td>\n",
       "    </tr>\n",
       "    <tr>\n",
       "      <th>67</th>\n",
       "      <td>1000_67</td>\n",
       "      <td>0.0</td>\n",
       "      <td>2018-06-16</td>\n",
       "      <td>1000</td>\n",
       "    </tr>\n",
       "    <tr>\n",
       "      <th>72</th>\n",
       "      <td>1000_72</td>\n",
       "      <td>0.0</td>\n",
       "      <td>2018-06-15</td>\n",
       "      <td>1000</td>\n",
       "    </tr>\n",
       "    <tr>\n",
       "      <th>...</th>\n",
       "      <td>...</td>\n",
       "      <td>...</td>\n",
       "      <td>...</td>\n",
       "      <td>...</td>\n",
       "    </tr>\n",
       "    <tr>\n",
       "      <th>149380</th>\n",
       "      <td>1499_141</td>\n",
       "      <td>0.0</td>\n",
       "      <td>2018-12-11</td>\n",
       "      <td>1499</td>\n",
       "    </tr>\n",
       "    <tr>\n",
       "      <th>149381</th>\n",
       "      <td>1499_142</td>\n",
       "      <td>0.0</td>\n",
       "      <td>2018-11-01</td>\n",
       "      <td>1499</td>\n",
       "    </tr>\n",
       "    <tr>\n",
       "      <th>149383</th>\n",
       "      <td>1499_144</td>\n",
       "      <td>0.0</td>\n",
       "      <td>2018-11-27</td>\n",
       "      <td>1499</td>\n",
       "    </tr>\n",
       "    <tr>\n",
       "      <th>149386</th>\n",
       "      <td>1499_147</td>\n",
       "      <td>0.0</td>\n",
       "      <td>2018-10-21</td>\n",
       "      <td>1499</td>\n",
       "    </tr>\n",
       "    <tr>\n",
       "      <th>149393</th>\n",
       "      <td>1499_154</td>\n",
       "      <td>0.0</td>\n",
       "      <td>2018-10-27</td>\n",
       "      <td>1499</td>\n",
       "    </tr>\n",
       "  </tbody>\n",
       "</table>\n",
       "<p>19598 rows × 4 columns</p>\n",
       "</div>"
      ],
      "text/plain": [
       "              id  mb_used session_date  user_id\n",
       "11       1000_11      0.0   2018-08-28     1000\n",
       "38       1000_38      0.0   2018-11-27     1000\n",
       "46       1000_46      0.0   2018-06-30     1000\n",
       "67       1000_67      0.0   2018-06-16     1000\n",
       "72       1000_72      0.0   2018-06-15     1000\n",
       "...          ...      ...          ...      ...\n",
       "149380  1499_141      0.0   2018-12-11     1499\n",
       "149381  1499_142      0.0   2018-11-01     1499\n",
       "149383  1499_144      0.0   2018-11-27     1499\n",
       "149386  1499_147      0.0   2018-10-21     1499\n",
       "149393  1499_154      0.0   2018-10-27     1499\n",
       "\n",
       "[19598 rows x 4 columns]"
      ]
     },
     "execution_count": 10,
     "metadata": {},
     "output_type": "execute_result"
    }
   ],
   "source": [
    "data_internet[data_internet['mb_used']==0]"
   ]
  },
  {
   "cell_type": "code",
   "execution_count": 11,
   "metadata": {},
   "outputs": [
    {
     "data": {
      "text/plain": [
       "array([1000, 1001, 1002, 1003, 1004, 1005, 1006, 1007, 1008, 1009, 1010,\n",
       "       1011, 1012, 1013, 1014, 1015, 1016, 1017, 1018, 1019, 1020, 1021,\n",
       "       1022, 1023, 1024, 1025, 1026, 1027, 1028, 1029, 1030, 1031, 1032,\n",
       "       1033, 1034, 1035, 1036, 1037, 1038, 1039, 1040, 1041, 1042, 1043,\n",
       "       1044, 1045, 1046, 1047, 1048, 1049, 1050, 1051, 1052, 1053, 1054,\n",
       "       1055, 1056, 1057, 1058, 1059, 1060, 1061, 1062, 1063, 1064, 1065,\n",
       "       1066, 1067, 1068, 1069, 1070, 1071, 1072, 1073, 1074, 1075, 1076,\n",
       "       1077, 1078, 1079, 1080, 1081, 1082, 1083, 1084, 1085, 1086, 1087,\n",
       "       1088, 1089, 1090, 1091, 1092, 1093, 1094, 1095, 1096, 1097, 1098,\n",
       "       1099, 1100, 1101, 1102, 1103, 1104, 1105, 1106, 1107, 1108, 1109,\n",
       "       1110, 1111, 1112, 1113, 1114, 1115, 1116, 1117, 1118, 1119, 1120,\n",
       "       1121, 1122, 1123, 1124, 1125, 1126, 1127, 1129, 1130, 1131, 1132,\n",
       "       1133, 1134, 1135, 1136, 1137, 1138, 1139, 1140, 1141, 1142, 1143,\n",
       "       1144, 1145, 1146, 1147, 1148, 1149, 1150, 1151, 1152, 1153, 1154,\n",
       "       1155, 1156, 1157, 1158, 1159, 1160, 1161, 1162, 1163, 1164, 1165,\n",
       "       1166, 1167, 1168, 1169, 1170, 1171, 1172, 1173, 1174, 1175, 1176,\n",
       "       1177, 1178, 1179, 1180, 1181, 1182, 1183, 1184, 1185, 1186, 1187,\n",
       "       1188, 1189, 1190, 1191, 1192, 1193, 1194, 1195, 1196, 1197, 1198,\n",
       "       1199, 1200, 1201, 1202, 1203, 1204, 1205, 1206, 1207, 1208, 1209,\n",
       "       1210, 1211, 1212, 1213, 1214, 1215, 1216, 1217, 1218, 1219, 1220,\n",
       "       1221, 1222, 1223, 1224, 1225, 1226, 1227, 1228, 1229, 1230, 1231,\n",
       "       1232, 1233, 1234, 1235, 1236, 1237, 1238, 1239, 1240, 1241, 1242,\n",
       "       1243, 1244, 1245, 1246, 1247, 1248, 1249, 1250, 1251, 1252, 1253,\n",
       "       1254, 1255, 1256, 1257, 1258, 1259, 1260, 1261, 1262, 1263, 1264,\n",
       "       1265, 1266, 1267, 1268, 1269, 1270, 1271, 1272, 1274, 1275, 1276,\n",
       "       1277, 1278, 1279, 1280, 1281, 1282, 1283, 1284, 1285, 1286, 1287,\n",
       "       1288, 1289, 1290, 1291, 1292, 1293, 1294, 1295, 1296, 1297, 1298,\n",
       "       1299, 1300, 1301, 1302, 1303, 1304, 1305, 1306, 1307, 1308, 1309,\n",
       "       1310, 1311, 1312, 1313, 1314, 1315, 1316, 1317, 1318, 1319, 1320,\n",
       "       1321, 1322, 1323, 1324, 1325, 1326, 1327, 1328, 1329, 1330, 1331,\n",
       "       1332, 1333, 1334, 1335, 1336, 1337, 1338, 1339, 1340, 1341, 1342,\n",
       "       1344, 1345, 1346, 1347, 1348, 1349, 1350, 1351, 1352, 1353, 1354,\n",
       "       1355, 1356, 1357, 1358, 1359, 1360, 1361, 1362, 1363, 1364, 1365,\n",
       "       1366, 1367, 1368, 1369, 1370, 1372, 1373, 1374, 1375, 1376, 1377,\n",
       "       1378, 1379, 1380, 1381, 1382, 1383, 1384, 1385, 1386, 1387, 1388,\n",
       "       1389, 1390, 1391, 1392, 1393, 1394, 1395, 1396, 1398, 1400, 1401,\n",
       "       1402, 1403, 1404, 1405, 1406, 1407, 1408, 1409, 1410, 1411, 1412,\n",
       "       1413, 1414, 1415, 1416, 1417, 1418, 1419, 1420, 1421, 1422, 1423,\n",
       "       1424, 1425, 1426, 1427, 1428, 1429, 1430, 1431, 1432, 1433, 1434,\n",
       "       1435, 1436, 1437, 1438, 1439, 1440, 1441, 1442, 1443, 1444, 1445,\n",
       "       1446, 1447, 1448, 1449, 1450, 1451, 1452, 1453, 1454, 1455, 1456,\n",
       "       1457, 1458, 1459, 1460, 1461, 1462, 1463, 1464, 1465, 1466, 1467,\n",
       "       1468, 1469, 1470, 1471, 1472, 1473, 1474, 1475, 1476, 1477, 1478,\n",
       "       1479, 1480, 1481, 1482, 1483, 1484, 1485, 1486, 1487, 1488, 1489,\n",
       "       1490, 1491, 1492, 1493, 1494, 1495, 1496, 1497, 1498, 1499])"
      ]
     },
     "execution_count": 11,
     "metadata": {},
     "output_type": "execute_result"
    }
   ],
   "source": [
    "data_internet[data_internet['mb_used']==0]['user_id'].unique()"
   ]
  },
  {
   "cell_type": "markdown",
   "metadata": {},
   "source": [
    "Видим 19.5к строк с нулевым трафиком за сессию (для каждого юзера есть подобные строки). Т.к. эти строки могут исказить последующий анализ данных - избавимся от них."
   ]
  },
  {
   "cell_type": "code",
   "execution_count": 12,
   "metadata": {},
   "outputs": [
    {
     "name": "stdout",
     "output_type": "stream",
     "text": [
      "<class 'pandas.core.frame.DataFrame'>\n",
      "Int64Index: 129798 entries, 0 to 149395\n",
      "Data columns (total 4 columns):\n",
      " #   Column        Non-Null Count   Dtype         \n",
      "---  ------        --------------   -----         \n",
      " 0   id            129798 non-null  object        \n",
      " 1   mb_used       129798 non-null  float64       \n",
      " 2   session_date  129798 non-null  datetime64[ns]\n",
      " 3   user_id       129798 non-null  int64         \n",
      "dtypes: datetime64[ns](1), float64(1), int64(1), object(1)\n",
      "memory usage: 5.0+ MB\n"
     ]
    }
   ],
   "source": [
    "data_internet = data_internet.query('mb_used > 0')\n",
    "data_internet.info()"
   ]
  },
  {
   "cell_type": "code",
   "execution_count": 13,
   "metadata": {},
   "outputs": [
    {
     "name": "stdout",
     "output_type": "stream",
     "text": [
      "<class 'pandas.core.frame.DataFrame'>\n",
      "RangeIndex: 123036 entries, 0 to 123035\n",
      "Data columns (total 3 columns):\n",
      " #   Column        Non-Null Count   Dtype \n",
      "---  ------        --------------   ----- \n",
      " 0   id            123036 non-null  object\n",
      " 1   message_date  123036 non-null  object\n",
      " 2   user_id       123036 non-null  int64 \n",
      "dtypes: int64(1), object(2)\n",
      "memory usage: 2.8+ MB\n"
     ]
    }
   ],
   "source": [
    "data_messages = pd.read_csv('/datasets/messages.csv')\n",
    "data_messages.info()"
   ]
  },
  {
   "cell_type": "code",
   "execution_count": 14,
   "metadata": {},
   "outputs": [
    {
     "data": {
      "text/html": [
       "<div>\n",
       "<style scoped>\n",
       "    .dataframe tbody tr th:only-of-type {\n",
       "        vertical-align: middle;\n",
       "    }\n",
       "\n",
       "    .dataframe tbody tr th {\n",
       "        vertical-align: top;\n",
       "    }\n",
       "\n",
       "    .dataframe thead th {\n",
       "        text-align: right;\n",
       "    }\n",
       "</style>\n",
       "<table border=\"1\" class=\"dataframe\">\n",
       "  <thead>\n",
       "    <tr style=\"text-align: right;\">\n",
       "      <th></th>\n",
       "      <th>id</th>\n",
       "      <th>message_date</th>\n",
       "      <th>user_id</th>\n",
       "    </tr>\n",
       "  </thead>\n",
       "  <tbody>\n",
       "    <tr>\n",
       "      <th>0</th>\n",
       "      <td>1000_0</td>\n",
       "      <td>2018-06-27</td>\n",
       "      <td>1000</td>\n",
       "    </tr>\n",
       "    <tr>\n",
       "      <th>1</th>\n",
       "      <td>1000_1</td>\n",
       "      <td>2018-10-08</td>\n",
       "      <td>1000</td>\n",
       "    </tr>\n",
       "    <tr>\n",
       "      <th>2</th>\n",
       "      <td>1000_2</td>\n",
       "      <td>2018-08-04</td>\n",
       "      <td>1000</td>\n",
       "    </tr>\n",
       "    <tr>\n",
       "      <th>3</th>\n",
       "      <td>1000_3</td>\n",
       "      <td>2018-06-16</td>\n",
       "      <td>1000</td>\n",
       "    </tr>\n",
       "    <tr>\n",
       "      <th>4</th>\n",
       "      <td>1000_4</td>\n",
       "      <td>2018-12-05</td>\n",
       "      <td>1000</td>\n",
       "    </tr>\n",
       "  </tbody>\n",
       "</table>\n",
       "</div>"
      ],
      "text/plain": [
       "       id message_date  user_id\n",
       "0  1000_0   2018-06-27     1000\n",
       "1  1000_1   2018-10-08     1000\n",
       "2  1000_2   2018-08-04     1000\n",
       "3  1000_3   2018-06-16     1000\n",
       "4  1000_4   2018-12-05     1000"
      ]
     },
     "execution_count": 14,
     "metadata": {},
     "output_type": "execute_result"
    }
   ],
   "source": [
    "data_messages.head()"
   ]
  },
  {
   "cell_type": "code",
   "execution_count": 15,
   "metadata": {},
   "outputs": [
    {
     "name": "stdout",
     "output_type": "stream",
     "text": [
      "<class 'pandas.core.frame.DataFrame'>\n",
      "RangeIndex: 123036 entries, 0 to 123035\n",
      "Data columns (total 3 columns):\n",
      " #   Column        Non-Null Count   Dtype         \n",
      "---  ------        --------------   -----         \n",
      " 0   id            123036 non-null  object        \n",
      " 1   message_date  123036 non-null  datetime64[ns]\n",
      " 2   user_id       123036 non-null  int64         \n",
      "dtypes: datetime64[ns](1), int64(1), object(1)\n",
      "memory usage: 2.8+ MB\n"
     ]
    }
   ],
   "source": [
    "data_messages['message_date'] = pd.to_datetime(data_messages['message_date'], format = '%Y-%m-%d')\n",
    "data_messages.info()"
   ]
  },
  {
   "cell_type": "code",
   "execution_count": 16,
   "metadata": {},
   "outputs": [
    {
     "name": "stdout",
     "output_type": "stream",
     "text": [
      "<class 'pandas.core.frame.DataFrame'>\n",
      "RangeIndex: 2 entries, 0 to 1\n",
      "Data columns (total 8 columns):\n",
      " #   Column                 Non-Null Count  Dtype \n",
      "---  ------                 --------------  ----- \n",
      " 0   messages_included      2 non-null      int64 \n",
      " 1   mb_per_month_included  2 non-null      int64 \n",
      " 2   minutes_included       2 non-null      int64 \n",
      " 3   rub_monthly_fee        2 non-null      int64 \n",
      " 4   rub_per_gb             2 non-null      int64 \n",
      " 5   rub_per_message        2 non-null      int64 \n",
      " 6   rub_per_minute         2 non-null      int64 \n",
      " 7   tariff_name            2 non-null      object\n",
      "dtypes: int64(7), object(1)\n",
      "memory usage: 256.0+ bytes\n"
     ]
    }
   ],
   "source": [
    "data_tariffs = pd.read_csv('/datasets/tariffs.csv')\n",
    "data_tariffs.info()"
   ]
  },
  {
   "cell_type": "code",
   "execution_count": 17,
   "metadata": {},
   "outputs": [
    {
     "data": {
      "text/html": [
       "<div>\n",
       "<style scoped>\n",
       "    .dataframe tbody tr th:only-of-type {\n",
       "        vertical-align: middle;\n",
       "    }\n",
       "\n",
       "    .dataframe tbody tr th {\n",
       "        vertical-align: top;\n",
       "    }\n",
       "\n",
       "    .dataframe thead th {\n",
       "        text-align: right;\n",
       "    }\n",
       "</style>\n",
       "<table border=\"1\" class=\"dataframe\">\n",
       "  <thead>\n",
       "    <tr style=\"text-align: right;\">\n",
       "      <th></th>\n",
       "      <th>messages_included</th>\n",
       "      <th>mb_per_month_included</th>\n",
       "      <th>minutes_included</th>\n",
       "      <th>rub_monthly_fee</th>\n",
       "      <th>rub_per_gb</th>\n",
       "      <th>rub_per_message</th>\n",
       "      <th>rub_per_minute</th>\n",
       "      <th>tariff_name</th>\n",
       "    </tr>\n",
       "  </thead>\n",
       "  <tbody>\n",
       "    <tr>\n",
       "      <th>0</th>\n",
       "      <td>50</td>\n",
       "      <td>15360</td>\n",
       "      <td>500</td>\n",
       "      <td>550</td>\n",
       "      <td>200</td>\n",
       "      <td>3</td>\n",
       "      <td>3</td>\n",
       "      <td>smart</td>\n",
       "    </tr>\n",
       "    <tr>\n",
       "      <th>1</th>\n",
       "      <td>1000</td>\n",
       "      <td>30720</td>\n",
       "      <td>3000</td>\n",
       "      <td>1950</td>\n",
       "      <td>150</td>\n",
       "      <td>1</td>\n",
       "      <td>1</td>\n",
       "      <td>ultra</td>\n",
       "    </tr>\n",
       "  </tbody>\n",
       "</table>\n",
       "</div>"
      ],
      "text/plain": [
       "   messages_included  mb_per_month_included  minutes_included  \\\n",
       "0                 50                  15360               500   \n",
       "1               1000                  30720              3000   \n",
       "\n",
       "   rub_monthly_fee  rub_per_gb  rub_per_message  rub_per_minute tariff_name  \n",
       "0              550         200                3               3       smart  \n",
       "1             1950         150                1               1       ultra  "
      ]
     },
     "execution_count": 17,
     "metadata": {},
     "output_type": "execute_result"
    }
   ],
   "source": [
    "data_tariffs.head()"
   ]
  },
  {
   "cell_type": "code",
   "execution_count": 18,
   "metadata": {},
   "outputs": [
    {
     "name": "stdout",
     "output_type": "stream",
     "text": [
      "<class 'pandas.core.frame.DataFrame'>\n",
      "RangeIndex: 500 entries, 0 to 499\n",
      "Data columns (total 8 columns):\n",
      " #   Column      Non-Null Count  Dtype \n",
      "---  ------      --------------  ----- \n",
      " 0   user_id     500 non-null    int64 \n",
      " 1   age         500 non-null    int64 \n",
      " 2   churn_date  38 non-null     object\n",
      " 3   city        500 non-null    object\n",
      " 4   first_name  500 non-null    object\n",
      " 5   last_name   500 non-null    object\n",
      " 6   reg_date    500 non-null    object\n",
      " 7   tariff      500 non-null    object\n",
      "dtypes: int64(2), object(6)\n",
      "memory usage: 31.4+ KB\n"
     ]
    }
   ],
   "source": [
    "data_users = pd.read_csv('/datasets/users.csv')\n",
    "data_users.info()"
   ]
  },
  {
   "cell_type": "code",
   "execution_count": 19,
   "metadata": {
    "scrolled": true
   },
   "outputs": [
    {
     "data": {
      "text/html": [
       "<div>\n",
       "<style scoped>\n",
       "    .dataframe tbody tr th:only-of-type {\n",
       "        vertical-align: middle;\n",
       "    }\n",
       "\n",
       "    .dataframe tbody tr th {\n",
       "        vertical-align: top;\n",
       "    }\n",
       "\n",
       "    .dataframe thead th {\n",
       "        text-align: right;\n",
       "    }\n",
       "</style>\n",
       "<table border=\"1\" class=\"dataframe\">\n",
       "  <thead>\n",
       "    <tr style=\"text-align: right;\">\n",
       "      <th></th>\n",
       "      <th>user_id</th>\n",
       "      <th>age</th>\n",
       "      <th>churn_date</th>\n",
       "      <th>city</th>\n",
       "      <th>first_name</th>\n",
       "      <th>last_name</th>\n",
       "      <th>reg_date</th>\n",
       "      <th>tariff</th>\n",
       "    </tr>\n",
       "  </thead>\n",
       "  <tbody>\n",
       "    <tr>\n",
       "      <th>0</th>\n",
       "      <td>1000</td>\n",
       "      <td>52</td>\n",
       "      <td>NaN</td>\n",
       "      <td>Краснодар</td>\n",
       "      <td>Рафаил</td>\n",
       "      <td>Верещагин</td>\n",
       "      <td>2018-05-25</td>\n",
       "      <td>ultra</td>\n",
       "    </tr>\n",
       "    <tr>\n",
       "      <th>1</th>\n",
       "      <td>1001</td>\n",
       "      <td>41</td>\n",
       "      <td>NaN</td>\n",
       "      <td>Москва</td>\n",
       "      <td>Иван</td>\n",
       "      <td>Ежов</td>\n",
       "      <td>2018-11-01</td>\n",
       "      <td>smart</td>\n",
       "    </tr>\n",
       "    <tr>\n",
       "      <th>2</th>\n",
       "      <td>1002</td>\n",
       "      <td>59</td>\n",
       "      <td>NaN</td>\n",
       "      <td>Стерлитамак</td>\n",
       "      <td>Евгений</td>\n",
       "      <td>Абрамович</td>\n",
       "      <td>2018-06-17</td>\n",
       "      <td>smart</td>\n",
       "    </tr>\n",
       "    <tr>\n",
       "      <th>3</th>\n",
       "      <td>1003</td>\n",
       "      <td>23</td>\n",
       "      <td>NaN</td>\n",
       "      <td>Москва</td>\n",
       "      <td>Белла</td>\n",
       "      <td>Белякова</td>\n",
       "      <td>2018-08-17</td>\n",
       "      <td>ultra</td>\n",
       "    </tr>\n",
       "    <tr>\n",
       "      <th>4</th>\n",
       "      <td>1004</td>\n",
       "      <td>68</td>\n",
       "      <td>NaN</td>\n",
       "      <td>Новокузнецк</td>\n",
       "      <td>Татьяна</td>\n",
       "      <td>Авдеенко</td>\n",
       "      <td>2018-05-14</td>\n",
       "      <td>ultra</td>\n",
       "    </tr>\n",
       "    <tr>\n",
       "      <th>5</th>\n",
       "      <td>1005</td>\n",
       "      <td>67</td>\n",
       "      <td>NaN</td>\n",
       "      <td>Набережные Челны</td>\n",
       "      <td>Афанасий</td>\n",
       "      <td>Горлов</td>\n",
       "      <td>2018-01-25</td>\n",
       "      <td>smart</td>\n",
       "    </tr>\n",
       "    <tr>\n",
       "      <th>6</th>\n",
       "      <td>1006</td>\n",
       "      <td>21</td>\n",
       "      <td>NaN</td>\n",
       "      <td>Ульяновск</td>\n",
       "      <td>Леонид</td>\n",
       "      <td>Ермолаев</td>\n",
       "      <td>2018-02-26</td>\n",
       "      <td>smart</td>\n",
       "    </tr>\n",
       "    <tr>\n",
       "      <th>7</th>\n",
       "      <td>1007</td>\n",
       "      <td>65</td>\n",
       "      <td>NaN</td>\n",
       "      <td>Москва</td>\n",
       "      <td>Юна</td>\n",
       "      <td>Березина</td>\n",
       "      <td>2018-04-19</td>\n",
       "      <td>smart</td>\n",
       "    </tr>\n",
       "    <tr>\n",
       "      <th>8</th>\n",
       "      <td>1008</td>\n",
       "      <td>63</td>\n",
       "      <td>NaN</td>\n",
       "      <td>Челябинск</td>\n",
       "      <td>Рустэм</td>\n",
       "      <td>Пономарёв</td>\n",
       "      <td>2018-12-19</td>\n",
       "      <td>smart</td>\n",
       "    </tr>\n",
       "    <tr>\n",
       "      <th>9</th>\n",
       "      <td>1009</td>\n",
       "      <td>24</td>\n",
       "      <td>NaN</td>\n",
       "      <td>Пермь</td>\n",
       "      <td>Василиса</td>\n",
       "      <td>Блинова</td>\n",
       "      <td>2018-03-22</td>\n",
       "      <td>smart</td>\n",
       "    </tr>\n",
       "    <tr>\n",
       "      <th>10</th>\n",
       "      <td>1010</td>\n",
       "      <td>26</td>\n",
       "      <td>NaN</td>\n",
       "      <td>Тюмень</td>\n",
       "      <td>Эдуард</td>\n",
       "      <td>Кононов</td>\n",
       "      <td>2018-08-05</td>\n",
       "      <td>smart</td>\n",
       "    </tr>\n",
       "    <tr>\n",
       "      <th>11</th>\n",
       "      <td>1011</td>\n",
       "      <td>44</td>\n",
       "      <td>NaN</td>\n",
       "      <td>Самара</td>\n",
       "      <td>Веселина</td>\n",
       "      <td>Алёшко</td>\n",
       "      <td>2018-03-19</td>\n",
       "      <td>smart</td>\n",
       "    </tr>\n",
       "    <tr>\n",
       "      <th>12</th>\n",
       "      <td>1012</td>\n",
       "      <td>38</td>\n",
       "      <td>NaN</td>\n",
       "      <td>Санкт-Петербург</td>\n",
       "      <td>Варлам</td>\n",
       "      <td>Соловьев</td>\n",
       "      <td>2018-03-28</td>\n",
       "      <td>smart</td>\n",
       "    </tr>\n",
       "    <tr>\n",
       "      <th>13</th>\n",
       "      <td>1013</td>\n",
       "      <td>36</td>\n",
       "      <td>NaN</td>\n",
       "      <td>Иваново</td>\n",
       "      <td>Борис</td>\n",
       "      <td>Андреенко</td>\n",
       "      <td>2018-11-14</td>\n",
       "      <td>ultra</td>\n",
       "    </tr>\n",
       "    <tr>\n",
       "      <th>14</th>\n",
       "      <td>1014</td>\n",
       "      <td>64</td>\n",
       "      <td>NaN</td>\n",
       "      <td>Чебоксары</td>\n",
       "      <td>Яков</td>\n",
       "      <td>Акинфьев</td>\n",
       "      <td>2018-05-15</td>\n",
       "      <td>smart</td>\n",
       "    </tr>\n",
       "    <tr>\n",
       "      <th>15</th>\n",
       "      <td>1015</td>\n",
       "      <td>26</td>\n",
       "      <td>NaN</td>\n",
       "      <td>Челябинск</td>\n",
       "      <td>Рузана</td>\n",
       "      <td>Алюшина</td>\n",
       "      <td>2018-04-30</td>\n",
       "      <td>smart</td>\n",
       "    </tr>\n",
       "    <tr>\n",
       "      <th>16</th>\n",
       "      <td>1016</td>\n",
       "      <td>58</td>\n",
       "      <td>NaN</td>\n",
       "      <td>Омск</td>\n",
       "      <td>Марица</td>\n",
       "      <td>Сазонова</td>\n",
       "      <td>2018-11-21</td>\n",
       "      <td>ultra</td>\n",
       "    </tr>\n",
       "    <tr>\n",
       "      <th>17</th>\n",
       "      <td>1017</td>\n",
       "      <td>73</td>\n",
       "      <td>NaN</td>\n",
       "      <td>Краснодар</td>\n",
       "      <td>Мария</td>\n",
       "      <td>Аленникова</td>\n",
       "      <td>2018-05-22</td>\n",
       "      <td>smart</td>\n",
       "    </tr>\n",
       "    <tr>\n",
       "      <th>18</th>\n",
       "      <td>1018</td>\n",
       "      <td>71</td>\n",
       "      <td>NaN</td>\n",
       "      <td>Уфа</td>\n",
       "      <td>Матвей</td>\n",
       "      <td>Золотов</td>\n",
       "      <td>2018-04-01</td>\n",
       "      <td>ultra</td>\n",
       "    </tr>\n",
       "    <tr>\n",
       "      <th>19</th>\n",
       "      <td>1019</td>\n",
       "      <td>63</td>\n",
       "      <td>2018-10-05</td>\n",
       "      <td>Томск</td>\n",
       "      <td>Игнатий</td>\n",
       "      <td>Круглов</td>\n",
       "      <td>2018-05-16</td>\n",
       "      <td>ultra</td>\n",
       "    </tr>\n",
       "  </tbody>\n",
       "</table>\n",
       "</div>"
      ],
      "text/plain": [
       "    user_id  age  churn_date              city first_name   last_name  \\\n",
       "0      1000   52         NaN         Краснодар     Рафаил   Верещагин   \n",
       "1      1001   41         NaN            Москва       Иван        Ежов   \n",
       "2      1002   59         NaN       Стерлитамак    Евгений   Абрамович   \n",
       "3      1003   23         NaN            Москва      Белла    Белякова   \n",
       "4      1004   68         NaN       Новокузнецк    Татьяна    Авдеенко   \n",
       "5      1005   67         NaN  Набережные Челны   Афанасий      Горлов   \n",
       "6      1006   21         NaN         Ульяновск     Леонид    Ермолаев   \n",
       "7      1007   65         NaN            Москва        Юна    Березина   \n",
       "8      1008   63         NaN         Челябинск     Рустэм   Пономарёв   \n",
       "9      1009   24         NaN             Пермь   Василиса     Блинова   \n",
       "10     1010   26         NaN            Тюмень     Эдуард     Кононов   \n",
       "11     1011   44         NaN            Самара   Веселина      Алёшко   \n",
       "12     1012   38         NaN   Санкт-Петербург     Варлам    Соловьев   \n",
       "13     1013   36         NaN           Иваново      Борис   Андреенко   \n",
       "14     1014   64         NaN         Чебоксары       Яков    Акинфьев   \n",
       "15     1015   26         NaN         Челябинск     Рузана     Алюшина   \n",
       "16     1016   58         NaN              Омск     Марица    Сазонова   \n",
       "17     1017   73         NaN         Краснодар      Мария  Аленникова   \n",
       "18     1018   71         NaN               Уфа     Матвей     Золотов   \n",
       "19     1019   63  2018-10-05             Томск    Игнатий     Круглов   \n",
       "\n",
       "      reg_date tariff  \n",
       "0   2018-05-25  ultra  \n",
       "1   2018-11-01  smart  \n",
       "2   2018-06-17  smart  \n",
       "3   2018-08-17  ultra  \n",
       "4   2018-05-14  ultra  \n",
       "5   2018-01-25  smart  \n",
       "6   2018-02-26  smart  \n",
       "7   2018-04-19  smart  \n",
       "8   2018-12-19  smart  \n",
       "9   2018-03-22  smart  \n",
       "10  2018-08-05  smart  \n",
       "11  2018-03-19  smart  \n",
       "12  2018-03-28  smart  \n",
       "13  2018-11-14  ultra  \n",
       "14  2018-05-15  smart  \n",
       "15  2018-04-30  smart  \n",
       "16  2018-11-21  ultra  \n",
       "17  2018-05-22  smart  \n",
       "18  2018-04-01  ultra  \n",
       "19  2018-05-16  ultra  "
      ]
     },
     "execution_count": 19,
     "metadata": {},
     "output_type": "execute_result"
    }
   ],
   "source": [
    "data_users.head(20)"
   ]
  },
  {
   "cell_type": "code",
   "execution_count": 20,
   "metadata": {},
   "outputs": [
    {
     "data": {
      "text/html": [
       "<div>\n",
       "<style scoped>\n",
       "    .dataframe tbody tr th:only-of-type {\n",
       "        vertical-align: middle;\n",
       "    }\n",
       "\n",
       "    .dataframe tbody tr th {\n",
       "        vertical-align: top;\n",
       "    }\n",
       "\n",
       "    .dataframe thead th {\n",
       "        text-align: right;\n",
       "    }\n",
       "</style>\n",
       "<table border=\"1\" class=\"dataframe\">\n",
       "  <thead>\n",
       "    <tr style=\"text-align: right;\">\n",
       "      <th></th>\n",
       "      <th>user_id</th>\n",
       "      <th>age</th>\n",
       "    </tr>\n",
       "  </thead>\n",
       "  <tbody>\n",
       "    <tr>\n",
       "      <th>count</th>\n",
       "      <td>500.000000</td>\n",
       "      <td>500.00000</td>\n",
       "    </tr>\n",
       "    <tr>\n",
       "      <th>mean</th>\n",
       "      <td>1249.500000</td>\n",
       "      <td>46.58800</td>\n",
       "    </tr>\n",
       "    <tr>\n",
       "      <th>std</th>\n",
       "      <td>144.481833</td>\n",
       "      <td>16.66763</td>\n",
       "    </tr>\n",
       "    <tr>\n",
       "      <th>min</th>\n",
       "      <td>1000.000000</td>\n",
       "      <td>18.00000</td>\n",
       "    </tr>\n",
       "    <tr>\n",
       "      <th>25%</th>\n",
       "      <td>1124.750000</td>\n",
       "      <td>32.00000</td>\n",
       "    </tr>\n",
       "    <tr>\n",
       "      <th>50%</th>\n",
       "      <td>1249.500000</td>\n",
       "      <td>46.00000</td>\n",
       "    </tr>\n",
       "    <tr>\n",
       "      <th>75%</th>\n",
       "      <td>1374.250000</td>\n",
       "      <td>62.00000</td>\n",
       "    </tr>\n",
       "    <tr>\n",
       "      <th>max</th>\n",
       "      <td>1499.000000</td>\n",
       "      <td>75.00000</td>\n",
       "    </tr>\n",
       "  </tbody>\n",
       "</table>\n",
       "</div>"
      ],
      "text/plain": [
       "           user_id        age\n",
       "count   500.000000  500.00000\n",
       "mean   1249.500000   46.58800\n",
       "std     144.481833   16.66763\n",
       "min    1000.000000   18.00000\n",
       "25%    1124.750000   32.00000\n",
       "50%    1249.500000   46.00000\n",
       "75%    1374.250000   62.00000\n",
       "max    1499.000000   75.00000"
      ]
     },
     "execution_count": 20,
     "metadata": {},
     "output_type": "execute_result"
    }
   ],
   "source": [
    "data_users.describe()"
   ]
  },
  {
   "cell_type": "code",
   "execution_count": 21,
   "metadata": {},
   "outputs": [
    {
     "data": {
      "text/plain": [
       "array(['Краснодар', 'Москва', 'Стерлитамак', 'Новокузнецк',\n",
       "       'Набережные Челны', 'Ульяновск', 'Челябинск', 'Пермь', 'Тюмень',\n",
       "       'Самара', 'Санкт-Петербург', 'Иваново', 'Чебоксары', 'Омск', 'Уфа',\n",
       "       'Томск', 'Чита', 'Мурманск', 'Петрозаводск', 'Тверь',\n",
       "       'Екатеринбург', 'Махачкала', 'Вологда', 'Череповец', 'Ярославль',\n",
       "       'Сочи', 'Хабаровск', 'Ставрополь', 'Рязань', 'Улан-Удэ', 'Тула',\n",
       "       'Саратов', 'Ростов-на-Дону', 'Казань', 'Иркутск', 'Курск',\n",
       "       'Калуга', 'Якутск', 'Астрахань', 'Химки', 'Владикавказ',\n",
       "       'Волгоград', 'Саранск', 'Ижевск', 'Новосибирск', 'Брянск',\n",
       "       'Тольятти', 'Нижний Тагил', 'Орёл', 'Белгород', 'Воронеж',\n",
       "       'Волжский', 'Курган', 'Барнаул', 'Красноярск', 'Архангельск',\n",
       "       'Липецк', 'Кемерово', 'Киров', 'Сургут', 'Пенза', 'Магнитогорск',\n",
       "       'Нижний Новгород', 'Кострома', 'Владивосток', 'Тамбов', 'Балашиха',\n",
       "       'Севастополь', 'Калининград', 'Оренбург', 'Смоленск',\n",
       "       'Нижневартовск', 'Владимир', 'Новороссийск', 'Грозный', 'Подольск'],\n",
       "      dtype=object)"
      ]
     },
     "execution_count": 21,
     "metadata": {},
     "output_type": "execute_result"
    }
   ],
   "source": [
    "data_users['city'].unique()"
   ]
  },
  {
   "cell_type": "code",
   "execution_count": 22,
   "metadata": {},
   "outputs": [
    {
     "data": {
      "text/plain": [
       "array([False])"
      ]
     },
     "execution_count": 22,
     "metadata": {},
     "output_type": "execute_result"
    }
   ],
   "source": [
    "data_users.duplicated().unique()"
   ]
  },
  {
   "cell_type": "code",
   "execution_count": 23,
   "metadata": {},
   "outputs": [
    {
     "data": {
      "text/plain": [
       "['Ёлчина',\n",
       " 'Ёркин',\n",
       " 'Ёркина',\n",
       " 'Ёрохов',\n",
       " 'Ёрохова',\n",
       " 'Абаимов',\n",
       " 'Абакумов',\n",
       " 'Абакшина',\n",
       " 'Абалакова',\n",
       " 'Абалдуева',\n",
       " 'Абалкин',\n",
       " 'Абашкин',\n",
       " 'Абашкина',\n",
       " 'Абдулина',\n",
       " 'Абоимов',\n",
       " 'Абрамович',\n",
       " 'Абрамцев',\n",
       " 'Абрамычева',\n",
       " 'Абрашина',\n",
       " 'Абрикосова',\n",
       " 'Авдеев',\n",
       " 'Авдеенко',\n",
       " 'Авдонюшкин',\n",
       " 'Авдушева',\n",
       " 'Авдышев',\n",
       " 'Авдюков',\n",
       " 'Авраамова',\n",
       " 'Авраменко',\n",
       " 'Авринский',\n",
       " 'Аврорин',\n",
       " 'Авроров',\n",
       " 'Авросимова',\n",
       " 'Авросинова',\n",
       " 'Авсейкина',\n",
       " 'Авчинникова',\n",
       " 'Агаев',\n",
       " 'Агаева',\n",
       " 'Агапеева',\n",
       " 'Агеева',\n",
       " 'Адаменко',\n",
       " 'Адамов',\n",
       " 'Азаров',\n",
       " 'Азерников',\n",
       " 'Азимова',\n",
       " 'Акимов',\n",
       " 'Акимчин',\n",
       " 'Акимычева',\n",
       " 'Акиндинов',\n",
       " 'Акинин',\n",
       " 'Акинфьев',\n",
       " 'Аксёнов',\n",
       " 'Акуленко',\n",
       " 'Александрова',\n",
       " 'Александрович',\n",
       " 'Александрюк',\n",
       " 'Алексеева',\n",
       " 'Алексеенко',\n",
       " 'Алексеичев',\n",
       " 'Аленникова',\n",
       " 'Алесин',\n",
       " 'Алехина',\n",
       " 'Алешин',\n",
       " 'Алешина',\n",
       " 'Алешкова',\n",
       " 'Алиев',\n",
       " 'Алфеева',\n",
       " 'Алфимов',\n",
       " 'Алфимова',\n",
       " 'Алымова',\n",
       " 'Алютин',\n",
       " 'Алюшина',\n",
       " 'Алёшко',\n",
       " 'Алёшкова',\n",
       " 'Амелин',\n",
       " 'Амелишко',\n",
       " 'Амельченко',\n",
       " 'Ананьева',\n",
       " 'Андреенко',\n",
       " 'Андрейкин',\n",
       " 'Андрейчук',\n",
       " 'Андрианов',\n",
       " 'Андропов',\n",
       " 'Андропова',\n",
       " 'Андрющенко',\n",
       " 'Аникина',\n",
       " 'Аничкина',\n",
       " 'Анищенко',\n",
       " 'Антипов',\n",
       " 'Антоненко',\n",
       " 'Антонова',\n",
       " 'Антропов',\n",
       " 'Антропова',\n",
       " 'Аракина',\n",
       " 'Аракчеев',\n",
       " 'Аркадьев',\n",
       " 'Арсенкова',\n",
       " 'Артемчук',\n",
       " 'Артемьев',\n",
       " 'Артёменко',\n",
       " 'Артёмов',\n",
       " 'Артёшин',\n",
       " 'Архипова',\n",
       " 'Асафьева',\n",
       " 'Астапенко',\n",
       " 'Астапов',\n",
       " 'Астафьева',\n",
       " 'Афанасенко',\n",
       " 'Афанасова',\n",
       " 'Афинин',\n",
       " 'Афонасьева',\n",
       " 'Афонин',\n",
       " 'Афонина',\n",
       " 'Ахмадулин',\n",
       " 'Ахматов',\n",
       " 'Ахматулин',\n",
       " 'Ахматулина',\n",
       " 'Ахмедов',\n",
       " 'Бабушкина',\n",
       " 'Барсуков',\n",
       " 'Басова',\n",
       " 'Безруков',\n",
       " 'Беликова',\n",
       " 'Белова',\n",
       " 'Белозёров',\n",
       " 'Белоусова',\n",
       " 'Беляев',\n",
       " 'Беляева',\n",
       " 'Белякова',\n",
       " 'Березина',\n",
       " 'Блинова',\n",
       " 'Блохин',\n",
       " 'Блохина',\n",
       " 'Боброва',\n",
       " 'Бобылёв',\n",
       " 'Богданов',\n",
       " 'Богданова',\n",
       " 'Болдырев',\n",
       " 'Болдырева',\n",
       " 'Бондарев',\n",
       " 'Борисова',\n",
       " 'Бородин',\n",
       " 'Бородина',\n",
       " 'Булгаков',\n",
       " 'Бычкова',\n",
       " 'Васильева',\n",
       " 'Верещагин',\n",
       " 'Верещагина',\n",
       " 'Веселов',\n",
       " 'Вешнякова',\n",
       " 'Вишневский',\n",
       " 'Вишняков',\n",
       " 'Воронин',\n",
       " 'Воронина',\n",
       " 'Гаврилова',\n",
       " 'Галкин',\n",
       " 'Глушков',\n",
       " 'Голованова',\n",
       " 'Гончаров',\n",
       " 'Горбачева',\n",
       " 'Горбунов',\n",
       " 'Горлов',\n",
       " 'Григорьев',\n",
       " 'Григорьева',\n",
       " 'Гришина',\n",
       " 'Громова',\n",
       " 'Давыдов',\n",
       " 'Демидов',\n",
       " 'Демьянов',\n",
       " 'Демьянова',\n",
       " 'Денисова',\n",
       " 'Добрынин',\n",
       " 'Добрынина',\n",
       " 'Дорофеева',\n",
       " 'Дроздов',\n",
       " 'Дубинина',\n",
       " 'Дьячкова',\n",
       " 'Евсеев',\n",
       " 'Ежов',\n",
       " 'Елизаров',\n",
       " 'Емельянова',\n",
       " 'Еремин',\n",
       " 'Ермилов',\n",
       " 'Ермолаев',\n",
       " 'Ерофеев',\n",
       " 'Ерофеева',\n",
       " 'Ефремов',\n",
       " 'Жарова',\n",
       " 'Жданов',\n",
       " 'Жукова',\n",
       " 'Завьялова',\n",
       " 'Зайцев',\n",
       " 'Зеленина',\n",
       " 'Зимина',\n",
       " 'Золотов',\n",
       " 'Золотова',\n",
       " 'Зубков',\n",
       " 'Зубкова',\n",
       " 'Зуев',\n",
       " 'Зыков',\n",
       " 'Иванов',\n",
       " 'Иванова',\n",
       " 'Игнатова',\n",
       " 'Игнатьев',\n",
       " 'Игнатьева',\n",
       " 'Измайлова',\n",
       " 'Ильин',\n",
       " 'Ильина',\n",
       " 'Кабанова',\n",
       " 'Казакова',\n",
       " 'Казанцев',\n",
       " 'Калинина',\n",
       " 'Капустин',\n",
       " 'Карасев',\n",
       " 'Карасева',\n",
       " 'Карташова',\n",
       " 'Касьянова',\n",
       " 'Киреева',\n",
       " 'Кириллов',\n",
       " 'Киселёв',\n",
       " 'Климова',\n",
       " 'Ковалева',\n",
       " 'Козлов',\n",
       " 'Козлова',\n",
       " 'Козырева',\n",
       " 'Колесова',\n",
       " 'Колобов',\n",
       " 'Кольцова',\n",
       " 'Кондратов',\n",
       " 'Коновалова',\n",
       " 'Кононов',\n",
       " 'Константинова',\n",
       " 'Корнеева',\n",
       " 'Корнилов',\n",
       " 'Корнилова',\n",
       " 'Корольков',\n",
       " 'Королькова',\n",
       " 'Короткова',\n",
       " 'Коршунов',\n",
       " 'Костин',\n",
       " 'Костина',\n",
       " 'Кочергина',\n",
       " 'Кочетков',\n",
       " 'Кочетов',\n",
       " 'Кошелева',\n",
       " 'Кравцов',\n",
       " 'Красильников',\n",
       " 'Круглов',\n",
       " 'Крылова',\n",
       " 'Крюков',\n",
       " 'Крюкова',\n",
       " 'Крючков',\n",
       " 'Кузнецов',\n",
       " 'Кукушкин',\n",
       " 'Кулагина',\n",
       " 'Кулешова',\n",
       " 'Куприянов',\n",
       " 'Курочкин',\n",
       " 'Лазарева',\n",
       " 'Лапина',\n",
       " 'Лаптева',\n",
       " 'Ларин',\n",
       " 'Ларина',\n",
       " 'Ларионова',\n",
       " 'Латышева',\n",
       " 'Лебедев',\n",
       " 'Левин',\n",
       " 'Леонтьев',\n",
       " 'Литвинов',\n",
       " 'Лобанова',\n",
       " 'Логинов',\n",
       " 'Лосева',\n",
       " 'Лукин',\n",
       " 'Любимов',\n",
       " 'Макаров',\n",
       " 'Макарова',\n",
       " 'Макеев',\n",
       " 'Малахов',\n",
       " 'Малинин',\n",
       " 'Малинина',\n",
       " 'Малышев',\n",
       " 'Мальцев',\n",
       " 'Мамонтова',\n",
       " 'Марков',\n",
       " 'Масленникова',\n",
       " 'Матвеев',\n",
       " 'Медведев',\n",
       " 'Мельникова',\n",
       " 'Меркулова',\n",
       " 'Минаев',\n",
       " 'Минаева',\n",
       " 'Мишин',\n",
       " 'Молчанова',\n",
       " 'Моргунов',\n",
       " 'Морозов',\n",
       " 'Муравьева',\n",
       " 'Муравьёв',\n",
       " 'Мясникова',\n",
       " 'Наумов',\n",
       " 'Некрасов',\n",
       " 'Нестеров',\n",
       " 'Нестерова',\n",
       " 'Нечаева',\n",
       " 'Никонов',\n",
       " 'Никулин',\n",
       " 'Новикова',\n",
       " 'Носкова',\n",
       " 'Овчинников',\n",
       " 'Одинцов',\n",
       " 'Одинцова',\n",
       " 'Озерова',\n",
       " 'Орлов',\n",
       " 'Павловский',\n",
       " 'Панов',\n",
       " 'Пантелеева',\n",
       " 'Панфилов',\n",
       " 'Панфилова',\n",
       " 'Парфенов',\n",
       " 'Петухова',\n",
       " 'Пирогова',\n",
       " 'Платонова',\n",
       " 'Покровский',\n",
       " 'Поликарпова',\n",
       " 'Поляков',\n",
       " 'Пономарев',\n",
       " 'Пономарева',\n",
       " 'Пономарёв',\n",
       " 'Попов',\n",
       " 'Прокофьева',\n",
       " 'Пугачева',\n",
       " 'Ракова',\n",
       " 'Родина',\n",
       " 'Родионов',\n",
       " 'Родионова',\n",
       " 'Розанова',\n",
       " 'Рудаков',\n",
       " 'Румянцева',\n",
       " 'Русанова',\n",
       " 'Рыбакова',\n",
       " 'Рябов',\n",
       " 'Савельева',\n",
       " 'Сазонов',\n",
       " 'Сазонова',\n",
       " 'Сальников',\n",
       " 'Сафонова',\n",
       " 'Сахарова',\n",
       " 'Свиридов',\n",
       " 'Севастьянова',\n",
       " 'Седова',\n",
       " 'Селезнев',\n",
       " 'Селезнева',\n",
       " 'Селиванова',\n",
       " 'Семенова',\n",
       " 'Семин',\n",
       " 'Семина',\n",
       " 'Семёнов',\n",
       " 'Сергеева',\n",
       " 'Серебрякова',\n",
       " 'Серов',\n",
       " 'Силин',\n",
       " 'Симонова',\n",
       " 'Синицын',\n",
       " 'Ситникова',\n",
       " 'Соколов',\n",
       " 'Соловьев',\n",
       " 'Соловьёв',\n",
       " 'Сомова',\n",
       " 'Сорокин',\n",
       " 'Софронов',\n",
       " 'Спиридонова',\n",
       " 'Субботина',\n",
       " 'Суслов',\n",
       " 'Суслова',\n",
       " 'Сухарев',\n",
       " 'Сухарева',\n",
       " 'Сухова',\n",
       " 'Сысоев',\n",
       " 'Тарасов',\n",
       " 'Тарасова',\n",
       " 'Терехова',\n",
       " 'Тетерина',\n",
       " 'Тимофеев',\n",
       " 'Тимофеева',\n",
       " 'Тихомирова',\n",
       " 'Тихонов',\n",
       " 'Толкачев',\n",
       " 'Третьякова',\n",
       " 'Троицкий',\n",
       " 'Трофимов',\n",
       " 'Трофимова',\n",
       " 'Трошин',\n",
       " 'Уваров',\n",
       " 'Устинов',\n",
       " 'Устинова',\n",
       " 'Фадеева',\n",
       " 'Федосеев',\n",
       " 'Фетисова',\n",
       " 'Филатов',\n",
       " 'Фокин',\n",
       " 'Фокина',\n",
       " 'Фомин',\n",
       " 'Фролов',\n",
       " 'Фёдоров',\n",
       " 'Худяков',\n",
       " 'Чернов',\n",
       " 'Черный',\n",
       " 'Чернышев',\n",
       " 'Черняев',\n",
       " 'Чеснокова',\n",
       " 'Чижова',\n",
       " 'Чистякова',\n",
       " 'Чумаков',\n",
       " 'Шарапов',\n",
       " 'Шарапова',\n",
       " 'Шарова',\n",
       " 'Швецов',\n",
       " 'Шевцов',\n",
       " 'Шевцова',\n",
       " 'Щербакова',\n",
       " 'Яшина']"
      ]
     },
     "execution_count": 23,
     "metadata": {},
     "output_type": "execute_result"
    }
   ],
   "source": [
    "sorted(data_users['last_name'].unique())"
   ]
  },
  {
   "cell_type": "code",
   "execution_count": 24,
   "metadata": {},
   "outputs": [
    {
     "name": "stdout",
     "output_type": "stream",
     "text": [
      "<class 'pandas.core.frame.DataFrame'>\n",
      "RangeIndex: 500 entries, 0 to 499\n",
      "Data columns (total 8 columns):\n",
      " #   Column      Non-Null Count  Dtype         \n",
      "---  ------      --------------  -----         \n",
      " 0   user_id     500 non-null    int64         \n",
      " 1   age         500 non-null    int64         \n",
      " 2   churn_date  38 non-null     datetime64[ns]\n",
      " 3   city        500 non-null    object        \n",
      " 4   first_name  500 non-null    object        \n",
      " 5   last_name   500 non-null    object        \n",
      " 6   reg_date    500 non-null    datetime64[ns]\n",
      " 7   tariff      500 non-null    object        \n",
      "dtypes: datetime64[ns](2), int64(2), object(4)\n",
      "memory usage: 31.4+ KB\n"
     ]
    }
   ],
   "source": [
    "data_users['reg_date'] = pd.to_datetime(data_users['reg_date'], format = '%Y-%m-%d')\n",
    "data_users['churn_date'] = pd.to_datetime(data_users['churn_date'], format = '%Y-%m-%d')\n",
    "data_users.info()"
   ]
  },
  {
   "cell_type": "markdown",
   "metadata": {},
   "source": [
    "### Вывод"
   ]
  },
  {
   "cell_type": "markdown",
   "metadata": {},
   "source": [
    "Файлы с данными изучены, изменён тип данных на datetime в столбцах с датами, удалены строки с нулевыми значениями использованного трафика за сессию. Округлены разговоры до минут в боюшую сторону по условиям оператора. Явных и неявных дубликатов не обнаружено. Идём дальше."
   ]
  },
  {
   "cell_type": "markdown",
   "metadata": {},
   "source": [
    "## Подготовка данных"
   ]
  },
  {
   "cell_type": "markdown",
   "metadata": {},
   "source": [
    "Найдём для каждого пользователя количество сделанных звонков и израсходованных минут разговора по месяцам"
   ]
  },
  {
   "cell_type": "code",
   "execution_count": 25,
   "metadata": {},
   "outputs": [],
   "source": [
    "data_calls['month'] = data_calls['call_date'].dt.month"
   ]
  },
  {
   "cell_type": "code",
   "execution_count": 26,
   "metadata": {},
   "outputs": [
    {
     "data": {
      "text/html": [
       "<div>\n",
       "<style scoped>\n",
       "    .dataframe tbody tr th:only-of-type {\n",
       "        vertical-align: middle;\n",
       "    }\n",
       "\n",
       "    .dataframe tbody tr th {\n",
       "        vertical-align: top;\n",
       "    }\n",
       "\n",
       "    .dataframe thead th {\n",
       "        text-align: right;\n",
       "    }\n",
       "</style>\n",
       "<table border=\"1\" class=\"dataframe\">\n",
       "  <thead>\n",
       "    <tr style=\"text-align: right;\">\n",
       "      <th></th>\n",
       "      <th>user_id</th>\n",
       "      <th>month</th>\n",
       "      <th>calls_count</th>\n",
       "    </tr>\n",
       "  </thead>\n",
       "  <tbody>\n",
       "    <tr>\n",
       "      <th>0</th>\n",
       "      <td>1000</td>\n",
       "      <td>5</td>\n",
       "      <td>22</td>\n",
       "    </tr>\n",
       "    <tr>\n",
       "      <th>1</th>\n",
       "      <td>1000</td>\n",
       "      <td>6</td>\n",
       "      <td>43</td>\n",
       "    </tr>\n",
       "    <tr>\n",
       "      <th>2</th>\n",
       "      <td>1000</td>\n",
       "      <td>7</td>\n",
       "      <td>47</td>\n",
       "    </tr>\n",
       "    <tr>\n",
       "      <th>3</th>\n",
       "      <td>1000</td>\n",
       "      <td>8</td>\n",
       "      <td>52</td>\n",
       "    </tr>\n",
       "    <tr>\n",
       "      <th>4</th>\n",
       "      <td>1000</td>\n",
       "      <td>9</td>\n",
       "      <td>58</td>\n",
       "    </tr>\n",
       "  </tbody>\n",
       "</table>\n",
       "</div>"
      ],
      "text/plain": [
       "   user_id  month  calls_count\n",
       "0     1000      5           22\n",
       "1     1000      6           43\n",
       "2     1000      7           47\n",
       "3     1000      8           52\n",
       "4     1000      9           58"
      ]
     },
     "execution_count": 26,
     "metadata": {},
     "output_type": "execute_result"
    }
   ],
   "source": [
    "data_calls_pivot_count = data_calls.pivot_table(index = ['user_id','month'], values = 'duration', aggfunc = 'count')\n",
    "data_calls_pivot_sum = data_calls.pivot_table(index = ['user_id','month'], values = 'duration', aggfunc = 'sum')\n",
    "data_calls_pivot_count = data_calls_pivot_count.rename(columns ={'duration':'calls_count'}).reset_index()\n",
    "data_calls_pivot_sum = data_calls_pivot_sum.rename(columns ={'duration':'calls_sum'}).reset_index()\n",
    "data_calls_pivot_count.head()"
   ]
  },
  {
   "cell_type": "code",
   "execution_count": 27,
   "metadata": {},
   "outputs": [
    {
     "data": {
      "text/html": [
       "<div>\n",
       "<style scoped>\n",
       "    .dataframe tbody tr th:only-of-type {\n",
       "        vertical-align: middle;\n",
       "    }\n",
       "\n",
       "    .dataframe tbody tr th {\n",
       "        vertical-align: top;\n",
       "    }\n",
       "\n",
       "    .dataframe thead th {\n",
       "        text-align: right;\n",
       "    }\n",
       "</style>\n",
       "<table border=\"1\" class=\"dataframe\">\n",
       "  <thead>\n",
       "    <tr style=\"text-align: right;\">\n",
       "      <th></th>\n",
       "      <th>user_id</th>\n",
       "      <th>month</th>\n",
       "      <th>calls_sum</th>\n",
       "    </tr>\n",
       "  </thead>\n",
       "  <tbody>\n",
       "    <tr>\n",
       "      <th>0</th>\n",
       "      <td>1000</td>\n",
       "      <td>5</td>\n",
       "      <td>159</td>\n",
       "    </tr>\n",
       "    <tr>\n",
       "      <th>1</th>\n",
       "      <td>1000</td>\n",
       "      <td>6</td>\n",
       "      <td>172</td>\n",
       "    </tr>\n",
       "    <tr>\n",
       "      <th>2</th>\n",
       "      <td>1000</td>\n",
       "      <td>7</td>\n",
       "      <td>340</td>\n",
       "    </tr>\n",
       "    <tr>\n",
       "      <th>3</th>\n",
       "      <td>1000</td>\n",
       "      <td>8</td>\n",
       "      <td>408</td>\n",
       "    </tr>\n",
       "    <tr>\n",
       "      <th>4</th>\n",
       "      <td>1000</td>\n",
       "      <td>9</td>\n",
       "      <td>466</td>\n",
       "    </tr>\n",
       "  </tbody>\n",
       "</table>\n",
       "</div>"
      ],
      "text/plain": [
       "   user_id  month  calls_sum\n",
       "0     1000      5        159\n",
       "1     1000      6        172\n",
       "2     1000      7        340\n",
       "3     1000      8        408\n",
       "4     1000      9        466"
      ]
     },
     "execution_count": 27,
     "metadata": {},
     "output_type": "execute_result"
    }
   ],
   "source": [
    "data_calls_pivot_sum.head()"
   ]
  },
  {
   "cell_type": "code",
   "execution_count": 28,
   "metadata": {},
   "outputs": [
    {
     "data": {
      "text/html": [
       "<div>\n",
       "<style scoped>\n",
       "    .dataframe tbody tr th:only-of-type {\n",
       "        vertical-align: middle;\n",
       "    }\n",
       "\n",
       "    .dataframe tbody tr th {\n",
       "        vertical-align: top;\n",
       "    }\n",
       "\n",
       "    .dataframe thead th {\n",
       "        text-align: right;\n",
       "    }\n",
       "</style>\n",
       "<table border=\"1\" class=\"dataframe\">\n",
       "  <thead>\n",
       "    <tr style=\"text-align: right;\">\n",
       "      <th></th>\n",
       "      <th>user_id</th>\n",
       "      <th>month</th>\n",
       "      <th>calls_count</th>\n",
       "      <th>calls_sum</th>\n",
       "    </tr>\n",
       "  </thead>\n",
       "  <tbody>\n",
       "    <tr>\n",
       "      <th>0</th>\n",
       "      <td>1000</td>\n",
       "      <td>5</td>\n",
       "      <td>22</td>\n",
       "      <td>159</td>\n",
       "    </tr>\n",
       "    <tr>\n",
       "      <th>1</th>\n",
       "      <td>1000</td>\n",
       "      <td>6</td>\n",
       "      <td>43</td>\n",
       "      <td>172</td>\n",
       "    </tr>\n",
       "    <tr>\n",
       "      <th>2</th>\n",
       "      <td>1000</td>\n",
       "      <td>7</td>\n",
       "      <td>47</td>\n",
       "      <td>340</td>\n",
       "    </tr>\n",
       "    <tr>\n",
       "      <th>3</th>\n",
       "      <td>1000</td>\n",
       "      <td>8</td>\n",
       "      <td>52</td>\n",
       "      <td>408</td>\n",
       "    </tr>\n",
       "    <tr>\n",
       "      <th>4</th>\n",
       "      <td>1000</td>\n",
       "      <td>9</td>\n",
       "      <td>58</td>\n",
       "      <td>466</td>\n",
       "    </tr>\n",
       "  </tbody>\n",
       "</table>\n",
       "</div>"
      ],
      "text/plain": [
       "   user_id  month  calls_count  calls_sum\n",
       "0     1000      5           22        159\n",
       "1     1000      6           43        172\n",
       "2     1000      7           47        340\n",
       "3     1000      8           52        408\n",
       "4     1000      9           58        466"
      ]
     },
     "execution_count": 28,
     "metadata": {},
     "output_type": "execute_result"
    }
   ],
   "source": [
    "data_merged = data_calls_pivot_count.merge(data_calls_pivot_sum, how='outer')\n",
    "data_merged.head()"
   ]
  },
  {
   "cell_type": "markdown",
   "metadata": {},
   "source": [
    "Найдём для каждого пользователя количество отправленных сообщений по месяцам"
   ]
  },
  {
   "cell_type": "code",
   "execution_count": 29,
   "metadata": {},
   "outputs": [],
   "source": [
    "data_messages['month'] = data_messages['message_date'].dt.month"
   ]
  },
  {
   "cell_type": "code",
   "execution_count": 30,
   "metadata": {},
   "outputs": [
    {
     "data": {
      "text/html": [
       "<div>\n",
       "<style scoped>\n",
       "    .dataframe tbody tr th:only-of-type {\n",
       "        vertical-align: middle;\n",
       "    }\n",
       "\n",
       "    .dataframe tbody tr th {\n",
       "        vertical-align: top;\n",
       "    }\n",
       "\n",
       "    .dataframe thead th {\n",
       "        text-align: right;\n",
       "    }\n",
       "</style>\n",
       "<table border=\"1\" class=\"dataframe\">\n",
       "  <thead>\n",
       "    <tr style=\"text-align: right;\">\n",
       "      <th></th>\n",
       "      <th>user_id</th>\n",
       "      <th>month</th>\n",
       "      <th>message_count</th>\n",
       "    </tr>\n",
       "  </thead>\n",
       "  <tbody>\n",
       "    <tr>\n",
       "      <th>0</th>\n",
       "      <td>1000</td>\n",
       "      <td>5</td>\n",
       "      <td>22</td>\n",
       "    </tr>\n",
       "    <tr>\n",
       "      <th>1</th>\n",
       "      <td>1000</td>\n",
       "      <td>6</td>\n",
       "      <td>60</td>\n",
       "    </tr>\n",
       "    <tr>\n",
       "      <th>2</th>\n",
       "      <td>1000</td>\n",
       "      <td>7</td>\n",
       "      <td>75</td>\n",
       "    </tr>\n",
       "    <tr>\n",
       "      <th>3</th>\n",
       "      <td>1000</td>\n",
       "      <td>8</td>\n",
       "      <td>81</td>\n",
       "    </tr>\n",
       "    <tr>\n",
       "      <th>4</th>\n",
       "      <td>1000</td>\n",
       "      <td>9</td>\n",
       "      <td>57</td>\n",
       "    </tr>\n",
       "  </tbody>\n",
       "</table>\n",
       "</div>"
      ],
      "text/plain": [
       "   user_id  month  message_count\n",
       "0     1000      5             22\n",
       "1     1000      6             60\n",
       "2     1000      7             75\n",
       "3     1000      8             81\n",
       "4     1000      9             57"
      ]
     },
     "execution_count": 30,
     "metadata": {},
     "output_type": "execute_result"
    }
   ],
   "source": [
    "data_messages_pivot = data_messages.pivot_table(index = ['user_id','month'] ,values ='id', aggfunc = 'count')\n",
    "data_messages_pivot = data_messages_pivot.rename(columns ={'id':'message_count'}).reset_index()\n",
    "data_messages_pivot.head()"
   ]
  },
  {
   "cell_type": "markdown",
   "metadata": {},
   "source": [
    "Присоединим эти данные к нашей сводной таблице"
   ]
  },
  {
   "cell_type": "code",
   "execution_count": 31,
   "metadata": {},
   "outputs": [
    {
     "data": {
      "text/html": [
       "<div>\n",
       "<style scoped>\n",
       "    .dataframe tbody tr th:only-of-type {\n",
       "        vertical-align: middle;\n",
       "    }\n",
       "\n",
       "    .dataframe tbody tr th {\n",
       "        vertical-align: top;\n",
       "    }\n",
       "\n",
       "    .dataframe thead th {\n",
       "        text-align: right;\n",
       "    }\n",
       "</style>\n",
       "<table border=\"1\" class=\"dataframe\">\n",
       "  <thead>\n",
       "    <tr style=\"text-align: right;\">\n",
       "      <th></th>\n",
       "      <th>user_id</th>\n",
       "      <th>month</th>\n",
       "      <th>calls_count</th>\n",
       "      <th>calls_sum</th>\n",
       "      <th>message_count</th>\n",
       "    </tr>\n",
       "  </thead>\n",
       "  <tbody>\n",
       "    <tr>\n",
       "      <th>0</th>\n",
       "      <td>1000</td>\n",
       "      <td>5</td>\n",
       "      <td>22.0</td>\n",
       "      <td>159.0</td>\n",
       "      <td>22.0</td>\n",
       "    </tr>\n",
       "    <tr>\n",
       "      <th>1</th>\n",
       "      <td>1000</td>\n",
       "      <td>6</td>\n",
       "      <td>43.0</td>\n",
       "      <td>172.0</td>\n",
       "      <td>60.0</td>\n",
       "    </tr>\n",
       "    <tr>\n",
       "      <th>2</th>\n",
       "      <td>1000</td>\n",
       "      <td>7</td>\n",
       "      <td>47.0</td>\n",
       "      <td>340.0</td>\n",
       "      <td>75.0</td>\n",
       "    </tr>\n",
       "    <tr>\n",
       "      <th>3</th>\n",
       "      <td>1000</td>\n",
       "      <td>8</td>\n",
       "      <td>52.0</td>\n",
       "      <td>408.0</td>\n",
       "      <td>81.0</td>\n",
       "    </tr>\n",
       "    <tr>\n",
       "      <th>4</th>\n",
       "      <td>1000</td>\n",
       "      <td>9</td>\n",
       "      <td>58.0</td>\n",
       "      <td>466.0</td>\n",
       "      <td>57.0</td>\n",
       "    </tr>\n",
       "  </tbody>\n",
       "</table>\n",
       "</div>"
      ],
      "text/plain": [
       "   user_id  month  calls_count  calls_sum  message_count\n",
       "0     1000      5         22.0      159.0           22.0\n",
       "1     1000      6         43.0      172.0           60.0\n",
       "2     1000      7         47.0      340.0           75.0\n",
       "3     1000      8         52.0      408.0           81.0\n",
       "4     1000      9         58.0      466.0           57.0"
      ]
     },
     "execution_count": 31,
     "metadata": {},
     "output_type": "execute_result"
    }
   ],
   "source": [
    "data_merged = data_merged.merge(data_messages_pivot, how='outer')\n",
    "data_merged.head()"
   ]
  },
  {
   "cell_type": "markdown",
   "metadata": {},
   "source": [
    "Найдём для каждого пользователя объем израсходованного интернет-трафика по месяцам и присоединим к сводной"
   ]
  },
  {
   "cell_type": "code",
   "execution_count": 32,
   "metadata": {},
   "outputs": [],
   "source": [
    "data_internet['month'] = data_internet['session_date'].dt.month"
   ]
  },
  {
   "cell_type": "code",
   "execution_count": 33,
   "metadata": {},
   "outputs": [
    {
     "data": {
      "text/html": [
       "<div>\n",
       "<style scoped>\n",
       "    .dataframe tbody tr th:only-of-type {\n",
       "        vertical-align: middle;\n",
       "    }\n",
       "\n",
       "    .dataframe tbody tr th {\n",
       "        vertical-align: top;\n",
       "    }\n",
       "\n",
       "    .dataframe thead th {\n",
       "        text-align: right;\n",
       "    }\n",
       "</style>\n",
       "<table border=\"1\" class=\"dataframe\">\n",
       "  <thead>\n",
       "    <tr style=\"text-align: right;\">\n",
       "      <th></th>\n",
       "      <th>user_id</th>\n",
       "      <th>month</th>\n",
       "      <th>calls_count</th>\n",
       "      <th>calls_sum</th>\n",
       "      <th>message_count</th>\n",
       "      <th>mb_used</th>\n",
       "    </tr>\n",
       "  </thead>\n",
       "  <tbody>\n",
       "    <tr>\n",
       "      <th>0</th>\n",
       "      <td>1000</td>\n",
       "      <td>5</td>\n",
       "      <td>22.0</td>\n",
       "      <td>159.0</td>\n",
       "      <td>22.0</td>\n",
       "      <td>2253.49</td>\n",
       "    </tr>\n",
       "    <tr>\n",
       "      <th>1</th>\n",
       "      <td>1000</td>\n",
       "      <td>6</td>\n",
       "      <td>43.0</td>\n",
       "      <td>172.0</td>\n",
       "      <td>60.0</td>\n",
       "      <td>23233.77</td>\n",
       "    </tr>\n",
       "    <tr>\n",
       "      <th>2</th>\n",
       "      <td>1000</td>\n",
       "      <td>7</td>\n",
       "      <td>47.0</td>\n",
       "      <td>340.0</td>\n",
       "      <td>75.0</td>\n",
       "      <td>14003.64</td>\n",
       "    </tr>\n",
       "    <tr>\n",
       "      <th>3</th>\n",
       "      <td>1000</td>\n",
       "      <td>8</td>\n",
       "      <td>52.0</td>\n",
       "      <td>408.0</td>\n",
       "      <td>81.0</td>\n",
       "      <td>14055.93</td>\n",
       "    </tr>\n",
       "    <tr>\n",
       "      <th>4</th>\n",
       "      <td>1000</td>\n",
       "      <td>9</td>\n",
       "      <td>58.0</td>\n",
       "      <td>466.0</td>\n",
       "      <td>57.0</td>\n",
       "      <td>14568.91</td>\n",
       "    </tr>\n",
       "  </tbody>\n",
       "</table>\n",
       "</div>"
      ],
      "text/plain": [
       "   user_id  month  calls_count  calls_sum  message_count   mb_used\n",
       "0     1000      5         22.0      159.0           22.0   2253.49\n",
       "1     1000      6         43.0      172.0           60.0  23233.77\n",
       "2     1000      7         47.0      340.0           75.0  14003.64\n",
       "3     1000      8         52.0      408.0           81.0  14055.93\n",
       "4     1000      9         58.0      466.0           57.0  14568.91"
      ]
     },
     "execution_count": 33,
     "metadata": {},
     "output_type": "execute_result"
    }
   ],
   "source": [
    "data_internet_pivot = data_internet.pivot_table(index = ['user_id','month'] ,values ='mb_used', aggfunc = 'sum')\n",
    "data_internet_pivot = data_internet_pivot.rename(columns ={'mb_used':'mb_used'}).reset_index()\n",
    "data_merged = data_merged.merge(data_internet_pivot, how='outer')\n",
    "data_merged.head()"
   ]
  },
  {
   "cell_type": "markdown",
   "metadata": {},
   "source": [
    "Дальше посчитаем помесячную выручку с каждого пользователя. Для этого дополним нашу сводную таблицу данным по юзерам"
   ]
  },
  {
   "cell_type": "code",
   "execution_count": 34,
   "metadata": {},
   "outputs": [
    {
     "data": {
      "text/html": [
       "<div>\n",
       "<style scoped>\n",
       "    .dataframe tbody tr th:only-of-type {\n",
       "        vertical-align: middle;\n",
       "    }\n",
       "\n",
       "    .dataframe tbody tr th {\n",
       "        vertical-align: top;\n",
       "    }\n",
       "\n",
       "    .dataframe thead th {\n",
       "        text-align: right;\n",
       "    }\n",
       "</style>\n",
       "<table border=\"1\" class=\"dataframe\">\n",
       "  <thead>\n",
       "    <tr style=\"text-align: right;\">\n",
       "      <th></th>\n",
       "      <th>user_id</th>\n",
       "      <th>month</th>\n",
       "      <th>calls_count</th>\n",
       "      <th>calls_sum</th>\n",
       "      <th>message_count</th>\n",
       "      <th>mb_used</th>\n",
       "      <th>age</th>\n",
       "      <th>churn_date</th>\n",
       "      <th>city</th>\n",
       "      <th>first_name</th>\n",
       "      <th>last_name</th>\n",
       "      <th>reg_date</th>\n",
       "      <th>tariff</th>\n",
       "    </tr>\n",
       "  </thead>\n",
       "  <tbody>\n",
       "    <tr>\n",
       "      <th>0</th>\n",
       "      <td>1000</td>\n",
       "      <td>5.0</td>\n",
       "      <td>22.0</td>\n",
       "      <td>159.0</td>\n",
       "      <td>22.0</td>\n",
       "      <td>2253.49</td>\n",
       "      <td>52</td>\n",
       "      <td>NaT</td>\n",
       "      <td>Краснодар</td>\n",
       "      <td>Рафаил</td>\n",
       "      <td>Верещагин</td>\n",
       "      <td>2018-05-25</td>\n",
       "      <td>ultra</td>\n",
       "    </tr>\n",
       "    <tr>\n",
       "      <th>1</th>\n",
       "      <td>1000</td>\n",
       "      <td>6.0</td>\n",
       "      <td>43.0</td>\n",
       "      <td>172.0</td>\n",
       "      <td>60.0</td>\n",
       "      <td>23233.77</td>\n",
       "      <td>52</td>\n",
       "      <td>NaT</td>\n",
       "      <td>Краснодар</td>\n",
       "      <td>Рафаил</td>\n",
       "      <td>Верещагин</td>\n",
       "      <td>2018-05-25</td>\n",
       "      <td>ultra</td>\n",
       "    </tr>\n",
       "    <tr>\n",
       "      <th>2</th>\n",
       "      <td>1000</td>\n",
       "      <td>7.0</td>\n",
       "      <td>47.0</td>\n",
       "      <td>340.0</td>\n",
       "      <td>75.0</td>\n",
       "      <td>14003.64</td>\n",
       "      <td>52</td>\n",
       "      <td>NaT</td>\n",
       "      <td>Краснодар</td>\n",
       "      <td>Рафаил</td>\n",
       "      <td>Верещагин</td>\n",
       "      <td>2018-05-25</td>\n",
       "      <td>ultra</td>\n",
       "    </tr>\n",
       "    <tr>\n",
       "      <th>3</th>\n",
       "      <td>1000</td>\n",
       "      <td>8.0</td>\n",
       "      <td>52.0</td>\n",
       "      <td>408.0</td>\n",
       "      <td>81.0</td>\n",
       "      <td>14055.93</td>\n",
       "      <td>52</td>\n",
       "      <td>NaT</td>\n",
       "      <td>Краснодар</td>\n",
       "      <td>Рафаил</td>\n",
       "      <td>Верещагин</td>\n",
       "      <td>2018-05-25</td>\n",
       "      <td>ultra</td>\n",
       "    </tr>\n",
       "    <tr>\n",
       "      <th>4</th>\n",
       "      <td>1000</td>\n",
       "      <td>9.0</td>\n",
       "      <td>58.0</td>\n",
       "      <td>466.0</td>\n",
       "      <td>57.0</td>\n",
       "      <td>14568.91</td>\n",
       "      <td>52</td>\n",
       "      <td>NaT</td>\n",
       "      <td>Краснодар</td>\n",
       "      <td>Рафаил</td>\n",
       "      <td>Верещагин</td>\n",
       "      <td>2018-05-25</td>\n",
       "      <td>ultra</td>\n",
       "    </tr>\n",
       "  </tbody>\n",
       "</table>\n",
       "</div>"
      ],
      "text/plain": [
       "   user_id  month  calls_count  calls_sum  message_count   mb_used  age  \\\n",
       "0     1000    5.0         22.0      159.0           22.0   2253.49   52   \n",
       "1     1000    6.0         43.0      172.0           60.0  23233.77   52   \n",
       "2     1000    7.0         47.0      340.0           75.0  14003.64   52   \n",
       "3     1000    8.0         52.0      408.0           81.0  14055.93   52   \n",
       "4     1000    9.0         58.0      466.0           57.0  14568.91   52   \n",
       "\n",
       "  churn_date       city first_name  last_name   reg_date tariff  \n",
       "0        NaT  Краснодар     Рафаил  Верещагин 2018-05-25  ultra  \n",
       "1        NaT  Краснодар     Рафаил  Верещагин 2018-05-25  ultra  \n",
       "2        NaT  Краснодар     Рафаил  Верещагин 2018-05-25  ultra  \n",
       "3        NaT  Краснодар     Рафаил  Верещагин 2018-05-25  ultra  \n",
       "4        NaT  Краснодар     Рафаил  Верещагин 2018-05-25  ultra  "
      ]
     },
     "execution_count": 34,
     "metadata": {},
     "output_type": "execute_result"
    }
   ],
   "source": [
    "data_merged = data_merged.merge(data_users, how='outer')\n",
    "data_merged.head()"
   ]
  },
  {
   "cell_type": "markdown",
   "metadata": {},
   "source": [
    "Дальше посчитаем переплаты за лимиты по каждому юзеру в зависимости от тарифа"
   ]
  },
  {
   "cell_type": "code",
   "execution_count": 35,
   "metadata": {},
   "outputs": [
    {
     "data": {
      "text/html": [
       "<div>\n",
       "<style scoped>\n",
       "    .dataframe tbody tr th:only-of-type {\n",
       "        vertical-align: middle;\n",
       "    }\n",
       "\n",
       "    .dataframe tbody tr th {\n",
       "        vertical-align: top;\n",
       "    }\n",
       "\n",
       "    .dataframe thead th {\n",
       "        text-align: right;\n",
       "    }\n",
       "</style>\n",
       "<table border=\"1\" class=\"dataframe\">\n",
       "  <thead>\n",
       "    <tr style=\"text-align: right;\">\n",
       "      <th></th>\n",
       "      <th>messages_included</th>\n",
       "      <th>mb_per_month_included</th>\n",
       "      <th>minutes_included</th>\n",
       "      <th>rub_monthly_fee</th>\n",
       "      <th>rub_per_gb</th>\n",
       "      <th>rub_per_message</th>\n",
       "      <th>rub_per_minute</th>\n",
       "      <th>tariff_name</th>\n",
       "    </tr>\n",
       "  </thead>\n",
       "  <tbody>\n",
       "    <tr>\n",
       "      <th>0</th>\n",
       "      <td>50</td>\n",
       "      <td>15360</td>\n",
       "      <td>500</td>\n",
       "      <td>550</td>\n",
       "      <td>200</td>\n",
       "      <td>3</td>\n",
       "      <td>3</td>\n",
       "      <td>smart</td>\n",
       "    </tr>\n",
       "    <tr>\n",
       "      <th>1</th>\n",
       "      <td>1000</td>\n",
       "      <td>30720</td>\n",
       "      <td>3000</td>\n",
       "      <td>1950</td>\n",
       "      <td>150</td>\n",
       "      <td>1</td>\n",
       "      <td>1</td>\n",
       "      <td>ultra</td>\n",
       "    </tr>\n",
       "  </tbody>\n",
       "</table>\n",
       "</div>"
      ],
      "text/plain": [
       "   messages_included  mb_per_month_included  minutes_included  \\\n",
       "0                 50                  15360               500   \n",
       "1               1000                  30720              3000   \n",
       "\n",
       "   rub_monthly_fee  rub_per_gb  rub_per_message  rub_per_minute tariff_name  \n",
       "0              550         200                3               3       smart  \n",
       "1             1950         150                1               1       ultra  "
      ]
     },
     "execution_count": 35,
     "metadata": {},
     "output_type": "execute_result"
    }
   ],
   "source": [
    "data_tariffs"
   ]
  },
  {
   "cell_type": "code",
   "execution_count": 36,
   "metadata": {},
   "outputs": [],
   "source": [
    "def monthly_calls_payment(row):\n",
    "    if row['tariff']=='ultra':\n",
    "        if row['calls_sum'] - 3000  > 0:\n",
    "            return (row['calls_sum'] - 3000)*1\n",
    "    elif row['tariff']=='smart':\n",
    "        if row['calls_sum'] - 500  > 0:\n",
    "            return (row['calls_sum'] - 500)*3\n",
    "    else:\n",
    "        return 0"
   ]
  },
  {
   "cell_type": "code",
   "execution_count": 37,
   "metadata": {},
   "outputs": [],
   "source": [
    "data_merged['monthly_calls_payment'] = data_merged.apply(monthly_calls_payment, axis=1)"
   ]
  },
  {
   "cell_type": "code",
   "execution_count": 38,
   "metadata": {},
   "outputs": [],
   "source": [
    "def monthly_messages_payment(row):\n",
    "    if row['tariff']=='ultra':\n",
    "        if row['message_count'] - 1000  > 0:\n",
    "            return (row['message_count'] - 1000)*1\n",
    "    elif row['tariff']=='smart':\n",
    "        if row['message_count'] - 50  > 0:\n",
    "            return (row['calls_sum'] - 50)*3\n",
    "    else:\n",
    "        return 0"
   ]
  },
  {
   "cell_type": "code",
   "execution_count": 39,
   "metadata": {},
   "outputs": [],
   "source": [
    "data_merged['monthly_messages_payment'] = data_merged.apply(monthly_messages_payment, axis=1)"
   ]
  },
  {
   "cell_type": "code",
   "execution_count": 40,
   "metadata": {},
   "outputs": [],
   "source": [
    "def monthly_internet_payment(row):\n",
    "    if row['tariff']=='ultra':\n",
    "        if row['mb_used'] - 30720  > 0:\n",
    "            return round((row['mb_used'] - 30720)/1024)*150\n",
    "    elif row['tariff']=='smart':\n",
    "        if row['mb_used'] - 15360  > 0:\n",
    "            return round((row['mb_used'] - 15360)/1024)*200\n",
    "    else:\n",
    "        return 0"
   ]
  },
  {
   "cell_type": "code",
   "execution_count": 41,
   "metadata": {},
   "outputs": [],
   "source": [
    "data_merged['monthly_internet_payment'] = data_merged.apply(monthly_internet_payment, axis=1)"
   ]
  },
  {
   "cell_type": "code",
   "execution_count": 42,
   "metadata": {},
   "outputs": [],
   "source": [
    "def monthly_fee(row):\n",
    "    if row['tariff']=='ultra':\n",
    "        return 1950\n",
    "    elif row['tariff']=='smart':\n",
    "        return 550"
   ]
  },
  {
   "cell_type": "code",
   "execution_count": 43,
   "metadata": {},
   "outputs": [],
   "source": [
    "data_merged['monthly_tariff_fee'] = data_merged.apply(monthly_fee, axis=1)"
   ]
  },
  {
   "cell_type": "code",
   "execution_count": 44,
   "metadata": {},
   "outputs": [],
   "source": [
    "#заполним пустые ячейки нулями, чтобы высчитать итоговую стоимость \n",
    "data_merged = data_merged.fillna(0)"
   ]
  },
  {
   "cell_type": "code",
   "execution_count": 45,
   "metadata": {},
   "outputs": [],
   "source": [
    "data_merged['monthly_total_fee'] = (data_merged['monthly_tariff_fee'] + \n",
    "                                    data_merged['monthly_internet_payment'] + \n",
    "                                    data_merged['monthly_messages_payment'] + \n",
    "                                    data_merged['monthly_calls_payment'])"
   ]
  },
  {
   "cell_type": "code",
   "execution_count": 46,
   "metadata": {},
   "outputs": [
    {
     "data": {
      "text/html": [
       "<div>\n",
       "<style scoped>\n",
       "    .dataframe tbody tr th:only-of-type {\n",
       "        vertical-align: middle;\n",
       "    }\n",
       "\n",
       "    .dataframe tbody tr th {\n",
       "        vertical-align: top;\n",
       "    }\n",
       "\n",
       "    .dataframe thead th {\n",
       "        text-align: right;\n",
       "    }\n",
       "</style>\n",
       "<table border=\"1\" class=\"dataframe\">\n",
       "  <thead>\n",
       "    <tr style=\"text-align: right;\">\n",
       "      <th></th>\n",
       "      <th>user_id</th>\n",
       "      <th>month</th>\n",
       "      <th>calls_count</th>\n",
       "      <th>calls_sum</th>\n",
       "      <th>message_count</th>\n",
       "      <th>mb_used</th>\n",
       "      <th>age</th>\n",
       "      <th>monthly_calls_payment</th>\n",
       "      <th>monthly_messages_payment</th>\n",
       "      <th>monthly_internet_payment</th>\n",
       "      <th>monthly_tariff_fee</th>\n",
       "      <th>monthly_total_fee</th>\n",
       "    </tr>\n",
       "  </thead>\n",
       "  <tbody>\n",
       "    <tr>\n",
       "      <th>count</th>\n",
       "      <td>3216.000000</td>\n",
       "      <td>3216.000000</td>\n",
       "      <td>3216.000000</td>\n",
       "      <td>3216.000000</td>\n",
       "      <td>3216.000000</td>\n",
       "      <td>3216.000000</td>\n",
       "      <td>3216.000000</td>\n",
       "      <td>3216.000000</td>\n",
       "      <td>3216.000000</td>\n",
       "      <td>3216.000000</td>\n",
       "      <td>3216.000000</td>\n",
       "      <td>3216.000000</td>\n",
       "    </tr>\n",
       "    <tr>\n",
       "      <th>mean</th>\n",
       "      <td>1251.588930</td>\n",
       "      <td>8.312189</td>\n",
       "      <td>62.999689</td>\n",
       "      <td>450.964241</td>\n",
       "      <td>38.257463</td>\n",
       "      <td>17196.911608</td>\n",
       "      <td>46.643968</td>\n",
       "      <td>86.510261</td>\n",
       "      <td>225.416045</td>\n",
       "      <td>405.674751</td>\n",
       "      <td>979.228856</td>\n",
       "      <td>1696.829913</td>\n",
       "    </tr>\n",
       "    <tr>\n",
       "      <th>std</th>\n",
       "      <td>144.645928</td>\n",
       "      <td>2.911903</td>\n",
       "      <td>33.263185</td>\n",
       "      <td>242.096312</td>\n",
       "      <td>36.149684</td>\n",
       "      <td>7580.754906</td>\n",
       "      <td>16.581233</td>\n",
       "      <td>219.173942</td>\n",
       "      <td>533.906459</td>\n",
       "      <td>647.138440</td>\n",
       "      <td>645.610249</td>\n",
       "      <td>935.574950</td>\n",
       "    </tr>\n",
       "    <tr>\n",
       "      <th>min</th>\n",
       "      <td>1000.000000</td>\n",
       "      <td>0.000000</td>\n",
       "      <td>0.000000</td>\n",
       "      <td>0.000000</td>\n",
       "      <td>0.000000</td>\n",
       "      <td>0.000000</td>\n",
       "      <td>18.000000</td>\n",
       "      <td>0.000000</td>\n",
       "      <td>-129.000000</td>\n",
       "      <td>0.000000</td>\n",
       "      <td>550.000000</td>\n",
       "      <td>550.000000</td>\n",
       "    </tr>\n",
       "    <tr>\n",
       "      <th>25%</th>\n",
       "      <td>1125.000000</td>\n",
       "      <td>6.000000</td>\n",
       "      <td>40.000000</td>\n",
       "      <td>282.000000</td>\n",
       "      <td>9.000000</td>\n",
       "      <td>12478.765000</td>\n",
       "      <td>32.000000</td>\n",
       "      <td>0.000000</td>\n",
       "      <td>0.000000</td>\n",
       "      <td>0.000000</td>\n",
       "      <td>550.000000</td>\n",
       "      <td>882.750000</td>\n",
       "    </tr>\n",
       "    <tr>\n",
       "      <th>50%</th>\n",
       "      <td>1253.000000</td>\n",
       "      <td>9.000000</td>\n",
       "      <td>62.000000</td>\n",
       "      <td>443.000000</td>\n",
       "      <td>30.000000</td>\n",
       "      <td>16937.820000</td>\n",
       "      <td>46.000000</td>\n",
       "      <td>0.000000</td>\n",
       "      <td>0.000000</td>\n",
       "      <td>0.000000</td>\n",
       "      <td>550.000000</td>\n",
       "      <td>1950.000000</td>\n",
       "    </tr>\n",
       "    <tr>\n",
       "      <th>75%</th>\n",
       "      <td>1378.250000</td>\n",
       "      <td>11.000000</td>\n",
       "      <td>82.000000</td>\n",
       "      <td>589.000000</td>\n",
       "      <td>57.000000</td>\n",
       "      <td>21422.375000</td>\n",
       "      <td>62.000000</td>\n",
       "      <td>0.000000</td>\n",
       "      <td>0.000000</td>\n",
       "      <td>600.000000</td>\n",
       "      <td>1950.000000</td>\n",
       "      <td>1950.000000</td>\n",
       "    </tr>\n",
       "    <tr>\n",
       "      <th>max</th>\n",
       "      <td>1499.000000</td>\n",
       "      <td>12.000000</td>\n",
       "      <td>244.000000</td>\n",
       "      <td>1673.000000</td>\n",
       "      <td>224.000000</td>\n",
       "      <td>49745.690000</td>\n",
       "      <td>75.000000</td>\n",
       "      <td>2805.000000</td>\n",
       "      <td>4155.000000</td>\n",
       "      <td>4600.000000</td>\n",
       "      <td>1950.000000</td>\n",
       "      <td>9542.000000</td>\n",
       "    </tr>\n",
       "  </tbody>\n",
       "</table>\n",
       "</div>"
      ],
      "text/plain": [
       "           user_id        month  calls_count    calls_sum  message_count  \\\n",
       "count  3216.000000  3216.000000  3216.000000  3216.000000    3216.000000   \n",
       "mean   1251.588930     8.312189    62.999689   450.964241      38.257463   \n",
       "std     144.645928     2.911903    33.263185   242.096312      36.149684   \n",
       "min    1000.000000     0.000000     0.000000     0.000000       0.000000   \n",
       "25%    1125.000000     6.000000    40.000000   282.000000       9.000000   \n",
       "50%    1253.000000     9.000000    62.000000   443.000000      30.000000   \n",
       "75%    1378.250000    11.000000    82.000000   589.000000      57.000000   \n",
       "max    1499.000000    12.000000   244.000000  1673.000000     224.000000   \n",
       "\n",
       "            mb_used          age  monthly_calls_payment  \\\n",
       "count   3216.000000  3216.000000            3216.000000   \n",
       "mean   17196.911608    46.643968              86.510261   \n",
       "std     7580.754906    16.581233             219.173942   \n",
       "min        0.000000    18.000000               0.000000   \n",
       "25%    12478.765000    32.000000               0.000000   \n",
       "50%    16937.820000    46.000000               0.000000   \n",
       "75%    21422.375000    62.000000               0.000000   \n",
       "max    49745.690000    75.000000            2805.000000   \n",
       "\n",
       "       monthly_messages_payment  monthly_internet_payment  monthly_tariff_fee  \\\n",
       "count               3216.000000               3216.000000         3216.000000   \n",
       "mean                 225.416045                405.674751          979.228856   \n",
       "std                  533.906459                647.138440          645.610249   \n",
       "min                 -129.000000                  0.000000          550.000000   \n",
       "25%                    0.000000                  0.000000          550.000000   \n",
       "50%                    0.000000                  0.000000          550.000000   \n",
       "75%                    0.000000                600.000000         1950.000000   \n",
       "max                 4155.000000               4600.000000         1950.000000   \n",
       "\n",
       "       monthly_total_fee  \n",
       "count        3216.000000  \n",
       "mean         1696.829913  \n",
       "std           935.574950  \n",
       "min           550.000000  \n",
       "25%           882.750000  \n",
       "50%          1950.000000  \n",
       "75%          1950.000000  \n",
       "max          9542.000000  "
      ]
     },
     "execution_count": 46,
     "metadata": {},
     "output_type": "execute_result"
    }
   ],
   "source": [
    "data_merged.describe()"
   ]
  },
  {
   "cell_type": "markdown",
   "metadata": {},
   "source": [
    "Посчитали столбец monthly_total_fee, где для каждого пользователя указали помесячную выручку, в зависимости от тарифа и расхода лимитов. Удалим лишние столбцы и можно приступать к анализу выборки."
   ]
  },
  {
   "cell_type": "code",
   "execution_count": 47,
   "metadata": {},
   "outputs": [
    {
     "data": {
      "text/html": [
       "<div>\n",
       "<style scoped>\n",
       "    .dataframe tbody tr th:only-of-type {\n",
       "        vertical-align: middle;\n",
       "    }\n",
       "\n",
       "    .dataframe tbody tr th {\n",
       "        vertical-align: top;\n",
       "    }\n",
       "\n",
       "    .dataframe thead th {\n",
       "        text-align: right;\n",
       "    }\n",
       "</style>\n",
       "<table border=\"1\" class=\"dataframe\">\n",
       "  <thead>\n",
       "    <tr style=\"text-align: right;\">\n",
       "      <th></th>\n",
       "      <th>user_id</th>\n",
       "      <th>month</th>\n",
       "      <th>calls_count</th>\n",
       "      <th>calls_sum</th>\n",
       "      <th>message_count</th>\n",
       "      <th>mb_used</th>\n",
       "      <th>age</th>\n",
       "      <th>churn_date</th>\n",
       "      <th>city</th>\n",
       "      <th>first_name</th>\n",
       "      <th>last_name</th>\n",
       "      <th>reg_date</th>\n",
       "      <th>tariff</th>\n",
       "      <th>monthly_total_fee</th>\n",
       "    </tr>\n",
       "  </thead>\n",
       "  <tbody>\n",
       "    <tr>\n",
       "      <th>0</th>\n",
       "      <td>1000</td>\n",
       "      <td>5.0</td>\n",
       "      <td>22.0</td>\n",
       "      <td>159.0</td>\n",
       "      <td>22.0</td>\n",
       "      <td>2253.49</td>\n",
       "      <td>52</td>\n",
       "      <td>0</td>\n",
       "      <td>Краснодар</td>\n",
       "      <td>Рафаил</td>\n",
       "      <td>Верещагин</td>\n",
       "      <td>2018-05-25</td>\n",
       "      <td>ultra</td>\n",
       "      <td>1950.0</td>\n",
       "    </tr>\n",
       "    <tr>\n",
       "      <th>1</th>\n",
       "      <td>1000</td>\n",
       "      <td>6.0</td>\n",
       "      <td>43.0</td>\n",
       "      <td>172.0</td>\n",
       "      <td>60.0</td>\n",
       "      <td>23233.77</td>\n",
       "      <td>52</td>\n",
       "      <td>0</td>\n",
       "      <td>Краснодар</td>\n",
       "      <td>Рафаил</td>\n",
       "      <td>Верещагин</td>\n",
       "      <td>2018-05-25</td>\n",
       "      <td>ultra</td>\n",
       "      <td>1950.0</td>\n",
       "    </tr>\n",
       "    <tr>\n",
       "      <th>2</th>\n",
       "      <td>1000</td>\n",
       "      <td>7.0</td>\n",
       "      <td>47.0</td>\n",
       "      <td>340.0</td>\n",
       "      <td>75.0</td>\n",
       "      <td>14003.64</td>\n",
       "      <td>52</td>\n",
       "      <td>0</td>\n",
       "      <td>Краснодар</td>\n",
       "      <td>Рафаил</td>\n",
       "      <td>Верещагин</td>\n",
       "      <td>2018-05-25</td>\n",
       "      <td>ultra</td>\n",
       "      <td>1950.0</td>\n",
       "    </tr>\n",
       "    <tr>\n",
       "      <th>3</th>\n",
       "      <td>1000</td>\n",
       "      <td>8.0</td>\n",
       "      <td>52.0</td>\n",
       "      <td>408.0</td>\n",
       "      <td>81.0</td>\n",
       "      <td>14055.93</td>\n",
       "      <td>52</td>\n",
       "      <td>0</td>\n",
       "      <td>Краснодар</td>\n",
       "      <td>Рафаил</td>\n",
       "      <td>Верещагин</td>\n",
       "      <td>2018-05-25</td>\n",
       "      <td>ultra</td>\n",
       "      <td>1950.0</td>\n",
       "    </tr>\n",
       "    <tr>\n",
       "      <th>4</th>\n",
       "      <td>1000</td>\n",
       "      <td>9.0</td>\n",
       "      <td>58.0</td>\n",
       "      <td>466.0</td>\n",
       "      <td>57.0</td>\n",
       "      <td>14568.91</td>\n",
       "      <td>52</td>\n",
       "      <td>0</td>\n",
       "      <td>Краснодар</td>\n",
       "      <td>Рафаил</td>\n",
       "      <td>Верещагин</td>\n",
       "      <td>2018-05-25</td>\n",
       "      <td>ultra</td>\n",
       "      <td>1950.0</td>\n",
       "    </tr>\n",
       "  </tbody>\n",
       "</table>\n",
       "</div>"
      ],
      "text/plain": [
       "   user_id  month  calls_count  calls_sum  message_count   mb_used  age  \\\n",
       "0     1000    5.0         22.0      159.0           22.0   2253.49   52   \n",
       "1     1000    6.0         43.0      172.0           60.0  23233.77   52   \n",
       "2     1000    7.0         47.0      340.0           75.0  14003.64   52   \n",
       "3     1000    8.0         52.0      408.0           81.0  14055.93   52   \n",
       "4     1000    9.0         58.0      466.0           57.0  14568.91   52   \n",
       "\n",
       "  churn_date       city first_name  last_name   reg_date tariff  \\\n",
       "0          0  Краснодар     Рафаил  Верещагин 2018-05-25  ultra   \n",
       "1          0  Краснодар     Рафаил  Верещагин 2018-05-25  ultra   \n",
       "2          0  Краснодар     Рафаил  Верещагин 2018-05-25  ultra   \n",
       "3          0  Краснодар     Рафаил  Верещагин 2018-05-25  ultra   \n",
       "4          0  Краснодар     Рафаил  Верещагин 2018-05-25  ultra   \n",
       "\n",
       "   monthly_total_fee  \n",
       "0             1950.0  \n",
       "1             1950.0  \n",
       "2             1950.0  \n",
       "3             1950.0  \n",
       "4             1950.0  "
      ]
     },
     "execution_count": 47,
     "metadata": {},
     "output_type": "execute_result"
    }
   ],
   "source": [
    "data_final = data_merged.copy()\n",
    "data_final = data_final.drop(columns=['monthly_calls_payment','monthly_messages_payment','monthly_internet_payment','monthly_tariff_fee'])\n",
    "data_final.head()"
   ]
  },
  {
   "cell_type": "markdown",
   "metadata": {},
   "source": [
    "### Вывод"
   ]
  },
  {
   "cell_type": "markdown",
   "metadata": {},
   "source": [
    "Подготовили общую сводную таблицу, где для каждого пользователя отобразили: количество сделанных звонков и израсходованных минут разговора по месяцам, количество отправленных сообщений по месяцам, объем израсходованного интернет-трафика по месяцам, помесячную выручку с каждого пользователя.\n"
   ]
  },
  {
   "cell_type": "markdown",
   "metadata": {},
   "source": [
    "## Анализ данных"
   ]
  },
  {
   "cell_type": "markdown",
   "metadata": {},
   "source": [
    "Рассмотрим на нашей выборке сколько минут разговора, сколько сообщений и какой объём интернет-трафика расходуют пользователи каждого тарифа в месяц"
   ]
  },
  {
   "cell_type": "code",
   "execution_count": 48,
   "metadata": {},
   "outputs": [
    {
     "name": "stdout",
     "output_type": "stream",
     "text": [
      "Среднее равно: 526.0892494929006\n",
      "Дисперсия равна: 100950.00623331097\n",
      "Стандартное отклонение равно: 317.72630711559117\n"
     ]
    },
    {
     "data": {
      "image/png": "[encoded data removed]",
      "text/plain": [
       "<Figure size 864x432 with 1 Axes>"
      ]
     },
     "metadata": {
      "needs_background": "light"
     },
     "output_type": "display_data"
    }
   ],
   "source": [
    "data_final[data_final['tariff'] == 'ultra']['calls_sum'].hist(bins=50,figsize=(12, 6) )\n",
    "plt.title('Минут разговора в месяц тарифа ultra', fontsize=14)\n",
    "plt.xlabel('Минуты разговора')\n",
    "plt.ylabel('Количество пользователей')\n",
    "None\n",
    "print('Среднее равно:', np.mean(data_final[data_final['tariff'] == 'ultra']['calls_sum']))\n",
    "print('Дисперсия равна:', np.var(data_final[data_final['tariff'] == 'ultra']['calls_sum']))\n",
    "print('Стандартное отклонение равно:', np.std(data_final[data_final['tariff'] == 'ultra']['calls_sum']))"
   ]
  },
  {
   "cell_type": "markdown",
   "metadata": {},
   "source": [
    "Распределение по минутам разговора скошенное влево. Видим резкий спад по израсходованным минутам после 800ой (при лимите 3000)"
   ]
  },
  {
   "cell_type": "code",
   "execution_count": 49,
   "metadata": {},
   "outputs": [
    {
     "name": "stdout",
     "output_type": "stream",
     "text": [
      "Среднее равно: 417.747533632287\n",
      "Дисперсия равна: 36265.12415310985\n",
      "Стандартное отклонение равно: 190.4340414765959\n"
     ]
    },
    {
     "data": {
      "image/png": "[encoded data removed]",
      "text/plain": [
       "<Figure size 864x432 with 1 Axes>"
      ]
     },
     "metadata": {
      "needs_background": "light"
     },
     "output_type": "display_data"
    }
   ],
   "source": [
    "data_final[data_final['tariff'] == 'smart']['calls_sum'].hist(bins=50,figsize=(12, 6) )\n",
    "plt.title('Минут разговора в месяц тарифа smart', fontsize=14)\n",
    "plt.xlabel('Минуты разговора')\n",
    "plt.ylabel('Количество пользователей')\n",
    "None\n",
    "print('Среднее равно:', np.mean(data_final[data_final['tariff'] == 'smart']['calls_sum']))\n",
    "print('Дисперсия равна:', np.var(data_final[data_final['tariff'] == 'smart']['calls_sum']))\n",
    "print('Стандартное отклонение равно:', np.std(data_final[data_final['tariff'] == 'smart']['calls_sum']))"
   ]
  },
  {
   "cell_type": "markdown",
   "metadata": {},
   "source": [
    "Распределение по минутам разговора близкое к нормальному, немного скошенно влево. При лимите в 500 минут, чуть больше половины пользователей укладываются в лимит, остальные - нет."
   ]
  },
  {
   "cell_type": "code",
   "execution_count": 50,
   "metadata": {},
   "outputs": [
    {
     "name": "stdout",
     "output_type": "stream",
     "text": [
      "Среднее равно: 49.31338742393509\n",
      "Дисперсия равна: 2283.0995570851965\n",
      "Стандартное отклонение равно: 47.781791061922284\n"
     ]
    },
    {
     "data": {
      "image/png": "[encoded data removed]",
      "text/plain": [
       "<Figure size 864x432 with 1 Axes>"
      ]
     },
     "metadata": {
      "needs_background": "light"
     },
     "output_type": "display_data"
    }
   ],
   "source": [
    "data_final[data_final['tariff'] == 'ultra']['message_count'].hist(bins=50,figsize=(12, 6) )\n",
    "plt.title('Сообщений в месяц тарифа ultra', fontsize=14)\n",
    "plt.xlabel('Количество сообщений')\n",
    "plt.ylabel('Количество пользователей')\n",
    "None\n",
    "print('Среднее равно:', np.mean(data_final[data_final['tariff'] == 'ultra']['message_count']))\n",
    "print('Дисперсия равна:', np.var(data_final[data_final['tariff'] == 'ultra']['message_count']))\n",
    "print('Стандартное отклонение равно:', np.std(data_final[data_final['tariff'] == 'ultra']['message_count']))"
   ]
  },
  {
   "cell_type": "code",
   "execution_count": 51,
   "metadata": {},
   "outputs": [
    {
     "name": "stdout",
     "output_type": "stream",
     "text": [
      "Среднее равно: 33.36905829596412\n",
      "Дисперсия равна: 796.5978766916688\n",
      "Стандартное отклонение равно: 28.224065559229217\n"
     ]
    },
    {
     "data": {
      "image/png": "[encoded data removed]",
      "text/plain": [
       "<Figure size 864x432 with 1 Axes>"
      ]
     },
     "metadata": {
      "needs_background": "light"
     },
     "output_type": "display_data"
    }
   ],
   "source": [
    "data_final[data_final['tariff'] == 'smart']['message_count'].hist(bins=50,figsize=(12, 6) )\n",
    "plt.title('Сообщений в месяц тарифа smart', fontsize=14)\n",
    "plt.xlabel('Количество сообщений')\n",
    "plt.ylabel('Количество пользователей')\n",
    "None\n",
    "print('Среднее равно:', np.mean(data_final[data_final['tariff'] == 'smart']['message_count']))\n",
    "print('Дисперсия равна:', np.var(data_final[data_final['tariff'] == 'smart']['message_count']))\n",
    "print('Стандартное отклонение равно:', np.std(data_final[data_final['tariff'] == 'smart']['message_count']))"
   ]
  },
  {
   "cell_type": "markdown",
   "metadata": {},
   "source": [
    "На обоих тарифах наблюдаем сильно скошенное влево в сторону 0 распределение. Сообщения мало кому нужны, но на тарифе smart ими пользутся активнее."
   ]
  },
  {
   "cell_type": "code",
   "execution_count": 52,
   "metadata": {},
   "outputs": [
    {
     "name": "stdout",
     "output_type": "stream",
     "text": [
      "Среднее равно: 19449.059969574035\n",
      "Дисперсия равна: 101928648.60329504\n",
      "Стандартное отклонение равно: 10095.971899886363\n"
     ]
    },
    {
     "data": {
      "image/png": "[encoded data removed]",
      "text/plain": [
       "<Figure size 864x432 with 1 Axes>"
      ]
     },
     "metadata": {
      "needs_background": "light"
     },
     "output_type": "display_data"
    }
   ],
   "source": [
    "data_final[data_final['tariff'] == 'ultra']['mb_used'].hist(bins=50,figsize=(12, 6) )\n",
    "plt.title('Мегабайт в месяц тарифа ultra', fontsize=14)\n",
    "plt.xlabel('Количество мегабайт')\n",
    "plt.ylabel('Количество пользователей')\n",
    "None\n",
    "print('Среднее равно:', np.mean(data_final[data_final['tariff'] == 'ultra']['mb_used']))\n",
    "print('Дисперсия равна:', np.var(data_final[data_final['tariff'] == 'ultra']['mb_used']))\n",
    "print('Стандартное отклонение равно:', np.std(data_final[data_final['tariff'] == 'ultra']['mb_used']))"
   ]
  },
  {
   "cell_type": "code",
   "execution_count": 53,
   "metadata": {},
   "outputs": [
    {
     "name": "stdout",
     "output_type": "stream",
     "text": [
      "Среднее равно: 16201.118654708522\n",
      "Дисперсия равна: 34549343.55148492\n",
      "Стандартное отклонение равно: 5877.868963449672\n"
     ]
    },
    {
     "data": {
      "image/png": "[encoded data removed]",
      "text/plain": [
       "<Figure size 864x432 with 1 Axes>"
      ]
     },
     "metadata": {
      "needs_background": "light"
     },
     "output_type": "display_data"
    }
   ],
   "source": [
    "data_final[data_final['tariff'] == 'smart']['mb_used'].hist(bins=50,figsize=(12, 6) )\n",
    "plt.title('Мегабайт в месяц тарифа smart', fontsize=14)\n",
    "plt.xlabel('Количество мегабайт')\n",
    "plt.ylabel('Количество пользователей')\n",
    "None\n",
    "print('Среднее равно:', np.mean(data_final[data_final['tariff'] == 'smart']['mb_used']))\n",
    "print('Дисперсия равна:', np.var(data_final[data_final['tariff'] == 'smart']['mb_used']))\n",
    "print('Стандартное отклонение равно:', np.std(data_final[data_final['tariff'] == 'smart']['mb_used']))"
   ]
  },
  {
   "cell_type": "markdown",
   "metadata": {},
   "source": [
    "По использованному трафику распределения близкие к нормальному. На тарифе ультра большинство пользователей укладывается в лимит, а на смарте - нет."
   ]
  },
  {
   "cell_type": "markdown",
   "metadata": {},
   "source": [
    "### Вывод"
   ]
  },
  {
   "cell_type": "markdown",
   "metadata": {},
   "source": [
    "Рассмотрели количество используемого пользователями трафика интернета, сообщений и минут разговора для каждого тарифа в месяц."
   ]
  },
  {
   "cell_type": "markdown",
   "metadata": {},
   "source": [
    "## Проверка гипотез"
   ]
  },
  {
   "cell_type": "markdown",
   "metadata": {},
   "source": [
    "Проверим гипотезу: \"средняя выручка пользователей тарифов «Ультра» и «Смарт» различаются\""
   ]
  },
  {
   "cell_type": "markdown",
   "metadata": {},
   "source": [
    "Формулируем нулевую гипотезу так: средняя выручка пользователей тарифов ультра и смарт равна. Альтернативная гипотеза: средняя выручка пользователей тарифа смарт значимо меньше средней выручки тарифа ультра. Для проверки используем t-test c критерием проверки о равенстве среднего двух генеральных совокупностей по взятым из них выборкам, т.к. имеем две независимые выборки и хотим сравнить равно ли выборочное среднее одной выборке выборочному среднему дргой."
   ]
  },
  {
   "cell_type": "code",
   "execution_count": 54,
   "metadata": {},
   "outputs": [
    {
     "name": "stdout",
     "output_type": "stream",
     "text": [
      "p-value равно: 5.888336072790344e-50\n",
      "Отвергаем нулевую гипотезу\n"
     ]
    }
   ],
   "source": [
    "sample_1 = data_final[data_final['tariff']=='ultra']['monthly_total_fee']\n",
    "sample_2 = data_final[data_final['tariff']=='smart']['monthly_total_fee']\n",
    "results = st.ttest_ind(sample_1, sample_2)\n",
    "alpha = 0.05\n",
    "print('p-value равно:', results.pvalue)\n",
    "if results.pvalue < alpha:\n",
    "      print(\"Отвергаем нулевую гипотезу\")\n",
    "else:\n",
    "      print(\"Не получилось отвергнуть нулевую гипотезу\")"
   ]
  },
  {
   "cell_type": "markdown",
   "metadata": {},
   "source": [
    "Проверим альтернативную гипотезу: средняя выручка пользователей тарифа смарт значимо меньше средней выручки тарифа ультра. Для этого использем t-test для проверки односторонней гипотезы, т.к. нам нужно определить меньше ли выборочное среднее одной выборке выборочного среднего другой."
   ]
  },
  {
   "cell_type": "code",
   "execution_count": 55,
   "metadata": {},
   "outputs": [
    {
     "name": "stdout",
     "output_type": "stream",
     "text": [
      "p-значение: 6.237305172941369e-108\n",
      "Отвергаем альтернативную гипотезу\n"
     ]
    }
   ],
   "source": [
    "result_2 = st.ttest_1samp(\n",
    "    sample_2, \n",
    "    sample_1.mean())\n",
    "print('p-значение:', result_2.pvalue / 2)\n",
    "if (result_2.pvalue / 2 < alpha) and (sample_2.mean() < sample_1.mean()):\n",
    "    print(\"Отвергаем альтернативную гипотезу\")\n",
    "else:\n",
    "    print(\"Не получилось отвергнуть альтернативную гипотезу\")"
   ]
  },
  {
   "cell_type": "markdown",
   "metadata": {},
   "source": [
    "На основе расчётов выше можем принять гипотезу как рабочую: средняя выручка пользователей тарифа смарт больше средней выручки тарифа ультра"
   ]
  },
  {
   "cell_type": "markdown",
   "metadata": {},
   "source": [
    "Проверим гипотезу: \"средняя выручка пользователей из Москвы отличается от выручки пользователей из других регионов\""
   ]
  },
  {
   "cell_type": "markdown",
   "metadata": {},
   "source": [
    "Формулируем нулевую гипотезу так: средняя выручка пользователей из Москвы и других регионов равна. Альтернативная гипотеза: средняя выручка пользователей из Москвы больше средней выручки пользователей других регионов. Для проверки используем t-test c критерием проверки о равенстве среднего двух генеральных совокупностей по взятым из них выборкам, т.к. имеем две независимые выборки и хотим сравнить равно ли выборочное среднее одной выборке выборочному среднему дргой."
   ]
  },
  {
   "cell_type": "code",
   "execution_count": 56,
   "metadata": {},
   "outputs": [
    {
     "name": "stdout",
     "output_type": "stream",
     "text": [
      "p-value равно: 0.09569246234322934\n",
      "Не получилось отвергнуть нулевую гипотезу\n"
     ]
    }
   ],
   "source": [
    "sample_3 = data_final[data_final['city']=='Москва']['monthly_total_fee']\n",
    "sample_4 = data_final[data_final['city']!='Москва']['monthly_total_fee']\n",
    "results_3 = st.ttest_ind(sample_3, sample_4)\n",
    "alpha = 0.05\n",
    "print('p-value равно:', results_3.pvalue)\n",
    "if results_3.pvalue < alpha:\n",
    "      print(\"Отвергаем нулевую гипотезу\")\n",
    "else:\n",
    "      print(\"Не получилось отвергнуть нулевую гипотезу\")"
   ]
  },
  {
   "cell_type": "markdown",
   "metadata": {},
   "source": [
    "Принимаем нулевую гипотезу как рабочую: средняя выручка пользователей из Москвы и других регионов равна"
   ]
  },
  {
   "cell_type": "markdown",
   "metadata": {},
   "source": [
    "### Вывод"
   ]
  },
  {
   "cell_type": "markdown",
   "metadata": {},
   "source": [
    "Проверили 2 гипотезы: средняя выручка пользователей тарифов «Ультра» и «Смарт» различаются; средняя выручка пользователей из Москвы отличается от выручки пользователей из других регионов. Для первой гипотезы установили, что средняя выручка тарифа смарт больше, чем тарифа ультра. Для второй гипотезы получили опровержение."
   ]
  },
  {
   "cell_type": "markdown",
   "metadata": {},
   "source": [
    "## Общий вывод"
   ]
  },
  {
   "cell_type": "markdown",
   "metadata": {},
   "source": [
    "В данном проекте мы попытались определить какой мобильный тариф выгоднее на основе предоставленной выборки из 500 пользователей. По ходу проекта мы изучили, подготовили данные (привели к нужным типам и избавились от части пустых значений), собрали сводный датафрейм с интересующими нам данными и проанализировали его. Определили, что большинство пользователей тарифа ultra укладываются в 800минут разговора в месяц (при лимите 3000), а пользователи smart примерно поровну укладываются и не укладываются в месячный лимит в 500 минут (тех кто не укладывается чуть меньше). Сообщениями мало кто пользуется и там и там, а по интернет трафику перерасходы лимита на обоих тарифах (на smart большинство не улкдаывается, на ultra большинство укладывается). После проверки гипотез установили, что тариф smart коммерчески выгоднее тарифа ultra по средней выручке, а средняя выручка пользователей из Москвы и пользователей из других регионов примерно равны."
   ]
  }
 ],
 "metadata": {
  "ExecuteTimeLog": [
   {
    "duration": 3,
    "start_time": "2022-06-07T11:04:54.426Z"
   },
   {
    "duration": 3,
    "start_time": "2022-06-07T11:04:59.767Z"
   },
   {
    "duration": 226,
    "start_time": "2022-06-07T11:06:34.506Z"
   },
   {
    "duration": 154,
    "start_time": "2022-06-07T11:06:35.263Z"
   },
   {
    "duration": 156,
    "start_time": "2022-06-07T11:06:36.728Z"
   },
   {
    "duration": 198,
    "start_time": "2022-06-07T11:06:43.171Z"
   },
   {
    "duration": 4,
    "start_time": "2022-06-07T11:07:15.087Z"
   },
   {
    "duration": 13,
    "start_time": "2022-06-07T11:07:18.078Z"
   },
   {
    "duration": 28,
    "start_time": "2022-06-07T11:09:26.916Z"
   },
   {
    "duration": 18,
    "start_time": "2022-06-07T11:09:29.534Z"
   },
   {
    "duration": 29,
    "start_time": "2022-06-07T11:09:36.795Z"
   },
   {
    "duration": 314,
    "start_time": "2022-06-07T11:12:43.681Z"
   },
   {
    "duration": 160,
    "start_time": "2022-06-07T11:12:51.146Z"
   },
   {
    "duration": 9,
    "start_time": "2022-06-07T11:12:59.875Z"
   },
   {
    "duration": 11,
    "start_time": "2022-06-07T11:13:31.457Z"
   },
   {
    "duration": 38,
    "start_time": "2022-06-07T11:16:50.703Z"
   },
   {
    "duration": 337,
    "start_time": "2022-06-07T11:18:50.856Z"
   },
   {
    "duration": 8,
    "start_time": "2022-06-07T11:19:17.288Z"
   },
   {
    "duration": 43,
    "start_time": "2022-06-07T11:20:11.574Z"
   },
   {
    "duration": 77,
    "start_time": "2022-06-07T11:20:45.221Z"
   },
   {
    "duration": 10,
    "start_time": "2022-06-07T11:20:58.917Z"
   },
   {
    "duration": 81,
    "start_time": "2022-06-07T11:21:54.626Z"
   },
   {
    "duration": 9,
    "start_time": "2022-06-07T11:22:06.522Z"
   },
   {
    "duration": 12,
    "start_time": "2022-06-07T11:22:27.712Z"
   },
   {
    "duration": 16,
    "start_time": "2022-06-07T11:23:44.417Z"
   },
   {
    "duration": 4,
    "start_time": "2022-06-07T11:24:54.343Z"
   },
   {
    "duration": 9,
    "start_time": "2022-06-07T11:25:26.874Z"
   },
   {
    "duration": 6,
    "start_time": "2022-06-07T11:25:32.618Z"
   },
   {
    "duration": 5,
    "start_time": "2022-06-07T11:26:00.703Z"
   },
   {
    "duration": 7,
    "start_time": "2022-06-07T11:26:17.947Z"
   },
   {
    "duration": 7,
    "start_time": "2022-06-07T11:26:20.249Z"
   },
   {
    "duration": 8,
    "start_time": "2022-06-07T11:26:48.084Z"
   },
   {
    "duration": 13,
    "start_time": "2022-06-07T11:28:09.641Z"
   },
   {
    "duration": 10,
    "start_time": "2022-06-07T11:28:21.520Z"
   },
   {
    "duration": 187,
    "start_time": "2022-06-07T11:30:33.101Z"
   },
   {
    "duration": 1028,
    "start_time": "2022-06-07T11:30:42.322Z"
   },
   {
    "duration": 189,
    "start_time": "2022-06-07T11:30:43.352Z"
   },
   {
    "duration": 21,
    "start_time": "2022-06-07T11:30:43.544Z"
   },
   {
    "duration": 51,
    "start_time": "2022-06-07T11:30:43.568Z"
   },
   {
    "duration": 163,
    "start_time": "2022-06-07T11:30:43.622Z"
   },
   {
    "duration": 11,
    "start_time": "2022-06-07T11:30:43.787Z"
   },
   {
    "duration": 65,
    "start_time": "2022-06-07T11:30:43.800Z"
   },
   {
    "duration": 116,
    "start_time": "2022-06-07T11:30:43.867Z"
   },
   {
    "duration": 10,
    "start_time": "2022-06-07T11:30:43.985Z"
   },
   {
    "duration": 34,
    "start_time": "2022-06-07T11:30:43.999Z"
   },
   {
    "duration": 31,
    "start_time": "2022-06-07T11:30:44.035Z"
   },
   {
    "duration": 13,
    "start_time": "2022-06-07T11:30:44.068Z"
   },
   {
    "duration": 37,
    "start_time": "2022-06-07T11:30:44.083Z"
   },
   {
    "duration": 11,
    "start_time": "2022-06-07T11:30:44.122Z"
   },
   {
    "duration": 16,
    "start_time": "2022-06-07T11:30:44.134Z"
   },
   {
    "duration": 5,
    "start_time": "2022-06-07T11:30:44.151Z"
   },
   {
    "duration": 26,
    "start_time": "2022-06-07T11:30:44.158Z"
   },
   {
    "duration": 8,
    "start_time": "2022-06-07T11:30:44.185Z"
   },
   {
    "duration": 22,
    "start_time": "2022-06-07T11:30:44.195Z"
   },
   {
    "duration": 27,
    "start_time": "2022-06-07T11:31:08.499Z"
   },
   {
    "duration": 25,
    "start_time": "2022-06-07T11:32:06.474Z"
   },
   {
    "duration": 9,
    "start_time": "2022-06-07T11:34:29.488Z"
   },
   {
    "duration": 9,
    "start_time": "2022-06-07T11:34:38.206Z"
   },
   {
    "duration": 14,
    "start_time": "2022-06-07T11:34:55.561Z"
   },
   {
    "duration": 10,
    "start_time": "2022-06-07T11:35:01.144Z"
   },
   {
    "duration": 101,
    "start_time": "2022-06-07T11:35:51.732Z"
   },
   {
    "duration": 16,
    "start_time": "2022-06-07T11:35:53.878Z"
   },
   {
    "duration": 30,
    "start_time": "2022-06-07T12:04:33.064Z"
   },
   {
    "duration": 29,
    "start_time": "2022-06-07T12:08:34.112Z"
   },
   {
    "duration": 29,
    "start_time": "2022-06-07T12:27:29.450Z"
   },
   {
    "duration": 12,
    "start_time": "2022-06-07T12:27:35.576Z"
   },
   {
    "duration": 85,
    "start_time": "2022-06-07T12:29:58.750Z"
   },
   {
    "duration": 39,
    "start_time": "2022-06-07T12:30:07.022Z"
   },
   {
    "duration": 121,
    "start_time": "2022-06-07T12:31:14.138Z"
   },
   {
    "duration": 12,
    "start_time": "2022-06-07T12:33:24.263Z"
   },
   {
    "duration": 15,
    "start_time": "2022-06-07T12:33:34.697Z"
   },
   {
    "duration": 26,
    "start_time": "2022-06-07T12:33:56.395Z"
   },
   {
    "duration": 53,
    "start_time": "2022-06-07T12:34:02.852Z"
   },
   {
    "duration": 27,
    "start_time": "2022-06-07T12:34:47.185Z"
   },
   {
    "duration": 56,
    "start_time": "2022-06-07T12:34:57.059Z"
   },
   {
    "duration": 52,
    "start_time": "2022-06-07T12:35:17.446Z"
   },
   {
    "duration": 38,
    "start_time": "2022-06-07T12:36:34.789Z"
   },
   {
    "duration": 44,
    "start_time": "2022-06-07T12:36:43.824Z"
   },
   {
    "duration": 631,
    "start_time": "2022-06-07T12:39:58.604Z"
   },
   {
    "duration": 72,
    "start_time": "2022-06-07T12:42:11.398Z"
   },
   {
    "duration": 138,
    "start_time": "2022-06-07T12:42:27.064Z"
   },
   {
    "duration": 16,
    "start_time": "2022-06-07T12:42:39.113Z"
   },
   {
    "duration": 73,
    "start_time": "2022-06-07T12:42:42.006Z"
   },
   {
    "duration": 17,
    "start_time": "2022-06-07T12:44:52.056Z"
   },
   {
    "duration": 45,
    "start_time": "2022-06-07T12:45:35.612Z"
   },
   {
    "duration": 18,
    "start_time": "2022-06-07T13:00:47.176Z"
   },
   {
    "duration": 1513,
    "start_time": "2022-06-07T13:02:15.160Z"
   },
   {
    "duration": 340,
    "start_time": "2022-06-07T13:02:16.678Z"
   },
   {
    "duration": 18,
    "start_time": "2022-06-07T13:02:17.021Z"
   },
   {
    "duration": 49,
    "start_time": "2022-06-07T13:02:17.044Z"
   },
   {
    "duration": 87,
    "start_time": "2022-06-07T13:02:17.096Z"
   },
   {
    "duration": 407,
    "start_time": "2022-06-07T13:02:17.186Z"
   },
   {
    "duration": 16,
    "start_time": "2022-06-07T13:02:17.595Z"
   },
   {
    "duration": 80,
    "start_time": "2022-06-07T13:02:17.614Z"
   },
   {
    "duration": 18,
    "start_time": "2022-06-07T13:02:17.696Z"
   },
   {
    "duration": 23,
    "start_time": "2022-06-07T13:02:17.715Z"
   },
   {
    "duration": 36,
    "start_time": "2022-06-07T13:02:17.741Z"
   },
   {
    "duration": 39,
    "start_time": "2022-06-07T13:02:17.779Z"
   },
   {
    "duration": 381,
    "start_time": "2022-06-07T13:02:17.820Z"
   },
   {
    "duration": 12,
    "start_time": "2022-06-07T13:02:18.205Z"
   },
   {
    "duration": 61,
    "start_time": "2022-06-07T13:02:18.219Z"
   },
   {
    "duration": 71,
    "start_time": "2022-06-07T13:02:18.283Z"
   },
   {
    "duration": 12,
    "start_time": "2022-06-07T13:02:18.356Z"
   },
   {
    "duration": 73,
    "start_time": "2022-06-07T13:02:18.370Z"
   },
   {
    "duration": 19,
    "start_time": "2022-06-07T13:02:18.445Z"
   },
   {
    "duration": 21,
    "start_time": "2022-06-07T13:02:18.466Z"
   },
   {
    "duration": 12,
    "start_time": "2022-06-07T13:02:18.490Z"
   },
   {
    "duration": 16,
    "start_time": "2022-06-07T13:02:18.505Z"
   },
   {
    "duration": 12,
    "start_time": "2022-06-07T13:02:18.523Z"
   },
   {
    "duration": 42,
    "start_time": "2022-06-07T13:02:18.537Z"
   },
   {
    "duration": 82,
    "start_time": "2022-06-07T13:02:38.073Z"
   },
   {
    "duration": 1112,
    "start_time": "2022-06-07T13:02:45.270Z"
   },
   {
    "duration": 301,
    "start_time": "2022-06-07T13:02:46.384Z"
   },
   {
    "duration": 14,
    "start_time": "2022-06-07T13:02:46.687Z"
   },
   {
    "duration": 50,
    "start_time": "2022-06-07T13:02:46.703Z"
   },
   {
    "duration": 72,
    "start_time": "2022-06-07T13:02:46.756Z"
   },
   {
    "duration": 380,
    "start_time": "2022-06-07T13:02:46.830Z"
   },
   {
    "duration": 15,
    "start_time": "2022-06-07T13:02:47.213Z"
   },
   {
    "duration": 65,
    "start_time": "2022-06-07T13:02:47.229Z"
   },
   {
    "duration": 18,
    "start_time": "2022-06-07T13:02:47.296Z"
   },
   {
    "duration": 26,
    "start_time": "2022-06-07T13:02:47.316Z"
   },
   {
    "duration": 25,
    "start_time": "2022-06-07T13:02:47.344Z"
   },
   {
    "duration": 33,
    "start_time": "2022-06-07T13:02:47.372Z"
   },
   {
    "duration": 352,
    "start_time": "2022-06-07T13:02:47.407Z"
   },
   {
    "duration": 8,
    "start_time": "2022-06-07T13:02:47.764Z"
   },
   {
    "duration": 58,
    "start_time": "2022-06-07T13:02:47.774Z"
   },
   {
    "duration": 69,
    "start_time": "2022-06-07T13:02:47.834Z"
   },
   {
    "duration": 10,
    "start_time": "2022-06-07T13:02:47.905Z"
   },
   {
    "duration": 110,
    "start_time": "2022-06-07T13:02:47.917Z"
   },
   {
    "duration": 19,
    "start_time": "2022-06-07T13:02:48.029Z"
   },
   {
    "duration": 36,
    "start_time": "2022-06-07T13:02:48.051Z"
   },
   {
    "duration": 21,
    "start_time": "2022-06-07T13:02:48.089Z"
   },
   {
    "duration": 16,
    "start_time": "2022-06-07T13:02:48.112Z"
   },
   {
    "duration": 27,
    "start_time": "2022-06-07T13:02:48.130Z"
   },
   {
    "duration": 29,
    "start_time": "2022-06-07T13:02:48.159Z"
   },
   {
    "duration": 171,
    "start_time": "2022-06-07T13:02:48.191Z"
   },
   {
    "duration": 0,
    "start_time": "2022-06-07T13:02:48.365Z"
   },
   {
    "duration": 0,
    "start_time": "2022-06-07T13:02:48.366Z"
   },
   {
    "duration": 0,
    "start_time": "2022-06-07T13:02:48.368Z"
   },
   {
    "duration": 0,
    "start_time": "2022-06-07T13:02:48.369Z"
   },
   {
    "duration": 0,
    "start_time": "2022-06-07T13:02:48.371Z"
   },
   {
    "duration": 0,
    "start_time": "2022-06-07T13:02:48.373Z"
   },
   {
    "duration": 0,
    "start_time": "2022-06-07T13:02:48.374Z"
   },
   {
    "duration": 64,
    "start_time": "2022-06-07T13:05:43.402Z"
   },
   {
    "duration": 1064,
    "start_time": "2022-06-07T13:05:47.381Z"
   },
   {
    "duration": 294,
    "start_time": "2022-06-07T13:05:48.447Z"
   },
   {
    "duration": 16,
    "start_time": "2022-06-07T13:05:48.743Z"
   },
   {
    "duration": 34,
    "start_time": "2022-06-07T13:05:48.762Z"
   },
   {
    "duration": 66,
    "start_time": "2022-06-07T13:05:48.799Z"
   },
   {
    "duration": 342,
    "start_time": "2022-06-07T13:05:48.866Z"
   },
   {
    "duration": 11,
    "start_time": "2022-06-07T13:05:49.211Z"
   },
   {
    "duration": 42,
    "start_time": "2022-06-07T13:05:49.224Z"
   },
   {
    "duration": 13,
    "start_time": "2022-06-07T13:05:49.268Z"
   },
   {
    "duration": 15,
    "start_time": "2022-06-07T13:05:49.283Z"
   },
   {
    "duration": 8,
    "start_time": "2022-06-07T13:05:49.300Z"
   },
   {
    "duration": 64,
    "start_time": "2022-06-07T13:05:49.309Z"
   },
   {
    "duration": 329,
    "start_time": "2022-06-07T13:05:49.375Z"
   },
   {
    "duration": 7,
    "start_time": "2022-06-07T13:05:49.707Z"
   },
   {
    "duration": 32,
    "start_time": "2022-06-07T13:05:49.716Z"
   },
   {
    "duration": 77,
    "start_time": "2022-06-07T13:05:49.750Z"
   },
   {
    "duration": 8,
    "start_time": "2022-06-07T13:05:49.828Z"
   },
   {
    "duration": 66,
    "start_time": "2022-06-07T13:05:49.838Z"
   },
   {
    "duration": 12,
    "start_time": "2022-06-07T13:05:49.906Z"
   },
   {
    "duration": 21,
    "start_time": "2022-06-07T13:05:49.920Z"
   },
   {
    "duration": 5,
    "start_time": "2022-06-07T13:05:49.943Z"
   },
   {
    "duration": 9,
    "start_time": "2022-06-07T13:05:49.949Z"
   },
   {
    "duration": 14,
    "start_time": "2022-06-07T13:05:49.960Z"
   },
   {
    "duration": 15,
    "start_time": "2022-06-07T13:05:49.975Z"
   },
   {
    "duration": 34,
    "start_time": "2022-06-07T13:05:49.992Z"
   },
   {
    "duration": 44,
    "start_time": "2022-06-07T13:05:50.028Z"
   },
   {
    "duration": 7,
    "start_time": "2022-06-07T13:05:50.074Z"
   },
   {
    "duration": 18,
    "start_time": "2022-06-07T13:05:50.082Z"
   },
   {
    "duration": 63,
    "start_time": "2022-06-07T13:05:50.102Z"
   },
   {
    "duration": 15,
    "start_time": "2022-06-07T13:05:50.167Z"
   },
   {
    "duration": 35,
    "start_time": "2022-06-07T13:05:50.183Z"
   },
   {
    "duration": 37,
    "start_time": "2022-06-07T13:06:35.413Z"
   },
   {
    "duration": 43,
    "start_time": "2022-06-07T13:10:33.903Z"
   },
   {
    "duration": 43,
    "start_time": "2022-06-07T13:11:23.221Z"
   },
   {
    "duration": 53,
    "start_time": "2022-06-07T13:13:53.875Z"
   },
   {
    "duration": 54,
    "start_time": "2022-06-07T13:14:05.359Z"
   },
   {
    "duration": 59,
    "start_time": "2022-06-07T13:14:23.004Z"
   },
   {
    "duration": 61,
    "start_time": "2022-06-07T13:15:21.295Z"
   },
   {
    "duration": 8,
    "start_time": "2022-06-07T13:15:22.706Z"
   },
   {
    "duration": 56,
    "start_time": "2022-06-07T13:15:41.298Z"
   },
   {
    "duration": 9,
    "start_time": "2022-06-07T13:15:42.503Z"
   },
   {
    "duration": 8,
    "start_time": "2022-06-07T13:16:26.676Z"
   },
   {
    "duration": 18,
    "start_time": "2022-06-07T13:16:33.234Z"
   },
   {
    "duration": 107,
    "start_time": "2022-06-07T13:16:51.111Z"
   },
   {
    "duration": 17,
    "start_time": "2022-06-07T13:16:59.504Z"
   },
   {
    "duration": 12,
    "start_time": "2022-06-07T13:17:05.974Z"
   },
   {
    "duration": 7,
    "start_time": "2022-06-07T13:17:09.363Z"
   },
   {
    "duration": 57,
    "start_time": "2022-06-07T13:17:15.714Z"
   },
   {
    "duration": 54,
    "start_time": "2022-06-07T13:17:17.935Z"
   },
   {
    "duration": 14,
    "start_time": "2022-06-07T13:17:29.550Z"
   },
   {
    "duration": 27,
    "start_time": "2022-06-07T13:17:49.911Z"
   },
   {
    "duration": 29,
    "start_time": "2022-06-07T13:18:36.025Z"
   },
   {
    "duration": 40,
    "start_time": "2022-06-07T13:18:39.853Z"
   },
   {
    "duration": 33,
    "start_time": "2022-06-07T13:18:46.350Z"
   },
   {
    "duration": 44,
    "start_time": "2022-06-07T13:19:06.610Z"
   },
   {
    "duration": 45,
    "start_time": "2022-06-07T13:19:12.570Z"
   },
   {
    "duration": 9,
    "start_time": "2022-06-07T13:19:34.767Z"
   },
   {
    "duration": 24,
    "start_time": "2022-06-07T13:19:38.007Z"
   },
   {
    "duration": 23,
    "start_time": "2022-06-07T13:19:59.139Z"
   },
   {
    "duration": 23,
    "start_time": "2022-06-07T13:20:32.512Z"
   },
   {
    "duration": 22,
    "start_time": "2022-06-07T13:20:35.755Z"
   },
   {
    "duration": 26,
    "start_time": "2022-06-07T13:20:43.731Z"
   },
   {
    "duration": 27,
    "start_time": "2022-06-07T13:21:09.595Z"
   },
   {
    "duration": 28,
    "start_time": "2022-06-07T13:21:16.606Z"
   },
   {
    "duration": 20,
    "start_time": "2022-06-07T13:21:27.455Z"
   },
   {
    "duration": 13,
    "start_time": "2022-06-07T13:21:30.767Z"
   },
   {
    "duration": 44,
    "start_time": "2022-06-07T13:22:46.772Z"
   },
   {
    "duration": 41,
    "start_time": "2022-06-07T13:23:00.867Z"
   },
   {
    "duration": 9,
    "start_time": "2022-06-07T13:25:55.161Z"
   },
   {
    "duration": 28,
    "start_time": "2022-06-07T13:25:58.158Z"
   },
   {
    "duration": 33,
    "start_time": "2022-06-07T13:26:47.555Z"
   },
   {
    "duration": 8,
    "start_time": "2022-06-07T13:27:08.359Z"
   },
   {
    "duration": 20,
    "start_time": "2022-06-07T13:29:05.311Z"
   },
   {
    "duration": 23,
    "start_time": "2022-06-07T13:29:13.403Z"
   },
   {
    "duration": 23,
    "start_time": "2022-06-07T13:29:24.914Z"
   },
   {
    "duration": 28,
    "start_time": "2022-06-07T13:29:27.575Z"
   },
   {
    "duration": 13,
    "start_time": "2022-06-07T13:29:35.127Z"
   },
   {
    "duration": 8,
    "start_time": "2022-06-07T13:29:45.159Z"
   },
   {
    "duration": 33,
    "start_time": "2022-06-07T13:29:49.874Z"
   },
   {
    "duration": 8,
    "start_time": "2022-06-07T13:30:32.231Z"
   },
   {
    "duration": 7,
    "start_time": "2022-06-07T13:30:35.399Z"
   },
   {
    "duration": 19,
    "start_time": "2022-06-07T13:31:16.574Z"
   },
   {
    "duration": 30,
    "start_time": "2022-06-07T13:33:10.954Z"
   },
   {
    "duration": 8,
    "start_time": "2022-06-07T13:36:07.467Z"
   },
   {
    "duration": 39,
    "start_time": "2022-06-07T13:36:43.222Z"
   },
   {
    "duration": 31,
    "start_time": "2022-06-07T13:36:49.525Z"
   },
   {
    "duration": 32,
    "start_time": "2022-06-07T13:37:01.303Z"
   },
   {
    "duration": 34,
    "start_time": "2022-06-07T13:37:07.143Z"
   },
   {
    "duration": 35,
    "start_time": "2022-06-07T13:37:21.559Z"
   },
   {
    "duration": 34,
    "start_time": "2022-06-07T13:38:03.155Z"
   },
   {
    "duration": 24,
    "start_time": "2022-06-07T13:38:46.687Z"
   },
   {
    "duration": 1234,
    "start_time": "2022-06-07T13:38:57.760Z"
   },
   {
    "duration": 192,
    "start_time": "2022-06-07T13:38:58.997Z"
   },
   {
    "duration": 12,
    "start_time": "2022-06-07T13:38:59.190Z"
   },
   {
    "duration": 28,
    "start_time": "2022-06-07T13:38:59.204Z"
   },
   {
    "duration": 66,
    "start_time": "2022-06-07T13:38:59.235Z"
   },
   {
    "duration": 167,
    "start_time": "2022-06-07T13:38:59.303Z"
   },
   {
    "duration": 10,
    "start_time": "2022-06-07T13:38:59.472Z"
   },
   {
    "duration": 52,
    "start_time": "2022-06-07T13:38:59.484Z"
   },
   {
    "duration": 29,
    "start_time": "2022-06-07T13:38:59.538Z"
   },
   {
    "duration": 30,
    "start_time": "2022-06-07T13:38:59.568Z"
   },
   {
    "duration": 12,
    "start_time": "2022-06-07T13:38:59.600Z"
   },
   {
    "duration": 27,
    "start_time": "2022-06-07T13:38:59.614Z"
   },
   {
    "duration": 114,
    "start_time": "2022-06-07T13:38:59.664Z"
   },
   {
    "duration": 7,
    "start_time": "2022-06-07T13:38:59.783Z"
   },
   {
    "duration": 42,
    "start_time": "2022-06-07T13:38:59.792Z"
   },
   {
    "duration": 22,
    "start_time": "2022-06-07T13:38:59.836Z"
   },
   {
    "duration": 11,
    "start_time": "2022-06-07T13:38:59.860Z"
   },
   {
    "duration": 40,
    "start_time": "2022-06-07T13:38:59.872Z"
   },
   {
    "duration": 13,
    "start_time": "2022-06-07T13:38:59.913Z"
   },
   {
    "duration": 19,
    "start_time": "2022-06-07T13:38:59.929Z"
   },
   {
    "duration": 5,
    "start_time": "2022-06-07T13:38:59.950Z"
   },
   {
    "duration": 10,
    "start_time": "2022-06-07T13:38:59.957Z"
   },
   {
    "duration": 8,
    "start_time": "2022-06-07T13:38:59.969Z"
   },
   {
    "duration": 18,
    "start_time": "2022-06-07T13:38:59.979Z"
   },
   {
    "duration": 29,
    "start_time": "2022-06-07T13:38:59.999Z"
   },
   {
    "duration": 87,
    "start_time": "2022-06-07T13:39:00.030Z"
   },
   {
    "duration": 7,
    "start_time": "2022-06-07T13:39:00.119Z"
   },
   {
    "duration": 18,
    "start_time": "2022-06-07T13:39:00.128Z"
   },
   {
    "duration": 17,
    "start_time": "2022-06-07T13:39:00.164Z"
   },
   {
    "duration": 35,
    "start_time": "2022-06-07T13:39:00.183Z"
   },
   {
    "duration": 14,
    "start_time": "2022-06-07T13:39:00.220Z"
   },
   {
    "duration": 42,
    "start_time": "2022-06-07T13:39:00.236Z"
   },
   {
    "duration": 38,
    "start_time": "2022-06-07T13:39:00.280Z"
   },
   {
    "duration": 23,
    "start_time": "2022-06-07T13:39:00.319Z"
   },
   {
    "duration": 43,
    "start_time": "2022-06-07T13:39:00.344Z"
   },
   {
    "duration": 9,
    "start_time": "2022-06-07T13:39:00.389Z"
   },
   {
    "duration": 8,
    "start_time": "2022-06-07T13:45:08.160Z"
   },
   {
    "duration": 1099,
    "start_time": "2022-06-07T15:11:47.895Z"
   },
   {
    "duration": 184,
    "start_time": "2022-06-07T15:11:48.996Z"
   },
   {
    "duration": 10,
    "start_time": "2022-06-07T15:11:49.182Z"
   },
   {
    "duration": 32,
    "start_time": "2022-06-07T15:11:49.195Z"
   },
   {
    "duration": 63,
    "start_time": "2022-06-07T15:11:49.229Z"
   },
   {
    "duration": 146,
    "start_time": "2022-06-07T15:11:49.293Z"
   },
   {
    "duration": 11,
    "start_time": "2022-06-07T15:11:49.440Z"
   },
   {
    "duration": 43,
    "start_time": "2022-06-07T15:11:49.452Z"
   },
   {
    "duration": 13,
    "start_time": "2022-06-07T15:11:49.497Z"
   },
   {
    "duration": 16,
    "start_time": "2022-06-07T15:11:49.513Z"
   },
   {
    "duration": 37,
    "start_time": "2022-06-07T15:11:49.530Z"
   },
   {
    "duration": 27,
    "start_time": "2022-06-07T15:11:49.568Z"
   },
   {
    "duration": 112,
    "start_time": "2022-06-07T15:11:49.597Z"
   },
   {
    "duration": 7,
    "start_time": "2022-06-07T15:11:49.710Z"
   },
   {
    "duration": 35,
    "start_time": "2022-06-07T15:11:49.718Z"
   },
   {
    "duration": 22,
    "start_time": "2022-06-07T15:11:49.755Z"
   },
   {
    "duration": 7,
    "start_time": "2022-06-07T15:11:49.778Z"
   },
   {
    "duration": 38,
    "start_time": "2022-06-07T15:11:49.787Z"
   },
   {
    "duration": 11,
    "start_time": "2022-06-07T15:11:49.827Z"
   },
   {
    "duration": 16,
    "start_time": "2022-06-07T15:11:49.840Z"
   },
   {
    "duration": 4,
    "start_time": "2022-06-07T15:11:49.864Z"
   },
   {
    "duration": 10,
    "start_time": "2022-06-07T15:11:49.869Z"
   },
   {
    "duration": 9,
    "start_time": "2022-06-07T15:11:49.881Z"
   },
   {
    "duration": 24,
    "start_time": "2022-06-07T15:11:49.891Z"
   },
   {
    "duration": 28,
    "start_time": "2022-06-07T15:11:49.917Z"
   },
   {
    "duration": 78,
    "start_time": "2022-06-07T15:11:49.947Z"
   },
   {
    "duration": 7,
    "start_time": "2022-06-07T15:11:50.027Z"
   },
   {
    "duration": 29,
    "start_time": "2022-06-07T15:11:50.038Z"
   },
   {
    "duration": 15,
    "start_time": "2022-06-07T15:11:50.069Z"
   },
   {
    "duration": 33,
    "start_time": "2022-06-07T15:11:50.086Z"
   },
   {
    "duration": 43,
    "start_time": "2022-06-07T15:11:50.121Z"
   },
   {
    "duration": 16,
    "start_time": "2022-06-07T15:11:50.166Z"
   },
   {
    "duration": 34,
    "start_time": "2022-06-07T15:11:50.184Z"
   },
   {
    "duration": 44,
    "start_time": "2022-06-07T15:11:50.220Z"
   },
   {
    "duration": 8,
    "start_time": "2022-06-07T15:11:50.266Z"
   },
   {
    "duration": 9,
    "start_time": "2022-06-07T15:11:50.276Z"
   },
   {
    "duration": 9,
    "start_time": "2022-06-07T15:11:50.287Z"
   },
   {
    "duration": 33,
    "start_time": "2022-06-07T15:11:55.062Z"
   },
   {
    "duration": 1067,
    "start_time": "2022-06-07T15:12:21.201Z"
   },
   {
    "duration": 195,
    "start_time": "2022-06-07T15:12:22.270Z"
   },
   {
    "duration": 11,
    "start_time": "2022-06-07T15:12:22.467Z"
   },
   {
    "duration": 39,
    "start_time": "2022-06-07T15:12:22.480Z"
   },
   {
    "duration": 62,
    "start_time": "2022-06-07T15:12:22.521Z"
   },
   {
    "duration": 151,
    "start_time": "2022-06-07T15:12:22.585Z"
   },
   {
    "duration": 10,
    "start_time": "2022-06-07T15:12:22.738Z"
   },
   {
    "duration": 52,
    "start_time": "2022-06-07T15:12:22.750Z"
   },
   {
    "duration": 13,
    "start_time": "2022-06-07T15:12:22.804Z"
   },
   {
    "duration": 16,
    "start_time": "2022-06-07T15:12:22.819Z"
   },
   {
    "duration": 31,
    "start_time": "2022-06-07T15:12:22.836Z"
   },
   {
    "duration": 25,
    "start_time": "2022-06-07T15:12:22.868Z"
   },
   {
    "duration": 112,
    "start_time": "2022-06-07T15:12:22.895Z"
   },
   {
    "duration": 7,
    "start_time": "2022-06-07T15:12:23.010Z"
   },
   {
    "duration": 48,
    "start_time": "2022-06-07T15:12:23.019Z"
   },
   {
    "duration": 24,
    "start_time": "2022-06-07T15:12:23.069Z"
   },
   {
    "duration": 10,
    "start_time": "2022-06-07T15:12:23.095Z"
   },
   {
    "duration": 40,
    "start_time": "2022-06-07T15:12:23.107Z"
   },
   {
    "duration": 13,
    "start_time": "2022-06-07T15:12:23.148Z"
   },
   {
    "duration": 23,
    "start_time": "2022-06-07T15:12:23.162Z"
   },
   {
    "duration": 7,
    "start_time": "2022-06-07T15:12:23.187Z"
   },
   {
    "duration": 12,
    "start_time": "2022-06-07T15:12:23.196Z"
   },
   {
    "duration": 9,
    "start_time": "2022-06-07T15:12:23.209Z"
   },
   {
    "duration": 17,
    "start_time": "2022-06-07T15:12:23.219Z"
   },
   {
    "duration": 30,
    "start_time": "2022-06-07T15:12:23.238Z"
   },
   {
    "duration": 62,
    "start_time": "2022-06-07T15:12:23.270Z"
   },
   {
    "duration": 7,
    "start_time": "2022-06-07T15:12:23.334Z"
   },
   {
    "duration": 29,
    "start_time": "2022-06-07T15:12:23.343Z"
   },
   {
    "duration": 15,
    "start_time": "2022-06-07T15:12:23.374Z"
   },
   {
    "duration": 32,
    "start_time": "2022-06-07T15:12:23.391Z"
   },
   {
    "duration": 14,
    "start_time": "2022-06-07T15:12:23.424Z"
   },
   {
    "duration": 38,
    "start_time": "2022-06-07T15:12:23.439Z"
   },
   {
    "duration": 34,
    "start_time": "2022-06-07T15:12:23.478Z"
   },
   {
    "duration": 21,
    "start_time": "2022-06-07T15:12:23.513Z"
   },
   {
    "duration": 35,
    "start_time": "2022-06-07T15:12:23.536Z"
   },
   {
    "duration": 6,
    "start_time": "2022-06-07T15:12:23.573Z"
   },
   {
    "duration": 9,
    "start_time": "2022-06-07T15:12:23.581Z"
   },
   {
    "duration": 32,
    "start_time": "2022-06-07T15:12:33.109Z"
   },
   {
    "duration": 16,
    "start_time": "2022-06-07T15:13:48.598Z"
   },
   {
    "duration": 25,
    "start_time": "2022-06-07T15:13:52.485Z"
   },
   {
    "duration": 47,
    "start_time": "2022-06-07T15:14:39.087Z"
   },
   {
    "duration": 38,
    "start_time": "2022-06-07T15:14:46.137Z"
   },
   {
    "duration": 18,
    "start_time": "2022-06-07T15:16:48.637Z"
   },
   {
    "duration": 28,
    "start_time": "2022-06-07T15:17:20.311Z"
   },
   {
    "duration": 1295,
    "start_time": "2022-06-07T19:50:53.229Z"
   },
   {
    "duration": 808,
    "start_time": "2022-06-07T19:50:54.526Z"
   },
   {
    "duration": 13,
    "start_time": "2022-06-07T19:50:55.336Z"
   },
   {
    "duration": 30,
    "start_time": "2022-06-07T19:50:55.351Z"
   },
   {
    "duration": 66,
    "start_time": "2022-06-07T19:50:55.384Z"
   },
   {
    "duration": 423,
    "start_time": "2022-06-07T19:50:55.453Z"
   },
   {
    "duration": 11,
    "start_time": "2022-06-07T19:50:55.878Z"
   },
   {
    "duration": 39,
    "start_time": "2022-06-07T19:50:55.891Z"
   },
   {
    "duration": 21,
    "start_time": "2022-06-07T19:50:55.932Z"
   },
   {
    "duration": 16,
    "start_time": "2022-06-07T19:50:55.955Z"
   },
   {
    "duration": 12,
    "start_time": "2022-06-07T19:50:55.973Z"
   },
   {
    "duration": 60,
    "start_time": "2022-06-07T19:50:55.988Z"
   },
   {
    "duration": 177,
    "start_time": "2022-06-07T19:50:56.050Z"
   },
   {
    "duration": 8,
    "start_time": "2022-06-07T19:50:56.230Z"
   },
   {
    "duration": 32,
    "start_time": "2022-06-07T19:50:56.240Z"
   },
   {
    "duration": 50,
    "start_time": "2022-06-07T19:50:56.274Z"
   },
   {
    "duration": 9,
    "start_time": "2022-06-07T19:50:56.325Z"
   },
   {
    "duration": 64,
    "start_time": "2022-06-07T19:50:56.335Z"
   },
   {
    "duration": 12,
    "start_time": "2022-06-07T19:50:56.401Z"
   },
   {
    "duration": 16,
    "start_time": "2022-06-07T19:50:56.415Z"
   },
   {
    "duration": 6,
    "start_time": "2022-06-07T19:50:56.433Z"
   },
   {
    "duration": 11,
    "start_time": "2022-06-07T19:50:56.441Z"
   },
   {
    "duration": 9,
    "start_time": "2022-06-07T19:50:56.454Z"
   },
   {
    "duration": 21,
    "start_time": "2022-06-07T19:50:56.465Z"
   },
   {
    "duration": 54,
    "start_time": "2022-06-07T19:50:56.488Z"
   },
   {
    "duration": 84,
    "start_time": "2022-06-07T19:50:56.545Z"
   },
   {
    "duration": 17,
    "start_time": "2022-06-07T19:50:56.630Z"
   },
   {
    "duration": 16,
    "start_time": "2022-06-07T19:50:56.649Z"
   },
   {
    "duration": 16,
    "start_time": "2022-06-07T19:50:56.666Z"
   },
   {
    "duration": 71,
    "start_time": "2022-06-07T19:50:56.683Z"
   },
   {
    "duration": 21,
    "start_time": "2022-06-07T19:50:56.755Z"
   },
   {
    "duration": 19,
    "start_time": "2022-06-07T19:50:56.778Z"
   },
   {
    "duration": 78,
    "start_time": "2022-06-07T19:50:56.799Z"
   },
   {
    "duration": 37,
    "start_time": "2022-06-07T19:50:56.879Z"
   },
   {
    "duration": 25,
    "start_time": "2022-06-07T19:50:56.918Z"
   },
   {
    "duration": 0,
    "start_time": "2022-06-07T19:50:56.946Z"
   },
   {
    "duration": 6,
    "start_time": "2022-06-07T19:51:12.817Z"
   },
   {
    "duration": 34,
    "start_time": "2022-06-07T19:51:54.711Z"
   },
   {
    "duration": 1117,
    "start_time": "2022-06-07T19:52:06.897Z"
   },
   {
    "duration": 203,
    "start_time": "2022-06-07T19:52:08.015Z"
   },
   {
    "duration": 12,
    "start_time": "2022-06-07T19:52:08.220Z"
   },
   {
    "duration": 34,
    "start_time": "2022-06-07T19:52:08.234Z"
   },
   {
    "duration": 72,
    "start_time": "2022-06-07T19:52:08.270Z"
   },
   {
    "duration": 145,
    "start_time": "2022-06-07T19:52:08.343Z"
   },
   {
    "duration": 14,
    "start_time": "2022-06-07T19:52:08.490Z"
   },
   {
    "duration": 54,
    "start_time": "2022-06-07T19:52:08.505Z"
   },
   {
    "duration": 13,
    "start_time": "2022-06-07T19:52:08.560Z"
   },
   {
    "duration": 16,
    "start_time": "2022-06-07T19:52:08.576Z"
   },
   {
    "duration": 9,
    "start_time": "2022-06-07T19:52:08.593Z"
   },
   {
    "duration": 54,
    "start_time": "2022-06-07T19:52:08.603Z"
   },
   {
    "duration": 101,
    "start_time": "2022-06-07T19:52:08.658Z"
   },
   {
    "duration": 8,
    "start_time": "2022-06-07T19:52:08.761Z"
   },
   {
    "duration": 43,
    "start_time": "2022-06-07T19:52:08.770Z"
   },
   {
    "duration": 31,
    "start_time": "2022-06-07T19:52:08.814Z"
   },
   {
    "duration": 8,
    "start_time": "2022-06-07T19:52:08.846Z"
   },
   {
    "duration": 38,
    "start_time": "2022-06-07T19:52:08.855Z"
   },
   {
    "duration": 13,
    "start_time": "2022-06-07T19:52:08.895Z"
   },
   {
    "duration": 18,
    "start_time": "2022-06-07T19:52:08.910Z"
   },
   {
    "duration": 11,
    "start_time": "2022-06-07T19:52:08.930Z"
   },
   {
    "duration": 6,
    "start_time": "2022-06-07T19:52:08.943Z"
   },
   {
    "duration": 11,
    "start_time": "2022-06-07T19:52:08.951Z"
   },
   {
    "duration": 15,
    "start_time": "2022-06-07T19:52:08.963Z"
   },
   {
    "duration": 26,
    "start_time": "2022-06-07T19:52:08.980Z"
   },
   {
    "duration": 93,
    "start_time": "2022-06-07T19:52:09.008Z"
   },
   {
    "duration": 9,
    "start_time": "2022-06-07T19:52:09.103Z"
   },
   {
    "duration": 28,
    "start_time": "2022-06-07T19:52:09.115Z"
   },
   {
    "duration": 15,
    "start_time": "2022-06-07T19:52:09.145Z"
   },
   {
    "duration": 34,
    "start_time": "2022-06-07T19:52:09.161Z"
   },
   {
    "duration": 15,
    "start_time": "2022-06-07T19:52:09.197Z"
   },
   {
    "duration": 18,
    "start_time": "2022-06-07T19:52:09.242Z"
   },
   {
    "duration": 38,
    "start_time": "2022-06-07T19:52:09.262Z"
   },
   {
    "duration": 58,
    "start_time": "2022-06-07T19:52:09.302Z"
   },
   {
    "duration": 5,
    "start_time": "2022-06-07T19:52:09.363Z"
   },
   {
    "duration": 0,
    "start_time": "2022-06-07T19:52:09.370Z"
   },
   {
    "duration": 6,
    "start_time": "2022-06-07T19:52:58.893Z"
   },
   {
    "duration": 9,
    "start_time": "2022-06-07T19:53:10.152Z"
   },
   {
    "duration": 126,
    "start_time": "2022-06-07T19:53:16.803Z"
   },
   {
    "duration": 466,
    "start_time": "2022-06-07T19:53:38.905Z"
   },
   {
    "duration": 5,
    "start_time": "2022-06-07T19:54:08.361Z"
   },
   {
    "duration": 1635,
    "start_time": "2022-06-07T19:54:11.406Z"
   },
   {
    "duration": 1785,
    "start_time": "2022-06-07T19:54:33.785Z"
   },
   {
    "duration": 5,
    "start_time": "2022-06-07T19:54:40.789Z"
   },
   {
    "duration": 11,
    "start_time": "2022-06-07T19:55:27.324Z"
   },
   {
    "duration": 174,
    "start_time": "2022-06-07T19:55:32.059Z"
   },
   {
    "duration": 112,
    "start_time": "2022-06-07T19:55:40.324Z"
   },
   {
    "duration": 1116,
    "start_time": "2022-06-07T19:58:40.723Z"
   },
   {
    "duration": 190,
    "start_time": "2022-06-07T19:58:41.841Z"
   },
   {
    "duration": 20,
    "start_time": "2022-06-07T19:58:42.033Z"
   },
   {
    "duration": 38,
    "start_time": "2022-06-07T19:58:42.056Z"
   },
   {
    "duration": 77,
    "start_time": "2022-06-07T19:58:42.096Z"
   },
   {
    "duration": 159,
    "start_time": "2022-06-07T19:58:42.175Z"
   },
   {
    "duration": 11,
    "start_time": "2022-06-07T19:58:42.336Z"
   },
   {
    "duration": 44,
    "start_time": "2022-06-07T19:58:42.349Z"
   },
   {
    "duration": 14,
    "start_time": "2022-06-07T19:58:42.394Z"
   },
   {
    "duration": 43,
    "start_time": "2022-06-07T19:58:42.410Z"
   },
   {
    "duration": 12,
    "start_time": "2022-06-07T19:58:42.455Z"
   },
   {
    "duration": 28,
    "start_time": "2022-06-07T19:58:42.469Z"
   },
   {
    "duration": 128,
    "start_time": "2022-06-07T19:58:42.499Z"
   },
   {
    "duration": 12,
    "start_time": "2022-06-07T19:58:42.630Z"
   },
   {
    "duration": 34,
    "start_time": "2022-06-07T19:58:42.644Z"
   },
   {
    "duration": 22,
    "start_time": "2022-06-07T19:58:42.680Z"
   },
   {
    "duration": 9,
    "start_time": "2022-06-07T19:58:42.703Z"
   },
   {
    "duration": 36,
    "start_time": "2022-06-07T19:58:42.714Z"
   },
   {
    "duration": 14,
    "start_time": "2022-06-07T19:58:42.752Z"
   },
   {
    "duration": 22,
    "start_time": "2022-06-07T19:58:42.768Z"
   },
   {
    "duration": 6,
    "start_time": "2022-06-07T19:58:42.792Z"
   },
   {
    "duration": 9,
    "start_time": "2022-06-07T19:58:42.800Z"
   },
   {
    "duration": 40,
    "start_time": "2022-06-07T19:58:42.811Z"
   },
   {
    "duration": 18,
    "start_time": "2022-06-07T19:58:42.853Z"
   },
   {
    "duration": 31,
    "start_time": "2022-06-07T19:58:42.873Z"
   },
   {
    "duration": 108,
    "start_time": "2022-06-07T19:58:42.906Z"
   },
   {
    "duration": 7,
    "start_time": "2022-06-07T19:58:43.016Z"
   },
   {
    "duration": 14,
    "start_time": "2022-06-07T19:58:43.042Z"
   },
   {
    "duration": 16,
    "start_time": "2022-06-07T19:58:43.057Z"
   },
   {
    "duration": 36,
    "start_time": "2022-06-07T19:58:43.075Z"
   },
   {
    "duration": 43,
    "start_time": "2022-06-07T19:58:43.113Z"
   },
   {
    "duration": 18,
    "start_time": "2022-06-07T19:58:43.158Z"
   },
   {
    "duration": 37,
    "start_time": "2022-06-07T19:58:43.178Z"
   },
   {
    "duration": 43,
    "start_time": "2022-06-07T19:58:43.241Z"
   },
   {
    "duration": 4,
    "start_time": "2022-06-07T19:58:43.286Z"
   },
   {
    "duration": 85,
    "start_time": "2022-06-07T19:58:43.293Z"
   },
   {
    "duration": 35,
    "start_time": "2022-06-07T19:58:43.380Z"
   },
   {
    "duration": 8,
    "start_time": "2022-06-07T19:58:43.417Z"
   },
   {
    "duration": 10,
    "start_time": "2022-06-07T19:59:35.122Z"
   },
   {
    "duration": 6,
    "start_time": "2022-06-07T20:00:59.992Z"
   },
   {
    "duration": 6,
    "start_time": "2022-06-07T20:01:07.467Z"
   },
   {
    "duration": 36,
    "start_time": "2022-06-07T20:01:19.434Z"
   },
   {
    "duration": 55,
    "start_time": "2022-06-07T20:01:25.068Z"
   },
   {
    "duration": 1089,
    "start_time": "2022-06-07T20:02:54.854Z"
   },
   {
    "duration": 185,
    "start_time": "2022-06-07T20:02:55.946Z"
   },
   {
    "duration": 14,
    "start_time": "2022-06-07T20:02:56.133Z"
   },
   {
    "duration": 30,
    "start_time": "2022-06-07T20:02:56.149Z"
   },
   {
    "duration": 61,
    "start_time": "2022-06-07T20:02:56.181Z"
   },
   {
    "duration": 146,
    "start_time": "2022-06-07T20:02:56.244Z"
   },
   {
    "duration": 11,
    "start_time": "2022-06-07T20:02:56.391Z"
   },
   {
    "duration": 56,
    "start_time": "2022-06-07T20:02:56.404Z"
   },
   {
    "duration": 13,
    "start_time": "2022-06-07T20:02:56.462Z"
   },
   {
    "duration": 15,
    "start_time": "2022-06-07T20:02:56.478Z"
   },
   {
    "duration": 9,
    "start_time": "2022-06-07T20:02:56.495Z"
   },
   {
    "duration": 54,
    "start_time": "2022-06-07T20:02:56.506Z"
   },
   {
    "duration": 122,
    "start_time": "2022-06-07T20:02:56.561Z"
   },
   {
    "duration": 8,
    "start_time": "2022-06-07T20:02:56.685Z"
   },
   {
    "duration": 47,
    "start_time": "2022-06-07T20:02:56.695Z"
   },
   {
    "duration": 24,
    "start_time": "2022-06-07T20:02:56.744Z"
   },
   {
    "duration": 10,
    "start_time": "2022-06-07T20:02:56.770Z"
   },
   {
    "duration": 43,
    "start_time": "2022-06-07T20:02:56.782Z"
   },
   {
    "duration": 18,
    "start_time": "2022-06-07T20:02:56.827Z"
   },
   {
    "duration": 24,
    "start_time": "2022-06-07T20:02:56.848Z"
   },
   {
    "duration": 13,
    "start_time": "2022-06-07T20:02:56.874Z"
   },
   {
    "duration": 15,
    "start_time": "2022-06-07T20:02:56.889Z"
   },
   {
    "duration": 11,
    "start_time": "2022-06-07T20:02:56.906Z"
   },
   {
    "duration": 28,
    "start_time": "2022-06-07T20:02:56.919Z"
   },
   {
    "duration": 28,
    "start_time": "2022-06-07T20:02:56.949Z"
   },
   {
    "duration": 73,
    "start_time": "2022-06-07T20:02:56.979Z"
   },
   {
    "duration": 8,
    "start_time": "2022-06-07T20:02:57.054Z"
   },
   {
    "duration": 17,
    "start_time": "2022-06-07T20:02:57.065Z"
   },
   {
    "duration": 17,
    "start_time": "2022-06-07T20:02:57.084Z"
   },
   {
    "duration": 61,
    "start_time": "2022-06-07T20:02:57.103Z"
   },
   {
    "duration": 15,
    "start_time": "2022-06-07T20:02:57.165Z"
   },
   {
    "duration": 16,
    "start_time": "2022-06-07T20:02:57.182Z"
   },
   {
    "duration": 62,
    "start_time": "2022-06-07T20:02:57.200Z"
   },
   {
    "duration": 30,
    "start_time": "2022-06-07T20:02:57.263Z"
   },
   {
    "duration": 3,
    "start_time": "2022-06-07T20:02:57.295Z"
   },
   {
    "duration": 86,
    "start_time": "2022-06-07T20:02:57.300Z"
   },
   {
    "duration": 46,
    "start_time": "2022-06-07T20:02:57.388Z"
   },
   {
    "duration": 13,
    "start_time": "2022-06-07T20:02:57.435Z"
   },
   {
    "duration": 24,
    "start_time": "2022-06-07T20:03:48.253Z"
   },
   {
    "duration": 81,
    "start_time": "2022-06-07T20:04:11.076Z"
   },
   {
    "duration": 62,
    "start_time": "2022-06-07T20:04:54.291Z"
   },
   {
    "duration": 88,
    "start_time": "2022-06-07T20:05:23.102Z"
   },
   {
    "duration": 67,
    "start_time": "2022-06-07T20:05:27.594Z"
   },
   {
    "duration": 5,
    "start_time": "2022-06-07T20:08:14.948Z"
   },
   {
    "duration": 8,
    "start_time": "2022-06-07T20:08:39.022Z"
   },
   {
    "duration": 138,
    "start_time": "2022-06-07T20:08:47.946Z"
   },
   {
    "duration": 3,
    "start_time": "2022-06-07T20:09:57.012Z"
   },
   {
    "duration": 51,
    "start_time": "2022-06-07T20:10:21.603Z"
   },
   {
    "duration": 26,
    "start_time": "2022-06-07T20:10:25.573Z"
   },
   {
    "duration": 3,
    "start_time": "2022-06-07T20:14:15.420Z"
   },
   {
    "duration": 3,
    "start_time": "2022-06-07T20:14:26.519Z"
   },
   {
    "duration": 4,
    "start_time": "2022-06-07T20:16:06.787Z"
   },
   {
    "duration": 599,
    "start_time": "2022-06-07T20:16:45.594Z"
   },
   {
    "duration": 5,
    "start_time": "2022-06-07T20:17:06.374Z"
   },
   {
    "duration": 71,
    "start_time": "2022-06-07T20:17:07.818Z"
   },
   {
    "duration": 17,
    "start_time": "2022-06-07T20:17:14.232Z"
   },
   {
    "duration": 36,
    "start_time": "2022-06-07T20:17:18.847Z"
   },
   {
    "duration": 13,
    "start_time": "2022-06-07T20:17:33.833Z"
   },
   {
    "duration": 10,
    "start_time": "2022-06-07T20:20:33.803Z"
   },
   {
    "duration": 3,
    "start_time": "2022-06-07T20:20:40.522Z"
   },
   {
    "duration": 43,
    "start_time": "2022-06-07T20:20:41.700Z"
   },
   {
    "duration": 11,
    "start_time": "2022-06-07T20:20:43.456Z"
   },
   {
    "duration": 54,
    "start_time": "2022-06-07T20:21:25.996Z"
   },
   {
    "duration": 26,
    "start_time": "2022-06-07T20:21:26.803Z"
   },
   {
    "duration": 33,
    "start_time": "2022-06-07T20:23:31.495Z"
   },
   {
    "duration": 5,
    "start_time": "2022-06-07T20:23:37.516Z"
   },
   {
    "duration": 1091,
    "start_time": "2022-06-07T20:23:42.502Z"
   },
   {
    "duration": 179,
    "start_time": "2022-06-07T20:23:43.595Z"
   },
   {
    "duration": 13,
    "start_time": "2022-06-07T20:23:43.776Z"
   },
   {
    "duration": 29,
    "start_time": "2022-06-07T20:23:43.790Z"
   },
   {
    "duration": 62,
    "start_time": "2022-06-07T20:23:43.821Z"
   },
   {
    "duration": 150,
    "start_time": "2022-06-07T20:23:43.885Z"
   },
   {
    "duration": 15,
    "start_time": "2022-06-07T20:23:44.037Z"
   },
   {
    "duration": 54,
    "start_time": "2022-06-07T20:23:44.053Z"
   },
   {
    "duration": 14,
    "start_time": "2022-06-07T20:23:44.109Z"
   },
   {
    "duration": 17,
    "start_time": "2022-06-07T20:23:44.141Z"
   },
   {
    "duration": 11,
    "start_time": "2022-06-07T20:23:44.160Z"
   },
   {
    "duration": 25,
    "start_time": "2022-06-07T20:23:44.172Z"
   },
   {
    "duration": 114,
    "start_time": "2022-06-07T20:23:44.198Z"
   },
   {
    "duration": 7,
    "start_time": "2022-06-07T20:23:44.315Z"
   },
   {
    "duration": 44,
    "start_time": "2022-06-07T20:23:44.324Z"
   },
   {
    "duration": 20,
    "start_time": "2022-06-07T20:23:44.370Z"
   },
   {
    "duration": 9,
    "start_time": "2022-06-07T20:23:44.393Z"
   },
   {
    "duration": 34,
    "start_time": "2022-06-07T20:23:44.404Z"
   },
   {
    "duration": 13,
    "start_time": "2022-06-07T20:23:44.440Z"
   },
   {
    "duration": 16,
    "start_time": "2022-06-07T20:23:44.455Z"
   },
   {
    "duration": 7,
    "start_time": "2022-06-07T20:23:44.473Z"
   },
   {
    "duration": 8,
    "start_time": "2022-06-07T20:23:44.482Z"
   },
   {
    "duration": 8,
    "start_time": "2022-06-07T20:23:44.492Z"
   },
   {
    "duration": 49,
    "start_time": "2022-06-07T20:23:44.502Z"
   },
   {
    "duration": 25,
    "start_time": "2022-06-07T20:23:44.553Z"
   },
   {
    "duration": 81,
    "start_time": "2022-06-07T20:23:44.580Z"
   },
   {
    "duration": 19,
    "start_time": "2022-06-07T20:23:44.662Z"
   },
   {
    "duration": 16,
    "start_time": "2022-06-07T20:23:44.683Z"
   },
   {
    "duration": 19,
    "start_time": "2022-06-07T20:23:44.701Z"
   },
   {
    "duration": 46,
    "start_time": "2022-06-07T20:23:44.722Z"
   },
   {
    "duration": 14,
    "start_time": "2022-06-07T20:23:44.770Z"
   },
   {
    "duration": 18,
    "start_time": "2022-06-07T20:23:44.786Z"
   },
   {
    "duration": 58,
    "start_time": "2022-06-07T20:23:44.806Z"
   },
   {
    "duration": 22,
    "start_time": "2022-06-07T20:23:44.866Z"
   },
   {
    "duration": 7,
    "start_time": "2022-06-07T20:23:44.890Z"
   },
   {
    "duration": 6,
    "start_time": "2022-06-07T20:23:44.899Z"
   },
   {
    "duration": 92,
    "start_time": "2022-06-07T20:23:44.906Z"
   },
   {
    "duration": 4,
    "start_time": "2022-06-07T20:23:45.000Z"
   },
   {
    "duration": 64,
    "start_time": "2022-06-07T20:23:45.006Z"
   },
   {
    "duration": 4,
    "start_time": "2022-06-07T20:23:45.071Z"
   },
   {
    "duration": 62,
    "start_time": "2022-06-07T20:23:45.079Z"
   },
   {
    "duration": 4,
    "start_time": "2022-06-07T20:23:45.143Z"
   },
   {
    "duration": 43,
    "start_time": "2022-06-07T20:23:45.148Z"
   },
   {
    "duration": 5,
    "start_time": "2022-06-07T20:23:45.193Z"
   },
   {
    "duration": 16,
    "start_time": "2022-06-07T20:23:45.199Z"
   },
   {
    "duration": 97,
    "start_time": "2022-06-07T20:24:39.458Z"
   },
   {
    "duration": 11,
    "start_time": "2022-06-07T20:24:43.633Z"
   },
   {
    "duration": 28,
    "start_time": "2022-06-07T20:26:59.464Z"
   },
   {
    "duration": 53,
    "start_time": "2022-06-07T20:28:04.893Z"
   },
   {
    "duration": 6,
    "start_time": "2022-06-07T20:28:16.854Z"
   },
   {
    "duration": 28,
    "start_time": "2022-06-07T20:28:19.696Z"
   },
   {
    "duration": 130,
    "start_time": "2022-06-07T20:28:29.949Z"
   },
   {
    "duration": 4,
    "start_time": "2022-06-07T20:28:32.186Z"
   },
   {
    "duration": 28,
    "start_time": "2022-06-07T20:28:33.718Z"
   },
   {
    "duration": 4,
    "start_time": "2022-06-07T20:29:27.655Z"
   },
   {
    "duration": 28,
    "start_time": "2022-06-07T20:29:28.746Z"
   },
   {
    "duration": 28,
    "start_time": "2022-06-07T20:29:31.249Z"
   },
   {
    "duration": 4,
    "start_time": "2022-06-07T20:29:42.079Z"
   },
   {
    "duration": 5,
    "start_time": "2022-06-07T20:29:44.053Z"
   },
   {
    "duration": 28,
    "start_time": "2022-06-07T20:29:44.498Z"
   },
   {
    "duration": 1134,
    "start_time": "2022-06-07T20:30:19.715Z"
   },
   {
    "duration": 189,
    "start_time": "2022-06-07T20:30:20.851Z"
   },
   {
    "duration": 13,
    "start_time": "2022-06-07T20:30:21.042Z"
   },
   {
    "duration": 31,
    "start_time": "2022-06-07T20:30:21.057Z"
   },
   {
    "duration": 72,
    "start_time": "2022-06-07T20:30:21.090Z"
   },
   {
    "duration": 156,
    "start_time": "2022-06-07T20:30:21.164Z"
   },
   {
    "duration": 11,
    "start_time": "2022-06-07T20:30:21.321Z"
   },
   {
    "duration": 45,
    "start_time": "2022-06-07T20:30:21.342Z"
   },
   {
    "duration": 13,
    "start_time": "2022-06-07T20:30:21.389Z"
   },
   {
    "duration": 43,
    "start_time": "2022-06-07T20:30:21.404Z"
   },
   {
    "duration": 9,
    "start_time": "2022-06-07T20:30:21.449Z"
   },
   {
    "duration": 28,
    "start_time": "2022-06-07T20:30:21.460Z"
   },
   {
    "duration": 117,
    "start_time": "2022-06-07T20:30:21.490Z"
   },
   {
    "duration": 8,
    "start_time": "2022-06-07T20:30:21.611Z"
   },
   {
    "duration": 44,
    "start_time": "2022-06-07T20:30:21.621Z"
   },
   {
    "duration": 23,
    "start_time": "2022-06-07T20:30:21.667Z"
   },
   {
    "duration": 8,
    "start_time": "2022-06-07T20:30:21.692Z"
   },
   {
    "duration": 40,
    "start_time": "2022-06-07T20:30:21.703Z"
   },
   {
    "duration": 16,
    "start_time": "2022-06-07T20:30:21.745Z"
   },
   {
    "duration": 15,
    "start_time": "2022-06-07T20:30:21.763Z"
   },
   {
    "duration": 10,
    "start_time": "2022-06-07T20:30:21.780Z"
   },
   {
    "duration": 7,
    "start_time": "2022-06-07T20:30:21.791Z"
   },
   {
    "duration": 13,
    "start_time": "2022-06-07T20:30:21.800Z"
   },
   {
    "duration": 37,
    "start_time": "2022-06-07T20:30:21.814Z"
   },
   {
    "duration": 26,
    "start_time": "2022-06-07T20:30:21.853Z"
   },
   {
    "duration": 87,
    "start_time": "2022-06-07T20:30:21.880Z"
   },
   {
    "duration": 8,
    "start_time": "2022-06-07T20:30:21.968Z"
   },
   {
    "duration": 20,
    "start_time": "2022-06-07T20:30:21.978Z"
   },
   {
    "duration": 20,
    "start_time": "2022-06-07T20:30:22.000Z"
   },
   {
    "duration": 65,
    "start_time": "2022-06-07T20:30:22.022Z"
   },
   {
    "duration": 18,
    "start_time": "2022-06-07T20:30:22.089Z"
   },
   {
    "duration": 37,
    "start_time": "2022-06-07T20:30:22.108Z"
   },
   {
    "duration": 35,
    "start_time": "2022-06-07T20:30:22.146Z"
   },
   {
    "duration": 21,
    "start_time": "2022-06-07T20:30:22.183Z"
   },
   {
    "duration": 8,
    "start_time": "2022-06-07T20:30:22.206Z"
   },
   {
    "duration": 27,
    "start_time": "2022-06-07T20:30:22.216Z"
   },
   {
    "duration": 55,
    "start_time": "2022-06-07T20:30:22.245Z"
   },
   {
    "duration": 3,
    "start_time": "2022-06-07T20:30:22.302Z"
   },
   {
    "duration": 71,
    "start_time": "2022-06-07T20:30:22.307Z"
   },
   {
    "duration": 4,
    "start_time": "2022-06-07T20:30:22.380Z"
   },
   {
    "duration": 63,
    "start_time": "2022-06-07T20:30:22.387Z"
   },
   {
    "duration": 3,
    "start_time": "2022-06-07T20:30:22.452Z"
   },
   {
    "duration": 53,
    "start_time": "2022-06-07T20:30:22.457Z"
   },
   {
    "duration": 4,
    "start_time": "2022-06-07T20:30:22.511Z"
   },
   {
    "duration": 47,
    "start_time": "2022-06-07T20:30:22.517Z"
   },
   {
    "duration": 4,
    "start_time": "2022-06-07T20:30:46.297Z"
   },
   {
    "duration": 27,
    "start_time": "2022-06-07T20:30:46.834Z"
   },
   {
    "duration": 1028,
    "start_time": "2022-06-07T20:34:43.002Z"
   },
   {
    "duration": 176,
    "start_time": "2022-06-07T20:34:44.032Z"
   },
   {
    "duration": 13,
    "start_time": "2022-06-07T20:34:44.210Z"
   },
   {
    "duration": 43,
    "start_time": "2022-06-07T20:34:44.224Z"
   },
   {
    "duration": 44,
    "start_time": "2022-06-07T20:34:44.270Z"
   },
   {
    "duration": 151,
    "start_time": "2022-06-07T20:34:44.316Z"
   },
   {
    "duration": 10,
    "start_time": "2022-06-07T20:34:44.469Z"
   },
   {
    "duration": 40,
    "start_time": "2022-06-07T20:34:44.480Z"
   },
   {
    "duration": 26,
    "start_time": "2022-06-07T20:34:44.521Z"
   },
   {
    "duration": 15,
    "start_time": "2022-06-07T20:34:44.549Z"
   },
   {
    "duration": 8,
    "start_time": "2022-06-07T20:34:44.565Z"
   },
   {
    "duration": 25,
    "start_time": "2022-06-07T20:34:44.575Z"
   },
   {
    "duration": 122,
    "start_time": "2022-06-07T20:34:44.601Z"
   },
   {
    "duration": 15,
    "start_time": "2022-06-07T20:34:44.726Z"
   },
   {
    "duration": 28,
    "start_time": "2022-06-07T20:34:44.743Z"
   },
   {
    "duration": 21,
    "start_time": "2022-06-07T20:34:44.773Z"
   },
   {
    "duration": 8,
    "start_time": "2022-06-07T20:34:44.795Z"
   },
   {
    "duration": 33,
    "start_time": "2022-06-07T20:34:44.804Z"
   },
   {
    "duration": 12,
    "start_time": "2022-06-07T20:34:44.839Z"
   },
   {
    "duration": 15,
    "start_time": "2022-06-07T20:34:44.852Z"
   },
   {
    "duration": 4,
    "start_time": "2022-06-07T20:34:44.869Z"
   },
   {
    "duration": 7,
    "start_time": "2022-06-07T20:34:44.875Z"
   },
   {
    "duration": 8,
    "start_time": "2022-06-07T20:34:44.883Z"
   },
   {
    "duration": 52,
    "start_time": "2022-06-07T20:34:44.893Z"
   },
   {
    "duration": 27,
    "start_time": "2022-06-07T20:34:44.946Z"
   },
   {
    "duration": 77,
    "start_time": "2022-06-07T20:34:44.974Z"
   },
   {
    "duration": 6,
    "start_time": "2022-06-07T20:34:45.053Z"
   },
   {
    "duration": 15,
    "start_time": "2022-06-07T20:34:45.061Z"
   },
   {
    "duration": 15,
    "start_time": "2022-06-07T20:34:45.077Z"
   },
   {
    "duration": 59,
    "start_time": "2022-06-07T20:34:45.094Z"
   },
   {
    "duration": 16,
    "start_time": "2022-06-07T20:34:45.155Z"
   },
   {
    "duration": 15,
    "start_time": "2022-06-07T20:34:45.173Z"
   },
   {
    "duration": 61,
    "start_time": "2022-06-07T20:34:45.189Z"
   },
   {
    "duration": 21,
    "start_time": "2022-06-07T20:34:45.251Z"
   },
   {
    "duration": 7,
    "start_time": "2022-06-07T20:34:45.274Z"
   },
   {
    "duration": 4,
    "start_time": "2022-06-07T20:34:45.282Z"
   },
   {
    "duration": 80,
    "start_time": "2022-06-07T20:34:45.288Z"
   },
   {
    "duration": 3,
    "start_time": "2022-06-07T20:34:45.370Z"
   },
   {
    "duration": 67,
    "start_time": "2022-06-07T20:34:45.375Z"
   },
   {
    "duration": 4,
    "start_time": "2022-06-07T20:34:45.443Z"
   },
   {
    "duration": 53,
    "start_time": "2022-06-07T20:34:45.450Z"
   },
   {
    "duration": 2,
    "start_time": "2022-06-07T20:34:45.505Z"
   },
   {
    "duration": 56,
    "start_time": "2022-06-07T20:34:45.508Z"
   },
   {
    "duration": 30,
    "start_time": "2022-06-07T20:34:45.565Z"
   },
   {
    "duration": 4,
    "start_time": "2022-06-07T20:34:45.597Z"
   },
   {
    "duration": 47,
    "start_time": "2022-06-07T20:34:45.603Z"
   },
   {
    "duration": 6,
    "start_time": "2022-06-07T20:35:35.050Z"
   },
   {
    "duration": 32,
    "start_time": "2022-06-07T20:35:36.486Z"
   },
   {
    "duration": 46,
    "start_time": "2022-06-07T20:35:46.972Z"
   },
   {
    "duration": 5,
    "start_time": "2022-06-07T20:36:12.357Z"
   },
   {
    "duration": 111,
    "start_time": "2022-06-07T20:36:12.949Z"
   },
   {
    "duration": 5,
    "start_time": "2022-06-07T20:39:07.561Z"
   },
   {
    "duration": 4,
    "start_time": "2022-06-07T20:39:08.348Z"
   },
   {
    "duration": 43,
    "start_time": "2022-06-07T20:39:09.528Z"
   },
   {
    "duration": 50,
    "start_time": "2022-06-08T10:17:47.448Z"
   },
   {
    "duration": 1194,
    "start_time": "2022-06-08T10:17:53.365Z"
   },
   {
    "duration": 243,
    "start_time": "2022-06-08T10:17:54.561Z"
   },
   {
    "duration": 12,
    "start_time": "2022-06-08T10:17:54.805Z"
   },
   {
    "duration": 35,
    "start_time": "2022-06-08T10:17:54.819Z"
   },
   {
    "duration": 41,
    "start_time": "2022-06-08T10:17:54.856Z"
   },
   {
    "duration": 474,
    "start_time": "2022-06-08T10:17:54.899Z"
   },
   {
    "duration": 14,
    "start_time": "2022-06-08T10:17:55.375Z"
   },
   {
    "duration": 48,
    "start_time": "2022-06-08T10:17:55.390Z"
   },
   {
    "duration": 15,
    "start_time": "2022-06-08T10:17:55.452Z"
   },
   {
    "duration": 15,
    "start_time": "2022-06-08T10:17:55.471Z"
   },
   {
    "duration": 9,
    "start_time": "2022-06-08T10:17:55.488Z"
   },
   {
    "duration": 55,
    "start_time": "2022-06-08T10:17:55.498Z"
   },
   {
    "duration": 303,
    "start_time": "2022-06-08T10:17:55.554Z"
   },
   {
    "duration": 6,
    "start_time": "2022-06-08T10:17:55.859Z"
   },
   {
    "duration": 33,
    "start_time": "2022-06-08T10:17:55.866Z"
   },
   {
    "duration": 76,
    "start_time": "2022-06-08T10:17:55.901Z"
   },
   {
    "duration": 7,
    "start_time": "2022-06-08T10:17:55.978Z"
   },
   {
    "duration": 63,
    "start_time": "2022-06-08T10:17:55.987Z"
   },
   {
    "duration": 10,
    "start_time": "2022-06-08T10:17:56.052Z"
   },
   {
    "duration": 14,
    "start_time": "2022-06-08T10:17:56.064Z"
   },
   {
    "duration": 7,
    "start_time": "2022-06-08T10:17:56.079Z"
   },
   {
    "duration": 16,
    "start_time": "2022-06-08T10:17:56.087Z"
   },
   {
    "duration": 8,
    "start_time": "2022-06-08T10:17:56.104Z"
   },
   {
    "duration": 20,
    "start_time": "2022-06-08T10:17:56.114Z"
   },
   {
    "duration": 43,
    "start_time": "2022-06-08T10:17:56.136Z"
   },
   {
    "duration": 57,
    "start_time": "2022-06-08T10:17:56.181Z"
   },
   {
    "duration": 16,
    "start_time": "2022-06-08T10:17:56.240Z"
   },
   {
    "duration": 13,
    "start_time": "2022-06-08T10:17:56.259Z"
   },
   {
    "duration": 14,
    "start_time": "2022-06-08T10:17:56.274Z"
   },
   {
    "duration": 30,
    "start_time": "2022-06-08T10:17:56.290Z"
   },
   {
    "duration": 36,
    "start_time": "2022-06-08T10:17:56.322Z"
   },
   {
    "duration": 15,
    "start_time": "2022-06-08T10:17:56.359Z"
   },
   {
    "duration": 31,
    "start_time": "2022-06-08T10:17:56.376Z"
   },
   {
    "duration": 20,
    "start_time": "2022-06-08T10:17:56.408Z"
   },
   {
    "duration": 8,
    "start_time": "2022-06-08T10:17:56.452Z"
   },
   {
    "duration": 7,
    "start_time": "2022-06-08T10:17:56.462Z"
   },
   {
    "duration": 68,
    "start_time": "2022-06-08T10:17:56.470Z"
   },
   {
    "duration": 12,
    "start_time": "2022-06-08T10:17:56.540Z"
   },
   {
    "duration": 52,
    "start_time": "2022-06-08T10:17:56.554Z"
   },
   {
    "duration": 3,
    "start_time": "2022-06-08T10:17:56.607Z"
   },
   {
    "duration": 65,
    "start_time": "2022-06-08T10:17:56.612Z"
   },
   {
    "duration": 3,
    "start_time": "2022-06-08T10:17:56.678Z"
   },
   {
    "duration": 56,
    "start_time": "2022-06-08T10:17:56.682Z"
   },
   {
    "duration": 28,
    "start_time": "2022-06-08T10:17:56.740Z"
   },
   {
    "duration": 11,
    "start_time": "2022-06-08T10:17:56.769Z"
   },
   {
    "duration": 54,
    "start_time": "2022-06-08T10:17:56.781Z"
   },
   {
    "duration": 3,
    "start_time": "2022-06-08T10:17:56.837Z"
   },
   {
    "duration": 5,
    "start_time": "2022-06-08T10:19:11.178Z"
   },
   {
    "duration": 27,
    "start_time": "2022-06-08T10:19:15.118Z"
   },
   {
    "duration": 19,
    "start_time": "2022-06-08T10:21:54.008Z"
   },
   {
    "duration": 18,
    "start_time": "2022-06-08T10:23:15.936Z"
   },
   {
    "duration": 9,
    "start_time": "2022-06-08T10:25:19.733Z"
   },
   {
    "duration": 316,
    "start_time": "2022-06-08T10:26:18.749Z"
   },
   {
    "duration": 235,
    "start_time": "2022-06-08T10:30:24.038Z"
   },
   {
    "duration": 222,
    "start_time": "2022-06-08T10:30:29.217Z"
   },
   {
    "duration": 214,
    "start_time": "2022-06-08T10:31:50.342Z"
   },
   {
    "duration": 227,
    "start_time": "2022-06-08T10:32:17.143Z"
   },
   {
    "duration": 218,
    "start_time": "2022-06-08T10:32:40.281Z"
   },
   {
    "duration": 218,
    "start_time": "2022-06-08T10:32:41.636Z"
   },
   {
    "duration": 314,
    "start_time": "2022-06-08T10:37:09.640Z"
   },
   {
    "duration": 1018,
    "start_time": "2022-06-08T10:37:15.619Z"
   },
   {
    "duration": 168,
    "start_time": "2022-06-08T10:37:16.639Z"
   },
   {
    "duration": 12,
    "start_time": "2022-06-08T10:37:16.808Z"
   },
   {
    "duration": 35,
    "start_time": "2022-06-08T10:37:16.821Z"
   },
   {
    "duration": 44,
    "start_time": "2022-06-08T10:37:16.858Z"
   },
   {
    "duration": 134,
    "start_time": "2022-06-08T10:37:16.903Z"
   },
   {
    "duration": 14,
    "start_time": "2022-06-08T10:37:17.039Z"
   },
   {
    "duration": 36,
    "start_time": "2022-06-08T10:37:17.054Z"
   },
   {
    "duration": 12,
    "start_time": "2022-06-08T10:37:17.092Z"
   },
   {
    "duration": 15,
    "start_time": "2022-06-08T10:37:17.106Z"
   },
   {
    "duration": 35,
    "start_time": "2022-06-08T10:37:17.122Z"
   },
   {
    "duration": 23,
    "start_time": "2022-06-08T10:37:17.159Z"
   },
   {
    "duration": 97,
    "start_time": "2022-06-08T10:37:17.183Z"
   },
   {
    "duration": 7,
    "start_time": "2022-06-08T10:37:17.283Z"
   },
   {
    "duration": 30,
    "start_time": "2022-06-08T10:37:17.291Z"
   },
   {
    "duration": 22,
    "start_time": "2022-06-08T10:37:17.322Z"
   },
   {
    "duration": 7,
    "start_time": "2022-06-08T10:37:17.351Z"
   },
   {
    "duration": 42,
    "start_time": "2022-06-08T10:37:17.360Z"
   },
   {
    "duration": 12,
    "start_time": "2022-06-08T10:37:17.403Z"
   },
   {
    "duration": 14,
    "start_time": "2022-06-08T10:37:17.416Z"
   },
   {
    "duration": 6,
    "start_time": "2022-06-08T10:37:17.432Z"
   },
   {
    "duration": 14,
    "start_time": "2022-06-08T10:37:17.439Z"
   },
   {
    "duration": 9,
    "start_time": "2022-06-08T10:37:17.455Z"
   },
   {
    "duration": 34,
    "start_time": "2022-06-08T10:37:17.465Z"
   },
   {
    "duration": 28,
    "start_time": "2022-06-08T10:37:17.501Z"
   },
   {
    "duration": 59,
    "start_time": "2022-06-08T10:37:17.530Z"
   },
   {
    "duration": 6,
    "start_time": "2022-06-08T10:37:17.591Z"
   },
   {
    "duration": 20,
    "start_time": "2022-06-08T10:37:17.599Z"
   },
   {
    "duration": 20,
    "start_time": "2022-06-08T10:37:17.621Z"
   },
   {
    "duration": 37,
    "start_time": "2022-06-08T10:37:17.643Z"
   },
   {
    "duration": 14,
    "start_time": "2022-06-08T10:37:17.681Z"
   },
   {
    "duration": 31,
    "start_time": "2022-06-08T10:37:17.697Z"
   },
   {
    "duration": 42,
    "start_time": "2022-06-08T10:37:17.729Z"
   },
   {
    "duration": 19,
    "start_time": "2022-06-08T10:37:17.772Z"
   },
   {
    "duration": 6,
    "start_time": "2022-06-08T10:37:17.793Z"
   },
   {
    "duration": 5,
    "start_time": "2022-06-08T10:37:17.801Z"
   },
   {
    "duration": 74,
    "start_time": "2022-06-08T10:37:17.807Z"
   },
   {
    "duration": 3,
    "start_time": "2022-06-08T10:37:17.883Z"
   },
   {
    "duration": 52,
    "start_time": "2022-06-08T10:37:17.887Z"
   },
   {
    "duration": 11,
    "start_time": "2022-06-08T10:37:17.941Z"
   },
   {
    "duration": 54,
    "start_time": "2022-06-08T10:37:17.955Z"
   },
   {
    "duration": 3,
    "start_time": "2022-06-08T10:37:18.011Z"
   },
   {
    "duration": 57,
    "start_time": "2022-06-08T10:37:18.015Z"
   },
   {
    "duration": 28,
    "start_time": "2022-06-08T10:37:18.074Z"
   },
   {
    "duration": 7,
    "start_time": "2022-06-08T10:37:18.104Z"
   },
   {
    "duration": 63,
    "start_time": "2022-06-08T10:37:18.112Z"
   },
   {
    "duration": 17,
    "start_time": "2022-06-08T10:37:18.177Z"
   },
   {
    "duration": 290,
    "start_time": "2022-06-08T10:37:18.196Z"
   },
   {
    "duration": 243,
    "start_time": "2022-06-08T10:37:18.488Z"
   },
   {
    "duration": 30,
    "start_time": "2022-06-08T10:37:18.733Z"
   },
   {
    "duration": 215,
    "start_time": "2022-06-08T10:37:37.114Z"
   },
   {
    "duration": 30,
    "start_time": "2022-06-08T10:37:37.331Z"
   },
   {
    "duration": 231,
    "start_time": "2022-06-08T10:37:43.909Z"
   },
   {
    "duration": 247,
    "start_time": "2022-06-08T10:37:50.956Z"
   },
   {
    "duration": 218,
    "start_time": "2022-06-08T10:38:48.080Z"
   },
   {
    "duration": 219,
    "start_time": "2022-06-08T10:38:50.736Z"
   },
   {
    "duration": 200,
    "start_time": "2022-06-08T10:40:34.943Z"
   },
   {
    "duration": 295,
    "start_time": "2022-06-08T10:41:07.768Z"
   },
   {
    "duration": 210,
    "start_time": "2022-06-08T10:42:10.094Z"
   },
   {
    "duration": 194,
    "start_time": "2022-06-08T10:43:11.095Z"
   },
   {
    "duration": 217,
    "start_time": "2022-06-08T10:43:26.306Z"
   },
   {
    "duration": 1073,
    "start_time": "2022-06-08T10:43:53.958Z"
   },
   {
    "duration": 187,
    "start_time": "2022-06-08T10:43:55.033Z"
   },
   {
    "duration": 16,
    "start_time": "2022-06-08T10:43:55.222Z"
   },
   {
    "duration": 49,
    "start_time": "2022-06-08T10:43:55.240Z"
   },
   {
    "duration": 78,
    "start_time": "2022-06-08T10:43:55.292Z"
   },
   {
    "duration": 156,
    "start_time": "2022-06-08T10:43:55.372Z"
   },
   {
    "duration": 9,
    "start_time": "2022-06-08T10:43:55.530Z"
   },
   {
    "duration": 44,
    "start_time": "2022-06-08T10:43:55.541Z"
   },
   {
    "duration": 13,
    "start_time": "2022-06-08T10:43:55.586Z"
   },
   {
    "duration": 16,
    "start_time": "2022-06-08T10:43:55.600Z"
   },
   {
    "duration": 8,
    "start_time": "2022-06-08T10:43:55.617Z"
   },
   {
    "duration": 44,
    "start_time": "2022-06-08T10:43:55.626Z"
   },
   {
    "duration": 101,
    "start_time": "2022-06-08T10:43:55.672Z"
   },
   {
    "duration": 6,
    "start_time": "2022-06-08T10:43:55.776Z"
   },
   {
    "duration": 32,
    "start_time": "2022-06-08T10:43:55.784Z"
   },
   {
    "duration": 21,
    "start_time": "2022-06-08T10:43:55.818Z"
   },
   {
    "duration": 16,
    "start_time": "2022-06-08T10:43:55.841Z"
   },
   {
    "duration": 38,
    "start_time": "2022-06-08T10:43:55.859Z"
   },
   {
    "duration": 11,
    "start_time": "2022-06-08T10:43:55.899Z"
   },
   {
    "duration": 16,
    "start_time": "2022-06-08T10:43:55.912Z"
   },
   {
    "duration": 6,
    "start_time": "2022-06-08T10:43:55.930Z"
   },
   {
    "duration": 18,
    "start_time": "2022-06-08T10:43:55.937Z"
   },
   {
    "duration": 17,
    "start_time": "2022-06-08T10:43:55.956Z"
   },
   {
    "duration": 19,
    "start_time": "2022-06-08T10:43:55.974Z"
   },
   {
    "duration": 27,
    "start_time": "2022-06-08T10:43:55.995Z"
   },
   {
    "duration": 71,
    "start_time": "2022-06-08T10:43:56.023Z"
   },
   {
    "duration": 7,
    "start_time": "2022-06-08T10:43:56.095Z"
   },
   {
    "duration": 18,
    "start_time": "2022-06-08T10:43:56.103Z"
   },
   {
    "duration": 30,
    "start_time": "2022-06-08T10:43:56.122Z"
   },
   {
    "duration": 33,
    "start_time": "2022-06-08T10:43:56.154Z"
   },
   {
    "duration": 14,
    "start_time": "2022-06-08T10:43:56.188Z"
   },
   {
    "duration": 15,
    "start_time": "2022-06-08T10:43:56.203Z"
   },
   {
    "duration": 55,
    "start_time": "2022-06-08T10:43:56.220Z"
   },
   {
    "duration": 20,
    "start_time": "2022-06-08T10:43:56.276Z"
   },
   {
    "duration": 7,
    "start_time": "2022-06-08T10:43:56.298Z"
   },
   {
    "duration": 9,
    "start_time": "2022-06-08T10:43:56.307Z"
   },
   {
    "duration": 79,
    "start_time": "2022-06-08T10:43:56.317Z"
   },
   {
    "duration": 5,
    "start_time": "2022-06-08T10:43:56.398Z"
   },
   {
    "duration": 60,
    "start_time": "2022-06-08T10:43:56.404Z"
   },
   {
    "duration": 3,
    "start_time": "2022-06-08T10:43:56.466Z"
   },
   {
    "duration": 54,
    "start_time": "2022-06-08T10:43:56.473Z"
   },
   {
    "duration": 4,
    "start_time": "2022-06-08T10:43:56.529Z"
   },
   {
    "duration": 56,
    "start_time": "2022-06-08T10:43:56.535Z"
   },
   {
    "duration": 30,
    "start_time": "2022-06-08T10:43:56.593Z"
   },
   {
    "duration": 4,
    "start_time": "2022-06-08T10:43:56.625Z"
   },
   {
    "duration": 61,
    "start_time": "2022-06-08T10:43:56.631Z"
   },
   {
    "duration": 18,
    "start_time": "2022-06-08T10:43:56.693Z"
   },
   {
    "duration": 302,
    "start_time": "2022-06-08T10:43:56.713Z"
   },
   {
    "duration": 232,
    "start_time": "2022-06-08T10:43:57.017Z"
   },
   {
    "duration": 194,
    "start_time": "2022-06-08T10:43:57.251Z"
   },
   {
    "duration": 238,
    "start_time": "2022-06-08T10:43:57.446Z"
   },
   {
    "duration": 203,
    "start_time": "2022-06-08T10:43:57.686Z"
   },
   {
    "duration": 228,
    "start_time": "2022-06-08T10:43:57.891Z"
   },
   {
    "duration": 272,
    "start_time": "2022-06-08T10:47:54.277Z"
   },
   {
    "duration": 240,
    "start_time": "2022-06-08T10:48:22.118Z"
   },
   {
    "duration": 289,
    "start_time": "2022-06-08T10:48:51.554Z"
   },
   {
    "duration": 214,
    "start_time": "2022-06-08T10:49:18.424Z"
   },
   {
    "duration": 194,
    "start_time": "2022-06-08T10:49:38.918Z"
   },
   {
    "duration": 224,
    "start_time": "2022-06-08T10:50:10.158Z"
   },
   {
    "duration": 201,
    "start_time": "2022-06-08T10:50:30.344Z"
   },
   {
    "duration": 197,
    "start_time": "2022-06-08T10:50:49.556Z"
   },
   {
    "duration": 14,
    "start_time": "2022-06-08T11:11:29.964Z"
   },
   {
    "duration": 20,
    "start_time": "2022-06-08T11:12:13.251Z"
   },
   {
    "duration": 25,
    "start_time": "2022-06-08T11:13:30.273Z"
   },
   {
    "duration": 29,
    "start_time": "2022-06-08T11:13:47.405Z"
   },
   {
    "duration": 28,
    "start_time": "2022-06-08T11:16:03.432Z"
   },
   {
    "duration": 27,
    "start_time": "2022-06-08T11:16:16.277Z"
   },
   {
    "duration": 29,
    "start_time": "2022-06-08T11:16:42.504Z"
   },
   {
    "duration": 28,
    "start_time": "2022-06-08T11:17:53.737Z"
   },
   {
    "duration": 29,
    "start_time": "2022-06-08T11:24:13.774Z"
   },
   {
    "duration": 26,
    "start_time": "2022-06-08T11:25:42.200Z"
   },
   {
    "duration": 8,
    "start_time": "2022-06-08T11:26:23.706Z"
   },
   {
    "duration": 23,
    "start_time": "2022-06-08T11:33:18.370Z"
   },
   {
    "duration": 30,
    "start_time": "2022-06-08T11:33:25.004Z"
   },
   {
    "duration": 9,
    "start_time": "2022-06-08T11:39:03.188Z"
   },
   {
    "duration": 9,
    "start_time": "2022-06-08T11:39:06.011Z"
   },
   {
    "duration": 9,
    "start_time": "2022-06-08T11:39:11.546Z"
   },
   {
    "duration": 13,
    "start_time": "2022-06-08T11:39:15.617Z"
   },
   {
    "duration": 5,
    "start_time": "2022-06-08T11:40:45.598Z"
   },
   {
    "duration": 4,
    "start_time": "2022-06-08T11:47:36.586Z"
   },
   {
    "duration": 5,
    "start_time": "2022-06-08T11:47:42.358Z"
   },
   {
    "duration": 9,
    "start_time": "2022-06-08T11:50:30.612Z"
   },
   {
    "duration": 9,
    "start_time": "2022-06-08T11:50:35.838Z"
   },
   {
    "duration": 6,
    "start_time": "2022-06-08T11:55:16.016Z"
   },
   {
    "duration": 5,
    "start_time": "2022-06-08T11:55:31.650Z"
   },
   {
    "duration": 8,
    "start_time": "2022-06-08T11:59:53.517Z"
   },
   {
    "duration": 7,
    "start_time": "2022-06-08T11:59:54.964Z"
   },
   {
    "duration": 6,
    "start_time": "2022-06-08T12:00:20.869Z"
   },
   {
    "duration": 5,
    "start_time": "2022-06-08T12:05:19.261Z"
   },
   {
    "duration": 4,
    "start_time": "2022-06-08T12:08:25.545Z"
   },
   {
    "duration": 5,
    "start_time": "2022-06-08T12:08:29.309Z"
   },
   {
    "duration": 6,
    "start_time": "2022-06-08T12:08:47.458Z"
   },
   {
    "duration": 6,
    "start_time": "2022-06-08T12:08:50.273Z"
   },
   {
    "duration": 8,
    "start_time": "2022-06-08T12:10:00.164Z"
   },
   {
    "duration": 6,
    "start_time": "2022-06-08T12:11:16.281Z"
   },
   {
    "duration": 5,
    "start_time": "2022-06-08T12:11:41.870Z"
   },
   {
    "duration": 8,
    "start_time": "2022-06-08T12:11:50.388Z"
   },
   {
    "duration": 9,
    "start_time": "2022-06-08T12:12:04.957Z"
   },
   {
    "duration": 8,
    "start_time": "2022-06-08T12:12:15.634Z"
   },
   {
    "duration": 9,
    "start_time": "2022-06-08T12:12:24.116Z"
   },
   {
    "duration": 8,
    "start_time": "2022-06-08T12:12:57.580Z"
   },
   {
    "duration": 8,
    "start_time": "2022-06-08T12:13:24.501Z"
   },
   {
    "duration": 1139,
    "start_time": "2022-06-08T12:18:34.613Z"
   },
   {
    "duration": 250,
    "start_time": "2022-06-08T12:18:35.753Z"
   },
   {
    "duration": 14,
    "start_time": "2022-06-08T12:18:36.004Z"
   },
   {
    "duration": 34,
    "start_time": "2022-06-08T12:18:36.020Z"
   },
   {
    "duration": 54,
    "start_time": "2022-06-08T12:18:36.057Z"
   },
   {
    "duration": 174,
    "start_time": "2022-06-08T12:18:36.112Z"
   },
   {
    "duration": 10,
    "start_time": "2022-06-08T12:18:36.288Z"
   },
   {
    "duration": 55,
    "start_time": "2022-06-08T12:18:36.299Z"
   },
   {
    "duration": 13,
    "start_time": "2022-06-08T12:18:36.356Z"
   },
   {
    "duration": 16,
    "start_time": "2022-06-08T12:18:36.370Z"
   },
   {
    "duration": 9,
    "start_time": "2022-06-08T12:18:36.387Z"
   },
   {
    "duration": 29,
    "start_time": "2022-06-08T12:18:36.397Z"
   },
   {
    "duration": 100,
    "start_time": "2022-06-08T12:18:36.451Z"
   },
   {
    "duration": 7,
    "start_time": "2022-06-08T12:18:36.554Z"
   },
   {
    "duration": 30,
    "start_time": "2022-06-08T12:18:36.563Z"
   },
   {
    "duration": 27,
    "start_time": "2022-06-08T12:18:36.595Z"
   },
   {
    "duration": 7,
    "start_time": "2022-06-08T12:18:36.624Z"
   },
   {
    "duration": 51,
    "start_time": "2022-06-08T12:18:36.633Z"
   },
   {
    "duration": 12,
    "start_time": "2022-06-08T12:18:36.686Z"
   },
   {
    "duration": 19,
    "start_time": "2022-06-08T12:18:36.699Z"
   },
   {
    "duration": 4,
    "start_time": "2022-06-08T12:18:36.720Z"
   },
   {
    "duration": 9,
    "start_time": "2022-06-08T12:18:36.725Z"
   },
   {
    "duration": 11,
    "start_time": "2022-06-08T12:18:36.735Z"
   },
   {
    "duration": 15,
    "start_time": "2022-06-08T12:18:36.748Z"
   },
   {
    "duration": 32,
    "start_time": "2022-06-08T12:18:36.764Z"
   },
   {
    "duration": 63,
    "start_time": "2022-06-08T12:18:36.798Z"
   },
   {
    "duration": 7,
    "start_time": "2022-06-08T12:18:36.862Z"
   },
   {
    "duration": 20,
    "start_time": "2022-06-08T12:18:36.870Z"
   },
   {
    "duration": 15,
    "start_time": "2022-06-08T12:18:36.892Z"
   },
   {
    "duration": 47,
    "start_time": "2022-06-08T12:18:36.908Z"
   },
   {
    "duration": 16,
    "start_time": "2022-06-08T12:18:36.956Z"
   },
   {
    "duration": 15,
    "start_time": "2022-06-08T12:18:36.973Z"
   },
   {
    "duration": 35,
    "start_time": "2022-06-08T12:18:36.989Z"
   },
   {
    "duration": 43,
    "start_time": "2022-06-08T12:18:37.026Z"
   },
   {
    "duration": 8,
    "start_time": "2022-06-08T12:18:37.071Z"
   },
   {
    "duration": 5,
    "start_time": "2022-06-08T12:18:37.081Z"
   },
   {
    "duration": 72,
    "start_time": "2022-06-08T12:18:37.087Z"
   },
   {
    "duration": 3,
    "start_time": "2022-06-08T12:18:37.161Z"
   },
   {
    "duration": 63,
    "start_time": "2022-06-08T12:18:37.166Z"
   },
   {
    "duration": 3,
    "start_time": "2022-06-08T12:18:37.231Z"
   },
   {
    "duration": 66,
    "start_time": "2022-06-08T12:18:37.237Z"
   },
   {
    "duration": 3,
    "start_time": "2022-06-08T12:18:37.305Z"
   },
   {
    "duration": 46,
    "start_time": "2022-06-08T12:18:37.309Z"
   },
   {
    "duration": 27,
    "start_time": "2022-06-08T12:18:37.357Z"
   },
   {
    "duration": 19,
    "start_time": "2022-06-08T12:18:37.385Z"
   },
   {
    "duration": 43,
    "start_time": "2022-06-08T12:18:37.405Z"
   },
   {
    "duration": 17,
    "start_time": "2022-06-08T12:18:37.449Z"
   },
   {
    "duration": 302,
    "start_time": "2022-06-08T12:18:37.467Z"
   },
   {
    "duration": 217,
    "start_time": "2022-06-08T12:18:37.771Z"
   },
   {
    "duration": 198,
    "start_time": "2022-06-08T12:18:37.990Z"
   },
   {
    "duration": 223,
    "start_time": "2022-06-08T12:18:38.189Z"
   },
   {
    "duration": 211,
    "start_time": "2022-06-08T12:18:38.414Z"
   },
   {
    "duration": 231,
    "start_time": "2022-06-08T12:18:38.627Z"
   },
   {
    "duration": 8,
    "start_time": "2022-06-08T12:18:38.860Z"
   },
   {
    "duration": 8,
    "start_time": "2022-06-08T12:18:38.870Z"
   },
   {
    "duration": 17,
    "start_time": "2022-06-08T12:18:38.880Z"
   },
   {
    "duration": 66,
    "start_time": "2022-06-08T22:11:34.337Z"
   },
   {
    "duration": 1222,
    "start_time": "2022-06-09T11:55:15.680Z"
   },
   {
    "duration": 530,
    "start_time": "2022-06-09T11:55:19.152Z"
   },
   {
    "duration": 10,
    "start_time": "2022-06-09T11:55:21.155Z"
   },
   {
    "duration": 24,
    "start_time": "2022-06-09T11:55:37.523Z"
   },
   {
    "duration": 313,
    "start_time": "2022-06-09T11:55:58.826Z"
   },
   {
    "duration": 272,
    "start_time": "2022-06-09T11:56:10.861Z"
   },
   {
    "duration": 232,
    "start_time": "2022-06-09T11:56:13.461Z"
   },
   {
    "duration": 229,
    "start_time": "2022-06-09T11:56:39.810Z"
   },
   {
    "duration": 24,
    "start_time": "2022-06-09T11:56:48.760Z"
   },
   {
    "duration": 33,
    "start_time": "2022-06-09T11:57:47.697Z"
   },
   {
    "duration": 293,
    "start_time": "2022-06-09T11:57:50.570Z"
   },
   {
    "duration": 250,
    "start_time": "2022-06-09T11:58:31.189Z"
   },
   {
    "duration": 2,
    "start_time": "2022-06-09T11:58:35.771Z"
   },
   {
    "duration": 172,
    "start_time": "2022-06-09T11:58:36.530Z"
   },
   {
    "duration": 8,
    "start_time": "2022-06-09T11:58:37.248Z"
   },
   {
    "duration": 25,
    "start_time": "2022-06-09T11:58:38.467Z"
   },
   {
    "duration": 254,
    "start_time": "2022-06-09T11:58:39.698Z"
   },
   {
    "duration": 22,
    "start_time": "2022-06-09T11:59:28.737Z"
   },
   {
    "duration": 24,
    "start_time": "2022-06-09T12:00:42.168Z"
   },
   {
    "duration": 84,
    "start_time": "2022-06-09T12:00:56.982Z"
   },
   {
    "duration": 402,
    "start_time": "2022-06-09T12:01:52.278Z"
   },
   {
    "duration": 11,
    "start_time": "2022-06-09T12:01:53.312Z"
   },
   {
    "duration": 34,
    "start_time": "2022-06-09T12:01:54.808Z"
   },
   {
    "duration": 13,
    "start_time": "2022-06-09T12:02:02.021Z"
   },
   {
    "duration": 37,
    "start_time": "2022-06-09T12:02:03.312Z"
   },
   {
    "duration": 10,
    "start_time": "2022-06-09T12:02:04.284Z"
   },
   {
    "duration": 25,
    "start_time": "2022-06-09T12:02:06.187Z"
   },
   {
    "duration": 172,
    "start_time": "2022-06-09T12:02:06.987Z"
   },
   {
    "duration": 6,
    "start_time": "2022-06-09T12:02:07.625Z"
   },
   {
    "duration": 25,
    "start_time": "2022-06-09T12:02:08.463Z"
   },
   {
    "duration": 67,
    "start_time": "2022-06-09T12:02:08.792Z"
   },
   {
    "duration": 7,
    "start_time": "2022-06-09T12:02:10.092Z"
   },
   {
    "duration": 88,
    "start_time": "2022-06-09T12:02:10.403Z"
   },
   {
    "duration": 11,
    "start_time": "2022-06-09T12:02:11.931Z"
   },
   {
    "duration": 13,
    "start_time": "2022-06-09T12:02:12.671Z"
   },
   {
    "duration": 4,
    "start_time": "2022-06-09T12:02:13.732Z"
   },
   {
    "duration": 5,
    "start_time": "2022-06-09T12:02:14.375Z"
   },
   {
    "duration": 7,
    "start_time": "2022-06-09T12:02:14.872Z"
   },
   {
    "duration": 16,
    "start_time": "2022-06-09T12:02:17.069Z"
   },
   {
    "duration": 20,
    "start_time": "2022-06-09T12:03:39.349Z"
   },
   {
    "duration": 50,
    "start_time": "2022-06-09T12:04:00.743Z"
   },
   {
    "duration": 6,
    "start_time": "2022-06-09T12:04:02.078Z"
   },
   {
    "duration": 10,
    "start_time": "2022-06-09T12:04:02.441Z"
   },
   {
    "duration": 14,
    "start_time": "2022-06-09T12:04:03.847Z"
   },
   {
    "duration": 27,
    "start_time": "2022-06-09T12:04:04.074Z"
   },
   {
    "duration": 14,
    "start_time": "2022-06-09T12:04:04.615Z"
   },
   {
    "duration": 14,
    "start_time": "2022-06-09T12:04:08.085Z"
   },
   {
    "duration": 28,
    "start_time": "2022-06-09T12:04:09.389Z"
   },
   {
    "duration": 23,
    "start_time": "2022-06-09T12:04:56.621Z"
   },
   {
    "duration": 6,
    "start_time": "2022-06-09T12:04:58.394Z"
   },
   {
    "duration": 3,
    "start_time": "2022-06-09T12:04:59.192Z"
   },
   {
    "duration": 48,
    "start_time": "2022-06-09T12:05:00.077Z"
   },
   {
    "duration": 3,
    "start_time": "2022-06-09T12:05:00.327Z"
   },
   {
    "duration": 45,
    "start_time": "2022-06-09T12:05:01.275Z"
   },
   {
    "duration": 4,
    "start_time": "2022-06-09T12:05:01.922Z"
   },
   {
    "duration": 47,
    "start_time": "2022-06-09T12:05:02.252Z"
   },
   {
    "duration": 3,
    "start_time": "2022-06-09T12:05:02.483Z"
   },
   {
    "duration": 37,
    "start_time": "2022-06-09T12:05:04.456Z"
   },
   {
    "duration": 26,
    "start_time": "2022-06-09T12:05:04.971Z"
   },
   {
    "duration": 5,
    "start_time": "2022-06-09T12:05:05.286Z"
   },
   {
    "duration": 40,
    "start_time": "2022-06-09T12:05:05.707Z"
   },
   {
    "duration": 16,
    "start_time": "2022-06-09T12:05:09.242Z"
   },
   {
    "duration": 205,
    "start_time": "2022-06-09T12:06:40.317Z"
   },
   {
    "duration": 193,
    "start_time": "2022-06-09T12:06:41.708Z"
   },
   {
    "duration": 177,
    "start_time": "2022-06-09T12:07:03.020Z"
   },
   {
    "duration": 200,
    "start_time": "2022-06-09T12:07:04.452Z"
   },
   {
    "duration": 180,
    "start_time": "2022-06-09T12:07:05.694Z"
   },
   {
    "duration": 258,
    "start_time": "2022-06-09T12:07:08.364Z"
   },
   {
    "duration": 10,
    "start_time": "2022-06-09T12:07:22.715Z"
   },
   {
    "duration": 5,
    "start_time": "2022-06-09T12:15:19.345Z"
   },
   {
    "duration": 7,
    "start_time": "2022-06-09T12:15:21.060Z"
   },
   {
    "duration": 1032,
    "start_time": "2022-06-09T12:25:13.589Z"
   },
   {
    "duration": 165,
    "start_time": "2022-06-09T12:25:14.623Z"
   },
   {
    "duration": 22,
    "start_time": "2022-06-09T12:25:14.789Z"
   },
   {
    "duration": 23,
    "start_time": "2022-06-09T12:25:14.813Z"
   },
   {
    "duration": 68,
    "start_time": "2022-06-09T12:25:14.837Z"
   },
   {
    "duration": 142,
    "start_time": "2022-06-09T12:25:14.906Z"
   },
   {
    "duration": 9,
    "start_time": "2022-06-09T12:25:15.050Z"
   },
   {
    "duration": 52,
    "start_time": "2022-06-09T12:25:15.060Z"
   },
   {
    "duration": 12,
    "start_time": "2022-06-09T12:25:15.113Z"
   },
   {
    "duration": 15,
    "start_time": "2022-06-09T12:25:15.127Z"
   },
   {
    "duration": 8,
    "start_time": "2022-06-09T12:25:15.144Z"
   },
   {
    "duration": 62,
    "start_time": "2022-06-09T12:25:15.154Z"
   },
   {
    "duration": 95,
    "start_time": "2022-06-09T12:25:15.217Z"
   },
   {
    "duration": 6,
    "start_time": "2022-06-09T12:25:15.314Z"
   },
   {
    "duration": 34,
    "start_time": "2022-06-09T12:25:15.321Z"
   },
   {
    "duration": 21,
    "start_time": "2022-06-09T12:25:15.356Z"
   },
   {
    "duration": 7,
    "start_time": "2022-06-09T12:25:15.379Z"
   },
   {
    "duration": 54,
    "start_time": "2022-06-09T12:25:15.390Z"
   },
   {
    "duration": 11,
    "start_time": "2022-06-09T12:25:15.445Z"
   },
   {
    "duration": 27,
    "start_time": "2022-06-09T12:25:15.458Z"
   },
   {
    "duration": 35,
    "start_time": "2022-06-09T12:25:15.487Z"
   },
   {
    "duration": 7,
    "start_time": "2022-06-09T12:25:15.524Z"
   },
   {
    "duration": 9,
    "start_time": "2022-06-09T12:25:15.533Z"
   },
   {
    "duration": 16,
    "start_time": "2022-06-09T12:25:15.544Z"
   },
   {
    "duration": 23,
    "start_time": "2022-06-09T12:25:15.562Z"
   },
   {
    "duration": 61,
    "start_time": "2022-06-09T12:25:15.586Z"
   },
   {
    "duration": 6,
    "start_time": "2022-06-09T12:25:15.648Z"
   },
   {
    "duration": 25,
    "start_time": "2022-06-09T12:25:15.657Z"
   },
   {
    "duration": 23,
    "start_time": "2022-06-09T12:25:15.684Z"
   },
   {
    "duration": 28,
    "start_time": "2022-06-09T12:25:15.708Z"
   },
   {
    "duration": 14,
    "start_time": "2022-06-09T12:25:15.738Z"
   },
   {
    "duration": 13,
    "start_time": "2022-06-09T12:25:15.754Z"
   },
   {
    "duration": 55,
    "start_time": "2022-06-09T12:25:15.768Z"
   },
   {
    "duration": 17,
    "start_time": "2022-06-09T12:25:15.825Z"
   },
   {
    "duration": 6,
    "start_time": "2022-06-09T12:25:15.844Z"
   },
   {
    "duration": 4,
    "start_time": "2022-06-09T12:25:15.851Z"
   },
   {
    "duration": 77,
    "start_time": "2022-06-09T12:25:15.857Z"
   },
   {
    "duration": 3,
    "start_time": "2022-06-09T12:25:15.936Z"
   },
   {
    "duration": 63,
    "start_time": "2022-06-09T12:25:15.940Z"
   },
   {
    "duration": 4,
    "start_time": "2022-06-09T12:25:16.005Z"
   },
   {
    "duration": 51,
    "start_time": "2022-06-09T12:25:16.010Z"
   },
   {
    "duration": 3,
    "start_time": "2022-06-09T12:25:16.062Z"
   },
   {
    "duration": 59,
    "start_time": "2022-06-09T12:25:16.066Z"
   },
   {
    "duration": 25,
    "start_time": "2022-06-09T12:25:16.127Z"
   },
   {
    "duration": 11,
    "start_time": "2022-06-09T12:25:16.154Z"
   },
   {
    "duration": 53,
    "start_time": "2022-06-09T12:25:16.167Z"
   },
   {
    "duration": 16,
    "start_time": "2022-06-09T12:25:16.221Z"
   },
   {
    "duration": 227,
    "start_time": "2022-06-09T12:25:16.239Z"
   },
   {
    "duration": 230,
    "start_time": "2022-06-09T12:25:16.467Z"
   },
   {
    "duration": 190,
    "start_time": "2022-06-09T12:25:16.699Z"
   },
   {
    "duration": 260,
    "start_time": "2022-06-09T12:25:16.893Z"
   },
   {
    "duration": 262,
    "start_time": "2022-06-09T12:25:17.155Z"
   },
   {
    "duration": 228,
    "start_time": "2022-06-09T12:25:17.419Z"
   },
   {
    "duration": 7,
    "start_time": "2022-06-09T12:25:17.649Z"
   },
   {
    "duration": 12,
    "start_time": "2022-06-09T12:25:17.658Z"
   },
   {
    "duration": 28,
    "start_time": "2022-06-09T12:25:17.671Z"
   },
   {
    "duration": 9,
    "start_time": "2022-06-09T12:46:14.241Z"
   },
   {
    "duration": 5,
    "start_time": "2022-06-09T12:46:42.255Z"
   }
  ],
  "kernelspec": {
   "display_name": "base",
   "language": "python",
   "name": "python3"
  },
  "language_info": {
   "codemirror_mode": {
    "name": "ipython",
    "version": 3
   },
   "file_extension": ".py",
   "mimetype": "text/x-python",
   "name": "python",
   "nbconvert_exporter": "python",
   "pygments_lexer": "ipython3",
   "version": "3.9.7 (default, Sep 16 2021, 16:59:28) [MSC v.1916 64 bit (AMD64)]"
  },
  "toc": {
   "base_numbering": 1,
   "nav_menu": {},
   "number_sections": true,
   "sideBar": true,
   "skip_h1_title": true,
   "title_cell": "Table of Contents",
   "title_sidebar": "Contents",
   "toc_cell": false,
   "toc_position": {},
   "toc_section_display": true,
   "toc_window_display": false
  },
  "vscode": {
   "interpreter": {
    "hash": "f15f36810181d6f0d3e4c4c2cd9a58c4059ed5829bd90ae02b017091d82db9c6"
   }
  }
 },
 "nbformat": 4,
 "nbformat_minor": 2
}
