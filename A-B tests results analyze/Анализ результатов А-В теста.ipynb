{
 "cells": [
  {
   "cell_type": "markdown",
   "metadata": {},
   "source": [
    "# Оценка результатов A/B-теста"
   ]
  },
  {
   "cell_type": "markdown",
   "metadata": {},
   "source": [
    "###### Краткое описание проекта"
   ]
  },
  {
   "cell_type": "markdown",
   "metadata": {},
   "source": [
    "Необходимо провести оценку результатов A/B-теста. В нашем распоряжении есть датасет с действиями пользователей, техническое задание и несколько вспомогательных датасетов."
   ]
  },
  {
   "cell_type": "markdown",
   "metadata": {},
   "source": [
    "###### Цели исследования"
   ]
  },
  {
   "cell_type": "markdown",
   "metadata": {},
   "source": [
    "<p> 1. Оценить корректность проведения теста: </p>\n",
    "<p> 1.1 проверить пересечение тестовой аудитории с конкурирующим тестом; </p>\n",
    "<p> 1.2 проверить совпадение теста и маркетинговых событий, другие проблемы временных границ теста. </p>\n",
    "<p> 2. Проанализировать результаты теста. </p>"
   ]
  },
  {
   "cell_type": "markdown",
   "metadata": {},
   "source": [
    "## Подготовка данных"
   ]
  },
  {
   "cell_type": "code",
   "execution_count": 1,
   "metadata": {},
   "outputs": [],
   "source": [
    "import pandas as pd\n",
    "import matplotlib.pyplot as plt\n",
    "import scipy.stats as st\n",
    "import math as mth"
   ]
  },
  {
   "cell_type": "code",
   "execution_count": 2,
   "metadata": {},
   "outputs": [],
   "source": [
    "ab_project_marketing_events = pd.read_csv('/datasets/ab_project_marketing_events.csv')"
   ]
  },
  {
   "cell_type": "code",
   "execution_count": 3,
   "metadata": {},
   "outputs": [
    {
     "data": {
      "text/html": [
       "<div>\n",
       "<style scoped>\n",
       "    .dataframe tbody tr th:only-of-type {\n",
       "        vertical-align: middle;\n",
       "    }\n",
       "\n",
       "    .dataframe tbody tr th {\n",
       "        vertical-align: top;\n",
       "    }\n",
       "\n",
       "    .dataframe thead th {\n",
       "        text-align: right;\n",
       "    }\n",
       "</style>\n",
       "<table border=\"1\" class=\"dataframe\">\n",
       "  <thead>\n",
       "    <tr style=\"text-align: right;\">\n",
       "      <th></th>\n",
       "      <th>name</th>\n",
       "      <th>regions</th>\n",
       "      <th>start_dt</th>\n",
       "      <th>finish_dt</th>\n",
       "    </tr>\n",
       "  </thead>\n",
       "  <tbody>\n",
       "    <tr>\n",
       "      <th>0</th>\n",
       "      <td>Christmas&amp;New Year Promo</td>\n",
       "      <td>EU, N.America</td>\n",
       "      <td>2020-12-25</td>\n",
       "      <td>2021-01-03</td>\n",
       "    </tr>\n",
       "    <tr>\n",
       "      <th>1</th>\n",
       "      <td>St. Valentine's Day Giveaway</td>\n",
       "      <td>EU, CIS, APAC, N.America</td>\n",
       "      <td>2020-02-14</td>\n",
       "      <td>2020-02-16</td>\n",
       "    </tr>\n",
       "    <tr>\n",
       "      <th>2</th>\n",
       "      <td>St. Patric's Day Promo</td>\n",
       "      <td>EU, N.America</td>\n",
       "      <td>2020-03-17</td>\n",
       "      <td>2020-03-19</td>\n",
       "    </tr>\n",
       "    <tr>\n",
       "      <th>3</th>\n",
       "      <td>Easter Promo</td>\n",
       "      <td>EU, CIS, APAC, N.America</td>\n",
       "      <td>2020-04-12</td>\n",
       "      <td>2020-04-19</td>\n",
       "    </tr>\n",
       "    <tr>\n",
       "      <th>4</th>\n",
       "      <td>4th of July Promo</td>\n",
       "      <td>N.America</td>\n",
       "      <td>2020-07-04</td>\n",
       "      <td>2020-07-11</td>\n",
       "    </tr>\n",
       "  </tbody>\n",
       "</table>\n",
       "</div>"
      ],
      "text/plain": [
       "                           name                   regions    start_dt  \\\n",
       "0      Christmas&New Year Promo             EU, N.America  2020-12-25   \n",
       "1  St. Valentine's Day Giveaway  EU, CIS, APAC, N.America  2020-02-14   \n",
       "2        St. Patric's Day Promo             EU, N.America  2020-03-17   \n",
       "3                  Easter Promo  EU, CIS, APAC, N.America  2020-04-12   \n",
       "4             4th of July Promo                 N.America  2020-07-04   \n",
       "\n",
       "    finish_dt  \n",
       "0  2021-01-03  \n",
       "1  2020-02-16  \n",
       "2  2020-03-19  \n",
       "3  2020-04-19  \n",
       "4  2020-07-11  "
      ]
     },
     "execution_count": 3,
     "metadata": {},
     "output_type": "execute_result"
    }
   ],
   "source": [
    "ab_project_marketing_events.head()"
   ]
  },
  {
   "cell_type": "code",
   "execution_count": 4,
   "metadata": {},
   "outputs": [
    {
     "name": "stdout",
     "output_type": "stream",
     "text": [
      "<class 'pandas.core.frame.DataFrame'>\n",
      "RangeIndex: 14 entries, 0 to 13\n",
      "Data columns (total 4 columns):\n",
      " #   Column     Non-Null Count  Dtype \n",
      "---  ------     --------------  ----- \n",
      " 0   name       14 non-null     object\n",
      " 1   regions    14 non-null     object\n",
      " 2   start_dt   14 non-null     object\n",
      " 3   finish_dt  14 non-null     object\n",
      "dtypes: object(4)\n",
      "memory usage: 576.0+ bytes\n"
     ]
    }
   ],
   "source": [
    "ab_project_marketing_events.info()"
   ]
  },
  {
   "cell_type": "code",
   "execution_count": 5,
   "metadata": {},
   "outputs": [],
   "source": [
    "ab_project_marketing_events['start_dt'] = pd.to_datetime(ab_project_marketing_events['start_dt'])\n",
    "ab_project_marketing_events['finish_dt'] = pd.to_datetime(ab_project_marketing_events['finish_dt'])"
   ]
  },
  {
   "cell_type": "code",
   "execution_count": 6,
   "metadata": {},
   "outputs": [
    {
     "name": "stdout",
     "output_type": "stream",
     "text": [
      "<class 'pandas.core.frame.DataFrame'>\n",
      "RangeIndex: 14 entries, 0 to 13\n",
      "Data columns (total 4 columns):\n",
      " #   Column     Non-Null Count  Dtype         \n",
      "---  ------     --------------  -----         \n",
      " 0   name       14 non-null     object        \n",
      " 1   regions    14 non-null     object        \n",
      " 2   start_dt   14 non-null     datetime64[ns]\n",
      " 3   finish_dt  14 non-null     datetime64[ns]\n",
      "dtypes: datetime64[ns](2), object(2)\n",
      "memory usage: 576.0+ bytes\n"
     ]
    }
   ],
   "source": [
    "ab_project_marketing_events.info()"
   ]
  },
  {
   "cell_type": "code",
   "execution_count": 7,
   "metadata": {},
   "outputs": [
    {
     "data": {
      "text/plain": [
       "0"
      ]
     },
     "execution_count": 7,
     "metadata": {},
     "output_type": "execute_result"
    }
   ],
   "source": [
    "ab_project_marketing_events.duplicated().sum()"
   ]
  },
  {
   "cell_type": "code",
   "execution_count": 8,
   "metadata": {},
   "outputs": [],
   "source": [
    "final_ab_new_users = pd.read_csv('/datasets/final_ab_new_users.csv')"
   ]
  },
  {
   "cell_type": "code",
   "execution_count": 9,
   "metadata": {},
   "outputs": [
    {
     "data": {
      "text/html": [
       "<div>\n",
       "<style scoped>\n",
       "    .dataframe tbody tr th:only-of-type {\n",
       "        vertical-align: middle;\n",
       "    }\n",
       "\n",
       "    .dataframe tbody tr th {\n",
       "        vertical-align: top;\n",
       "    }\n",
       "\n",
       "    .dataframe thead th {\n",
       "        text-align: right;\n",
       "    }\n",
       "</style>\n",
       "<table border=\"1\" class=\"dataframe\">\n",
       "  <thead>\n",
       "    <tr style=\"text-align: right;\">\n",
       "      <th></th>\n",
       "      <th>user_id</th>\n",
       "      <th>first_date</th>\n",
       "      <th>region</th>\n",
       "      <th>device</th>\n",
       "    </tr>\n",
       "  </thead>\n",
       "  <tbody>\n",
       "    <tr>\n",
       "      <th>0</th>\n",
       "      <td>D72A72121175D8BE</td>\n",
       "      <td>2020-12-07</td>\n",
       "      <td>EU</td>\n",
       "      <td>PC</td>\n",
       "    </tr>\n",
       "    <tr>\n",
       "      <th>1</th>\n",
       "      <td>F1C668619DFE6E65</td>\n",
       "      <td>2020-12-07</td>\n",
       "      <td>N.America</td>\n",
       "      <td>Android</td>\n",
       "    </tr>\n",
       "    <tr>\n",
       "      <th>2</th>\n",
       "      <td>2E1BF1D4C37EA01F</td>\n",
       "      <td>2020-12-07</td>\n",
       "      <td>EU</td>\n",
       "      <td>PC</td>\n",
       "    </tr>\n",
       "    <tr>\n",
       "      <th>3</th>\n",
       "      <td>50734A22C0C63768</td>\n",
       "      <td>2020-12-07</td>\n",
       "      <td>EU</td>\n",
       "      <td>iPhone</td>\n",
       "    </tr>\n",
       "    <tr>\n",
       "      <th>4</th>\n",
       "      <td>E1BDDCE0DAFA2679</td>\n",
       "      <td>2020-12-07</td>\n",
       "      <td>N.America</td>\n",
       "      <td>iPhone</td>\n",
       "    </tr>\n",
       "  </tbody>\n",
       "</table>\n",
       "</div>"
      ],
      "text/plain": [
       "            user_id  first_date     region   device\n",
       "0  D72A72121175D8BE  2020-12-07         EU       PC\n",
       "1  F1C668619DFE6E65  2020-12-07  N.America  Android\n",
       "2  2E1BF1D4C37EA01F  2020-12-07         EU       PC\n",
       "3  50734A22C0C63768  2020-12-07         EU   iPhone\n",
       "4  E1BDDCE0DAFA2679  2020-12-07  N.America   iPhone"
      ]
     },
     "execution_count": 9,
     "metadata": {},
     "output_type": "execute_result"
    }
   ],
   "source": [
    "final_ab_new_users.head()"
   ]
  },
  {
   "cell_type": "code",
   "execution_count": 10,
   "metadata": {},
   "outputs": [
    {
     "name": "stdout",
     "output_type": "stream",
     "text": [
      "<class 'pandas.core.frame.DataFrame'>\n",
      "RangeIndex: 61733 entries, 0 to 61732\n",
      "Data columns (total 4 columns):\n",
      " #   Column      Non-Null Count  Dtype \n",
      "---  ------      --------------  ----- \n",
      " 0   user_id     61733 non-null  object\n",
      " 1   first_date  61733 non-null  object\n",
      " 2   region      61733 non-null  object\n",
      " 3   device      61733 non-null  object\n",
      "dtypes: object(4)\n",
      "memory usage: 1.9+ MB\n"
     ]
    }
   ],
   "source": [
    "final_ab_new_users.info()"
   ]
  },
  {
   "cell_type": "code",
   "execution_count": 11,
   "metadata": {},
   "outputs": [],
   "source": [
    "final_ab_new_users['first_date'] = pd.to_datetime(final_ab_new_users['first_date'])"
   ]
  },
  {
   "cell_type": "code",
   "execution_count": 12,
   "metadata": {},
   "outputs": [
    {
     "data": {
      "text/plain": [
       "0"
      ]
     },
     "execution_count": 12,
     "metadata": {},
     "output_type": "execute_result"
    }
   ],
   "source": [
    "final_ab_new_users.duplicated().sum()"
   ]
  },
  {
   "cell_type": "code",
   "execution_count": 13,
   "metadata": {},
   "outputs": [],
   "source": [
    "final_ab_events = pd.read_csv('/datasets/final_ab_events.csv')"
   ]
  },
  {
   "cell_type": "code",
   "execution_count": 14,
   "metadata": {},
   "outputs": [
    {
     "data": {
      "text/html": [
       "<div>\n",
       "<style scoped>\n",
       "    .dataframe tbody tr th:only-of-type {\n",
       "        vertical-align: middle;\n",
       "    }\n",
       "\n",
       "    .dataframe tbody tr th {\n",
       "        vertical-align: top;\n",
       "    }\n",
       "\n",
       "    .dataframe thead th {\n",
       "        text-align: right;\n",
       "    }\n",
       "</style>\n",
       "<table border=\"1\" class=\"dataframe\">\n",
       "  <thead>\n",
       "    <tr style=\"text-align: right;\">\n",
       "      <th></th>\n",
       "      <th>user_id</th>\n",
       "      <th>event_dt</th>\n",
       "      <th>event_name</th>\n",
       "      <th>details</th>\n",
       "    </tr>\n",
       "  </thead>\n",
       "  <tbody>\n",
       "    <tr>\n",
       "      <th>0</th>\n",
       "      <td>E1BDDCE0DAFA2679</td>\n",
       "      <td>2020-12-07 20:22:03</td>\n",
       "      <td>purchase</td>\n",
       "      <td>99.99</td>\n",
       "    </tr>\n",
       "    <tr>\n",
       "      <th>1</th>\n",
       "      <td>7B6452F081F49504</td>\n",
       "      <td>2020-12-07 09:22:53</td>\n",
       "      <td>purchase</td>\n",
       "      <td>9.99</td>\n",
       "    </tr>\n",
       "    <tr>\n",
       "      <th>2</th>\n",
       "      <td>9CD9F34546DF254C</td>\n",
       "      <td>2020-12-07 12:59:29</td>\n",
       "      <td>purchase</td>\n",
       "      <td>4.99</td>\n",
       "    </tr>\n",
       "    <tr>\n",
       "      <th>3</th>\n",
       "      <td>96F27A054B191457</td>\n",
       "      <td>2020-12-07 04:02:40</td>\n",
       "      <td>purchase</td>\n",
       "      <td>4.99</td>\n",
       "    </tr>\n",
       "    <tr>\n",
       "      <th>4</th>\n",
       "      <td>1FD7660FDF94CA1F</td>\n",
       "      <td>2020-12-07 10:15:09</td>\n",
       "      <td>purchase</td>\n",
       "      <td>4.99</td>\n",
       "    </tr>\n",
       "  </tbody>\n",
       "</table>\n",
       "</div>"
      ],
      "text/plain": [
       "            user_id             event_dt event_name  details\n",
       "0  E1BDDCE0DAFA2679  2020-12-07 20:22:03   purchase    99.99\n",
       "1  7B6452F081F49504  2020-12-07 09:22:53   purchase     9.99\n",
       "2  9CD9F34546DF254C  2020-12-07 12:59:29   purchase     4.99\n",
       "3  96F27A054B191457  2020-12-07 04:02:40   purchase     4.99\n",
       "4  1FD7660FDF94CA1F  2020-12-07 10:15:09   purchase     4.99"
      ]
     },
     "execution_count": 14,
     "metadata": {},
     "output_type": "execute_result"
    }
   ],
   "source": [
    "final_ab_events.head()"
   ]
  },
  {
   "cell_type": "code",
   "execution_count": 15,
   "metadata": {},
   "outputs": [
    {
     "name": "stdout",
     "output_type": "stream",
     "text": [
      "<class 'pandas.core.frame.DataFrame'>\n",
      "RangeIndex: 440317 entries, 0 to 440316\n",
      "Data columns (total 4 columns):\n",
      " #   Column      Non-Null Count   Dtype  \n",
      "---  ------      --------------   -----  \n",
      " 0   user_id     440317 non-null  object \n",
      " 1   event_dt    440317 non-null  object \n",
      " 2   event_name  440317 non-null  object \n",
      " 3   details     62740 non-null   float64\n",
      "dtypes: float64(1), object(3)\n",
      "memory usage: 13.4+ MB\n"
     ]
    }
   ],
   "source": [
    "final_ab_events.info()"
   ]
  },
  {
   "cell_type": "code",
   "execution_count": 16,
   "metadata": {},
   "outputs": [],
   "source": [
    "final_ab_events['event_dt'] = pd.to_datetime(final_ab_events['event_dt'])"
   ]
  },
  {
   "cell_type": "code",
   "execution_count": 17,
   "metadata": {},
   "outputs": [
    {
     "data": {
      "text/plain": [
       "0"
      ]
     },
     "execution_count": 17,
     "metadata": {},
     "output_type": "execute_result"
    }
   ],
   "source": [
    "final_ab_events.duplicated().sum()"
   ]
  },
  {
   "cell_type": "code",
   "execution_count": 18,
   "metadata": {},
   "outputs": [
    {
     "data": {
      "text/plain": [
       "array(['purchase'], dtype=object)"
      ]
     },
     "execution_count": 18,
     "metadata": {},
     "output_type": "execute_result"
    }
   ],
   "source": [
    "final_ab_events[final_ab_events['details'].isna()==False]['event_name'].unique()"
   ]
  },
  {
   "cell_type": "code",
   "execution_count": 19,
   "metadata": {},
   "outputs": [
    {
     "data": {
      "text/plain": [
       "array(['product_cart', 'product_page', 'login'], dtype=object)"
      ]
     },
     "execution_count": 19,
     "metadata": {},
     "output_type": "execute_result"
    }
   ],
   "source": [
    "final_ab_events[final_ab_events['details'].isna()]['event_name'].unique()"
   ]
  },
  {
   "cell_type": "markdown",
   "metadata": {},
   "source": [
    "Пропуски в колонке details оставляем как \"полезные\" - счиатем, что доп. информация есть только для ивента purchaseю"
   ]
  },
  {
   "cell_type": "code",
   "execution_count": 20,
   "metadata": {},
   "outputs": [],
   "source": [
    "final_ab_participants = pd.read_csv('/datasets/final_ab_participants.csv')"
   ]
  },
  {
   "cell_type": "code",
   "execution_count": 21,
   "metadata": {},
   "outputs": [
    {
     "data": {
      "text/html": [
       "<div>\n",
       "<style scoped>\n",
       "    .dataframe tbody tr th:only-of-type {\n",
       "        vertical-align: middle;\n",
       "    }\n",
       "\n",
       "    .dataframe tbody tr th {\n",
       "        vertical-align: top;\n",
       "    }\n",
       "\n",
       "    .dataframe thead th {\n",
       "        text-align: right;\n",
       "    }\n",
       "</style>\n",
       "<table border=\"1\" class=\"dataframe\">\n",
       "  <thead>\n",
       "    <tr style=\"text-align: right;\">\n",
       "      <th></th>\n",
       "      <th>user_id</th>\n",
       "      <th>group</th>\n",
       "      <th>ab_test</th>\n",
       "    </tr>\n",
       "  </thead>\n",
       "  <tbody>\n",
       "    <tr>\n",
       "      <th>0</th>\n",
       "      <td>D1ABA3E2887B6A73</td>\n",
       "      <td>A</td>\n",
       "      <td>recommender_system_test</td>\n",
       "    </tr>\n",
       "    <tr>\n",
       "      <th>1</th>\n",
       "      <td>A7A3664BD6242119</td>\n",
       "      <td>A</td>\n",
       "      <td>recommender_system_test</td>\n",
       "    </tr>\n",
       "    <tr>\n",
       "      <th>2</th>\n",
       "      <td>DABC14FDDFADD29E</td>\n",
       "      <td>A</td>\n",
       "      <td>recommender_system_test</td>\n",
       "    </tr>\n",
       "    <tr>\n",
       "      <th>3</th>\n",
       "      <td>04988C5DF189632E</td>\n",
       "      <td>A</td>\n",
       "      <td>recommender_system_test</td>\n",
       "    </tr>\n",
       "    <tr>\n",
       "      <th>4</th>\n",
       "      <td>482F14783456D21B</td>\n",
       "      <td>B</td>\n",
       "      <td>recommender_system_test</td>\n",
       "    </tr>\n",
       "  </tbody>\n",
       "</table>\n",
       "</div>"
      ],
      "text/plain": [
       "            user_id group                  ab_test\n",
       "0  D1ABA3E2887B6A73     A  recommender_system_test\n",
       "1  A7A3664BD6242119     A  recommender_system_test\n",
       "2  DABC14FDDFADD29E     A  recommender_system_test\n",
       "3  04988C5DF189632E     A  recommender_system_test\n",
       "4  482F14783456D21B     B  recommender_system_test"
      ]
     },
     "execution_count": 21,
     "metadata": {},
     "output_type": "execute_result"
    }
   ],
   "source": [
    "final_ab_participants.head()"
   ]
  },
  {
   "cell_type": "code",
   "execution_count": 22,
   "metadata": {},
   "outputs": [
    {
     "name": "stdout",
     "output_type": "stream",
     "text": [
      "<class 'pandas.core.frame.DataFrame'>\n",
      "RangeIndex: 18268 entries, 0 to 18267\n",
      "Data columns (total 3 columns):\n",
      " #   Column   Non-Null Count  Dtype \n",
      "---  ------   --------------  ----- \n",
      " 0   user_id  18268 non-null  object\n",
      " 1   group    18268 non-null  object\n",
      " 2   ab_test  18268 non-null  object\n",
      "dtypes: object(3)\n",
      "memory usage: 428.3+ KB\n"
     ]
    }
   ],
   "source": [
    "final_ab_participants.info()"
   ]
  },
  {
   "cell_type": "code",
   "execution_count": 23,
   "metadata": {},
   "outputs": [
    {
     "data": {
      "text/plain": [
       "0"
      ]
     },
     "execution_count": 23,
     "metadata": {},
     "output_type": "execute_result"
    }
   ],
   "source": [
    "final_ab_participants.duplicated().sum()"
   ]
  },
  {
   "cell_type": "markdown",
   "metadata": {},
   "source": [
    "### Вывод"
   ]
  },
  {
   "cell_type": "markdown",
   "metadata": {},
   "source": [
    "Загрузили данные, привели к нужным типам, проверили на дубликаты и пропуски."
   ]
  },
  {
   "cell_type": "markdown",
   "metadata": {},
   "source": [
    "## Оценка корректности проведения теста"
   ]
  },
  {
   "cell_type": "markdown",
   "metadata": {},
   "source": [
    "Проверим на соответствие ТЗ"
   ]
  },
  {
   "cell_type": "code",
   "execution_count": 24,
   "metadata": {},
   "outputs": [
    {
     "data": {
      "text/plain": [
       "array(['recommender_system_test', 'interface_eu_test'], dtype=object)"
      ]
     },
     "execution_count": 24,
     "metadata": {},
     "output_type": "execute_result"
    }
   ],
   "source": [
    "final_ab_participants['ab_test'].unique()"
   ]
  },
  {
   "cell_type": "code",
   "execution_count": 25,
   "metadata": {},
   "outputs": [
    {
     "data": {
      "text/html": [
       "<div>\n",
       "<style scoped>\n",
       "    .dataframe tbody tr th:only-of-type {\n",
       "        vertical-align: middle;\n",
       "    }\n",
       "\n",
       "    .dataframe tbody tr th {\n",
       "        vertical-align: top;\n",
       "    }\n",
       "\n",
       "    .dataframe thead th {\n",
       "        text-align: right;\n",
       "    }\n",
       "</style>\n",
       "<table border=\"1\" class=\"dataframe\">\n",
       "  <thead>\n",
       "    <tr style=\"text-align: right;\">\n",
       "      <th></th>\n",
       "      <th>ab_test</th>\n",
       "      <th>user_id</th>\n",
       "      <th>group</th>\n",
       "    </tr>\n",
       "  </thead>\n",
       "  <tbody>\n",
       "    <tr>\n",
       "      <th>0</th>\n",
       "      <td>interface_eu_test</td>\n",
       "      <td>11567</td>\n",
       "      <td>11567</td>\n",
       "    </tr>\n",
       "    <tr>\n",
       "      <th>1</th>\n",
       "      <td>recommender_system_test</td>\n",
       "      <td>6701</td>\n",
       "      <td>6701</td>\n",
       "    </tr>\n",
       "  </tbody>\n",
       "</table>\n",
       "</div>"
      ],
      "text/plain": [
       "                   ab_test  user_id  group\n",
       "0        interface_eu_test    11567  11567\n",
       "1  recommender_system_test     6701   6701"
      ]
     },
     "execution_count": 25,
     "metadata": {},
     "output_type": "execute_result"
    }
   ],
   "source": [
    "final_ab_participants.groupby('ab_test').count().reset_index()"
   ]
  },
  {
   "cell_type": "markdown",
   "metadata": {},
   "source": [
    "Нас интересует только recommender_system_test, поэтому оставим только их"
   ]
  },
  {
   "cell_type": "code",
   "execution_count": 26,
   "metadata": {},
   "outputs": [],
   "source": [
    "final_ab_participants = final_ab_participants[final_ab_participants['ab_test']=='recommender_system_test']"
   ]
  },
  {
   "cell_type": "code",
   "execution_count": 27,
   "metadata": {},
   "outputs": [
    {
     "name": "stdout",
     "output_type": "stream",
     "text": [
      "<class 'pandas.core.frame.DataFrame'>\n",
      "Int64Index: 6701 entries, 0 to 6700\n",
      "Data columns (total 3 columns):\n",
      " #   Column   Non-Null Count  Dtype \n",
      "---  ------   --------------  ----- \n",
      " 0   user_id  6701 non-null   object\n",
      " 1   group    6701 non-null   object\n",
      " 2   ab_test  6701 non-null   object\n",
      "dtypes: object(3)\n",
      "memory usage: 209.4+ KB\n"
     ]
    }
   ],
   "source": [
    "final_ab_participants.info()"
   ]
  },
  {
   "cell_type": "code",
   "execution_count": 28,
   "metadata": {},
   "outputs": [
    {
     "data": {
      "text/html": [
       "<div>\n",
       "<style scoped>\n",
       "    .dataframe tbody tr th:only-of-type {\n",
       "        vertical-align: middle;\n",
       "    }\n",
       "\n",
       "    .dataframe tbody tr th {\n",
       "        vertical-align: top;\n",
       "    }\n",
       "\n",
       "    .dataframe thead th {\n",
       "        text-align: right;\n",
       "    }\n",
       "</style>\n",
       "<table border=\"1\" class=\"dataframe\">\n",
       "  <thead>\n",
       "    <tr style=\"text-align: right;\">\n",
       "      <th></th>\n",
       "      <th>user_id</th>\n",
       "      <th>first_date</th>\n",
       "      <th>region</th>\n",
       "      <th>device</th>\n",
       "    </tr>\n",
       "  </thead>\n",
       "  <tbody>\n",
       "    <tr>\n",
       "      <th>0</th>\n",
       "      <td>D72A72121175D8BE</td>\n",
       "      <td>2020-12-07</td>\n",
       "      <td>EU</td>\n",
       "      <td>PC</td>\n",
       "    </tr>\n",
       "    <tr>\n",
       "      <th>1</th>\n",
       "      <td>F1C668619DFE6E65</td>\n",
       "      <td>2020-12-07</td>\n",
       "      <td>N.America</td>\n",
       "      <td>Android</td>\n",
       "    </tr>\n",
       "    <tr>\n",
       "      <th>2</th>\n",
       "      <td>2E1BF1D4C37EA01F</td>\n",
       "      <td>2020-12-07</td>\n",
       "      <td>EU</td>\n",
       "      <td>PC</td>\n",
       "    </tr>\n",
       "    <tr>\n",
       "      <th>3</th>\n",
       "      <td>50734A22C0C63768</td>\n",
       "      <td>2020-12-07</td>\n",
       "      <td>EU</td>\n",
       "      <td>iPhone</td>\n",
       "    </tr>\n",
       "    <tr>\n",
       "      <th>4</th>\n",
       "      <td>E1BDDCE0DAFA2679</td>\n",
       "      <td>2020-12-07</td>\n",
       "      <td>N.America</td>\n",
       "      <td>iPhone</td>\n",
       "    </tr>\n",
       "  </tbody>\n",
       "</table>\n",
       "</div>"
      ],
      "text/plain": [
       "            user_id first_date     region   device\n",
       "0  D72A72121175D8BE 2020-12-07         EU       PC\n",
       "1  F1C668619DFE6E65 2020-12-07  N.America  Android\n",
       "2  2E1BF1D4C37EA01F 2020-12-07         EU       PC\n",
       "3  50734A22C0C63768 2020-12-07         EU   iPhone\n",
       "4  E1BDDCE0DAFA2679 2020-12-07  N.America   iPhone"
      ]
     },
     "execution_count": 28,
     "metadata": {},
     "output_type": "execute_result"
    }
   ],
   "source": [
    "final_ab_new_users.head()"
   ]
  },
  {
   "cell_type": "markdown",
   "metadata": {},
   "source": [
    "Согласно ТЗ, набор новых пользователей должен быть в период с 2020-12-07 по 2020-12-21. Проверим даты регистрации пользователей, участвующих в тесте."
   ]
  },
  {
   "cell_type": "code",
   "execution_count": 29,
   "metadata": {},
   "outputs": [],
   "source": [
    "users_dates = final_ab_participants.merge(final_ab_new_users,on='user_id',how='left')"
   ]
  },
  {
   "cell_type": "code",
   "execution_count": 30,
   "metadata": {},
   "outputs": [
    {
     "data": {
      "text/plain": [
       "Timestamp('2020-12-07 00:00:00')"
      ]
     },
     "execution_count": 30,
     "metadata": {},
     "output_type": "execute_result"
    }
   ],
   "source": [
    "users_dates['first_date'].min()"
   ]
  },
  {
   "cell_type": "code",
   "execution_count": 31,
   "metadata": {},
   "outputs": [
    {
     "data": {
      "text/plain": [
       "Timestamp('2020-12-21 00:00:00')"
      ]
     },
     "execution_count": 31,
     "metadata": {},
     "output_type": "execute_result"
    }
   ],
   "source": [
    "users_dates['first_date'].max()"
   ]
  },
  {
   "cell_type": "code",
   "execution_count": 32,
   "metadata": {},
   "outputs": [
    {
     "data": {
      "text/plain": [
       "Timestamp('2020-12-07 00:00:33')"
      ]
     },
     "execution_count": 32,
     "metadata": {},
     "output_type": "execute_result"
    }
   ],
   "source": [
    "final_ab_events.event_dt.min()"
   ]
  },
  {
   "cell_type": "code",
   "execution_count": 33,
   "metadata": {},
   "outputs": [
    {
     "data": {
      "text/plain": [
       "Timestamp('2020-12-30 23:36:33')"
      ]
     },
     "execution_count": 33,
     "metadata": {},
     "output_type": "execute_result"
    }
   ],
   "source": [
    "final_ab_events.event_dt.max()"
   ]
  },
  {
   "cell_type": "markdown",
   "metadata": {},
   "source": [
    "Тест был остановлен раньше на 5 дней, чем требовалось по ТЗ. Т.к. тест предполагает улучшение метрик за 14 дней, это может повлиять на результаты теста. Для пользователей, зарегистрированных в период 17.12 - 21.12, не будет данных за полные 14 дней."
   ]
  },
  {
   "cell_type": "markdown",
   "metadata": {},
   "source": [
    "Проверим распределение по регионам учатсников, попавших в нужный нам тест"
   ]
  },
  {
   "cell_type": "code",
   "execution_count": 34,
   "metadata": {},
   "outputs": [],
   "source": [
    "final_ab_participants_w_reg = final_ab_participants.merge(final_ab_new_users, on='user_id', how='left')"
   ]
  },
  {
   "cell_type": "code",
   "execution_count": 35,
   "metadata": {},
   "outputs": [
    {
     "data": {
      "text/html": [
       "<div>\n",
       "<style scoped>\n",
       "    .dataframe tbody tr th:only-of-type {\n",
       "        vertical-align: middle;\n",
       "    }\n",
       "\n",
       "    .dataframe tbody tr th {\n",
       "        vertical-align: top;\n",
       "    }\n",
       "\n",
       "    .dataframe thead th {\n",
       "        text-align: right;\n",
       "    }\n",
       "</style>\n",
       "<table border=\"1\" class=\"dataframe\">\n",
       "  <thead>\n",
       "    <tr style=\"text-align: right;\">\n",
       "      <th></th>\n",
       "      <th>user_id</th>\n",
       "      <th>group</th>\n",
       "      <th>ab_test</th>\n",
       "      <th>first_date</th>\n",
       "      <th>region</th>\n",
       "      <th>device</th>\n",
       "    </tr>\n",
       "  </thead>\n",
       "  <tbody>\n",
       "    <tr>\n",
       "      <th>0</th>\n",
       "      <td>D1ABA3E2887B6A73</td>\n",
       "      <td>A</td>\n",
       "      <td>recommender_system_test</td>\n",
       "      <td>2020-12-07</td>\n",
       "      <td>EU</td>\n",
       "      <td>PC</td>\n",
       "    </tr>\n",
       "    <tr>\n",
       "      <th>1</th>\n",
       "      <td>A7A3664BD6242119</td>\n",
       "      <td>A</td>\n",
       "      <td>recommender_system_test</td>\n",
       "      <td>2020-12-20</td>\n",
       "      <td>EU</td>\n",
       "      <td>iPhone</td>\n",
       "    </tr>\n",
       "    <tr>\n",
       "      <th>2</th>\n",
       "      <td>DABC14FDDFADD29E</td>\n",
       "      <td>A</td>\n",
       "      <td>recommender_system_test</td>\n",
       "      <td>2020-12-08</td>\n",
       "      <td>EU</td>\n",
       "      <td>Mac</td>\n",
       "    </tr>\n",
       "    <tr>\n",
       "      <th>3</th>\n",
       "      <td>04988C5DF189632E</td>\n",
       "      <td>A</td>\n",
       "      <td>recommender_system_test</td>\n",
       "      <td>2020-12-14</td>\n",
       "      <td>EU</td>\n",
       "      <td>iPhone</td>\n",
       "    </tr>\n",
       "    <tr>\n",
       "      <th>4</th>\n",
       "      <td>482F14783456D21B</td>\n",
       "      <td>B</td>\n",
       "      <td>recommender_system_test</td>\n",
       "      <td>2020-12-14</td>\n",
       "      <td>EU</td>\n",
       "      <td>PC</td>\n",
       "    </tr>\n",
       "  </tbody>\n",
       "</table>\n",
       "</div>"
      ],
      "text/plain": [
       "            user_id group                  ab_test first_date region  device\n",
       "0  D1ABA3E2887B6A73     A  recommender_system_test 2020-12-07     EU      PC\n",
       "1  A7A3664BD6242119     A  recommender_system_test 2020-12-20     EU  iPhone\n",
       "2  DABC14FDDFADD29E     A  recommender_system_test 2020-12-08     EU     Mac\n",
       "3  04988C5DF189632E     A  recommender_system_test 2020-12-14     EU  iPhone\n",
       "4  482F14783456D21B     B  recommender_system_test 2020-12-14     EU      PC"
      ]
     },
     "execution_count": 35,
     "metadata": {},
     "output_type": "execute_result"
    }
   ],
   "source": [
    "final_ab_participants_w_reg.head()"
   ]
  },
  {
   "cell_type": "code",
   "execution_count": 36,
   "metadata": {},
   "outputs": [],
   "source": [
    "gr1 = final_ab_participants_w_reg.groupby('region').agg({'user_id':'nunique'}).reset_index()"
   ]
  },
  {
   "cell_type": "code",
   "execution_count": 37,
   "metadata": {},
   "outputs": [],
   "source": [
    "gr1 = gr1.rename(columns={'user_id':'users_count_in_ab_test'})"
   ]
  },
  {
   "cell_type": "code",
   "execution_count": 38,
   "metadata": {},
   "outputs": [
    {
     "data": {
      "text/html": [
       "<div>\n",
       "<style scoped>\n",
       "    .dataframe tbody tr th:only-of-type {\n",
       "        vertical-align: middle;\n",
       "    }\n",
       "\n",
       "    .dataframe tbody tr th {\n",
       "        vertical-align: top;\n",
       "    }\n",
       "\n",
       "    .dataframe thead th {\n",
       "        text-align: right;\n",
       "    }\n",
       "</style>\n",
       "<table border=\"1\" class=\"dataframe\">\n",
       "  <thead>\n",
       "    <tr style=\"text-align: right;\">\n",
       "      <th></th>\n",
       "      <th>region</th>\n",
       "      <th>users_count_in_ab_test</th>\n",
       "    </tr>\n",
       "  </thead>\n",
       "  <tbody>\n",
       "    <tr>\n",
       "      <th>0</th>\n",
       "      <td>APAC</td>\n",
       "      <td>72</td>\n",
       "    </tr>\n",
       "    <tr>\n",
       "      <th>1</th>\n",
       "      <td>CIS</td>\n",
       "      <td>55</td>\n",
       "    </tr>\n",
       "    <tr>\n",
       "      <th>2</th>\n",
       "      <td>EU</td>\n",
       "      <td>6351</td>\n",
       "    </tr>\n",
       "    <tr>\n",
       "      <th>3</th>\n",
       "      <td>N.America</td>\n",
       "      <td>223</td>\n",
       "    </tr>\n",
       "  </tbody>\n",
       "</table>\n",
       "</div>"
      ],
      "text/plain": [
       "      region  users_count_in_ab_test\n",
       "0       APAC                      72\n",
       "1        CIS                      55\n",
       "2         EU                    6351\n",
       "3  N.America                     223"
      ]
     },
     "execution_count": 38,
     "metadata": {},
     "output_type": "execute_result"
    }
   ],
   "source": [
    "gr1"
   ]
  },
  {
   "cell_type": "code",
   "execution_count": 39,
   "metadata": {},
   "outputs": [],
   "source": [
    "gr2 = final_ab_new_users.groupby('region').agg({'user_id':'nunique'}).reset_index()"
   ]
  },
  {
   "cell_type": "code",
   "execution_count": 40,
   "metadata": {},
   "outputs": [],
   "source": [
    "gr2 = gr2.rename(columns={'user_id':'all_users_count'})"
   ]
  },
  {
   "cell_type": "code",
   "execution_count": 41,
   "metadata": {},
   "outputs": [
    {
     "data": {
      "text/html": [
       "<div>\n",
       "<style scoped>\n",
       "    .dataframe tbody tr th:only-of-type {\n",
       "        vertical-align: middle;\n",
       "    }\n",
       "\n",
       "    .dataframe tbody tr th {\n",
       "        vertical-align: top;\n",
       "    }\n",
       "\n",
       "    .dataframe thead th {\n",
       "        text-align: right;\n",
       "    }\n",
       "</style>\n",
       "<table border=\"1\" class=\"dataframe\">\n",
       "  <thead>\n",
       "    <tr style=\"text-align: right;\">\n",
       "      <th></th>\n",
       "      <th>region</th>\n",
       "      <th>all_users_count</th>\n",
       "    </tr>\n",
       "  </thead>\n",
       "  <tbody>\n",
       "    <tr>\n",
       "      <th>0</th>\n",
       "      <td>APAC</td>\n",
       "      <td>3153</td>\n",
       "    </tr>\n",
       "    <tr>\n",
       "      <th>1</th>\n",
       "      <td>CIS</td>\n",
       "      <td>3155</td>\n",
       "    </tr>\n",
       "    <tr>\n",
       "      <th>2</th>\n",
       "      <td>EU</td>\n",
       "      <td>46270</td>\n",
       "    </tr>\n",
       "    <tr>\n",
       "      <th>3</th>\n",
       "      <td>N.America</td>\n",
       "      <td>9155</td>\n",
       "    </tr>\n",
       "  </tbody>\n",
       "</table>\n",
       "</div>"
      ],
      "text/plain": [
       "      region  all_users_count\n",
       "0       APAC             3153\n",
       "1        CIS             3155\n",
       "2         EU            46270\n",
       "3  N.America             9155"
      ]
     },
     "execution_count": 41,
     "metadata": {},
     "output_type": "execute_result"
    }
   ],
   "source": [
    "gr2"
   ]
  },
  {
   "cell_type": "code",
   "execution_count": 42,
   "metadata": {},
   "outputs": [],
   "source": [
    "gr_merged = gr1.merge(gr2,on='region')"
   ]
  },
  {
   "cell_type": "code",
   "execution_count": 43,
   "metadata": {},
   "outputs": [
    {
     "data": {
      "text/html": [
       "<div>\n",
       "<style scoped>\n",
       "    .dataframe tbody tr th:only-of-type {\n",
       "        vertical-align: middle;\n",
       "    }\n",
       "\n",
       "    .dataframe tbody tr th {\n",
       "        vertical-align: top;\n",
       "    }\n",
       "\n",
       "    .dataframe thead th {\n",
       "        text-align: right;\n",
       "    }\n",
       "</style>\n",
       "<table border=\"1\" class=\"dataframe\">\n",
       "  <thead>\n",
       "    <tr style=\"text-align: right;\">\n",
       "      <th></th>\n",
       "      <th>region</th>\n",
       "      <th>users_count_in_ab_test</th>\n",
       "      <th>all_users_count</th>\n",
       "    </tr>\n",
       "  </thead>\n",
       "  <tbody>\n",
       "    <tr>\n",
       "      <th>0</th>\n",
       "      <td>APAC</td>\n",
       "      <td>72</td>\n",
       "      <td>3153</td>\n",
       "    </tr>\n",
       "    <tr>\n",
       "      <th>1</th>\n",
       "      <td>CIS</td>\n",
       "      <td>55</td>\n",
       "      <td>3155</td>\n",
       "    </tr>\n",
       "    <tr>\n",
       "      <th>2</th>\n",
       "      <td>EU</td>\n",
       "      <td>6351</td>\n",
       "      <td>46270</td>\n",
       "    </tr>\n",
       "    <tr>\n",
       "      <th>3</th>\n",
       "      <td>N.America</td>\n",
       "      <td>223</td>\n",
       "      <td>9155</td>\n",
       "    </tr>\n",
       "  </tbody>\n",
       "</table>\n",
       "</div>"
      ],
      "text/plain": [
       "      region  users_count_in_ab_test  all_users_count\n",
       "0       APAC                      72             3153\n",
       "1        CIS                      55             3155\n",
       "2         EU                    6351            46270\n",
       "3  N.America                     223             9155"
      ]
     },
     "execution_count": 43,
     "metadata": {},
     "output_type": "execute_result"
    }
   ],
   "source": [
    "gr_merged"
   ]
  },
  {
   "cell_type": "code",
   "execution_count": 44,
   "metadata": {},
   "outputs": [],
   "source": [
    "gr_merged['%_of_all'] = 100*gr_merged['users_count_in_ab_test']/gr_merged['all_users_count']"
   ]
  },
  {
   "cell_type": "code",
   "execution_count": 45,
   "metadata": {},
   "outputs": [
    {
     "data": {
      "text/html": [
       "<div>\n",
       "<style scoped>\n",
       "    .dataframe tbody tr th:only-of-type {\n",
       "        vertical-align: middle;\n",
       "    }\n",
       "\n",
       "    .dataframe tbody tr th {\n",
       "        vertical-align: top;\n",
       "    }\n",
       "\n",
       "    .dataframe thead th {\n",
       "        text-align: right;\n",
       "    }\n",
       "</style>\n",
       "<table border=\"1\" class=\"dataframe\">\n",
       "  <thead>\n",
       "    <tr style=\"text-align: right;\">\n",
       "      <th></th>\n",
       "      <th>region</th>\n",
       "      <th>users_count_in_ab_test</th>\n",
       "      <th>all_users_count</th>\n",
       "      <th>%_of_all</th>\n",
       "    </tr>\n",
       "  </thead>\n",
       "  <tbody>\n",
       "    <tr>\n",
       "      <th>0</th>\n",
       "      <td>APAC</td>\n",
       "      <td>72</td>\n",
       "      <td>3153</td>\n",
       "      <td>2.283539</td>\n",
       "    </tr>\n",
       "    <tr>\n",
       "      <th>1</th>\n",
       "      <td>CIS</td>\n",
       "      <td>55</td>\n",
       "      <td>3155</td>\n",
       "      <td>1.743265</td>\n",
       "    </tr>\n",
       "    <tr>\n",
       "      <th>2</th>\n",
       "      <td>EU</td>\n",
       "      <td>6351</td>\n",
       "      <td>46270</td>\n",
       "      <td>13.725956</td>\n",
       "    </tr>\n",
       "    <tr>\n",
       "      <th>3</th>\n",
       "      <td>N.America</td>\n",
       "      <td>223</td>\n",
       "      <td>9155</td>\n",
       "      <td>2.435827</td>\n",
       "    </tr>\n",
       "  </tbody>\n",
       "</table>\n",
       "</div>"
      ],
      "text/plain": [
       "      region  users_count_in_ab_test  all_users_count   %_of_all\n",
       "0       APAC                      72             3153   2.283539\n",
       "1        CIS                      55             3155   1.743265\n",
       "2         EU                    6351            46270  13.725956\n",
       "3  N.America                     223             9155   2.435827"
      ]
     },
     "execution_count": 45,
     "metadata": {},
     "output_type": "execute_result"
    }
   ],
   "source": [
    "gr_merged"
   ]
  },
  {
   "cell_type": "markdown",
   "metadata": {},
   "source": [
    "Ровно 15% из EU, как по ТЗ. Идём дальше"
   ]
  },
  {
   "cell_type": "code",
   "execution_count": 46,
   "metadata": {},
   "outputs": [
    {
     "data": {
      "text/plain": [
       "6701"
      ]
     },
     "execution_count": 46,
     "metadata": {},
     "output_type": "execute_result"
    }
   ],
   "source": [
    "gr_merged['users_count_in_ab_test'].sum()"
   ]
  },
  {
   "cell_type": "markdown",
   "metadata": {},
   "source": [
    "Участников в тесте 6701, по ТЗ 6000. Больше - не меньше, оставим как есть."
   ]
  },
  {
   "cell_type": "code",
   "execution_count": 47,
   "metadata": {},
   "outputs": [
    {
     "data": {
      "text/plain": [
       "group\n",
       "A    3824\n",
       "B    2877\n",
       "Name: user_id, dtype: int64"
      ]
     },
     "execution_count": 47,
     "metadata": {},
     "output_type": "execute_result"
    }
   ],
   "source": [
    "final_ab_participants.groupby('group')['user_id'].nunique()"
   ]
  },
  {
   "cell_type": "code",
   "execution_count": 48,
   "metadata": {},
   "outputs": [],
   "source": [
    "df1 = final_ab_participants.merge(final_ab_events,on='user_id')"
   ]
  },
  {
   "cell_type": "code",
   "execution_count": 49,
   "metadata": {},
   "outputs": [
    {
     "data": {
      "text/plain": [
       "3675"
      ]
     },
     "execution_count": 49,
     "metadata": {},
     "output_type": "execute_result"
    }
   ],
   "source": [
    "df1.user_id.nunique()"
   ]
  },
  {
   "cell_type": "markdown",
   "metadata": {},
   "source": [
    "Из 6701 юзеров, принимающих участие в тесте, осталось 3675. Для остальных участвующих нет записей по ивентам."
   ]
  },
  {
   "cell_type": "code",
   "execution_count": 50,
   "metadata": {},
   "outputs": [
    {
     "name": "stdout",
     "output_type": "stream",
     "text": [
      "<class 'pandas.core.frame.DataFrame'>\n",
      "Int64Index: 24698 entries, 0 to 24697\n",
      "Data columns (total 6 columns):\n",
      " #   Column      Non-Null Count  Dtype         \n",
      "---  ------      --------------  -----         \n",
      " 0   user_id     24698 non-null  object        \n",
      " 1   group       24698 non-null  object        \n",
      " 2   ab_test     24698 non-null  object        \n",
      " 3   event_dt    24698 non-null  datetime64[ns]\n",
      " 4   event_name  24698 non-null  object        \n",
      " 5   details     3331 non-null   float64       \n",
      "dtypes: datetime64[ns](1), float64(1), object(4)\n",
      "memory usage: 1.3+ MB\n"
     ]
    }
   ],
   "source": [
    "df1.info()"
   ]
  },
  {
   "cell_type": "code",
   "execution_count": 51,
   "metadata": {},
   "outputs": [],
   "source": [
    "df1 = df1.merge(final_ab_new_users, on='user_id',how='left')"
   ]
  },
  {
   "cell_type": "code",
   "execution_count": 52,
   "metadata": {},
   "outputs": [],
   "source": [
    "df1['lifetime'] = (df1['event_dt'].max() - df1['first_date']).dt.days"
   ]
  },
  {
   "cell_type": "code",
   "execution_count": 53,
   "metadata": {},
   "outputs": [
    {
     "data": {
      "text/html": [
       "<div>\n",
       "<style scoped>\n",
       "    .dataframe tbody tr th:only-of-type {\n",
       "        vertical-align: middle;\n",
       "    }\n",
       "\n",
       "    .dataframe tbody tr th {\n",
       "        vertical-align: top;\n",
       "    }\n",
       "\n",
       "    .dataframe thead th {\n",
       "        text-align: right;\n",
       "    }\n",
       "</style>\n",
       "<table border=\"1\" class=\"dataframe\">\n",
       "  <thead>\n",
       "    <tr style=\"text-align: right;\">\n",
       "      <th></th>\n",
       "      <th>user_id</th>\n",
       "      <th>group</th>\n",
       "      <th>ab_test</th>\n",
       "      <th>event_dt</th>\n",
       "      <th>event_name</th>\n",
       "      <th>details</th>\n",
       "      <th>first_date</th>\n",
       "      <th>region</th>\n",
       "      <th>device</th>\n",
       "      <th>lifetime</th>\n",
       "    </tr>\n",
       "  </thead>\n",
       "  <tbody>\n",
       "    <tr>\n",
       "      <th>0</th>\n",
       "      <td>D1ABA3E2887B6A73</td>\n",
       "      <td>A</td>\n",
       "      <td>recommender_system_test</td>\n",
       "      <td>2020-12-07 14:43:27</td>\n",
       "      <td>purchase</td>\n",
       "      <td>99.99</td>\n",
       "      <td>2020-12-07</td>\n",
       "      <td>EU</td>\n",
       "      <td>PC</td>\n",
       "      <td>23</td>\n",
       "    </tr>\n",
       "    <tr>\n",
       "      <th>1</th>\n",
       "      <td>D1ABA3E2887B6A73</td>\n",
       "      <td>A</td>\n",
       "      <td>recommender_system_test</td>\n",
       "      <td>2020-12-25 00:04:56</td>\n",
       "      <td>purchase</td>\n",
       "      <td>4.99</td>\n",
       "      <td>2020-12-07</td>\n",
       "      <td>EU</td>\n",
       "      <td>PC</td>\n",
       "      <td>23</td>\n",
       "    </tr>\n",
       "    <tr>\n",
       "      <th>2</th>\n",
       "      <td>D1ABA3E2887B6A73</td>\n",
       "      <td>A</td>\n",
       "      <td>recommender_system_test</td>\n",
       "      <td>2020-12-07 14:43:29</td>\n",
       "      <td>product_cart</td>\n",
       "      <td>NaN</td>\n",
       "      <td>2020-12-07</td>\n",
       "      <td>EU</td>\n",
       "      <td>PC</td>\n",
       "      <td>23</td>\n",
       "    </tr>\n",
       "    <tr>\n",
       "      <th>3</th>\n",
       "      <td>D1ABA3E2887B6A73</td>\n",
       "      <td>A</td>\n",
       "      <td>recommender_system_test</td>\n",
       "      <td>2020-12-25 00:04:57</td>\n",
       "      <td>product_cart</td>\n",
       "      <td>NaN</td>\n",
       "      <td>2020-12-07</td>\n",
       "      <td>EU</td>\n",
       "      <td>PC</td>\n",
       "      <td>23</td>\n",
       "    </tr>\n",
       "    <tr>\n",
       "      <th>4</th>\n",
       "      <td>D1ABA3E2887B6A73</td>\n",
       "      <td>A</td>\n",
       "      <td>recommender_system_test</td>\n",
       "      <td>2020-12-07 14:43:27</td>\n",
       "      <td>product_page</td>\n",
       "      <td>NaN</td>\n",
       "      <td>2020-12-07</td>\n",
       "      <td>EU</td>\n",
       "      <td>PC</td>\n",
       "      <td>23</td>\n",
       "    </tr>\n",
       "  </tbody>\n",
       "</table>\n",
       "</div>"
      ],
      "text/plain": [
       "            user_id group                  ab_test            event_dt  \\\n",
       "0  D1ABA3E2887B6A73     A  recommender_system_test 2020-12-07 14:43:27   \n",
       "1  D1ABA3E2887B6A73     A  recommender_system_test 2020-12-25 00:04:56   \n",
       "2  D1ABA3E2887B6A73     A  recommender_system_test 2020-12-07 14:43:29   \n",
       "3  D1ABA3E2887B6A73     A  recommender_system_test 2020-12-25 00:04:57   \n",
       "4  D1ABA3E2887B6A73     A  recommender_system_test 2020-12-07 14:43:27   \n",
       "\n",
       "     event_name  details first_date region device  lifetime  \n",
       "0      purchase    99.99 2020-12-07     EU     PC        23  \n",
       "1      purchase     4.99 2020-12-07     EU     PC        23  \n",
       "2  product_cart      NaN 2020-12-07     EU     PC        23  \n",
       "3  product_cart      NaN 2020-12-07     EU     PC        23  \n",
       "4  product_page      NaN 2020-12-07     EU     PC        23  "
      ]
     },
     "execution_count": 53,
     "metadata": {},
     "output_type": "execute_result"
    }
   ],
   "source": [
    "df1.head()"
   ]
  },
  {
   "cell_type": "markdown",
   "metadata": {},
   "source": [
    "Т.к. нас интересует конверсия за период в 14 дней - добавим колонку с разницей (лайфтайм) между регистрацией и последним ивентом и отрежем всех, у кого лайфтайм больше 14."
   ]
  },
  {
   "cell_type": "code",
   "execution_count": 54,
   "metadata": {},
   "outputs": [],
   "source": [
    "df1_14 = df1[df1['lifetime']<=14]"
   ]
  },
  {
   "cell_type": "markdown",
   "metadata": {},
   "source": [
    "Проверим, что время теста не совпадает с маркетинговыми активностями."
   ]
  },
  {
   "cell_type": "code",
   "execution_count": 55,
   "metadata": {},
   "outputs": [
    {
     "data": {
      "text/html": [
       "<div>\n",
       "<style scoped>\n",
       "    .dataframe tbody tr th:only-of-type {\n",
       "        vertical-align: middle;\n",
       "    }\n",
       "\n",
       "    .dataframe tbody tr th {\n",
       "        vertical-align: top;\n",
       "    }\n",
       "\n",
       "    .dataframe thead th {\n",
       "        text-align: right;\n",
       "    }\n",
       "</style>\n",
       "<table border=\"1\" class=\"dataframe\">\n",
       "  <thead>\n",
       "    <tr style=\"text-align: right;\">\n",
       "      <th></th>\n",
       "      <th>name</th>\n",
       "      <th>regions</th>\n",
       "      <th>start_dt</th>\n",
       "      <th>finish_dt</th>\n",
       "    </tr>\n",
       "  </thead>\n",
       "  <tbody>\n",
       "    <tr>\n",
       "      <th>0</th>\n",
       "      <td>Christmas&amp;New Year Promo</td>\n",
       "      <td>EU, N.America</td>\n",
       "      <td>2020-12-25</td>\n",
       "      <td>2021-01-03</td>\n",
       "    </tr>\n",
       "    <tr>\n",
       "      <th>1</th>\n",
       "      <td>St. Valentine's Day Giveaway</td>\n",
       "      <td>EU, CIS, APAC, N.America</td>\n",
       "      <td>2020-02-14</td>\n",
       "      <td>2020-02-16</td>\n",
       "    </tr>\n",
       "    <tr>\n",
       "      <th>2</th>\n",
       "      <td>St. Patric's Day Promo</td>\n",
       "      <td>EU, N.America</td>\n",
       "      <td>2020-03-17</td>\n",
       "      <td>2020-03-19</td>\n",
       "    </tr>\n",
       "    <tr>\n",
       "      <th>3</th>\n",
       "      <td>Easter Promo</td>\n",
       "      <td>EU, CIS, APAC, N.America</td>\n",
       "      <td>2020-04-12</td>\n",
       "      <td>2020-04-19</td>\n",
       "    </tr>\n",
       "    <tr>\n",
       "      <th>4</th>\n",
       "      <td>4th of July Promo</td>\n",
       "      <td>N.America</td>\n",
       "      <td>2020-07-04</td>\n",
       "      <td>2020-07-11</td>\n",
       "    </tr>\n",
       "    <tr>\n",
       "      <th>5</th>\n",
       "      <td>Black Friday Ads Campaign</td>\n",
       "      <td>EU, CIS, APAC, N.America</td>\n",
       "      <td>2020-11-26</td>\n",
       "      <td>2020-12-01</td>\n",
       "    </tr>\n",
       "    <tr>\n",
       "      <th>6</th>\n",
       "      <td>Chinese New Year Promo</td>\n",
       "      <td>APAC</td>\n",
       "      <td>2020-01-25</td>\n",
       "      <td>2020-02-07</td>\n",
       "    </tr>\n",
       "    <tr>\n",
       "      <th>7</th>\n",
       "      <td>Labor day (May 1st) Ads Campaign</td>\n",
       "      <td>EU, CIS, APAC</td>\n",
       "      <td>2020-05-01</td>\n",
       "      <td>2020-05-03</td>\n",
       "    </tr>\n",
       "    <tr>\n",
       "      <th>8</th>\n",
       "      <td>International Women's Day Promo</td>\n",
       "      <td>EU, CIS, APAC</td>\n",
       "      <td>2020-03-08</td>\n",
       "      <td>2020-03-10</td>\n",
       "    </tr>\n",
       "    <tr>\n",
       "      <th>9</th>\n",
       "      <td>Victory Day CIS (May 9th) Event</td>\n",
       "      <td>CIS</td>\n",
       "      <td>2020-05-09</td>\n",
       "      <td>2020-05-11</td>\n",
       "    </tr>\n",
       "    <tr>\n",
       "      <th>10</th>\n",
       "      <td>CIS New Year Gift Lottery</td>\n",
       "      <td>CIS</td>\n",
       "      <td>2020-12-30</td>\n",
       "      <td>2021-01-07</td>\n",
       "    </tr>\n",
       "    <tr>\n",
       "      <th>11</th>\n",
       "      <td>Dragon Boat Festival Giveaway</td>\n",
       "      <td>APAC</td>\n",
       "      <td>2020-06-25</td>\n",
       "      <td>2020-07-01</td>\n",
       "    </tr>\n",
       "    <tr>\n",
       "      <th>12</th>\n",
       "      <td>Single's Day Gift Promo</td>\n",
       "      <td>APAC</td>\n",
       "      <td>2020-11-11</td>\n",
       "      <td>2020-11-12</td>\n",
       "    </tr>\n",
       "    <tr>\n",
       "      <th>13</th>\n",
       "      <td>Chinese Moon Festival</td>\n",
       "      <td>APAC</td>\n",
       "      <td>2020-10-01</td>\n",
       "      <td>2020-10-07</td>\n",
       "    </tr>\n",
       "  </tbody>\n",
       "</table>\n",
       "</div>"
      ],
      "text/plain": [
       "                                name                   regions   start_dt  \\\n",
       "0           Christmas&New Year Promo             EU, N.America 2020-12-25   \n",
       "1       St. Valentine's Day Giveaway  EU, CIS, APAC, N.America 2020-02-14   \n",
       "2             St. Patric's Day Promo             EU, N.America 2020-03-17   \n",
       "3                       Easter Promo  EU, CIS, APAC, N.America 2020-04-12   \n",
       "4                  4th of July Promo                 N.America 2020-07-04   \n",
       "5          Black Friday Ads Campaign  EU, CIS, APAC, N.America 2020-11-26   \n",
       "6             Chinese New Year Promo                      APAC 2020-01-25   \n",
       "7   Labor day (May 1st) Ads Campaign             EU, CIS, APAC 2020-05-01   \n",
       "8    International Women's Day Promo             EU, CIS, APAC 2020-03-08   \n",
       "9    Victory Day CIS (May 9th) Event                       CIS 2020-05-09   \n",
       "10         CIS New Year Gift Lottery                       CIS 2020-12-30   \n",
       "11     Dragon Boat Festival Giveaway                      APAC 2020-06-25   \n",
       "12           Single's Day Gift Promo                      APAC 2020-11-11   \n",
       "13             Chinese Moon Festival                      APAC 2020-10-01   \n",
       "\n",
       "    finish_dt  \n",
       "0  2021-01-03  \n",
       "1  2020-02-16  \n",
       "2  2020-03-19  \n",
       "3  2020-04-19  \n",
       "4  2020-07-11  \n",
       "5  2020-12-01  \n",
       "6  2020-02-07  \n",
       "7  2020-05-03  \n",
       "8  2020-03-10  \n",
       "9  2020-05-11  \n",
       "10 2021-01-07  \n",
       "11 2020-07-01  \n",
       "12 2020-11-12  \n",
       "13 2020-10-07  "
      ]
     },
     "execution_count": 55,
     "metadata": {},
     "output_type": "execute_result"
    }
   ],
   "source": [
    "ab_project_marketing_events"
   ]
  },
  {
   "cell_type": "code",
   "execution_count": 56,
   "metadata": {},
   "outputs": [
    {
     "data": {
      "text/html": [
       "<div>\n",
       "<style scoped>\n",
       "    .dataframe tbody tr th:only-of-type {\n",
       "        vertical-align: middle;\n",
       "    }\n",
       "\n",
       "    .dataframe tbody tr th {\n",
       "        vertical-align: top;\n",
       "    }\n",
       "\n",
       "    .dataframe thead th {\n",
       "        text-align: right;\n",
       "    }\n",
       "</style>\n",
       "<table border=\"1\" class=\"dataframe\">\n",
       "  <thead>\n",
       "    <tr style=\"text-align: right;\">\n",
       "      <th></th>\n",
       "      <th>name</th>\n",
       "      <th>regions</th>\n",
       "      <th>start_dt</th>\n",
       "      <th>finish_dt</th>\n",
       "    </tr>\n",
       "  </thead>\n",
       "  <tbody>\n",
       "    <tr>\n",
       "      <th>0</th>\n",
       "      <td>Christmas&amp;New Year Promo</td>\n",
       "      <td>EU, N.America</td>\n",
       "      <td>2020-12-25</td>\n",
       "      <td>2021-01-03</td>\n",
       "    </tr>\n",
       "  </tbody>\n",
       "</table>\n",
       "</div>"
      ],
      "text/plain": [
       "                       name        regions   start_dt  finish_dt\n",
       "0  Christmas&New Year Promo  EU, N.America 2020-12-25 2021-01-03"
      ]
     },
     "execution_count": 56,
     "metadata": {},
     "output_type": "execute_result"
    }
   ],
   "source": [
    "ab_project_marketing_events[(ab_project_marketing_events['finish_dt']>='2020-12-21;') & (ab_project_marketing_events['finish_dt']<='2021-01-04')]"
   ]
  },
  {
   "cell_type": "markdown",
   "metadata": {},
   "source": [
    "Время проведения теста совпадает с рождественским промо. Это может исказить результаты теста"
   ]
  },
  {
   "cell_type": "markdown",
   "metadata": {},
   "source": [
    "Посмотрим как распределены пользователи по группам"
   ]
  },
  {
   "cell_type": "code",
   "execution_count": 57,
   "metadata": {},
   "outputs": [
    {
     "data": {
      "text/plain": [
       "group\n",
       "A    1531\n",
       "B     391\n",
       "Name: user_id, dtype: int64"
      ]
     },
     "execution_count": 57,
     "metadata": {},
     "output_type": "execute_result"
    }
   ],
   "source": [
    "df1_14.groupby('group')['user_id'].nunique()"
   ]
  },
  {
   "cell_type": "markdown",
   "metadata": {},
   "source": [
    "Распределение неравномерное."
   ]
  },
  {
   "cell_type": "code",
   "execution_count": 58,
   "metadata": {},
   "outputs": [
    {
     "data": {
      "text/html": [
       "<div>\n",
       "<style scoped>\n",
       "    .dataframe tbody tr th:only-of-type {\n",
       "        vertical-align: middle;\n",
       "    }\n",
       "\n",
       "    .dataframe tbody tr th {\n",
       "        vertical-align: top;\n",
       "    }\n",
       "\n",
       "    .dataframe thead th {\n",
       "        text-align: right;\n",
       "    }\n",
       "</style>\n",
       "<table border=\"1\" class=\"dataframe\">\n",
       "  <thead>\n",
       "    <tr style=\"text-align: right;\">\n",
       "      <th></th>\n",
       "      <th>user_id</th>\n",
       "      <th>group</th>\n",
       "    </tr>\n",
       "  </thead>\n",
       "  <tbody>\n",
       "    <tr>\n",
       "      <th>0</th>\n",
       "      <td>001064FEAAB631A1</td>\n",
       "      <td>1</td>\n",
       "    </tr>\n",
       "    <tr>\n",
       "      <th>1441</th>\n",
       "      <td>C2025648F77BD80B</td>\n",
       "      <td>1</td>\n",
       "    </tr>\n",
       "    <tr>\n",
       "      <th>1289</th>\n",
       "      <td>AD5DBC5507D8D7B9</td>\n",
       "      <td>1</td>\n",
       "    </tr>\n",
       "    <tr>\n",
       "      <th>1288</th>\n",
       "      <td>AD10DCB9478768CA</td>\n",
       "      <td>1</td>\n",
       "    </tr>\n",
       "    <tr>\n",
       "      <th>1287</th>\n",
       "      <td>ACFD449FA9875692</td>\n",
       "      <td>1</td>\n",
       "    </tr>\n",
       "    <tr>\n",
       "      <th>...</th>\n",
       "      <td>...</td>\n",
       "      <td>...</td>\n",
       "    </tr>\n",
       "    <tr>\n",
       "      <th>636</th>\n",
       "      <td>576F0756184C8DB1</td>\n",
       "      <td>1</td>\n",
       "    </tr>\n",
       "    <tr>\n",
       "      <th>635</th>\n",
       "      <td>575525DD276A50E1</td>\n",
       "      <td>1</td>\n",
       "    </tr>\n",
       "    <tr>\n",
       "      <th>634</th>\n",
       "      <td>574ACBC674BC385D</td>\n",
       "      <td>1</td>\n",
       "    </tr>\n",
       "    <tr>\n",
       "      <th>633</th>\n",
       "      <td>57442DD4178AFE27</td>\n",
       "      <td>1</td>\n",
       "    </tr>\n",
       "    <tr>\n",
       "      <th>1921</th>\n",
       "      <td>FFF28D02B1EACBE1</td>\n",
       "      <td>1</td>\n",
       "    </tr>\n",
       "  </tbody>\n",
       "</table>\n",
       "<p>1922 rows × 2 columns</p>\n",
       "</div>"
      ],
      "text/plain": [
       "               user_id  group\n",
       "0     001064FEAAB631A1      1\n",
       "1441  C2025648F77BD80B      1\n",
       "1289  AD5DBC5507D8D7B9      1\n",
       "1288  AD10DCB9478768CA      1\n",
       "1287  ACFD449FA9875692      1\n",
       "...                ...    ...\n",
       "636   576F0756184C8DB1      1\n",
       "635   575525DD276A50E1      1\n",
       "634   574ACBC674BC385D      1\n",
       "633   57442DD4178AFE27      1\n",
       "1921  FFF28D02B1EACBE1      1\n",
       "\n",
       "[1922 rows x 2 columns]"
      ]
     },
     "execution_count": 58,
     "metadata": {},
     "output_type": "execute_result"
    }
   ],
   "source": [
    "df1_14.groupby('user_id').agg({'group':'nunique'}).reset_index().sort_values(by='group',ascending=False)"
   ]
  },
  {
   "cell_type": "markdown",
   "metadata": {},
   "source": [
    "Пользователей, участвующих сразу в двух группах нет."
   ]
  },
  {
   "cell_type": "markdown",
   "metadata": {},
   "source": [
    "### Вывод"
   ]
  },
  {
   "cell_type": "markdown",
   "metadata": {},
   "source": [
    "Тест был остановлен раньше на 5 дней, чем требовалось по ТЗ. 15% участвующих из региона EU. Общее количество участвующих в тесте 6701, но только для 3675 из них есть логи событий. Время проведения теста совпадает с рождественским промо, что может исказить результаты теста. Распределение пользователей по группам неравномерное."
   ]
  },
  {
   "cell_type": "markdown",
   "metadata": {},
   "source": [
    "## Исследовательский анализ данных"
   ]
  },
  {
   "cell_type": "markdown",
   "metadata": {},
   "source": [
    "Посмотрим распределение количества событий на пользователя"
   ]
  },
  {
   "cell_type": "code",
   "execution_count": 59,
   "metadata": {},
   "outputs": [
    {
     "data": {
      "text/html": [
       "<div>\n",
       "<style scoped>\n",
       "    .dataframe tbody tr th:only-of-type {\n",
       "        vertical-align: middle;\n",
       "    }\n",
       "\n",
       "    .dataframe tbody tr th {\n",
       "        vertical-align: top;\n",
       "    }\n",
       "\n",
       "    .dataframe thead th {\n",
       "        text-align: right;\n",
       "    }\n",
       "</style>\n",
       "<table border=\"1\" class=\"dataframe\">\n",
       "  <thead>\n",
       "    <tr style=\"text-align: right;\">\n",
       "      <th></th>\n",
       "      <th>user_id</th>\n",
       "      <th>group</th>\n",
       "      <th>ab_test</th>\n",
       "      <th>event_dt</th>\n",
       "      <th>event_name</th>\n",
       "      <th>details</th>\n",
       "      <th>first_date</th>\n",
       "      <th>region</th>\n",
       "      <th>device</th>\n",
       "      <th>lifetime</th>\n",
       "    </tr>\n",
       "  </thead>\n",
       "  <tbody>\n",
       "    <tr>\n",
       "      <th>8</th>\n",
       "      <td>A7A3664BD6242119</td>\n",
       "      <td>A</td>\n",
       "      <td>recommender_system_test</td>\n",
       "      <td>2020-12-20 15:46:06</td>\n",
       "      <td>product_page</td>\n",
       "      <td>NaN</td>\n",
       "      <td>2020-12-20</td>\n",
       "      <td>EU</td>\n",
       "      <td>iPhone</td>\n",
       "      <td>10</td>\n",
       "    </tr>\n",
       "    <tr>\n",
       "      <th>9</th>\n",
       "      <td>A7A3664BD6242119</td>\n",
       "      <td>A</td>\n",
       "      <td>recommender_system_test</td>\n",
       "      <td>2020-12-21 00:40:59</td>\n",
       "      <td>product_page</td>\n",
       "      <td>NaN</td>\n",
       "      <td>2020-12-20</td>\n",
       "      <td>EU</td>\n",
       "      <td>iPhone</td>\n",
       "      <td>10</td>\n",
       "    </tr>\n",
       "    <tr>\n",
       "      <th>10</th>\n",
       "      <td>A7A3664BD6242119</td>\n",
       "      <td>A</td>\n",
       "      <td>recommender_system_test</td>\n",
       "      <td>2020-12-25 05:19:45</td>\n",
       "      <td>product_page</td>\n",
       "      <td>NaN</td>\n",
       "      <td>2020-12-20</td>\n",
       "      <td>EU</td>\n",
       "      <td>iPhone</td>\n",
       "      <td>10</td>\n",
       "    </tr>\n",
       "    <tr>\n",
       "      <th>11</th>\n",
       "      <td>A7A3664BD6242119</td>\n",
       "      <td>A</td>\n",
       "      <td>recommender_system_test</td>\n",
       "      <td>2020-12-20 15:46:02</td>\n",
       "      <td>login</td>\n",
       "      <td>NaN</td>\n",
       "      <td>2020-12-20</td>\n",
       "      <td>EU</td>\n",
       "      <td>iPhone</td>\n",
       "      <td>10</td>\n",
       "    </tr>\n",
       "    <tr>\n",
       "      <th>12</th>\n",
       "      <td>A7A3664BD6242119</td>\n",
       "      <td>A</td>\n",
       "      <td>recommender_system_test</td>\n",
       "      <td>2020-12-21 00:40:58</td>\n",
       "      <td>login</td>\n",
       "      <td>NaN</td>\n",
       "      <td>2020-12-20</td>\n",
       "      <td>EU</td>\n",
       "      <td>iPhone</td>\n",
       "      <td>10</td>\n",
       "    </tr>\n",
       "    <tr>\n",
       "      <th>...</th>\n",
       "      <td>...</td>\n",
       "      <td>...</td>\n",
       "      <td>...</td>\n",
       "      <td>...</td>\n",
       "      <td>...</td>\n",
       "      <td>...</td>\n",
       "      <td>...</td>\n",
       "      <td>...</td>\n",
       "      <td>...</td>\n",
       "      <td>...</td>\n",
       "    </tr>\n",
       "    <tr>\n",
       "      <th>24672</th>\n",
       "      <td>9D263B8EF15CF188</td>\n",
       "      <td>B</td>\n",
       "      <td>recommender_system_test</td>\n",
       "      <td>2020-12-16 15:17:29</td>\n",
       "      <td>login</td>\n",
       "      <td>NaN</td>\n",
       "      <td>2020-12-16</td>\n",
       "      <td>N.America</td>\n",
       "      <td>Mac</td>\n",
       "      <td>14</td>\n",
       "    </tr>\n",
       "    <tr>\n",
       "      <th>24673</th>\n",
       "      <td>F2FBBA33F37DEC46</td>\n",
       "      <td>A</td>\n",
       "      <td>recommender_system_test</td>\n",
       "      <td>2020-12-18 19:06:08</td>\n",
       "      <td>login</td>\n",
       "      <td>NaN</td>\n",
       "      <td>2020-12-18</td>\n",
       "      <td>APAC</td>\n",
       "      <td>Mac</td>\n",
       "      <td>12</td>\n",
       "    </tr>\n",
       "    <tr>\n",
       "      <th>24674</th>\n",
       "      <td>F2FBBA33F37DEC46</td>\n",
       "      <td>A</td>\n",
       "      <td>recommender_system_test</td>\n",
       "      <td>2020-12-19 19:58:27</td>\n",
       "      <td>login</td>\n",
       "      <td>NaN</td>\n",
       "      <td>2020-12-18</td>\n",
       "      <td>APAC</td>\n",
       "      <td>Mac</td>\n",
       "      <td>12</td>\n",
       "    </tr>\n",
       "    <tr>\n",
       "      <th>24675</th>\n",
       "      <td>F2FBBA33F37DEC46</td>\n",
       "      <td>A</td>\n",
       "      <td>recommender_system_test</td>\n",
       "      <td>2020-12-20 00:29:37</td>\n",
       "      <td>login</td>\n",
       "      <td>NaN</td>\n",
       "      <td>2020-12-18</td>\n",
       "      <td>APAC</td>\n",
       "      <td>Mac</td>\n",
       "      <td>12</td>\n",
       "    </tr>\n",
       "    <tr>\n",
       "      <th>24676</th>\n",
       "      <td>F2FBBA33F37DEC46</td>\n",
       "      <td>A</td>\n",
       "      <td>recommender_system_test</td>\n",
       "      <td>2020-12-26 19:54:34</td>\n",
       "      <td>login</td>\n",
       "      <td>NaN</td>\n",
       "      <td>2020-12-18</td>\n",
       "      <td>APAC</td>\n",
       "      <td>Mac</td>\n",
       "      <td>12</td>\n",
       "    </tr>\n",
       "  </tbody>\n",
       "</table>\n",
       "<p>12800 rows × 10 columns</p>\n",
       "</div>"
      ],
      "text/plain": [
       "                user_id group                  ab_test            event_dt  \\\n",
       "8      A7A3664BD6242119     A  recommender_system_test 2020-12-20 15:46:06   \n",
       "9      A7A3664BD6242119     A  recommender_system_test 2020-12-21 00:40:59   \n",
       "10     A7A3664BD6242119     A  recommender_system_test 2020-12-25 05:19:45   \n",
       "11     A7A3664BD6242119     A  recommender_system_test 2020-12-20 15:46:02   \n",
       "12     A7A3664BD6242119     A  recommender_system_test 2020-12-21 00:40:58   \n",
       "...                 ...   ...                      ...                 ...   \n",
       "24672  9D263B8EF15CF188     B  recommender_system_test 2020-12-16 15:17:29   \n",
       "24673  F2FBBA33F37DEC46     A  recommender_system_test 2020-12-18 19:06:08   \n",
       "24674  F2FBBA33F37DEC46     A  recommender_system_test 2020-12-19 19:58:27   \n",
       "24675  F2FBBA33F37DEC46     A  recommender_system_test 2020-12-20 00:29:37   \n",
       "24676  F2FBBA33F37DEC46     A  recommender_system_test 2020-12-26 19:54:34   \n",
       "\n",
       "         event_name  details first_date     region  device  lifetime  \n",
       "8      product_page      NaN 2020-12-20         EU  iPhone        10  \n",
       "9      product_page      NaN 2020-12-20         EU  iPhone        10  \n",
       "10     product_page      NaN 2020-12-20         EU  iPhone        10  \n",
       "11            login      NaN 2020-12-20         EU  iPhone        10  \n",
       "12            login      NaN 2020-12-20         EU  iPhone        10  \n",
       "...             ...      ...        ...        ...     ...       ...  \n",
       "24672         login      NaN 2020-12-16  N.America     Mac        14  \n",
       "24673         login      NaN 2020-12-18       APAC     Mac        12  \n",
       "24674         login      NaN 2020-12-18       APAC     Mac        12  \n",
       "24675         login      NaN 2020-12-18       APAC     Mac        12  \n",
       "24676         login      NaN 2020-12-18       APAC     Mac        12  \n",
       "\n",
       "[12800 rows x 10 columns]"
      ]
     },
     "execution_count": 59,
     "metadata": {},
     "output_type": "execute_result"
    }
   ],
   "source": [
    "df1_14"
   ]
  },
  {
   "cell_type": "code",
   "execution_count": 60,
   "metadata": {},
   "outputs": [],
   "source": [
    "df1_14_gr = df1_14.groupby(['user_id','group']).agg({'event_name':'count'}).reset_index()"
   ]
  },
  {
   "cell_type": "code",
   "execution_count": 61,
   "metadata": {},
   "outputs": [
    {
     "data": {
      "text/html": [
       "<div>\n",
       "<style scoped>\n",
       "    .dataframe tbody tr th:only-of-type {\n",
       "        vertical-align: middle;\n",
       "    }\n",
       "\n",
       "    .dataframe tbody tr th {\n",
       "        vertical-align: top;\n",
       "    }\n",
       "\n",
       "    .dataframe thead th {\n",
       "        text-align: right;\n",
       "    }\n",
       "</style>\n",
       "<table border=\"1\" class=\"dataframe\">\n",
       "  <thead>\n",
       "    <tr style=\"text-align: right;\">\n",
       "      <th></th>\n",
       "      <th>user_id</th>\n",
       "      <th>group</th>\n",
       "      <th>event_name</th>\n",
       "    </tr>\n",
       "  </thead>\n",
       "  <tbody>\n",
       "    <tr>\n",
       "      <th>0</th>\n",
       "      <td>001064FEAAB631A1</td>\n",
       "      <td>B</td>\n",
       "      <td>6</td>\n",
       "    </tr>\n",
       "    <tr>\n",
       "      <th>1</th>\n",
       "      <td>0010A1C096941592</td>\n",
       "      <td>A</td>\n",
       "      <td>12</td>\n",
       "    </tr>\n",
       "    <tr>\n",
       "      <th>2</th>\n",
       "      <td>00341D8401F0F665</td>\n",
       "      <td>A</td>\n",
       "      <td>2</td>\n",
       "    </tr>\n",
       "    <tr>\n",
       "      <th>3</th>\n",
       "      <td>003DF44D7589BBD4</td>\n",
       "      <td>A</td>\n",
       "      <td>15</td>\n",
       "    </tr>\n",
       "    <tr>\n",
       "      <th>4</th>\n",
       "      <td>005E096DBD379BCF</td>\n",
       "      <td>B</td>\n",
       "      <td>4</td>\n",
       "    </tr>\n",
       "    <tr>\n",
       "      <th>...</th>\n",
       "      <td>...</td>\n",
       "      <td>...</td>\n",
       "      <td>...</td>\n",
       "    </tr>\n",
       "    <tr>\n",
       "      <th>1917</th>\n",
       "      <td>FF5A1CD38F5DD996</td>\n",
       "      <td>A</td>\n",
       "      <td>10</td>\n",
       "    </tr>\n",
       "    <tr>\n",
       "      <th>1918</th>\n",
       "      <td>FF5B24BCE4387F86</td>\n",
       "      <td>A</td>\n",
       "      <td>9</td>\n",
       "    </tr>\n",
       "    <tr>\n",
       "      <th>1919</th>\n",
       "      <td>FF825C1D791989B5</td>\n",
       "      <td>A</td>\n",
       "      <td>8</td>\n",
       "    </tr>\n",
       "    <tr>\n",
       "      <th>1920</th>\n",
       "      <td>FF8CF7057415EB29</td>\n",
       "      <td>B</td>\n",
       "      <td>4</td>\n",
       "    </tr>\n",
       "    <tr>\n",
       "      <th>1921</th>\n",
       "      <td>FFF28D02B1EACBE1</td>\n",
       "      <td>B</td>\n",
       "      <td>9</td>\n",
       "    </tr>\n",
       "  </tbody>\n",
       "</table>\n",
       "<p>1922 rows × 3 columns</p>\n",
       "</div>"
      ],
      "text/plain": [
       "               user_id group  event_name\n",
       "0     001064FEAAB631A1     B           6\n",
       "1     0010A1C096941592     A          12\n",
       "2     00341D8401F0F665     A           2\n",
       "3     003DF44D7589BBD4     A          15\n",
       "4     005E096DBD379BCF     B           4\n",
       "...                ...   ...         ...\n",
       "1917  FF5A1CD38F5DD996     A          10\n",
       "1918  FF5B24BCE4387F86     A           9\n",
       "1919  FF825C1D791989B5     A           8\n",
       "1920  FF8CF7057415EB29     B           4\n",
       "1921  FFF28D02B1EACBE1     B           9\n",
       "\n",
       "[1922 rows x 3 columns]"
      ]
     },
     "execution_count": 61,
     "metadata": {},
     "output_type": "execute_result"
    }
   ],
   "source": [
    "df1_14_gr"
   ]
  },
  {
   "cell_type": "code",
   "execution_count": 62,
   "metadata": {
    "scrolled": false
   },
   "outputs": [
    {
     "data": {
      "image/png": "[encoded data removed]",
      "text/plain": [
       "<Figure size 1080x432 with 1 Axes>"
      ]
     },
     "metadata": {
      "needs_background": "light"
     },
     "output_type": "display_data"
    },
    {
     "data": {
      "image/png": "[encoded data removed]",
      "text/plain": [
       "<Figure size 1080x432 with 1 Axes>"
      ]
     },
     "metadata": {
      "needs_background": "light"
     },
     "output_type": "display_data"
    }
   ],
   "source": [
    "df1_14_gr[df1_14_gr['group']=='A'].plot(kind='hist', x='user_id', y='event_name', grid=True, label='A',figsize=(15,6))\n",
    "plt.title('Распределение количества событий на пользователя в группе А', fontsize=14)\n",
    "plt.xlabel('Количество событий')\n",
    "plt.ylabel('Количество пользователей')\n",
    "df1_14_gr[df1_14_gr['group']=='B'].plot(kind='hist', x='user_id', y='event_name', grid=True, label='B',figsize=(15,6))\n",
    "plt.title('Распределение количества событий на пользователя в группе В', fontsize=14)\n",
    "plt.xlabel('Количество событий')\n",
    "plt.ylabel('Количество пользователей')\n",
    "None"
   ]
  },
  {
   "cell_type": "code",
   "execution_count": 63,
   "metadata": {},
   "outputs": [
    {
     "data": {
      "text/plain": [
       "6.0"
      ]
     },
     "execution_count": 63,
     "metadata": {},
     "output_type": "execute_result"
    }
   ],
   "source": [
    "df1_14_gr[df1_14_gr['group']=='A']['event_name'].median()"
   ]
  },
  {
   "cell_type": "code",
   "execution_count": 64,
   "metadata": {},
   "outputs": [
    {
     "data": {
      "text/plain": [
       "4.0"
      ]
     },
     "execution_count": 64,
     "metadata": {},
     "output_type": "execute_result"
    }
   ],
   "source": [
    "df1_14_gr[df1_14_gr['group']=='B']['event_name'].median()"
   ]
  },
  {
   "cell_type": "markdown",
   "metadata": {},
   "source": [
    "Распределения похожие, но, в среднем, ивентов на пользователя в группе А больше, чем в группе В."
   ]
  },
  {
   "cell_type": "markdown",
   "metadata": {},
   "source": [
    "Посмотрим как число событий распределено по дням."
   ]
  },
  {
   "cell_type": "code",
   "execution_count": 65,
   "metadata": {},
   "outputs": [
    {
     "name": "stderr",
     "output_type": "stream",
     "text": [
      "/tmp/ipykernel_93/2328382896.py:1: SettingWithCopyWarning: \n",
      "A value is trying to be set on a copy of a slice from a DataFrame.\n",
      "Try using .loc[row_indexer,col_indexer] = value instead\n",
      "\n",
      "See the caveats in the documentation: https://pandas.pydata.org/pandas-docs/stable/user_guide/indexing.html#returning-a-view-versus-a-copy\n",
      "  df1_14['event_dt_day'] = df1_14['event_dt'].dt.floor('d')\n"
     ]
    }
   ],
   "source": [
    "df1_14['event_dt_day'] = df1_14['event_dt'].dt.floor('d')"
   ]
  },
  {
   "cell_type": "code",
   "execution_count": 66,
   "metadata": {},
   "outputs": [
    {
     "data": {
      "text/html": [
       "<div>\n",
       "<style scoped>\n",
       "    .dataframe tbody tr th:only-of-type {\n",
       "        vertical-align: middle;\n",
       "    }\n",
       "\n",
       "    .dataframe tbody tr th {\n",
       "        vertical-align: top;\n",
       "    }\n",
       "\n",
       "    .dataframe thead th {\n",
       "        text-align: right;\n",
       "    }\n",
       "</style>\n",
       "<table border=\"1\" class=\"dataframe\">\n",
       "  <thead>\n",
       "    <tr style=\"text-align: right;\">\n",
       "      <th></th>\n",
       "      <th>user_id</th>\n",
       "      <th>group</th>\n",
       "      <th>ab_test</th>\n",
       "      <th>event_dt</th>\n",
       "      <th>event_name</th>\n",
       "      <th>details</th>\n",
       "      <th>first_date</th>\n",
       "      <th>region</th>\n",
       "      <th>device</th>\n",
       "      <th>lifetime</th>\n",
       "      <th>event_dt_day</th>\n",
       "    </tr>\n",
       "  </thead>\n",
       "  <tbody>\n",
       "    <tr>\n",
       "      <th>8</th>\n",
       "      <td>A7A3664BD6242119</td>\n",
       "      <td>A</td>\n",
       "      <td>recommender_system_test</td>\n",
       "      <td>2020-12-20 15:46:06</td>\n",
       "      <td>product_page</td>\n",
       "      <td>NaN</td>\n",
       "      <td>2020-12-20</td>\n",
       "      <td>EU</td>\n",
       "      <td>iPhone</td>\n",
       "      <td>10</td>\n",
       "      <td>2020-12-20</td>\n",
       "    </tr>\n",
       "    <tr>\n",
       "      <th>9</th>\n",
       "      <td>A7A3664BD6242119</td>\n",
       "      <td>A</td>\n",
       "      <td>recommender_system_test</td>\n",
       "      <td>2020-12-21 00:40:59</td>\n",
       "      <td>product_page</td>\n",
       "      <td>NaN</td>\n",
       "      <td>2020-12-20</td>\n",
       "      <td>EU</td>\n",
       "      <td>iPhone</td>\n",
       "      <td>10</td>\n",
       "      <td>2020-12-21</td>\n",
       "    </tr>\n",
       "    <tr>\n",
       "      <th>10</th>\n",
       "      <td>A7A3664BD6242119</td>\n",
       "      <td>A</td>\n",
       "      <td>recommender_system_test</td>\n",
       "      <td>2020-12-25 05:19:45</td>\n",
       "      <td>product_page</td>\n",
       "      <td>NaN</td>\n",
       "      <td>2020-12-20</td>\n",
       "      <td>EU</td>\n",
       "      <td>iPhone</td>\n",
       "      <td>10</td>\n",
       "      <td>2020-12-25</td>\n",
       "    </tr>\n",
       "    <tr>\n",
       "      <th>11</th>\n",
       "      <td>A7A3664BD6242119</td>\n",
       "      <td>A</td>\n",
       "      <td>recommender_system_test</td>\n",
       "      <td>2020-12-20 15:46:02</td>\n",
       "      <td>login</td>\n",
       "      <td>NaN</td>\n",
       "      <td>2020-12-20</td>\n",
       "      <td>EU</td>\n",
       "      <td>iPhone</td>\n",
       "      <td>10</td>\n",
       "      <td>2020-12-20</td>\n",
       "    </tr>\n",
       "    <tr>\n",
       "      <th>12</th>\n",
       "      <td>A7A3664BD6242119</td>\n",
       "      <td>A</td>\n",
       "      <td>recommender_system_test</td>\n",
       "      <td>2020-12-21 00:40:58</td>\n",
       "      <td>login</td>\n",
       "      <td>NaN</td>\n",
       "      <td>2020-12-20</td>\n",
       "      <td>EU</td>\n",
       "      <td>iPhone</td>\n",
       "      <td>10</td>\n",
       "      <td>2020-12-21</td>\n",
       "    </tr>\n",
       "    <tr>\n",
       "      <th>...</th>\n",
       "      <td>...</td>\n",
       "      <td>...</td>\n",
       "      <td>...</td>\n",
       "      <td>...</td>\n",
       "      <td>...</td>\n",
       "      <td>...</td>\n",
       "      <td>...</td>\n",
       "      <td>...</td>\n",
       "      <td>...</td>\n",
       "      <td>...</td>\n",
       "      <td>...</td>\n",
       "    </tr>\n",
       "    <tr>\n",
       "      <th>24672</th>\n",
       "      <td>9D263B8EF15CF188</td>\n",
       "      <td>B</td>\n",
       "      <td>recommender_system_test</td>\n",
       "      <td>2020-12-16 15:17:29</td>\n",
       "      <td>login</td>\n",
       "      <td>NaN</td>\n",
       "      <td>2020-12-16</td>\n",
       "      <td>N.America</td>\n",
       "      <td>Mac</td>\n",
       "      <td>14</td>\n",
       "      <td>2020-12-16</td>\n",
       "    </tr>\n",
       "    <tr>\n",
       "      <th>24673</th>\n",
       "      <td>F2FBBA33F37DEC46</td>\n",
       "      <td>A</td>\n",
       "      <td>recommender_system_test</td>\n",
       "      <td>2020-12-18 19:06:08</td>\n",
       "      <td>login</td>\n",
       "      <td>NaN</td>\n",
       "      <td>2020-12-18</td>\n",
       "      <td>APAC</td>\n",
       "      <td>Mac</td>\n",
       "      <td>12</td>\n",
       "      <td>2020-12-18</td>\n",
       "    </tr>\n",
       "    <tr>\n",
       "      <th>24674</th>\n",
       "      <td>F2FBBA33F37DEC46</td>\n",
       "      <td>A</td>\n",
       "      <td>recommender_system_test</td>\n",
       "      <td>2020-12-19 19:58:27</td>\n",
       "      <td>login</td>\n",
       "      <td>NaN</td>\n",
       "      <td>2020-12-18</td>\n",
       "      <td>APAC</td>\n",
       "      <td>Mac</td>\n",
       "      <td>12</td>\n",
       "      <td>2020-12-19</td>\n",
       "    </tr>\n",
       "    <tr>\n",
       "      <th>24675</th>\n",
       "      <td>F2FBBA33F37DEC46</td>\n",
       "      <td>A</td>\n",
       "      <td>recommender_system_test</td>\n",
       "      <td>2020-12-20 00:29:37</td>\n",
       "      <td>login</td>\n",
       "      <td>NaN</td>\n",
       "      <td>2020-12-18</td>\n",
       "      <td>APAC</td>\n",
       "      <td>Mac</td>\n",
       "      <td>12</td>\n",
       "      <td>2020-12-20</td>\n",
       "    </tr>\n",
       "    <tr>\n",
       "      <th>24676</th>\n",
       "      <td>F2FBBA33F37DEC46</td>\n",
       "      <td>A</td>\n",
       "      <td>recommender_system_test</td>\n",
       "      <td>2020-12-26 19:54:34</td>\n",
       "      <td>login</td>\n",
       "      <td>NaN</td>\n",
       "      <td>2020-12-18</td>\n",
       "      <td>APAC</td>\n",
       "      <td>Mac</td>\n",
       "      <td>12</td>\n",
       "      <td>2020-12-26</td>\n",
       "    </tr>\n",
       "  </tbody>\n",
       "</table>\n",
       "<p>12800 rows × 11 columns</p>\n",
       "</div>"
      ],
      "text/plain": [
       "                user_id group                  ab_test            event_dt  \\\n",
       "8      A7A3664BD6242119     A  recommender_system_test 2020-12-20 15:46:06   \n",
       "9      A7A3664BD6242119     A  recommender_system_test 2020-12-21 00:40:59   \n",
       "10     A7A3664BD6242119     A  recommender_system_test 2020-12-25 05:19:45   \n",
       "11     A7A3664BD6242119     A  recommender_system_test 2020-12-20 15:46:02   \n",
       "12     A7A3664BD6242119     A  recommender_system_test 2020-12-21 00:40:58   \n",
       "...                 ...   ...                      ...                 ...   \n",
       "24672  9D263B8EF15CF188     B  recommender_system_test 2020-12-16 15:17:29   \n",
       "24673  F2FBBA33F37DEC46     A  recommender_system_test 2020-12-18 19:06:08   \n",
       "24674  F2FBBA33F37DEC46     A  recommender_system_test 2020-12-19 19:58:27   \n",
       "24675  F2FBBA33F37DEC46     A  recommender_system_test 2020-12-20 00:29:37   \n",
       "24676  F2FBBA33F37DEC46     A  recommender_system_test 2020-12-26 19:54:34   \n",
       "\n",
       "         event_name  details first_date     region  device  lifetime  \\\n",
       "8      product_page      NaN 2020-12-20         EU  iPhone        10   \n",
       "9      product_page      NaN 2020-12-20         EU  iPhone        10   \n",
       "10     product_page      NaN 2020-12-20         EU  iPhone        10   \n",
       "11            login      NaN 2020-12-20         EU  iPhone        10   \n",
       "12            login      NaN 2020-12-20         EU  iPhone        10   \n",
       "...             ...      ...        ...        ...     ...       ...   \n",
       "24672         login      NaN 2020-12-16  N.America     Mac        14   \n",
       "24673         login      NaN 2020-12-18       APAC     Mac        12   \n",
       "24674         login      NaN 2020-12-18       APAC     Mac        12   \n",
       "24675         login      NaN 2020-12-18       APAC     Mac        12   \n",
       "24676         login      NaN 2020-12-18       APAC     Mac        12   \n",
       "\n",
       "      event_dt_day  \n",
       "8       2020-12-20  \n",
       "9       2020-12-21  \n",
       "10      2020-12-25  \n",
       "11      2020-12-20  \n",
       "12      2020-12-21  \n",
       "...            ...  \n",
       "24672   2020-12-16  \n",
       "24673   2020-12-18  \n",
       "24674   2020-12-19  \n",
       "24675   2020-12-20  \n",
       "24676   2020-12-26  \n",
       "\n",
       "[12800 rows x 11 columns]"
      ]
     },
     "execution_count": 66,
     "metadata": {},
     "output_type": "execute_result"
    }
   ],
   "source": [
    "df1_14"
   ]
  },
  {
   "cell_type": "code",
   "execution_count": 67,
   "metadata": {},
   "outputs": [],
   "source": [
    "df1_14_gr2 = df1_14.groupby(['event_dt_day','group']).agg({'event_name':'count'}).reset_index()"
   ]
  },
  {
   "cell_type": "code",
   "execution_count": 68,
   "metadata": {},
   "outputs": [
    {
     "data": {
      "text/html": [
       "<div>\n",
       "<style scoped>\n",
       "    .dataframe tbody tr th:only-of-type {\n",
       "        vertical-align: middle;\n",
       "    }\n",
       "\n",
       "    .dataframe tbody tr th {\n",
       "        vertical-align: top;\n",
       "    }\n",
       "\n",
       "    .dataframe thead th {\n",
       "        text-align: right;\n",
       "    }\n",
       "</style>\n",
       "<table border=\"1\" class=\"dataframe\">\n",
       "  <thead>\n",
       "    <tr style=\"text-align: right;\">\n",
       "      <th></th>\n",
       "      <th>event_dt_day</th>\n",
       "      <th>group</th>\n",
       "      <th>event_name</th>\n",
       "    </tr>\n",
       "  </thead>\n",
       "  <tbody>\n",
       "    <tr>\n",
       "      <th>0</th>\n",
       "      <td>2020-12-16</td>\n",
       "      <td>A</td>\n",
       "      <td>396</td>\n",
       "    </tr>\n",
       "    <tr>\n",
       "      <th>1</th>\n",
       "      <td>2020-12-16</td>\n",
       "      <td>B</td>\n",
       "      <td>239</td>\n",
       "    </tr>\n",
       "    <tr>\n",
       "      <th>2</th>\n",
       "      <td>2020-12-17</td>\n",
       "      <td>A</td>\n",
       "      <td>696</td>\n",
       "    </tr>\n",
       "    <tr>\n",
       "      <th>3</th>\n",
       "      <td>2020-12-17</td>\n",
       "      <td>B</td>\n",
       "      <td>196</td>\n",
       "    </tr>\n",
       "    <tr>\n",
       "      <th>4</th>\n",
       "      <td>2020-12-18</td>\n",
       "      <td>A</td>\n",
       "      <td>909</td>\n",
       "    </tr>\n",
       "  </tbody>\n",
       "</table>\n",
       "</div>"
      ],
      "text/plain": [
       "  event_dt_day group  event_name\n",
       "0   2020-12-16     A         396\n",
       "1   2020-12-16     B         239\n",
       "2   2020-12-17     A         696\n",
       "3   2020-12-17     B         196\n",
       "4   2020-12-18     A         909"
      ]
     },
     "execution_count": 68,
     "metadata": {},
     "output_type": "execute_result"
    }
   ],
   "source": [
    "df1_14_gr2.head()"
   ]
  },
  {
   "cell_type": "code",
   "execution_count": 69,
   "metadata": {
    "scrolled": true
   },
   "outputs": [
    {
     "data": {
      "image/png": "[encoded data removed]",
      "text/plain": [
       "<Figure size 1080x432 with 1 Axes>"
      ]
     },
     "metadata": {
      "needs_background": "light"
     },
     "output_type": "display_data"
    },
    {
     "data": {
      "image/png": "[encoded data removed]",
      "text/plain": [
       "<Figure size 1080x432 with 1 Axes>"
      ]
     },
     "metadata": {
      "needs_background": "light"
     },
     "output_type": "display_data"
    }
   ],
   "source": [
    "df1_14_gr2[df1_14_gr2['group']=='A'].plot(kind='bar', x='event_dt_day', y='event_name', grid=True, label='A',figsize=(15,6))\n",
    "plt.xticks(rotation = 45)\n",
    "df1_14_gr2[df1_14_gr2['group']=='B'].plot(kind='bar', x='event_dt_day', y='event_name', grid=True, label='B',figsize=(15,6))\n",
    "plt.xticks(rotation = 45)\n",
    "None"
   ]
  },
  {
   "cell_type": "markdown",
   "metadata": {},
   "source": [
    "Пик событий приходится на 21.12.2020. Распределения похожи."
   ]
  },
  {
   "cell_type": "markdown",
   "metadata": {},
   "source": [
    "Сгруппируем по группам и посмотрим конверсии"
   ]
  },
  {
   "cell_type": "code",
   "execution_count": 70,
   "metadata": {},
   "outputs": [],
   "source": [
    "df1_14_funnel = df1_14.pivot_table(index='event_name',columns='group',values='user_id',aggfunc='nunique').reset_index()"
   ]
  },
  {
   "cell_type": "code",
   "execution_count": 71,
   "metadata": {},
   "outputs": [
    {
     "data": {
      "text/html": [
       "<div>\n",
       "<style scoped>\n",
       "    .dataframe tbody tr th:only-of-type {\n",
       "        vertical-align: middle;\n",
       "    }\n",
       "\n",
       "    .dataframe tbody tr th {\n",
       "        vertical-align: top;\n",
       "    }\n",
       "\n",
       "    .dataframe thead th {\n",
       "        text-align: right;\n",
       "    }\n",
       "</style>\n",
       "<table border=\"1\" class=\"dataframe\">\n",
       "  <thead>\n",
       "    <tr style=\"text-align: right;\">\n",
       "      <th>group</th>\n",
       "      <th>event_name</th>\n",
       "      <th>A</th>\n",
       "      <th>B</th>\n",
       "    </tr>\n",
       "  </thead>\n",
       "  <tbody>\n",
       "    <tr>\n",
       "      <th>0</th>\n",
       "      <td>login</td>\n",
       "      <td>1531</td>\n",
       "      <td>391</td>\n",
       "    </tr>\n",
       "    <tr>\n",
       "      <th>1</th>\n",
       "      <td>product_cart</td>\n",
       "      <td>470</td>\n",
       "      <td>120</td>\n",
       "    </tr>\n",
       "    <tr>\n",
       "      <th>2</th>\n",
       "      <td>product_page</td>\n",
       "      <td>1015</td>\n",
       "      <td>224</td>\n",
       "    </tr>\n",
       "    <tr>\n",
       "      <th>3</th>\n",
       "      <td>purchase</td>\n",
       "      <td>522</td>\n",
       "      <td>111</td>\n",
       "    </tr>\n",
       "  </tbody>\n",
       "</table>\n",
       "</div>"
      ],
      "text/plain": [
       "group    event_name     A    B\n",
       "0             login  1531  391\n",
       "1      product_cart   470  120\n",
       "2      product_page  1015  224\n",
       "3          purchase   522  111"
      ]
     },
     "execution_count": 71,
     "metadata": {},
     "output_type": "execute_result"
    }
   ],
   "source": [
    "df1_14_funnel"
   ]
  },
  {
   "cell_type": "code",
   "execution_count": 72,
   "metadata": {},
   "outputs": [],
   "source": [
    "# Переопределим порядок ивентом согласно предполагаемой воронке\n",
    "df1_14_funnel = df1_14_funnel.loc[[0,2,1,3],:]"
   ]
  },
  {
   "cell_type": "code",
   "execution_count": 73,
   "metadata": {},
   "outputs": [],
   "source": [
    "df1_14_funnel['CR_from_login_A'] = round(100*df1_14_funnel['A']/df1_14_funnel.loc[0,'A'].sum(),2)"
   ]
  },
  {
   "cell_type": "code",
   "execution_count": 74,
   "metadata": {},
   "outputs": [
    {
     "data": {
      "text/html": [
       "<div>\n",
       "<style scoped>\n",
       "    .dataframe tbody tr th:only-of-type {\n",
       "        vertical-align: middle;\n",
       "    }\n",
       "\n",
       "    .dataframe tbody tr th {\n",
       "        vertical-align: top;\n",
       "    }\n",
       "\n",
       "    .dataframe thead th {\n",
       "        text-align: right;\n",
       "    }\n",
       "</style>\n",
       "<table border=\"1\" class=\"dataframe\">\n",
       "  <thead>\n",
       "    <tr style=\"text-align: right;\">\n",
       "      <th>group</th>\n",
       "      <th>event_name</th>\n",
       "      <th>A</th>\n",
       "      <th>B</th>\n",
       "      <th>CR_from_login_A</th>\n",
       "    </tr>\n",
       "  </thead>\n",
       "  <tbody>\n",
       "    <tr>\n",
       "      <th>0</th>\n",
       "      <td>login</td>\n",
       "      <td>1531</td>\n",
       "      <td>391</td>\n",
       "      <td>100.0</td>\n",
       "    </tr>\n",
       "    <tr>\n",
       "      <th>2</th>\n",
       "      <td>product_page</td>\n",
       "      <td>1015</td>\n",
       "      <td>224</td>\n",
       "      <td>66.3</td>\n",
       "    </tr>\n",
       "    <tr>\n",
       "      <th>1</th>\n",
       "      <td>product_cart</td>\n",
       "      <td>470</td>\n",
       "      <td>120</td>\n",
       "      <td>30.7</td>\n",
       "    </tr>\n",
       "    <tr>\n",
       "      <th>3</th>\n",
       "      <td>purchase</td>\n",
       "      <td>522</td>\n",
       "      <td>111</td>\n",
       "      <td>34.1</td>\n",
       "    </tr>\n",
       "  </tbody>\n",
       "</table>\n",
       "</div>"
      ],
      "text/plain": [
       "group    event_name     A    B  CR_from_login_A\n",
       "0             login  1531  391            100.0\n",
       "2      product_page  1015  224             66.3\n",
       "1      product_cart   470  120             30.7\n",
       "3          purchase   522  111             34.1"
      ]
     },
     "execution_count": 74,
     "metadata": {},
     "output_type": "execute_result"
    }
   ],
   "source": [
    "df1_14_funnel"
   ]
  },
  {
   "cell_type": "code",
   "execution_count": 75,
   "metadata": {},
   "outputs": [],
   "source": [
    "df1_14_funnel['CR_from_login_B'] = round(100*df1_14_funnel['B']/df1_14_funnel.loc[0,'B'],2)"
   ]
  },
  {
   "cell_type": "code",
   "execution_count": 76,
   "metadata": {},
   "outputs": [],
   "source": [
    "df1_14_funnel['CR_diff'] = round(100* (df1_14_funnel['CR_from_login_B']/df1_14_funnel['CR_from_login_A'] - 1),2)"
   ]
  },
  {
   "cell_type": "code",
   "execution_count": 77,
   "metadata": {},
   "outputs": [
    {
     "data": {
      "text/html": [
       "<div>\n",
       "<style scoped>\n",
       "    .dataframe tbody tr th:only-of-type {\n",
       "        vertical-align: middle;\n",
       "    }\n",
       "\n",
       "    .dataframe tbody tr th {\n",
       "        vertical-align: top;\n",
       "    }\n",
       "\n",
       "    .dataframe thead th {\n",
       "        text-align: right;\n",
       "    }\n",
       "</style>\n",
       "<table border=\"1\" class=\"dataframe\">\n",
       "  <thead>\n",
       "    <tr style=\"text-align: right;\">\n",
       "      <th>group</th>\n",
       "      <th>event_name</th>\n",
       "      <th>A</th>\n",
       "      <th>B</th>\n",
       "      <th>CR_from_login_A</th>\n",
       "      <th>CR_from_login_B</th>\n",
       "      <th>CR_diff</th>\n",
       "    </tr>\n",
       "  </thead>\n",
       "  <tbody>\n",
       "    <tr>\n",
       "      <th>0</th>\n",
       "      <td>login</td>\n",
       "      <td>1531</td>\n",
       "      <td>391</td>\n",
       "      <td>100.0</td>\n",
       "      <td>100.00</td>\n",
       "      <td>0.00</td>\n",
       "    </tr>\n",
       "    <tr>\n",
       "      <th>2</th>\n",
       "      <td>product_page</td>\n",
       "      <td>1015</td>\n",
       "      <td>224</td>\n",
       "      <td>66.3</td>\n",
       "      <td>57.29</td>\n",
       "      <td>-13.59</td>\n",
       "    </tr>\n",
       "    <tr>\n",
       "      <th>1</th>\n",
       "      <td>product_cart</td>\n",
       "      <td>470</td>\n",
       "      <td>120</td>\n",
       "      <td>30.7</td>\n",
       "      <td>30.69</td>\n",
       "      <td>-0.03</td>\n",
       "    </tr>\n",
       "    <tr>\n",
       "      <th>3</th>\n",
       "      <td>purchase</td>\n",
       "      <td>522</td>\n",
       "      <td>111</td>\n",
       "      <td>34.1</td>\n",
       "      <td>28.39</td>\n",
       "      <td>-16.74</td>\n",
       "    </tr>\n",
       "  </tbody>\n",
       "</table>\n",
       "</div>"
      ],
      "text/plain": [
       "group    event_name     A    B  CR_from_login_A  CR_from_login_B  CR_diff\n",
       "0             login  1531  391            100.0           100.00     0.00\n",
       "2      product_page  1015  224             66.3            57.29   -13.59\n",
       "1      product_cart   470  120             30.7            30.69    -0.03\n",
       "3          purchase   522  111             34.1            28.39   -16.74"
      ]
     },
     "execution_count": 77,
     "metadata": {},
     "output_type": "execute_result"
    }
   ],
   "source": [
    "df1_14_funnel"
   ]
  },
  {
   "cell_type": "markdown",
   "metadata": {},
   "source": [
    "Конверсии каждого шага группы В хуже, чем у группы А. Так же, в группе А больше людей сконвертилось в покупку, чем в корзину."
   ]
  },
  {
   "cell_type": "markdown",
   "metadata": {},
   "source": [
    "### Вывод"
   ]
  },
  {
   "cell_type": "markdown",
   "metadata": {},
   "source": [
    "Конверсии каждого шага группы В хуже, чем у группы А. Так же, в группе А больше людей сконвертилось в покупку, чем в корзину. Распределения событий по дням и распределение количества ивентов на пользователя для разных групп похожи, но для группы А, в среднем, на пользователя событий приходится чуть больше."
   ]
  },
  {
   "cell_type": "markdown",
   "metadata": {},
   "source": [
    "### Оценка результатов А/В-тестирования"
   ]
  },
  {
   "cell_type": "markdown",
   "metadata": {},
   "source": [
    "Проверим стат. разницу долей конверсий на каждом шаге z-тестом"
   ]
  },
  {
   "cell_type": "code",
   "execution_count": 78,
   "metadata": {},
   "outputs": [],
   "source": [
    "def ztest(alpha,event_name):\n",
    "    all_users_group_1 = df1_14[df1_14['group']=='A']['user_id'].nunique()\n",
    "    all_users_group_2 = df1_14[df1_14['group']=='B']['user_id'].nunique()\n",
    "    event_success_users_group_1 = df1_14[(df1_14['group']=='A') & (df1_14['event_name']==event_name)]['user_id'].nunique()\n",
    "    event_success_users_group_2 = df1_14[(df1_14['group']=='B') & (df1_14['event_name']==event_name)]['user_id'].nunique()\n",
    "    # пропорция успехов в первой группе:\n",
    "    p1 = event_success_users_group_1/all_users_group_1\n",
    "    # пропорция успехов во второй группе:\n",
    "    p2 = event_success_users_group_2/all_users_group_2\n",
    "    # пропорция успехов в комбинированном датасете:\n",
    "    p_combined = (event_success_users_group_1 + event_success_users_group_2) / (all_users_group_1 + all_users_group_2)\n",
    "    # разница пропорций в датасетах\n",
    "    difference = p1 - p2 \n",
    "    # считаем статистику в ст.отклонениях стандартного нормального распределения\n",
    "    z_value = difference / mth.sqrt(p_combined * (1 - p_combined) * (1/all_users_group_1 + 1/all_users_group_2))\n",
    "    # задаем стандартное нормальное распределение (среднее 0, ст.отклонение 1)\n",
    "    distr = st.norm(0, 1)\n",
    "    p_value = (1 - distr.cdf(abs(z_value))) * 2\n",
    "    print(f'Сравнение стат. значимости долей между группой A и группой B по событию {event_name}')\n",
    "    print('Критический уровень статистической значимости:',alpha)\n",
    "    print('p-значение: ', p_value)\n",
    "    if p_value < alpha:\n",
    "        print('Отвергаем нулевую гипотезу: между долями есть значимая разница')\n",
    "    else:\n",
    "        print(\n",
    "            'Не получилось отвергнуть нулевую гипотезу, нет оснований считать доли разными'\n",
    "            )"
   ]
  },
  {
   "cell_type": "code",
   "execution_count": 79,
   "metadata": {},
   "outputs": [
    {
     "name": "stdout",
     "output_type": "stream",
     "text": [
      "Сравнение стат. значимости долей между группой A и группой B по событию product_page\n",
      "Критический уровень статистической значимости: 0.05\n",
      "p-значение:  0.0008958801366161229\n",
      "Отвергаем нулевую гипотезу: между долями есть значимая разница\n"
     ]
    }
   ],
   "source": [
    "ztest(0.05,'product_page')"
   ]
  },
  {
   "cell_type": "code",
   "execution_count": 80,
   "metadata": {},
   "outputs": [
    {
     "name": "stdout",
     "output_type": "stream",
     "text": [
      "Сравнение стат. значимости долей между группой A и группой B по событию product_page\n",
      "Критический уровень статистической значимости: 0.01\n",
      "p-значение:  0.0008958801366161229\n",
      "Отвергаем нулевую гипотезу: между долями есть значимая разница\n"
     ]
    }
   ],
   "source": [
    "ztest(0.01,'product_page')"
   ]
  },
  {
   "cell_type": "code",
   "execution_count": 81,
   "metadata": {},
   "outputs": [
    {
     "name": "stdout",
     "output_type": "stream",
     "text": [
      "Сравнение стат. значимости долей между группой A и группой B по событию product_cart\n",
      "Критический уровень статистической значимости: 0.05\n",
      "p-значение:  0.9974500484667568\n",
      "Не получилось отвергнуть нулевую гипотезу, нет оснований считать доли разными\n"
     ]
    }
   ],
   "source": [
    "ztest(0.05,'product_cart')"
   ]
  },
  {
   "cell_type": "code",
   "execution_count": 82,
   "metadata": {},
   "outputs": [
    {
     "name": "stdout",
     "output_type": "stream",
     "text": [
      "Сравнение стат. значимости долей между группой A и группой B по событию product_cart\n",
      "Критический уровень статистической значимости: 0.01\n",
      "p-значение:  0.9974500484667568\n",
      "Не получилось отвергнуть нулевую гипотезу, нет оснований считать доли разными\n"
     ]
    }
   ],
   "source": [
    "ztest(0.01,'product_cart')"
   ]
  },
  {
   "cell_type": "code",
   "execution_count": 83,
   "metadata": {},
   "outputs": [
    {
     "name": "stdout",
     "output_type": "stream",
     "text": [
      "Сравнение стат. значимости долей между группой A и группой B по событию purchase\n",
      "Критический уровень статистической значимости: 0.05\n",
      "p-значение:  0.03212070319187532\n",
      "Отвергаем нулевую гипотезу: между долями есть значимая разница\n"
     ]
    }
   ],
   "source": [
    "ztest(0.05,'purchase')"
   ]
  },
  {
   "cell_type": "code",
   "execution_count": 84,
   "metadata": {},
   "outputs": [
    {
     "name": "stdout",
     "output_type": "stream",
     "text": [
      "Сравнение стат. значимости долей между группой A и группой B по событию purchase\n",
      "Критический уровень статистической значимости: 0.01\n",
      "p-значение:  0.03212070319187532\n",
      "Не получилось отвергнуть нулевую гипотезу, нет оснований считать доли разными\n"
     ]
    }
   ],
   "source": [
    "ztest(0.01,'purchase')"
   ]
  },
  {
   "cell_type": "markdown",
   "metadata": {},
   "source": [
    "### Вывод"
   ]
  },
  {
   "cell_type": "markdown",
   "metadata": {},
   "source": [
    "Для события product_page установлены стат. значимые различия, для product_cart стат. значимых различий не выявлено. Для purchase при уровне стат. значимости в 5% наблюдается стат. значимая разница между долями, при уровне стат. значимости в 1% - стат. значимой разницы нет."
   ]
  },
  {
   "cell_type": "markdown",
   "metadata": {},
   "source": [
    "## Общий вывод"
   ]
  },
  {
   "cell_type": "markdown",
   "metadata": {},
   "source": [
    "Тест был остановлен на 5 дней раньше чем планировалось по ТЗ. Общее количество участников в тесте \"recommender_system_test\" составляет 6701, но только для 3675 из них есть логи событий - это нарушение требований ТЗ. Большая часть пользователей, участвующих в тесте, из региона EU. В даты проведения теста в EU была рождественская промо-акция, что могло исказить данные в поведении пользователей. Распределение пользователей по тестируемым группам неравномерное, что так же могло сказаться на результатах. По имеющимся данным, интересуемые конверсии группы В уступают группе А по каждому из шагов воронки. При проверке равенства долей конверсий в покупку z-критерием, наблюдаются разные результаты при разных уровнях значимости (при 5% разница фиксируется, при 1% - нет). На основе вышеизложенного, я бы рекоммендовал не принимать результаты данного теста и повторно его провести с соблюдением всех требований ТЗ и без пересечений с промоакциями."
   ]
  }
 ],
 "metadata": {
  "ExecuteTimeLog": [
   {
    "duration": 1322,
    "start_time": "2022-12-06T12:14:43.225Z"
   },
   {
    "duration": 81,
    "start_time": "2022-12-06T12:15:26.844Z"
   },
   {
    "duration": 15,
    "start_time": "2022-12-06T12:15:30.318Z"
   },
   {
    "duration": 8,
    "start_time": "2022-12-06T12:15:38.831Z"
   },
   {
    "duration": 11,
    "start_time": "2022-12-06T12:15:44.623Z"
   },
   {
    "duration": 4,
    "start_time": "2022-12-06T12:16:52.801Z"
   },
   {
    "duration": 9,
    "start_time": "2022-12-06T12:16:55.735Z"
   },
   {
    "duration": 5,
    "start_time": "2022-12-06T12:17:11.861Z"
   },
   {
    "duration": 10,
    "start_time": "2022-12-06T12:17:12.409Z"
   },
   {
    "duration": 5,
    "start_time": "2022-12-06T12:17:32.318Z"
   },
   {
    "duration": 279,
    "start_time": "2022-12-06T12:18:35.134Z"
   },
   {
    "duration": 7,
    "start_time": "2022-12-06T12:18:46.794Z"
   },
   {
    "duration": 17,
    "start_time": "2022-12-06T12:18:52.525Z"
   },
   {
    "duration": 15,
    "start_time": "2022-12-06T12:19:34.828Z"
   },
   {
    "duration": 16,
    "start_time": "2022-12-06T12:19:35.951Z"
   },
   {
    "duration": 32,
    "start_time": "2022-12-06T12:19:50.323Z"
   },
   {
    "duration": 1647,
    "start_time": "2022-12-06T12:20:06.977Z"
   },
   {
    "duration": 95,
    "start_time": "2022-12-06T12:20:12.354Z"
   },
   {
    "duration": 9,
    "start_time": "2022-12-06T12:20:15.993Z"
   },
   {
    "duration": 60,
    "start_time": "2022-12-06T12:20:20.225Z"
   },
   {
    "duration": 86,
    "start_time": "2022-12-06T12:20:56.865Z"
   },
   {
    "duration": 157,
    "start_time": "2022-12-06T12:21:10.234Z"
   },
   {
    "duration": 12,
    "start_time": "2022-12-06T12:21:31.024Z"
   },
   {
    "duration": 32,
    "start_time": "2022-12-06T12:21:37.589Z"
   },
   {
    "duration": 32,
    "start_time": "2022-12-06T12:21:52.678Z"
   },
   {
    "duration": 16,
    "start_time": "2022-12-06T12:22:03.281Z"
   },
   {
    "duration": 11,
    "start_time": "2022-12-06T12:22:20.584Z"
   },
   {
    "duration": 43,
    "start_time": "2022-12-06T12:22:33.194Z"
   },
   {
    "duration": 171,
    "start_time": "2022-12-06T12:23:36.591Z"
   },
   {
    "duration": 10,
    "start_time": "2022-12-06T12:23:44.172Z"
   },
   {
    "duration": 7,
    "start_time": "2022-12-06T12:23:46.965Z"
   },
   {
    "duration": 12,
    "start_time": "2022-12-06T12:23:52.146Z"
   },
   {
    "duration": 10,
    "start_time": "2022-12-06T12:24:16.434Z"
   },
   {
    "duration": 5,
    "start_time": "2022-12-06T12:27:47.155Z"
   },
   {
    "duration": 11,
    "start_time": "2022-12-06T12:29:00.322Z"
   },
   {
    "duration": 12,
    "start_time": "2022-12-06T12:29:35.037Z"
   },
   {
    "duration": 6,
    "start_time": "2022-12-06T12:34:31.420Z"
   },
   {
    "duration": 9,
    "start_time": "2022-12-06T12:34:38.054Z"
   },
   {
    "duration": 8,
    "start_time": "2022-12-06T12:36:38.434Z"
   },
   {
    "duration": 63,
    "start_time": "2022-12-06T12:37:21.469Z"
   },
   {
    "duration": 5,
    "start_time": "2022-12-06T12:37:58.970Z"
   },
   {
    "duration": 5,
    "start_time": "2022-12-06T12:38:03.581Z"
   },
   {
    "duration": 5,
    "start_time": "2022-12-06T12:40:04.084Z"
   },
   {
    "duration": 4,
    "start_time": "2022-12-06T12:40:09.508Z"
   },
   {
    "duration": 4,
    "start_time": "2022-12-06T12:40:14.418Z"
   },
   {
    "duration": 4,
    "start_time": "2022-12-06T12:40:16.802Z"
   },
   {
    "duration": 9,
    "start_time": "2022-12-06T12:40:24.999Z"
   },
   {
    "duration": 15,
    "start_time": "2022-12-06T12:40:41.466Z"
   },
   {
    "duration": 15,
    "start_time": "2022-12-06T12:41:41.528Z"
   },
   {
    "duration": 9,
    "start_time": "2022-12-06T12:42:03.152Z"
   },
   {
    "duration": 23,
    "start_time": "2022-12-06T12:42:10.377Z"
   },
   {
    "duration": 40,
    "start_time": "2022-12-06T12:42:22.099Z"
   },
   {
    "duration": 22,
    "start_time": "2022-12-06T12:43:05.182Z"
   },
   {
    "duration": 6,
    "start_time": "2022-12-06T12:43:07.062Z"
   },
   {
    "duration": 4,
    "start_time": "2022-12-06T12:43:53.023Z"
   },
   {
    "duration": 7,
    "start_time": "2022-12-06T12:43:55.401Z"
   },
   {
    "duration": 25,
    "start_time": "2022-12-06T12:51:19.656Z"
   },
   {
    "duration": 9,
    "start_time": "2022-12-06T12:51:26.738Z"
   },
   {
    "duration": 23,
    "start_time": "2022-12-06T12:53:18.682Z"
   },
   {
    "duration": 11,
    "start_time": "2022-12-06T12:53:19.302Z"
   },
   {
    "duration": 1158,
    "start_time": "2022-12-06T12:53:24.687Z"
   },
   {
    "duration": 27,
    "start_time": "2022-12-06T12:53:25.848Z"
   },
   {
    "duration": 12,
    "start_time": "2022-12-06T12:53:25.877Z"
   },
   {
    "duration": 13,
    "start_time": "2022-12-06T12:53:25.891Z"
   },
   {
    "duration": 12,
    "start_time": "2022-12-06T12:53:25.905Z"
   },
   {
    "duration": 14,
    "start_time": "2022-12-06T12:53:25.919Z"
   },
   {
    "duration": 12,
    "start_time": "2022-12-06T12:53:25.934Z"
   },
   {
    "duration": 93,
    "start_time": "2022-12-06T12:53:25.947Z"
   },
   {
    "duration": 9,
    "start_time": "2022-12-06T12:53:26.041Z"
   },
   {
    "duration": 23,
    "start_time": "2022-12-06T12:53:26.052Z"
   },
   {
    "duration": 29,
    "start_time": "2022-12-06T12:53:26.076Z"
   },
   {
    "duration": 32,
    "start_time": "2022-12-06T12:53:26.106Z"
   },
   {
    "duration": 449,
    "start_time": "2022-12-06T12:53:26.139Z"
   },
   {
    "duration": 16,
    "start_time": "2022-12-06T12:53:26.590Z"
   },
   {
    "duration": 62,
    "start_time": "2022-12-06T12:53:26.607Z"
   },
   {
    "duration": 98,
    "start_time": "2022-12-06T12:53:26.671Z"
   },
   {
    "duration": 173,
    "start_time": "2022-12-06T12:53:26.771Z"
   },
   {
    "duration": 15,
    "start_time": "2022-12-06T12:53:26.946Z"
   },
   {
    "duration": 59,
    "start_time": "2022-12-06T12:53:26.962Z"
   },
   {
    "duration": 37,
    "start_time": "2022-12-06T12:53:27.023Z"
   },
   {
    "duration": 8,
    "start_time": "2022-12-06T12:53:27.062Z"
   },
   {
    "duration": 13,
    "start_time": "2022-12-06T12:53:27.072Z"
   },
   {
    "duration": 11,
    "start_time": "2022-12-06T12:53:27.087Z"
   },
   {
    "duration": 6,
    "start_time": "2022-12-06T12:53:27.100Z"
   },
   {
    "duration": 17,
    "start_time": "2022-12-06T12:53:27.108Z"
   },
   {
    "duration": 5,
    "start_time": "2022-12-06T12:53:27.126Z"
   },
   {
    "duration": 21,
    "start_time": "2022-12-06T12:53:27.133Z"
   },
   {
    "duration": 8,
    "start_time": "2022-12-06T12:53:27.157Z"
   },
   {
    "duration": 5,
    "start_time": "2022-12-06T12:53:27.167Z"
   },
   {
    "duration": 5,
    "start_time": "2022-12-06T12:53:27.174Z"
   },
   {
    "duration": 5,
    "start_time": "2022-12-06T12:53:27.204Z"
   },
   {
    "duration": 5,
    "start_time": "2022-12-06T12:53:27.211Z"
   },
   {
    "duration": 7,
    "start_time": "2022-12-06T12:53:27.217Z"
   },
   {
    "duration": 26,
    "start_time": "2022-12-06T12:53:27.225Z"
   },
   {
    "duration": 9,
    "start_time": "2022-12-06T12:53:27.252Z"
   },
   {
    "duration": 6,
    "start_time": "2022-12-06T12:53:44.120Z"
   },
   {
    "duration": 9,
    "start_time": "2022-12-06T12:54:20.361Z"
   },
   {
    "duration": 90,
    "start_time": "2022-12-06T12:55:24.558Z"
   },
   {
    "duration": 6,
    "start_time": "2022-12-06T12:55:25.358Z"
   },
   {
    "duration": 8,
    "start_time": "2022-12-06T12:55:25.627Z"
   },
   {
    "duration": 14,
    "start_time": "2022-12-06T12:55:41.447Z"
   },
   {
    "duration": 12,
    "start_time": "2022-12-06T12:56:11.972Z"
   },
   {
    "duration": 20,
    "start_time": "2022-12-06T12:56:21.222Z"
   },
   {
    "duration": 6,
    "start_time": "2022-12-06T12:56:24.288Z"
   },
   {
    "duration": 7,
    "start_time": "2022-12-06T12:57:38.365Z"
   },
   {
    "duration": 3,
    "start_time": "2022-12-06T12:57:46.599Z"
   },
   {
    "duration": 6,
    "start_time": "2022-12-06T12:57:51.976Z"
   },
   {
    "duration": 3,
    "start_time": "2022-12-06T12:58:17.770Z"
   },
   {
    "duration": 6,
    "start_time": "2022-12-06T12:58:19.702Z"
   },
   {
    "duration": 5,
    "start_time": "2022-12-06T12:58:42.295Z"
   },
   {
    "duration": 6,
    "start_time": "2022-12-06T12:58:44.732Z"
   },
   {
    "duration": 4,
    "start_time": "2022-12-06T12:59:27.139Z"
   },
   {
    "duration": 7,
    "start_time": "2022-12-06T12:59:28.259Z"
   },
   {
    "duration": 1129,
    "start_time": "2022-12-06T13:00:57.890Z"
   },
   {
    "duration": 3,
    "start_time": "2022-12-06T13:01:06.523Z"
   },
   {
    "duration": 10,
    "start_time": "2022-12-06T13:02:28.392Z"
   },
   {
    "duration": 6,
    "start_time": "2022-12-06T13:02:49.959Z"
   },
   {
    "duration": 5,
    "start_time": "2022-12-06T13:02:58.295Z"
   },
   {
    "duration": 8,
    "start_time": "2022-12-06T13:06:30.402Z"
   },
   {
    "duration": 45,
    "start_time": "2022-12-06T13:06:33.321Z"
   },
   {
    "duration": 124,
    "start_time": "2022-12-06T13:07:26.361Z"
   },
   {
    "duration": 14,
    "start_time": "2022-12-06T13:07:30.858Z"
   },
   {
    "duration": 16,
    "start_time": "2022-12-06T13:12:03.704Z"
   },
   {
    "duration": 9,
    "start_time": "2022-12-06T13:13:12.614Z"
   },
   {
    "duration": 28,
    "start_time": "2022-12-06T13:13:16.570Z"
   },
   {
    "duration": 18,
    "start_time": "2022-12-06T13:13:20.398Z"
   },
   {
    "duration": 11,
    "start_time": "2022-12-06T13:15:09.757Z"
   },
   {
    "duration": 4,
    "start_time": "2022-12-06T13:15:54.254Z"
   },
   {
    "duration": 21,
    "start_time": "2022-12-06T13:15:56.669Z"
   },
   {
    "duration": 4,
    "start_time": "2022-12-06T13:20:13.375Z"
   },
   {
    "duration": 5,
    "start_time": "2022-12-06T13:21:23.000Z"
   },
   {
    "duration": 21,
    "start_time": "2022-12-06T13:21:23.852Z"
   },
   {
    "duration": 14,
    "start_time": "2022-12-06T13:21:48.452Z"
   },
   {
    "duration": 5,
    "start_time": "2022-12-06T13:22:29.065Z"
   },
   {
    "duration": 11,
    "start_time": "2022-12-06T13:22:29.885Z"
   },
   {
    "duration": 4,
    "start_time": "2022-12-06T13:22:52.922Z"
   },
   {
    "duration": 16,
    "start_time": "2022-12-06T13:24:53.724Z"
   },
   {
    "duration": 18,
    "start_time": "2022-12-06T13:25:07.912Z"
   },
   {
    "duration": 12,
    "start_time": "2022-12-06T13:28:01.676Z"
   },
   {
    "duration": 8,
    "start_time": "2022-12-06T13:28:05.197Z"
   },
   {
    "duration": 9,
    "start_time": "2022-12-06T13:28:27.903Z"
   },
   {
    "duration": 11,
    "start_time": "2022-12-06T13:28:35.584Z"
   },
   {
    "duration": 74,
    "start_time": "2022-12-06T13:29:53.542Z"
   },
   {
    "duration": 10,
    "start_time": "2022-12-06T13:29:56.425Z"
   },
   {
    "duration": 10,
    "start_time": "2022-12-06T13:30:03.433Z"
   },
   {
    "duration": 10,
    "start_time": "2022-12-06T13:30:15.584Z"
   },
   {
    "duration": 19,
    "start_time": "2022-12-06T13:37:57.179Z"
   },
   {
    "duration": 8,
    "start_time": "2022-12-06T13:38:10.519Z"
   },
   {
    "duration": 5,
    "start_time": "2022-12-06T13:39:32.364Z"
   },
   {
    "duration": 27,
    "start_time": "2022-12-06T13:39:34.916Z"
   },
   {
    "duration": 10,
    "start_time": "2022-12-06T13:46:50.305Z"
   },
   {
    "duration": 6,
    "start_time": "2022-12-06T13:46:52.615Z"
   },
   {
    "duration": 18,
    "start_time": "2022-12-06T13:47:02.466Z"
   },
   {
    "duration": 17,
    "start_time": "2022-12-06T13:47:02.869Z"
   },
   {
    "duration": 16,
    "start_time": "2022-12-06T13:47:20.022Z"
   },
   {
    "duration": 6,
    "start_time": "2022-12-06T13:47:20.867Z"
   },
   {
    "duration": 15,
    "start_time": "2022-12-06T13:47:26.348Z"
   },
   {
    "duration": 8,
    "start_time": "2022-12-06T13:47:26.674Z"
   },
   {
    "duration": 13,
    "start_time": "2022-12-06T13:47:45.992Z"
   },
   {
    "duration": 6,
    "start_time": "2022-12-06T13:47:46.133Z"
   },
   {
    "duration": 12,
    "start_time": "2022-12-06T13:47:49.802Z"
   },
   {
    "duration": 8,
    "start_time": "2022-12-06T13:47:51.127Z"
   },
   {
    "duration": 15,
    "start_time": "2022-12-06T13:48:19.686Z"
   },
   {
    "duration": 7,
    "start_time": "2022-12-06T13:48:20.002Z"
   },
   {
    "duration": 15,
    "start_time": "2022-12-06T13:49:36.417Z"
   },
   {
    "duration": 6,
    "start_time": "2022-12-06T13:49:36.610Z"
   },
   {
    "duration": 14,
    "start_time": "2022-12-06T13:50:36.947Z"
   },
   {
    "duration": 7,
    "start_time": "2022-12-06T13:50:37.141Z"
   },
   {
    "duration": 6,
    "start_time": "2022-12-06T13:50:55.939Z"
   },
   {
    "duration": 12,
    "start_time": "2022-12-06T13:51:03.959Z"
   },
   {
    "duration": 10,
    "start_time": "2022-12-06T13:51:12.923Z"
   },
   {
    "duration": 6,
    "start_time": "2022-12-06T13:51:25.903Z"
   },
   {
    "duration": 22,
    "start_time": "2022-12-06T13:51:45.952Z"
   },
   {
    "duration": 16,
    "start_time": "2022-12-06T13:51:53.433Z"
   },
   {
    "duration": 7,
    "start_time": "2022-12-06T13:51:54.567Z"
   },
   {
    "duration": 17,
    "start_time": "2022-12-06T13:52:01.337Z"
   },
   {
    "duration": 7,
    "start_time": "2022-12-06T13:52:01.671Z"
   },
   {
    "duration": 27,
    "start_time": "2022-12-06T13:52:15.981Z"
   },
   {
    "duration": 10,
    "start_time": "2022-12-06T13:52:16.358Z"
   },
   {
    "duration": 16,
    "start_time": "2022-12-06T13:55:32.767Z"
   },
   {
    "duration": 6,
    "start_time": "2022-12-06T13:55:32.955Z"
   },
   {
    "duration": 23,
    "start_time": "2022-12-06T13:57:05.291Z"
   },
   {
    "duration": 22,
    "start_time": "2022-12-06T13:57:12.198Z"
   },
   {
    "duration": 10,
    "start_time": "2022-12-06T13:57:17.047Z"
   },
   {
    "duration": 6,
    "start_time": "2022-12-06T13:57:37.296Z"
   },
   {
    "duration": 15,
    "start_time": "2022-12-06T13:57:48.327Z"
   },
   {
    "duration": 13,
    "start_time": "2022-12-06T13:57:57.974Z"
   },
   {
    "duration": 4,
    "start_time": "2022-12-06T13:58:13.012Z"
   },
   {
    "duration": 6,
    "start_time": "2022-12-06T13:58:13.949Z"
   },
   {
    "duration": 15,
    "start_time": "2022-12-06T13:58:49.966Z"
   },
   {
    "duration": 8,
    "start_time": "2022-12-06T13:58:50.195Z"
   },
   {
    "duration": 4,
    "start_time": "2022-12-06T13:58:50.478Z"
   },
   {
    "duration": 6,
    "start_time": "2022-12-06T13:58:50.722Z"
   },
   {
    "duration": 3,
    "start_time": "2022-12-06T13:59:10.594Z"
   },
   {
    "duration": 6,
    "start_time": "2022-12-06T13:59:11.305Z"
   },
   {
    "duration": 5,
    "start_time": "2022-12-06T14:04:03.524Z"
   },
   {
    "duration": 7,
    "start_time": "2022-12-06T14:04:05.535Z"
   },
   {
    "duration": 6,
    "start_time": "2022-12-06T14:08:06.467Z"
   },
   {
    "duration": 6,
    "start_time": "2022-12-06T14:08:14.701Z"
   },
   {
    "duration": 8,
    "start_time": "2022-12-06T14:08:15.468Z"
   },
   {
    "duration": 1160,
    "start_time": "2022-12-06T14:08:36.501Z"
   },
   {
    "duration": 28,
    "start_time": "2022-12-06T14:08:37.663Z"
   },
   {
    "duration": 11,
    "start_time": "2022-12-06T14:08:37.693Z"
   },
   {
    "duration": 33,
    "start_time": "2022-12-06T14:08:37.706Z"
   },
   {
    "duration": 42,
    "start_time": "2022-12-06T14:08:37.740Z"
   },
   {
    "duration": 35,
    "start_time": "2022-12-06T14:08:37.784Z"
   },
   {
    "duration": 35,
    "start_time": "2022-12-06T14:08:37.821Z"
   },
   {
    "duration": 105,
    "start_time": "2022-12-06T14:08:37.858Z"
   },
   {
    "duration": 8,
    "start_time": "2022-12-06T14:08:37.964Z"
   },
   {
    "duration": 41,
    "start_time": "2022-12-06T14:08:37.975Z"
   },
   {
    "duration": 25,
    "start_time": "2022-12-06T14:08:38.018Z"
   },
   {
    "duration": 70,
    "start_time": "2022-12-06T14:08:38.045Z"
   },
   {
    "duration": 469,
    "start_time": "2022-12-06T14:08:38.116Z"
   },
   {
    "duration": 17,
    "start_time": "2022-12-06T14:08:38.587Z"
   },
   {
    "duration": 83,
    "start_time": "2022-12-06T14:08:38.606Z"
   },
   {
    "duration": 80,
    "start_time": "2022-12-06T14:08:38.690Z"
   },
   {
    "duration": 191,
    "start_time": "2022-12-06T14:08:38.772Z"
   },
   {
    "duration": 27,
    "start_time": "2022-12-06T14:08:38.964Z"
   },
   {
    "duration": 68,
    "start_time": "2022-12-06T14:08:38.993Z"
   },
   {
    "duration": 44,
    "start_time": "2022-12-06T14:08:39.063Z"
   },
   {
    "duration": 26,
    "start_time": "2022-12-06T14:08:39.108Z"
   },
   {
    "duration": 54,
    "start_time": "2022-12-06T14:08:39.136Z"
   },
   {
    "duration": 24,
    "start_time": "2022-12-06T14:08:39.192Z"
   },
   {
    "duration": 37,
    "start_time": "2022-12-06T14:08:39.218Z"
   },
   {
    "duration": 41,
    "start_time": "2022-12-06T14:08:39.256Z"
   },
   {
    "duration": 34,
    "start_time": "2022-12-06T14:08:39.299Z"
   },
   {
    "duration": 41,
    "start_time": "2022-12-06T14:08:39.335Z"
   },
   {
    "duration": 34,
    "start_time": "2022-12-06T14:08:39.380Z"
   },
   {
    "duration": 43,
    "start_time": "2022-12-06T14:08:39.416Z"
   },
   {
    "duration": 33,
    "start_time": "2022-12-06T14:08:39.461Z"
   },
   {
    "duration": 51,
    "start_time": "2022-12-06T14:08:39.496Z"
   },
   {
    "duration": 89,
    "start_time": "2022-12-06T14:08:39.548Z"
   },
   {
    "duration": 37,
    "start_time": "2022-12-06T14:08:39.639Z"
   },
   {
    "duration": 62,
    "start_time": "2022-12-06T14:08:39.677Z"
   },
   {
    "duration": 30,
    "start_time": "2022-12-06T14:08:39.741Z"
   },
   {
    "duration": 67,
    "start_time": "2022-12-06T14:08:39.772Z"
   },
   {
    "duration": 13,
    "start_time": "2022-12-06T14:08:39.841Z"
   },
   {
    "duration": 39,
    "start_time": "2022-12-06T14:08:39.856Z"
   },
   {
    "duration": 43,
    "start_time": "2022-12-06T14:08:39.897Z"
   },
   {
    "duration": 54,
    "start_time": "2022-12-06T14:08:39.942Z"
   },
   {
    "duration": 62,
    "start_time": "2022-12-06T14:08:39.997Z"
   },
   {
    "duration": 199,
    "start_time": "2022-12-06T14:08:40.061Z"
   },
   {
    "duration": 34,
    "start_time": "2022-12-06T14:08:40.261Z"
   },
   {
    "duration": 52,
    "start_time": "2022-12-06T14:08:40.297Z"
   },
   {
    "duration": 1308,
    "start_time": "2022-12-06T14:08:40.351Z"
   },
   {
    "duration": 0,
    "start_time": "2022-12-06T14:08:41.660Z"
   },
   {
    "duration": 0,
    "start_time": "2022-12-06T14:08:41.661Z"
   },
   {
    "duration": 0,
    "start_time": "2022-12-06T14:08:41.663Z"
   },
   {
    "duration": 0,
    "start_time": "2022-12-06T14:08:41.664Z"
   },
   {
    "duration": 0,
    "start_time": "2022-12-06T14:08:41.665Z"
   },
   {
    "duration": 0,
    "start_time": "2022-12-06T14:08:41.666Z"
   },
   {
    "duration": 0,
    "start_time": "2022-12-06T14:08:41.667Z"
   },
   {
    "duration": 0,
    "start_time": "2022-12-06T14:08:41.668Z"
   },
   {
    "duration": 0,
    "start_time": "2022-12-06T14:08:41.669Z"
   },
   {
    "duration": 0,
    "start_time": "2022-12-06T14:08:41.670Z"
   },
   {
    "duration": 0,
    "start_time": "2022-12-06T14:08:41.671Z"
   },
   {
    "duration": 0,
    "start_time": "2022-12-06T14:08:41.672Z"
   },
   {
    "duration": 0,
    "start_time": "2022-12-06T14:08:41.673Z"
   },
   {
    "duration": 0,
    "start_time": "2022-12-06T14:08:41.674Z"
   },
   {
    "duration": 0,
    "start_time": "2022-12-06T14:08:41.675Z"
   },
   {
    "duration": 0,
    "start_time": "2022-12-06T14:08:41.676Z"
   },
   {
    "duration": 6,
    "start_time": "2022-12-06T14:10:18.342Z"
   },
   {
    "duration": 5,
    "start_time": "2022-12-06T14:10:18.528Z"
   },
   {
    "duration": 7,
    "start_time": "2022-12-06T14:10:18.779Z"
   },
   {
    "duration": 3,
    "start_time": "2022-12-06T14:10:19.138Z"
   },
   {
    "duration": 4,
    "start_time": "2022-12-06T14:10:19.939Z"
   },
   {
    "duration": 8,
    "start_time": "2022-12-06T14:10:20.935Z"
   },
   {
    "duration": 1105,
    "start_time": "2022-12-06T14:10:31.132Z"
   },
   {
    "duration": 27,
    "start_time": "2022-12-06T14:10:32.239Z"
   },
   {
    "duration": 12,
    "start_time": "2022-12-06T14:10:32.268Z"
   },
   {
    "duration": 9,
    "start_time": "2022-12-06T14:10:32.282Z"
   },
   {
    "duration": 13,
    "start_time": "2022-12-06T14:10:32.293Z"
   },
   {
    "duration": 11,
    "start_time": "2022-12-06T14:10:32.308Z"
   },
   {
    "duration": 9,
    "start_time": "2022-12-06T14:10:32.320Z"
   },
   {
    "duration": 65,
    "start_time": "2022-12-06T14:10:32.330Z"
   },
   {
    "duration": 8,
    "start_time": "2022-12-06T14:10:32.396Z"
   },
   {
    "duration": 18,
    "start_time": "2022-12-06T14:10:32.405Z"
   },
   {
    "duration": 13,
    "start_time": "2022-12-06T14:10:32.424Z"
   },
   {
    "duration": 31,
    "start_time": "2022-12-06T14:10:32.438Z"
   },
   {
    "duration": 445,
    "start_time": "2022-12-06T14:10:32.471Z"
   },
   {
    "duration": 8,
    "start_time": "2022-12-06T14:10:32.918Z"
   },
   {
    "duration": 59,
    "start_time": "2022-12-06T14:10:32.928Z"
   },
   {
    "duration": 80,
    "start_time": "2022-12-06T14:10:33.004Z"
   },
   {
    "duration": 168,
    "start_time": "2022-12-06T14:10:33.085Z"
   },
   {
    "duration": 15,
    "start_time": "2022-12-06T14:10:33.254Z"
   },
   {
    "duration": 54,
    "start_time": "2022-12-06T14:10:33.271Z"
   },
   {
    "duration": 37,
    "start_time": "2022-12-06T14:10:33.326Z"
   },
   {
    "duration": 7,
    "start_time": "2022-12-06T14:10:33.364Z"
   },
   {
    "duration": 14,
    "start_time": "2022-12-06T14:10:33.372Z"
   },
   {
    "duration": 9,
    "start_time": "2022-12-06T14:10:33.387Z"
   },
   {
    "duration": 5,
    "start_time": "2022-12-06T14:10:33.397Z"
   },
   {
    "duration": 13,
    "start_time": "2022-12-06T14:10:33.404Z"
   },
   {
    "duration": 4,
    "start_time": "2022-12-06T14:10:33.418Z"
   },
   {
    "duration": 13,
    "start_time": "2022-12-06T14:10:33.423Z"
   },
   {
    "duration": 11,
    "start_time": "2022-12-06T14:10:33.437Z"
   },
   {
    "duration": 5,
    "start_time": "2022-12-06T14:10:33.450Z"
   },
   {
    "duration": 5,
    "start_time": "2022-12-06T14:10:33.457Z"
   },
   {
    "duration": 8,
    "start_time": "2022-12-06T14:10:33.464Z"
   },
   {
    "duration": 32,
    "start_time": "2022-12-06T14:10:33.473Z"
   },
   {
    "duration": 4,
    "start_time": "2022-12-06T14:10:33.507Z"
   },
   {
    "duration": 6,
    "start_time": "2022-12-06T14:10:33.513Z"
   },
   {
    "duration": 5,
    "start_time": "2022-12-06T14:10:33.521Z"
   },
   {
    "duration": 26,
    "start_time": "2022-12-06T14:10:33.528Z"
   },
   {
    "duration": 10,
    "start_time": "2022-12-06T14:10:33.556Z"
   },
   {
    "duration": 41,
    "start_time": "2022-12-06T14:10:33.567Z"
   },
   {
    "duration": 6,
    "start_time": "2022-12-06T14:10:33.610Z"
   },
   {
    "duration": 24,
    "start_time": "2022-12-06T14:10:33.617Z"
   },
   {
    "duration": 3,
    "start_time": "2022-12-06T14:10:33.645Z"
   },
   {
    "duration": 8,
    "start_time": "2022-12-06T14:10:33.650Z"
   },
   {
    "duration": 6,
    "start_time": "2022-12-06T14:10:33.660Z"
   },
   {
    "duration": 7,
    "start_time": "2022-12-06T14:10:33.668Z"
   },
   {
    "duration": 27,
    "start_time": "2022-12-06T14:10:33.677Z"
   },
   {
    "duration": 4,
    "start_time": "2022-12-06T14:10:33.706Z"
   },
   {
    "duration": 12,
    "start_time": "2022-12-06T14:10:33.712Z"
   },
   {
    "duration": 12,
    "start_time": "2022-12-06T14:10:33.725Z"
   },
   {
    "duration": 47,
    "start_time": "2022-12-06T14:10:33.738Z"
   },
   {
    "duration": 121,
    "start_time": "2022-12-06T14:10:33.787Z"
   },
   {
    "duration": 15,
    "start_time": "2022-12-06T14:10:33.910Z"
   },
   {
    "duration": 39,
    "start_time": "2022-12-06T14:10:33.927Z"
   },
   {
    "duration": 7,
    "start_time": "2022-12-06T14:10:33.968Z"
   },
   {
    "duration": 13,
    "start_time": "2022-12-06T14:10:33.977Z"
   },
   {
    "duration": 7,
    "start_time": "2022-12-06T14:10:34.005Z"
   },
   {
    "duration": 16,
    "start_time": "2022-12-06T14:10:34.014Z"
   },
   {
    "duration": 16,
    "start_time": "2022-12-06T14:10:34.032Z"
   },
   {
    "duration": 7,
    "start_time": "2022-12-06T14:10:34.049Z"
   },
   {
    "duration": 10,
    "start_time": "2022-12-06T14:10:34.057Z"
   },
   {
    "duration": 12,
    "start_time": "2022-12-06T14:10:34.068Z"
   },
   {
    "duration": 30,
    "start_time": "2022-12-06T14:10:34.082Z"
   },
   {
    "duration": 7,
    "start_time": "2022-12-06T14:10:34.113Z"
   },
   {
    "duration": 94,
    "start_time": "2022-12-06T14:11:38.541Z"
   },
   {
    "duration": 4,
    "start_time": "2022-12-06T14:12:47.428Z"
   },
   {
    "duration": 4,
    "start_time": "2022-12-06T14:12:54.410Z"
   },
   {
    "duration": 7,
    "start_time": "2022-12-06T14:12:54.713Z"
   },
   {
    "duration": 4,
    "start_time": "2022-12-06T14:13:14.602Z"
   },
   {
    "duration": 8,
    "start_time": "2022-12-06T14:13:16.410Z"
   },
   {
    "duration": 3,
    "start_time": "2022-12-06T14:14:42.493Z"
   },
   {
    "duration": 8,
    "start_time": "2022-12-06T14:14:43.930Z"
   },
   {
    "duration": 14,
    "start_time": "2022-12-06T14:15:16.353Z"
   },
   {
    "duration": 7,
    "start_time": "2022-12-06T14:15:31.678Z"
   },
   {
    "duration": 4,
    "start_time": "2022-12-06T14:16:18.438Z"
   },
   {
    "duration": 3,
    "start_time": "2022-12-06T14:16:25.751Z"
   },
   {
    "duration": 14,
    "start_time": "2022-12-06T14:19:16.081Z"
   },
   {
    "duration": 129,
    "start_time": "2022-12-06T14:20:46.959Z"
   },
   {
    "duration": 15,
    "start_time": "2022-12-06T14:20:47.999Z"
   },
   {
    "duration": 31,
    "start_time": "2022-12-06T14:20:51.891Z"
   },
   {
    "duration": 6,
    "start_time": "2022-12-06T14:20:52.139Z"
   },
   {
    "duration": 13,
    "start_time": "2022-12-06T14:20:52.441Z"
   },
   {
    "duration": 6,
    "start_time": "2022-12-06T14:20:54.892Z"
   },
   {
    "duration": 18,
    "start_time": "2022-12-06T14:20:55.491Z"
   },
   {
    "duration": 8,
    "start_time": "2022-12-06T14:20:58.728Z"
   },
   {
    "duration": 116,
    "start_time": "2022-12-06T14:21:23.197Z"
   },
   {
    "duration": 13,
    "start_time": "2022-12-06T14:21:23.444Z"
   },
   {
    "duration": 30,
    "start_time": "2022-12-06T14:21:23.910Z"
   },
   {
    "duration": 5,
    "start_time": "2022-12-06T14:21:24.718Z"
   },
   {
    "duration": 11,
    "start_time": "2022-12-06T14:21:24.897Z"
   },
   {
    "duration": 8,
    "start_time": "2022-12-06T14:21:25.921Z"
   },
   {
    "duration": 22,
    "start_time": "2022-12-06T14:21:26.152Z"
   },
   {
    "duration": 11,
    "start_time": "2022-12-06T14:21:27.157Z"
   },
   {
    "duration": 14,
    "start_time": "2022-12-06T14:21:28.050Z"
   },
   {
    "duration": 4,
    "start_time": "2022-12-06T14:22:52.696Z"
   },
   {
    "duration": 8,
    "start_time": "2022-12-06T14:22:53.027Z"
   },
   {
    "duration": 4,
    "start_time": "2022-12-06T14:22:53.965Z"
   },
   {
    "duration": 8,
    "start_time": "2022-12-06T14:22:54.346Z"
   },
   {
    "duration": 33,
    "start_time": "2022-12-06T14:24:05.232Z"
   },
   {
    "duration": 1109,
    "start_time": "2022-12-06T14:24:05.496Z"
   },
   {
    "duration": 0,
    "start_time": "2022-12-06T14:24:06.607Z"
   },
   {
    "duration": 1087,
    "start_time": "2022-12-06T14:24:11.752Z"
   },
   {
    "duration": 37,
    "start_time": "2022-12-06T14:24:12.841Z"
   },
   {
    "duration": 12,
    "start_time": "2022-12-06T14:24:12.880Z"
   },
   {
    "duration": 10,
    "start_time": "2022-12-06T14:24:12.893Z"
   },
   {
    "duration": 6,
    "start_time": "2022-12-06T14:24:12.905Z"
   },
   {
    "duration": 17,
    "start_time": "2022-12-06T14:24:12.913Z"
   },
   {
    "duration": 6,
    "start_time": "2022-12-06T14:24:12.932Z"
   },
   {
    "duration": 75,
    "start_time": "2022-12-06T14:24:12.940Z"
   },
   {
    "duration": 8,
    "start_time": "2022-12-06T14:24:13.017Z"
   },
   {
    "duration": 44,
    "start_time": "2022-12-06T14:24:13.027Z"
   },
   {
    "duration": 26,
    "start_time": "2022-12-06T14:24:13.073Z"
   },
   {
    "duration": 43,
    "start_time": "2022-12-06T14:24:13.101Z"
   },
   {
    "duration": 480,
    "start_time": "2022-12-06T14:24:13.146Z"
   },
   {
    "duration": 9,
    "start_time": "2022-12-06T14:24:13.628Z"
   },
   {
    "duration": 79,
    "start_time": "2022-12-06T14:24:13.638Z"
   },
   {
    "duration": 96,
    "start_time": "2022-12-06T14:24:13.719Z"
   },
   {
    "duration": 170,
    "start_time": "2022-12-06T14:24:13.817Z"
   },
   {
    "duration": 23,
    "start_time": "2022-12-06T14:24:13.989Z"
   },
   {
    "duration": 43,
    "start_time": "2022-12-06T14:24:14.013Z"
   },
   {
    "duration": 36,
    "start_time": "2022-12-06T14:24:14.057Z"
   },
   {
    "duration": 7,
    "start_time": "2022-12-06T14:24:14.094Z"
   },
   {
    "duration": 13,
    "start_time": "2022-12-06T14:24:14.102Z"
   },
   {
    "duration": 9,
    "start_time": "2022-12-06T14:24:14.116Z"
   },
   {
    "duration": 5,
    "start_time": "2022-12-06T14:24:14.127Z"
   },
   {
    "duration": 14,
    "start_time": "2022-12-06T14:24:14.133Z"
   },
   {
    "duration": 5,
    "start_time": "2022-12-06T14:24:14.148Z"
   },
   {
    "duration": 15,
    "start_time": "2022-12-06T14:24:14.154Z"
   },
   {
    "duration": 37,
    "start_time": "2022-12-06T14:24:14.174Z"
   },
   {
    "duration": 7,
    "start_time": "2022-12-06T14:24:14.212Z"
   },
   {
    "duration": 7,
    "start_time": "2022-12-06T14:24:14.220Z"
   },
   {
    "duration": 7,
    "start_time": "2022-12-06T14:24:14.229Z"
   },
   {
    "duration": 5,
    "start_time": "2022-12-06T14:24:14.238Z"
   },
   {
    "duration": 7,
    "start_time": "2022-12-06T14:24:14.244Z"
   },
   {
    "duration": 7,
    "start_time": "2022-12-06T14:24:14.252Z"
   },
   {
    "duration": 6,
    "start_time": "2022-12-06T14:24:14.261Z"
   },
   {
    "duration": 57,
    "start_time": "2022-12-06T14:24:14.269Z"
   },
   {
    "duration": 10,
    "start_time": "2022-12-06T14:24:14.327Z"
   },
   {
    "duration": 9,
    "start_time": "2022-12-06T14:24:14.338Z"
   },
   {
    "duration": 6,
    "start_time": "2022-12-06T14:24:14.348Z"
   },
   {
    "duration": 23,
    "start_time": "2022-12-06T14:24:14.355Z"
   },
   {
    "duration": 2,
    "start_time": "2022-12-06T14:24:14.380Z"
   },
   {
    "duration": 7,
    "start_time": "2022-12-06T14:24:14.404Z"
   },
   {
    "duration": 7,
    "start_time": "2022-12-06T14:24:14.412Z"
   },
   {
    "duration": 12,
    "start_time": "2022-12-06T14:24:14.421Z"
   },
   {
    "duration": 13,
    "start_time": "2022-12-06T14:24:14.434Z"
   },
   {
    "duration": 9,
    "start_time": "2022-12-06T14:24:14.448Z"
   },
   {
    "duration": 10,
    "start_time": "2022-12-06T14:24:14.458Z"
   },
   {
    "duration": 7,
    "start_time": "2022-12-06T14:24:14.469Z"
   },
   {
    "duration": 54,
    "start_time": "2022-12-06T14:24:14.477Z"
   },
   {
    "duration": 124,
    "start_time": "2022-12-06T14:24:14.533Z"
   },
   {
    "duration": 14,
    "start_time": "2022-12-06T14:24:14.659Z"
   },
   {
    "duration": 39,
    "start_time": "2022-12-06T14:24:14.675Z"
   },
   {
    "duration": 5,
    "start_time": "2022-12-06T14:24:14.716Z"
   },
   {
    "duration": 12,
    "start_time": "2022-12-06T14:24:14.722Z"
   },
   {
    "duration": 8,
    "start_time": "2022-12-06T14:24:14.735Z"
   },
   {
    "duration": 16,
    "start_time": "2022-12-06T14:24:14.745Z"
   },
   {
    "duration": 7,
    "start_time": "2022-12-06T14:24:14.763Z"
   },
   {
    "duration": 37,
    "start_time": "2022-12-06T14:24:14.771Z"
   },
   {
    "duration": 17,
    "start_time": "2022-12-06T14:24:14.810Z"
   },
   {
    "duration": 5,
    "start_time": "2022-12-06T14:24:14.829Z"
   },
   {
    "duration": 5,
    "start_time": "2022-12-06T14:24:14.836Z"
   },
   {
    "duration": 11,
    "start_time": "2022-12-06T14:24:14.843Z"
   },
   {
    "duration": 7,
    "start_time": "2022-12-06T14:24:14.855Z"
   },
   {
    "duration": 9,
    "start_time": "2022-12-06T14:24:14.863Z"
   },
   {
    "duration": 5,
    "start_time": "2022-12-06T14:24:14.874Z"
   },
   {
    "duration": 8,
    "start_time": "2022-12-06T14:24:14.905Z"
   },
   {
    "duration": 125,
    "start_time": "2022-12-06T14:25:13.132Z"
   },
   {
    "duration": 14,
    "start_time": "2022-12-06T14:25:13.304Z"
   },
   {
    "duration": 30,
    "start_time": "2022-12-06T14:25:14.057Z"
   },
   {
    "duration": 5,
    "start_time": "2022-12-06T14:25:14.600Z"
   },
   {
    "duration": 12,
    "start_time": "2022-12-06T14:25:14.937Z"
   },
   {
    "duration": 7,
    "start_time": "2022-12-06T14:25:25.082Z"
   },
   {
    "duration": 18,
    "start_time": "2022-12-06T14:25:25.512Z"
   },
   {
    "duration": 8,
    "start_time": "2022-12-06T14:25:27.002Z"
   },
   {
    "duration": 14,
    "start_time": "2022-12-06T14:25:29.836Z"
   },
   {
    "duration": 9,
    "start_time": "2022-12-06T14:27:23.718Z"
   },
   {
    "duration": 103,
    "start_time": "2022-12-06T14:30:36.680Z"
   },
   {
    "duration": 277,
    "start_time": "2022-12-06T14:30:53.164Z"
   },
   {
    "duration": 401,
    "start_time": "2022-12-06T14:31:01.983Z"
   },
   {
    "duration": 14,
    "start_time": "2022-12-06T14:31:46.894Z"
   },
   {
    "duration": 45,
    "start_time": "2022-12-06T14:31:51.178Z"
   },
   {
    "duration": 82,
    "start_time": "2022-12-06T14:32:07.023Z"
   },
   {
    "duration": 3,
    "start_time": "2022-12-06T14:33:51.968Z"
   },
   {
    "duration": 6,
    "start_time": "2022-12-06T14:33:52.236Z"
   },
   {
    "duration": 6,
    "start_time": "2022-12-06T14:33:55.333Z"
   },
   {
    "duration": 6,
    "start_time": "2022-12-06T14:33:55.497Z"
   },
   {
    "duration": 6,
    "start_time": "2022-12-06T14:34:07.700Z"
   },
   {
    "duration": 4,
    "start_time": "2022-12-06T14:34:08.003Z"
   },
   {
    "duration": 7,
    "start_time": "2022-12-06T14:34:08.671Z"
   },
   {
    "duration": 8,
    "start_time": "2022-12-06T14:35:28.946Z"
   },
   {
    "duration": 14,
    "start_time": "2022-12-06T14:35:46.898Z"
   },
   {
    "duration": 248,
    "start_time": "2022-12-06T14:36:14.973Z"
   },
   {
    "duration": 160,
    "start_time": "2022-12-06T14:36:32.251Z"
   },
   {
    "duration": 83,
    "start_time": "2022-12-06T14:36:50.959Z"
   },
   {
    "duration": 4,
    "start_time": "2022-12-06T14:37:39.791Z"
   },
   {
    "duration": 7,
    "start_time": "2022-12-06T14:38:21.485Z"
   },
   {
    "duration": 109,
    "start_time": "2022-12-06T14:39:01.886Z"
   },
   {
    "duration": 8,
    "start_time": "2022-12-06T14:39:02.373Z"
   },
   {
    "duration": 15,
    "start_time": "2022-12-06T14:39:06.601Z"
   },
   {
    "duration": 70,
    "start_time": "2022-12-06T14:40:42.669Z"
   },
   {
    "duration": 16,
    "start_time": "2022-12-06T14:40:47.125Z"
   },
   {
    "duration": 116,
    "start_time": "2022-12-06T14:42:53.217Z"
   },
   {
    "duration": 7,
    "start_time": "2022-12-06T14:42:53.490Z"
   },
   {
    "duration": 13,
    "start_time": "2022-12-06T14:42:57.694Z"
   },
   {
    "duration": 13,
    "start_time": "2022-12-06T14:43:47.212Z"
   },
   {
    "duration": 9,
    "start_time": "2022-12-06T14:43:49.303Z"
   },
   {
    "duration": 29,
    "start_time": "2022-12-06T14:43:54.342Z"
   },
   {
    "duration": 6,
    "start_time": "2022-12-06T14:43:54.598Z"
   },
   {
    "duration": 13,
    "start_time": "2022-12-06T14:43:54.951Z"
   },
   {
    "duration": 10,
    "start_time": "2022-12-06T14:43:58.839Z"
   },
   {
    "duration": 6,
    "start_time": "2022-12-06T14:44:16.495Z"
   },
   {
    "duration": 18,
    "start_time": "2022-12-06T14:44:16.885Z"
   },
   {
    "duration": 8,
    "start_time": "2022-12-06T14:44:19.987Z"
   },
   {
    "duration": 15,
    "start_time": "2022-12-06T14:45:01.540Z"
   },
   {
    "duration": 7,
    "start_time": "2022-12-06T14:45:01.764Z"
   },
   {
    "duration": 4,
    "start_time": "2022-12-06T14:45:02.578Z"
   },
   {
    "duration": 4,
    "start_time": "2022-12-06T14:45:02.752Z"
   },
   {
    "duration": 4,
    "start_time": "2022-12-06T14:45:02.903Z"
   },
   {
    "duration": 7,
    "start_time": "2022-12-06T14:45:03.578Z"
   },
   {
    "duration": 5,
    "start_time": "2022-12-06T14:45:04.555Z"
   },
   {
    "duration": 8,
    "start_time": "2022-12-06T14:45:04.818Z"
   },
   {
    "duration": 13,
    "start_time": "2022-12-06T14:52:49.353Z"
   },
   {
    "duration": 55,
    "start_time": "2022-12-06T14:53:49.659Z"
   },
   {
    "duration": 68,
    "start_time": "2022-12-06T14:54:02.447Z"
   },
   {
    "duration": 30,
    "start_time": "2022-12-06T14:54:32.075Z"
   },
   {
    "duration": 1420,
    "start_time": "2022-12-06T14:55:29.178Z"
   },
   {
    "duration": 7,
    "start_time": "2022-12-06T14:55:52.581Z"
   },
   {
    "duration": 10,
    "start_time": "2022-12-06T14:55:55.634Z"
   },
   {
    "duration": 8,
    "start_time": "2022-12-06T14:56:19.776Z"
   },
   {
    "duration": 11,
    "start_time": "2022-12-06T14:56:58.306Z"
   },
   {
    "duration": 15,
    "start_time": "2022-12-06T14:58:56.628Z"
   },
   {
    "duration": 12,
    "start_time": "2022-12-06T14:59:29.623Z"
   },
   {
    "duration": 8,
    "start_time": "2022-12-06T14:59:44.564Z"
   },
   {
    "duration": 10,
    "start_time": "2022-12-06T14:59:52.453Z"
   },
   {
    "duration": 1428,
    "start_time": "2022-12-07T09:31:49.720Z"
   },
   {
    "duration": 79,
    "start_time": "2022-12-07T09:31:51.151Z"
   },
   {
    "duration": 17,
    "start_time": "2022-12-07T09:31:51.232Z"
   },
   {
    "duration": 13,
    "start_time": "2022-12-07T09:31:51.251Z"
   },
   {
    "duration": 10,
    "start_time": "2022-12-07T09:31:51.267Z"
   },
   {
    "duration": 15,
    "start_time": "2022-12-07T09:31:51.279Z"
   },
   {
    "duration": 8,
    "start_time": "2022-12-07T09:31:51.296Z"
   },
   {
    "duration": 142,
    "start_time": "2022-12-07T09:31:51.306Z"
   },
   {
    "duration": 8,
    "start_time": "2022-12-07T09:31:51.450Z"
   },
   {
    "duration": 22,
    "start_time": "2022-12-07T09:31:51.460Z"
   },
   {
    "duration": 16,
    "start_time": "2022-12-07T09:31:51.484Z"
   },
   {
    "duration": 55,
    "start_time": "2022-12-07T09:31:51.501Z"
   },
   {
    "duration": 662,
    "start_time": "2022-12-07T09:31:51.558Z"
   },
   {
    "duration": 9,
    "start_time": "2022-12-07T09:31:52.225Z"
   },
   {
    "duration": 67,
    "start_time": "2022-12-07T09:31:52.236Z"
   },
   {
    "duration": 91,
    "start_time": "2022-12-07T09:31:52.305Z"
   },
   {
    "duration": 215,
    "start_time": "2022-12-07T09:31:52.398Z"
   },
   {
    "duration": 19,
    "start_time": "2022-12-07T09:31:52.615Z"
   },
   {
    "duration": 63,
    "start_time": "2022-12-07T09:31:52.636Z"
   },
   {
    "duration": 89,
    "start_time": "2022-12-07T09:31:52.700Z"
   },
   {
    "duration": 8,
    "start_time": "2022-12-07T09:31:52.791Z"
   },
   {
    "duration": 16,
    "start_time": "2022-12-07T09:31:52.801Z"
   },
   {
    "duration": 13,
    "start_time": "2022-12-07T09:31:52.819Z"
   },
   {
    "duration": 5,
    "start_time": "2022-12-07T09:31:52.834Z"
   },
   {
    "duration": 16,
    "start_time": "2022-12-07T09:31:52.841Z"
   },
   {
    "duration": 5,
    "start_time": "2022-12-07T09:31:52.858Z"
   },
   {
    "duration": 13,
    "start_time": "2022-12-07T09:31:52.865Z"
   },
   {
    "duration": 11,
    "start_time": "2022-12-07T09:31:52.880Z"
   },
   {
    "duration": 7,
    "start_time": "2022-12-07T09:31:52.892Z"
   },
   {
    "duration": 8,
    "start_time": "2022-12-07T09:31:52.900Z"
   },
   {
    "duration": 12,
    "start_time": "2022-12-07T09:31:52.910Z"
   },
   {
    "duration": 32,
    "start_time": "2022-12-07T09:31:52.924Z"
   },
   {
    "duration": 5,
    "start_time": "2022-12-07T09:31:52.958Z"
   },
   {
    "duration": 9,
    "start_time": "2022-12-07T09:31:52.965Z"
   },
   {
    "duration": 6,
    "start_time": "2022-12-07T09:31:52.977Z"
   },
   {
    "duration": 27,
    "start_time": "2022-12-07T09:31:52.986Z"
   },
   {
    "duration": 42,
    "start_time": "2022-12-07T09:31:53.015Z"
   },
   {
    "duration": 10,
    "start_time": "2022-12-07T09:31:53.059Z"
   },
   {
    "duration": 5,
    "start_time": "2022-12-07T09:31:53.070Z"
   },
   {
    "duration": 12,
    "start_time": "2022-12-07T09:31:53.077Z"
   },
   {
    "duration": 23,
    "start_time": "2022-12-07T09:31:53.093Z"
   },
   {
    "duration": 3,
    "start_time": "2022-12-07T09:31:53.118Z"
   },
   {
    "duration": 40,
    "start_time": "2022-12-07T09:31:53.123Z"
   },
   {
    "duration": 9,
    "start_time": "2022-12-07T09:31:53.164Z"
   },
   {
    "duration": 11,
    "start_time": "2022-12-07T09:31:53.175Z"
   },
   {
    "duration": 9,
    "start_time": "2022-12-07T09:31:53.187Z"
   },
   {
    "duration": 14,
    "start_time": "2022-12-07T09:31:53.198Z"
   },
   {
    "duration": 7,
    "start_time": "2022-12-07T09:31:53.214Z"
   },
   {
    "duration": 10,
    "start_time": "2022-12-07T09:31:53.223Z"
   },
   {
    "duration": 160,
    "start_time": "2022-12-07T09:31:53.235Z"
   },
   {
    "duration": 8,
    "start_time": "2022-12-07T09:31:53.397Z"
   },
   {
    "duration": 16,
    "start_time": "2022-12-07T09:31:53.407Z"
   },
   {
    "duration": 55,
    "start_time": "2022-12-07T09:31:53.425Z"
   },
   {
    "duration": 8,
    "start_time": "2022-12-07T09:31:53.482Z"
   },
   {
    "duration": 14,
    "start_time": "2022-12-07T09:31:53.492Z"
   },
   {
    "duration": 11,
    "start_time": "2022-12-07T09:31:53.509Z"
   },
   {
    "duration": 43,
    "start_time": "2022-12-07T09:31:53.522Z"
   },
   {
    "duration": 12,
    "start_time": "2022-12-07T09:31:53.567Z"
   },
   {
    "duration": 7,
    "start_time": "2022-12-07T09:31:53.581Z"
   },
   {
    "duration": 19,
    "start_time": "2022-12-07T09:31:53.589Z"
   },
   {
    "duration": 7,
    "start_time": "2022-12-07T09:31:53.610Z"
   },
   {
    "duration": 16,
    "start_time": "2022-12-07T09:31:53.654Z"
   },
   {
    "duration": 21,
    "start_time": "2022-12-07T09:31:53.672Z"
   },
   {
    "duration": 17,
    "start_time": "2022-12-07T09:31:53.695Z"
   },
   {
    "duration": 15,
    "start_time": "2022-12-07T09:31:53.714Z"
   },
   {
    "duration": 27,
    "start_time": "2022-12-07T09:31:53.732Z"
   },
   {
    "duration": 10,
    "start_time": "2022-12-07T09:31:53.761Z"
   },
   {
    "duration": 14,
    "start_time": "2022-12-07T09:31:53.773Z"
   },
   {
    "duration": 9,
    "start_time": "2022-12-07T09:31:53.789Z"
   },
   {
    "duration": 18,
    "start_time": "2022-12-07T09:31:53.799Z"
   },
   {
    "duration": 10,
    "start_time": "2022-12-07T09:33:38.727Z"
   },
   {
    "duration": 24,
    "start_time": "2022-12-07T09:33:45.763Z"
   },
   {
    "duration": 15,
    "start_time": "2022-12-07T09:34:26.553Z"
   },
   {
    "duration": 16,
    "start_time": "2022-12-07T09:34:31.906Z"
   },
   {
    "duration": 20,
    "start_time": "2022-12-07T09:34:37.830Z"
   },
   {
    "duration": 21,
    "start_time": "2022-12-07T09:35:12.569Z"
   },
   {
    "duration": 6,
    "start_time": "2022-12-07T09:38:17.698Z"
   },
   {
    "duration": 11,
    "start_time": "2022-12-07T09:38:38.640Z"
   },
   {
    "duration": 9,
    "start_time": "2022-12-07T09:38:54.151Z"
   },
   {
    "duration": 18,
    "start_time": "2022-12-07T09:39:00.006Z"
   },
   {
    "duration": 21,
    "start_time": "2022-12-07T09:39:39.791Z"
   },
   {
    "duration": 62,
    "start_time": "2022-12-07T09:40:36.700Z"
   },
   {
    "duration": 20,
    "start_time": "2022-12-07T09:40:39.653Z"
   },
   {
    "duration": 16,
    "start_time": "2022-12-07T09:42:44.603Z"
   },
   {
    "duration": 105,
    "start_time": "2022-12-07T09:43:24.051Z"
   },
   {
    "duration": 23,
    "start_time": "2022-12-07T09:43:28.326Z"
   },
   {
    "duration": 21,
    "start_time": "2022-12-07T09:43:48.773Z"
   },
   {
    "duration": 19,
    "start_time": "2022-12-07T09:43:59.115Z"
   },
   {
    "duration": 31,
    "start_time": "2022-12-07T09:55:13.083Z"
   },
   {
    "duration": 17,
    "start_time": "2022-12-07T09:55:32.920Z"
   },
   {
    "duration": 12,
    "start_time": "2022-12-07T09:55:51.605Z"
   },
   {
    "duration": 11,
    "start_time": "2022-12-07T09:55:55.774Z"
   },
   {
    "duration": 148,
    "start_time": "2022-12-07T09:56:30.215Z"
   },
   {
    "duration": 10,
    "start_time": "2022-12-07T09:56:51.803Z"
   },
   {
    "duration": 144,
    "start_time": "2022-12-07T09:57:36.573Z"
   },
   {
    "duration": 140,
    "start_time": "2022-12-07T09:57:45.210Z"
   },
   {
    "duration": 122,
    "start_time": "2022-12-07T09:58:41.387Z"
   },
   {
    "duration": 153,
    "start_time": "2022-12-07T09:58:48.895Z"
   },
   {
    "duration": 177,
    "start_time": "2022-12-07T10:00:05.347Z"
   },
   {
    "duration": 179,
    "start_time": "2022-12-07T10:00:18.555Z"
   },
   {
    "duration": 383,
    "start_time": "2022-12-07T10:00:29.801Z"
   },
   {
    "duration": 24931,
    "start_time": "2022-12-07T10:01:27.625Z"
   },
   {
    "duration": 270,
    "start_time": "2022-12-07T10:01:57.130Z"
   },
   {
    "duration": 195,
    "start_time": "2022-12-07T10:02:14.677Z"
   },
   {
    "duration": 136,
    "start_time": "2022-12-07T10:03:20.778Z"
   },
   {
    "duration": 374,
    "start_time": "2022-12-07T10:03:37.706Z"
   },
   {
    "duration": 333,
    "start_time": "2022-12-07T10:03:41.883Z"
   },
   {
    "duration": 301,
    "start_time": "2022-12-07T10:03:48.065Z"
   },
   {
    "duration": 335,
    "start_time": "2022-12-07T10:03:50.978Z"
   },
   {
    "duration": 436,
    "start_time": "2022-12-07T10:03:55.195Z"
   },
   {
    "duration": 369,
    "start_time": "2022-12-07T10:04:02.034Z"
   },
   {
    "duration": 7,
    "start_time": "2022-12-07T10:05:01.557Z"
   },
   {
    "duration": 7,
    "start_time": "2022-12-07T10:05:09.488Z"
   },
   {
    "duration": 8,
    "start_time": "2022-12-07T10:05:14.676Z"
   },
   {
    "duration": 13,
    "start_time": "2022-12-07T10:09:26.304Z"
   },
   {
    "duration": 12,
    "start_time": "2022-12-07T10:09:28.814Z"
   },
   {
    "duration": 21,
    "start_time": "2022-12-07T10:09:53.987Z"
   },
   {
    "duration": 5,
    "start_time": "2022-12-07T10:12:22.268Z"
   },
   {
    "duration": 23,
    "start_time": "2022-12-07T10:12:37.571Z"
   },
   {
    "duration": 11,
    "start_time": "2022-12-07T10:13:04.790Z"
   },
   {
    "duration": 10,
    "start_time": "2022-12-07T10:13:06.036Z"
   },
   {
    "duration": 547,
    "start_time": "2022-12-07T10:13:43.819Z"
   },
   {
    "duration": 500,
    "start_time": "2022-12-07T10:14:03.488Z"
   },
   {
    "duration": 485,
    "start_time": "2022-12-07T10:14:37.932Z"
   },
   {
    "duration": 477,
    "start_time": "2022-12-07T10:15:41.914Z"
   },
   {
    "duration": 498,
    "start_time": "2022-12-07T10:15:49.235Z"
   },
   {
    "duration": 10,
    "start_time": "2022-12-07T10:17:14.417Z"
   },
   {
    "duration": 21,
    "start_time": "2022-12-07T10:20:43.440Z"
   },
   {
    "duration": 12,
    "start_time": "2022-12-07T10:20:43.755Z"
   },
   {
    "duration": 4,
    "start_time": "2022-12-07T10:20:45.473Z"
   },
   {
    "duration": 6,
    "start_time": "2022-12-07T10:20:46.544Z"
   },
   {
    "duration": 5,
    "start_time": "2022-12-07T10:20:47.047Z"
   },
   {
    "duration": 8,
    "start_time": "2022-12-07T10:20:54.962Z"
   },
   {
    "duration": 9,
    "start_time": "2022-12-07T10:20:55.430Z"
   },
   {
    "duration": 7,
    "start_time": "2022-12-07T10:20:57.049Z"
   },
   {
    "duration": 10,
    "start_time": "2022-12-07T10:20:57.277Z"
   },
   {
    "duration": 4,
    "start_time": "2022-12-07T10:21:52.397Z"
   },
   {
    "duration": 12,
    "start_time": "2022-12-07T10:21:55.159Z"
   },
   {
    "duration": 3,
    "start_time": "2022-12-07T10:29:26.479Z"
   },
   {
    "duration": 23,
    "start_time": "2022-12-07T10:30:25.011Z"
   },
   {
    "duration": 12,
    "start_time": "2022-12-07T10:30:26.016Z"
   },
   {
    "duration": 13,
    "start_time": "2022-12-07T10:30:26.266Z"
   },
   {
    "duration": 5,
    "start_time": "2022-12-07T10:31:45.987Z"
   },
   {
    "duration": 10,
    "start_time": "2022-12-07T10:31:46.394Z"
   },
   {
    "duration": 6,
    "start_time": "2022-12-07T10:31:58.185Z"
   },
   {
    "duration": 10,
    "start_time": "2022-12-07T10:31:58.486Z"
   },
   {
    "duration": 51,
    "start_time": "2022-12-07T10:36:56.320Z"
   },
   {
    "duration": 7,
    "start_time": "2022-12-07T10:43:20.988Z"
   },
   {
    "duration": 17,
    "start_time": "2022-12-07T10:49:27.048Z"
   },
   {
    "duration": 17,
    "start_time": "2022-12-07T10:49:58.408Z"
   },
   {
    "duration": 6,
    "start_time": "2022-12-07T10:52:04.374Z"
   },
   {
    "duration": 689,
    "start_time": "2022-12-07T10:52:58.482Z"
   },
   {
    "duration": 11,
    "start_time": "2022-12-07T10:53:10.629Z"
   },
   {
    "duration": 10,
    "start_time": "2022-12-07T10:54:55.509Z"
   },
   {
    "duration": 11,
    "start_time": "2022-12-07T10:55:27.176Z"
   },
   {
    "duration": 28,
    "start_time": "2022-12-07T10:55:41.811Z"
   },
   {
    "duration": 27,
    "start_time": "2022-12-07T10:56:07.827Z"
   },
   {
    "duration": 22,
    "start_time": "2022-12-07T10:56:20.333Z"
   },
   {
    "duration": 23,
    "start_time": "2022-12-07T10:56:27.839Z"
   },
   {
    "duration": 25,
    "start_time": "2022-12-07T10:56:40.558Z"
   },
   {
    "duration": 23,
    "start_time": "2022-12-07T10:56:43.876Z"
   },
   {
    "duration": 21,
    "start_time": "2022-12-07T10:56:59.019Z"
   },
   {
    "duration": 25,
    "start_time": "2022-12-07T10:57:14.934Z"
   },
   {
    "duration": 1236,
    "start_time": "2022-12-07T11:21:26.666Z"
   },
   {
    "duration": 30,
    "start_time": "2022-12-07T11:21:27.904Z"
   },
   {
    "duration": 14,
    "start_time": "2022-12-07T11:21:27.935Z"
   },
   {
    "duration": 14,
    "start_time": "2022-12-07T11:21:27.950Z"
   },
   {
    "duration": 7,
    "start_time": "2022-12-07T11:21:27.967Z"
   },
   {
    "duration": 23,
    "start_time": "2022-12-07T11:21:27.976Z"
   },
   {
    "duration": 11,
    "start_time": "2022-12-07T11:21:28.001Z"
   },
   {
    "duration": 75,
    "start_time": "2022-12-07T11:21:28.014Z"
   },
   {
    "duration": 8,
    "start_time": "2022-12-07T11:21:28.091Z"
   },
   {
    "duration": 29,
    "start_time": "2022-12-07T11:21:28.101Z"
   },
   {
    "duration": 23,
    "start_time": "2022-12-07T11:21:28.132Z"
   },
   {
    "duration": 39,
    "start_time": "2022-12-07T11:21:28.157Z"
   },
   {
    "duration": 591,
    "start_time": "2022-12-07T11:21:28.198Z"
   },
   {
    "duration": 11,
    "start_time": "2022-12-07T11:21:28.793Z"
   },
   {
    "duration": 100,
    "start_time": "2022-12-07T11:21:28.806Z"
   },
   {
    "duration": 117,
    "start_time": "2022-12-07T11:21:28.907Z"
   },
   {
    "duration": 219,
    "start_time": "2022-12-07T11:21:29.026Z"
   },
   {
    "duration": 21,
    "start_time": "2022-12-07T11:21:29.247Z"
   },
   {
    "duration": 46,
    "start_time": "2022-12-07T11:21:29.270Z"
   },
   {
    "duration": 37,
    "start_time": "2022-12-07T11:21:29.318Z"
   },
   {
    "duration": 8,
    "start_time": "2022-12-07T11:21:29.357Z"
   },
   {
    "duration": 17,
    "start_time": "2022-12-07T11:21:29.367Z"
   },
   {
    "duration": 19,
    "start_time": "2022-12-07T11:21:29.385Z"
   },
   {
    "duration": 7,
    "start_time": "2022-12-07T11:21:29.406Z"
   },
   {
    "duration": 19,
    "start_time": "2022-12-07T11:21:29.415Z"
   },
   {
    "duration": 20,
    "start_time": "2022-12-07T11:21:29.436Z"
   },
   {
    "duration": 13,
    "start_time": "2022-12-07T11:21:29.458Z"
   },
   {
    "duration": 9,
    "start_time": "2022-12-07T11:21:29.473Z"
   },
   {
    "duration": 8,
    "start_time": "2022-12-07T11:21:29.484Z"
   },
   {
    "duration": 8,
    "start_time": "2022-12-07T11:21:29.493Z"
   },
   {
    "duration": 10,
    "start_time": "2022-12-07T11:21:29.502Z"
   },
   {
    "duration": 43,
    "start_time": "2022-12-07T11:21:29.514Z"
   },
   {
    "duration": 11,
    "start_time": "2022-12-07T11:21:29.559Z"
   },
   {
    "duration": 9,
    "start_time": "2022-12-07T11:21:29.572Z"
   },
   {
    "duration": 7,
    "start_time": "2022-12-07T11:21:29.582Z"
   },
   {
    "duration": 38,
    "start_time": "2022-12-07T11:21:29.591Z"
   },
   {
    "duration": 34,
    "start_time": "2022-12-07T11:21:29.631Z"
   },
   {
    "duration": 12,
    "start_time": "2022-12-07T11:21:29.666Z"
   },
   {
    "duration": 4,
    "start_time": "2022-12-07T11:21:29.679Z"
   },
   {
    "duration": 14,
    "start_time": "2022-12-07T11:21:29.685Z"
   },
   {
    "duration": 31,
    "start_time": "2022-12-07T11:21:29.703Z"
   },
   {
    "duration": 21,
    "start_time": "2022-12-07T11:21:29.736Z"
   },
   {
    "duration": 12,
    "start_time": "2022-12-07T11:21:29.759Z"
   },
   {
    "duration": 16,
    "start_time": "2022-12-07T11:21:29.773Z"
   },
   {
    "duration": 16,
    "start_time": "2022-12-07T11:21:29.791Z"
   },
   {
    "duration": 7,
    "start_time": "2022-12-07T11:21:29.809Z"
   },
   {
    "duration": 16,
    "start_time": "2022-12-07T11:21:29.818Z"
   },
   {
    "duration": 9,
    "start_time": "2022-12-07T11:21:29.835Z"
   },
   {
    "duration": 9,
    "start_time": "2022-12-07T11:21:29.863Z"
   },
   {
    "duration": 184,
    "start_time": "2022-12-07T11:21:29.874Z"
   },
   {
    "duration": 10,
    "start_time": "2022-12-07T11:21:30.059Z"
   },
   {
    "duration": 35,
    "start_time": "2022-12-07T11:21:30.070Z"
   },
   {
    "duration": 58,
    "start_time": "2022-12-07T11:21:30.107Z"
   },
   {
    "duration": 9,
    "start_time": "2022-12-07T11:21:30.167Z"
   },
   {
    "duration": 47,
    "start_time": "2022-12-07T11:21:30.177Z"
   },
   {
    "duration": 29,
    "start_time": "2022-12-07T11:21:30.226Z"
   },
   {
    "duration": 36,
    "start_time": "2022-12-07T11:21:30.257Z"
   },
   {
    "duration": 43,
    "start_time": "2022-12-07T11:21:30.295Z"
   },
   {
    "duration": 42,
    "start_time": "2022-12-07T11:21:30.340Z"
   },
   {
    "duration": 36,
    "start_time": "2022-12-07T11:21:30.384Z"
   },
   {
    "duration": 25,
    "start_time": "2022-12-07T11:21:30.422Z"
   },
   {
    "duration": 49,
    "start_time": "2022-12-07T11:21:30.449Z"
   },
   {
    "duration": 23,
    "start_time": "2022-12-07T11:21:30.500Z"
   },
   {
    "duration": 444,
    "start_time": "2022-12-07T11:21:30.525Z"
   },
   {
    "duration": 8,
    "start_time": "2022-12-07T11:21:30.972Z"
   },
   {
    "duration": 89,
    "start_time": "2022-12-07T11:21:30.982Z"
   },
   {
    "duration": 57,
    "start_time": "2022-12-07T11:21:31.073Z"
   },
   {
    "duration": 47,
    "start_time": "2022-12-07T11:21:31.132Z"
   },
   {
    "duration": 24,
    "start_time": "2022-12-07T11:21:31.181Z"
   },
   {
    "duration": 22,
    "start_time": "2022-12-07T11:21:31.207Z"
   },
   {
    "duration": 516,
    "start_time": "2022-12-07T11:21:31.231Z"
   },
   {
    "duration": 26,
    "start_time": "2022-12-07T11:21:31.749Z"
   },
   {
    "duration": 8,
    "start_time": "2022-12-07T11:21:31.777Z"
   },
   {
    "duration": 26,
    "start_time": "2022-12-07T11:21:31.786Z"
   },
   {
    "duration": 24,
    "start_time": "2022-12-07T11:21:31.814Z"
   },
   {
    "duration": 21,
    "start_time": "2022-12-07T11:21:31.840Z"
   },
   {
    "duration": 27,
    "start_time": "2022-12-07T11:21:31.863Z"
   },
   {
    "duration": 28,
    "start_time": "2022-12-07T11:21:31.892Z"
   },
   {
    "duration": 24,
    "start_time": "2022-12-07T11:21:31.922Z"
   },
   {
    "duration": 47,
    "start_time": "2022-12-07T11:21:31.948Z"
   },
   {
    "duration": 603,
    "start_time": "2022-12-07T11:22:07.201Z"
   },
   {
    "duration": 29,
    "start_time": "2022-12-07T11:22:07.806Z"
   },
   {
    "duration": 15,
    "start_time": "2022-12-07T11:22:07.836Z"
   },
   {
    "duration": 14,
    "start_time": "2022-12-07T11:22:07.853Z"
   },
   {
    "duration": 8,
    "start_time": "2022-12-07T11:22:07.869Z"
   },
   {
    "duration": 14,
    "start_time": "2022-12-07T11:22:07.878Z"
   },
   {
    "duration": 9,
    "start_time": "2022-12-07T11:22:07.894Z"
   },
   {
    "duration": 76,
    "start_time": "2022-12-07T11:22:07.904Z"
   },
   {
    "duration": 7,
    "start_time": "2022-12-07T11:22:07.982Z"
   },
   {
    "duration": 20,
    "start_time": "2022-12-07T11:22:07.992Z"
   },
   {
    "duration": 16,
    "start_time": "2022-12-07T11:22:08.014Z"
   },
   {
    "duration": 55,
    "start_time": "2022-12-07T11:22:08.032Z"
   },
   {
    "duration": 516,
    "start_time": "2022-12-07T11:22:08.089Z"
   },
   {
    "duration": 8,
    "start_time": "2022-12-07T11:22:08.608Z"
   },
   {
    "duration": 76,
    "start_time": "2022-12-07T11:22:08.618Z"
   },
   {
    "duration": 93,
    "start_time": "2022-12-07T11:22:08.695Z"
   },
   {
    "duration": 215,
    "start_time": "2022-12-07T11:22:08.790Z"
   },
   {
    "duration": 20,
    "start_time": "2022-12-07T11:22:09.007Z"
   },
   {
    "duration": 66,
    "start_time": "2022-12-07T11:22:09.029Z"
   },
   {
    "duration": 38,
    "start_time": "2022-12-07T11:22:09.097Z"
   },
   {
    "duration": 8,
    "start_time": "2022-12-07T11:22:09.137Z"
   },
   {
    "duration": 15,
    "start_time": "2022-12-07T11:22:09.147Z"
   },
   {
    "duration": 13,
    "start_time": "2022-12-07T11:22:09.163Z"
   },
   {
    "duration": 5,
    "start_time": "2022-12-07T11:22:09.178Z"
   },
   {
    "duration": 15,
    "start_time": "2022-12-07T11:22:09.185Z"
   },
   {
    "duration": 5,
    "start_time": "2022-12-07T11:22:09.201Z"
   },
   {
    "duration": 15,
    "start_time": "2022-12-07T11:22:09.208Z"
   },
   {
    "duration": 12,
    "start_time": "2022-12-07T11:22:09.254Z"
   },
   {
    "duration": 7,
    "start_time": "2022-12-07T11:22:09.268Z"
   },
   {
    "duration": 4,
    "start_time": "2022-12-07T11:22:09.277Z"
   },
   {
    "duration": 15,
    "start_time": "2022-12-07T11:22:09.283Z"
   },
   {
    "duration": 8,
    "start_time": "2022-12-07T11:22:09.300Z"
   },
   {
    "duration": 7,
    "start_time": "2022-12-07T11:22:09.310Z"
   },
   {
    "duration": 40,
    "start_time": "2022-12-07T11:22:09.319Z"
   },
   {
    "duration": 6,
    "start_time": "2022-12-07T11:22:09.361Z"
   },
   {
    "duration": 34,
    "start_time": "2022-12-07T11:22:09.369Z"
   },
   {
    "duration": 11,
    "start_time": "2022-12-07T11:22:09.405Z"
   },
   {
    "duration": 37,
    "start_time": "2022-12-07T11:22:09.418Z"
   },
   {
    "duration": 4,
    "start_time": "2022-12-07T11:22:09.457Z"
   },
   {
    "duration": 46,
    "start_time": "2022-12-07T11:22:09.462Z"
   },
   {
    "duration": 28,
    "start_time": "2022-12-07T11:22:09.510Z"
   },
   {
    "duration": 4,
    "start_time": "2022-12-07T11:22:09.540Z"
   },
   {
    "duration": 19,
    "start_time": "2022-12-07T11:22:09.546Z"
   },
   {
    "duration": 19,
    "start_time": "2022-12-07T11:22:09.567Z"
   },
   {
    "duration": 10,
    "start_time": "2022-12-07T11:22:09.588Z"
   },
   {
    "duration": 6,
    "start_time": "2022-12-07T11:22:09.600Z"
   },
   {
    "duration": 11,
    "start_time": "2022-12-07T11:22:09.607Z"
   },
   {
    "duration": 15,
    "start_time": "2022-12-07T11:22:09.619Z"
   },
   {
    "duration": 8,
    "start_time": "2022-12-07T11:22:09.636Z"
   },
   {
    "duration": 143,
    "start_time": "2022-12-07T11:22:09.646Z"
   },
   {
    "duration": 8,
    "start_time": "2022-12-07T11:22:09.790Z"
   },
   {
    "duration": 21,
    "start_time": "2022-12-07T11:22:09.799Z"
   },
   {
    "duration": 43,
    "start_time": "2022-12-07T11:22:09.822Z"
   },
   {
    "duration": 6,
    "start_time": "2022-12-07T11:22:09.867Z"
   },
   {
    "duration": 19,
    "start_time": "2022-12-07T11:22:09.875Z"
   },
   {
    "duration": 10,
    "start_time": "2022-12-07T11:22:09.896Z"
   },
   {
    "duration": 11,
    "start_time": "2022-12-07T11:22:09.908Z"
   },
   {
    "duration": 35,
    "start_time": "2022-12-07T11:22:09.921Z"
   },
   {
    "duration": 8,
    "start_time": "2022-12-07T11:22:09.958Z"
   },
   {
    "duration": 17,
    "start_time": "2022-12-07T11:22:09.968Z"
   },
   {
    "duration": 19,
    "start_time": "2022-12-07T11:22:09.987Z"
   },
   {
    "duration": 27,
    "start_time": "2022-12-07T11:22:10.008Z"
   },
   {
    "duration": 12,
    "start_time": "2022-12-07T11:22:10.056Z"
   },
   {
    "duration": 385,
    "start_time": "2022-12-07T11:22:10.070Z"
   },
   {
    "duration": 8,
    "start_time": "2022-12-07T11:22:10.457Z"
   },
   {
    "duration": 13,
    "start_time": "2022-12-07T11:22:10.466Z"
   },
   {
    "duration": 27,
    "start_time": "2022-12-07T11:22:10.481Z"
   },
   {
    "duration": 31,
    "start_time": "2022-12-07T11:22:10.509Z"
   },
   {
    "duration": 18,
    "start_time": "2022-12-07T11:22:10.542Z"
   },
   {
    "duration": 11,
    "start_time": "2022-12-07T11:22:10.562Z"
   },
   {
    "duration": 517,
    "start_time": "2022-12-07T11:22:10.575Z"
   },
   {
    "duration": 18,
    "start_time": "2022-12-07T11:22:11.095Z"
   },
   {
    "duration": 6,
    "start_time": "2022-12-07T11:22:11.115Z"
   },
   {
    "duration": 14,
    "start_time": "2022-12-07T11:22:11.123Z"
   },
   {
    "duration": 17,
    "start_time": "2022-12-07T11:22:11.138Z"
   },
   {
    "duration": 15,
    "start_time": "2022-12-07T11:22:11.157Z"
   },
   {
    "duration": 7,
    "start_time": "2022-12-07T11:22:11.174Z"
   },
   {
    "duration": 8,
    "start_time": "2022-12-07T11:22:11.183Z"
   },
   {
    "duration": 13,
    "start_time": "2022-12-07T11:22:11.193Z"
   },
   {
    "duration": 183,
    "start_time": "2022-12-07T11:22:11.207Z"
   },
   {
    "duration": 1152,
    "start_time": "2022-12-07T11:22:28.800Z"
   },
   {
    "duration": 29,
    "start_time": "2022-12-07T11:22:29.956Z"
   },
   {
    "duration": 14,
    "start_time": "2022-12-07T11:22:29.988Z"
   },
   {
    "duration": 25,
    "start_time": "2022-12-07T11:22:30.004Z"
   },
   {
    "duration": 26,
    "start_time": "2022-12-07T11:22:30.031Z"
   },
   {
    "duration": 26,
    "start_time": "2022-12-07T11:22:30.059Z"
   },
   {
    "duration": 29,
    "start_time": "2022-12-07T11:22:30.087Z"
   },
   {
    "duration": 94,
    "start_time": "2022-12-07T11:22:30.118Z"
   },
   {
    "duration": 10,
    "start_time": "2022-12-07T11:22:30.214Z"
   },
   {
    "duration": 110,
    "start_time": "2022-12-07T11:22:30.226Z"
   },
   {
    "duration": 46,
    "start_time": "2022-12-07T11:22:30.338Z"
   },
   {
    "duration": 55,
    "start_time": "2022-12-07T11:22:30.386Z"
   },
   {
    "duration": 562,
    "start_time": "2022-12-07T11:22:30.443Z"
   },
   {
    "duration": 12,
    "start_time": "2022-12-07T11:22:31.008Z"
   },
   {
    "duration": 125,
    "start_time": "2022-12-07T11:22:31.022Z"
   },
   {
    "duration": 94,
    "start_time": "2022-12-07T11:22:31.149Z"
   },
   {
    "duration": 204,
    "start_time": "2022-12-07T11:22:31.246Z"
   },
   {
    "duration": 19,
    "start_time": "2022-12-07T11:22:31.451Z"
   },
   {
    "duration": 44,
    "start_time": "2022-12-07T11:22:31.472Z"
   },
   {
    "duration": 38,
    "start_time": "2022-12-07T11:22:31.518Z"
   },
   {
    "duration": 8,
    "start_time": "2022-12-07T11:22:31.558Z"
   },
   {
    "duration": 17,
    "start_time": "2022-12-07T11:22:31.568Z"
   },
   {
    "duration": 14,
    "start_time": "2022-12-07T11:22:31.587Z"
   },
   {
    "duration": 5,
    "start_time": "2022-12-07T11:22:31.603Z"
   },
   {
    "duration": 15,
    "start_time": "2022-12-07T11:22:31.610Z"
   },
   {
    "duration": 31,
    "start_time": "2022-12-07T11:22:31.626Z"
   },
   {
    "duration": 14,
    "start_time": "2022-12-07T11:22:31.658Z"
   },
   {
    "duration": 13,
    "start_time": "2022-12-07T11:22:31.674Z"
   },
   {
    "duration": 10,
    "start_time": "2022-12-07T11:22:31.689Z"
   },
   {
    "duration": 12,
    "start_time": "2022-12-07T11:22:31.701Z"
   },
   {
    "duration": 10,
    "start_time": "2022-12-07T11:22:31.715Z"
   },
   {
    "duration": 9,
    "start_time": "2022-12-07T11:22:31.726Z"
   },
   {
    "duration": 23,
    "start_time": "2022-12-07T11:22:31.736Z"
   },
   {
    "duration": 10,
    "start_time": "2022-12-07T11:22:31.760Z"
   },
   {
    "duration": 9,
    "start_time": "2022-12-07T11:22:31.771Z"
   },
   {
    "duration": 29,
    "start_time": "2022-12-07T11:22:31.781Z"
   },
   {
    "duration": 10,
    "start_time": "2022-12-07T11:22:31.812Z"
   },
   {
    "duration": 31,
    "start_time": "2022-12-07T11:22:31.824Z"
   },
   {
    "duration": 8,
    "start_time": "2022-12-07T11:22:31.857Z"
   },
   {
    "duration": 9,
    "start_time": "2022-12-07T11:22:31.867Z"
   },
   {
    "duration": 31,
    "start_time": "2022-12-07T11:22:31.882Z"
   },
   {
    "duration": 4,
    "start_time": "2022-12-07T11:22:31.915Z"
   },
   {
    "duration": 41,
    "start_time": "2022-12-07T11:22:31.921Z"
   },
   {
    "duration": 19,
    "start_time": "2022-12-07T11:22:31.964Z"
   },
   {
    "duration": 14,
    "start_time": "2022-12-07T11:22:31.986Z"
   },
   {
    "duration": 7,
    "start_time": "2022-12-07T11:22:32.002Z"
   },
   {
    "duration": 13,
    "start_time": "2022-12-07T11:22:32.011Z"
   },
   {
    "duration": 7,
    "start_time": "2022-12-07T11:22:32.026Z"
   },
   {
    "duration": 27,
    "start_time": "2022-12-07T11:22:32.035Z"
   },
   {
    "duration": 152,
    "start_time": "2022-12-07T11:22:32.064Z"
   },
   {
    "duration": 8,
    "start_time": "2022-12-07T11:22:32.218Z"
   },
   {
    "duration": 27,
    "start_time": "2022-12-07T11:22:32.227Z"
   },
   {
    "duration": 40,
    "start_time": "2022-12-07T11:22:32.256Z"
   },
   {
    "duration": 6,
    "start_time": "2022-12-07T11:22:32.298Z"
   },
   {
    "duration": 13,
    "start_time": "2022-12-07T11:22:32.306Z"
   },
   {
    "duration": 9,
    "start_time": "2022-12-07T11:22:32.320Z"
   },
   {
    "duration": 15,
    "start_time": "2022-12-07T11:22:32.356Z"
   },
   {
    "duration": 13,
    "start_time": "2022-12-07T11:22:32.373Z"
   },
   {
    "duration": 12,
    "start_time": "2022-12-07T11:22:32.388Z"
   },
   {
    "duration": 16,
    "start_time": "2022-12-07T11:22:32.402Z"
   },
   {
    "duration": 45,
    "start_time": "2022-12-07T11:22:32.421Z"
   },
   {
    "duration": 12,
    "start_time": "2022-12-07T11:22:32.468Z"
   },
   {
    "duration": 12,
    "start_time": "2022-12-07T11:22:32.482Z"
   },
   {
    "duration": 393,
    "start_time": "2022-12-07T11:22:32.495Z"
   },
   {
    "duration": 8,
    "start_time": "2022-12-07T11:22:32.890Z"
   },
   {
    "duration": 10,
    "start_time": "2022-12-07T11:22:32.899Z"
   },
   {
    "duration": 5,
    "start_time": "2022-12-07T11:22:32.911Z"
   },
   {
    "duration": 50,
    "start_time": "2022-12-07T11:22:32.919Z"
   },
   {
    "duration": 22,
    "start_time": "2022-12-07T11:22:32.971Z"
   },
   {
    "duration": 13,
    "start_time": "2022-12-07T11:22:32.995Z"
   },
   {
    "duration": 539,
    "start_time": "2022-12-07T11:22:33.010Z"
   },
   {
    "duration": 16,
    "start_time": "2022-12-07T11:22:33.555Z"
   },
   {
    "duration": 9,
    "start_time": "2022-12-07T11:22:33.574Z"
   },
   {
    "duration": 6,
    "start_time": "2022-12-07T11:22:33.585Z"
   },
   {
    "duration": 8,
    "start_time": "2022-12-07T11:22:33.592Z"
   },
   {
    "duration": 15,
    "start_time": "2022-12-07T11:22:33.601Z"
   },
   {
    "duration": 9,
    "start_time": "2022-12-07T11:22:33.618Z"
   },
   {
    "duration": 16,
    "start_time": "2022-12-07T11:22:33.628Z"
   },
   {
    "duration": 14,
    "start_time": "2022-12-07T11:22:33.655Z"
   },
   {
    "duration": 26,
    "start_time": "2022-12-07T11:22:33.671Z"
   },
   {
    "duration": 57,
    "start_time": "2022-12-08T07:55:33.675Z"
   },
   {
    "duration": 1418,
    "start_time": "2022-12-08T07:55:37.691Z"
   },
   {
    "duration": 85,
    "start_time": "2022-12-08T07:55:39.113Z"
   },
   {
    "duration": 14,
    "start_time": "2022-12-08T07:55:39.200Z"
   },
   {
    "duration": 30,
    "start_time": "2022-12-08T07:55:39.216Z"
   },
   {
    "duration": 29,
    "start_time": "2022-12-08T07:55:39.249Z"
   },
   {
    "duration": 47,
    "start_time": "2022-12-08T07:55:39.280Z"
   },
   {
    "duration": 33,
    "start_time": "2022-12-08T07:55:39.329Z"
   },
   {
    "duration": 154,
    "start_time": "2022-12-08T07:55:39.364Z"
   },
   {
    "duration": 10,
    "start_time": "2022-12-08T07:55:39.520Z"
   },
   {
    "duration": 43,
    "start_time": "2022-12-08T07:55:39.532Z"
   },
   {
    "duration": 31,
    "start_time": "2022-12-08T07:55:39.577Z"
   },
   {
    "duration": 52,
    "start_time": "2022-12-08T07:55:39.610Z"
   },
   {
    "duration": 672,
    "start_time": "2022-12-08T07:55:39.664Z"
   },
   {
    "duration": 11,
    "start_time": "2022-12-08T07:55:40.339Z"
   },
   {
    "duration": 80,
    "start_time": "2022-12-08T07:55:40.352Z"
   },
   {
    "duration": 95,
    "start_time": "2022-12-08T07:55:40.434Z"
   },
   {
    "duration": 231,
    "start_time": "2022-12-08T07:55:40.532Z"
   },
   {
    "duration": 20,
    "start_time": "2022-12-08T07:55:40.765Z"
   },
   {
    "duration": 64,
    "start_time": "2022-12-08T07:55:40.787Z"
   },
   {
    "duration": 87,
    "start_time": "2022-12-08T07:55:40.852Z"
   },
   {
    "duration": 8,
    "start_time": "2022-12-08T07:55:40.941Z"
   },
   {
    "duration": 18,
    "start_time": "2022-12-08T07:55:40.951Z"
   },
   {
    "duration": 28,
    "start_time": "2022-12-08T07:55:40.971Z"
   },
   {
    "duration": 12,
    "start_time": "2022-12-08T07:55:41.001Z"
   },
   {
    "duration": 40,
    "start_time": "2022-12-08T07:55:41.015Z"
   },
   {
    "duration": 32,
    "start_time": "2022-12-08T07:55:41.058Z"
   },
   {
    "duration": 27,
    "start_time": "2022-12-08T07:55:41.092Z"
   },
   {
    "duration": 30,
    "start_time": "2022-12-08T07:55:41.122Z"
   },
   {
    "duration": 29,
    "start_time": "2022-12-08T07:55:41.154Z"
   },
   {
    "duration": 32,
    "start_time": "2022-12-08T07:55:41.186Z"
   },
   {
    "duration": 21,
    "start_time": "2022-12-08T07:55:41.220Z"
   },
   {
    "duration": 26,
    "start_time": "2022-12-08T07:55:41.244Z"
   },
   {
    "duration": 23,
    "start_time": "2022-12-08T07:55:41.272Z"
   },
   {
    "duration": 18,
    "start_time": "2022-12-08T07:55:41.297Z"
   },
   {
    "duration": 28,
    "start_time": "2022-12-08T07:55:41.316Z"
   },
   {
    "duration": 51,
    "start_time": "2022-12-08T07:55:41.346Z"
   },
   {
    "duration": 11,
    "start_time": "2022-12-08T07:55:41.399Z"
   },
   {
    "duration": 40,
    "start_time": "2022-12-08T07:55:41.412Z"
   },
   {
    "duration": 30,
    "start_time": "2022-12-08T07:55:41.454Z"
   },
   {
    "duration": 29,
    "start_time": "2022-12-08T07:55:41.486Z"
   },
   {
    "duration": 37,
    "start_time": "2022-12-08T07:55:41.520Z"
   },
   {
    "duration": 24,
    "start_time": "2022-12-08T07:55:41.559Z"
   },
   {
    "duration": 52,
    "start_time": "2022-12-08T07:55:41.585Z"
   },
   {
    "duration": 25,
    "start_time": "2022-12-08T07:55:41.638Z"
   },
   {
    "duration": 31,
    "start_time": "2022-12-08T07:55:41.665Z"
   },
   {
    "duration": 43,
    "start_time": "2022-12-08T07:55:41.698Z"
   },
   {
    "duration": 34,
    "start_time": "2022-12-08T07:55:41.743Z"
   },
   {
    "duration": 31,
    "start_time": "2022-12-08T07:55:41.779Z"
   },
   {
    "duration": 33,
    "start_time": "2022-12-08T07:55:41.811Z"
   },
   {
    "duration": 155,
    "start_time": "2022-12-08T07:55:41.846Z"
   },
   {
    "duration": 10,
    "start_time": "2022-12-08T07:55:42.003Z"
   },
   {
    "duration": 34,
    "start_time": "2022-12-08T07:55:42.014Z"
   },
   {
    "duration": 47,
    "start_time": "2022-12-08T07:55:42.049Z"
   },
   {
    "duration": 7,
    "start_time": "2022-12-08T07:55:42.098Z"
   },
   {
    "duration": 24,
    "start_time": "2022-12-08T07:55:42.107Z"
   },
   {
    "duration": 44,
    "start_time": "2022-12-08T07:55:42.132Z"
   },
   {
    "duration": 26,
    "start_time": "2022-12-08T07:55:42.178Z"
   },
   {
    "duration": 35,
    "start_time": "2022-12-08T07:55:42.206Z"
   },
   {
    "duration": 27,
    "start_time": "2022-12-08T07:55:42.243Z"
   },
   {
    "duration": 37,
    "start_time": "2022-12-08T07:55:42.272Z"
   },
   {
    "duration": 29,
    "start_time": "2022-12-08T07:55:42.311Z"
   },
   {
    "duration": 37,
    "start_time": "2022-12-08T07:55:42.342Z"
   },
   {
    "duration": 38,
    "start_time": "2022-12-08T07:55:42.381Z"
   },
   {
    "duration": 410,
    "start_time": "2022-12-08T07:55:42.421Z"
   },
   {
    "duration": 7,
    "start_time": "2022-12-08T07:55:42.833Z"
   },
   {
    "duration": 33,
    "start_time": "2022-12-08T07:55:42.842Z"
   },
   {
    "duration": 31,
    "start_time": "2022-12-08T07:55:42.877Z"
   },
   {
    "duration": 49,
    "start_time": "2022-12-08T07:55:42.910Z"
   },
   {
    "duration": 31,
    "start_time": "2022-12-08T07:55:42.960Z"
   },
   {
    "duration": 32,
    "start_time": "2022-12-08T07:55:42.993Z"
   },
   {
    "duration": 550,
    "start_time": "2022-12-08T07:55:43.027Z"
   },
   {
    "duration": 19,
    "start_time": "2022-12-08T07:55:43.579Z"
   },
   {
    "duration": 10,
    "start_time": "2022-12-08T07:55:43.612Z"
   },
   {
    "duration": 21,
    "start_time": "2022-12-08T07:55:43.624Z"
   },
   {
    "duration": 30,
    "start_time": "2022-12-08T07:55:43.647Z"
   },
   {
    "duration": 32,
    "start_time": "2022-12-08T07:55:43.679Z"
   },
   {
    "duration": 37,
    "start_time": "2022-12-08T07:55:43.713Z"
   },
   {
    "duration": 41,
    "start_time": "2022-12-08T07:55:43.752Z"
   },
   {
    "duration": 25,
    "start_time": "2022-12-08T07:55:43.796Z"
   },
   {
    "duration": 51,
    "start_time": "2022-12-08T07:55:43.823Z"
   },
   {
    "duration": 34,
    "start_time": "2022-12-08T07:56:39.907Z"
   },
   {
    "duration": 16,
    "start_time": "2022-12-08T07:56:44.718Z"
   },
   {
    "duration": 4,
    "start_time": "2022-12-08T07:57:02.801Z"
   },
   {
    "duration": 5,
    "start_time": "2022-12-08T07:57:06.862Z"
   },
   {
    "duration": 6,
    "start_time": "2022-12-08T07:57:09.507Z"
   },
   {
    "duration": 7,
    "start_time": "2022-12-08T07:59:06.915Z"
   },
   {
    "duration": 6,
    "start_time": "2022-12-08T07:59:30.461Z"
   },
   {
    "duration": 5,
    "start_time": "2022-12-08T07:59:30.790Z"
   },
   {
    "duration": 14,
    "start_time": "2022-12-08T08:00:26.447Z"
   },
   {
    "duration": 423,
    "start_time": "2022-12-08T08:05:00.347Z"
   },
   {
    "duration": 408,
    "start_time": "2022-12-08T08:05:07.262Z"
   },
   {
    "duration": 56,
    "start_time": "2022-12-08T08:09:13.578Z"
   },
   {
    "duration": 6,
    "start_time": "2022-12-08T08:10:02.192Z"
   },
   {
    "duration": 105,
    "start_time": "2022-12-08T08:10:27.391Z"
   },
   {
    "duration": 22,
    "start_time": "2022-12-08T08:10:34.608Z"
   },
   {
    "duration": 17,
    "start_time": "2022-12-08T08:10:58.111Z"
   },
   {
    "duration": 17,
    "start_time": "2022-12-08T08:13:43.119Z"
   },
   {
    "duration": 18,
    "start_time": "2022-12-08T08:13:44.885Z"
   },
   {
    "duration": 22,
    "start_time": "2022-12-08T08:14:07.061Z"
   },
   {
    "duration": 17,
    "start_time": "2022-12-08T08:14:10.338Z"
   },
   {
    "duration": 1179,
    "start_time": "2022-12-08T08:17:31.027Z"
   },
   {
    "duration": 31,
    "start_time": "2022-12-08T08:17:32.208Z"
   },
   {
    "duration": 15,
    "start_time": "2022-12-08T08:17:32.240Z"
   },
   {
    "duration": 14,
    "start_time": "2022-12-08T08:17:32.257Z"
   },
   {
    "duration": 21,
    "start_time": "2022-12-08T08:17:32.274Z"
   },
   {
    "duration": 18,
    "start_time": "2022-12-08T08:17:32.297Z"
   },
   {
    "duration": 18,
    "start_time": "2022-12-08T08:17:32.316Z"
   },
   {
    "duration": 95,
    "start_time": "2022-12-08T08:17:32.336Z"
   },
   {
    "duration": 9,
    "start_time": "2022-12-08T08:17:32.433Z"
   },
   {
    "duration": 23,
    "start_time": "2022-12-08T08:17:32.443Z"
   },
   {
    "duration": 21,
    "start_time": "2022-12-08T08:17:32.468Z"
   },
   {
    "duration": 51,
    "start_time": "2022-12-08T08:17:32.491Z"
   },
   {
    "duration": 532,
    "start_time": "2022-12-08T08:17:32.544Z"
   },
   {
    "duration": 9,
    "start_time": "2022-12-08T08:17:33.080Z"
   },
   {
    "duration": 77,
    "start_time": "2022-12-08T08:17:33.091Z"
   },
   {
    "duration": 99,
    "start_time": "2022-12-08T08:17:33.170Z"
   },
   {
    "duration": 230,
    "start_time": "2022-12-08T08:17:33.270Z"
   },
   {
    "duration": 23,
    "start_time": "2022-12-08T08:17:33.501Z"
   },
   {
    "duration": 50,
    "start_time": "2022-12-08T08:17:33.526Z"
   },
   {
    "duration": 39,
    "start_time": "2022-12-08T08:17:33.578Z"
   },
   {
    "duration": 8,
    "start_time": "2022-12-08T08:17:33.619Z"
   },
   {
    "duration": 18,
    "start_time": "2022-12-08T08:17:33.629Z"
   },
   {
    "duration": 14,
    "start_time": "2022-12-08T08:17:33.649Z"
   },
   {
    "duration": 5,
    "start_time": "2022-12-08T08:17:33.665Z"
   },
   {
    "duration": 14,
    "start_time": "2022-12-08T08:17:33.671Z"
   },
   {
    "duration": 28,
    "start_time": "2022-12-08T08:17:33.687Z"
   },
   {
    "duration": 16,
    "start_time": "2022-12-08T08:17:33.717Z"
   },
   {
    "duration": 12,
    "start_time": "2022-12-08T08:17:33.736Z"
   },
   {
    "duration": 35,
    "start_time": "2022-12-08T08:17:33.750Z"
   },
   {
    "duration": 5,
    "start_time": "2022-12-08T08:17:33.787Z"
   },
   {
    "duration": 4,
    "start_time": "2022-12-08T08:17:33.813Z"
   },
   {
    "duration": 11,
    "start_time": "2022-12-08T08:17:33.819Z"
   },
   {
    "duration": 7,
    "start_time": "2022-12-08T08:17:33.832Z"
   },
   {
    "duration": 29,
    "start_time": "2022-12-08T08:17:33.841Z"
   },
   {
    "duration": 10,
    "start_time": "2022-12-08T08:17:33.872Z"
   },
   {
    "duration": 17,
    "start_time": "2022-12-08T08:17:33.911Z"
   },
   {
    "duration": 7,
    "start_time": "2022-12-08T08:17:33.930Z"
   },
   {
    "duration": 12,
    "start_time": "2022-12-08T08:17:33.939Z"
   },
   {
    "duration": 32,
    "start_time": "2022-12-08T08:17:33.952Z"
   },
   {
    "duration": 3,
    "start_time": "2022-12-08T08:17:33.986Z"
   },
   {
    "duration": 9,
    "start_time": "2022-12-08T08:17:33.993Z"
   },
   {
    "duration": 11,
    "start_time": "2022-12-08T08:17:34.013Z"
   },
   {
    "duration": 12,
    "start_time": "2022-12-08T08:17:34.026Z"
   },
   {
    "duration": 6,
    "start_time": "2022-12-08T08:17:34.039Z"
   },
   {
    "duration": 11,
    "start_time": "2022-12-08T08:17:34.047Z"
   },
   {
    "duration": 9,
    "start_time": "2022-12-08T08:17:34.060Z"
   },
   {
    "duration": 10,
    "start_time": "2022-12-08T08:17:34.070Z"
   },
   {
    "duration": 178,
    "start_time": "2022-12-08T08:17:34.082Z"
   },
   {
    "duration": 8,
    "start_time": "2022-12-08T08:17:34.261Z"
   },
   {
    "duration": 16,
    "start_time": "2022-12-08T08:17:34.270Z"
   },
   {
    "duration": 47,
    "start_time": "2022-12-08T08:17:34.287Z"
   },
   {
    "duration": 7,
    "start_time": "2022-12-08T08:17:34.336Z"
   },
   {
    "duration": 15,
    "start_time": "2022-12-08T08:17:34.344Z"
   },
   {
    "duration": 10,
    "start_time": "2022-12-08T08:17:34.360Z"
   },
   {
    "duration": 10,
    "start_time": "2022-12-08T08:17:34.371Z"
   },
   {
    "duration": 36,
    "start_time": "2022-12-08T08:17:34.382Z"
   },
   {
    "duration": 14,
    "start_time": "2022-12-08T08:17:34.420Z"
   },
   {
    "duration": 17,
    "start_time": "2022-12-08T08:17:34.436Z"
   },
   {
    "duration": 20,
    "start_time": "2022-12-08T08:17:34.455Z"
   },
   {
    "duration": 40,
    "start_time": "2022-12-08T08:17:34.477Z"
   },
   {
    "duration": 10,
    "start_time": "2022-12-08T08:17:34.519Z"
   },
   {
    "duration": 461,
    "start_time": "2022-12-08T08:17:34.532Z"
   },
   {
    "duration": 6,
    "start_time": "2022-12-08T08:17:34.995Z"
   },
   {
    "duration": 6,
    "start_time": "2022-12-08T08:17:35.013Z"
   },
   {
    "duration": 10,
    "start_time": "2022-12-08T08:17:35.020Z"
   },
   {
    "duration": 26,
    "start_time": "2022-12-08T08:17:35.032Z"
   },
   {
    "duration": 22,
    "start_time": "2022-12-08T08:17:35.059Z"
   },
   {
    "duration": 17,
    "start_time": "2022-12-08T08:17:35.083Z"
   },
   {
    "duration": 522,
    "start_time": "2022-12-08T08:17:35.102Z"
   },
   {
    "duration": 18,
    "start_time": "2022-12-08T08:17:35.626Z"
   },
   {
    "duration": 6,
    "start_time": "2022-12-08T08:17:35.646Z"
   },
   {
    "duration": 9,
    "start_time": "2022-12-08T08:17:35.654Z"
   },
   {
    "duration": 7,
    "start_time": "2022-12-08T08:17:35.665Z"
   },
   {
    "duration": 14,
    "start_time": "2022-12-08T08:17:35.673Z"
   },
   {
    "duration": 27,
    "start_time": "2022-12-08T08:17:35.688Z"
   },
   {
    "duration": 7,
    "start_time": "2022-12-08T08:17:35.717Z"
   },
   {
    "duration": 12,
    "start_time": "2022-12-08T08:17:35.726Z"
   },
   {
    "duration": 11,
    "start_time": "2022-12-08T08:17:35.740Z"
   },
   {
    "duration": 22,
    "start_time": "2022-12-08T08:17:35.752Z"
   },
   {
    "duration": 38,
    "start_time": "2022-12-08T08:17:35.776Z"
   },
   {
    "duration": 17,
    "start_time": "2022-12-08T08:17:35.816Z"
   },
   {
    "duration": 17,
    "start_time": "2022-12-08T08:17:35.834Z"
   },
   {
    "duration": 16,
    "start_time": "2022-12-08T08:17:35.853Z"
   },
   {
    "duration": 47,
    "start_time": "2022-12-08T08:17:35.870Z"
   }
  ],
  "kernelspec": {
   "display_name": "Python 3 (ipykernel)",
   "language": "python",
   "name": "python3"
  },
  "language_info": {
   "codemirror_mode": {
    "name": "ipython",
    "version": 3
   },
   "file_extension": ".py",
   "mimetype": "text/x-python",
   "name": "python",
   "nbconvert_exporter": "python",
   "pygments_lexer": "ipython3",
   "version": "3.9.5"
  },
  "toc": {
   "base_numbering": 1,
   "nav_menu": {},
   "number_sections": true,
   "sideBar": true,
   "skip_h1_title": true,
   "title_cell": "Table of Contents",
   "title_sidebar": "Contents",
   "toc_cell": false,
   "toc_position": {},
   "toc_section_display": true,
   "toc_window_display": true
  }
 },
 "nbformat": 4,
 "nbformat_minor": 2
}
